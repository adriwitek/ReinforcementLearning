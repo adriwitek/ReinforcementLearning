{
  "nbformat": 4,
  "nbformat_minor": 0,
  "metadata": {
    "colab": {
      "name": "Copy of GridWorld2.ipynb",
      "provenance": [],
      "collapsed_sections": [],
      "toc_visible": true
    },
    "kernelspec": {
      "name": "python3",
      "display_name": "Python 3"
    },
    "language_info": {
      "name": "python"
    }
  },
  "cells": [
    {
      "cell_type": "markdown",
      "source": [
        "#**AUTORES**: \n",
        "### **Carlos Ramos Mateos**\n",
        "### **Adrián Rubio Pintado**"
      ],
      "metadata": {
        "id": "oVzlCMkdUXGy"
      }
    },
    {
      "cell_type": "markdown",
      "metadata": {
        "id": "C3PbFgd6CpS1"
      },
      "source": [
        "# GridWorld 2:\n",
        "\n",
        "*GridWorld* es un mundo en forma de cuadrícula muy utilizado como entorno de pruebas para técnicas de Aprendizaje por Refuerzo. Dentro de esta cuadrícula hay varios tipos de celdas: iniciales, libres, obstáculos, terminales... ¡y ahora también agujeros de gusano! Los agentes tienen que llegar desde una celda inicial hasta otra terminal evitando los obtáculos y recorriendo una distancia mínima."
      ]
    },
    {
      "cell_type": "markdown",
      "metadata": {
        "id": "nLz6HYMXCyID"
      },
      "source": [
        "Paquetes necesarios para *GridWorld 2*:"
      ]
    },
    {
      "cell_type": "code",
      "metadata": {
        "id": "aet9gV2KCe2q"
      },
      "source": [
        "import numpy as np\n",
        "import math"
      ],
      "execution_count": 1,
      "outputs": []
    },
    {
      "cell_type": "markdown",
      "metadata": {
        "id": "r4fsv0HwszqX"
      },
      "source": [
        "Funciones auxiliares para visualizar información:"
      ]
    },
    {
      "cell_type": "code",
      "metadata": {
        "id": "awRXzniVs5pj"
      },
      "source": [
        "def printMap(world):\n",
        "  # Visualiza el mapa de GridWorld\n",
        "  m = \"[\"\n",
        "  for i in range(world.size[0]):\n",
        "    for j in range(world.size[1]):\n",
        "      if world.map[(i, j)] == 0: \n",
        "        m += \" O \"\n",
        "      elif world.map[(i, j)] == -1:\n",
        "        m += \" X \" \n",
        "      elif world.map[(i, j)] == 1:\n",
        "        m += \" F \"\n",
        "      elif world.map[(i, j)] == 2:\n",
        "        m += \" T \"\n",
        "    if i == world.size[0] - 1:\n",
        "      m += \"]\\n\"\n",
        "    else:\n",
        "      m += \"\\n\"\n",
        "  print(m)\n",
        "\n",
        "def printPolicy(world, policy):\n",
        "  # Visualiza la política con flechas\n",
        "  p = \"[\"\n",
        "  for i in range(world.size[0]):\n",
        "    for j in range(world.size[1]):\n",
        "      if policy[i][j] == 0:\n",
        "        p += \" ^ \"\n",
        "      elif policy[i][j] == 1:\n",
        "        p += \" V \"\n",
        "      elif policy[i][j] == 2:\n",
        "        p += \" < \"\n",
        "      else:\n",
        "        p += \" > \"\n",
        "    if i == world.size[0] - 1:\n",
        "      p += \"]\\n\" \n",
        "    else:\n",
        "      p += \"\\n\"\n",
        "  print(p)"
      ],
      "execution_count": 2,
      "outputs": []
    },
    {
      "cell_type": "markdown",
      "metadata": {
        "id": "ELyNLQplC-W0"
      },
      "source": [
        "# Clase *World*: \n",
        "\n",
        "Esta clase almacena la información del mundo:\n",
        "\n",
        "*   *Map*: Matriz con la codificación del mundo con celdas libres (0), obstáculos (-1) y terminales (1)\n",
        "*   *Size*: Vector con el tamaño de la matriz de codificación del mundo (ancho, alto)\n",
        "\n",
        "Para crear un mundo hay que aportar los siguientes datos:\n",
        "\n",
        "*   Tamaño del mapa (ancho, alto)\n",
        "*   Lista de celdas terminales\n",
        "*   Lista de celdas con obstáculos\n",
        "*   Agujero de gusano\n",
        "\n",
        "Notas:\n",
        "\n",
        "* Cuando el agente cae en un obstáculo se queda atrapado para siempre en él\n",
        "* Cuando el agente entra por un extremo del agujero de gusano sale por el otro extremo\n",
        "\n",
        "Por ejemplo: \n",
        "\n",
        "w = World((10, 10), [(9, 9)], [(2, 4), (4, 2)], [(0, 2), (9, 7)])\n",
        "\n",
        "Crea un mundo de 10 filas y 10 columnas con un estado terminal (9, 9), dos obstáculos en (2, 4) y (4, 2) y un teletransporte entre (0, 2) y (9, 7).\n",
        "\n",
        "![map2.png](data:image/png;base64,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)"
      ]
    },
    {
      "cell_type": "code",
      "metadata": {
        "id": "v7iQbNj6C9MC"
      },
      "source": [
        "class World:\n",
        "\n",
        "  def __init__(self, size, terminal, obstacle, hole):\n",
        "    # Crea un mundo\n",
        "    self.size = size\n",
        "    self.map = {}\n",
        "    for i in range(size[0]):\n",
        "      for j in range(size[1]):\n",
        "        # Estados libres\n",
        "        self.map[(i, j)] = 0\n",
        "        # Estados terminales\n",
        "        for t in terminal:\n",
        "          if i==t[0] and j==t[1]:\n",
        "            self.map[(i, j)] = 1\n",
        "        # Estados con obstáculos\n",
        "        for o in obstacle:\n",
        "          if i==o[0] and j==o[1]:\n",
        "            self.map[(i, j)] = -1\n",
        "        for h in hole:\n",
        "          if i==h[0] and j==h[1]:\n",
        "            self.map[(i, j)] = 2"
      ],
      "execution_count": 3,
      "outputs": []
    },
    {
      "cell_type": "markdown",
      "metadata": {
        "id": "ZTrYC15IHy3s"
      },
      "source": [
        "Prueba de la clase *World*:"
      ]
    },
    {
      "cell_type": "code",
      "metadata": {
        "colab": {
          "base_uri": "https://localhost:8080/"
        },
        "id": "kgBnrzsQHS8R",
        "outputId": "ea925d45-18de-4a0b-d059-c9c103fdc507"
      },
      "source": [
        "if __name__ == \"__main__\":\n",
        "  w = World((10, 10), [(9, 9)], [(2, 4), (4, 2)], [(0, 2), (9, 7)])\n",
        "  printMap(w)"
      ],
      "execution_count": 4,
      "outputs": [
        {
          "output_type": "stream",
          "name": "stdout",
          "text": [
            "[ O  O  T  O  O  O  O  O  O  O \n",
            " O  O  O  O  O  O  O  O  O  O \n",
            " O  O  O  O  X  O  O  O  O  O \n",
            " O  O  O  O  O  O  O  O  O  O \n",
            " O  O  X  O  O  O  O  O  O  O \n",
            " O  O  O  O  O  O  O  O  O  O \n",
            " O  O  O  O  O  O  O  O  O  O \n",
            " O  O  O  O  O  O  O  O  O  O \n",
            " O  O  O  O  O  O  O  O  O  O \n",
            " O  O  O  O  O  O  O  T  O  F ]\n",
            "\n"
          ]
        }
      ]
    },
    {
      "cell_type": "markdown",
      "metadata": {
        "id": "4yw3UEuAI6Cv"
      },
      "source": [
        "# Clase *Agent*:\n",
        "\n",
        "Esta clase controla el agente que aprende por refuerzo en *GridWorld*. \n",
        "\n",
        "Para crear un agente se necesitan los siguientes datos:\n",
        "\n",
        "*   *World*: Mundo en el que se desenvuelve el agente.\n",
        "*   *Initial State*: Estado inicial del agente.\n",
        "\n",
        "Para controlar el agente se usan los siguientes métodos:\n",
        "\n",
        "*   *nextState = move(state, action)*: Mueve el agente del estado *state* a un nuevo estado *nextState* aplicando una acción *action*.\n",
        "*   *reward = reward(nextState)*: Devuelve el refuerzo *reward* que recibe el agente al transicionar al estado *nextState*.\n",
        "*   *nextState, reward = checkAction(state, action)*: Comprueba a qué estado *nextState* y con qué refuerzo *reward* cambia el agente al aplicar la acción *action* en el estado *state*. Este método no cambia el estado interno del agente, por lo que puede usarse para hacer barridos del espacio de estados.\n",
        "*   *nextState, reward = executeAction(action)*: Ejecuta la acción *action* en el estado actual y devuelve el nuevo estado *nextState* y el refuerzo *reward*. Este método cambia el estado interno del agente, por lo que sólo debe usarse cuando se realice un recorrido por el mundo.\n",
        "\n",
        "Nota: Podéis hacer cambios en el agente (distribución de refuerzos, comportamiento en obstáculos...) buscando mejorar el rendimiento de los algoritmos. "
      ]
    },
    {
      "cell_type": "markdown",
      "source": [
        "Cambiamos el valor de los refuerzos,**añadiendo refuerzo al salirse del mapa, editando el código del agente para ello.**"
      ],
      "metadata": {
        "id": "mbmA9H4KRZQ-"
      }
    },
    {
      "cell_type": "code",
      "source": [
        "import sys\n",
        "\n",
        "#FLAGS\n",
        "REWARD_OBSTACLE = -100\n",
        "REWARD_TERMINAL = sys.maxsize\n",
        "REWARD_NEWCELL = -1\n",
        "REWARD_OUTOFMAP = -15"
      ],
      "metadata": {
        "id": "5-Ga7371DjK1"
      },
      "execution_count": 11,
      "outputs": []
    },
    {
      "cell_type": "markdown",
      "source": [
        "Observamos que con refuerzos negativos cada vez que avanza una celda obtenemos mejores resultados:convergen antes los algoritmos en menos épocas. Además hemos añadido una recompensa negativa si intenta salirse del mapa, que de nuevo, facilita la convergencia también.\n",
        "\n",
        "El reward negativo para los obstáculos lo situamos a un valor tan alto, ya que dado que el agente se queda atrapado en ellos una vez ha caído en ellos, debemos penalizar mucho este comportamiento para que evite los obstáculos a toda costa.\n",
        "\n",
        "El reward del estado terminal lo hemos puesto a un número muy grande, debido a que en función de la longtud necesaria para resolver laberintos grandes, este refuerzo positivo atraiga de una manera muy fuerte al agente."
      ],
      "metadata": {
        "id": "fyREqjunMKZW"
      }
    },
    {
      "cell_type": "code",
      "metadata": {
        "id": "2as_2oTqH61U"
      },
      "source": [
        "from numpy.lib.type_check import real\n",
        "class Agent:\n",
        "\n",
        "  def __init__(self, world, initialState):\n",
        "    # Crea un agente\n",
        "    self.world = world\n",
        "    self.state = np.array(initialState)\n",
        "    \n",
        "  def set_initialState(self,initialState):\n",
        "    self.state = np.array(initialState)\n",
        "\n",
        "  def move(self, state, action):\n",
        "    # Gestiona las transiciones de estados\n",
        "    nextState = state + np.array(action)\n",
        "    if nextState[0] < 0:\n",
        "      nextState[0] = 0\n",
        "    elif nextState[0] >= self.world.size[0]:\n",
        "      nextState[0] = self.world.size[0] - 1\n",
        "    if nextState[1] < 0:\n",
        "      nextState[1] = 0\n",
        "    elif nextState[1] >= self.world.size[1]:\n",
        "      nextState[1] = self.world.size[1] - 1\n",
        "    if self.world.map[(nextState[0], nextState[1])] == 2:\n",
        "      aux = nextState\n",
        "      for i in range(self.world.size[0]):\n",
        "        for j in range(self.world.size[1]):\n",
        "          if self.world.map[(i, j)] == 2 and (nextState[0] != i and nextState[1] != j):\n",
        "            aux = np.array([i, j])\n",
        "            nextState = aux\n",
        "    return nextState\n",
        "\n",
        "  def reward(self, nextState):\n",
        "    # Gestiona los refuerzos\n",
        "    if self.world.map[(nextState[0], nextState[1])] == -1:\n",
        "      # Refuerzo cuando el agente intenta moverse a un obstáculo\n",
        "      reward = REWARD_OBSTACLE # ** Prueba varios valores **\n",
        "    elif self.world.map[(nextState[0], nextState[1])] == 1:\n",
        "      # Refuerzo cuando el agente se mueve a una celda terminal\n",
        "      reward = REWARD_TERMINAL # ** Prueba varios valores **\n",
        "    else:\n",
        "      # Refuerzo cuando el agente se mueve a una celda libre\n",
        "      reward = REWARD_NEWCELL # ** Prueba varios valores ** \n",
        "    return reward\n",
        "\n",
        "  def move_and_reward(self, state, action):\n",
        "\n",
        "\n",
        "    #Estoy en un  Obstaculo      \n",
        "    if self.world.map[(self.state[0], self.state[1])] == -1: \n",
        "      nextState = self.state     \n",
        "      reward = REWARD_OBSTACLE\n",
        "      return nextState,reward\n",
        "\n",
        "\n",
        "    # Gestiona las transiciones de estados\n",
        "    nextState = state + np.array(action)\n",
        "    reward = np.nan\n",
        "\n",
        "    #Fuera del mapa\n",
        "    if nextState[0] < 0:\n",
        "      nextState[0] = 0\n",
        "      reward = REWARD_OUTOFMAP\n",
        "    elif nextState[0] >= self.world.size[0]:\n",
        "      nextState[0] = self.world.size[0] - 1\n",
        "      reward = REWARD_OUTOFMAP\n",
        "\n",
        "    if nextState[1] < 0:\n",
        "      nextState[1] = 0\n",
        "      reward = REWARD_OUTOFMAP\n",
        "    elif nextState[1] >= self.world.size[1]:\n",
        "      nextState[1] = self.world.size[1] - 1\n",
        "      reward = REWARD_OUTOFMAP\n",
        "\n",
        "    #Agujero de gusano\n",
        "    if self.world.map[(nextState[0], nextState[1])] == 2:\n",
        "      aux = nextState\n",
        "      for i in range(self.world.size[0]):\n",
        "        for j in range(self.world.size[1]):\n",
        "          if self.world.map[(i, j)] == 2 and (nextState[0] != i and nextState[1] != j):\n",
        "            aux = np.array([i, j])\n",
        "            nextState = aux\n",
        "\n",
        "  \n",
        "\n",
        "\n",
        "    if(np.isnan(reward) ):\n",
        "      reward = self.reward(nextState)\n",
        "\n",
        "    return nextState,reward\n",
        "\n",
        "  def checkAction(self, state, action):\n",
        "    # Planifica una acción\n",
        "    nextState = self.move(state, action)\n",
        "    if self.world.map[(state[0], state[1])] == -1: \n",
        "      nextState = state                            \n",
        "    reward = self.reward(nextState)\n",
        "    return nextState, reward\n",
        "\n",
        "  def executeAction(self, action):\n",
        "    # Planifica y ejecuta una acción\n",
        "    #nextState = self.move(self.state, action)\n",
        "    nextState,reward = self.move_and_reward(self.state, action)\n",
        "    self.state = nextState \n",
        "    #reward = self.reward(nextState)\n",
        "    return self.state, reward  "
      ],
      "execution_count": 6,
      "outputs": []
    },
    {
      "cell_type": "markdown",
      "metadata": {
        "id": "MIpqVYBwMid7"
      },
      "source": [
        "Prueba de la clase *Agent*:"
      ]
    },
    {
      "cell_type": "code",
      "metadata": {
        "colab": {
          "base_uri": "https://localhost:8080/"
        },
        "id": "UG2bfPrfJFg4",
        "outputId": "7aeaffc1-82f0-42c8-b150-d3b6ba2845f5"
      },
      "source": [
        "if __name__ == \"__main__\":\n",
        "  # Crear el mundo\n",
        "  w = World((10, 10), [(9, 9)], [(2, 4), (4, 2)], [(0, 2), (9, 7)])\n",
        "  printMap(w)\n",
        "  # Crear el agente\n",
        "  a = Agent(w, (0, 0))\n",
        "  # Mover el agente en la diagonal principal\n",
        "  for i in range(1, 5):\n",
        "    # Mostrar cada nuevo estado y su recompensa\n",
        "    print(a.executeAction((0, 1)))"
      ],
      "execution_count": 7,
      "outputs": [
        {
          "output_type": "stream",
          "name": "stdout",
          "text": [
            "[ O  O  T  O  O  O  O  O  O  O \n",
            " O  O  O  O  O  O  O  O  O  O \n",
            " O  O  O  O  X  O  O  O  O  O \n",
            " O  O  O  O  O  O  O  O  O  O \n",
            " O  O  X  O  O  O  O  O  O  O \n",
            " O  O  O  O  O  O  O  O  O  O \n",
            " O  O  O  O  O  O  O  O  O  O \n",
            " O  O  O  O  O  O  O  O  O  O \n",
            " O  O  O  O  O  O  O  O  O  O \n",
            " O  O  O  O  O  O  O  T  O  F ]\n",
            "\n",
            "(array([0, 1]), 0)\n",
            "(array([9, 7]), 0)\n",
            "(array([9, 8]), 0)\n",
            "(array([9, 9]), 9223372036854775807)\n"
          ]
        }
      ]
    },
    {
      "cell_type": "markdown",
      "metadata": {
        "id": "q9whMl4OxJI-"
      },
      "source": [
        "# Trabajo:\n",
        "\n",
        "En este trabajo vais a implementar los dos algoritmos más comunes de aprendizaje por refuerzo basados en el valor: SARSA y QLearning. Además, vais a probar ambos algoritmos en una serie de escenarios para evaluar su funcionamiento y comparar sus resultados.\n",
        "\n",
        "## Mundos: \n",
        "\n",
        "Para probar los algoritmos se ofrecen los siguientes mundos en varios tamaños:\n",
        "\n",
        "*   Mundo 1: Laberinto fácil que se puede recorrer en zigzag\n",
        "*   Mundo 2: Mundo con obstáculos aleatorios en el que el teletransporte acorta la distancia desde el inicio hasta el final\n",
        "*   Mundo 3: Mundo con obstáculos aleatorios en el que el teletransporte no reduce la distancia desde el inicio hasta el final\n",
        "*   Mundo 4: Laberinto difícil con caminos correctos y equivocados\n",
        "\n",
        "Nota: Sentíos libres de utilizar todos o algunos de estos escenarios o directamente crear vuestros propios escenarios."
      ]
    },
    {
      "cell_type": "code",
      "metadata": {
        "id": "3f9kCBErMweC",
        "colab": {
          "base_uri": "https://localhost:8080/"
        },
        "outputId": "b7bd7a74-fd95-4221-8497-e10706bf8432"
      },
      "source": [
        "if __name__ == \"__main__\":\n",
        "  \n",
        "  # Mundo 1 pequeño: Laberinto fácil\n",
        "  obstacles = []\n",
        "  for j in range(0, 4):\n",
        "    obstacles.append((j, 1))\n",
        "  for j in range(1, 5):\n",
        "    obstacles.append((j, 3))\n",
        "  w1p = World((5, 5), [(4, 4)], obstacles, [])\n",
        "  print(\"World 1: \")\n",
        "  printMap(w1p)\n",
        "\n",
        "  # Mundo 1 mediano: Laberinto fácil\n",
        "  obstacles = []\n",
        "  for i in [1, 5]:\n",
        "    for j in range(0, 8):\n",
        "      obstacles.append((j, i))\n",
        "  for i in [3, 7]:\n",
        "    for j in range(1, 9):\n",
        "      obstacles.append((j, i))\n",
        "  w1m = World((9, 9), [(8, 8)], obstacles, [])\n",
        "  print(\"World 1: \")\n",
        "  printMap(w1m)\n",
        "\n",
        "  # Mundo 1 grande: Laberinto fácil\n",
        "  obstacles = []\n",
        "  for i in [1, 5, 9, 13, 17]:\n",
        "    for j in range(0, 20):\n",
        "      obstacles.append((j, i))\n",
        "  for i in [3, 7, 11, 15, 19]:\n",
        "    for j in range(1, 21):\n",
        "      obstacles.append((j, i))\n",
        "  w1g = World((21, 21), [(20, 20)], obstacles, [])\n",
        "  print(\"World 1: \")\n",
        "  printMap(w1g)\n",
        "\n",
        "  # Mundo 2 pequeño: Obstáculos aleatorios, teletransporte útil\n",
        "  obstacles = []\n",
        "  for i in range(3):\n",
        "    obstacles.append((np.random.randint(1, 4), np.random.randint(1, 4)))  \n",
        "  w2p = World((5, 5), [(4, 4)], obstacles, [(2, 0), (4, 2)])\n",
        "  print(\"World 2: \")\n",
        "  printMap(w2p)\n",
        "\n",
        "  # Mundo 2 mediano: Obstáculos aleatorios, teletransporte útil\n",
        "  obstacles = []\n",
        "  for i in range(10):\n",
        "    obstacles.append((np.random.randint(1, 9), np.random.randint(1, 9)))  \n",
        "  w2m = World((10, 10), [(9, 9)], obstacles, [(3, 1), (8, 6)])\n",
        "  print(\"World 2: \")\n",
        "  printMap(w2m)\n",
        "\n",
        "  # Mundo 2 grande: Obstáculos aleatorios, teletransporte útil\n",
        "  obstacles = []\n",
        "  for i in range(50):\n",
        "    obstacles.append((np.random.randint(1, 19), np.random.randint(1, 19)))  \n",
        "  w2g = World((21, 21), [(20, 20)], obstacles, [(6, 2), (18, 14)])\n",
        "  print(\"World 2: \")\n",
        "  printMap(w2g)\n",
        "\n",
        "  # Mundo 3 pequeño: Obstáculos aleatorios, teletransporte inútil\n",
        "  obstacles = []\n",
        "  for i in range(3):\n",
        "    obstacles.append((np.random.randint(1, 4), np.random.randint(1, 4)))  \n",
        "  w3p = World((5, 5), [(4, 4)], obstacles, [(4, 0), (0, 4)])\n",
        "  print(\"World 3: \")\n",
        "  printMap(w3p)\n",
        "\n",
        "  # Mundo 3 mediano: Obstáculos aleatorios, teletransporte inútil\n",
        "  obstacles = []\n",
        "  for i in range(10):\n",
        "    obstacles.append((np.random.randint(1, 9), np.random.randint(1, 9)))  \n",
        "  w3m = World((10, 10), [(9, 9)], obstacles, [(8, 1), (1, 8)])\n",
        "  print(\"World 3: \")\n",
        "  printMap(w3m)\n",
        "\n",
        "  # Mundo 3 grande: Obstáculos aleatorios, teletransporte inútil\n",
        "  obstacles = []\n",
        "  for i in range(50):\n",
        "    obstacles.append((np.random.randint(1, 19), np.random.randint(1, 19)))  \n",
        "  w3g = World((21, 21), [(20, 20)], obstacles, [(18, 2), (2, 18)])\n",
        "  print(\"World 3: \")\n",
        "  printMap(w3g)\n",
        "\n",
        "  # Mundo 4: Laberinto difícil\n",
        "  obstacles = [(0,1),(0,3),(0,9),(0,15),(0,16),(0,17),(0,19),\n",
        "               (1,1),(1,3),(1,4),(1,5),(1,6),(1,7),(1,9),(1,10),(1,11),(1,12),(1,13),(1,17),(1,19),\n",
        "               (2,1),(2,9),(2,13),(2,15),(2,16),(2,17),(2,19),\n",
        "               (3,1),(3,3),(3,5),(3,7),(3,9),(3,11),(3,16),(3,19),\n",
        "               (4,3),(4,5),(4,7),(4,8),(4,9),(4,10),(4,11),(4,12),(4,13),(4,14),(4,16),(4,18),(4,19),\n",
        "               (5,0),(5,1),(5,2),(5,3),(5,5),(5,9),(5,16),\n",
        "               (6,5),(6,6),(6,7),(6,9),(6,10),(6,11),(6,12),(6,13),(6,14),(6,16),(6,17),(6,19),\n",
        "               (7,0),(7,1),(7,2),(7,3),(7,5),(7,7),(7,9),(7,19),\n",
        "               (8,3),(8,7),(8,8),(8,9),(8,12),(8,13),(8,14),(8,15),(8,16),(8,17),(8,18),(8,19),\n",
        "               (9,1),(9,3),(9,5),(9,7),(9,11),(9,12),(9,19),(9,20),\n",
        "               (10,1),(10,3),(10,5),(10,6),(10,7),(10,9),(10,11),(10,14),(10,15),(10,16),(10,17),\n",
        "               (11,1),(11,3),(11,5),(11,9),(11,11),(11,13),(11,14),(11,17),(11,18),(11,19),\n",
        "               (12,1),(12,5),(12,6),(12,8),(12,9),(12,11),(12,13),(12,19),\n",
        "               (13,1),(13,2),(13,3),(13,4),(13,5),(13,8),(13,15),(13,16),(13,17),(13,19),\n",
        "               (14,4),(14,7),(14,8),(14,10),(14,12),(14,13),(14,15),(14,19),\n",
        "               (15,0),(15,1),(15,2),(15,6),(15,7),(15,10),(15,13),(15,14),(15,15),(15,17),(15,18),(15,19),(15,20),\n",
        "               (16,2),(16,3),(16,5),(16,6),(16,7),(16,8),(16,9),(16,10),(16,11),(16,15),(16,17),\n",
        "               (17,0),(17,3),(17,5),(17,9),(17,13),(17,14),(17,15),(17,17),(17,19),\n",
        "               (18,0),(18,1),(18,5),(18,6),(18,7),(18,9),(18,10),(18,11),(18,15),(18,19),\n",
        "               (19,1),(19,2),(19,4),(19,5),(19,11),(19,13),(19,14),(19,15),(19,16),(19,17),(19,18),(19,19),\n",
        "               (20,7),(20,8),(20,9),(20,11),(20,19)]          \n",
        "  print(\"World 4: \")\n",
        "  w4 = World((21, 21), [(20, 20)], obstacles, [])\n",
        "  printMap(w4)"
      ],
      "execution_count": 8,
      "outputs": [
        {
          "output_type": "stream",
          "name": "stdout",
          "text": [
            "World 1: \n",
            "[ O  X  O  O  O \n",
            " O  X  O  X  O \n",
            " O  X  O  X  O \n",
            " O  X  O  X  O \n",
            " O  O  O  X  F ]\n",
            "\n",
            "World 1: \n",
            "[ O  X  O  O  O  X  O  O  O \n",
            " O  X  O  X  O  X  O  X  O \n",
            " O  X  O  X  O  X  O  X  O \n",
            " O  X  O  X  O  X  O  X  O \n",
            " O  X  O  X  O  X  O  X  O \n",
            " O  X  O  X  O  X  O  X  O \n",
            " O  X  O  X  O  X  O  X  O \n",
            " O  X  O  X  O  X  O  X  O \n",
            " O  O  O  X  O  O  O  X  F ]\n",
            "\n",
            "World 1: \n",
            "[ O  X  O  O  O  X  O  O  O  X  O  O  O  X  O  O  O  X  O  O  O \n",
            " O  X  O  X  O  X  O  X  O  X  O  X  O  X  O  X  O  X  O  X  O \n",
            " O  X  O  X  O  X  O  X  O  X  O  X  O  X  O  X  O  X  O  X  O \n",
            " O  X  O  X  O  X  O  X  O  X  O  X  O  X  O  X  O  X  O  X  O \n",
            " O  X  O  X  O  X  O  X  O  X  O  X  O  X  O  X  O  X  O  X  O \n",
            " O  X  O  X  O  X  O  X  O  X  O  X  O  X  O  X  O  X  O  X  O \n",
            " O  X  O  X  O  X  O  X  O  X  O  X  O  X  O  X  O  X  O  X  O \n",
            " O  X  O  X  O  X  O  X  O  X  O  X  O  X  O  X  O  X  O  X  O \n",
            " O  X  O  X  O  X  O  X  O  X  O  X  O  X  O  X  O  X  O  X  O \n",
            " O  X  O  X  O  X  O  X  O  X  O  X  O  X  O  X  O  X  O  X  O \n",
            " O  X  O  X  O  X  O  X  O  X  O  X  O  X  O  X  O  X  O  X  O \n",
            " O  X  O  X  O  X  O  X  O  X  O  X  O  X  O  X  O  X  O  X  O \n",
            " O  X  O  X  O  X  O  X  O  X  O  X  O  X  O  X  O  X  O  X  O \n",
            " O  X  O  X  O  X  O  X  O  X  O  X  O  X  O  X  O  X  O  X  O \n",
            " O  X  O  X  O  X  O  X  O  X  O  X  O  X  O  X  O  X  O  X  O \n",
            " O  X  O  X  O  X  O  X  O  X  O  X  O  X  O  X  O  X  O  X  O \n",
            " O  X  O  X  O  X  O  X  O  X  O  X  O  X  O  X  O  X  O  X  O \n",
            " O  X  O  X  O  X  O  X  O  X  O  X  O  X  O  X  O  X  O  X  O \n",
            " O  X  O  X  O  X  O  X  O  X  O  X  O  X  O  X  O  X  O  X  O \n",
            " O  X  O  X  O  X  O  X  O  X  O  X  O  X  O  X  O  X  O  X  O \n",
            " O  O  O  X  O  O  O  X  O  O  O  X  O  O  O  X  O  O  O  X  F ]\n",
            "\n",
            "World 2: \n",
            "[ O  O  O  O  O \n",
            " O  O  X  X  O \n",
            " T  O  O  O  O \n",
            " O  X  O  O  O \n",
            " O  O  T  O  F ]\n",
            "\n",
            "World 2: \n",
            "[ O  O  O  O  O  O  O  O  O  O \n",
            " O  O  O  O  O  O  O  O  O  O \n",
            " O  O  X  O  O  O  O  O  O  O \n",
            " O  T  X  O  O  O  O  O  O  O \n",
            " O  O  O  O  O  O  X  O  O  O \n",
            " O  X  X  O  O  O  O  O  O  O \n",
            " O  O  O  O  O  O  X  O  O  O \n",
            " O  O  O  O  O  X  O  X  O  O \n",
            " O  O  O  O  O  O  T  O  X  O \n",
            " O  O  O  O  O  O  O  O  O  F ]\n",
            "\n",
            "World 2: \n",
            "[ O  O  O  O  O  O  O  O  O  O  O  O  O  O  O  O  O  O  O  O  O \n",
            " O  O  O  O  O  O  O  O  O  O  O  X  O  O  O  O  O  O  O  O  O \n",
            " O  O  X  X  O  O  O  X  X  O  O  O  X  O  O  O  O  O  O  O  O \n",
            " O  O  O  X  O  O  O  X  O  O  O  X  O  O  O  O  O  O  O  O  O \n",
            " O  O  X  X  O  O  O  O  O  O  O  O  O  O  O  O  O  O  X  O  O \n",
            " O  O  X  O  O  O  O  O  O  O  O  O  O  O  O  O  O  O  O  O  O \n",
            " O  X  T  O  O  O  X  O  O  O  O  O  O  O  O  O  O  O  X  O  O \n",
            " O  O  O  O  O  O  O  O  O  O  O  O  O  X  O  O  O  O  O  O  O \n",
            " O  O  O  O  O  O  O  X  O  O  O  O  O  O  O  O  X  X  O  O  O \n",
            " O  O  X  O  O  X  O  O  X  O  X  O  O  O  O  O  O  O  O  O  O \n",
            " O  O  O  O  O  O  O  O  O  X  O  O  O  O  O  O  O  O  O  O  O \n",
            " O  O  O  X  O  O  O  O  O  O  O  O  O  O  O  O  O  O  O  O  O \n",
            " O  O  O  O  O  O  O  O  X  O  O  O  O  O  O  O  O  O  O  O  O \n",
            " O  O  O  O  X  O  O  O  O  O  X  O  O  O  O  O  O  X  O  O  O \n",
            " O  O  X  O  O  O  O  O  O  O  X  O  O  O  O  O  O  O  O  O  O \n",
            " O  O  X  O  O  X  O  O  O  X  O  O  X  O  X  O  O  O  O  O  O \n",
            " O  O  O  O  O  O  O  O  O  O  O  X  X  X  O  O  X  X  O  O  O \n",
            " O  O  O  O  O  O  X  X  X  O  O  X  O  O  O  O  O  O  O  O  O \n",
            " O  X  O  O  O  O  O  X  O  O  O  O  X  O  T  O  O  O  O  O  O \n",
            " O  O  O  O  O  O  O  O  O  O  O  O  O  O  O  O  O  O  O  O  O \n",
            " O  O  O  O  O  O  O  O  O  O  O  O  O  O  O  O  O  O  O  O  F ]\n",
            "\n",
            "World 3: \n",
            "[ O  O  O  O  T \n",
            " O  X  X  O  O \n",
            " O  O  O  O  O \n",
            " O  X  O  O  O \n",
            " T  O  O  O  F ]\n",
            "\n",
            "World 3: \n",
            "[ O  O  O  O  O  O  O  O  O  O \n",
            " O  O  O  X  O  O  O  O  T  O \n",
            " O  X  O  O  O  O  O  O  O  O \n",
            " O  O  O  O  O  X  O  O  X  O \n",
            " O  O  O  X  O  O  O  O  O  O \n",
            " O  O  O  O  O  O  O  O  O  O \n",
            " O  X  O  O  O  O  O  O  O  O \n",
            " O  O  O  O  X  O  O  O  O  O \n",
            " O  T  O  O  X  O  X  O  X  O \n",
            " O  O  O  O  O  O  O  O  O  F ]\n",
            "\n",
            "World 3: \n",
            "[ O  O  O  O  O  O  O  O  O  O  O  O  O  O  O  O  O  O  O  O  O \n",
            " O  O  O  O  O  O  O  O  O  O  O  O  O  O  O  O  O  X  O  O  O \n",
            " O  O  X  O  O  X  O  O  X  O  X  O  O  O  O  O  O  O  T  O  O \n",
            " O  O  O  O  O  X  O  O  O  O  O  O  O  O  O  O  O  O  O  O  O \n",
            " O  O  O  O  O  X  O  O  O  O  O  O  X  O  O  O  O  O  O  O  O \n",
            " O  O  X  O  O  X  O  O  O  O  O  O  O  O  O  O  X  O  O  O  O \n",
            " O  O  O  O  O  O  O  O  O  O  X  O  O  O  O  O  O  O  O  O  O \n",
            " O  O  O  O  O  O  O  X  X  X  O  O  O  X  O  O  O  O  O  O  O \n",
            " O  O  O  O  O  O  X  O  O  O  O  O  O  O  O  O  O  O  O  O  O \n",
            " O  O  O  X  O  O  O  O  O  O  O  O  O  O  O  O  O  O  O  O  O \n",
            " O  O  O  O  O  O  X  O  O  O  O  O  O  O  O  O  O  O  O  O  O \n",
            " O  O  X  O  O  X  O  O  O  O  O  O  O  O  O  O  O  O  X  O  O \n",
            " O  O  O  O  X  O  O  O  O  O  O  O  O  O  O  O  X  O  X  O  O \n",
            " O  O  O  O  O  O  O  O  X  O  O  O  O  O  O  X  O  O  O  O  O \n",
            " O  X  O  O  O  O  O  O  X  O  O  O  O  O  X  O  O  O  O  O  O \n",
            " O  O  O  O  O  O  O  O  O  O  O  X  X  O  O  O  O  O  O  O  O \n",
            " O  O  O  O  O  O  O  O  X  X  X  O  X  O  O  X  O  O  X  O  O \n",
            " O  O  X  O  X  X  O  O  O  O  O  O  O  O  O  X  X  O  O  O  O \n",
            " O  O  T  O  O  X  O  O  X  O  O  X  O  O  O  O  O  O  O  O  O \n",
            " O  O  O  O  O  O  O  O  O  O  O  O  O  O  O  O  O  O  O  O  O \n",
            " O  O  O  O  O  O  O  O  O  O  O  O  O  O  O  O  O  O  O  O  F ]\n",
            "\n",
            "World 4: \n",
            "[ O  X  O  X  O  O  O  O  O  X  O  O  O  O  O  X  X  X  O  X  O \n",
            " O  X  O  X  X  X  X  X  O  X  X  X  X  X  O  O  O  X  O  X  O \n",
            " O  X  O  O  O  O  O  O  O  X  O  O  O  X  O  X  X  X  O  X  O \n",
            " O  X  O  X  O  X  O  X  O  X  O  X  O  O  O  O  X  O  O  X  O \n",
            " O  O  O  X  O  X  O  X  X  X  X  X  X  X  X  O  X  O  X  X  O \n",
            " X  X  X  X  O  X  O  O  O  X  O  O  O  O  O  O  X  O  O  O  O \n",
            " O  O  O  O  O  X  X  X  O  X  X  X  X  X  X  O  X  X  O  X  O \n",
            " X  X  X  X  O  X  O  X  O  X  O  O  O  O  O  O  O  O  O  X  O \n",
            " O  O  O  X  O  O  O  X  X  X  O  O  X  X  X  X  X  X  X  X  O \n",
            " O  X  O  X  O  X  O  X  O  O  O  X  X  O  O  O  O  O  O  X  X \n",
            " O  X  O  X  O  X  X  X  O  X  O  X  O  O  X  X  X  X  O  O  O \n",
            " O  X  O  X  O  X  O  O  O  X  O  X  O  X  X  O  O  X  X  X  O \n",
            " O  X  O  O  O  X  X  O  X  X  O  X  O  X  O  O  O  O  O  X  O \n",
            " O  X  X  X  X  X  O  O  X  O  O  O  O  O  O  X  X  X  O  X  O \n",
            " O  O  O  O  X  O  O  X  X  O  X  O  X  X  O  X  O  O  O  X  O \n",
            " X  X  X  O  O  O  X  X  O  O  X  O  O  X  X  X  O  X  X  X  X \n",
            " O  O  X  X  O  X  X  X  X  X  X  X  O  O  O  X  O  X  O  O  O \n",
            " X  O  O  X  O  X  O  O  O  X  O  O  O  X  X  X  O  X  O  X  O \n",
            " X  X  O  O  O  X  X  X  O  X  X  X  O  O  O  X  O  O  O  X  O \n",
            " O  X  X  O  X  X  O  O  O  O  O  X  O  X  X  X  X  X  X  X  O \n",
            " O  O  O  O  O  O  O  X  X  X  O  X  O  O  O  O  O  O  O  X  F ]\n",
            "\n"
          ]
        }
      ]
    },
    {
      "cell_type": "markdown",
      "metadata": {
        "id": "RBuT8CQk17QE"
      },
      "source": [
        "## SARSA:\n",
        "\n",
        "*SARSA* (State-Action-Reward-State-Action) es un método basado en el valor que permite resolver problemas de aprendizaje por refuerzo. Al igual que el resto de métodos basados en el valor, *SARSA* calcula de forma iterativa la función de valor $Q(S,A)$ y, a partir de ella, determina la política óptima $\\pi$.\n",
        "\n",
        "*SARSA* recibe su nombre de las cinco variables implicadas en su función de actualización: el estado actual ($S_t$), la acción actual ($A_t$), el refuerzo actual ($R_t$), el siguiente estado ($S_{t+1}$) y la siguiente acción ($A_{t+1}$). Esta función de actualización tiene la siguiente forma:\n",
        "\n",
        "\\begin{equation}\n",
        "Q(S_t,A_t) \\leftarrow Q(S_t,A_t) + \\alpha [R_t + \\gamma Q(S_{t+1}, A_{t+1}) - Q(S_t,A_t)]\n",
        "\\end{equation}\n",
        "\n",
        "Nota: $\\alpha$ es la longitud del episodio y $\\gamma$ el factor de descuento.\n",
        "\n",
        "El algoritmo *SARSA* sigue el siguiente esquema: \n",
        "\n",
        "1.   Inicializar $Q(S,A)$ para todos los estados y acciones \n",
        "2.   **Bucle** (repetir $3-9$ hasta la convergencia):\n",
        "3.   Inicializar $S_t$\n",
        "4.   Elegir $A_t$ en $S_t$ siguiendo la política derivada de $Q(S,A)$\n",
        "5.   **Bucle** (repetir $6-9$ hasta que $S_t$ sea terminal):\n",
        "6.   Tomar la acción $A_t$ en $S_t$ y observar $R_t$ y $S_{t+1}$\n",
        "7.   Elegir $A_{t+1}$ en $S_{t+1}$ siguiendo la política derivada de $Q(S,A)$\n",
        "8.   Actualizar el valor $Q(S_t, A_t)$ con la función de actualización\n",
        "9.   Tomar $S_{t+1}$ y $A_{t+1}$ como los nuevos $S_t$ y $A_t$\n",
        "\n",
        "El algoritmo *SARSA* utiliza un parámetro $\\epsilon \\in (0, 1)$ para buscar un equilibrio entre exploración y explotación. A la hora de elegir $A_t$ en $S_t$, si un número aleatorio es menor que $\\epsilon$, el algoritmo tomará una acción aleatoria; mientras que si ese número aleatorio es mayor que $\\epsilon$, el algoritmo tomará la mejor acción conocida.\n",
        "\n",
        "## Ejercicio 1:\n",
        "\n",
        "Implementad el algoritmo SARSA para el agente y entorno definidos anteriormente."
      ]
    },
    {
      "cell_type": "code",
      "source": [
        "ACTIONS = [(0,1), (0,-1) , (1,0), (-1,0)]\n",
        "DICCIONARIO = {(0,1):'Derecha' , (0,-1): 'Izquierda' , (1,0) :'Abajo', (-1,0):'Arriba'}"
      ],
      "metadata": {
        "id": "exIbYM3hGn7t"
      },
      "execution_count": 12,
      "outputs": []
    },
    {
      "cell_type": "code",
      "metadata": {
        "id": "HxIsgfPQLCjG"
      },
      "source": [
        "import random\n",
        "\n",
        "def choose_max_Q(S, Q):\n",
        "\n",
        "  \n",
        "  actions_S = [  ( A, Q[(S,A)]) for A in ACTIONS  ]\n",
        "  max_value = max(actions_S, key = lambda x: x[1])[1]\n",
        "  possible_actions = [A[0] for A in actions_S if A[1] == max_value]\n",
        "  return random.choice(possible_actions)\n",
        "\n",
        "\n",
        "def elige_accion(epsilon,Q, S):\n",
        "  rand_num = np.random.rand(1)[0]\n",
        "  if(rand_num <= epsilon):\n",
        "    return random.choice(ACTIONS)\n",
        "  else:   \n",
        "    return choose_max_Q(S, Q)\n",
        "\n",
        "def sarsa(agent,init_state = (0,0), alpha = 0.5,gamma = 0.9 , epsilon = 0.1 , max_iterations =10000, debug = False):\n",
        "\n",
        "  assert alpha >= 0 and alpha <= 1, 'Alpha debe de estar entre 0 y 1'\n",
        "  assert gamma >= 0 and gamma <= 1, 'Gamma debe de estar entre 0 y 1'\n",
        "\n",
        "  size = agent.world.size\n",
        "\n",
        "  #Incializando valores\n",
        "  Q = {}\n",
        "  for i in range(size[0]):\n",
        "    for j in range(size[1]):\n",
        "      Q.update(  { ((i,j),a):(0 if agent.world.map[(i,j)] == 1 else -1)  for a in ACTIONS})#estados terminales nulos, el resto arbitrario (a 1)\n",
        "      #Q.update(  { ((i,j),a):0. for a in ACTIONS})#estados terminales nulos\n",
        "\n",
        "\n",
        "  sum_rewards_per_episode = []\n",
        "  #Eleccion de acción de acuerdo a Q(S,A)\n",
        "  for i in range(max_iterations): #bucle convergencia\n",
        "    S = init_state\n",
        "    A = elige_accion(epsilon,Q, S)\n",
        "    agent.set_initialState(init_state)\n",
        "    if(debug): print('Iteración:', i+1)\n",
        "    sum_rewards_per_episode.append(0)\n",
        "    #counter_hole = 0\n",
        "    \n",
        "    while(agent.world.map[S] != 1): #S terminal\n",
        "      S_prima,R = agent.executeAction(A)\n",
        "      S_prima = (S_prima[0], S_prima[1])\n",
        "      A_prima = elige_accion(epsilon,Q, S_prima)\n",
        "      sum_rewards_per_episode[i] = sum_rewards_per_episode[i] + R\n",
        "      #Update model\n",
        "      Q[(S,A)] = Q[(S,A)] + alpha*( R + ( gamma*Q[(S_prima,A_prima)] ) - Q[(S,A)] )\n",
        "\n",
        "      # indica que ha caído en obstaculo, y no puede moverse más\n",
        "      if (agent.world.map[S_prima] == -1):\n",
        "        break\n",
        "       \n",
        "      S = S_prima\n",
        "      A = A_prima\n",
        "\n",
        "\n",
        "  return Q,sum_rewards_per_episode\n",
        "\n"
      ],
      "execution_count": 14,
      "outputs": []
    },
    {
      "cell_type": "markdown",
      "source": [
        "**Definimos una función para movernos:**\n",
        "\n",
        "Siguiendo las política basada en valores obtenida con SARSA/Q-Learning."
      ],
      "metadata": {
        "id": "ek8e0CtAzEmn"
      }
    },
    {
      "cell_type": "code",
      "source": [
        "\n",
        "def move_with_value_function(agent, Q, init_state = (0,0), verbosse = True, max_steps = 999999):\n",
        "  '''\n",
        "    Returns:\n",
        "      number of steps walked\n",
        "  '''\n",
        "\n",
        "  S = init_state\n",
        "  agent.set_initialState(S)\n",
        "\n",
        "  A = choose_max_Q(S, Q)\n",
        "  if(verbosse): print('Initial S:', S, '--(A:', A,DICCIONARIO[A],') -->')\n",
        "  #print('Init action', A)\n",
        "\n",
        "  # Mostrar cada nuevo estado y su recompensa\n",
        "  i = 0 \n",
        "  while(agent.world.map[S] != 1): #Hasta estado terminal, sigue moviendose\n",
        "    S, R =agent.executeAction(A)\n",
        "    S = (S[0], S[1])\n",
        "    A = choose_max_Q(S, Q)\n",
        "    if(verbosse): print('Now in S:',S, '--(A:', A,DICCIONARIO[A], ') -->')\n",
        "    if( agent.world.map[(S[0], S[1])] == -1):\n",
        "      print('\\tTRAPPED IN OBSTACLE!!!')\n",
        "      break;\n",
        "    i = i+1\n",
        "    if(i>max_steps):break\n",
        "  print('END: ', i , 'steps.')\n",
        "  return i"
      ],
      "metadata": {
        "id": "OZFPwcO_zEDV"
      },
      "execution_count": 15,
      "outputs": []
    },
    {
      "cell_type": "markdown",
      "source": [
        "Ejecutamos un minitest:"
      ],
      "metadata": {
        "id": "8EHUithXDpwg"
      }
    },
    {
      "cell_type": "code",
      "source": [
        "w = World((10, 10), [(9, 9)], [(2, 4), (4, 2)], [(0, 2), (9, 7)])\n",
        "a = Agent(w, (0, 0))\n",
        "#Q_test = sarsa(a,debug = True)\n",
        "Q_test = sarsa(a)"
      ],
      "metadata": {
        "id": "8xmCnWfI8Rl6"
      },
      "execution_count": 152,
      "outputs": []
    },
    {
      "cell_type": "code",
      "source": [
        "a.set_initialState((0, 0))\n",
        "Q_final = move_with_value_function(a ,Q_test)"
      ],
      "metadata": {
        "id": "lbpSq3-vrUD3",
        "colab": {
          "base_uri": "https://localhost:8080/"
        },
        "outputId": "e49c5ea4-1e25-4283-bd37-5b219660cdb3"
      },
      "execution_count": 47,
      "outputs": [
        {
          "output_type": "stream",
          "name": "stdout",
          "text": [
            "Initial S: (0, 0) --(A: (0, 1) Derecha ) -->\n",
            "Now in S: (0, 1) --(A: (0, 1) Derecha ) -->\n",
            "Now in S: (9, 7) --(A: (0, 1) Derecha ) -->\n",
            "Now in S: (9, 8) --(A: (0, 1) Derecha ) -->\n",
            "Now in S: (9, 9) --(A: (0, 1) Derecha ) -->\n",
            "END\n"
          ]
        }
      ]
    },
    {
      "cell_type": "markdown",
      "metadata": {
        "id": "N-aKUuoX_Ut-"
      },
      "source": [
        "## **Q-Learning:**\n",
        "\n",
        "*Q-Learning* es el método más conocido para resolver problemas de aprendizaje por refuerzo mediante un esquema basado en el valor. Este algoritmo recibe su nombre directamente de $Q(S,A)$, la función de valor que va actualizando a lo largo de su ejecución. *Q-Learning* es muy parecido a *SARSA*, pero tiene una función de actualización diferente:\n",
        "\n",
        "\\begin{equation}\n",
        "Q(S_t,A_t) \\leftarrow Q(S_t,A_t) + \\alpha [R_t + \\gamma max_a{Q(S_{t+1}}, a) - Q(S_t,A_t)]\n",
        "\\end{equation}\n",
        "\n",
        "En este caso, la acción $A_{t+1}$ en $S_{t+1}$ se toma buscando el máximo valor, en lugar de poder elegir entre exploración o explotación.\n",
        "\n",
        "El algoritmo *Q-Learning* sigue el siguiente esquema: \n",
        "\n",
        "1.   Inicializar $Q(S,A)$ para todos los estados y acciones \n",
        "2.   **Bucle** (repetir $3-8$ hasta la convergencia):\n",
        "3.   Inicializar $S_t$\n",
        "4.   **Bucle** (repetir $6-8$ hasta que $S_t$ sea terminal):\n",
        "5.   Elegir $A_t$ en $S_t$ siguiendo la política derivada de $Q(S,A)$\n",
        "6.   Tomar la acción $A_t$ en $S_t$ y observar $R_t$ y $S_{t+1}$\n",
        "7.   Actualizar el valor $Q(S_t, A_t)$ con la función de actualización\n",
        "8.   Tomar $S_{t+1}$ como el nuevo $S_t$\n",
        "\n",
        "## Ejercicio 2:\n",
        "Implementad el algoritmo Q-Learning para el agente y entorno definidos anteriormente.\n"
      ]
    },
    {
      "cell_type": "code",
      "source": [
        "import random\n",
        "\n",
        "\n",
        "\n",
        "def choose_max_Q(S, Q):\n",
        "\n",
        "  \n",
        "  actions_S = [  ( A, Q[(S,A)]) for A in ACTIONS  ]\n",
        "  max_value = max(actions_S, key = lambda x: x[1])[1]\n",
        "  possible_actions = [A[0] for A in actions_S if A[1] == max_value]\n",
        "  return random.choice(possible_actions)\n",
        "\n",
        "  \n",
        "\n",
        "def elige_accion(epsilon,Q, S):\n",
        "  rand_num = np.random.rand(1)[0]\n",
        "  if(rand_num <= epsilon):\n",
        "    return random.choice(ACTIONS)\n",
        "  else:   \n",
        "    return choose_max_Q(S, Q)\n",
        "\n",
        "def qlearning(agent,init_state = (0,0), alpha = 0.5,gamma = 0.9,  epsilon = 0.1  , max_iterations =10000, debug = False):\n",
        "\n",
        "  assert alpha >= 0 and alpha <= 1, 'Alpha debe de estar entre 0 y 1'\n",
        "  assert gamma >= 0 and gamma <= 1, 'Gamma debe de estar entre 0 y 1'\n",
        "\n",
        "  size = agent.world.size\n",
        "\n",
        "  #Incializando valores\n",
        "  Q = {}\n",
        "  for i in range(size[0]):\n",
        "    for j in range(size[1]):\n",
        "      Q.update(  { ((i,j),a):(0 if agent.world.map[(i,j)] == 1 else -1)  for a in ACTIONS})#estados terminales nulos, el resto arbitrario (a 1)\n",
        "      #Q.update(  { ((i,j),a):0. for a in ACTIONS})#estados terminales nulos\n",
        "\n",
        "\n",
        "  sum_rewards_per_episode = []\n",
        "  #Eleccion de acción de acuerdo a Q(S,A)\n",
        "  for i in range(max_iterations): #bucle convergencia\n",
        "    S = init_state\n",
        "    agent.set_initialState(init_state)\n",
        "    sum_rewards_per_episode.append(0)\n",
        "    if(debug): print('Iteración:', i+1)\n",
        "\n",
        "    \n",
        "    while(agent.world.map[S] != 1): #S terminal\n",
        "      A = elige_accion(epsilon,Q, S)\n",
        "      S_prima,R = agent.executeAction(A)\n",
        "      S_prima = (S_prima[0], S_prima[1])\n",
        "      sum_rewards_per_episode[i] = sum_rewards_per_episode[i] + R\n",
        "\n",
        "    \n",
        "      #Update model\n",
        "      Q[(S,A)] = Q[(S,A)] + alpha*( R + ( gamma*Q[(S_prima,choose_max_Q(S_prima, Q))] ) - Q[(S,A)] )\n",
        "\n",
        "      #if(R == REWARD_OBSTACLE):#R = -1 indica que ha caído en obstaculo, y no puede moverse más\n",
        "      if (agent.world.map[S_prima] == -1):\n",
        "        break\n",
        "\n",
        "      S = S_prima\n",
        "\n",
        "\n",
        "  return Q,sum_rewards_per_episode\n"
      ],
      "metadata": {
        "id": "XMX8aR4YKFpe"
      },
      "execution_count": 20,
      "outputs": []
    },
    {
      "cell_type": "markdown",
      "source": [
        "## Comparativa \n",
        "\n",
        "Hacemos una comparativa con una selección de los mundos para ver si ambos algorimos son capaces de resolver los laberintos.\n",
        "\n",
        "Creamos una función para **comparar los rendimientos como la suma del numero de rewards por episodio frente al numero de episodios.**\n",
        "\n",
        "Incluimos una **opción de promediar cada mean_each_n episodios**, para evitar picos dado el valor tan alto de refuerzos que hemos elegido.\n",
        "\n",
        "Incluimos también la opción de graficar lo anterior **de manera acumulada**, de modo que vaya sumando las rewards de cada episodio de manera acumulada, con el objetivo de **estudiar la convergencia** de los algoritmos para los ejemplos."
      ],
      "metadata": {
        "id": "lQHaXN9gPNwQ"
      }
    },
    {
      "cell_type": "code",
      "source": [
        "import plotly.graph_objects as go\n",
        "\n",
        "def plot_performance(rewards_sarsa, rewards_ql, size = None, mean_each_n = None,acumulated = False):\n",
        "\n",
        "  if(size is None):\n",
        "    r_sarsa = rewards_sarsa\n",
        "    r_ql = rewards_ql\n",
        "  else:\n",
        "    r_sarsa = rewards_sarsa[0:size]\n",
        "    r_ql = rewards_ql[0:size]\n",
        "\n",
        "  if(mean_each_n is not None): #Media cada n elementos, para evitar picos\n",
        "    r_sarsa = np.array(r_sarsa)\n",
        "    r_ql = np.array(r_ql)\n",
        "\n",
        "    r_sarsa = np.average(r_sarsa.reshape(-1, mean_each_n), axis=1).tolist() \n",
        "    r_ql = np.average(r_ql.reshape(-1, mean_each_n), axis=1).tolist() \n",
        "\n",
        "    r_sarsa = [i/mean_each_n for i in r_sarsa ]\n",
        "    r_ql = [i/mean_each_n for i in r_sarsa ]\n",
        "    title = 'Sum of reward for each episode(averaged with each ' + str(mean_each_n) + ' episodes)'\n",
        "    x_title = 'Number of episodes(averaged with each ' + str(mean_each_n) + ' episodes)'\n",
        "  else:\n",
        "    title = 'Sum of reward for each episode'\n",
        "    x_title = 'Number of episodes'\n",
        "\n",
        "\n",
        "  if(acumulated):\n",
        "    title = title + ' ACUMULATED'\n",
        "    r_sarsa = np.cumsum(r_sarsa).tolist()\n",
        "    r_ql = np.cumsum(r_ql).tolist()\n",
        "  \n",
        "  fig = go.Figure()\n",
        "  fig.add_trace(go.Scatter(x=[i for i  in  range(len(r_sarsa))], y=r_sarsa,\n",
        "                    mode='lines+markers',\n",
        "                    name='SARSA'))\n",
        "  fig.add_trace(go.Scatter(x=[i for i  in  range(len(r_ql))], y=r_ql,\n",
        "                    mode='lines+markers',\n",
        "                    name='Q-Learning'))\n",
        "\n",
        "  \n",
        "\n",
        "  fig.update_layout(\n",
        "    title=title,\n",
        "    xaxis_title=x_title,\n",
        "    yaxis_title=\"Sum of rewards during episode\",\n",
        "    legend_title=\"Legend Title\",\n",
        "    font=dict(\n",
        "        family=\"Courier New, monospace\",\n",
        "        color=\"RebeccaPurple\"\n",
        "      )\n",
        "    )\n",
        "\n",
        "  fig.show()"
      ],
      "metadata": {
        "id": "ej-mTuy9i9t_"
      },
      "execution_count": 33,
      "outputs": []
    },
    {
      "cell_type": "markdown",
      "source": [
        "Procedemos ahora a resolver varios laberintos, escogiendo aquellos que nos parecían más relvante y representativos para estudiar los algoritmos."
      ],
      "metadata": {
        "id": "7uRNak9DbUc8"
      }
    },
    {
      "cell_type": "markdown",
      "source": [
        "### World1p"
      ],
      "metadata": {
        "id": "1Pj2sFwFPWAi"
      }
    },
    {
      "cell_type": "code",
      "source": [
        "printMap(w1p)"
      ],
      "metadata": {
        "colab": {
          "base_uri": "https://localhost:8080/"
        },
        "id": "LTrRGE3PPVPj",
        "outputId": "84ad8ed0-47a7-47cd-ab66-37cc93917dd9"
      },
      "execution_count": 17,
      "outputs": [
        {
          "output_type": "stream",
          "name": "stdout",
          "text": [
            "[ O  X  O  O  O \n",
            " O  X  O  X  O \n",
            " O  X  O  X  O \n",
            " O  X  O  X  O \n",
            " O  O  O  X  F ]\n",
            "\n"
          ]
        }
      ]
    },
    {
      "cell_type": "markdown",
      "source": [
        "#### SARSA"
      ],
      "metadata": {
        "id": "9Dcyco3RQMtW"
      }
    },
    {
      "cell_type": "code",
      "source": [
        "#SARSA\n",
        "agent_w1p_sarsa = Agent(w1p, (0, 0))\n",
        "Q_w1p_sarsa, rewards_w1p_sarsa = sarsa(agent_w1p_sarsa,init_state = (0,0), alpha = 0.5,gamma = 0.9 , epsilon = 0.1 , max_iterations =10000, debug = False)\n",
        "move_with_value_function(agent_w1p_sarsa,Q_w1p_sarsa, max_steps = 50)"
      ],
      "metadata": {
        "colab": {
          "base_uri": "https://localhost:8080/"
        },
        "id": "R_JlgL1TPVUS",
        "outputId": "06389d4d-cc12-4230-e87b-38abb9cc9cd3"
      },
      "execution_count": 18,
      "outputs": [
        {
          "output_type": "stream",
          "name": "stdout",
          "text": [
            "Initial S: (0, 0) --(A: (1, 0) Abajo ) -->\n",
            "Now in S: (1, 0) --(A: (1, 0) Abajo ) -->\n",
            "Now in S: (2, 0) --(A: (1, 0) Abajo ) -->\n",
            "Now in S: (3, 0) --(A: (1, 0) Abajo ) -->\n",
            "Now in S: (4, 0) --(A: (0, 1) Derecha ) -->\n",
            "Now in S: (4, 1) --(A: (0, 1) Derecha ) -->\n",
            "Now in S: (4, 2) --(A: (-1, 0) Arriba ) -->\n",
            "Now in S: (3, 2) --(A: (-1, 0) Arriba ) -->\n",
            "Now in S: (2, 2) --(A: (-1, 0) Arriba ) -->\n",
            "Now in S: (1, 2) --(A: (-1, 0) Arriba ) -->\n",
            "Now in S: (0, 2) --(A: (0, 1) Derecha ) -->\n",
            "Now in S: (0, 3) --(A: (0, 1) Derecha ) -->\n",
            "Now in S: (0, 4) --(A: (1, 0) Abajo ) -->\n",
            "Now in S: (1, 4) --(A: (1, 0) Abajo ) -->\n",
            "Now in S: (2, 4) --(A: (1, 0) Abajo ) -->\n",
            "Now in S: (3, 4) --(A: (1, 0) Abajo ) -->\n",
            "Now in S: (4, 4) --(A: (-1, 0) Arriba ) -->\n",
            "END:  16 steps.\n"
          ]
        },
        {
          "output_type": "execute_result",
          "data": {
            "text/plain": [
              "16"
            ]
          },
          "metadata": {},
          "execution_count": 18
        }
      ]
    },
    {
      "cell_type": "markdown",
      "source": [
        "####Q-LEARNING"
      ],
      "metadata": {
        "id": "XjVANYykQRjS"
      }
    },
    {
      "cell_type": "code",
      "source": [
        "#Q-LEARNING\n",
        "agent_w1p_ql = Agent(w1p, (0, 0))\n",
        "Q_w1p_ql, rewards_w1p_ql = qlearning(agent_w1p_ql,init_state = (0,0), alpha = 0.5,gamma = 0.9,  epsilon = 0.1  , max_iterations =10000, debug = False)\n",
        "move_with_value_function(agent_w1p_ql,Q_w1p_ql, max_steps = 50)"
      ],
      "metadata": {
        "colab": {
          "base_uri": "https://localhost:8080/"
        },
        "id": "VQm-1KQoMgYl",
        "outputId": "fc108afa-a4be-4366-82bc-10608a5041a9"
      },
      "execution_count": 22,
      "outputs": [
        {
          "output_type": "stream",
          "name": "stdout",
          "text": [
            "Initial S: (0, 0) --(A: (1, 0) Abajo ) -->\n",
            "Now in S: (1, 0) --(A: (1, 0) Abajo ) -->\n",
            "Now in S: (2, 0) --(A: (1, 0) Abajo ) -->\n",
            "Now in S: (3, 0) --(A: (1, 0) Abajo ) -->\n",
            "Now in S: (4, 0) --(A: (0, 1) Derecha ) -->\n",
            "Now in S: (4, 1) --(A: (0, 1) Derecha ) -->\n",
            "Now in S: (4, 2) --(A: (-1, 0) Arriba ) -->\n",
            "Now in S: (3, 2) --(A: (-1, 0) Arriba ) -->\n",
            "Now in S: (2, 2) --(A: (-1, 0) Arriba ) -->\n",
            "Now in S: (1, 2) --(A: (-1, 0) Arriba ) -->\n",
            "Now in S: (0, 2) --(A: (0, 1) Derecha ) -->\n",
            "Now in S: (0, 3) --(A: (0, 1) Derecha ) -->\n",
            "Now in S: (0, 4) --(A: (1, 0) Abajo ) -->\n",
            "Now in S: (1, 4) --(A: (1, 0) Abajo ) -->\n",
            "Now in S: (2, 4) --(A: (1, 0) Abajo ) -->\n",
            "Now in S: (3, 4) --(A: (1, 0) Abajo ) -->\n",
            "Now in S: (4, 4) --(A: (0, -1) Izquierda ) -->\n",
            "END:  16 steps.\n"
          ]
        },
        {
          "output_type": "execute_result",
          "data": {
            "text/plain": [
              "16"
            ]
          },
          "metadata": {},
          "execution_count": 22
        }
      ]
    },
    {
      "cell_type": "markdown",
      "source": [
        "#### **Rendimiento**"
      ],
      "metadata": {
        "id": "Rp9Wr5TOpnJb"
      }
    },
    {
      "cell_type": "code",
      "source": [
        "plot_performance(rewards_w1p_sarsa, rewards_w1p_ql,size = 10000,mean_each_n = 10)"
      ],
      "metadata": {
        "colab": {
          "base_uri": "https://localhost:8080/",
          "height": 542
        },
        "id": "KQL2lsnPi-2b",
        "outputId": "1a2d0ab9-1cf2-4ce6-88ed-b1d5b3f40c30"
      },
      "execution_count": 34,
      "outputs": [
        {
          "output_type": "display_data",
          "data": {
            "text/html": [
              "<html>\n",
              "<head><meta charset=\"utf-8\" /></head>\n",
              "<body>\n",
              "    <div>            <script src=\"https://cdnjs.cloudflare.com/ajax/libs/mathjax/2.7.5/MathJax.js?config=TeX-AMS-MML_SVG\"></script><script type=\"text/javascript\">if (window.MathJax) {MathJax.Hub.Config({SVG: {font: \"STIX-Web\"}});}</script>                <script type=\"text/javascript\">window.PlotlyConfig = {MathJaxConfig: 'local'};</script>\n",
              "        <script src=\"https://cdn.plot.ly/plotly-2.8.3.min.js\"></script>                <div id=\"aaa4a45d-c3b9-4746-af83-fcf0e8a51856\" class=\"plotly-graph-div\" style=\"height:525px; width:100%;\"></div>            <script type=\"text/javascript\">                                    window.PLOTLYENV=window.PLOTLYENV || {};                                    if (document.getElementById(\"aaa4a45d-c3b9-4746-af83-fcf0e8a51856\")) {                    Plotly.newPlot(                        \"aaa4a45d-c3b9-4746-af83-fcf0e8a51856\",                        [{\"mode\":\"lines+markers\",\"name\":\"SARSA\",\"x\":[0,1,2,3,4,5,6,7,8,9,10,11,12,13,14,15,16,17,18,19,20,21,22,23,24,25,26,27,28,29,30,31,32,33,34,35,36,37,38,39,40,41,42,43,44,45,46,47,48,49,50,51,52,53,54,55,56,57,58,59,60,61,62,63,64,65,66,67,68,69,70,71,72,73,74,75,76,77,78,79,80,81,82,83,84,85,86,87,88,89,90,91,92,93,94,95,96,97,98,99,100,101,102,103,104,105,106,107,108,109,110,111,112,113,114,115,116,117,118,119,120,121,122,123,124,125,126,127,128,129,130,131,132,133,134,135,136,137,138,139,140,141,142,143,144,145,146,147,148,149,150,151,152,153,154,155,156,157,158,159,160,161,162,163,164,165,166,167,168,169,170,171,172,173,174,175,176,177,178,179,180,181,182,183,184,185,186,187,188,189,190,191,192,193,194,195,196,197,198,199,200,201,202,203,204,205,206,207,208,209,210,211,212,213,214,215,216,217,218,219,220,221,222,223,224,225,226,227,228,229,230,231,232,233,234,235,236,237,238,239,240,241,242,243,244,245,246,247,248,249,250,251,252,253,254,255,256,257,258,259,260,261,262,263,264,265,266,267,268,269,270,271,272,273,274,275,276,277,278,279,280,281,282,283,284,285,286,287,288,289,290,291,292,293,294,295,296,297,298,299,300,301,302,303,304,305,306,307,308,309,310,311,312,313,314,315,316,317,318,319,320,321,322,323,324,325,326,327,328,329,330,331,332,333,334,335,336,337,338,339,340,341,342,343,344,345,346,347,348,349,350,351,352,353,354,355,356,357,358,359,360,361,362,363,364,365,366,367,368,369,370,371,372,373,374,375,376,377,378,379,380,381,382,383,384,385,386,387,388,389,390,391,392,393,394,395,396,397,398,399,400,401,402,403,404,405,406,407,408,409,410,411,412,413,414,415,416,417,418,419,420,421,422,423,424,425,426,427,428,429,430,431,432,433,434,435,436,437,438,439,440,441,442,443,444,445,446,447,448,449,450,451,452,453,454,455,456,457,458,459,460,461,462,463,464,465,466,467,468,469,470,471,472,473,474,475,476,477,478,479,480,481,482,483,484,485,486,487,488,489,490,491,492,493,494,495,496,497,498,499,500,501,502,503,504,505,506,507,508,509,510,511,512,513,514,515,516,517,518,519,520,521,522,523,524,525,526,527,528,529,530,531,532,533,534,535,536,537,538,539,540,541,542,543,544,545,546,547,548,549,550,551,552,553,554,555,556,557,558,559,560,561,562,563,564,565,566,567,568,569,570,571,572,573,574,575,576,577,578,579,580,581,582,583,584,585,586,587,588,589,590,591,592,593,594,595,596,597,598,599,600,601,602,603,604,605,606,607,608,609,610,611,612,613,614,615,616,617,618,619,620,621,622,623,624,625,626,627,628,629,630,631,632,633,634,635,636,637,638,639,640,641,642,643,644,645,646,647,648,649,650,651,652,653,654,655,656,657,658,659,660,661,662,663,664,665,666,667,668,669,670,671,672,673,674,675,676,677,678,679,680,681,682,683,684,685,686,687,688,689,690,691,692,693,694,695,696,697,698,699,700,701,702,703,704,705,706,707,708,709,710,711,712,713,714,715,716,717,718,719,720,721,722,723,724,725,726,727,728,729,730,731,732,733,734,735,736,737,738,739,740,741,742,743,744,745,746,747,748,749,750,751,752,753,754,755,756,757,758,759,760,761,762,763,764,765,766,767,768,769,770,771,772,773,774,775,776,777,778,779,780,781,782,783,784,785,786,787,788,789,790,791,792,793,794,795,796,797,798,799,800,801,802,803,804,805,806,807,808,809,810,811,812,813,814,815,816,817,818,819,820,821,822,823,824,825,826,827,828,829,830,831,832,833,834,835,836,837,838,839,840,841,842,843,844,845,846,847,848,849,850,851,852,853,854,855,856,857,858,859,860,861,862,863,864,865,866,867,868,869,870,871,872,873,874,875,876,877,878,879,880,881,882,883,884,885,886,887,888,889,890,891,892,893,894,895,896,897,898,899,900,901,902,903,904,905,906,907,908,909,910,911,912,913,914,915,916,917,918,919,920,921,922,923,924,925,926,927,928,929,930,931,932,933,934,935,936,937,938,939,940,941,942,943,944,945,946,947,948,949,950,951,952,953,954,955,956,957,958,959,960,961,962,963,964,965,966,967,968,969,970,971,972,973,974,975,976,977,978,979,980,981,982,983,984,985,986,987,988,989,990,991,992,993,994,995,996,997,998,999],\"y\":[-14.13,-14.95,1.8446744073709552e+17,-18.240000000000002,-20.97,-14.780000000000001,-15.55,-18.5,-20.56,-21.68,-18.23,-18.78,-21.45,-24.93,-24.19,-17.46,-16.240000000000002,-26.46,-22.55,-24.71,-17.080000000000002,-20.580000000000002,-23.69,-14.709999999999999,-16.86,-16.68,-21.94,-16.47,-23.369999999999997,-23.45,-23.32,-20.56,-22.09,-16.759999999999998,9.223372036854776e+16,-16.15,-17.02,-18.28,-15.690000000000001,-19.6,-17.53,-22.29,-21.86,-20.27,-24.369999999999997,-18.03,-16.9,-17.09,-14.540000000000001,-18.48,-23.41,-26.3,3.6893488147419104e+17,-19.490000000000002,-17.11,5.534023222112865e+17,6.456360425798342e+17,6.456360425798342e+17,8.301034833169298e+17,6.456360425798342e+17,7.378697629483821e+17,3.6893488147419104e+17,5.534023222112865e+17,1.844674407370955e+17,4.611686018427388e+17,8.301034833169298e+17,6.456360425798342e+17,1.8446744073709552e+17,9.223372036854776e+17,5.534023222112865e+17,6.456360425798342e+17,6.456360425798342e+17,7.378697629483821e+17,3.6893488147419104e+17,6.456360425798342e+17,5.534023222112865e+17,3.6893488147419104e+17,5.534023222112865e+17,4.611686018427388e+17,4.611686018427388e+17,4.611686018427388e+17,4.611686018427388e+17,9.223372036854774e+16,2.7670116110564326e+17,5.534023222112865e+17,1.844674407370955e+17,1.844674407370955e+17,3.6893488147419104e+17,6.456360425798342e+17,6.456360425798342e+17,7.378697629483821e+17,6.456360425798342e+17,5.534023222112865e+17,3.6893488147419104e+17,6.456360425798342e+17,4.611686018427388e+17,5.534023222112865e+17,5.534023222112865e+17,3.6893488147419104e+17,6.456360425798342e+17,6.456360425798342e+17,3.6893488147419104e+17,5.534023222112865e+17,4.611686018427388e+17,9.223372036854776e+17,4.611686018427388e+17,5.534023222112865e+17,7.378697629483821e+17,4.611686018427388e+17,6.456360425798342e+17,6.456360425798342e+17,7.378697629483821e+17,7.378697629483821e+17,5.534023222112865e+17,8.301034833169298e+17,2.7670116110564326e+17,6.456360425798342e+17,5.534023222112865e+17,2.7670116110564326e+17,2.7670116110564326e+17,3.6893488147419104e+17,2.7670116110564326e+17,6.456360425798342e+17,3.6893488147419104e+17,3.6893488147419104e+17,5.534023222112865e+17,4.611686018427388e+17,7.378697629483821e+17,3.6893488147419104e+17,5.534023222112865e+17,-18.41,9.223372036854773e+16,7.378697629483821e+17,4.611686018427388e+17,5.534023222112865e+17,6.456360425798342e+17,6.456360425798342e+17,6.456360425798342e+17,5.534023222112865e+17,3.6893488147419104e+17,5.534023222112865e+17,4.611686018427388e+17,3.6893488147419104e+17,7.378697629483821e+17,4.611686018427388e+17,5.534023222112865e+17,8.301034833169298e+17,6.456360425798342e+17,7.378697629483821e+17,3.6893488147419104e+17,4.611686018427388e+17,5.534023222112865e+17,5.534023222112865e+17,2.7670116110564326e+17,5.534023222112865e+17,4.611686018427388e+17,1.8446744073709552e+17,7.378697629483821e+17,5.534023222112865e+17,6.456360425798342e+17,5.534023222112865e+17,3.6893488147419104e+17,6.456360425798342e+17,8.301034833169298e+17,7.378697629483821e+17,5.534023222112865e+17,6.456360425798342e+17,4.611686018427388e+17,3.6893488147419104e+17,3.6893488147419104e+17,6.456360425798342e+17,6.456360425798342e+17,6.456360425798342e+17,5.534023222112865e+17,6.456360425798342e+17,5.534023222112865e+17,6.456360425798342e+17,1.844674407370955e+17,1.8446744073709552e+17,9.223372036854774e+16,1.844674407370955e+17,3.6893488147419104e+17,4.611686018427388e+17,6.456360425798342e+17,8.301034833169298e+17,4.611686018427388e+17,8.301034833169298e+17,5.534023222112865e+17,4.611686018427388e+17,5.534023222112865e+17,4.611686018427388e+17,5.534023222112865e+17,4.611686018427388e+17,4.611686018427388e+17,-21.43,-49.339999999999996,4.611686018427388e+17,4.611686018427388e+17,6.456360425798342e+17,6.456360425798342e+17,4.611686018427388e+17,5.534023222112865e+17,2.7670116110564326e+17,5.534023222112865e+17,3.6893488147419104e+17,4.611686018427388e+17,8.301034833169298e+17,6.456360425798342e+17,5.534023222112865e+17,6.456360425798342e+17,5.534023222112865e+17,6.456360425798342e+17,5.534023222112865e+17,8.301034833169298e+17,7.378697629483821e+17,5.534023222112865e+17,6.456360425798342e+17,4.611686018427388e+17,7.378697629483821e+17,6.456360425798342e+17,3.6893488147419104e+17,6.456360425798342e+17,6.456360425798342e+17,4.611686018427388e+17,9.223372036854774e+16,9.223372036854773e+16,9.223372036854774e+16,3.6893488147419104e+17,7.378697629483821e+17,5.534023222112865e+17,4.611686018427388e+17,7.378697629483821e+17,3.6893488147419104e+17,3.6893488147419104e+17,4.611686018427388e+17,4.611686018427388e+17,4.611686018427388e+17,6.456360425798342e+17,7.378697629483821e+17,8.301034833169298e+17,5.534023222112865e+17,7.378697629483821e+17,4.611686018427388e+17,7.378697629483821e+17,3.6893488147419104e+17,7.378697629483821e+17,6.456360425798342e+17,5.534023222112865e+17,4.611686018427388e+17,6.456360425798342e+17,4.611686018427388e+17,6.456360425798342e+17,4.611686018427388e+17,5.534023222112865e+17,4.611686018427388e+17,4.611686018427388e+17,1.8446744073709552e+17,8.301034833169298e+17,5.534023222112865e+17,6.456360425798342e+17,9.223372036854774e+16,8.301034833169298e+17,4.611686018427388e+17,5.534023222112865e+17,7.378697629483821e+17,4.611686018427388e+17,5.534023222112865e+17,3.6893488147419104e+17,-40.82,2.7670116110564326e+17,6.456360425798342e+17,5.534023222112865e+17,5.534023222112865e+17,4.611686018427388e+17,7.378697629483821e+17,5.534023222112865e+17,3.6893488147419104e+17,4.611686018427388e+17,7.378697629483821e+17,7.378697629483821e+17,5.534023222112865e+17,3.6893488147419104e+17,5.534023222112865e+17,7.378697629483821e+17,7.378697629483821e+17,3.6893488147419104e+17,6.456360425798342e+17,7.378697629483821e+17,7.378697629483821e+17,2.7670116110564326e+17,4.611686018427388e+17,9.223372036854774e+16,1.844674407370955e+17,4.611686018427388e+17,7.378697629483821e+17,7.378697629483821e+17,4.611686018427388e+17,7.378697629483821e+17,4.611686018427388e+17,4.611686018427388e+17,4.611686018427388e+17,5.534023222112865e+17,6.456360425798342e+17,2.7670116110564326e+17,5.534023222112865e+17,3.6893488147419104e+17,5.534023222112865e+17,7.378697629483821e+17,4.611686018427388e+17,5.534023222112865e+17,2.7670116110564326e+17,7.378697629483821e+17,6.456360425798342e+17,5.534023222112865e+17,6.456360425798342e+17,5.534023222112865e+17,4.611686018427388e+17,4.611686018427388e+17,2.7670116110564326e+17,1.8446744073709552e+17,5.534023222112865e+17,4.611686018427388e+17,3.6893488147419104e+17,2.7670116110564326e+17,4.611686018427388e+17,6.456360425798342e+17,8.301034833169298e+17,7.378697629483821e+17,3.6893488147419104e+17,5.534023222112865e+17,5.534023222112865e+17,6.456360425798342e+17,4.611686018427388e+17,7.378697629483821e+17,3.6893488147419104e+17,3.6893488147419104e+17,2.7670116110564326e+17,7.378697629483821e+17,6.456360425798342e+17,3.6893488147419104e+17,6.456360425798342e+17,6.456360425798342e+17,3.6893488147419104e+17,1.8446744073709552e+17,6.456360425798342e+17,6.456360425798342e+17,7.378697629483821e+17,5.534023222112865e+17,7.378697629483821e+17,-20.09,9.223372036854773e+16,3.6893488147419104e+17,7.378697629483821e+17,5.534023222112865e+17,6.456360425798342e+17,4.611686018427388e+17,7.378697629483821e+17,6.456360425798342e+17,3.6893488147419104e+17,8.301034833169298e+17,7.378697629483821e+17,3.6893488147419104e+17,9.223372036854773e+16,1.8446744073709552e+17,3.6893488147419104e+17,5.534023222112865e+17,4.611686018427388e+17,6.456360425798342e+17,3.6893488147419104e+17,6.456360425798342e+17,6.456360425798342e+17,7.378697629483821e+17,7.378697629483821e+17,4.611686018427388e+17,5.534023222112865e+17,5.534023222112865e+17,4.611686018427388e+17,7.378697629483821e+17,7.378697629483821e+17,9.223372036854776e+16,4.611686018427388e+17,3.6893488147419104e+17,3.6893488147419104e+17,7.378697629483821e+17,3.6893488147419104e+17,8.301034833169298e+17,6.456360425798342e+17,1.8446744073709552e+17,4.611686018427388e+17,1.8446744073709552e+17,5.534023222112865e+17,6.456360425798342e+17,4.611686018427388e+17,6.456360425798342e+17,6.456360425798342e+17,6.456360425798342e+17,6.456360425798342e+17,1.8446744073709552e+17,6.456360425798342e+17,3.6893488147419104e+17,5.534023222112865e+17,7.378697629483821e+17,5.534023222112865e+17,8.301034833169298e+17,4.611686018427388e+17,5.534023222112865e+17,7.378697629483821e+17,6.456360425798342e+17,5.534023222112865e+17,6.456360425798342e+17,9.223372036854774e+16,3.6893488147419104e+17,7.378697629483821e+17,7.378697629483821e+17,8.301034833169298e+17,9.223372036854774e+16,-26.74,-18.45,-26.169999999999998,1.844674407370955e+17,9.223372036854773e+16,1.844674407370955e+17,5.534023222112865e+17,5.534023222112865e+17,7.378697629483821e+17,6.456360425798342e+17,2.7670116110564326e+17,6.456360425798342e+17,5.534023222112865e+17,7.378697629483821e+17,6.456360425798342e+17,6.456360425798342e+17,6.456360425798342e+17,7.378697629483821e+17,5.534023222112865e+17,5.534023222112865e+17,3.6893488147419104e+17,3.6893488147419104e+17,4.611686018427388e+17,3.6893488147419104e+17,4.611686018427388e+17,4.611686018427388e+17,7.378697629483821e+17,5.534023222112865e+17,2.7670116110564326e+17,4.611686018427388e+17,6.456360425798342e+17,5.534023222112865e+17,6.456360425798342e+17,3.6893488147419104e+17,5.534023222112865e+17,7.378697629483821e+17,5.534023222112865e+17,7.378697629483821e+17,2.7670116110564326e+17,6.456360425798342e+17,7.378697629483821e+17,6.456360425798342e+17,8.301034833169298e+17,7.378697629483821e+17,3.6893488147419104e+17,4.611686018427388e+17,6.456360425798342e+17,7.378697629483821e+17,7.378697629483821e+17,5.534023222112865e+17,6.456360425798342e+17,4.611686018427388e+17,1.8446744073709552e+17,7.378697629483821e+17,7.378697629483821e+17,2.7670116110564326e+17,4.611686018427388e+17,1.8446744073709552e+17,4.611686018427388e+17,5.534023222112865e+17,5.534023222112865e+17,4.611686018427388e+17,5.534023222112865e+17,2.7670116110564326e+17,7.378697629483821e+17,8.301034833169298e+17,1.8446744073709552e+17,2.7670116110564326e+17,3.6893488147419104e+17,3.6893488147419104e+17,4.611686018427388e+17,7.378697629483821e+17,6.456360425798342e+17,5.534023222112865e+17,6.456360425798342e+17,4.611686018427388e+17,6.456360425798342e+17,7.378697629483821e+17,5.534023222112865e+17,4.611686018427388e+17,2.7670116110564326e+17,6.456360425798342e+17,4.611686018427388e+17,6.456360425798342e+17,7.378697629483821e+17,-33.39,6.456360425798342e+17,9.223372036854774e+16,5.534023222112865e+17,5.534023222112865e+17,5.534023222112865e+17,3.6893488147419104e+17,6.456360425798342e+17,7.378697629483821e+17,3.6893488147419104e+17,5.534023222112865e+17,4.611686018427388e+17,5.534023222112865e+17,3.6893488147419104e+17,2.7670116110564326e+17,5.534023222112865e+17,1.8446744073709552e+17,5.534023222112865e+17,6.456360425798342e+17,7.378697629483821e+17,5.534023222112865e+17,5.534023222112865e+17,5.534023222112865e+17,2.7670116110564326e+17,6.456360425798342e+17,6.456360425798342e+17,6.456360425798342e+17,6.456360425798342e+17,4.611686018427388e+17,5.534023222112865e+17,2.7670116110564326e+17,5.534023222112865e+17,5.534023222112865e+17,3.6893488147419104e+17,3.6893488147419104e+17,9.223372036854776e+17,4.611686018427388e+17,4.611686018427388e+17,6.456360425798342e+17,7.378697629483821e+17,5.534023222112865e+17,2.7670116110564326e+17,5.534023222112865e+17,6.456360425798342e+17,6.456360425798342e+17,5.534023222112865e+17,6.456360425798342e+17,4.611686018427388e+17,6.456360425798342e+17,4.611686018427388e+17,4.611686018427388e+17,4.611686018427388e+17,4.611686018427388e+17,6.456360425798342e+17,7.378697629483821e+17,3.6893488147419104e+17,6.456360425798342e+17,3.6893488147419104e+17,2.7670116110564326e+17,7.378697629483821e+17,3.6893488147419104e+17,5.534023222112865e+17,9.223372036854774e+16,2.7670116110564326e+17,7.378697629483821e+17,5.534023222112865e+17,5.534023222112865e+17,9.223372036854774e+16,5.534023222112865e+17,6.456360425798342e+17,3.6893488147419104e+17,6.456360425798342e+17,-27.439999999999998,2.7670116110564326e+17,6.456360425798342e+17,7.378697629483821e+17,5.534023222112865e+17,5.534023222112865e+17,2.7670116110564326e+17,4.611686018427388e+17,3.6893488147419104e+17,5.534023222112865e+17,5.534023222112865e+17,4.611686018427388e+17,6.456360425798342e+17,2.7670116110564326e+17,4.611686018427388e+17,4.611686018427388e+17,8.301034833169298e+17,6.456360425798342e+17,6.456360425798342e+17,4.611686018427388e+17,4.611686018427388e+17,4.611686018427388e+17,1.8446744073709552e+17,6.456360425798342e+17,5.534023222112865e+17,6.456360425798342e+17,4.611686018427388e+17,4.611686018427388e+17,6.456360425798342e+17,5.534023222112865e+17,3.6893488147419104e+17,4.611686018427388e+17,6.456360425798342e+17,6.456360425798342e+17,4.611686018427388e+17,4.611686018427388e+17,5.534023222112865e+17,6.456360425798342e+17,4.611686018427388e+17,6.456360425798342e+17,5.534023222112865e+17,8.301034833169298e+17,5.534023222112865e+17,5.534023222112865e+17,1.8446744073709552e+17,4.611686018427388e+17,5.534023222112865e+17,6.456360425798342e+17,5.534023222112865e+17,2.7670116110564326e+17,7.378697629483821e+17,8.301034833169298e+17,7.378697629483821e+17,6.456360425798342e+17,9.223372036854776e+17,5.534023222112865e+17,7.378697629483821e+17,5.534023222112865e+17,6.456360425798342e+17,9.223372036854774e+16,3.6893488147419104e+17,1.844674407370955e+17,5.534023222112865e+17,5.534023222112865e+17,5.534023222112865e+17,8.301034833169298e+17,2.7670116110564326e+17,2.7670116110564326e+17,9.223372036854774e+16,2.767011611056432e+17,4.611686018427388e+17,5.534023222112865e+17,5.534023222112865e+17,6.456360425798342e+17,6.456360425798342e+17,5.534023222112865e+17,4.611686018427388e+17,4.611686018427388e+17,4.611686018427388e+17,6.456360425798342e+17,7.378697629483821e+17,9.223372036854776e+17,6.456360425798342e+17,7.378697629483821e+17,6.456360425798342e+17,2.7670116110564326e+17,6.456360425798342e+17,5.534023222112865e+17,6.456360425798342e+17,5.534023222112865e+17,4.611686018427388e+17,6.456360425798342e+17,9.223372036854774e+16,4.611686018427388e+17,2.7670116110564326e+17,4.611686018427388e+17,5.534023222112865e+17,8.301034833169298e+17,4.611686018427388e+17,4.611686018427388e+17,7.378697629483821e+17,6.456360425798342e+17,4.611686018427388e+17,3.6893488147419104e+17,9.223372036854774e+16,9.223372036854773e+16,4.611686018427388e+17,6.456360425798342e+17,7.378697629483821e+17,4.611686018427388e+17,7.378697629483821e+17,6.456360425798342e+17,5.534023222112865e+17,1.844674407370955e+17,6.456360425798342e+17,3.6893488147419104e+17,5.534023222112865e+17,6.456360425798342e+17,6.456360425798342e+17,3.6893488147419104e+17,4.611686018427388e+17,7.378697629483821e+17,7.378697629483821e+17,6.456360425798342e+17,4.611686018427388e+17,7.378697629483821e+17,5.534023222112865e+17,5.534023222112865e+17,4.611686018427388e+17,7.378697629483821e+17,6.456360425798342e+17,4.611686018427388e+17,8.301034833169298e+17,4.611686018427388e+17,3.6893488147419104e+17,3.6893488147419104e+17,2.7670116110564326e+17,1.8446744073709552e+17,4.611686018427388e+17,6.456360425798342e+17,6.456360425798342e+17,6.456360425798342e+17,6.456360425798342e+17,3.6893488147419104e+17,2.7670116110564326e+17,1.8446744073709552e+17,5.534023222112865e+17,6.456360425798342e+17,6.456360425798342e+17,5.534023222112865e+17,5.534023222112865e+17,3.6893488147419104e+17,4.611686018427388e+17,5.534023222112865e+17,1.8446744073709552e+17,6.456360425798342e+17,4.611686018427388e+17,3.6893488147419104e+17,2.7670116110564326e+17,5.534023222112865e+17,5.534023222112865e+17,5.534023222112865e+17,4.611686018427388e+17,5.534023222112865e+17,2.7670116110564326e+17,3.6893488147419104e+17,6.456360425798342e+17,6.456360425798342e+17,5.534023222112865e+17,2.767011611056432e+17,2.7670116110564326e+17,3.6893488147419104e+17,2.7670116110564326e+17,4.611686018427388e+17,9.223372036854776e+16,1.8446744073709552e+17,6.456360425798342e+17,5.534023222112865e+17,8.301034833169298e+17,6.456360425798342e+17,3.6893488147419104e+17,6.456360425798342e+17,5.534023222112865e+17,7.378697629483821e+17,5.534023222112865e+17,2.7670116110564326e+17,5.534023222112865e+17,4.611686018427388e+17,7.378697629483821e+17,4.611686018427388e+17,5.534023222112865e+17,6.456360425798342e+17,4.611686018427388e+17,5.534023222112865e+17,4.611686018427388e+17,5.534023222112865e+17,4.611686018427388e+17,3.6893488147419104e+17,7.378697629483821e+17,1.8446744073709552e+17,9.223372036854774e+16,9.223372036854774e+16,4.611686018427388e+17,7.378697629483821e+17,5.534023222112865e+17,5.534023222112865e+17,5.534023222112865e+17,3.6893488147419104e+17,8.301034833169298e+17,6.456360425798342e+17,7.378697629483821e+17,3.6893488147419104e+17,5.534023222112865e+17,3.6893488147419104e+17,5.534023222112865e+17,6.456360425798342e+17,7.378697629483821e+17,2.7670116110564326e+17,6.456360425798342e+17,8.301034833169298e+17,2.7670116110564326e+17,4.611686018427388e+17,5.534023222112865e+17,7.378697629483821e+17,4.611686018427388e+17,7.378697629483821e+17,1.8446744073709552e+17,8.301034833169298e+17,9.223372036854776e+16,-47.15,2.7670116110564326e+17,5.534023222112865e+17,5.534023222112865e+17,6.456360425798342e+17,4.611686018427388e+17,5.534023222112865e+17,6.456360425798342e+17,4.611686018427388e+17,7.378697629483821e+17,7.378697629483821e+17,6.456360425798342e+17,2.7670116110564326e+17,1.844674407370955e+17,3.6893488147419104e+17,6.456360425798342e+17,4.611686018427388e+17,7.378697629483821e+17,7.378697629483821e+17,6.456360425798342e+17,4.611686018427388e+17,6.456360425798342e+17,6.456360425798342e+17,6.456360425798342e+17,1.8446744073709552e+17,2.7670116110564326e+17,6.456360425798342e+17,5.534023222112865e+17,5.534023222112865e+17,4.611686018427388e+17,5.534023222112865e+17,6.456360425798342e+17,6.456360425798342e+17,4.611686018427388e+17,5.534023222112865e+17,6.456360425798342e+17,5.534023222112865e+17,6.456360425798342e+17,5.534023222112865e+17,3.6893488147419104e+17,5.534023222112865e+17,6.456360425798342e+17,5.534023222112865e+17,6.456360425798342e+17,4.611686018427388e+17,9.223372036854774e+16,-47.06,4.611686018427388e+17,8.301034833169298e+17,1.8446744073709552e+17,4.611686018427388e+17,7.378697629483821e+17,8.301034833169298e+17,4.611686018427388e+17,6.456360425798342e+17,8.301034833169298e+17,5.534023222112865e+17,6.456360425798342e+17,6.456360425798342e+17,9.223372036854773e+16,2.7670116110564326e+17,4.611686018427388e+17,2.7670116110564326e+17,7.378697629483821e+17,9.223372036854776e+16,5.534023222112865e+17,7.378697629483821e+17,3.6893488147419104e+17,3.6893488147419104e+17,1.8446744073709552e+17,3.6893488147419104e+17,4.611686018427388e+17,5.534023222112865e+17,5.534023222112865e+17,6.456360425798342e+17,6.456360425798342e+17,5.534023222112865e+17,3.6893488147419104e+17,5.534023222112865e+17,3.6893488147419104e+17,6.456360425798342e+17,1.844674407370955e+17,5.534023222112865e+17,6.456360425798342e+17,5.534023222112865e+17,1.8446744073709552e+17,1.844674407370955e+17,5.534023222112865e+17,3.6893488147419104e+17,7.378697629483821e+17,7.378697629483821e+17,6.456360425798342e+17,8.301034833169298e+17,4.611686018427388e+17,5.534023222112865e+17,6.456360425798342e+17,6.456360425798342e+17,6.456360425798342e+17,5.534023222112865e+17,8.301034833169298e+17,7.378697629483821e+17,4.611686018427388e+17,3.6893488147419104e+17,4.611686018427388e+17,7.378697629483821e+17,2.7670116110564326e+17,3.6893488147419104e+17,-31.089999999999996,3.6893488147419104e+17,4.611686018427388e+17,3.6893488147419104e+17,5.534023222112865e+17,5.534023222112865e+17,4.611686018427388e+17,8.301034833169298e+17,4.611686018427388e+17,7.378697629483821e+17,6.456360425798342e+17,6.456360425798342e+17,2.7670116110564326e+17,2.7670116110564326e+17,4.611686018427388e+17,2.7670116110564326e+17,6.456360425798342e+17,5.534023222112865e+17,4.611686018427388e+17,5.534023222112865e+17,8.301034833169298e+17,5.534023222112865e+17,7.378697629483821e+17,6.456360425798342e+17,6.456360425798342e+17,5.534023222112865e+17,5.534023222112865e+17,7.378697629483821e+17,4.611686018427388e+17,5.534023222112865e+17,3.6893488147419104e+17,4.611686018427388e+17,5.534023222112865e+17,5.534023222112865e+17,5.534023222112865e+17,9.223372036854774e+16,1.844674407370955e+17,6.456360425798342e+17,5.534023222112865e+17,7.378697629483821e+17,6.456360425798342e+17,7.378697629483821e+17,7.378697629483821e+17,3.6893488147419104e+17,4.611686018427388e+17,8.301034833169298e+17,6.456360425798342e+17,4.611686018427388e+17,3.6893488147419104e+17,7.378697629483821e+17,2.7670116110564326e+17,5.534023222112865e+17,2.7670116110564326e+17,2.7670116110564326e+17,3.6893488147419104e+17,4.611686018427388e+17,1.8446744073709552e+17,5.534023222112865e+17,4.611686018427388e+17,6.456360425798342e+17,5.534023222112865e+17,6.456360425798342e+17,6.456360425798342e+17,5.534023222112865e+17,5.534023222112865e+17,5.534023222112865e+17,2.7670116110564326e+17,3.6893488147419104e+17,5.534023222112865e+17,5.534023222112865e+17,6.456360425798342e+17,6.456360425798342e+17,4.611686018427388e+17,6.456360425798342e+17,1.8446744073709552e+17,3.6893488147419104e+17,9.223372036854774e+16,4.611686018427388e+17,4.611686018427388e+17,7.378697629483821e+17,9.223372036854774e+16,-17.18,1.8446744073709552e+17,4.611686018427388e+17,3.6893488147419104e+17,4.611686018427388e+17,6.456360425798342e+17,7.378697629483821e+17,3.6893488147419104e+17,7.378697629483821e+17,4.611686018427388e+17],\"type\":\"scatter\"},{\"mode\":\"lines+markers\",\"name\":\"Q-Learning\",\"x\":[0,1,2,3,4,5,6,7,8,9,10,11,12,13,14,15,16,17,18,19,20,21,22,23,24,25,26,27,28,29,30,31,32,33,34,35,36,37,38,39,40,41,42,43,44,45,46,47,48,49,50,51,52,53,54,55,56,57,58,59,60,61,62,63,64,65,66,67,68,69,70,71,72,73,74,75,76,77,78,79,80,81,82,83,84,85,86,87,88,89,90,91,92,93,94,95,96,97,98,99,100,101,102,103,104,105,106,107,108,109,110,111,112,113,114,115,116,117,118,119,120,121,122,123,124,125,126,127,128,129,130,131,132,133,134,135,136,137,138,139,140,141,142,143,144,145,146,147,148,149,150,151,152,153,154,155,156,157,158,159,160,161,162,163,164,165,166,167,168,169,170,171,172,173,174,175,176,177,178,179,180,181,182,183,184,185,186,187,188,189,190,191,192,193,194,195,196,197,198,199,200,201,202,203,204,205,206,207,208,209,210,211,212,213,214,215,216,217,218,219,220,221,222,223,224,225,226,227,228,229,230,231,232,233,234,235,236,237,238,239,240,241,242,243,244,245,246,247,248,249,250,251,252,253,254,255,256,257,258,259,260,261,262,263,264,265,266,267,268,269,270,271,272,273,274,275,276,277,278,279,280,281,282,283,284,285,286,287,288,289,290,291,292,293,294,295,296,297,298,299,300,301,302,303,304,305,306,307,308,309,310,311,312,313,314,315,316,317,318,319,320,321,322,323,324,325,326,327,328,329,330,331,332,333,334,335,336,337,338,339,340,341,342,343,344,345,346,347,348,349,350,351,352,353,354,355,356,357,358,359,360,361,362,363,364,365,366,367,368,369,370,371,372,373,374,375,376,377,378,379,380,381,382,383,384,385,386,387,388,389,390,391,392,393,394,395,396,397,398,399,400,401,402,403,404,405,406,407,408,409,410,411,412,413,414,415,416,417,418,419,420,421,422,423,424,425,426,427,428,429,430,431,432,433,434,435,436,437,438,439,440,441,442,443,444,445,446,447,448,449,450,451,452,453,454,455,456,457,458,459,460,461,462,463,464,465,466,467,468,469,470,471,472,473,474,475,476,477,478,479,480,481,482,483,484,485,486,487,488,489,490,491,492,493,494,495,496,497,498,499,500,501,502,503,504,505,506,507,508,509,510,511,512,513,514,515,516,517,518,519,520,521,522,523,524,525,526,527,528,529,530,531,532,533,534,535,536,537,538,539,540,541,542,543,544,545,546,547,548,549,550,551,552,553,554,555,556,557,558,559,560,561,562,563,564,565,566,567,568,569,570,571,572,573,574,575,576,577,578,579,580,581,582,583,584,585,586,587,588,589,590,591,592,593,594,595,596,597,598,599,600,601,602,603,604,605,606,607,608,609,610,611,612,613,614,615,616,617,618,619,620,621,622,623,624,625,626,627,628,629,630,631,632,633,634,635,636,637,638,639,640,641,642,643,644,645,646,647,648,649,650,651,652,653,654,655,656,657,658,659,660,661,662,663,664,665,666,667,668,669,670,671,672,673,674,675,676,677,678,679,680,681,682,683,684,685,686,687,688,689,690,691,692,693,694,695,696,697,698,699,700,701,702,703,704,705,706,707,708,709,710,711,712,713,714,715,716,717,718,719,720,721,722,723,724,725,726,727,728,729,730,731,732,733,734,735,736,737,738,739,740,741,742,743,744,745,746,747,748,749,750,751,752,753,754,755,756,757,758,759,760,761,762,763,764,765,766,767,768,769,770,771,772,773,774,775,776,777,778,779,780,781,782,783,784,785,786,787,788,789,790,791,792,793,794,795,796,797,798,799,800,801,802,803,804,805,806,807,808,809,810,811,812,813,814,815,816,817,818,819,820,821,822,823,824,825,826,827,828,829,830,831,832,833,834,835,836,837,838,839,840,841,842,843,844,845,846,847,848,849,850,851,852,853,854,855,856,857,858,859,860,861,862,863,864,865,866,867,868,869,870,871,872,873,874,875,876,877,878,879,880,881,882,883,884,885,886,887,888,889,890,891,892,893,894,895,896,897,898,899,900,901,902,903,904,905,906,907,908,909,910,911,912,913,914,915,916,917,918,919,920,921,922,923,924,925,926,927,928,929,930,931,932,933,934,935,936,937,938,939,940,941,942,943,944,945,946,947,948,949,950,951,952,953,954,955,956,957,958,959,960,961,962,963,964,965,966,967,968,969,970,971,972,973,974,975,976,977,978,979,980,981,982,983,984,985,986,987,988,989,990,991,992,993,994,995,996,997,998,999],\"y\":[-1.413,-1.4949999999999999,1.844674407370955e+16,-1.8240000000000003,-2.097,-1.4780000000000002,-1.5550000000000002,-1.85,-2.056,-2.168,-1.823,-1.8780000000000001,-2.145,-2.493,-2.419,-1.746,-1.624,-2.646,-2.255,-2.471,-1.7080000000000002,-2.0580000000000003,-2.369,-1.4709999999999999,-1.686,-1.668,-2.194,-1.6469999999999998,-2.3369999999999997,-2.3449999999999998,-2.332,-2.056,-2.209,-1.6759999999999997,9223372036854776.0,-1.6149999999999998,-1.702,-1.828,-1.5690000000000002,-1.9600000000000002,-1.7530000000000001,-2.229,-2.186,-2.027,-2.437,-1.8030000000000002,-1.69,-1.709,-1.4540000000000002,-1.848,-2.341,-2.63,3.68934881474191e+16,-1.9490000000000003,-1.7109999999999999,5.534023222112866e+16,6.456360425798342e+16,6.456360425798342e+16,8.301034833169298e+16,6.456360425798342e+16,7.37869762948382e+16,3.68934881474191e+16,5.534023222112866e+16,1.8446744073709548e+16,4.611686018427388e+16,8.301034833169298e+16,6.456360425798342e+16,1.844674407370955e+16,9.223372036854776e+16,5.534023222112866e+16,6.456360425798342e+16,6.456360425798342e+16,7.37869762948382e+16,3.68934881474191e+16,6.456360425798342e+16,5.534023222112866e+16,3.68934881474191e+16,5.534023222112866e+16,4.611686018427388e+16,4.611686018427388e+16,4.611686018427388e+16,4.611686018427388e+16,9223372036854774.0,2.767011611056433e+16,5.534023222112866e+16,1.8446744073709548e+16,1.8446744073709548e+16,3.68934881474191e+16,6.456360425798342e+16,6.456360425798342e+16,7.37869762948382e+16,6.456360425798342e+16,5.534023222112866e+16,3.68934881474191e+16,6.456360425798342e+16,4.611686018427388e+16,5.534023222112866e+16,5.534023222112866e+16,3.68934881474191e+16,6.456360425798342e+16,6.456360425798342e+16,3.68934881474191e+16,5.534023222112866e+16,4.611686018427388e+16,9.223372036854776e+16,4.611686018427388e+16,5.534023222112866e+16,7.37869762948382e+16,4.611686018427388e+16,6.456360425798342e+16,6.456360425798342e+16,7.37869762948382e+16,7.37869762948382e+16,5.534023222112866e+16,8.301034833169298e+16,2.767011611056433e+16,6.456360425798342e+16,5.534023222112866e+16,2.767011611056433e+16,2.767011611056433e+16,3.68934881474191e+16,2.767011611056433e+16,6.456360425798342e+16,3.68934881474191e+16,3.68934881474191e+16,5.534023222112866e+16,4.611686018427388e+16,7.37869762948382e+16,3.68934881474191e+16,5.534023222112866e+16,-1.841,9223372036854772.0,7.37869762948382e+16,4.611686018427388e+16,5.534023222112866e+16,6.456360425798342e+16,6.456360425798342e+16,6.456360425798342e+16,5.534023222112866e+16,3.68934881474191e+16,5.534023222112866e+16,4.611686018427388e+16,3.68934881474191e+16,7.37869762948382e+16,4.611686018427388e+16,5.534023222112866e+16,8.301034833169298e+16,6.456360425798342e+16,7.37869762948382e+16,3.68934881474191e+16,4.611686018427388e+16,5.534023222112866e+16,5.534023222112866e+16,2.767011611056433e+16,5.534023222112866e+16,4.611686018427388e+16,1.844674407370955e+16,7.37869762948382e+16,5.534023222112866e+16,6.456360425798342e+16,5.534023222112866e+16,3.68934881474191e+16,6.456360425798342e+16,8.301034833169298e+16,7.37869762948382e+16,5.534023222112866e+16,6.456360425798342e+16,4.611686018427388e+16,3.68934881474191e+16,3.68934881474191e+16,6.456360425798342e+16,6.456360425798342e+16,6.456360425798342e+16,5.534023222112866e+16,6.456360425798342e+16,5.534023222112866e+16,6.456360425798342e+16,1.8446744073709548e+16,1.844674407370955e+16,9223372036854774.0,1.8446744073709548e+16,3.68934881474191e+16,4.611686018427388e+16,6.456360425798342e+16,8.301034833169298e+16,4.611686018427388e+16,8.301034833169298e+16,5.534023222112866e+16,4.611686018427388e+16,5.534023222112866e+16,4.611686018427388e+16,5.534023222112866e+16,4.611686018427388e+16,4.611686018427388e+16,-2.143,-4.933999999999999,4.611686018427388e+16,4.611686018427388e+16,6.456360425798342e+16,6.456360425798342e+16,4.611686018427388e+16,5.534023222112866e+16,2.767011611056433e+16,5.534023222112866e+16,3.68934881474191e+16,4.611686018427388e+16,8.301034833169298e+16,6.456360425798342e+16,5.534023222112866e+16,6.456360425798342e+16,5.534023222112866e+16,6.456360425798342e+16,5.534023222112866e+16,8.301034833169298e+16,7.37869762948382e+16,5.534023222112866e+16,6.456360425798342e+16,4.611686018427388e+16,7.37869762948382e+16,6.456360425798342e+16,3.68934881474191e+16,6.456360425798342e+16,6.456360425798342e+16,4.611686018427388e+16,9223372036854774.0,9223372036854772.0,9223372036854774.0,3.68934881474191e+16,7.37869762948382e+16,5.534023222112866e+16,4.611686018427388e+16,7.37869762948382e+16,3.68934881474191e+16,3.68934881474191e+16,4.611686018427388e+16,4.611686018427388e+16,4.611686018427388e+16,6.456360425798342e+16,7.37869762948382e+16,8.301034833169298e+16,5.534023222112866e+16,7.37869762948382e+16,4.611686018427388e+16,7.37869762948382e+16,3.68934881474191e+16,7.37869762948382e+16,6.456360425798342e+16,5.534023222112866e+16,4.611686018427388e+16,6.456360425798342e+16,4.611686018427388e+16,6.456360425798342e+16,4.611686018427388e+16,5.534023222112866e+16,4.611686018427388e+16,4.611686018427388e+16,1.844674407370955e+16,8.301034833169298e+16,5.534023222112866e+16,6.456360425798342e+16,9223372036854774.0,8.301034833169298e+16,4.611686018427388e+16,5.534023222112866e+16,7.37869762948382e+16,4.611686018427388e+16,5.534023222112866e+16,3.68934881474191e+16,-4.082,2.767011611056433e+16,6.456360425798342e+16,5.534023222112866e+16,5.534023222112866e+16,4.611686018427388e+16,7.37869762948382e+16,5.534023222112866e+16,3.68934881474191e+16,4.611686018427388e+16,7.37869762948382e+16,7.37869762948382e+16,5.534023222112866e+16,3.68934881474191e+16,5.534023222112866e+16,7.37869762948382e+16,7.37869762948382e+16,3.68934881474191e+16,6.456360425798342e+16,7.37869762948382e+16,7.37869762948382e+16,2.767011611056433e+16,4.611686018427388e+16,9223372036854774.0,1.8446744073709548e+16,4.611686018427388e+16,7.37869762948382e+16,7.37869762948382e+16,4.611686018427388e+16,7.37869762948382e+16,4.611686018427388e+16,4.611686018427388e+16,4.611686018427388e+16,5.534023222112866e+16,6.456360425798342e+16,2.767011611056433e+16,5.534023222112866e+16,3.68934881474191e+16,5.534023222112866e+16,7.37869762948382e+16,4.611686018427388e+16,5.534023222112866e+16,2.767011611056433e+16,7.37869762948382e+16,6.456360425798342e+16,5.534023222112866e+16,6.456360425798342e+16,5.534023222112866e+16,4.611686018427388e+16,4.611686018427388e+16,2.767011611056433e+16,1.844674407370955e+16,5.534023222112866e+16,4.611686018427388e+16,3.68934881474191e+16,2.767011611056433e+16,4.611686018427388e+16,6.456360425798342e+16,8.301034833169298e+16,7.37869762948382e+16,3.68934881474191e+16,5.534023222112866e+16,5.534023222112866e+16,6.456360425798342e+16,4.611686018427388e+16,7.37869762948382e+16,3.68934881474191e+16,3.68934881474191e+16,2.767011611056433e+16,7.37869762948382e+16,6.456360425798342e+16,3.68934881474191e+16,6.456360425798342e+16,6.456360425798342e+16,3.68934881474191e+16,1.844674407370955e+16,6.456360425798342e+16,6.456360425798342e+16,7.37869762948382e+16,5.534023222112866e+16,7.37869762948382e+16,-2.009,9223372036854772.0,3.68934881474191e+16,7.37869762948382e+16,5.534023222112866e+16,6.456360425798342e+16,4.611686018427388e+16,7.37869762948382e+16,6.456360425798342e+16,3.68934881474191e+16,8.301034833169298e+16,7.37869762948382e+16,3.68934881474191e+16,9223372036854772.0,1.844674407370955e+16,3.68934881474191e+16,5.534023222112866e+16,4.611686018427388e+16,6.456360425798342e+16,3.68934881474191e+16,6.456360425798342e+16,6.456360425798342e+16,7.37869762948382e+16,7.37869762948382e+16,4.611686018427388e+16,5.534023222112866e+16,5.534023222112866e+16,4.611686018427388e+16,7.37869762948382e+16,7.37869762948382e+16,9223372036854776.0,4.611686018427388e+16,3.68934881474191e+16,3.68934881474191e+16,7.37869762948382e+16,3.68934881474191e+16,8.301034833169298e+16,6.456360425798342e+16,1.844674407370955e+16,4.611686018427388e+16,1.844674407370955e+16,5.534023222112866e+16,6.456360425798342e+16,4.611686018427388e+16,6.456360425798342e+16,6.456360425798342e+16,6.456360425798342e+16,6.456360425798342e+16,1.844674407370955e+16,6.456360425798342e+16,3.68934881474191e+16,5.534023222112866e+16,7.37869762948382e+16,5.534023222112866e+16,8.301034833169298e+16,4.611686018427388e+16,5.534023222112866e+16,7.37869762948382e+16,6.456360425798342e+16,5.534023222112866e+16,6.456360425798342e+16,9223372036854774.0,3.68934881474191e+16,7.37869762948382e+16,7.37869762948382e+16,8.301034833169298e+16,9223372036854774.0,-2.674,-1.845,-2.617,1.8446744073709548e+16,9223372036854772.0,1.8446744073709548e+16,5.534023222112866e+16,5.534023222112866e+16,7.37869762948382e+16,6.456360425798342e+16,2.767011611056433e+16,6.456360425798342e+16,5.534023222112866e+16,7.37869762948382e+16,6.456360425798342e+16,6.456360425798342e+16,6.456360425798342e+16,7.37869762948382e+16,5.534023222112866e+16,5.534023222112866e+16,3.68934881474191e+16,3.68934881474191e+16,4.611686018427388e+16,3.68934881474191e+16,4.611686018427388e+16,4.611686018427388e+16,7.37869762948382e+16,5.534023222112866e+16,2.767011611056433e+16,4.611686018427388e+16,6.456360425798342e+16,5.534023222112866e+16,6.456360425798342e+16,3.68934881474191e+16,5.534023222112866e+16,7.37869762948382e+16,5.534023222112866e+16,7.37869762948382e+16,2.767011611056433e+16,6.456360425798342e+16,7.37869762948382e+16,6.456360425798342e+16,8.301034833169298e+16,7.37869762948382e+16,3.68934881474191e+16,4.611686018427388e+16,6.456360425798342e+16,7.37869762948382e+16,7.37869762948382e+16,5.534023222112866e+16,6.456360425798342e+16,4.611686018427388e+16,1.844674407370955e+16,7.37869762948382e+16,7.37869762948382e+16,2.767011611056433e+16,4.611686018427388e+16,1.844674407370955e+16,4.611686018427388e+16,5.534023222112866e+16,5.534023222112866e+16,4.611686018427388e+16,5.534023222112866e+16,2.767011611056433e+16,7.37869762948382e+16,8.301034833169298e+16,1.844674407370955e+16,2.767011611056433e+16,3.68934881474191e+16,3.68934881474191e+16,4.611686018427388e+16,7.37869762948382e+16,6.456360425798342e+16,5.534023222112866e+16,6.456360425798342e+16,4.611686018427388e+16,6.456360425798342e+16,7.37869762948382e+16,5.534023222112866e+16,4.611686018427388e+16,2.767011611056433e+16,6.456360425798342e+16,4.611686018427388e+16,6.456360425798342e+16,7.37869762948382e+16,-3.339,6.456360425798342e+16,9223372036854774.0,5.534023222112866e+16,5.534023222112866e+16,5.534023222112866e+16,3.68934881474191e+16,6.456360425798342e+16,7.37869762948382e+16,3.68934881474191e+16,5.534023222112866e+16,4.611686018427388e+16,5.534023222112866e+16,3.68934881474191e+16,2.767011611056433e+16,5.534023222112866e+16,1.844674407370955e+16,5.534023222112866e+16,6.456360425798342e+16,7.37869762948382e+16,5.534023222112866e+16,5.534023222112866e+16,5.534023222112866e+16,2.767011611056433e+16,6.456360425798342e+16,6.456360425798342e+16,6.456360425798342e+16,6.456360425798342e+16,4.611686018427388e+16,5.534023222112866e+16,2.767011611056433e+16,5.534023222112866e+16,5.534023222112866e+16,3.68934881474191e+16,3.68934881474191e+16,9.223372036854776e+16,4.611686018427388e+16,4.611686018427388e+16,6.456360425798342e+16,7.37869762948382e+16,5.534023222112866e+16,2.767011611056433e+16,5.534023222112866e+16,6.456360425798342e+16,6.456360425798342e+16,5.534023222112866e+16,6.456360425798342e+16,4.611686018427388e+16,6.456360425798342e+16,4.611686018427388e+16,4.611686018427388e+16,4.611686018427388e+16,4.611686018427388e+16,6.456360425798342e+16,7.37869762948382e+16,3.68934881474191e+16,6.456360425798342e+16,3.68934881474191e+16,2.767011611056433e+16,7.37869762948382e+16,3.68934881474191e+16,5.534023222112866e+16,9223372036854774.0,2.767011611056433e+16,7.37869762948382e+16,5.534023222112866e+16,5.534023222112866e+16,9223372036854774.0,5.534023222112866e+16,6.456360425798342e+16,3.68934881474191e+16,6.456360425798342e+16,-2.7439999999999998,2.767011611056433e+16,6.456360425798342e+16,7.37869762948382e+16,5.534023222112866e+16,5.534023222112866e+16,2.767011611056433e+16,4.611686018427388e+16,3.68934881474191e+16,5.534023222112866e+16,5.534023222112866e+16,4.611686018427388e+16,6.456360425798342e+16,2.767011611056433e+16,4.611686018427388e+16,4.611686018427388e+16,8.301034833169298e+16,6.456360425798342e+16,6.456360425798342e+16,4.611686018427388e+16,4.611686018427388e+16,4.611686018427388e+16,1.844674407370955e+16,6.456360425798342e+16,5.534023222112866e+16,6.456360425798342e+16,4.611686018427388e+16,4.611686018427388e+16,6.456360425798342e+16,5.534023222112866e+16,3.68934881474191e+16,4.611686018427388e+16,6.456360425798342e+16,6.456360425798342e+16,4.611686018427388e+16,4.611686018427388e+16,5.534023222112866e+16,6.456360425798342e+16,4.611686018427388e+16,6.456360425798342e+16,5.534023222112866e+16,8.301034833169298e+16,5.534023222112866e+16,5.534023222112866e+16,1.844674407370955e+16,4.611686018427388e+16,5.534023222112866e+16,6.456360425798342e+16,5.534023222112866e+16,2.767011611056433e+16,7.37869762948382e+16,8.301034833169298e+16,7.37869762948382e+16,6.456360425798342e+16,9.223372036854776e+16,5.534023222112866e+16,7.37869762948382e+16,5.534023222112866e+16,6.456360425798342e+16,9223372036854774.0,3.68934881474191e+16,1.8446744073709548e+16,5.534023222112866e+16,5.534023222112866e+16,5.534023222112866e+16,8.301034833169298e+16,2.767011611056433e+16,2.767011611056433e+16,9223372036854774.0,2.767011611056432e+16,4.611686018427388e+16,5.534023222112866e+16,5.534023222112866e+16,6.456360425798342e+16,6.456360425798342e+16,5.534023222112866e+16,4.611686018427388e+16,4.611686018427388e+16,4.611686018427388e+16,6.456360425798342e+16,7.37869762948382e+16,9.223372036854776e+16,6.456360425798342e+16,7.37869762948382e+16,6.456360425798342e+16,2.767011611056433e+16,6.456360425798342e+16,5.534023222112866e+16,6.456360425798342e+16,5.534023222112866e+16,4.611686018427388e+16,6.456360425798342e+16,9223372036854774.0,4.611686018427388e+16,2.767011611056433e+16,4.611686018427388e+16,5.534023222112866e+16,8.301034833169298e+16,4.611686018427388e+16,4.611686018427388e+16,7.37869762948382e+16,6.456360425798342e+16,4.611686018427388e+16,3.68934881474191e+16,9223372036854774.0,9223372036854772.0,4.611686018427388e+16,6.456360425798342e+16,7.37869762948382e+16,4.611686018427388e+16,7.37869762948382e+16,6.456360425798342e+16,5.534023222112866e+16,1.8446744073709548e+16,6.456360425798342e+16,3.68934881474191e+16,5.534023222112866e+16,6.456360425798342e+16,6.456360425798342e+16,3.68934881474191e+16,4.611686018427388e+16,7.37869762948382e+16,7.37869762948382e+16,6.456360425798342e+16,4.611686018427388e+16,7.37869762948382e+16,5.534023222112866e+16,5.534023222112866e+16,4.611686018427388e+16,7.37869762948382e+16,6.456360425798342e+16,4.611686018427388e+16,8.301034833169298e+16,4.611686018427388e+16,3.68934881474191e+16,3.68934881474191e+16,2.767011611056433e+16,1.844674407370955e+16,4.611686018427388e+16,6.456360425798342e+16,6.456360425798342e+16,6.456360425798342e+16,6.456360425798342e+16,3.68934881474191e+16,2.767011611056433e+16,1.844674407370955e+16,5.534023222112866e+16,6.456360425798342e+16,6.456360425798342e+16,5.534023222112866e+16,5.534023222112866e+16,3.68934881474191e+16,4.611686018427388e+16,5.534023222112866e+16,1.844674407370955e+16,6.456360425798342e+16,4.611686018427388e+16,3.68934881474191e+16,2.767011611056433e+16,5.534023222112866e+16,5.534023222112866e+16,5.534023222112866e+16,4.611686018427388e+16,5.534023222112866e+16,2.767011611056433e+16,3.68934881474191e+16,6.456360425798342e+16,6.456360425798342e+16,5.534023222112866e+16,2.767011611056432e+16,2.767011611056433e+16,3.68934881474191e+16,2.767011611056433e+16,4.611686018427388e+16,9223372036854776.0,1.844674407370955e+16,6.456360425798342e+16,5.534023222112866e+16,8.301034833169298e+16,6.456360425798342e+16,3.68934881474191e+16,6.456360425798342e+16,5.534023222112866e+16,7.37869762948382e+16,5.534023222112866e+16,2.767011611056433e+16,5.534023222112866e+16,4.611686018427388e+16,7.37869762948382e+16,4.611686018427388e+16,5.534023222112866e+16,6.456360425798342e+16,4.611686018427388e+16,5.534023222112866e+16,4.611686018427388e+16,5.534023222112866e+16,4.611686018427388e+16,3.68934881474191e+16,7.37869762948382e+16,1.844674407370955e+16,9223372036854774.0,9223372036854774.0,4.611686018427388e+16,7.37869762948382e+16,5.534023222112866e+16,5.534023222112866e+16,5.534023222112866e+16,3.68934881474191e+16,8.301034833169298e+16,6.456360425798342e+16,7.37869762948382e+16,3.68934881474191e+16,5.534023222112866e+16,3.68934881474191e+16,5.534023222112866e+16,6.456360425798342e+16,7.37869762948382e+16,2.767011611056433e+16,6.456360425798342e+16,8.301034833169298e+16,2.767011611056433e+16,4.611686018427388e+16,5.534023222112866e+16,7.37869762948382e+16,4.611686018427388e+16,7.37869762948382e+16,1.844674407370955e+16,8.301034833169298e+16,9223372036854776.0,-4.715,2.767011611056433e+16,5.534023222112866e+16,5.534023222112866e+16,6.456360425798342e+16,4.611686018427388e+16,5.534023222112866e+16,6.456360425798342e+16,4.611686018427388e+16,7.37869762948382e+16,7.37869762948382e+16,6.456360425798342e+16,2.767011611056433e+16,1.8446744073709548e+16,3.68934881474191e+16,6.456360425798342e+16,4.611686018427388e+16,7.37869762948382e+16,7.37869762948382e+16,6.456360425798342e+16,4.611686018427388e+16,6.456360425798342e+16,6.456360425798342e+16,6.456360425798342e+16,1.844674407370955e+16,2.767011611056433e+16,6.456360425798342e+16,5.534023222112866e+16,5.534023222112866e+16,4.611686018427388e+16,5.534023222112866e+16,6.456360425798342e+16,6.456360425798342e+16,4.611686018427388e+16,5.534023222112866e+16,6.456360425798342e+16,5.534023222112866e+16,6.456360425798342e+16,5.534023222112866e+16,3.68934881474191e+16,5.534023222112866e+16,6.456360425798342e+16,5.534023222112866e+16,6.456360425798342e+16,4.611686018427388e+16,9223372036854774.0,-4.706,4.611686018427388e+16,8.301034833169298e+16,1.844674407370955e+16,4.611686018427388e+16,7.37869762948382e+16,8.301034833169298e+16,4.611686018427388e+16,6.456360425798342e+16,8.301034833169298e+16,5.534023222112866e+16,6.456360425798342e+16,6.456360425798342e+16,9223372036854772.0,2.767011611056433e+16,4.611686018427388e+16,2.767011611056433e+16,7.37869762948382e+16,9223372036854776.0,5.534023222112866e+16,7.37869762948382e+16,3.68934881474191e+16,3.68934881474191e+16,1.844674407370955e+16,3.68934881474191e+16,4.611686018427388e+16,5.534023222112866e+16,5.534023222112866e+16,6.456360425798342e+16,6.456360425798342e+16,5.534023222112866e+16,3.68934881474191e+16,5.534023222112866e+16,3.68934881474191e+16,6.456360425798342e+16,1.8446744073709548e+16,5.534023222112866e+16,6.456360425798342e+16,5.534023222112866e+16,1.844674407370955e+16,1.8446744073709548e+16,5.534023222112866e+16,3.68934881474191e+16,7.37869762948382e+16,7.37869762948382e+16,6.456360425798342e+16,8.301034833169298e+16,4.611686018427388e+16,5.534023222112866e+16,6.456360425798342e+16,6.456360425798342e+16,6.456360425798342e+16,5.534023222112866e+16,8.301034833169298e+16,7.37869762948382e+16,4.611686018427388e+16,3.68934881474191e+16,4.611686018427388e+16,7.37869762948382e+16,2.767011611056433e+16,3.68934881474191e+16,-3.1089999999999995,3.68934881474191e+16,4.611686018427388e+16,3.68934881474191e+16,5.534023222112866e+16,5.534023222112866e+16,4.611686018427388e+16,8.301034833169298e+16,4.611686018427388e+16,7.37869762948382e+16,6.456360425798342e+16,6.456360425798342e+16,2.767011611056433e+16,2.767011611056433e+16,4.611686018427388e+16,2.767011611056433e+16,6.456360425798342e+16,5.534023222112866e+16,4.611686018427388e+16,5.534023222112866e+16,8.301034833169298e+16,5.534023222112866e+16,7.37869762948382e+16,6.456360425798342e+16,6.456360425798342e+16,5.534023222112866e+16,5.534023222112866e+16,7.37869762948382e+16,4.611686018427388e+16,5.534023222112866e+16,3.68934881474191e+16,4.611686018427388e+16,5.534023222112866e+16,5.534023222112866e+16,5.534023222112866e+16,9223372036854774.0,1.8446744073709548e+16,6.456360425798342e+16,5.534023222112866e+16,7.37869762948382e+16,6.456360425798342e+16,7.37869762948382e+16,7.37869762948382e+16,3.68934881474191e+16,4.611686018427388e+16,8.301034833169298e+16,6.456360425798342e+16,4.611686018427388e+16,3.68934881474191e+16,7.37869762948382e+16,2.767011611056433e+16,5.534023222112866e+16,2.767011611056433e+16,2.767011611056433e+16,3.68934881474191e+16,4.611686018427388e+16,1.844674407370955e+16,5.534023222112866e+16,4.611686018427388e+16,6.456360425798342e+16,5.534023222112866e+16,6.456360425798342e+16,6.456360425798342e+16,5.534023222112866e+16,5.534023222112866e+16,5.534023222112866e+16,2.767011611056433e+16,3.68934881474191e+16,5.534023222112866e+16,5.534023222112866e+16,6.456360425798342e+16,6.456360425798342e+16,4.611686018427388e+16,6.456360425798342e+16,1.844674407370955e+16,3.68934881474191e+16,9223372036854774.0,4.611686018427388e+16,4.611686018427388e+16,7.37869762948382e+16,9223372036854774.0,-1.718,1.844674407370955e+16,4.611686018427388e+16,3.68934881474191e+16,4.611686018427388e+16,6.456360425798342e+16,7.37869762948382e+16,3.68934881474191e+16,7.37869762948382e+16,4.611686018427388e+16],\"type\":\"scatter\"}],                        {\"template\":{\"data\":{\"bar\":[{\"error_x\":{\"color\":\"#2a3f5f\"},\"error_y\":{\"color\":\"#2a3f5f\"},\"marker\":{\"line\":{\"color\":\"#E5ECF6\",\"width\":0.5},\"pattern\":{\"fillmode\":\"overlay\",\"size\":10,\"solidity\":0.2}},\"type\":\"bar\"}],\"barpolar\":[{\"marker\":{\"line\":{\"color\":\"#E5ECF6\",\"width\":0.5},\"pattern\":{\"fillmode\":\"overlay\",\"size\":10,\"solidity\":0.2}},\"type\":\"barpolar\"}],\"carpet\":[{\"aaxis\":{\"endlinecolor\":\"#2a3f5f\",\"gridcolor\":\"white\",\"linecolor\":\"white\",\"minorgridcolor\":\"white\",\"startlinecolor\":\"#2a3f5f\"},\"baxis\":{\"endlinecolor\":\"#2a3f5f\",\"gridcolor\":\"white\",\"linecolor\":\"white\",\"minorgridcolor\":\"white\",\"startlinecolor\":\"#2a3f5f\"},\"type\":\"carpet\"}],\"choropleth\":[{\"colorbar\":{\"outlinewidth\":0,\"ticks\":\"\"},\"type\":\"choropleth\"}],\"contour\":[{\"colorbar\":{\"outlinewidth\":0,\"ticks\":\"\"},\"colorscale\":[[0.0,\"#0d0887\"],[0.1111111111111111,\"#46039f\"],[0.2222222222222222,\"#7201a8\"],[0.3333333333333333,\"#9c179e\"],[0.4444444444444444,\"#bd3786\"],[0.5555555555555556,\"#d8576b\"],[0.6666666666666666,\"#ed7953\"],[0.7777777777777778,\"#fb9f3a\"],[0.8888888888888888,\"#fdca26\"],[1.0,\"#f0f921\"]],\"type\":\"contour\"}],\"contourcarpet\":[{\"colorbar\":{\"outlinewidth\":0,\"ticks\":\"\"},\"type\":\"contourcarpet\"}],\"heatmap\":[{\"colorbar\":{\"outlinewidth\":0,\"ticks\":\"\"},\"colorscale\":[[0.0,\"#0d0887\"],[0.1111111111111111,\"#46039f\"],[0.2222222222222222,\"#7201a8\"],[0.3333333333333333,\"#9c179e\"],[0.4444444444444444,\"#bd3786\"],[0.5555555555555556,\"#d8576b\"],[0.6666666666666666,\"#ed7953\"],[0.7777777777777778,\"#fb9f3a\"],[0.8888888888888888,\"#fdca26\"],[1.0,\"#f0f921\"]],\"type\":\"heatmap\"}],\"heatmapgl\":[{\"colorbar\":{\"outlinewidth\":0,\"ticks\":\"\"},\"colorscale\":[[0.0,\"#0d0887\"],[0.1111111111111111,\"#46039f\"],[0.2222222222222222,\"#7201a8\"],[0.3333333333333333,\"#9c179e\"],[0.4444444444444444,\"#bd3786\"],[0.5555555555555556,\"#d8576b\"],[0.6666666666666666,\"#ed7953\"],[0.7777777777777778,\"#fb9f3a\"],[0.8888888888888888,\"#fdca26\"],[1.0,\"#f0f921\"]],\"type\":\"heatmapgl\"}],\"histogram\":[{\"marker\":{\"pattern\":{\"fillmode\":\"overlay\",\"size\":10,\"solidity\":0.2}},\"type\":\"histogram\"}],\"histogram2d\":[{\"colorbar\":{\"outlinewidth\":0,\"ticks\":\"\"},\"colorscale\":[[0.0,\"#0d0887\"],[0.1111111111111111,\"#46039f\"],[0.2222222222222222,\"#7201a8\"],[0.3333333333333333,\"#9c179e\"],[0.4444444444444444,\"#bd3786\"],[0.5555555555555556,\"#d8576b\"],[0.6666666666666666,\"#ed7953\"],[0.7777777777777778,\"#fb9f3a\"],[0.8888888888888888,\"#fdca26\"],[1.0,\"#f0f921\"]],\"type\":\"histogram2d\"}],\"histogram2dcontour\":[{\"colorbar\":{\"outlinewidth\":0,\"ticks\":\"\"},\"colorscale\":[[0.0,\"#0d0887\"],[0.1111111111111111,\"#46039f\"],[0.2222222222222222,\"#7201a8\"],[0.3333333333333333,\"#9c179e\"],[0.4444444444444444,\"#bd3786\"],[0.5555555555555556,\"#d8576b\"],[0.6666666666666666,\"#ed7953\"],[0.7777777777777778,\"#fb9f3a\"],[0.8888888888888888,\"#fdca26\"],[1.0,\"#f0f921\"]],\"type\":\"histogram2dcontour\"}],\"mesh3d\":[{\"colorbar\":{\"outlinewidth\":0,\"ticks\":\"\"},\"type\":\"mesh3d\"}],\"parcoords\":[{\"line\":{\"colorbar\":{\"outlinewidth\":0,\"ticks\":\"\"}},\"type\":\"parcoords\"}],\"pie\":[{\"automargin\":true,\"type\":\"pie\"}],\"scatter\":[{\"marker\":{\"colorbar\":{\"outlinewidth\":0,\"ticks\":\"\"}},\"type\":\"scatter\"}],\"scatter3d\":[{\"line\":{\"colorbar\":{\"outlinewidth\":0,\"ticks\":\"\"}},\"marker\":{\"colorbar\":{\"outlinewidth\":0,\"ticks\":\"\"}},\"type\":\"scatter3d\"}],\"scattercarpet\":[{\"marker\":{\"colorbar\":{\"outlinewidth\":0,\"ticks\":\"\"}},\"type\":\"scattercarpet\"}],\"scattergeo\":[{\"marker\":{\"colorbar\":{\"outlinewidth\":0,\"ticks\":\"\"}},\"type\":\"scattergeo\"}],\"scattergl\":[{\"marker\":{\"colorbar\":{\"outlinewidth\":0,\"ticks\":\"\"}},\"type\":\"scattergl\"}],\"scattermapbox\":[{\"marker\":{\"colorbar\":{\"outlinewidth\":0,\"ticks\":\"\"}},\"type\":\"scattermapbox\"}],\"scatterpolar\":[{\"marker\":{\"colorbar\":{\"outlinewidth\":0,\"ticks\":\"\"}},\"type\":\"scatterpolar\"}],\"scatterpolargl\":[{\"marker\":{\"colorbar\":{\"outlinewidth\":0,\"ticks\":\"\"}},\"type\":\"scatterpolargl\"}],\"scatterternary\":[{\"marker\":{\"colorbar\":{\"outlinewidth\":0,\"ticks\":\"\"}},\"type\":\"scatterternary\"}],\"surface\":[{\"colorbar\":{\"outlinewidth\":0,\"ticks\":\"\"},\"colorscale\":[[0.0,\"#0d0887\"],[0.1111111111111111,\"#46039f\"],[0.2222222222222222,\"#7201a8\"],[0.3333333333333333,\"#9c179e\"],[0.4444444444444444,\"#bd3786\"],[0.5555555555555556,\"#d8576b\"],[0.6666666666666666,\"#ed7953\"],[0.7777777777777778,\"#fb9f3a\"],[0.8888888888888888,\"#fdca26\"],[1.0,\"#f0f921\"]],\"type\":\"surface\"}],\"table\":[{\"cells\":{\"fill\":{\"color\":\"#EBF0F8\"},\"line\":{\"color\":\"white\"}},\"header\":{\"fill\":{\"color\":\"#C8D4E3\"},\"line\":{\"color\":\"white\"}},\"type\":\"table\"}]},\"layout\":{\"annotationdefaults\":{\"arrowcolor\":\"#2a3f5f\",\"arrowhead\":0,\"arrowwidth\":1},\"autotypenumbers\":\"strict\",\"coloraxis\":{\"colorbar\":{\"outlinewidth\":0,\"ticks\":\"\"}},\"colorscale\":{\"diverging\":[[0,\"#8e0152\"],[0.1,\"#c51b7d\"],[0.2,\"#de77ae\"],[0.3,\"#f1b6da\"],[0.4,\"#fde0ef\"],[0.5,\"#f7f7f7\"],[0.6,\"#e6f5d0\"],[0.7,\"#b8e186\"],[0.8,\"#7fbc41\"],[0.9,\"#4d9221\"],[1,\"#276419\"]],\"sequential\":[[0.0,\"#0d0887\"],[0.1111111111111111,\"#46039f\"],[0.2222222222222222,\"#7201a8\"],[0.3333333333333333,\"#9c179e\"],[0.4444444444444444,\"#bd3786\"],[0.5555555555555556,\"#d8576b\"],[0.6666666666666666,\"#ed7953\"],[0.7777777777777778,\"#fb9f3a\"],[0.8888888888888888,\"#fdca26\"],[1.0,\"#f0f921\"]],\"sequentialminus\":[[0.0,\"#0d0887\"],[0.1111111111111111,\"#46039f\"],[0.2222222222222222,\"#7201a8\"],[0.3333333333333333,\"#9c179e\"],[0.4444444444444444,\"#bd3786\"],[0.5555555555555556,\"#d8576b\"],[0.6666666666666666,\"#ed7953\"],[0.7777777777777778,\"#fb9f3a\"],[0.8888888888888888,\"#fdca26\"],[1.0,\"#f0f921\"]]},\"colorway\":[\"#636efa\",\"#EF553B\",\"#00cc96\",\"#ab63fa\",\"#FFA15A\",\"#19d3f3\",\"#FF6692\",\"#B6E880\",\"#FF97FF\",\"#FECB52\"],\"font\":{\"color\":\"#2a3f5f\"},\"geo\":{\"bgcolor\":\"white\",\"lakecolor\":\"white\",\"landcolor\":\"#E5ECF6\",\"showlakes\":true,\"showland\":true,\"subunitcolor\":\"white\"},\"hoverlabel\":{\"align\":\"left\"},\"hovermode\":\"closest\",\"mapbox\":{\"style\":\"light\"},\"paper_bgcolor\":\"white\",\"plot_bgcolor\":\"#E5ECF6\",\"polar\":{\"angularaxis\":{\"gridcolor\":\"white\",\"linecolor\":\"white\",\"ticks\":\"\"},\"bgcolor\":\"#E5ECF6\",\"radialaxis\":{\"gridcolor\":\"white\",\"linecolor\":\"white\",\"ticks\":\"\"}},\"scene\":{\"xaxis\":{\"backgroundcolor\":\"#E5ECF6\",\"gridcolor\":\"white\",\"gridwidth\":2,\"linecolor\":\"white\",\"showbackground\":true,\"ticks\":\"\",\"zerolinecolor\":\"white\"},\"yaxis\":{\"backgroundcolor\":\"#E5ECF6\",\"gridcolor\":\"white\",\"gridwidth\":2,\"linecolor\":\"white\",\"showbackground\":true,\"ticks\":\"\",\"zerolinecolor\":\"white\"},\"zaxis\":{\"backgroundcolor\":\"#E5ECF6\",\"gridcolor\":\"white\",\"gridwidth\":2,\"linecolor\":\"white\",\"showbackground\":true,\"ticks\":\"\",\"zerolinecolor\":\"white\"}},\"shapedefaults\":{\"line\":{\"color\":\"#2a3f5f\"}},\"ternary\":{\"aaxis\":{\"gridcolor\":\"white\",\"linecolor\":\"white\",\"ticks\":\"\"},\"baxis\":{\"gridcolor\":\"white\",\"linecolor\":\"white\",\"ticks\":\"\"},\"bgcolor\":\"#E5ECF6\",\"caxis\":{\"gridcolor\":\"white\",\"linecolor\":\"white\",\"ticks\":\"\"}},\"title\":{\"x\":0.05},\"xaxis\":{\"automargin\":true,\"gridcolor\":\"white\",\"linecolor\":\"white\",\"ticks\":\"\",\"title\":{\"standoff\":15},\"zerolinecolor\":\"white\",\"zerolinewidth\":2},\"yaxis\":{\"automargin\":true,\"gridcolor\":\"white\",\"linecolor\":\"white\",\"ticks\":\"\",\"title\":{\"standoff\":15},\"zerolinecolor\":\"white\",\"zerolinewidth\":2}}},\"font\":{\"family\":\"Courier New, monospace\",\"color\":\"RebeccaPurple\"},\"title\":{\"text\":\"Sum of reward for each episode(averaged with each 10 episodes)\"},\"xaxis\":{\"title\":{\"text\":\"Number of episodes(averaged with each 10 episodes)\"}},\"yaxis\":{\"title\":{\"text\":\"Sum of rewards during episode\"}},\"legend\":{\"title\":{\"text\":\"Legend Title\"}}},                        {\"responsive\": true}                    ).then(function(){\n",
              "                            \n",
              "var gd = document.getElementById('aaa4a45d-c3b9-4746-af83-fcf0e8a51856');\n",
              "var x = new MutationObserver(function (mutations, observer) {{\n",
              "        var display = window.getComputedStyle(gd).display;\n",
              "        if (!display || display === 'none') {{\n",
              "            console.log([gd, 'removed!']);\n",
              "            Plotly.purge(gd);\n",
              "            observer.disconnect();\n",
              "        }}\n",
              "}});\n",
              "\n",
              "// Listen for the removal of the full notebook cells\n",
              "var notebookContainer = gd.closest('#notebook-container');\n",
              "if (notebookContainer) {{\n",
              "    x.observe(notebookContainer, {childList: true});\n",
              "}}\n",
              "\n",
              "// Listen for the clearing of the current output cell\n",
              "var outputEl = gd.closest('.output');\n",
              "if (outputEl) {{\n",
              "    x.observe(outputEl, {childList: true});\n",
              "}}\n",
              "\n",
              "                        })                };                            </script>        </div>\n",
              "</body>\n",
              "</html>"
            ]
          },
          "metadata": {}
        }
      ]
    },
    {
      "cell_type": "markdown",
      "source": [
        "Graficamos ahora la misma gráfica pero de manera acumulada:"
      ],
      "metadata": {
        "id": "1_ZWwUx-Q8ta"
      }
    },
    {
      "cell_type": "code",
      "source": [
        "plot_performance(rewards_w1p_sarsa, rewards_w1p_ql,size = 10000,mean_each_n = 10,acumulated = True)"
      ],
      "metadata": {
        "colab": {
          "base_uri": "https://localhost:8080/",
          "height": 542
        },
        "id": "CsY9yPDcQKEN",
        "outputId": "a9615439-0c42-4187-c35b-a18e846bbadc"
      },
      "execution_count": 35,
      "outputs": [
        {
          "output_type": "display_data",
          "data": {
            "text/html": [
              "<html>\n",
              "<head><meta charset=\"utf-8\" /></head>\n",
              "<body>\n",
              "    <div>            <script src=\"https://cdnjs.cloudflare.com/ajax/libs/mathjax/2.7.5/MathJax.js?config=TeX-AMS-MML_SVG\"></script><script type=\"text/javascript\">if (window.MathJax) {MathJax.Hub.Config({SVG: {font: \"STIX-Web\"}});}</script>                <script type=\"text/javascript\">window.PlotlyConfig = {MathJaxConfig: 'local'};</script>\n",
              "        <script src=\"https://cdn.plot.ly/plotly-2.8.3.min.js\"></script>                <div id=\"d99ccd1e-ef30-4aa4-8076-e8b238fd26bc\" class=\"plotly-graph-div\" style=\"height:525px; width:100%;\"></div>            <script type=\"text/javascript\">                                    window.PLOTLYENV=window.PLOTLYENV || {};                                    if (document.getElementById(\"d99ccd1e-ef30-4aa4-8076-e8b238fd26bc\")) {                    Plotly.newPlot(                        \"d99ccd1e-ef30-4aa4-8076-e8b238fd26bc\",                        [{\"mode\":\"lines+markers\",\"name\":\"SARSA\",\"x\":[0,1,2,3,4,5,6,7,8,9,10,11,12,13,14,15,16,17,18,19,20,21,22,23,24,25,26,27,28,29,30,31,32,33,34,35,36,37,38,39,40,41,42,43,44,45,46,47,48,49,50,51,52,53,54,55,56,57,58,59,60,61,62,63,64,65,66,67,68,69,70,71,72,73,74,75,76,77,78,79,80,81,82,83,84,85,86,87,88,89,90,91,92,93,94,95,96,97,98,99,100,101,102,103,104,105,106,107,108,109,110,111,112,113,114,115,116,117,118,119,120,121,122,123,124,125,126,127,128,129,130,131,132,133,134,135,136,137,138,139,140,141,142,143,144,145,146,147,148,149,150,151,152,153,154,155,156,157,158,159,160,161,162,163,164,165,166,167,168,169,170,171,172,173,174,175,176,177,178,179,180,181,182,183,184,185,186,187,188,189,190,191,192,193,194,195,196,197,198,199,200,201,202,203,204,205,206,207,208,209,210,211,212,213,214,215,216,217,218,219,220,221,222,223,224,225,226,227,228,229,230,231,232,233,234,235,236,237,238,239,240,241,242,243,244,245,246,247,248,249,250,251,252,253,254,255,256,257,258,259,260,261,262,263,264,265,266,267,268,269,270,271,272,273,274,275,276,277,278,279,280,281,282,283,284,285,286,287,288,289,290,291,292,293,294,295,296,297,298,299,300,301,302,303,304,305,306,307,308,309,310,311,312,313,314,315,316,317,318,319,320,321,322,323,324,325,326,327,328,329,330,331,332,333,334,335,336,337,338,339,340,341,342,343,344,345,346,347,348,349,350,351,352,353,354,355,356,357,358,359,360,361,362,363,364,365,366,367,368,369,370,371,372,373,374,375,376,377,378,379,380,381,382,383,384,385,386,387,388,389,390,391,392,393,394,395,396,397,398,399,400,401,402,403,404,405,406,407,408,409,410,411,412,413,414,415,416,417,418,419,420,421,422,423,424,425,426,427,428,429,430,431,432,433,434,435,436,437,438,439,440,441,442,443,444,445,446,447,448,449,450,451,452,453,454,455,456,457,458,459,460,461,462,463,464,465,466,467,468,469,470,471,472,473,474,475,476,477,478,479,480,481,482,483,484,485,486,487,488,489,490,491,492,493,494,495,496,497,498,499,500,501,502,503,504,505,506,507,508,509,510,511,512,513,514,515,516,517,518,519,520,521,522,523,524,525,526,527,528,529,530,531,532,533,534,535,536,537,538,539,540,541,542,543,544,545,546,547,548,549,550,551,552,553,554,555,556,557,558,559,560,561,562,563,564,565,566,567,568,569,570,571,572,573,574,575,576,577,578,579,580,581,582,583,584,585,586,587,588,589,590,591,592,593,594,595,596,597,598,599,600,601,602,603,604,605,606,607,608,609,610,611,612,613,614,615,616,617,618,619,620,621,622,623,624,625,626,627,628,629,630,631,632,633,634,635,636,637,638,639,640,641,642,643,644,645,646,647,648,649,650,651,652,653,654,655,656,657,658,659,660,661,662,663,664,665,666,667,668,669,670,671,672,673,674,675,676,677,678,679,680,681,682,683,684,685,686,687,688,689,690,691,692,693,694,695,696,697,698,699,700,701,702,703,704,705,706,707,708,709,710,711,712,713,714,715,716,717,718,719,720,721,722,723,724,725,726,727,728,729,730,731,732,733,734,735,736,737,738,739,740,741,742,743,744,745,746,747,748,749,750,751,752,753,754,755,756,757,758,759,760,761,762,763,764,765,766,767,768,769,770,771,772,773,774,775,776,777,778,779,780,781,782,783,784,785,786,787,788,789,790,791,792,793,794,795,796,797,798,799,800,801,802,803,804,805,806,807,808,809,810,811,812,813,814,815,816,817,818,819,820,821,822,823,824,825,826,827,828,829,830,831,832,833,834,835,836,837,838,839,840,841,842,843,844,845,846,847,848,849,850,851,852,853,854,855,856,857,858,859,860,861,862,863,864,865,866,867,868,869,870,871,872,873,874,875,876,877,878,879,880,881,882,883,884,885,886,887,888,889,890,891,892,893,894,895,896,897,898,899,900,901,902,903,904,905,906,907,908,909,910,911,912,913,914,915,916,917,918,919,920,921,922,923,924,925,926,927,928,929,930,931,932,933,934,935,936,937,938,939,940,941,942,943,944,945,946,947,948,949,950,951,952,953,954,955,956,957,958,959,960,961,962,963,964,965,966,967,968,969,970,971,972,973,974,975,976,977,978,979,980,981,982,983,984,985,986,987,988,989,990,991,992,993,994,995,996,997,998,999],\"y\":[-14.13,-29.08,1.844674407370955e+17,1.8446744073709546e+17,1.8446744073709542e+17,1.8446744073709542e+17,1.8446744073709542e+17,1.844674407370954e+17,1.8446744073709536e+17,1.8446744073709533e+17,1.844674407370953e+17,1.8446744073709526e+17,1.8446744073709523e+17,1.844674407370952e+17,1.8446744073709517e+17,1.8446744073709514e+17,1.844674407370951e+17,1.8446744073709507e+17,1.8446744073709504e+17,1.84467440737095e+17,1.8446744073709498e+17,1.8446744073709494e+17,1.844674407370949e+17,1.844674407370949e+17,1.8446744073709488e+17,1.8446744073709485e+17,1.8446744073709482e+17,1.844674407370948e+17,1.8446744073709475e+17,1.8446744073709472e+17,1.844674407370947e+17,1.8446744073709466e+17,1.8446744073709462e+17,1.844674407370946e+17,2.7670116110564237e+17,2.7670116110564234e+17,2.767011611056423e+17,2.7670116110564227e+17,2.7670116110564227e+17,2.7670116110564224e+17,2.767011611056422e+17,2.7670116110564218e+17,2.7670116110564214e+17,2.767011611056421e+17,2.7670116110564208e+17,2.7670116110564205e+17,2.7670116110564202e+17,2.76701161105642e+17,2.76701161105642e+17,2.7670116110564195e+17,2.7670116110564192e+17,2.767011611056419e+17,6.45636042579833e+17,6.45636042579833e+17,6.45636042579833e+17,1.1990383647911194e+18,1.8446744073709537e+18,2.490310449950788e+18,3.320413933267718e+18,3.9660499758475525e+18,4.703919738795935e+18,5.072854620270126e+18,5.626256942481412e+18,5.810724383218508e+18,6.271892985061247e+18,7.101996468378177e+18,7.74763251095801e+18,7.932099951695106e+18,8.854437155380583e+18,9.40783947759187e+18,1.0053475520171704e+19,1.069911156275154e+19,1.1436981325699922e+19,1.1805916207174113e+19,1.2451552249753948e+19,1.3004954571965235e+19,1.3373889453439427e+19,1.3927291775650714e+19,1.4388460377493453e+19,1.4849628979336192e+19,1.5310797581178931e+19,1.577196618302167e+19,1.5864199903390218e+19,1.6140901064495862e+19,1.6694303386707149e+19,1.6878770827444244e+19,1.706323826818134e+19,1.7432173149655532e+19,1.8077809192235366e+19,1.87234452348152e+19,1.9461314997763584e+19,2.0106951040343417e+19,2.0660353362554704e+19,2.1029288244028895e+19,2.167492428660873e+19,2.2136092888451465e+19,2.2689495210662752e+19,2.324289753287404e+19,2.361183241434823e+19,2.4257468456928063e+19,2.4903104499507896e+19,2.5272039380982088e+19,2.5825441703193375e+19,2.628661030503611e+19,2.720894750872159e+19,2.7670116110564327e+19,2.8223518432775614e+19,2.8961388195723997e+19,2.9422556797566734e+19,3.0068192840146567e+19,3.07138288827264e+19,3.1451698645674783e+19,3.2189568408623165e+19,3.2742970730834452e+19,3.357307421415138e+19,3.3849775375257022e+19,3.4495411417836855e+19,3.5048813740048142e+19,3.5325514901153784e+19,3.5602216062259425e+19,3.5971150943733617e+19,3.624785210483926e+19,3.689348814741909e+19,3.726242302889328e+19,3.763135791036747e+19,3.818476023257875e+19,3.864592883442149e+19,3.938379859736987e+19,3.975273347884406e+19,4.030613580105535e+19,4.030613580105535e+19,4.039836952142389e+19,4.1136239284372275e+19,4.159740788621501e+19,4.2150810208426295e+19,4.279644625100613e+19,4.344208229358597e+19,4.408771833616581e+19,4.464112065837709e+19,4.501005553985128e+19,4.556345786206256e+19,4.60246264639053e+19,4.639356134537949e+19,4.7131431108327875e+19,4.759259971017061e+19,4.8146002032381895e+19,4.897610551569882e+19,4.962174155827866e+19,5.035961132122704e+19,5.0728546202701234e+19,5.118971480454397e+19,5.1743117126755254e+19,5.229651944896654e+19,5.257322061007218e+19,5.3126622932283466e+19,5.35877915341262e+19,5.3772258974863294e+19,5.451012873781168e+19,5.506353106002296e+19,5.57091671026028e+19,5.626256942481408e+19,5.663150430628827e+19,5.727714034886811e+19,5.810724383218504e+19,5.884511359513342e+19,5.93985159173447e+19,6.004415195992454e+19,6.050532056176728e+19,6.087425544324147e+19,6.124319032471566e+19,6.18888263672955e+19,6.253446240987533e+19,6.318009845245517e+19,6.373350077466645e+19,6.437913681724629e+19,6.493253913945757e+19,6.557817518203741e+19,6.57626426227745e+19,6.594711006351159e+19,6.603934378388014e+19,6.622381122461723e+19,6.659274610609142e+19,6.705391470793416e+19,6.7699550750513996e+19,6.8529654233830924e+19,6.899082283567366e+19,6.982092631899059e+19,7.037432864120187e+19,7.083549724304461e+19,7.138889956525589e+19,7.185006816709863e+19,7.240347048930991e+19,7.286463909115265e+19,7.332580769299539e+19,7.332580769299539e+19,7.332580769299539e+19,7.3786976294838125e+19,7.424814489668087e+19,7.48937809392607e+19,7.553941698184054e+19,7.600058558368329e+19,7.655398790589458e+19,7.683068906700022e+19,7.738409138921151e+19,7.77530262706857e+19,7.821419487252844e+19,7.904429835584537e+19,7.96899343984252e+19,8.02433367206365e+19,8.088897276321633e+19,8.144237508542762e+19,8.208801112800746e+19,8.264141345021875e+19,8.347151693353568e+19,8.420938669648406e+19,8.476278901869535e+19,8.540842506127519e+19,8.586959366311793e+19,8.660746342606632e+19,8.725309946864615e+19,8.762203435012034e+19,8.826767039270017e+19,8.891330643528001e+19,8.937447503712276e+19,8.94667087574913e+19,8.955894247785985e+19,8.96511761982284e+19,9.002011107970258e+19,9.075798084265096e+19,9.131138316486225e+19,9.1772551766705e+19,9.251042152965338e+19,9.287935641112756e+19,9.324829129260175e+19,9.370945989444449e+19,9.417062849628724e+19,9.463179709812998e+19,9.527743314070982e+19,9.60153029036582e+19,9.684540638697513e+19,9.739880870918642e+19,9.81366784721348e+19,9.859784707397755e+19,9.933571683692593e+19,9.970465171840011e+19,1.004425214813485e+20,1.0108815752392833e+20,1.0164155984613963e+20,1.0210272844798237e+20,1.027483644905622e+20,1.0320953309240495e+20,1.0385516913498479e+20,1.0431633773682754e+20,1.0486974005903883e+20,1.0533090866088157e+20,1.0579207726272432e+20,1.0597654470346141e+20,1.0680664818677834e+20,1.0736005050898963e+20,1.0800568655156947e+20,1.0809792027193801e+20,1.0892802375525494e+20,1.0938919235709768e+20,1.0994259467930898e+20,1.1068046444225736e+20,1.111416330441001e+20,1.116950353663114e+20,1.1206397024778558e+20,1.1206397024778558e+20,1.1234067140889122e+20,1.1298630745147105e+20,1.1353970977368234e+20,1.1409311209589364e+20,1.1455428069773638e+20,1.1529215046068476e+20,1.1584555278289605e+20,1.1621448766437024e+20,1.1667565626621298e+20,1.1741352602916137e+20,1.1815139579210975e+20,1.1870479811432104e+20,1.1907373299579522e+20,1.1962713531800651e+20,1.203650050809549e+20,1.2110287484390328e+20,1.2147180972537746e+20,1.221174457679573e+20,1.2285531553090568e+20,1.2359318529385406e+20,1.238698864549597e+20,1.2433105505680245e+20,1.24423288777171e+20,1.2460775621790808e+20,1.2506892481975083e+20,1.2580679458269921e+20,1.265446643456476e+20,1.2700583294749034e+20,1.2774370271043872e+20,1.2820487131228147e+20,1.2866603991412421e+20,1.2912720851596696e+20,1.2968061083817825e+20,1.3032624688075809e+20,1.3060294804186373e+20,1.3115635036407502e+20,1.315252852455492e+20,1.3207868756776049e+20,1.3281655733070887e+20,1.3327772593255162e+20,1.3383112825476291e+20,1.3410782941586855e+20,1.3484569917881693e+20,1.3549133522139677e+20,1.3604473754360806e+20,1.366903735861879e+20,1.3724377590839919e+20,1.3770494451024193e+20,1.3816611311208468e+20,1.3844281427319031e+20,1.386272817139274e+20,1.391806840361387e+20,1.3964185263798144e+20,1.4001078751945563e+20,1.4028748868056126e+20,1.40748657282404e+20,1.4139429332498384e+20,1.4222439680830077e+20,1.4296226657124916e+20,1.4333120145272334e+20,1.4388460377493463e+20,1.4443800609714592e+20,1.4508364213972576e+20,1.455448107415685e+20,1.4628268050451689e+20,1.4665161538599107e+20,1.4702055026746525e+20,1.4729725142857089e+20,1.4803512119151926e+20,1.486807572340991e+20,1.4904969211557328e+20,1.496953281581531e+20,1.5034096420073295e+20,1.5070989908220713e+20,1.5089436652294423e+20,1.5154000256552406e+20,1.521856386081039e+20,1.5292350837105227e+20,1.5347691069326354e+20,1.542147804562119e+20,1.542147804562119e+20,1.5430701417658047e+20,1.5467594905805465e+20,1.5541381882100302e+20,1.559672211432143e+20,1.5661285718579413e+20,1.5707402578763688e+20,1.5781189555058524e+20,1.5845753159316508e+20,1.5882646647463926e+20,1.596565699579562e+20,1.6039443972090456e+20,1.6076337460237874e+20,1.608556083227473e+20,1.610400757634844e+20,1.6140901064495858e+20,1.6196241296716985e+20,1.624235815690126e+20,1.6306921761159243e+20,1.6343815249306662e+20,1.6408378853564645e+20,1.647294245782263e+20,1.6546729434117466e+20,1.6620516410412302e+20,1.6666633270596577e+20,1.6721973502817704e+20,1.6777313735038832e+20,1.6823430595223106e+20,1.6897217571517943e+20,1.697100454781278e+20,1.6980227919849636e+20,1.702634478003391e+20,1.706323826818133e+20,1.7100131756328747e+20,1.7173918732623584e+20,1.7210812220771002e+20,1.7293822569102695e+20,1.735838617336068e+20,1.7376832917434388e+20,1.7422949777618662e+20,1.744139652169237e+20,1.74967367539135e+20,1.7561300358171483e+20,1.7607417218355757e+20,1.767198082261374e+20,1.7736544426871724e+20,1.7801108031129708e+20,1.7865671635387692e+20,1.78841183794614e+20,1.7948681983719385e+20,1.7985575471866803e+20,1.804091570408793e+20,1.8114702680382767e+20,1.8170042912603895e+20,1.8253053260935587e+20,1.8299170121119862e+20,1.835451035334099e+20,1.8428297329635826e+20,1.849286093389381e+20,1.8548201166114937e+20,1.861276477037292e+20,1.8621988142409777e+20,1.8658881630557195e+20,1.8732668606852032e+20,1.880645558314687e+20,1.888946593147856e+20,1.8898689303515418e+20,1.8898689303515418e+20,1.8898689303515418e+20,1.8898689303515418e+20,1.8917136047589127e+20,1.8926359419625983e+20,1.8944806163699692e+20,1.900014639592082e+20,1.9055486628141947e+20,1.9129273604436784e+20,1.9193837208694768e+20,1.9221507324805333e+20,1.9286070929063317e+20,1.9341411161284444e+20,1.941519813757928e+20,1.9479761741837264e+20,1.9544325346095248e+20,1.9608888950353232e+20,1.968267592664807e+20,1.9738016158869196e+20,1.9793356391090323e+20,1.9830249879237742e+20,1.986714336738516e+20,1.9913260227569435e+20,1.9950153715716853e+20,1.9996270575901127e+20,2.0042387436085402e+20,2.011617441238024e+20,2.0171514644601366e+20,2.019918476071193e+20,2.0245301620896206e+20,2.030986522515419e+20,2.0365205457375317e+20,2.04297690616333e+20,2.046666254978072e+20,2.0522002782001847e+20,2.0595789758296683e+20,2.065112999051781e+20,2.0724916966812647e+20,2.0752587082923213e+20,2.0817150687181196e+20,2.0890937663476033e+20,2.0955501267734017e+20,2.103851161606571e+20,2.1112298592360546e+20,2.1149192080507965e+20,2.119530894069224e+20,2.1259872544950223e+20,2.133365952124506e+20,2.1407446497539896e+20,2.1462786729761024e+20,2.1527350334019007e+20,2.1573467194203282e+20,2.159191393827699e+20,2.1665700914571828e+20,2.1739487890866664e+20,2.176715800697723e+20,2.1813274867161504e+20,2.1831721611235213e+20,2.1877838471419488e+20,2.1933178703640615e+20,2.1988518935861743e+20,2.2034635796046017e+20,2.2089976028267145e+20,2.211764614437771e+20,2.2191433120672547e+20,2.227444346900424e+20,2.229289021307795e+20,2.2320560329188514e+20,2.2357453817335933e+20,2.239434730548335e+20,2.2440464165667625e+20,2.2514251141962462e+20,2.2578814746220446e+20,2.2634154978441573e+20,2.2698718582699557e+20,2.274483544288383e+20,2.2809399047141815e+20,2.2883186023436652e+20,2.293852625565778e+20,2.2984643115842054e+20,2.301231323195262e+20,2.3076876836210603e+20,2.3122993696394877e+20,2.318755730065286e+20,2.3261344276947698e+20,2.3261344276947698e+20,2.332590788120568e+20,2.3335131253242538e+20,2.3390471485463665e+20,2.3445811717684793e+20,2.350115194990592e+20,2.3538045438053338e+20,2.3602609042311322e+20,2.367639601860616e+20,2.3713289506753577e+20,2.3768629738974704e+20,2.381474659915898e+20,2.3870086831380106e+20,2.3906980319527525e+20,2.393465043563809e+20,2.3989990667859218e+20,2.4008437411932927e+20,2.4063777644154054e+20,2.4128341248412038e+20,2.4202128224706875e+20,2.4257468456928002e+20,2.431280868914913e+20,2.4368148921370257e+20,2.4395819037480822e+20,2.4460382641738806e+20,2.452494624599679e+20,2.4589509850254773e+20,2.4654073454512757e+20,2.4700190314697032e+20,2.475553054691816e+20,2.4783200663028725e+20,2.4838540895249852e+20,2.489388112747098e+20,2.4930774615618398e+20,2.4967668103765816e+20,2.5059901824134365e+20,2.510601868431864e+20,2.5152135544502914e+20,2.5216699148760898e+20,2.5290486125055735e+20,2.5345826357276862e+20,2.5373496473387427e+20,2.5428836705608555e+20,2.549340030986654e+20,2.5557963914124522e+20,2.561330414634565e+20,2.5677867750603633e+20,2.5723984610787908e+20,2.5788548215045892e+20,2.5834665075230166e+20,2.588078193541444e+20,2.5926898795598715e+20,2.597301565578299e+20,2.6037579260040974e+20,2.611136623633581e+20,2.614825972448323e+20,2.6212823328741212e+20,2.624971681688863e+20,2.6277386932999196e+20,2.6351173909294032e+20,2.638806739744145e+20,2.6443407629662578e+20,2.6452631001699434e+20,2.648030111781e+20,2.6554088094104837e+20,2.6609428326325964e+20,2.666476855854709e+20,2.6673991930583948e+20,2.6729332162805075e+20,2.679389576706306e+20,2.6830789255210477e+20,2.689535285946846e+20,2.689535285946846e+20,2.6923022975579026e+20,2.698758657983701e+20,2.7061373556131847e+20,2.7116713788352974e+20,2.71720540205741e+20,2.7199724136684667e+20,2.724584099686894e+20,2.728273448501636e+20,2.7338074717237487e+20,2.7393414949458615e+20,2.743953180964289e+20,2.7504095413900873e+20,2.7531765530011438e+20,2.7577882390195713e+20,2.7623999250379987e+20,2.770700959871168e+20,2.7771573202969664e+20,2.7836136807227648e+20,2.7882253667411922e+20,2.7928370527596197e+20,2.797448738778047e+20,2.799293413185418e+20,2.8057497736112164e+20,2.811283796833329e+20,2.8177401572591275e+20,2.822351843277555e+20,2.8269635292959824e+20,2.8334198897217808e+20,2.8389539129438935e+20,2.8426432617586354e+20,2.8472549477770628e+20,2.8537113082028612e+20,2.8601676686286596e+20,2.864779354647087e+20,2.8693910406655145e+20,2.8749250638876272e+20,2.8813814243134256e+20,2.885993110331853e+20,2.8924494707576514e+20,2.897983493979764e+20,2.9062845288129334e+20,2.9118185520350462e+20,2.917352575257159e+20,2.91919724966453e+20,2.9238089356829573e+20,2.92934295890507e+20,2.9357993193308684e+20,2.9413333425529812e+20,2.9441003541640377e+20,2.9514790517935214e+20,2.9597800866266907e+20,2.967158784256174e+20,2.973615144681973e+20,2.9828385167188276e+20,2.988372539940941e+20,2.9957512375704243e+20,3.0012852607925374e+20,3.007741621218336e+20,3.008663958422021e+20,3.012353307236763e+20,3.014197981644134e+20,3.019732004866247e+20,3.02526602808836e+20,3.0308000513104734e+20,3.039101086143643e+20,3.0418680977546995e+20,3.044635109365756e+20,3.0455574465694414e+20,3.048324458180498e+20,3.052936144198925e+20,3.058470167421038e+20,3.064004190643151e+20,3.0704605510689495e+20,3.076916911494748e+20,3.082450934716861e+20,3.087062620735288e+20,3.091674306753715e+20,3.0962859927721424e+20,3.102742353197941e+20,3.1101210508274244e+20,3.119344422864279e+20,3.125800783290078e+20,3.1331794809195613e+20,3.13963584134536e+20,3.142402852956416e+20,3.1488592133822146e+20,3.154393236604328e+20,3.160849597030126e+20,3.166383620252239e+20,3.170995306270666e+20,3.1774516666964646e+20,3.17837400390015e+20,3.182985689918577e+20,3.1857527015296336e+20,3.190364387548061e+20,3.195898410770174e+20,3.2041994456033434e+20,3.2088111316217705e+20,3.2134228176401977e+20,3.220801515269681e+20,3.22725787569548e+20,3.231869561713907e+20,3.2355589105286486e+20,3.236481247732334e+20,3.237403584936019e+20,3.2420152709544464e+20,3.248471631380245e+20,3.2558503290097284e+20,3.2604620150281555e+20,3.267840712657639e+20,3.2742970730834375e+20,3.2798310963055506e+20,3.281675770712922e+20,3.28813213113872e+20,3.291821479953462e+20,3.297355503175575e+20,3.3038118636013735e+20,3.310268224027172e+20,3.313957572841914e+20,3.318569258860341e+20,3.3259479564898245e+20,3.333326654119308e+20,3.3397830145451065e+20,3.3443947005635337e+20,3.351773398193017e+20,3.3573074214151304e+20,3.3628414446372435e+20,3.3674531306556706e+20,3.374831828285154e+20,3.3812881887109526e+20,3.38589987472938e+20,3.3942009095625494e+20,3.3988125955809765e+20,3.4025019443957183e+20,3.40619129321046e+20,3.408958304821517e+20,3.410802979228888e+20,3.415414665247315e+20,3.4218710256731134e+20,3.428327386098912e+20,3.43478374652471e+20,3.4412401069505085e+20,3.4449294557652504e+20,3.447696467376307e+20,3.449541141783678e+20,3.455075165005791e+20,3.4615315254315896e+20,3.467987885857388e+20,3.473521909079501e+20,3.479055932301614e+20,3.482745281116356e+20,3.487356967134783e+20,3.492890990356896e+20,3.4947356647642674e+20,3.501192025190066e+20,3.505803711208493e+20,3.509493060023235e+20,3.512260071634291e+20,3.5177940948564043e+20,3.5233281180785174e+20,3.5288621413006305e+20,3.5334738273190576e+20,3.539007850541171e+20,3.541774862152227e+20,3.545464210966969e+20,3.5519205713927674e+20,3.558376931818566e+20,3.563910955040679e+20,3.5666779666517354e+20,3.569444978262792e+20,3.573134327077534e+20,3.57590133868859e+20,3.5805130247070174e+20,3.581435361910703e+20,3.583280036318074e+20,3.5897363967438723e+20,3.5952704199659854e+20,3.603571454799155e+20,3.6100278152249534e+20,3.613717164039695e+20,3.6201735244654936e+20,3.625707547687607e+20,3.6330862453170903e+20,3.6386202685392034e+20,3.64138728015026e+20,3.646921303372373e+20,3.6515329893908e+20,3.658911687020284e+20,3.663523373038711e+20,3.669057396260824e+20,3.6755137566866224e+20,3.6801254427050495e+20,3.6856594659271626e+20,3.69027115194559e+20,3.695805175167703e+20,3.70041686118613e+20,3.704106210000872e+20,3.7114849076303554e+20,3.7133295820377267e+20,3.714251919241412e+20,3.715174256445097e+20,3.7197859424635244e+20,3.727164640093008e+20,3.732698663315121e+20,3.738232686537234e+20,3.743766709759347e+20,3.747456058574089e+20,3.755757093407259e+20,3.762213453833057e+20,3.769592151462541e+20,3.7732815002772826e+20,3.7788155234993956e+20,3.7825048723141375e+20,3.7880388955362506e+20,3.794495255962049e+20,3.8018739535915326e+20,3.804640965202589e+20,3.8110973256283875e+20,3.819398360461557e+20,3.8221653720726136e+20,3.826777058091041e+20,3.832311081313154e+20,3.8396897789426375e+20,3.8443014649610646e+20,3.851680162590548e+20,3.8535248369979195e+20,3.861825871831089e+20,3.8627482090347744e+20,3.8627482090347744e+20,3.865515220645831e+20,3.871049243867944e+20,3.876583267090057e+20,3.8830396275158555e+20,3.8876513135342826e+20,3.893185336756396e+20,3.899641697182194e+20,3.904253383200621e+20,3.911632080830105e+20,3.9190107784595885e+20,3.925467138885387e+20,3.9282341504964434e+20,3.930078824903815e+20,3.9337681737185565e+20,3.940224534144355e+20,3.944836220162782e+20,3.9522149177922657e+20,3.9595936154217493e+20,3.966049975847548e+20,3.970661661865975e+20,3.977118022291773e+20,3.9835743827175716e+20,3.99003074314337e+20,3.991875417550741e+20,3.994642429161798e+20,4.001098789587596e+20,4.006632812809709e+20,4.012166836031822e+20,4.0167785220502494e+20,4.0223125452723624e+20,4.028768905698161e+20,4.035225266123959e+20,4.039836952142386e+20,4.0453709753644994e+20,4.051827335790298e+20,4.057361359012411e+20,4.063817719438209e+20,4.069351742660322e+20,4.073041091475064e+20,4.078575114697177e+20,4.0850314751229755e+20,4.0905654983450886e+20,4.097021858770887e+20,4.101633544789314e+20,4.1025558819929994e+20,4.1025558819929994e+20,4.1071675680114265e+20,4.115468602844596e+20,4.1173132772519674e+20,4.1219249632703945e+20,4.129303660899878e+20,4.137604695733048e+20,4.142216381751475e+20,4.148672742177273e+20,4.156973777010443e+20,4.162507800232556e+20,4.1689641606583543e+20,4.175420521084153e+20,4.176342858287838e+20,4.1791098698988945e+20,4.1837215559173217e+20,4.186488567528378e+20,4.193867265157862e+20,4.194789602361547e+20,4.20032362558366e+20,4.207702323213144e+20,4.211391672027886e+20,4.2150810208426276e+20,4.216925695249999e+20,4.2206150440647406e+20,4.225226730083168e+20,4.230760753305281e+20,4.236294776527394e+20,4.242751136953192e+20,4.2492074973789907e+20,4.254741520601104e+20,4.2584308694158456e+20,4.2639648926379586e+20,4.2676542414527005e+20,4.274110601878499e+20,4.27595527628587e+20,4.281489299507983e+20,4.2879456599337815e+20,4.2934796831558946e+20,4.295324357563266e+20,4.297169031970637e+20,4.30270305519275e+20,4.306392404007492e+20,4.3137711016369757e+20,4.321149799266459e+20,4.327606159692258e+20,4.335907194525427e+20,4.3405188805438544e+20,4.3460529037659675e+20,4.352509264191766e+20,4.358965624617564e+20,4.3654219850433626e+20,4.370956008265476e+20,4.379257043098645e+20,4.386635740728129e+20,4.391247426746556e+20,4.394936775561298e+20,4.399548461579725e+20,4.406927159209209e+20,4.409694170820265e+20,4.413383519635007e+20,4.413383519635007e+20,4.417072868449749e+20,4.421684554468176e+20,4.425373903282918e+20,4.430907926505031e+20,4.436441949727144e+20,4.441053635745571e+20,4.449354670578741e+20,4.453966356597168e+20,4.4613450542266515e+20,4.46780141465245e+20,4.474257775078248e+20,4.477024786689305e+20,4.4797917983003614e+20,4.4844034843187885e+20,4.487170495929845e+20,4.4936268563556434e+20,4.4991608795777565e+20,4.5037725655961836e+20,4.5093065888182967e+20,4.517607623651466e+20,4.5231416468735794e+20,4.530520344503063e+20,4.5369767049288614e+20,4.54343306535466e+20,4.548967088576773e+20,4.554501111798886e+20,4.5618798094283696e+20,4.566491495446797e+20,4.57202551866891e+20,4.5757148674836516e+20,4.580326553502079e+20,4.585860576724192e+20,4.591394599946305e+20,4.596928623168418e+20,4.597850960372103e+20,4.5996956347794745e+20,4.606151995205273e+20,4.611686018427386e+20,4.6190647160568696e+20,4.625521076482668e+20,4.6328997741121516e+20,4.640278471741635e+20,4.643967820556377e+20,4.648579506574804e+20,4.656880541407974e+20,4.663336901833772e+20,4.6679485878521994e+20,4.671637936666941e+20,4.679016634296425e+20,4.6817836459074814e+20,4.6873176691295945e+20,4.690084680740651e+20,4.6928516923517075e+20,4.6965410411664494e+20,4.7011527271848765e+20,4.702997401592248e+20,4.708531424814361e+20,4.713143110832788e+20,4.719599471258586e+20,4.7251334944806994e+20,4.731589854906498e+20,4.738046215332296e+20,4.743580238554409e+20,4.749114261776522e+20,4.7546482849986354e+20,4.757415296609692e+20,4.761104645424434e+20,4.766638668646547e+20,4.77217269186866e+20,4.778629052294458e+20,4.7850854127202566e+20,4.789697098738684e+20,4.796153459164482e+20,4.7979981335718534e+20,4.801687482386595e+20,4.8026098195902805e+20,4.8072215056087076e+20,4.811833191627135e+20,4.8192118892566184e+20,4.820134226460304e+20,4.820134226460304e+20,4.821978900867675e+20,4.826590586886102e+20,4.830279935700844e+20,4.834891621719271e+20,4.8413479821450694e+20,4.848726679774553e+20,4.852416028589295e+20,4.8597947262187785e+20,4.8644064122372057e+20],\"type\":\"scatter\"},{\"mode\":\"lines+markers\",\"name\":\"Q-Learning\",\"x\":[0,1,2,3,4,5,6,7,8,9,10,11,12,13,14,15,16,17,18,19,20,21,22,23,24,25,26,27,28,29,30,31,32,33,34,35,36,37,38,39,40,41,42,43,44,45,46,47,48,49,50,51,52,53,54,55,56,57,58,59,60,61,62,63,64,65,66,67,68,69,70,71,72,73,74,75,76,77,78,79,80,81,82,83,84,85,86,87,88,89,90,91,92,93,94,95,96,97,98,99,100,101,102,103,104,105,106,107,108,109,110,111,112,113,114,115,116,117,118,119,120,121,122,123,124,125,126,127,128,129,130,131,132,133,134,135,136,137,138,139,140,141,142,143,144,145,146,147,148,149,150,151,152,153,154,155,156,157,158,159,160,161,162,163,164,165,166,167,168,169,170,171,172,173,174,175,176,177,178,179,180,181,182,183,184,185,186,187,188,189,190,191,192,193,194,195,196,197,198,199,200,201,202,203,204,205,206,207,208,209,210,211,212,213,214,215,216,217,218,219,220,221,222,223,224,225,226,227,228,229,230,231,232,233,234,235,236,237,238,239,240,241,242,243,244,245,246,247,248,249,250,251,252,253,254,255,256,257,258,259,260,261,262,263,264,265,266,267,268,269,270,271,272,273,274,275,276,277,278,279,280,281,282,283,284,285,286,287,288,289,290,291,292,293,294,295,296,297,298,299,300,301,302,303,304,305,306,307,308,309,310,311,312,313,314,315,316,317,318,319,320,321,322,323,324,325,326,327,328,329,330,331,332,333,334,335,336,337,338,339,340,341,342,343,344,345,346,347,348,349,350,351,352,353,354,355,356,357,358,359,360,361,362,363,364,365,366,367,368,369,370,371,372,373,374,375,376,377,378,379,380,381,382,383,384,385,386,387,388,389,390,391,392,393,394,395,396,397,398,399,400,401,402,403,404,405,406,407,408,409,410,411,412,413,414,415,416,417,418,419,420,421,422,423,424,425,426,427,428,429,430,431,432,433,434,435,436,437,438,439,440,441,442,443,444,445,446,447,448,449,450,451,452,453,454,455,456,457,458,459,460,461,462,463,464,465,466,467,468,469,470,471,472,473,474,475,476,477,478,479,480,481,482,483,484,485,486,487,488,489,490,491,492,493,494,495,496,497,498,499,500,501,502,503,504,505,506,507,508,509,510,511,512,513,514,515,516,517,518,519,520,521,522,523,524,525,526,527,528,529,530,531,532,533,534,535,536,537,538,539,540,541,542,543,544,545,546,547,548,549,550,551,552,553,554,555,556,557,558,559,560,561,562,563,564,565,566,567,568,569,570,571,572,573,574,575,576,577,578,579,580,581,582,583,584,585,586,587,588,589,590,591,592,593,594,595,596,597,598,599,600,601,602,603,604,605,606,607,608,609,610,611,612,613,614,615,616,617,618,619,620,621,622,623,624,625,626,627,628,629,630,631,632,633,634,635,636,637,638,639,640,641,642,643,644,645,646,647,648,649,650,651,652,653,654,655,656,657,658,659,660,661,662,663,664,665,666,667,668,669,670,671,672,673,674,675,676,677,678,679,680,681,682,683,684,685,686,687,688,689,690,691,692,693,694,695,696,697,698,699,700,701,702,703,704,705,706,707,708,709,710,711,712,713,714,715,716,717,718,719,720,721,722,723,724,725,726,727,728,729,730,731,732,733,734,735,736,737,738,739,740,741,742,743,744,745,746,747,748,749,750,751,752,753,754,755,756,757,758,759,760,761,762,763,764,765,766,767,768,769,770,771,772,773,774,775,776,777,778,779,780,781,782,783,784,785,786,787,788,789,790,791,792,793,794,795,796,797,798,799,800,801,802,803,804,805,806,807,808,809,810,811,812,813,814,815,816,817,818,819,820,821,822,823,824,825,826,827,828,829,830,831,832,833,834,835,836,837,838,839,840,841,842,843,844,845,846,847,848,849,850,851,852,853,854,855,856,857,858,859,860,861,862,863,864,865,866,867,868,869,870,871,872,873,874,875,876,877,878,879,880,881,882,883,884,885,886,887,888,889,890,891,892,893,894,895,896,897,898,899,900,901,902,903,904,905,906,907,908,909,910,911,912,913,914,915,916,917,918,919,920,921,922,923,924,925,926,927,928,929,930,931,932,933,934,935,936,937,938,939,940,941,942,943,944,945,946,947,948,949,950,951,952,953,954,955,956,957,958,959,960,961,962,963,964,965,966,967,968,969,970,971,972,973,974,975,976,977,978,979,980,981,982,983,984,985,986,987,988,989,990,991,992,993,994,995,996,997,998,999],\"y\":[-1.413,-2.908,1.8446744073709548e+16,1.8446744073709548e+16,1.8446744073709544e+16,1.8446744073709544e+16,1.8446744073709544e+16,1.8446744073709544e+16,1.844674407370954e+16,1.8446744073709536e+16,1.8446744073709536e+16,1.8446744073709536e+16,1.8446744073709532e+16,1.844674407370953e+16,1.8446744073709524e+16,1.8446744073709524e+16,1.8446744073709524e+16,1.844674407370952e+16,1.8446744073709516e+16,1.844674407370951e+16,1.844674407370951e+16,1.8446744073709508e+16,1.8446744073709504e+16,1.8446744073709504e+16,1.8446744073709504e+16,1.8446744073709504e+16,1.84467440737095e+16,1.84467440737095e+16,1.8446744073709496e+16,1.8446744073709492e+16,1.844674407370949e+16,1.8446744073709484e+16,1.844674407370948e+16,1.844674407370948e+16,2.7670116110564256e+16,2.7670116110564256e+16,2.7670116110564256e+16,2.7670116110564256e+16,2.7670116110564256e+16,2.7670116110564256e+16,2.7670116110564256e+16,2.7670116110564252e+16,2.767011611056425e+16,2.7670116110564244e+16,2.767011611056424e+16,2.767011611056424e+16,2.767011611056424e+16,2.767011611056424e+16,2.767011611056424e+16,2.767011611056424e+16,2.7670116110564236e+16,2.767011611056423e+16,6.4563604257983336e+16,6.4563604257983336e+16,6.4563604257983336e+16,1.19903836479112e+17,1.8446744073709542e+17,2.4903104499507885e+17,3.3204139332677184e+17,3.9660499758475526e+17,4.703919738795935e+17,5.072854620270126e+17,5.6262569424814125e+17,5.810724383218508e+17,6.271892985061247e+17,7.101996468378176e+17,7.747632510958011e+17,7.932099951695107e+17,8.854437155380584e+17,9.407839477591871e+17,1.0053475520171704e+18,1.0699111562751539e+18,1.1436981325699922e+18,1.1805916207174113e+18,1.2451552249753948e+18,1.3004954571965235e+18,1.3373889453439427e+18,1.3927291775650714e+18,1.4388460377493453e+18,1.4849628979336192e+18,1.531079758117893e+18,1.577196618302167e+18,1.5864199903390218e+18,1.6140901064495862e+18,1.669430338670715e+18,1.6878770827444244e+18,1.706323826818134e+18,1.7432173149655532e+18,1.8077809192235366e+18,1.87234452348152e+18,1.9461314997763584e+18,2.010695104034342e+18,2.0660353362554706e+18,2.1029288244028897e+18,2.1674924286608732e+18,2.2136092888451471e+18,2.2689495210662758e+18,2.3242897532874045e+18,2.3611832414348237e+18,2.425746845692807e+18,2.4903104499507907e+18,2.52720393809821e+18,2.5825441703193385e+18,2.6286610305036124e+18,2.72089475087216e+18,2.767011611056434e+18,2.822351843277563e+18,2.896138819572401e+18,2.942255679756675e+18,3.0068192840146586e+18,3.071382888272642e+18,3.1451698645674803e+18,3.2189568408623186e+18,3.2742970730834473e+18,3.3573074214151404e+18,3.3849775375257047e+18,3.449541141783688e+18,3.504881374004817e+18,3.532551490115381e+18,3.5602216062259456e+18,3.5971150943733647e+18,3.624785210483929e+18,3.6893488147419126e+18,3.7262423028893317e+18,3.763135791036751e+18,3.8184760232578796e+18,3.8645928834421535e+18,3.938379859736992e+18,3.975273347884411e+18,4.0306135801055396e+18,4.0306135801055396e+18,4.0398369521423944e+18,4.1136239284372326e+18,4.1597407886215066e+18,4.2150810208426353e+18,4.279644625100619e+18,4.344208229358602e+18,4.4087718336165857e+18,4.4641120658377144e+18,4.5010055539851336e+18,4.5563457862062623e+18,4.602462646390536e+18,4.639356134537955e+18,4.713143110832794e+18,4.759259971017068e+18,4.814600203238196e+18,4.897610551569889e+18,4.962174155827873e+18,5.035961132122711e+18,5.07285462027013e+18,5.118971480454404e+18,5.174311712675533e+18,5.229651944896662e+18,5.257322061007226e+18,5.312662293228355e+18,5.358779153412628e+18,5.377225897486338e+18,5.451012873781176e+18,5.506353106002305e+18,5.570916710260289e+18,5.626256942481417e+18,5.663150430628836e+18,5.72771403488682e+18,5.810724383218513e+18,5.884511359513351e+18,5.93985159173448e+18,6.004415195992463e+18,6.050532056176737e+18,6.087425544324156e+18,6.124319032471576e+18,6.188882636729559e+18,6.253446240987543e+18,6.318009845245526e+18,6.373350077466655e+18,6.437913681724638e+18,6.493253913945767e+18,6.55781751820375e+18,6.57626426227746e+18,6.59471100635117e+18,6.603934378388024e+18,6.622381122461734e+18,6.659274610609153e+18,6.705391470793427e+18,6.76995507505141e+18,6.852965423383103e+18,6.899082283567377e+18,6.98209263189907e+18,7.037432864120199e+18,7.083549724304473e+18,7.138889956525602e+18,7.185006816709876e+18,7.240347048931004e+18,7.286463909115278e+18,7.332580769299552e+18,7.332580769299552e+18,7.332580769299552e+18,7.378697629483826e+18,7.4248144896681e+18,7.489378093926084e+18,7.553941698184067e+18,7.600058558368341e+18,7.65539879058947e+18,7.683068906700034e+18,7.738409138921163e+18,7.775302627068582e+18,7.821419487252856e+18,7.904429835584549e+18,7.968993439842532e+18,8.024333672063661e+18,8.088897276321645e+18,8.144237508542773e+18,8.208801112800757e+18,8.264141345021885e+18,8.347151693353578e+18,8.420938669648417e+18,8.476278901869545e+18,8.540842506127529e+18,8.586959366311803e+18,8.660746342606641e+18,8.725309946864625e+18,8.762203435012044e+18,8.826767039270027e+18,8.891330643528011e+18,8.937447503712285e+18,8.946670875749139e+18,8.955894247785994e+18,8.965117619822849e+18,9.002011107970268e+18,9.075798084265106e+18,9.131138316486235e+18,9.177255176670509e+18,9.251042152965347e+18,9.287935641112766e+18,9.324829129260186e+18,9.370945989444458e+18,9.417062849628731e+18,9.463179709813004e+18,9.527743314070987e+18,9.601530290365825e+18,9.684540638697517e+18,9.739880870918646e+18,9.813667847213484e+18,9.859784707397757e+18,9.933571683692595e+18,9.970465171840014e+18,1.0044252148134853e+19,1.0108815752392835e+19,1.0164155984613964e+19,1.0210272844798237e+19,1.027483644905622e+19,1.0320953309240492e+19,1.0385516913498474e+19,1.0431633773682747e+19,1.0486974005903876e+19,1.053309086608815e+19,1.0579207726272422e+19,1.0597654470346131e+19,1.0680664818677823e+19,1.0736005050898952e+19,1.0800568655156935e+19,1.0809792027193788e+19,1.089280237552548e+19,1.0938919235709753e+19,1.0994259467930882e+19,1.106804644422572e+19,1.1114163304409993e+19,1.1169503536631122e+19,1.1206397024778541e+19,1.1206397024778541e+19,1.1234067140889104e+19,1.1298630745147087e+19,1.1353970977368216e+19,1.1409311209589344e+19,1.1455428069773617e+19,1.1529215046068455e+19,1.1584555278289584e+19,1.1621448766437003e+19,1.1667565626621276e+19,1.1741352602916114e+19,1.1815139579210953e+19,1.1870479811432081e+19,1.19073732995795e+19,1.196271353180063e+19,1.2036500508095468e+19,1.2110287484390306e+19,1.2147180972537725e+19,1.2211744576795707e+19,1.2285531553090546e+19,1.2359318529385384e+19,1.2386988645495947e+19,1.243310550568022e+19,1.2442328877717074e+19,1.2460775621790783e+19,1.2506892481975056e+19,1.2580679458269895e+19,1.2654466434564733e+19,1.2700583294749006e+19,1.2774370271043844e+19,1.2820487131228117e+19,1.286660399141239e+19,1.2912720851596663e+19,1.2968061083817791e+19,1.3032624688075774e+19,1.3060294804186337e+19,1.3115635036407466e+19,1.3152528524554885e+19,1.3207868756776014e+19,1.3281655733070852e+19,1.3327772593255125e+19,1.3383112825476254e+19,1.3410782941586817e+19,1.3484569917881655e+19,1.3549133522139638e+19,1.3604473754360766e+19,1.3669037358618749e+19,1.3724377590839878e+19,1.377049445102415e+19,1.3816611311208423e+19,1.3844281427318987e+19,1.3862728171392696e+19,1.3918068403613825e+19,1.3964185263798098e+19,1.4001078751945517e+19,1.402874886805608e+19,1.4074865728240353e+19,1.4139429332498336e+19,1.4222439680830028e+19,1.4296226657124866e+19,1.4333120145272285e+19,1.4388460377493414e+19,1.4443800609714543e+19,1.4508364213972525e+19,1.4554481074156798e+19,1.4628268050451636e+19,1.4665161538599055e+19,1.4702055026746474e+19,1.4729725142857038e+19,1.4803512119151876e+19,1.4868075723409859e+19,1.4904969211557278e+19,1.496953281581526e+19,1.5034096420073243e+19,1.5070989908220662e+19,1.5089436652294371e+19,1.5154000256552354e+19,1.5218563860810336e+19,1.5292350837105175e+19,1.5347691069326303e+19,1.5421478045621142e+19,1.5421478045621142e+19,1.5430701417657995e+19,1.5467594905805414e+19,1.5541381882100253e+19,1.5596722114321381e+19,1.5661285718579364e+19,1.5707402578763637e+19,1.5781189555058475e+19,1.5845753159316457e+19,1.5882646647463877e+19,1.5965656995795569e+19,1.6039443972090407e+19,1.6076337460237826e+19,1.608556083227468e+19,1.610400757634839e+19,1.6140901064495809e+19,1.6196241296716937e+19,1.624235815690121e+19,1.6306921761159193e+19,1.6343815249306612e+19,1.6408378853564594e+19,1.6472942457822577e+19,1.6546729434117415e+19,1.6620516410412253e+19,1.6666633270596526e+19,1.6721973502817655e+19,1.6777313735038783e+19,1.6823430595223056e+19,1.6897217571517895e+19,1.6971004547812733e+19,1.6980227919849587e+19,1.702634478003386e+19,1.7063238268181279e+19,1.7100131756328698e+19,1.7173918732623536e+19,1.7210812220770955e+19,1.7293822569102647e+19,1.735838617336063e+19,1.737683291743434e+19,1.7422949777618612e+19,1.7441396521692322e+19,1.749673675391345e+19,1.7561300358171433e+19,1.7607417218355706e+19,1.7671980822613688e+19,1.773654442687167e+19,1.7801108031129653e+19,1.7865671635387636e+19,1.7884118379461345e+19,1.7948681983719328e+19,1.7985575471866747e+19,1.8040915704087876e+19,1.8114702680382714e+19,1.8170042912603843e+19,1.8253053260935535e+19,1.8299170121119807e+19,1.8354510353340936e+19,1.8428297329635774e+19,1.849286093389376e+19,1.8548201166114886e+19,1.861276477037287e+19,1.8621988142409724e+19,1.8658881630557143e+19,1.873266860685198e+19,1.880645558314682e+19,1.888946593147851e+19,1.8898689303515365e+19,1.8898689303515365e+19,1.8898689303515365e+19,1.8898689303515365e+19,1.8917136047589073e+19,1.8926359419625927e+19,1.8944806163699634e+19,1.900014639592076e+19,1.9055486628141887e+19,1.9129273604436726e+19,1.919383720869471e+19,1.9221507324805276e+19,1.928607092906326e+19,1.9341411161284387e+19,1.9415198137579225e+19,1.947976174183721e+19,1.9544325346095194e+19,1.960888895035318e+19,1.9682675926648017e+19,1.9738016158869144e+19,1.979335639109027e+19,1.983024987923769e+19,1.986714336738511e+19,1.991326022756938e+19,1.99501537157168e+19,1.9996270575901073e+19,2.0042387436085346e+19,2.0116174412380185e+19,2.017151464460131e+19,2.0199184760711877e+19,2.024530162089615e+19,2.0309865225154134e+19,2.036520545737526e+19,2.0429769061633245e+19,2.0466662549780664e+19,2.052200278200179e+19,2.059578975829663e+19,2.0651129990517756e+19,2.0724916966812594e+19,2.075258708292316e+19,2.0817150687181144e+19,2.0890937663475982e+19,2.0955501267733967e+19,2.103851161606566e+19,2.1112298592360497e+19,2.1149192080507916e+19,2.119530894069219e+19,2.1259872544950174e+19,2.133365952124501e+19,2.140744649753985e+19,2.1462786729760977e+19,2.152735033401896e+19,2.1573467194203234e+19,2.159191393827694e+19,2.166570091457178e+19,2.173948789086662e+19,2.1767158006977184e+19,2.1813274867161457e+19,2.1831721611235164e+19,2.1877838471419437e+19,2.1933178703640564e+19,2.198851893586169e+19,2.2034635796045963e+19,2.208997602826709e+19,2.2117646144377655e+19,2.2191433120672494e+19,2.2274443469004186e+19,2.2292890213077893e+19,2.232056032918846e+19,2.2357453817335878e+19,2.2394347305483297e+19,2.244046416566757e+19,2.2514251141962408e+19,2.2578814746220392e+19,2.263415497844152e+19,2.2698718582699504e+19,2.2744835442883777e+19,2.280939904714176e+19,2.28831860234366e+19,2.2938526255657726e+19,2.2984643115842e+19,2.3012313231952564e+19,2.307687683621055e+19,2.312299369639482e+19,2.3187557300652806e+19,2.3261344276947644e+19,2.3261344276947644e+19,2.332590788120563e+19,2.3335131253242483e+19,2.339047148546361e+19,2.3445811717684736e+19,2.3501151949905863e+19,2.353804543805328e+19,2.3602609042311266e+19,2.3676396018606105e+19,2.3713289506753524e+19,2.376862973897465e+19,2.3814746599158923e+19,2.387008683138005e+19,2.390698031952747e+19,2.3934650435638034e+19,2.398999066785916e+19,2.400843741193287e+19,2.4063777644153995e+19,2.412834124841198e+19,2.420212822470682e+19,2.4257468456927945e+19,2.431280868914907e+19,2.43681489213702e+19,2.4395819037480763e+19,2.4460382641738748e+19,2.4524946245996732e+19,2.4589509850254717e+19,2.46540734545127e+19,2.4700190314696974e+19,2.47555305469181e+19,2.4783200663028666e+19,2.4838540895249793e+19,2.489388112747092e+19,2.493077461561834e+19,2.4967668103765758e+19,2.5059901824134304e+19,2.5106018684318577e+19,2.515213554450285e+19,2.5216699148760834e+19,2.5290486125055672e+19,2.53458263572768e+19,2.5373496473387364e+19,2.542883670560849e+19,2.5493400309866476e+19,2.555796391412446e+19,2.5613304146345587e+19,2.567786775060357e+19,2.5723984610787844e+19,2.578854821504583e+19,2.58346650752301e+19,2.5880781935414374e+19,2.5926898795598647e+19,2.597301565578292e+19,2.6037579260040905e+19,2.6111366236335743e+19,2.6148259724483162e+19,2.6212823328741147e+19,2.6249716816888566e+19,2.627738693299913e+19,2.635117390929397e+19,2.638806739744139e+19,2.6443407629662515e+19,2.645263100169937e+19,2.6480301117809934e+19,2.6554088094104773e+19,2.66094283263259e+19,2.6664768558547026e+19,2.667399193058388e+19,2.6729332162805006e+19,2.679389576706299e+19,2.683078925521041e+19,2.6895352859468394e+19,2.6895352859468394e+19,2.692302297557896e+19,2.6987586579836944e+19,2.7061373556131783e+19,2.711671378835291e+19,2.7172054020574036e+19,2.71997241366846e+19,2.7245840996868874e+19,2.7282734485016293e+19,2.733807471723742e+19,2.7393414949458547e+19,2.743953180964282e+19,2.7504095413900804e+19,2.753176553001137e+19,2.7577882390195642e+19,2.7623999250379915e+19,2.7707009598711607e+19,2.777157320296959e+19,2.7836136807227576e+19,2.788225366741185e+19,2.7928370527596122e+19,2.7974487387780395e+19,2.7992934131854103e+19,2.8057497736112087e+19,2.8112837968333214e+19,2.81774015725912e+19,2.822351843277547e+19,2.8269635292959744e+19,2.833419889721773e+19,2.8389539129438855e+19,2.8426432617586274e+19,2.8472549477770547e+19,2.853711308202853e+19,2.8601676686286516e+19,2.864779354647079e+19,2.869391040665506e+19,2.874925063887619e+19,2.8813814243134173e+19,2.8859931103318446e+19,2.892449470757643e+19,2.8979834939797557e+19,2.906284528812925e+19,2.9118185520350376e+19,2.9173525752571503e+19,2.919197249664521e+19,2.9238089356829483e+19,2.929342958905061e+19,2.9357993193308594e+19,2.941333342552972e+19,2.9441003541640286e+19,2.9514790517935124e+19,2.9597800866266817e+19,2.9671587842561655e+19,2.973615144681964e+19,2.9828385167188185e+19,2.988372539940931e+19,2.995751237570415e+19,3.0012852607925277e+19,3.007741621218326e+19,3.0086639584220115e+19,3.0123533072367534e+19,3.014197981644124e+19,3.019732004866237e+19,3.0252660280883495e+19,3.030800051310462e+19,3.0391010861436314e+19,3.041868097754688e+19,3.0446351093657444e+19,3.04555744656943e+19,3.0483244581804863e+19,3.0529361441989136e+19,3.0584701674210263e+19,3.064004190643139e+19,3.0704605510689374e+19,3.076916911494736e+19,3.0824509347168485e+19,3.087062620735276e+19,3.091674306753703e+19,3.0962859927721304e+19,3.102742353197929e+19,3.1101210508274127e+19,3.1193444228642673e+19,3.1258007832900657e+19,3.1331794809195495e+19,3.139635841345348e+19,3.1424028529564045e+19,3.148859213382203e+19,3.1543932366043156e+19,3.160849597030114e+19,3.1663836202522268e+19,3.170995306270654e+19,3.1774516666964525e+19,3.178374003900138e+19,3.182985689918565e+19,3.1857527015296217e+19,3.190364387548049e+19,3.1958984107701617e+19,3.204199445603331e+19,3.208811131621758e+19,3.2134228176401854e+19,3.2208015152696693e+19,3.2272578756954677e+19,3.231869561713895e+19,3.235558910528637e+19,3.2364812477323223e+19,3.2374035849360077e+19,3.242015270954435e+19,3.2484716313802334e+19,3.2558503290097172e+19,3.2604620150281445e+19,3.2678407126576284e+19,3.274297073083427e+19,3.2798310963055395e+19,3.2816757707129102e+19,3.2881321311387087e+19,3.2918214799534506e+19,3.2973555031755633e+19,3.3038118636013617e+19,3.31026822402716e+19,3.313957572841902e+19,3.3185692588603294e+19,3.325947956489813e+19,3.333326654119297e+19,3.3397830145450955e+19,3.3443947005635228e+19,3.3517733981930066e+19,3.3573074214151193e+19,3.362841444637232e+19,3.3674531306556592e+19,3.374831828285143e+19,3.3812881887109415e+19,3.3858998747293688e+19,3.394200909562538e+19,3.3988125955809653e+19,3.402501944395707e+19,3.406191293210449e+19,3.4089583048215056e+19,3.4108029792288764e+19,3.4154146652473037e+19,3.421871025673102e+19,3.4283273860989006e+19,3.434783746524699e+19,3.4412401069504975e+19,3.4449294557652394e+19,3.447696467376296e+19,3.4495411417836667e+19,3.4550751650057794e+19,3.461531525431578e+19,3.4679878858573763e+19,3.473521909079489e+19,3.4790559323016016e+19,3.4827452811163435e+19,3.4873569671347708e+19,3.4928909903568835e+19,3.4947356647642542e+19,3.5011920251900527e+19,3.50580371120848e+19,3.509493060023222e+19,3.5122600716342784e+19,3.517794094856391e+19,3.5233281180785037e+19,3.5288621413006164e+19,3.5334738273190437e+19,3.5390078505411564e+19,3.541774862152213e+19,3.545464210966955e+19,3.5519205713927533e+19,3.5583769318185517e+19,3.5639109550406644e+19,3.566677966651721e+19,3.5694449782627774e+19,3.5731343270775194e+19,3.575901338688576e+19,3.580513024707003e+19,3.5814353619106886e+19,3.5832800363180593e+19,3.5897363967438578e+19,3.5952704199659704e+19,3.6035714547991396e+19,3.610027815224938e+19,3.61371716403968e+19,3.6201735244654785e+19,3.625707547687591e+19,3.633086245317075e+19,3.6386202685391876e+19,3.641387280150244e+19,3.646921303372357e+19,3.651532989390784e+19,3.658911687020268e+19,3.6635233730386952e+19,3.669057396260808e+19,3.6755137566866063e+19,3.6801254427050336e+19,3.6856594659271463e+19,3.690271151945574e+19,3.695805175167687e+19,3.700416861186114e+19,3.704106210000856e+19,3.71148490763034e+19,3.7133295820377104e+19,3.714251919241396e+19,3.715174256445082e+19,3.719785942463509e+19,3.727164640092993e+19,3.732698663315106e+19,3.738232686537219e+19,3.743766709759332e+19,3.747456058574074e+19,3.7557570934072435e+19,3.7622134538330415e+19,3.769592151462525e+19,3.773281500277267e+19,3.77881552349938e+19,3.7825048723141214e+19,3.7880388955362345e+19,3.7944952559620325e+19,3.801873953591516e+19,3.804640965202573e+19,3.811097325628371e+19,3.8193983604615406e+19,3.822165372072597e+19,3.826777058091024e+19,3.8323110813131375e+19,3.839689778942621e+19,3.8443014649610486e+19,3.851680162590532e+19,3.853524836997903e+19,3.861825871831073e+19,3.8627482090347586e+19,3.8627482090347586e+19,3.865515220645815e+19,3.871049243867928e+19,3.876583267090041e+19,3.883039627515839e+19,3.8876513135342666e+19,3.89318533675638e+19,3.899641697182178e+19,3.904253383200605e+19,3.911632080830089e+19,3.919010778459573e+19,3.925467138885371e+19,3.928234150496427e+19,3.930078824903798e+19,3.9337681737185395e+19,3.9402245341443375e+19,3.944836220162765e+19,3.952214917792249e+19,3.9595936154217325e+19,3.9660499758475305e+19,3.970661661865958e+19,3.977118022291756e+19,3.983574382717554e+19,3.990030743143352e+19,3.991875417550723e+19,3.994642429161779e+19,4.001098789587577e+19,4.00663281280969e+19,4.012166836031803e+19,4.016778522050231e+19,4.022312545272344e+19,4.028768905698142e+19,4.03522526612394e+19,4.039836952142367e+19,4.04537097536448e+19,4.051827335790278e+19,4.057361359012391e+19,4.063817719438189e+19,4.0693517426603024e+19,4.073041091475044e+19,4.078575114697157e+19,4.085031475122955e+19,4.090565498345068e+19,4.097021858770866e+19,4.1016335447892935e+19,4.102555881992979e+19,4.102555881992979e+19,4.1071675680114065e+19,4.115468602844576e+19,4.117313277251947e+19,4.121924963270374e+19,4.129303660899858e+19,4.137604695733028e+19,4.142216381751455e+19,4.148672742177253e+19,4.1569737770104226e+19,4.162507800232536e+19,4.168964160658334e+19,4.175420521084132e+19,4.1763428582878175e+19,4.179109869898874e+19,4.183721555917301e+19,4.186488567528358e+19,4.193867265157842e+19,4.1947896023615275e+19,4.2003236255836406e+19,4.207702323213124e+19,4.211391672027866e+19,4.2150810208426074e+19,4.216925695249978e+19,4.22061504406472e+19,4.225226730083147e+19,4.23076075330526e+19,4.236294776527373e+19,4.242751136953171e+19,4.249207497378969e+19,4.254741520601082e+19,4.258430869415824e+19,4.263964892637937e+19,4.267654241452678e+19,4.274110601878476e+19,4.275955276285847e+19,4.28148929950796e+19,4.287945659933758e+19,4.293479683155871e+19,4.295324357563242e+19,4.297169031970613e+19,4.302703055192726e+19,4.3063924040074674e+19,4.313771101636951e+19,4.321149799266435e+19,4.327606159692233e+19,4.335907194525403e+19,4.34051888054383e+19,4.346052903765943e+19,4.352509264191741e+19,4.358965624617539e+19,4.365421985043337e+19,4.37095600826545e+19,4.37925704309862e+19,4.386635740728104e+19,4.391247426746531e+19,4.3949367755612725e+19,4.3995484615797e+19,4.406927159209184e+19,4.40969417082024e+19,4.413383519634982e+19,4.413383519634982e+19,4.417072868449723e+19,4.4216845544681505e+19,4.425373903282892e+19,4.430907926505005e+19,4.436441949727118e+19,4.4410536357455454e+19,4.449354670578715e+19,4.453966356597142e+19,4.461345054226626e+19,4.467801414652424e+19,4.474257775078222e+19,4.477024786689279e+19,4.479791798300335e+19,4.484403484318763e+19,4.487170495929819e+19,4.493626856355617e+19,4.49916087957773e+19,4.5037725655961575e+19,4.509306588818271e+19,4.51760762365144e+19,4.523141646873553e+19,4.530520344503037e+19,4.536976704928835e+19,4.543433065354633e+19,4.548967088576746e+19,4.554501111798859e+19,4.561879809428343e+19,4.5664914954467705e+19,4.5720255186688836e+19,4.575714867483625e+19,4.580326553502052e+19,4.5858605767241654e+19,4.5913945999462785e+19,4.5969286231683916e+19,4.597850960372077e+19,4.599695634779448e+19,4.606151995205246e+19,4.611686018427359e+19,4.619064716056843e+19,4.625521076482641e+19,4.632899774112125e+19,4.640278471741609e+19,4.64396782055635e+19,4.6485795065747775e+19,4.656880541407947e+19,4.663336901833745e+19,4.6679485878521725e+19,4.671637936666914e+19,4.679016634296398e+19,4.681783645907454e+19,4.6873176691295674e+19,4.690084680740624e+19,4.6928516923516805e+19,4.696541041166422e+19,4.701152727184849e+19,4.70299740159222e+19,4.708531424814333e+19,4.7131431108327604e+19,4.7195994712585585e+19,4.7251334944806715e+19,4.7315898549064696e+19,4.738046215332268e+19,4.743580238554381e+19,4.749114261776494e+19,4.754648284998607e+19,4.757415296609663e+19,4.761104645424405e+19,4.766638668646518e+19,4.772172691868631e+19,4.778629052294429e+19,4.785085412720227e+19,4.7896970987386544e+19,4.7961534591644525e+19,4.797998133571823e+19,4.801687482386565e+19,4.8026098195902505e+19,4.807221505608678e+19,4.811833191627105e+19,4.819211889256589e+19,4.820134226460275e+19,4.820134226460275e+19,4.8219789008676454e+19,4.826590586886073e+19,4.830279935700814e+19,4.8348916217192415e+19,4.8413479821450396e+19,4.848726679774523e+19,4.852416028589265e+19,4.859794726218749e+19,4.864406412237176e+19],\"type\":\"scatter\"}],                        {\"template\":{\"data\":{\"bar\":[{\"error_x\":{\"color\":\"#2a3f5f\"},\"error_y\":{\"color\":\"#2a3f5f\"},\"marker\":{\"line\":{\"color\":\"#E5ECF6\",\"width\":0.5},\"pattern\":{\"fillmode\":\"overlay\",\"size\":10,\"solidity\":0.2}},\"type\":\"bar\"}],\"barpolar\":[{\"marker\":{\"line\":{\"color\":\"#E5ECF6\",\"width\":0.5},\"pattern\":{\"fillmode\":\"overlay\",\"size\":10,\"solidity\":0.2}},\"type\":\"barpolar\"}],\"carpet\":[{\"aaxis\":{\"endlinecolor\":\"#2a3f5f\",\"gridcolor\":\"white\",\"linecolor\":\"white\",\"minorgridcolor\":\"white\",\"startlinecolor\":\"#2a3f5f\"},\"baxis\":{\"endlinecolor\":\"#2a3f5f\",\"gridcolor\":\"white\",\"linecolor\":\"white\",\"minorgridcolor\":\"white\",\"startlinecolor\":\"#2a3f5f\"},\"type\":\"carpet\"}],\"choropleth\":[{\"colorbar\":{\"outlinewidth\":0,\"ticks\":\"\"},\"type\":\"choropleth\"}],\"contour\":[{\"colorbar\":{\"outlinewidth\":0,\"ticks\":\"\"},\"colorscale\":[[0.0,\"#0d0887\"],[0.1111111111111111,\"#46039f\"],[0.2222222222222222,\"#7201a8\"],[0.3333333333333333,\"#9c179e\"],[0.4444444444444444,\"#bd3786\"],[0.5555555555555556,\"#d8576b\"],[0.6666666666666666,\"#ed7953\"],[0.7777777777777778,\"#fb9f3a\"],[0.8888888888888888,\"#fdca26\"],[1.0,\"#f0f921\"]],\"type\":\"contour\"}],\"contourcarpet\":[{\"colorbar\":{\"outlinewidth\":0,\"ticks\":\"\"},\"type\":\"contourcarpet\"}],\"heatmap\":[{\"colorbar\":{\"outlinewidth\":0,\"ticks\":\"\"},\"colorscale\":[[0.0,\"#0d0887\"],[0.1111111111111111,\"#46039f\"],[0.2222222222222222,\"#7201a8\"],[0.3333333333333333,\"#9c179e\"],[0.4444444444444444,\"#bd3786\"],[0.5555555555555556,\"#d8576b\"],[0.6666666666666666,\"#ed7953\"],[0.7777777777777778,\"#fb9f3a\"],[0.8888888888888888,\"#fdca26\"],[1.0,\"#f0f921\"]],\"type\":\"heatmap\"}],\"heatmapgl\":[{\"colorbar\":{\"outlinewidth\":0,\"ticks\":\"\"},\"colorscale\":[[0.0,\"#0d0887\"],[0.1111111111111111,\"#46039f\"],[0.2222222222222222,\"#7201a8\"],[0.3333333333333333,\"#9c179e\"],[0.4444444444444444,\"#bd3786\"],[0.5555555555555556,\"#d8576b\"],[0.6666666666666666,\"#ed7953\"],[0.7777777777777778,\"#fb9f3a\"],[0.8888888888888888,\"#fdca26\"],[1.0,\"#f0f921\"]],\"type\":\"heatmapgl\"}],\"histogram\":[{\"marker\":{\"pattern\":{\"fillmode\":\"overlay\",\"size\":10,\"solidity\":0.2}},\"type\":\"histogram\"}],\"histogram2d\":[{\"colorbar\":{\"outlinewidth\":0,\"ticks\":\"\"},\"colorscale\":[[0.0,\"#0d0887\"],[0.1111111111111111,\"#46039f\"],[0.2222222222222222,\"#7201a8\"],[0.3333333333333333,\"#9c179e\"],[0.4444444444444444,\"#bd3786\"],[0.5555555555555556,\"#d8576b\"],[0.6666666666666666,\"#ed7953\"],[0.7777777777777778,\"#fb9f3a\"],[0.8888888888888888,\"#fdca26\"],[1.0,\"#f0f921\"]],\"type\":\"histogram2d\"}],\"histogram2dcontour\":[{\"colorbar\":{\"outlinewidth\":0,\"ticks\":\"\"},\"colorscale\":[[0.0,\"#0d0887\"],[0.1111111111111111,\"#46039f\"],[0.2222222222222222,\"#7201a8\"],[0.3333333333333333,\"#9c179e\"],[0.4444444444444444,\"#bd3786\"],[0.5555555555555556,\"#d8576b\"],[0.6666666666666666,\"#ed7953\"],[0.7777777777777778,\"#fb9f3a\"],[0.8888888888888888,\"#fdca26\"],[1.0,\"#f0f921\"]],\"type\":\"histogram2dcontour\"}],\"mesh3d\":[{\"colorbar\":{\"outlinewidth\":0,\"ticks\":\"\"},\"type\":\"mesh3d\"}],\"parcoords\":[{\"line\":{\"colorbar\":{\"outlinewidth\":0,\"ticks\":\"\"}},\"type\":\"parcoords\"}],\"pie\":[{\"automargin\":true,\"type\":\"pie\"}],\"scatter\":[{\"marker\":{\"colorbar\":{\"outlinewidth\":0,\"ticks\":\"\"}},\"type\":\"scatter\"}],\"scatter3d\":[{\"line\":{\"colorbar\":{\"outlinewidth\":0,\"ticks\":\"\"}},\"marker\":{\"colorbar\":{\"outlinewidth\":0,\"ticks\":\"\"}},\"type\":\"scatter3d\"}],\"scattercarpet\":[{\"marker\":{\"colorbar\":{\"outlinewidth\":0,\"ticks\":\"\"}},\"type\":\"scattercarpet\"}],\"scattergeo\":[{\"marker\":{\"colorbar\":{\"outlinewidth\":0,\"ticks\":\"\"}},\"type\":\"scattergeo\"}],\"scattergl\":[{\"marker\":{\"colorbar\":{\"outlinewidth\":0,\"ticks\":\"\"}},\"type\":\"scattergl\"}],\"scattermapbox\":[{\"marker\":{\"colorbar\":{\"outlinewidth\":0,\"ticks\":\"\"}},\"type\":\"scattermapbox\"}],\"scatterpolar\":[{\"marker\":{\"colorbar\":{\"outlinewidth\":0,\"ticks\":\"\"}},\"type\":\"scatterpolar\"}],\"scatterpolargl\":[{\"marker\":{\"colorbar\":{\"outlinewidth\":0,\"ticks\":\"\"}},\"type\":\"scatterpolargl\"}],\"scatterternary\":[{\"marker\":{\"colorbar\":{\"outlinewidth\":0,\"ticks\":\"\"}},\"type\":\"scatterternary\"}],\"surface\":[{\"colorbar\":{\"outlinewidth\":0,\"ticks\":\"\"},\"colorscale\":[[0.0,\"#0d0887\"],[0.1111111111111111,\"#46039f\"],[0.2222222222222222,\"#7201a8\"],[0.3333333333333333,\"#9c179e\"],[0.4444444444444444,\"#bd3786\"],[0.5555555555555556,\"#d8576b\"],[0.6666666666666666,\"#ed7953\"],[0.7777777777777778,\"#fb9f3a\"],[0.8888888888888888,\"#fdca26\"],[1.0,\"#f0f921\"]],\"type\":\"surface\"}],\"table\":[{\"cells\":{\"fill\":{\"color\":\"#EBF0F8\"},\"line\":{\"color\":\"white\"}},\"header\":{\"fill\":{\"color\":\"#C8D4E3\"},\"line\":{\"color\":\"white\"}},\"type\":\"table\"}]},\"layout\":{\"annotationdefaults\":{\"arrowcolor\":\"#2a3f5f\",\"arrowhead\":0,\"arrowwidth\":1},\"autotypenumbers\":\"strict\",\"coloraxis\":{\"colorbar\":{\"outlinewidth\":0,\"ticks\":\"\"}},\"colorscale\":{\"diverging\":[[0,\"#8e0152\"],[0.1,\"#c51b7d\"],[0.2,\"#de77ae\"],[0.3,\"#f1b6da\"],[0.4,\"#fde0ef\"],[0.5,\"#f7f7f7\"],[0.6,\"#e6f5d0\"],[0.7,\"#b8e186\"],[0.8,\"#7fbc41\"],[0.9,\"#4d9221\"],[1,\"#276419\"]],\"sequential\":[[0.0,\"#0d0887\"],[0.1111111111111111,\"#46039f\"],[0.2222222222222222,\"#7201a8\"],[0.3333333333333333,\"#9c179e\"],[0.4444444444444444,\"#bd3786\"],[0.5555555555555556,\"#d8576b\"],[0.6666666666666666,\"#ed7953\"],[0.7777777777777778,\"#fb9f3a\"],[0.8888888888888888,\"#fdca26\"],[1.0,\"#f0f921\"]],\"sequentialminus\":[[0.0,\"#0d0887\"],[0.1111111111111111,\"#46039f\"],[0.2222222222222222,\"#7201a8\"],[0.3333333333333333,\"#9c179e\"],[0.4444444444444444,\"#bd3786\"],[0.5555555555555556,\"#d8576b\"],[0.6666666666666666,\"#ed7953\"],[0.7777777777777778,\"#fb9f3a\"],[0.8888888888888888,\"#fdca26\"],[1.0,\"#f0f921\"]]},\"colorway\":[\"#636efa\",\"#EF553B\",\"#00cc96\",\"#ab63fa\",\"#FFA15A\",\"#19d3f3\",\"#FF6692\",\"#B6E880\",\"#FF97FF\",\"#FECB52\"],\"font\":{\"color\":\"#2a3f5f\"},\"geo\":{\"bgcolor\":\"white\",\"lakecolor\":\"white\",\"landcolor\":\"#E5ECF6\",\"showlakes\":true,\"showland\":true,\"subunitcolor\":\"white\"},\"hoverlabel\":{\"align\":\"left\"},\"hovermode\":\"closest\",\"mapbox\":{\"style\":\"light\"},\"paper_bgcolor\":\"white\",\"plot_bgcolor\":\"#E5ECF6\",\"polar\":{\"angularaxis\":{\"gridcolor\":\"white\",\"linecolor\":\"white\",\"ticks\":\"\"},\"bgcolor\":\"#E5ECF6\",\"radialaxis\":{\"gridcolor\":\"white\",\"linecolor\":\"white\",\"ticks\":\"\"}},\"scene\":{\"xaxis\":{\"backgroundcolor\":\"#E5ECF6\",\"gridcolor\":\"white\",\"gridwidth\":2,\"linecolor\":\"white\",\"showbackground\":true,\"ticks\":\"\",\"zerolinecolor\":\"white\"},\"yaxis\":{\"backgroundcolor\":\"#E5ECF6\",\"gridcolor\":\"white\",\"gridwidth\":2,\"linecolor\":\"white\",\"showbackground\":true,\"ticks\":\"\",\"zerolinecolor\":\"white\"},\"zaxis\":{\"backgroundcolor\":\"#E5ECF6\",\"gridcolor\":\"white\",\"gridwidth\":2,\"linecolor\":\"white\",\"showbackground\":true,\"ticks\":\"\",\"zerolinecolor\":\"white\"}},\"shapedefaults\":{\"line\":{\"color\":\"#2a3f5f\"}},\"ternary\":{\"aaxis\":{\"gridcolor\":\"white\",\"linecolor\":\"white\",\"ticks\":\"\"},\"baxis\":{\"gridcolor\":\"white\",\"linecolor\":\"white\",\"ticks\":\"\"},\"bgcolor\":\"#E5ECF6\",\"caxis\":{\"gridcolor\":\"white\",\"linecolor\":\"white\",\"ticks\":\"\"}},\"title\":{\"x\":0.05},\"xaxis\":{\"automargin\":true,\"gridcolor\":\"white\",\"linecolor\":\"white\",\"ticks\":\"\",\"title\":{\"standoff\":15},\"zerolinecolor\":\"white\",\"zerolinewidth\":2},\"yaxis\":{\"automargin\":true,\"gridcolor\":\"white\",\"linecolor\":\"white\",\"ticks\":\"\",\"title\":{\"standoff\":15},\"zerolinecolor\":\"white\",\"zerolinewidth\":2}}},\"font\":{\"family\":\"Courier New, monospace\",\"color\":\"RebeccaPurple\"},\"title\":{\"text\":\"Sum of reward for each episode(averaged with each 10 episodes) ACUMULATED\"},\"xaxis\":{\"title\":{\"text\":\"Number of episodes(averaged with each 10 episodes)\"}},\"yaxis\":{\"title\":{\"text\":\"Sum of rewards during episode\"}},\"legend\":{\"title\":{\"text\":\"Legend Title\"}}},                        {\"responsive\": true}                    ).then(function(){\n",
              "                            \n",
              "var gd = document.getElementById('d99ccd1e-ef30-4aa4-8076-e8b238fd26bc');\n",
              "var x = new MutationObserver(function (mutations, observer) {{\n",
              "        var display = window.getComputedStyle(gd).display;\n",
              "        if (!display || display === 'none') {{\n",
              "            console.log([gd, 'removed!']);\n",
              "            Plotly.purge(gd);\n",
              "            observer.disconnect();\n",
              "        }}\n",
              "}});\n",
              "\n",
              "// Listen for the removal of the full notebook cells\n",
              "var notebookContainer = gd.closest('#notebook-container');\n",
              "if (notebookContainer) {{\n",
              "    x.observe(notebookContainer, {childList: true});\n",
              "}}\n",
              "\n",
              "// Listen for the clearing of the current output cell\n",
              "var outputEl = gd.closest('.output');\n",
              "if (outputEl) {{\n",
              "    x.observe(outputEl, {childList: true});\n",
              "}}\n",
              "\n",
              "                        })                };                            </script>        </div>\n",
              "</body>\n",
              "</html>"
            ]
          },
          "metadata": {}
        }
      ]
    },
    {
      "cell_type": "markdown",
      "source": [
        "###World1m"
      ],
      "metadata": {
        "id": "ampgK2lEPxPq"
      }
    },
    {
      "cell_type": "code",
      "source": [
        "printMap(w1m)"
      ],
      "metadata": {
        "colab": {
          "base_uri": "https://localhost:8080/"
        },
        "id": "AHC4K6kD4s7d",
        "outputId": "f08a7fa7-b283-48f8-ec29-a12d73a784ae"
      },
      "execution_count": 36,
      "outputs": [
        {
          "output_type": "stream",
          "name": "stdout",
          "text": [
            "[ O  X  O  O  O  X  O  O  O \n",
            " O  X  O  X  O  X  O  X  O \n",
            " O  X  O  X  O  X  O  X  O \n",
            " O  X  O  X  O  X  O  X  O \n",
            " O  X  O  X  O  X  O  X  O \n",
            " O  X  O  X  O  X  O  X  O \n",
            " O  X  O  X  O  X  O  X  O \n",
            " O  X  O  X  O  X  O  X  O \n",
            " O  O  O  X  O  O  O  X  F ]\n",
            "\n"
          ]
        }
      ]
    },
    {
      "cell_type": "markdown",
      "source": [
        "#### SARSA"
      ],
      "metadata": {
        "id": "LlyJ4QkhQU9I"
      }
    },
    {
      "cell_type": "code",
      "source": [
        "agent_w1m_sarsa = Agent(w1m, (0, 0))\n",
        "Q_w1m_sarsa, rewards_w1m_sarsa = sarsa(agent_w1m_sarsa,init_state = (0,0), alpha = 0.5,gamma = 0.9 , epsilon = 0.1 , max_iterations =10000,debug = False)\n",
        "move_with_value_function(agent_w1m_sarsa,Q_w1m_sarsa, max_steps = 100)"
      ],
      "metadata": {
        "colab": {
          "base_uri": "https://localhost:8080/"
        },
        "id": "5xfojw_w4s-D",
        "outputId": "c1cf0464-58a4-4e25-caca-35ab37743113"
      },
      "execution_count": 37,
      "outputs": [
        {
          "output_type": "stream",
          "name": "stdout",
          "text": [
            "Initial S: (0, 0) --(A: (1, 0) Abajo ) -->\n",
            "Now in S: (1, 0) --(A: (1, 0) Abajo ) -->\n",
            "Now in S: (2, 0) --(A: (1, 0) Abajo ) -->\n",
            "Now in S: (3, 0) --(A: (1, 0) Abajo ) -->\n",
            "Now in S: (4, 0) --(A: (1, 0) Abajo ) -->\n",
            "Now in S: (5, 0) --(A: (1, 0) Abajo ) -->\n",
            "Now in S: (6, 0) --(A: (1, 0) Abajo ) -->\n",
            "Now in S: (7, 0) --(A: (1, 0) Abajo ) -->\n",
            "Now in S: (8, 0) --(A: (0, 1) Derecha ) -->\n",
            "Now in S: (8, 1) --(A: (0, 1) Derecha ) -->\n",
            "Now in S: (8, 2) --(A: (-1, 0) Arriba ) -->\n",
            "Now in S: (7, 2) --(A: (-1, 0) Arriba ) -->\n",
            "Now in S: (6, 2) --(A: (-1, 0) Arriba ) -->\n",
            "Now in S: (5, 2) --(A: (-1, 0) Arriba ) -->\n",
            "Now in S: (4, 2) --(A: (1, 0) Abajo ) -->\n",
            "Now in S: (5, 2) --(A: (-1, 0) Arriba ) -->\n",
            "Now in S: (4, 2) --(A: (1, 0) Abajo ) -->\n",
            "Now in S: (5, 2) --(A: (-1, 0) Arriba ) -->\n",
            "Now in S: (4, 2) --(A: (1, 0) Abajo ) -->\n",
            "Now in S: (5, 2) --(A: (-1, 0) Arriba ) -->\n",
            "Now in S: (4, 2) --(A: (1, 0) Abajo ) -->\n",
            "Now in S: (5, 2) --(A: (-1, 0) Arriba ) -->\n",
            "Now in S: (4, 2) --(A: (1, 0) Abajo ) -->\n",
            "Now in S: (5, 2) --(A: (-1, 0) Arriba ) -->\n",
            "Now in S: (4, 2) --(A: (1, 0) Abajo ) -->\n",
            "Now in S: (5, 2) --(A: (-1, 0) Arriba ) -->\n",
            "Now in S: (4, 2) --(A: (1, 0) Abajo ) -->\n",
            "Now in S: (5, 2) --(A: (-1, 0) Arriba ) -->\n",
            "Now in S: (4, 2) --(A: (1, 0) Abajo ) -->\n",
            "Now in S: (5, 2) --(A: (-1, 0) Arriba ) -->\n",
            "Now in S: (4, 2) --(A: (1, 0) Abajo ) -->\n",
            "Now in S: (5, 2) --(A: (-1, 0) Arriba ) -->\n",
            "Now in S: (4, 2) --(A: (1, 0) Abajo ) -->\n",
            "Now in S: (5, 2) --(A: (-1, 0) Arriba ) -->\n",
            "Now in S: (4, 2) --(A: (1, 0) Abajo ) -->\n",
            "Now in S: (5, 2) --(A: (-1, 0) Arriba ) -->\n",
            "Now in S: (4, 2) --(A: (1, 0) Abajo ) -->\n",
            "Now in S: (5, 2) --(A: (-1, 0) Arriba ) -->\n",
            "Now in S: (4, 2) --(A: (1, 0) Abajo ) -->\n",
            "Now in S: (5, 2) --(A: (-1, 0) Arriba ) -->\n",
            "Now in S: (4, 2) --(A: (1, 0) Abajo ) -->\n",
            "Now in S: (5, 2) --(A: (-1, 0) Arriba ) -->\n",
            "Now in S: (4, 2) --(A: (1, 0) Abajo ) -->\n",
            "Now in S: (5, 2) --(A: (-1, 0) Arriba ) -->\n",
            "Now in S: (4, 2) --(A: (1, 0) Abajo ) -->\n",
            "Now in S: (5, 2) --(A: (-1, 0) Arriba ) -->\n",
            "Now in S: (4, 2) --(A: (1, 0) Abajo ) -->\n",
            "Now in S: (5, 2) --(A: (-1, 0) Arriba ) -->\n",
            "Now in S: (4, 2) --(A: (1, 0) Abajo ) -->\n",
            "Now in S: (5, 2) --(A: (-1, 0) Arriba ) -->\n",
            "Now in S: (4, 2) --(A: (1, 0) Abajo ) -->\n",
            "Now in S: (5, 2) --(A: (-1, 0) Arriba ) -->\n",
            "Now in S: (4, 2) --(A: (1, 0) Abajo ) -->\n",
            "Now in S: (5, 2) --(A: (-1, 0) Arriba ) -->\n",
            "Now in S: (4, 2) --(A: (1, 0) Abajo ) -->\n",
            "Now in S: (5, 2) --(A: (-1, 0) Arriba ) -->\n",
            "Now in S: (4, 2) --(A: (1, 0) Abajo ) -->\n",
            "Now in S: (5, 2) --(A: (-1, 0) Arriba ) -->\n",
            "Now in S: (4, 2) --(A: (1, 0) Abajo ) -->\n",
            "Now in S: (5, 2) --(A: (-1, 0) Arriba ) -->\n",
            "Now in S: (4, 2) --(A: (1, 0) Abajo ) -->\n",
            "Now in S: (5, 2) --(A: (-1, 0) Arriba ) -->\n",
            "Now in S: (4, 2) --(A: (1, 0) Abajo ) -->\n",
            "Now in S: (5, 2) --(A: (-1, 0) Arriba ) -->\n",
            "Now in S: (4, 2) --(A: (1, 0) Abajo ) -->\n",
            "Now in S: (5, 2) --(A: (-1, 0) Arriba ) -->\n",
            "Now in S: (4, 2) --(A: (1, 0) Abajo ) -->\n",
            "Now in S: (5, 2) --(A: (-1, 0) Arriba ) -->\n",
            "Now in S: (4, 2) --(A: (1, 0) Abajo ) -->\n",
            "Now in S: (5, 2) --(A: (-1, 0) Arriba ) -->\n",
            "Now in S: (4, 2) --(A: (1, 0) Abajo ) -->\n",
            "Now in S: (5, 2) --(A: (-1, 0) Arriba ) -->\n",
            "Now in S: (4, 2) --(A: (1, 0) Abajo ) -->\n",
            "Now in S: (5, 2) --(A: (-1, 0) Arriba ) -->\n",
            "Now in S: (4, 2) --(A: (1, 0) Abajo ) -->\n",
            "Now in S: (5, 2) --(A: (-1, 0) Arriba ) -->\n",
            "Now in S: (4, 2) --(A: (1, 0) Abajo ) -->\n",
            "Now in S: (5, 2) --(A: (-1, 0) Arriba ) -->\n",
            "Now in S: (4, 2) --(A: (1, 0) Abajo ) -->\n",
            "Now in S: (5, 2) --(A: (-1, 0) Arriba ) -->\n",
            "Now in S: (4, 2) --(A: (1, 0) Abajo ) -->\n",
            "Now in S: (5, 2) --(A: (-1, 0) Arriba ) -->\n",
            "Now in S: (4, 2) --(A: (1, 0) Abajo ) -->\n",
            "Now in S: (5, 2) --(A: (-1, 0) Arriba ) -->\n",
            "Now in S: (4, 2) --(A: (1, 0) Abajo ) -->\n",
            "Now in S: (5, 2) --(A: (-1, 0) Arriba ) -->\n",
            "Now in S: (4, 2) --(A: (1, 0) Abajo ) -->\n",
            "Now in S: (5, 2) --(A: (-1, 0) Arriba ) -->\n",
            "Now in S: (4, 2) --(A: (1, 0) Abajo ) -->\n",
            "Now in S: (5, 2) --(A: (-1, 0) Arriba ) -->\n",
            "Now in S: (4, 2) --(A: (1, 0) Abajo ) -->\n",
            "Now in S: (5, 2) --(A: (-1, 0) Arriba ) -->\n",
            "Now in S: (4, 2) --(A: (1, 0) Abajo ) -->\n",
            "Now in S: (5, 2) --(A: (-1, 0) Arriba ) -->\n",
            "Now in S: (4, 2) --(A: (1, 0) Abajo ) -->\n",
            "Now in S: (5, 2) --(A: (-1, 0) Arriba ) -->\n",
            "Now in S: (4, 2) --(A: (1, 0) Abajo ) -->\n",
            "Now in S: (5, 2) --(A: (-1, 0) Arriba ) -->\n",
            "Now in S: (4, 2) --(A: (1, 0) Abajo ) -->\n",
            "Now in S: (5, 2) --(A: (-1, 0) Arriba ) -->\n",
            "Now in S: (4, 2) --(A: (1, 0) Abajo ) -->\n",
            "Now in S: (5, 2) --(A: (-1, 0) Arriba ) -->\n",
            "END:  101 steps.\n"
          ]
        },
        {
          "output_type": "execute_result",
          "data": {
            "text/plain": [
              "101"
            ]
          },
          "metadata": {},
          "execution_count": 37
        }
      ]
    },
    {
      "cell_type": "markdown",
      "source": [
        "Vemos como SARSA no consigue resolver dicho laberinto, ya que se queda atascado en un bucle."
      ],
      "metadata": {
        "id": "35t7D5kHRc6R"
      }
    },
    {
      "cell_type": "markdown",
      "source": [
        "#### Q-LEARNING"
      ],
      "metadata": {
        "id": "cU6_KRlWQXxe"
      }
    },
    {
      "cell_type": "code",
      "source": [
        "agent_w1m_ql = Agent(w1m, (0, 0))\n",
        "Q_w1m_ql, rewards_w1m_ql= qlearning(agent_w1m_ql,init_state = (0,0), alpha = 0.5,gamma = 0.9 ,  max_iterations =10000,debug = False)\n",
        "move_with_value_function(agent_w1m_ql,Q_w1m_ql, max_steps = 100)"
      ],
      "metadata": {
        "colab": {
          "base_uri": "https://localhost:8080/"
        },
        "id": "XC2AIRmIMgdK",
        "outputId": "32542ec2-ebd4-4d7b-b26f-c168f1e03467"
      },
      "execution_count": 38,
      "outputs": [
        {
          "output_type": "stream",
          "name": "stdout",
          "text": [
            "Initial S: (0, 0) --(A: (1, 0) Abajo ) -->\n",
            "Now in S: (1, 0) --(A: (1, 0) Abajo ) -->\n",
            "Now in S: (2, 0) --(A: (1, 0) Abajo ) -->\n",
            "Now in S: (3, 0) --(A: (1, 0) Abajo ) -->\n",
            "Now in S: (4, 0) --(A: (1, 0) Abajo ) -->\n",
            "Now in S: (5, 0) --(A: (1, 0) Abajo ) -->\n",
            "Now in S: (6, 0) --(A: (1, 0) Abajo ) -->\n",
            "Now in S: (7, 0) --(A: (1, 0) Abajo ) -->\n",
            "Now in S: (8, 0) --(A: (0, 1) Derecha ) -->\n",
            "Now in S: (8, 1) --(A: (0, 1) Derecha ) -->\n",
            "Now in S: (8, 2) --(A: (-1, 0) Arriba ) -->\n",
            "Now in S: (7, 2) --(A: (-1, 0) Arriba ) -->\n",
            "Now in S: (6, 2) --(A: (-1, 0) Arriba ) -->\n",
            "Now in S: (5, 2) --(A: (-1, 0) Arriba ) -->\n",
            "Now in S: (4, 2) --(A: (-1, 0) Arriba ) -->\n",
            "Now in S: (3, 2) --(A: (-1, 0) Arriba ) -->\n",
            "Now in S: (2, 2) --(A: (-1, 0) Arriba ) -->\n",
            "Now in S: (1, 2) --(A: (-1, 0) Arriba ) -->\n",
            "Now in S: (0, 2) --(A: (0, 1) Derecha ) -->\n",
            "Now in S: (0, 3) --(A: (0, 1) Derecha ) -->\n",
            "Now in S: (0, 4) --(A: (1, 0) Abajo ) -->\n",
            "Now in S: (1, 4) --(A: (1, 0) Abajo ) -->\n",
            "Now in S: (2, 4) --(A: (1, 0) Abajo ) -->\n",
            "Now in S: (3, 4) --(A: (1, 0) Abajo ) -->\n",
            "Now in S: (4, 4) --(A: (1, 0) Abajo ) -->\n",
            "Now in S: (5, 4) --(A: (1, 0) Abajo ) -->\n",
            "Now in S: (6, 4) --(A: (1, 0) Abajo ) -->\n",
            "Now in S: (7, 4) --(A: (1, 0) Abajo ) -->\n",
            "Now in S: (8, 4) --(A: (0, 1) Derecha ) -->\n",
            "Now in S: (8, 5) --(A: (0, 1) Derecha ) -->\n",
            "Now in S: (8, 6) --(A: (-1, 0) Arriba ) -->\n",
            "Now in S: (7, 6) --(A: (-1, 0) Arriba ) -->\n",
            "Now in S: (6, 6) --(A: (-1, 0) Arriba ) -->\n",
            "Now in S: (5, 6) --(A: (-1, 0) Arriba ) -->\n",
            "Now in S: (4, 6) --(A: (-1, 0) Arriba ) -->\n",
            "Now in S: (3, 6) --(A: (-1, 0) Arriba ) -->\n",
            "Now in S: (2, 6) --(A: (-1, 0) Arriba ) -->\n",
            "Now in S: (1, 6) --(A: (-1, 0) Arriba ) -->\n",
            "Now in S: (0, 6) --(A: (0, 1) Derecha ) -->\n",
            "Now in S: (0, 7) --(A: (0, 1) Derecha ) -->\n",
            "Now in S: (0, 8) --(A: (1, 0) Abajo ) -->\n",
            "Now in S: (1, 8) --(A: (1, 0) Abajo ) -->\n",
            "Now in S: (2, 8) --(A: (1, 0) Abajo ) -->\n",
            "Now in S: (3, 8) --(A: (1, 0) Abajo ) -->\n",
            "Now in S: (4, 8) --(A: (1, 0) Abajo ) -->\n",
            "Now in S: (5, 8) --(A: (1, 0) Abajo ) -->\n",
            "Now in S: (6, 8) --(A: (1, 0) Abajo ) -->\n",
            "Now in S: (7, 8) --(A: (1, 0) Abajo ) -->\n",
            "Now in S: (8, 8) --(A: (0, 1) Derecha ) -->\n",
            "END:  48 steps.\n"
          ]
        },
        {
          "output_type": "execute_result",
          "data": {
            "text/plain": [
              "48"
            ]
          },
          "metadata": {},
          "execution_count": 38
        }
      ]
    },
    {
      "cell_type": "markdown",
      "source": [
        "#### **Rendimiento**"
      ],
      "metadata": {
        "id": "4W_whTOapaIU"
      }
    },
    {
      "cell_type": "code",
      "source": [
        "plot_performance(rewards_w1m_sarsa, rewards_w1m_ql,size = 10000,mean_each_n = 10)"
      ],
      "metadata": {
        "colab": {
          "base_uri": "https://localhost:8080/",
          "height": 542
        },
        "id": "KMdaO-zfo7tQ",
        "outputId": "256594e5-9a08-4170-9361-0ac607a9360c"
      },
      "execution_count": 39,
      "outputs": [
        {
          "output_type": "display_data",
          "data": {
            "text/html": [
              "<html>\n",
              "<head><meta charset=\"utf-8\" /></head>\n",
              "<body>\n",
              "    <div>            <script src=\"https://cdnjs.cloudflare.com/ajax/libs/mathjax/2.7.5/MathJax.js?config=TeX-AMS-MML_SVG\"></script><script type=\"text/javascript\">if (window.MathJax) {MathJax.Hub.Config({SVG: {font: \"STIX-Web\"}});}</script>                <script type=\"text/javascript\">window.PlotlyConfig = {MathJaxConfig: 'local'};</script>\n",
              "        <script src=\"https://cdn.plot.ly/plotly-2.8.3.min.js\"></script>                <div id=\"59e3ea93-ee4b-4e46-a3f8-77c9bd1f785e\" class=\"plotly-graph-div\" style=\"height:525px; width:100%;\"></div>            <script type=\"text/javascript\">                                    window.PLOTLYENV=window.PLOTLYENV || {};                                    if (document.getElementById(\"59e3ea93-ee4b-4e46-a3f8-77c9bd1f785e\")) {                    Plotly.newPlot(                        \"59e3ea93-ee4b-4e46-a3f8-77c9bd1f785e\",                        [{\"mode\":\"lines+markers\",\"name\":\"SARSA\",\"x\":[0,1,2,3,4,5,6,7,8,9,10,11,12,13,14,15,16,17,18,19,20,21,22,23,24,25,26,27,28,29,30,31,32,33,34,35,36,37,38,39,40,41,42,43,44,45,46,47,48,49,50,51,52,53,54,55,56,57,58,59,60,61,62,63,64,65,66,67,68,69,70,71,72,73,74,75,76,77,78,79,80,81,82,83,84,85,86,87,88,89,90,91,92,93,94,95,96,97,98,99,100,101,102,103,104,105,106,107,108,109,110,111,112,113,114,115,116,117,118,119,120,121,122,123,124,125,126,127,128,129,130,131,132,133,134,135,136,137,138,139,140,141,142,143,144,145,146,147,148,149,150,151,152,153,154,155,156,157,158,159,160,161,162,163,164,165,166,167,168,169,170,171,172,173,174,175,176,177,178,179,180,181,182,183,184,185,186,187,188,189,190,191,192,193,194,195,196,197,198,199,200,201,202,203,204,205,206,207,208,209,210,211,212,213,214,215,216,217,218,219,220,221,222,223,224,225,226,227,228,229,230,231,232,233,234,235,236,237,238,239,240,241,242,243,244,245,246,247,248,249,250,251,252,253,254,255,256,257,258,259,260,261,262,263,264,265,266,267,268,269,270,271,272,273,274,275,276,277,278,279,280,281,282,283,284,285,286,287,288,289,290,291,292,293,294,295,296,297,298,299,300,301,302,303,304,305,306,307,308,309,310,311,312,313,314,315,316,317,318,319,320,321,322,323,324,325,326,327,328,329,330,331,332,333,334,335,336,337,338,339,340,341,342,343,344,345,346,347,348,349,350,351,352,353,354,355,356,357,358,359,360,361,362,363,364,365,366,367,368,369,370,371,372,373,374,375,376,377,378,379,380,381,382,383,384,385,386,387,388,389,390,391,392,393,394,395,396,397,398,399,400,401,402,403,404,405,406,407,408,409,410,411,412,413,414,415,416,417,418,419,420,421,422,423,424,425,426,427,428,429,430,431,432,433,434,435,436,437,438,439,440,441,442,443,444,445,446,447,448,449,450,451,452,453,454,455,456,457,458,459,460,461,462,463,464,465,466,467,468,469,470,471,472,473,474,475,476,477,478,479,480,481,482,483,484,485,486,487,488,489,490,491,492,493,494,495,496,497,498,499,500,501,502,503,504,505,506,507,508,509,510,511,512,513,514,515,516,517,518,519,520,521,522,523,524,525,526,527,528,529,530,531,532,533,534,535,536,537,538,539,540,541,542,543,544,545,546,547,548,549,550,551,552,553,554,555,556,557,558,559,560,561,562,563,564,565,566,567,568,569,570,571,572,573,574,575,576,577,578,579,580,581,582,583,584,585,586,587,588,589,590,591,592,593,594,595,596,597,598,599,600,601,602,603,604,605,606,607,608,609,610,611,612,613,614,615,616,617,618,619,620,621,622,623,624,625,626,627,628,629,630,631,632,633,634,635,636,637,638,639,640,641,642,643,644,645,646,647,648,649,650,651,652,653,654,655,656,657,658,659,660,661,662,663,664,665,666,667,668,669,670,671,672,673,674,675,676,677,678,679,680,681,682,683,684,685,686,687,688,689,690,691,692,693,694,695,696,697,698,699,700,701,702,703,704,705,706,707,708,709,710,711,712,713,714,715,716,717,718,719,720,721,722,723,724,725,726,727,728,729,730,731,732,733,734,735,736,737,738,739,740,741,742,743,744,745,746,747,748,749,750,751,752,753,754,755,756,757,758,759,760,761,762,763,764,765,766,767,768,769,770,771,772,773,774,775,776,777,778,779,780,781,782,783,784,785,786,787,788,789,790,791,792,793,794,795,796,797,798,799,800,801,802,803,804,805,806,807,808,809,810,811,812,813,814,815,816,817,818,819,820,821,822,823,824,825,826,827,828,829,830,831,832,833,834,835,836,837,838,839,840,841,842,843,844,845,846,847,848,849,850,851,852,853,854,855,856,857,858,859,860,861,862,863,864,865,866,867,868,869,870,871,872,873,874,875,876,877,878,879,880,881,882,883,884,885,886,887,888,889,890,891,892,893,894,895,896,897,898,899,900,901,902,903,904,905,906,907,908,909,910,911,912,913,914,915,916,917,918,919,920,921,922,923,924,925,926,927,928,929,930,931,932,933,934,935,936,937,938,939,940,941,942,943,944,945,946,947,948,949,950,951,952,953,954,955,956,957,958,959,960,961,962,963,964,965,966,967,968,969,970,971,972,973,974,975,976,977,978,979,980,981,982,983,984,985,986,987,988,989,990,991,992,993,994,995,996,997,998,999],\"y\":[-13.51,-13.01,-15.09,-14.559999999999999,-16.04,-14.669999999999998,-18.05,-22.169999999999998,-16.6,-20.380000000000003,-23.419999999999998,-18.73,-22.15,-17.259999999999998,-17.830000000000002,-15.65,-18.16,-15.309999999999999,-20.4,-14.319999999999999,-17.580000000000002,-15.4,-22.19,-16.97,-25.630000000000003,-18.1,-20.61,-24.84,-16.009999999999998,-19.759999999999998,-14.0,-15.45,-17.73,-21.28,-16.0,-14.440000000000001,-20.8,-20.53,-18.23,-18.36,-17.05,-15.790000000000001,-17.36,-20.22,-16.79,-19.71,-15.66,-18.68,-17.48,-15.62,-19.369999999999997,-21.5,-23.19,-18.419999999999998,-15.3,-20.130000000000003,-21.169999999999998,-16.509999999999998,-19.71,-21.330000000000002,-14.25,-15.52,-19.94,-22.96,-13.169999999999998,-16.95,-16.94,-19.32,-19.34,-19.61,-19.259999999999998,-19.0,-19.65,-18.69,-18.45,-18.45,-18.5,-14.73,-14.41,-14.580000000000002,-17.94,-17.29,-16.79,-13.0,-30.369999999999997,-18.119999999999997,-23.330000000000002,-20.69,-17.55,-15.66,-16.69,-16.68,-18.61,-17.9,-18.89,-20.5,-16.04,-17.61,-15.95,-19.9,-14.95,-18.73,-15.75,-18.56,-19.490000000000002,-17.98,-18.96,-17.75,-17.619999999999997,-15.0,-19.44,-19.82,-13.34,-14.569999999999999,-16.669999999999998,-14.419999999999998,-17.9,-16.78,-18.48,-23.080000000000002,-15.35,-18.68,-16.380000000000003,-18.39,-17.47,-15.87,-19.630000000000003,-21.240000000000002,-20.52,-18.69,-23.7,-19.419999999999998,-15.85,-16.44,-20.7,-14.040000000000001,-16.259999999999998,-18.6,-18.169999999999998,-16.380000000000003,-14.64,-17.73,-16.64,-14.49,-17.57,-17.869999999999997,-13.77,-17.04,-18.0,-25.369999999999997,-22.04,-20.43,-20.169999999999998,-22.56,-16.34,-18.28,-14.55,-21.14,-20.69,-18.34,-18.3,-16.630000000000003,-20.03,-19.65,-13.84,-14.01,-14.209999999999999,-14.430000000000001,-19.240000000000002,-19.19,-18.759999999999998,-14.15,-16.89,-13.99,-19.43,-24.669999999999998,-21.48,-17.78,-18.21,-16.419999999999998,-22.580000000000002,-21.54,-16.990000000000002,-17.830000000000002,-16.05,-21.06,-16.419999999999998,-16.740000000000002,-13.52,-15.15,-16.669999999999998,-17.3,-15.309999999999999,-15.830000000000002,-15.180000000000001,-20.09,-17.1,-17.32,-26.869999999999997,-16.48,-14.309999999999999,-20.8,-18.080000000000002,-17.95,-20.080000000000002,-15.63,-22.080000000000002,-13.35,-19.16,-14.069999999999999,-25.29,-19.619999999999997,-16.27,-18.98,-24.65,-15.02,-15.98,-20.52,-15.440000000000001,-19.69,-15.719999999999999,-14.23,-19.02,-13.440000000000001,-18.66,-15.430000000000001,-16.619999999999997,-16.009999999999998,-19.46,-18.66,-19.06,-18.509999999999998,-24.919999999999998,-21.65,-15.7,-19.119999999999997,-19.91,-15.2,-21.630000000000003,-22.11,-21.0,-24.05,-32.07,-16.509999999999998,-24.59,-15.469999999999999,-16.23,-16.490000000000002,-16.490000000000002,-16.96,-20.1,-19.880000000000003,-18.32,-17.68,-19.380000000000003,-17.69,-19.72,-22.45,-24.990000000000002,-17.29,-19.29,-15.040000000000001,-17.47,-16.61,-17.31,-16.73,-23.830000000000002,-17.98,-19.27,-19.880000000000003,-19.64,-18.630000000000003,-20.14,-19.740000000000002,-15.709999999999999,-20.630000000000003,-20.82,-18.31,-14.330000000000002,-20.91,-22.27,-22.69,-24.07,-22.080000000000002,-14.569999999999999,-13.55,-19.669999999999998,-15.05,-17.669999999999998,-18.880000000000003,-21.47,-17.34,-16.96,-21.73,-15.169999999999998,-14.75,-17.419999999999998,-18.53,-18.490000000000002,-21.41,-13.77,-16.28,-13.86,-20.580000000000002,-15.830000000000002,-18.09,-15.88,-16.36,-19.65,-17.95,-15.75,-17.89,-17.34,-19.35,-15.36,-16.9,-22.81,-18.73,-17.52,-15.15,-14.59,-16.130000000000003,-17.15,-17.84,-20.52,-18.73,-18.43,-20.55,-15.84,-18.71,-19.11,-21.68,-28.089999999999996,-17.96,-14.25,-17.03,-16.34,-17.84,-19.15,-18.240000000000002,-18.41,-17.669999999999998,-15.95,-18.880000000000003,-17.6,-13.15,-18.94,-14.48,-19.69,-14.809999999999999,-22.15,-16.77,-16.830000000000002,-16.669999999999998,-19.06,-17.490000000000002,-20.85,-22.44,-19.36,-23.6,-17.990000000000002,-19.94,-19.18,-15.64,-19.380000000000003,-18.22,-16.330000000000002,-16.72,-20.45,-14.86,-19.009999999999998,-18.18,-17.09,-15.52,-15.8,-19.72,-16.3,-19.53,-15.430000000000001,-19.46,-14.84,-16.009999999999998,-14.74,-19.169999999999998,-15.780000000000001,-14.63,-16.41,-19.25,-16.830000000000002,-16.07,-19.54,-21.169999999999998,-14.209999999999999,-21.57,-17.25,-16.84,-17.82,-16.94,-17.2,-16.82,-15.24,-15.280000000000001,-18.0,-21.77,-17.55,-16.919999999999998,-17.94,-16.59,-21.61,-18.09,-18.18,-19.36,-17.14,-16.619999999999997,-12.440000000000001,-16.05,-21.119999999999997,-24.35,-19.86,-16.34,-13.319999999999999,-14.91,-18.71,-20.06,-16.95,-21.19,-19.77,-17.73,-16.81,-16.330000000000002,-16.0,-15.98,-16.14,-19.2,-15.15,-14.540000000000001,-16.61,-17.03,-14.48,-18.06,-20.080000000000002,-19.15,-17.759999999999998,-13.49,-16.82,-16.23,-14.23,-17.93,-15.180000000000001,-17.94,-20.6,-18.22,-18.830000000000002,-21.46,-19.28,-15.84,-21.97,-17.57,-15.35,-17.91,-20.669999999999998,-17.06,-15.52,-14.809999999999999,-18.03,-18.96,-21.75,-22.419999999999998,-15.65,-16.31,-20.32,-21.130000000000003,-17.72,-19.619999999999997,-18.69,-19.1,-15.89,-17.95,-18.72,-18.759999999999998,-21.31,-19.46,-21.369999999999997,-17.259999999999998,-17.48,-16.419999999999998,-16.21,-15.85,-19.75,-18.119999999999997,-14.059999999999999,-19.36,-17.45,-16.630000000000003,-19.44,-14.8,-16.31,-23.89,-19.98,-17.130000000000003,-19.35,-24.509999999999998,-26.54,-18.380000000000003,-16.28,-18.96,-24.669999999999998,-18.740000000000002,-21.919999999999998,-20.97,-19.52,-20.27,-14.16,-18.5,-18.79,-19.77,-18.380000000000003,-24.16,-19.31,-16.46,-16.54,-15.02,-17.630000000000003,-18.080000000000002,-16.81,-18.3,-21.85,-14.11,-17.740000000000002,-16.04,-17.759999999999998,-16.54,-18.68,-15.959999999999999,-16.79,-17.78,-21.64,-17.81,-16.35,-17.75,-18.56,-26.21,-12.57,-14.89,-22.39,-18.66,-18.16,-12.790000000000001,-20.4,-14.59,-20.85,-19.630000000000003,-17.86,-18.07,-17.96,-19.830000000000002,-24.53,-20.46,-15.680000000000001,-20.5,-21.080000000000002,-14.819999999999999,-20.29,-19.330000000000002,-15.6,-15.52,-18.09,-15.709999999999999,-17.369999999999997,-18.4,-18.56,-17.66,-15.88,-20.32,-23.68,-21.380000000000003,-15.09,-15.819999999999999,-20.95,-17.259999999999998,-15.62,-18.31,-14.830000000000002,-17.080000000000002,-25.18,-16.9,-19.9,-20.54,-18.44,-16.86,-15.930000000000001,-22.369999999999997,-19.78,-18.69,-16.45,-17.9,-23.4,-17.79,-15.35,-17.97,-18.52,-18.34,-18.14,-13.669999999999998,-17.169999999999998,-19.36,-14.959999999999999,-15.309999999999999,-18.8,-16.47,-18.96,-19.82,-19.28,-19.630000000000003,-16.34,-18.52,-16.27,-18.080000000000002,-14.540000000000001,-16.240000000000002,-19.02,-15.709999999999999,-17.47,-13.55,-14.89,-16.03,-15.39,-17.7,-17.94,-17.32,-16.11,-15.530000000000001,-18.35,-18.82,-17.07,-15.719999999999999,-18.02,-16.7,-22.09,-27.660000000000004,-21.77,-16.98,-19.91,-22.75,-16.91,-16.03,-14.219999999999999,-15.819999999999999,-14.330000000000002,-20.02,-14.52,-14.569999999999999,-15.59,-18.880000000000003,-16.31,-15.88,-17.919999999999998,-14.709999999999999,-18.84,-21.32,-20.32,-15.48,-22.45,-16.11,-16.05,-29.75,-19.880000000000003,-19.41,-17.02,-19.55,-26.869999999999997,-18.45,-19.25,-15.49,-18.5,-14.969999999999999,-19.580000000000002,-21.07,-13.5,-19.080000000000002,-16.35,-16.130000000000003,-16.5,-21.740000000000002,-23.990000000000002,-27.380000000000003,-20.07,-16.4,-12.43,-16.3,-15.38,-15.440000000000001,-15.959999999999999,-22.41,-15.99,-16.14,-18.95,-19.69,-14.680000000000001,-17.07,-15.01,-18.98,-18.03,-18.73,-18.47,-15.040000000000001,-15.5,-23.22,-25.3,-23.73,-24.71,-18.169999999999998,-21.28,-21.580000000000002,-15.05,-26.369999999999997,-20.57,-15.12,-16.880000000000003,-23.080000000000002,-18.81,-17.54,-18.369999999999997,-15.39,-15.55,-23.14,-20.19,-15.669999999999998,-22.18,-18.77,-17.85,-23.32,-20.52,-16.18,-17.56,-18.97,-17.02,-18.21,-16.8,-19.669999999999998,-20.86,-20.580000000000002,-16.46,-17.54,-17.509999999999998,-16.48,-17.1,-22.6,-17.71,-17.919999999999998,-19.669999999999998,-17.54,-20.18,-15.319999999999999,-16.68,-16.96,-17.830000000000002,-19.25,-12.64,-15.219999999999999,-17.35,-17.53,-20.96,-16.880000000000003,-16.22,-15.38,-17.55,-16.669999999999998,-16.16,-15.61,-14.49,-27.54,-16.97,-15.309999999999999,-16.89,-19.55,-19.740000000000002,-20.93,-16.830000000000002,-15.830000000000002,-15.719999999999999,-16.5,-14.61,-17.169999999999998,-16.19,-17.2,-18.29,-15.559999999999999,-15.49,-16.55,-16.31,-15.690000000000001,-15.95,-19.3,-15.77,-20.580000000000002,-16.2,-15.209999999999999,-16.36,-18.84,-17.41,-14.040000000000001,-19.72,-20.54,-15.59,-17.44,-16.259999999999998,-18.9,-17.0,-18.869999999999997,-18.41,-17.580000000000002,-15.34,-18.39,-16.09,-16.86,-15.040000000000001,-18.43,-15.9,-14.64,-14.62,-15.84,-19.330000000000002,-14.99,-15.16,-18.25,-19.84,-15.63,-18.740000000000002,-21.65,-15.069999999999999,-17.009999999999998,-17.82,-16.130000000000003,-13.34,-13.52,-18.27,-17.53,-20.669999999999998,-13.49,-16.54,-17.89,-16.880000000000003,-14.540000000000001,-21.419999999999998,-15.98,-18.35,-18.3,-17.759999999999998,-24.94,-18.48,-21.55,-18.759999999999998,-19.02,-22.490000000000002,-17.22,-19.4,-17.669999999999998,-17.16,-15.430000000000001,-15.11,-18.48,-18.77,-14.86,-17.490000000000002,-16.77,-17.169999999999998,-14.559999999999999,-13.819999999999999,-22.259999999999998,-17.95,-17.0,-22.259999999999998,-24.419999999999998,-19.15,-15.51,-15.830000000000002,-20.5,-20.27,-15.24,-16.25,-18.96,-17.630000000000003,-16.419999999999998,-14.63,-17.04,-18.96,-18.6,-14.280000000000001,-24.31,-20.52,-20.18,-21.4,-20.64,-13.74,-19.94,-17.419999999999998,-19.93,-20.82,-12.68,-21.56,-18.79,-15.35,-18.18,-15.290000000000001,-17.759999999999998,-22.71,-20.78,-18.85,-13.11,-20.19,-15.02,-17.65,-17.3,-15.809999999999999,-22.27,-16.22,-21.98,-21.369999999999997,-24.86,-24.09,-17.72,-15.41,-16.43,-21.15,-19.0,-19.55,-18.69,-15.51,-18.57,-17.91,-22.23,-21.98,-18.54,-17.990000000000002,-18.79,-21.080000000000002,-22.61,-20.75,-17.32,-18.19,-14.59,-19.79,-16.64,-16.48,-14.469999999999999,-18.89,-21.119999999999997,-20.580000000000002,-17.54,-22.72,-14.940000000000001,-20.14,-17.47,-17.96,-21.02,-25.34,-19.69,-15.74,-16.3,-20.34,-20.03,-18.490000000000002,-28.830000000000002,-18.11,-18.259999999999998,-16.130000000000003,-23.03,-18.619999999999997,-18.31,-17.93,-19.94,-14.4,-18.009999999999998,-16.2,-15.3,-21.18,-24.2,-17.119999999999997,-18.7,-14.66,-21.23,-15.5,-19.53,-17.490000000000002,-16.64,-14.459999999999999,-19.47,-14.48,-17.84,-23.39,-17.78,-16.19,-25.19,-17.29,-18.84,-19.05,-15.169999999999998,-21.36,-14.16],\"type\":\"scatter\"},{\"mode\":\"lines+markers\",\"name\":\"Q-Learning\",\"x\":[0,1,2,3,4,5,6,7,8,9,10,11,12,13,14,15,16,17,18,19,20,21,22,23,24,25,26,27,28,29,30,31,32,33,34,35,36,37,38,39,40,41,42,43,44,45,46,47,48,49,50,51,52,53,54,55,56,57,58,59,60,61,62,63,64,65,66,67,68,69,70,71,72,73,74,75,76,77,78,79,80,81,82,83,84,85,86,87,88,89,90,91,92,93,94,95,96,97,98,99,100,101,102,103,104,105,106,107,108,109,110,111,112,113,114,115,116,117,118,119,120,121,122,123,124,125,126,127,128,129,130,131,132,133,134,135,136,137,138,139,140,141,142,143,144,145,146,147,148,149,150,151,152,153,154,155,156,157,158,159,160,161,162,163,164,165,166,167,168,169,170,171,172,173,174,175,176,177,178,179,180,181,182,183,184,185,186,187,188,189,190,191,192,193,194,195,196,197,198,199,200,201,202,203,204,205,206,207,208,209,210,211,212,213,214,215,216,217,218,219,220,221,222,223,224,225,226,227,228,229,230,231,232,233,234,235,236,237,238,239,240,241,242,243,244,245,246,247,248,249,250,251,252,253,254,255,256,257,258,259,260,261,262,263,264,265,266,267,268,269,270,271,272,273,274,275,276,277,278,279,280,281,282,283,284,285,286,287,288,289,290,291,292,293,294,295,296,297,298,299,300,301,302,303,304,305,306,307,308,309,310,311,312,313,314,315,316,317,318,319,320,321,322,323,324,325,326,327,328,329,330,331,332,333,334,335,336,337,338,339,340,341,342,343,344,345,346,347,348,349,350,351,352,353,354,355,356,357,358,359,360,361,362,363,364,365,366,367,368,369,370,371,372,373,374,375,376,377,378,379,380,381,382,383,384,385,386,387,388,389,390,391,392,393,394,395,396,397,398,399,400,401,402,403,404,405,406,407,408,409,410,411,412,413,414,415,416,417,418,419,420,421,422,423,424,425,426,427,428,429,430,431,432,433,434,435,436,437,438,439,440,441,442,443,444,445,446,447,448,449,450,451,452,453,454,455,456,457,458,459,460,461,462,463,464,465,466,467,468,469,470,471,472,473,474,475,476,477,478,479,480,481,482,483,484,485,486,487,488,489,490,491,492,493,494,495,496,497,498,499,500,501,502,503,504,505,506,507,508,509,510,511,512,513,514,515,516,517,518,519,520,521,522,523,524,525,526,527,528,529,530,531,532,533,534,535,536,537,538,539,540,541,542,543,544,545,546,547,548,549,550,551,552,553,554,555,556,557,558,559,560,561,562,563,564,565,566,567,568,569,570,571,572,573,574,575,576,577,578,579,580,581,582,583,584,585,586,587,588,589,590,591,592,593,594,595,596,597,598,599,600,601,602,603,604,605,606,607,608,609,610,611,612,613,614,615,616,617,618,619,620,621,622,623,624,625,626,627,628,629,630,631,632,633,634,635,636,637,638,639,640,641,642,643,644,645,646,647,648,649,650,651,652,653,654,655,656,657,658,659,660,661,662,663,664,665,666,667,668,669,670,671,672,673,674,675,676,677,678,679,680,681,682,683,684,685,686,687,688,689,690,691,692,693,694,695,696,697,698,699,700,701,702,703,704,705,706,707,708,709,710,711,712,713,714,715,716,717,718,719,720,721,722,723,724,725,726,727,728,729,730,731,732,733,734,735,736,737,738,739,740,741,742,743,744,745,746,747,748,749,750,751,752,753,754,755,756,757,758,759,760,761,762,763,764,765,766,767,768,769,770,771,772,773,774,775,776,777,778,779,780,781,782,783,784,785,786,787,788,789,790,791,792,793,794,795,796,797,798,799,800,801,802,803,804,805,806,807,808,809,810,811,812,813,814,815,816,817,818,819,820,821,822,823,824,825,826,827,828,829,830,831,832,833,834,835,836,837,838,839,840,841,842,843,844,845,846,847,848,849,850,851,852,853,854,855,856,857,858,859,860,861,862,863,864,865,866,867,868,869,870,871,872,873,874,875,876,877,878,879,880,881,882,883,884,885,886,887,888,889,890,891,892,893,894,895,896,897,898,899,900,901,902,903,904,905,906,907,908,909,910,911,912,913,914,915,916,917,918,919,920,921,922,923,924,925,926,927,928,929,930,931,932,933,934,935,936,937,938,939,940,941,942,943,944,945,946,947,948,949,950,951,952,953,954,955,956,957,958,959,960,961,962,963,964,965,966,967,968,969,970,971,972,973,974,975,976,977,978,979,980,981,982,983,984,985,986,987,988,989,990,991,992,993,994,995,996,997,998,999],\"y\":[-1.351,-1.301,-1.509,-1.456,-1.6039999999999999,-1.4669999999999999,-1.8050000000000002,-2.2169999999999996,-1.6600000000000001,-2.0380000000000003,-2.3419999999999996,-1.873,-2.215,-1.7259999999999998,-1.7830000000000001,-1.565,-1.816,-1.531,-2.04,-1.432,-1.7580000000000002,-1.54,-2.2190000000000003,-1.6969999999999998,-2.563,-1.81,-2.061,-2.484,-1.6009999999999998,-1.9759999999999998,-1.4,-1.545,-1.7730000000000001,-2.128,-1.6,-1.4440000000000002,-2.08,-2.053,-1.823,-1.8359999999999999,-1.705,-1.5790000000000002,-1.736,-2.022,-1.6789999999999998,-1.971,-1.566,-1.8679999999999999,-1.748,-1.5619999999999998,-1.9369999999999998,-2.15,-2.319,-1.8419999999999999,-1.53,-2.0130000000000003,-2.117,-1.6509999999999998,-1.971,-2.133,-1.425,-1.552,-1.9940000000000002,-2.2960000000000003,-1.3169999999999997,-1.6949999999999998,-1.6940000000000002,-1.932,-1.934,-1.9609999999999999,-1.9259999999999997,-1.9,-1.9649999999999999,-1.8690000000000002,-1.845,-1.845,-1.85,-1.473,-1.441,-1.4580000000000002,-1.794,-1.7289999999999999,-1.6789999999999998,-1.3,-3.037,-1.8119999999999998,-2.333,-2.069,-1.7550000000000001,-1.566,-1.669,-1.668,-1.861,-1.7899999999999998,-1.889,-2.05,-1.6039999999999999,-1.761,-1.595,-1.9899999999999998,-1.4949999999999999,-1.873,-1.575,-1.8559999999999999,-1.9490000000000003,-1.798,-1.8960000000000001,-1.775,-1.7619999999999998,-1.5,-1.9440000000000002,-1.982,-1.334,-1.4569999999999999,-1.6669999999999998,-1.4419999999999997,-1.7899999999999998,-1.6780000000000002,-1.848,-2.3080000000000003,-1.535,-1.8679999999999999,-1.6380000000000003,-1.839,-1.7469999999999999,-1.587,-1.9630000000000003,-2.124,-2.052,-1.8690000000000002,-2.37,-1.9419999999999997,-1.585,-1.6440000000000001,-2.07,-1.4040000000000001,-1.626,-1.86,-1.8169999999999997,-1.6380000000000003,-1.464,-1.7730000000000001,-1.6640000000000001,-1.449,-1.7570000000000001,-1.7869999999999997,-1.377,-1.704,-1.8,-2.537,-2.2039999999999997,-2.043,-2.017,-2.256,-1.634,-1.828,-1.455,-2.114,-2.069,-1.834,-1.83,-1.6630000000000003,-2.003,-1.9649999999999999,-1.384,-1.401,-1.4209999999999998,-1.443,-1.9240000000000002,-1.919,-1.876,-1.415,-1.689,-1.399,-1.943,-2.4669999999999996,-2.148,-1.778,-1.8210000000000002,-1.642,-2.258,-2.154,-1.6990000000000003,-1.7830000000000001,-1.605,-2.106,-1.642,-1.6740000000000002,-1.3519999999999999,-1.5150000000000001,-1.6669999999999998,-1.73,-1.531,-1.5830000000000002,-1.5180000000000002,-2.009,-1.7100000000000002,-1.732,-2.687,-1.6480000000000001,-1.4309999999999998,-2.08,-1.8080000000000003,-1.795,-2.008,-1.5630000000000002,-2.208,-1.335,-1.916,-1.4069999999999998,-2.529,-1.9619999999999997,-1.627,-1.8980000000000001,-2.465,-1.502,-1.598,-2.052,-1.544,-1.969,-1.5719999999999998,-1.423,-1.902,-1.344,-1.866,-1.5430000000000001,-1.6619999999999997,-1.6009999999999998,-1.9460000000000002,-1.866,-1.906,-1.8509999999999998,-2.492,-2.165,-1.5699999999999998,-1.9119999999999997,-1.991,-1.52,-2.1630000000000003,-2.211,-2.1,-2.4050000000000002,-3.207,-1.6509999999999998,-2.459,-1.547,-1.623,-1.6490000000000002,-1.6490000000000002,-1.6960000000000002,-2.0100000000000002,-1.9880000000000002,-1.832,-1.768,-1.9380000000000002,-1.7690000000000001,-1.972,-2.245,-2.499,-1.7289999999999999,-1.9289999999999998,-1.504,-1.7469999999999999,-1.661,-1.7309999999999999,-1.673,-2.383,-1.798,-1.927,-1.9880000000000002,-1.964,-1.8630000000000002,-2.0140000000000002,-1.9740000000000002,-1.571,-2.063,-2.082,-1.831,-1.4330000000000003,-2.091,-2.227,-2.269,-2.407,-2.208,-1.4569999999999999,-1.355,-1.9669999999999999,-1.5050000000000001,-1.767,-1.8880000000000003,-2.147,-1.734,-1.6960000000000002,-2.173,-1.517,-1.475,-1.7419999999999998,-1.8530000000000002,-1.8490000000000002,-2.141,-1.377,-1.6280000000000001,-1.386,-2.0580000000000003,-1.5830000000000002,-1.809,-1.588,-1.636,-1.9649999999999999,-1.795,-1.575,-1.7890000000000001,-1.734,-1.935,-1.536,-1.69,-2.2809999999999997,-1.873,-1.752,-1.5150000000000001,-1.459,-1.6130000000000002,-1.7149999999999999,-1.784,-2.052,-1.873,-1.843,-2.055,-1.584,-1.871,-1.911,-2.168,-2.8089999999999997,-1.796,-1.425,-1.703,-1.634,-1.784,-1.9149999999999998,-1.8240000000000003,-1.841,-1.767,-1.595,-1.8880000000000003,-1.7600000000000002,-1.315,-1.8940000000000001,-1.448,-1.969,-1.4809999999999999,-2.215,-1.677,-1.6830000000000003,-1.6669999999999998,-1.906,-1.749,-2.085,-2.244,-1.936,-2.3600000000000003,-1.7990000000000002,-1.9940000000000002,-1.918,-1.564,-1.9380000000000002,-1.8219999999999998,-1.6330000000000002,-1.672,-2.045,-1.486,-1.9009999999999998,-1.818,-1.709,-1.552,-1.58,-1.972,-1.6300000000000001,-1.953,-1.5430000000000001,-1.9460000000000002,-1.484,-1.6009999999999998,-1.474,-1.9169999999999998,-1.578,-1.463,-1.641,-1.925,-1.6830000000000003,-1.607,-1.954,-2.117,-1.4209999999999998,-2.157,-1.725,-1.684,-1.782,-1.6940000000000002,-1.72,-1.682,-1.524,-1.528,-1.8,-2.177,-1.7550000000000001,-1.6919999999999997,-1.794,-1.659,-2.161,-1.809,-1.818,-1.936,-1.714,-1.6619999999999997,-1.2440000000000002,-1.605,-2.1119999999999997,-2.435,-1.986,-1.634,-1.3319999999999999,-1.491,-1.871,-2.006,-1.6949999999999998,-2.119,-1.9769999999999999,-1.7730000000000001,-1.6809999999999998,-1.6330000000000002,-1.6,-1.598,-1.614,-1.92,-1.5150000000000001,-1.4540000000000002,-1.661,-1.703,-1.448,-1.8059999999999998,-2.008,-1.9149999999999998,-1.7759999999999998,-1.349,-1.682,-1.623,-1.423,-1.793,-1.5180000000000002,-1.794,-2.06,-1.8219999999999998,-1.8830000000000002,-2.146,-1.9280000000000002,-1.584,-2.197,-1.7570000000000001,-1.535,-1.791,-2.0669999999999997,-1.706,-1.552,-1.4809999999999999,-1.8030000000000002,-1.8960000000000001,-2.175,-2.242,-1.565,-1.6309999999999998,-2.032,-2.1130000000000004,-1.7719999999999998,-1.9619999999999997,-1.8690000000000002,-1.9100000000000001,-1.589,-1.795,-1.8719999999999999,-1.876,-2.131,-1.9460000000000002,-2.1369999999999996,-1.7259999999999998,-1.748,-1.642,-1.621,-1.585,-1.975,-1.8119999999999998,-1.406,-1.936,-1.7449999999999999,-1.6630000000000003,-1.9440000000000002,-1.48,-1.6309999999999998,-2.3890000000000002,-1.998,-1.7130000000000003,-1.935,-2.4509999999999996,-2.654,-1.8380000000000003,-1.6280000000000001,-1.8960000000000001,-2.4669999999999996,-1.874,-2.1919999999999997,-2.097,-1.952,-2.027,-1.416,-1.85,-1.879,-1.9769999999999999,-1.8380000000000003,-2.416,-1.9309999999999998,-1.6460000000000001,-1.654,-1.502,-1.7630000000000003,-1.8080000000000003,-1.6809999999999998,-1.83,-2.185,-1.411,-1.7740000000000002,-1.6039999999999999,-1.7759999999999998,-1.654,-1.8679999999999999,-1.5959999999999999,-1.6789999999999998,-1.778,-2.164,-1.781,-1.6350000000000002,-1.775,-1.8559999999999999,-2.621,-1.2570000000000001,-1.489,-2.239,-1.866,-1.816,-1.2790000000000001,-2.04,-1.459,-2.085,-1.9630000000000003,-1.786,-1.807,-1.796,-1.983,-2.4530000000000003,-2.0460000000000003,-1.568,-2.05,-2.108,-1.4819999999999998,-2.029,-1.9330000000000003,-1.56,-1.552,-1.809,-1.571,-1.7369999999999997,-1.8399999999999999,-1.8559999999999999,-1.766,-1.588,-2.032,-2.368,-2.1380000000000003,-1.509,-1.5819999999999999,-2.0949999999999998,-1.7259999999999998,-1.5619999999999998,-1.831,-1.483,-1.7080000000000002,-2.518,-1.69,-1.9899999999999998,-2.054,-1.844,-1.686,-1.5930000000000002,-2.2369999999999997,-1.9780000000000002,-1.8690000000000002,-1.645,-1.7899999999999998,-2.34,-1.779,-1.535,-1.797,-1.8519999999999999,-1.834,-1.814,-1.3669999999999998,-1.7169999999999999,-1.936,-1.496,-1.531,-1.8800000000000001,-1.6469999999999998,-1.8960000000000001,-1.982,-1.9280000000000002,-1.9630000000000003,-1.634,-1.8519999999999999,-1.627,-1.8080000000000003,-1.4540000000000002,-1.624,-1.902,-1.571,-1.7469999999999999,-1.355,-1.489,-1.6030000000000002,-1.5390000000000001,-1.77,-1.794,-1.732,-1.611,-1.5530000000000002,-1.8350000000000002,-1.8820000000000001,-1.707,-1.5719999999999998,-1.802,-1.67,-2.209,-2.7660000000000005,-2.177,-1.698,-1.991,-2.275,-1.691,-1.6030000000000002,-1.422,-1.5819999999999999,-1.4330000000000003,-2.002,-1.452,-1.4569999999999999,-1.559,-1.8880000000000003,-1.6309999999999998,-1.588,-1.7919999999999998,-1.4709999999999999,-1.884,-2.132,-2.032,-1.548,-2.245,-1.611,-1.605,-2.975,-1.9880000000000002,-1.941,-1.702,-1.955,-2.687,-1.845,-1.925,-1.549,-1.85,-1.4969999999999999,-1.9580000000000002,-2.107,-1.35,-1.9080000000000001,-1.6350000000000002,-1.6130000000000002,-1.65,-2.1740000000000004,-2.399,-2.7380000000000004,-2.007,-1.64,-1.2429999999999999,-1.6300000000000001,-1.538,-1.544,-1.5959999999999999,-2.241,-1.599,-1.614,-1.895,-1.969,-1.4680000000000002,-1.707,-1.501,-1.8980000000000001,-1.8030000000000002,-1.873,-1.847,-1.504,-1.55,-2.322,-2.5300000000000002,-2.373,-2.471,-1.8169999999999997,-2.128,-2.1580000000000004,-1.5050000000000001,-2.6369999999999996,-2.057,-1.512,-1.6880000000000002,-2.3080000000000003,-1.8809999999999998,-1.754,-1.8369999999999997,-1.5390000000000001,-1.5550000000000002,-2.314,-2.019,-1.5669999999999997,-2.218,-1.877,-1.7850000000000001,-2.332,-2.052,-1.6179999999999999,-1.7559999999999998,-1.8969999999999998,-1.702,-1.8210000000000002,-1.6800000000000002,-1.9669999999999999,-2.086,-2.0580000000000003,-1.6460000000000001,-1.754,-1.751,-1.6480000000000001,-1.7100000000000002,-2.2600000000000002,-1.7710000000000001,-1.7919999999999998,-1.9669999999999999,-1.754,-2.018,-1.5319999999999998,-1.668,-1.6960000000000002,-1.7830000000000001,-1.925,-1.264,-1.5219999999999998,-1.735,-1.7530000000000001,-2.096,-1.6880000000000002,-1.6219999999999999,-1.538,-1.7550000000000001,-1.6669999999999998,-1.616,-1.561,-1.449,-2.754,-1.6969999999999998,-1.531,-1.689,-1.955,-1.9740000000000002,-2.093,-1.6830000000000003,-1.5830000000000002,-1.5719999999999998,-1.65,-1.4609999999999999,-1.7169999999999999,-1.6190000000000002,-1.72,-1.829,-1.5559999999999998,-1.549,-1.655,-1.6309999999999998,-1.5690000000000002,-1.595,-1.9300000000000002,-1.577,-2.0580000000000003,-1.6199999999999999,-1.521,-1.636,-1.884,-1.741,-1.4040000000000001,-1.972,-2.054,-1.559,-1.7440000000000002,-1.626,-1.89,-1.7,-1.8869999999999998,-1.841,-1.7580000000000002,-1.534,-1.839,-1.609,-1.686,-1.504,-1.843,-1.59,-1.464,-1.462,-1.584,-1.9330000000000003,-1.499,-1.516,-1.825,-1.984,-1.5630000000000002,-1.874,-2.165,-1.507,-1.7009999999999998,-1.782,-1.6130000000000002,-1.334,-1.3519999999999999,-1.827,-1.7530000000000001,-2.0669999999999997,-1.349,-1.654,-1.7890000000000001,-1.6880000000000002,-1.4540000000000002,-2.142,-1.598,-1.8350000000000002,-1.83,-1.7759999999999998,-2.494,-1.848,-2.1550000000000002,-1.876,-1.902,-2.249,-1.722,-1.94,-1.767,-1.716,-1.5430000000000001,-1.511,-1.848,-1.877,-1.486,-1.749,-1.677,-1.7169999999999999,-1.456,-1.382,-2.226,-1.795,-1.7,-2.226,-2.4419999999999997,-1.9149999999999998,-1.551,-1.5830000000000002,-2.05,-2.027,-1.524,-1.625,-1.8960000000000001,-1.7630000000000003,-1.642,-1.463,-1.704,-1.8960000000000001,-1.86,-1.4280000000000002,-2.431,-2.052,-2.018,-2.1399999999999997,-2.064,-1.374,-1.9940000000000002,-1.7419999999999998,-1.9929999999999999,-2.082,-1.268,-2.1559999999999997,-1.879,-1.535,-1.818,-1.5290000000000001,-1.7759999999999998,-2.271,-2.0780000000000003,-1.8850000000000002,-1.311,-2.019,-1.502,-1.765,-1.73,-1.581,-2.227,-1.6219999999999999,-2.198,-2.1369999999999996,-2.4859999999999998,-2.409,-1.7719999999999998,-1.541,-1.643,-2.1149999999999998,-1.9,-1.955,-1.8690000000000002,-1.551,-1.857,-1.791,-2.223,-2.198,-1.8539999999999999,-1.7990000000000002,-1.879,-2.108,-2.261,-2.075,-1.732,-1.8190000000000002,-1.459,-1.9789999999999999,-1.6640000000000001,-1.6480000000000001,-1.4469999999999998,-1.889,-2.1119999999999997,-2.0580000000000003,-1.754,-2.272,-1.4940000000000002,-2.0140000000000002,-1.7469999999999999,-1.796,-2.102,-2.534,-1.969,-1.574,-1.6300000000000001,-2.034,-2.003,-1.8490000000000002,-2.883,-1.811,-1.8259999999999998,-1.6130000000000002,-2.303,-1.8619999999999997,-1.831,-1.793,-1.9940000000000002,-1.44,-1.8009999999999997,-1.6199999999999999,-1.53,-2.118,-2.42,-1.7119999999999997,-1.8699999999999999,-1.466,-2.123,-1.55,-1.953,-1.749,-1.6640000000000001,-1.446,-1.9469999999999998,-1.448,-1.784,-2.339,-1.778,-1.6190000000000002,-2.519,-1.7289999999999999,-1.884,-1.905,-1.517,-2.136,-1.416],\"type\":\"scatter\"}],                        {\"template\":{\"data\":{\"bar\":[{\"error_x\":{\"color\":\"#2a3f5f\"},\"error_y\":{\"color\":\"#2a3f5f\"},\"marker\":{\"line\":{\"color\":\"#E5ECF6\",\"width\":0.5},\"pattern\":{\"fillmode\":\"overlay\",\"size\":10,\"solidity\":0.2}},\"type\":\"bar\"}],\"barpolar\":[{\"marker\":{\"line\":{\"color\":\"#E5ECF6\",\"width\":0.5},\"pattern\":{\"fillmode\":\"overlay\",\"size\":10,\"solidity\":0.2}},\"type\":\"barpolar\"}],\"carpet\":[{\"aaxis\":{\"endlinecolor\":\"#2a3f5f\",\"gridcolor\":\"white\",\"linecolor\":\"white\",\"minorgridcolor\":\"white\",\"startlinecolor\":\"#2a3f5f\"},\"baxis\":{\"endlinecolor\":\"#2a3f5f\",\"gridcolor\":\"white\",\"linecolor\":\"white\",\"minorgridcolor\":\"white\",\"startlinecolor\":\"#2a3f5f\"},\"type\":\"carpet\"}],\"choropleth\":[{\"colorbar\":{\"outlinewidth\":0,\"ticks\":\"\"},\"type\":\"choropleth\"}],\"contour\":[{\"colorbar\":{\"outlinewidth\":0,\"ticks\":\"\"},\"colorscale\":[[0.0,\"#0d0887\"],[0.1111111111111111,\"#46039f\"],[0.2222222222222222,\"#7201a8\"],[0.3333333333333333,\"#9c179e\"],[0.4444444444444444,\"#bd3786\"],[0.5555555555555556,\"#d8576b\"],[0.6666666666666666,\"#ed7953\"],[0.7777777777777778,\"#fb9f3a\"],[0.8888888888888888,\"#fdca26\"],[1.0,\"#f0f921\"]],\"type\":\"contour\"}],\"contourcarpet\":[{\"colorbar\":{\"outlinewidth\":0,\"ticks\":\"\"},\"type\":\"contourcarpet\"}],\"heatmap\":[{\"colorbar\":{\"outlinewidth\":0,\"ticks\":\"\"},\"colorscale\":[[0.0,\"#0d0887\"],[0.1111111111111111,\"#46039f\"],[0.2222222222222222,\"#7201a8\"],[0.3333333333333333,\"#9c179e\"],[0.4444444444444444,\"#bd3786\"],[0.5555555555555556,\"#d8576b\"],[0.6666666666666666,\"#ed7953\"],[0.7777777777777778,\"#fb9f3a\"],[0.8888888888888888,\"#fdca26\"],[1.0,\"#f0f921\"]],\"type\":\"heatmap\"}],\"heatmapgl\":[{\"colorbar\":{\"outlinewidth\":0,\"ticks\":\"\"},\"colorscale\":[[0.0,\"#0d0887\"],[0.1111111111111111,\"#46039f\"],[0.2222222222222222,\"#7201a8\"],[0.3333333333333333,\"#9c179e\"],[0.4444444444444444,\"#bd3786\"],[0.5555555555555556,\"#d8576b\"],[0.6666666666666666,\"#ed7953\"],[0.7777777777777778,\"#fb9f3a\"],[0.8888888888888888,\"#fdca26\"],[1.0,\"#f0f921\"]],\"type\":\"heatmapgl\"}],\"histogram\":[{\"marker\":{\"pattern\":{\"fillmode\":\"overlay\",\"size\":10,\"solidity\":0.2}},\"type\":\"histogram\"}],\"histogram2d\":[{\"colorbar\":{\"outlinewidth\":0,\"ticks\":\"\"},\"colorscale\":[[0.0,\"#0d0887\"],[0.1111111111111111,\"#46039f\"],[0.2222222222222222,\"#7201a8\"],[0.3333333333333333,\"#9c179e\"],[0.4444444444444444,\"#bd3786\"],[0.5555555555555556,\"#d8576b\"],[0.6666666666666666,\"#ed7953\"],[0.7777777777777778,\"#fb9f3a\"],[0.8888888888888888,\"#fdca26\"],[1.0,\"#f0f921\"]],\"type\":\"histogram2d\"}],\"histogram2dcontour\":[{\"colorbar\":{\"outlinewidth\":0,\"ticks\":\"\"},\"colorscale\":[[0.0,\"#0d0887\"],[0.1111111111111111,\"#46039f\"],[0.2222222222222222,\"#7201a8\"],[0.3333333333333333,\"#9c179e\"],[0.4444444444444444,\"#bd3786\"],[0.5555555555555556,\"#d8576b\"],[0.6666666666666666,\"#ed7953\"],[0.7777777777777778,\"#fb9f3a\"],[0.8888888888888888,\"#fdca26\"],[1.0,\"#f0f921\"]],\"type\":\"histogram2dcontour\"}],\"mesh3d\":[{\"colorbar\":{\"outlinewidth\":0,\"ticks\":\"\"},\"type\":\"mesh3d\"}],\"parcoords\":[{\"line\":{\"colorbar\":{\"outlinewidth\":0,\"ticks\":\"\"}},\"type\":\"parcoords\"}],\"pie\":[{\"automargin\":true,\"type\":\"pie\"}],\"scatter\":[{\"marker\":{\"colorbar\":{\"outlinewidth\":0,\"ticks\":\"\"}},\"type\":\"scatter\"}],\"scatter3d\":[{\"line\":{\"colorbar\":{\"outlinewidth\":0,\"ticks\":\"\"}},\"marker\":{\"colorbar\":{\"outlinewidth\":0,\"ticks\":\"\"}},\"type\":\"scatter3d\"}],\"scattercarpet\":[{\"marker\":{\"colorbar\":{\"outlinewidth\":0,\"ticks\":\"\"}},\"type\":\"scattercarpet\"}],\"scattergeo\":[{\"marker\":{\"colorbar\":{\"outlinewidth\":0,\"ticks\":\"\"}},\"type\":\"scattergeo\"}],\"scattergl\":[{\"marker\":{\"colorbar\":{\"outlinewidth\":0,\"ticks\":\"\"}},\"type\":\"scattergl\"}],\"scattermapbox\":[{\"marker\":{\"colorbar\":{\"outlinewidth\":0,\"ticks\":\"\"}},\"type\":\"scattermapbox\"}],\"scatterpolar\":[{\"marker\":{\"colorbar\":{\"outlinewidth\":0,\"ticks\":\"\"}},\"type\":\"scatterpolar\"}],\"scatterpolargl\":[{\"marker\":{\"colorbar\":{\"outlinewidth\":0,\"ticks\":\"\"}},\"type\":\"scatterpolargl\"}],\"scatterternary\":[{\"marker\":{\"colorbar\":{\"outlinewidth\":0,\"ticks\":\"\"}},\"type\":\"scatterternary\"}],\"surface\":[{\"colorbar\":{\"outlinewidth\":0,\"ticks\":\"\"},\"colorscale\":[[0.0,\"#0d0887\"],[0.1111111111111111,\"#46039f\"],[0.2222222222222222,\"#7201a8\"],[0.3333333333333333,\"#9c179e\"],[0.4444444444444444,\"#bd3786\"],[0.5555555555555556,\"#d8576b\"],[0.6666666666666666,\"#ed7953\"],[0.7777777777777778,\"#fb9f3a\"],[0.8888888888888888,\"#fdca26\"],[1.0,\"#f0f921\"]],\"type\":\"surface\"}],\"table\":[{\"cells\":{\"fill\":{\"color\":\"#EBF0F8\"},\"line\":{\"color\":\"white\"}},\"header\":{\"fill\":{\"color\":\"#C8D4E3\"},\"line\":{\"color\":\"white\"}},\"type\":\"table\"}]},\"layout\":{\"annotationdefaults\":{\"arrowcolor\":\"#2a3f5f\",\"arrowhead\":0,\"arrowwidth\":1},\"autotypenumbers\":\"strict\",\"coloraxis\":{\"colorbar\":{\"outlinewidth\":0,\"ticks\":\"\"}},\"colorscale\":{\"diverging\":[[0,\"#8e0152\"],[0.1,\"#c51b7d\"],[0.2,\"#de77ae\"],[0.3,\"#f1b6da\"],[0.4,\"#fde0ef\"],[0.5,\"#f7f7f7\"],[0.6,\"#e6f5d0\"],[0.7,\"#b8e186\"],[0.8,\"#7fbc41\"],[0.9,\"#4d9221\"],[1,\"#276419\"]],\"sequential\":[[0.0,\"#0d0887\"],[0.1111111111111111,\"#46039f\"],[0.2222222222222222,\"#7201a8\"],[0.3333333333333333,\"#9c179e\"],[0.4444444444444444,\"#bd3786\"],[0.5555555555555556,\"#d8576b\"],[0.6666666666666666,\"#ed7953\"],[0.7777777777777778,\"#fb9f3a\"],[0.8888888888888888,\"#fdca26\"],[1.0,\"#f0f921\"]],\"sequentialminus\":[[0.0,\"#0d0887\"],[0.1111111111111111,\"#46039f\"],[0.2222222222222222,\"#7201a8\"],[0.3333333333333333,\"#9c179e\"],[0.4444444444444444,\"#bd3786\"],[0.5555555555555556,\"#d8576b\"],[0.6666666666666666,\"#ed7953\"],[0.7777777777777778,\"#fb9f3a\"],[0.8888888888888888,\"#fdca26\"],[1.0,\"#f0f921\"]]},\"colorway\":[\"#636efa\",\"#EF553B\",\"#00cc96\",\"#ab63fa\",\"#FFA15A\",\"#19d3f3\",\"#FF6692\",\"#B6E880\",\"#FF97FF\",\"#FECB52\"],\"font\":{\"color\":\"#2a3f5f\"},\"geo\":{\"bgcolor\":\"white\",\"lakecolor\":\"white\",\"landcolor\":\"#E5ECF6\",\"showlakes\":true,\"showland\":true,\"subunitcolor\":\"white\"},\"hoverlabel\":{\"align\":\"left\"},\"hovermode\":\"closest\",\"mapbox\":{\"style\":\"light\"},\"paper_bgcolor\":\"white\",\"plot_bgcolor\":\"#E5ECF6\",\"polar\":{\"angularaxis\":{\"gridcolor\":\"white\",\"linecolor\":\"white\",\"ticks\":\"\"},\"bgcolor\":\"#E5ECF6\",\"radialaxis\":{\"gridcolor\":\"white\",\"linecolor\":\"white\",\"ticks\":\"\"}},\"scene\":{\"xaxis\":{\"backgroundcolor\":\"#E5ECF6\",\"gridcolor\":\"white\",\"gridwidth\":2,\"linecolor\":\"white\",\"showbackground\":true,\"ticks\":\"\",\"zerolinecolor\":\"white\"},\"yaxis\":{\"backgroundcolor\":\"#E5ECF6\",\"gridcolor\":\"white\",\"gridwidth\":2,\"linecolor\":\"white\",\"showbackground\":true,\"ticks\":\"\",\"zerolinecolor\":\"white\"},\"zaxis\":{\"backgroundcolor\":\"#E5ECF6\",\"gridcolor\":\"white\",\"gridwidth\":2,\"linecolor\":\"white\",\"showbackground\":true,\"ticks\":\"\",\"zerolinecolor\":\"white\"}},\"shapedefaults\":{\"line\":{\"color\":\"#2a3f5f\"}},\"ternary\":{\"aaxis\":{\"gridcolor\":\"white\",\"linecolor\":\"white\",\"ticks\":\"\"},\"baxis\":{\"gridcolor\":\"white\",\"linecolor\":\"white\",\"ticks\":\"\"},\"bgcolor\":\"#E5ECF6\",\"caxis\":{\"gridcolor\":\"white\",\"linecolor\":\"white\",\"ticks\":\"\"}},\"title\":{\"x\":0.05},\"xaxis\":{\"automargin\":true,\"gridcolor\":\"white\",\"linecolor\":\"white\",\"ticks\":\"\",\"title\":{\"standoff\":15},\"zerolinecolor\":\"white\",\"zerolinewidth\":2},\"yaxis\":{\"automargin\":true,\"gridcolor\":\"white\",\"linecolor\":\"white\",\"ticks\":\"\",\"title\":{\"standoff\":15},\"zerolinecolor\":\"white\",\"zerolinewidth\":2}}},\"font\":{\"family\":\"Courier New, monospace\",\"color\":\"RebeccaPurple\"},\"title\":{\"text\":\"Sum of reward for each episode(averaged with each 10 episodes)\"},\"xaxis\":{\"title\":{\"text\":\"Number of episodes(averaged with each 10 episodes)\"}},\"yaxis\":{\"title\":{\"text\":\"Sum of rewards during episode\"}},\"legend\":{\"title\":{\"text\":\"Legend Title\"}}},                        {\"responsive\": true}                    ).then(function(){\n",
              "                            \n",
              "var gd = document.getElementById('59e3ea93-ee4b-4e46-a3f8-77c9bd1f785e');\n",
              "var x = new MutationObserver(function (mutations, observer) {{\n",
              "        var display = window.getComputedStyle(gd).display;\n",
              "        if (!display || display === 'none') {{\n",
              "            console.log([gd, 'removed!']);\n",
              "            Plotly.purge(gd);\n",
              "            observer.disconnect();\n",
              "        }}\n",
              "}});\n",
              "\n",
              "// Listen for the removal of the full notebook cells\n",
              "var notebookContainer = gd.closest('#notebook-container');\n",
              "if (notebookContainer) {{\n",
              "    x.observe(notebookContainer, {childList: true});\n",
              "}}\n",
              "\n",
              "// Listen for the clearing of the current output cell\n",
              "var outputEl = gd.closest('.output');\n",
              "if (outputEl) {{\n",
              "    x.observe(outputEl, {childList: true});\n",
              "}}\n",
              "\n",
              "                        })                };                            </script>        </div>\n",
              "</body>\n",
              "</html>"
            ]
          },
          "metadata": {}
        }
      ]
    },
    {
      "cell_type": "code",
      "source": [
        "plot_performance(rewards_w1m_sarsa, rewards_w1m_ql,size = 10000,mean_each_n = 10,acumulated = True)"
      ],
      "metadata": {
        "colab": {
          "base_uri": "https://localhost:8080/",
          "height": 542
        },
        "id": "z9AjmO9wRUVV",
        "outputId": "a281595d-fd9c-42aa-8e86-fb6d0c909312"
      },
      "execution_count": 40,
      "outputs": [
        {
          "output_type": "display_data",
          "data": {
            "text/html": [
              "<html>\n",
              "<head><meta charset=\"utf-8\" /></head>\n",
              "<body>\n",
              "    <div>            <script src=\"https://cdnjs.cloudflare.com/ajax/libs/mathjax/2.7.5/MathJax.js?config=TeX-AMS-MML_SVG\"></script><script type=\"text/javascript\">if (window.MathJax) {MathJax.Hub.Config({SVG: {font: \"STIX-Web\"}});}</script>                <script type=\"text/javascript\">window.PlotlyConfig = {MathJaxConfig: 'local'};</script>\n",
              "        <script src=\"https://cdn.plot.ly/plotly-2.8.3.min.js\"></script>                <div id=\"82a2f416-7592-480f-a1e2-17c29d8cab8f\" class=\"plotly-graph-div\" style=\"height:525px; width:100%;\"></div>            <script type=\"text/javascript\">                                    window.PLOTLYENV=window.PLOTLYENV || {};                                    if (document.getElementById(\"82a2f416-7592-480f-a1e2-17c29d8cab8f\")) {                    Plotly.newPlot(                        \"82a2f416-7592-480f-a1e2-17c29d8cab8f\",                        [{\"mode\":\"lines+markers\",\"name\":\"SARSA\",\"x\":[0,1,2,3,4,5,6,7,8,9,10,11,12,13,14,15,16,17,18,19,20,21,22,23,24,25,26,27,28,29,30,31,32,33,34,35,36,37,38,39,40,41,42,43,44,45,46,47,48,49,50,51,52,53,54,55,56,57,58,59,60,61,62,63,64,65,66,67,68,69,70,71,72,73,74,75,76,77,78,79,80,81,82,83,84,85,86,87,88,89,90,91,92,93,94,95,96,97,98,99,100,101,102,103,104,105,106,107,108,109,110,111,112,113,114,115,116,117,118,119,120,121,122,123,124,125,126,127,128,129,130,131,132,133,134,135,136,137,138,139,140,141,142,143,144,145,146,147,148,149,150,151,152,153,154,155,156,157,158,159,160,161,162,163,164,165,166,167,168,169,170,171,172,173,174,175,176,177,178,179,180,181,182,183,184,185,186,187,188,189,190,191,192,193,194,195,196,197,198,199,200,201,202,203,204,205,206,207,208,209,210,211,212,213,214,215,216,217,218,219,220,221,222,223,224,225,226,227,228,229,230,231,232,233,234,235,236,237,238,239,240,241,242,243,244,245,246,247,248,249,250,251,252,253,254,255,256,257,258,259,260,261,262,263,264,265,266,267,268,269,270,271,272,273,274,275,276,277,278,279,280,281,282,283,284,285,286,287,288,289,290,291,292,293,294,295,296,297,298,299,300,301,302,303,304,305,306,307,308,309,310,311,312,313,314,315,316,317,318,319,320,321,322,323,324,325,326,327,328,329,330,331,332,333,334,335,336,337,338,339,340,341,342,343,344,345,346,347,348,349,350,351,352,353,354,355,356,357,358,359,360,361,362,363,364,365,366,367,368,369,370,371,372,373,374,375,376,377,378,379,380,381,382,383,384,385,386,387,388,389,390,391,392,393,394,395,396,397,398,399,400,401,402,403,404,405,406,407,408,409,410,411,412,413,414,415,416,417,418,419,420,421,422,423,424,425,426,427,428,429,430,431,432,433,434,435,436,437,438,439,440,441,442,443,444,445,446,447,448,449,450,451,452,453,454,455,456,457,458,459,460,461,462,463,464,465,466,467,468,469,470,471,472,473,474,475,476,477,478,479,480,481,482,483,484,485,486,487,488,489,490,491,492,493,494,495,496,497,498,499,500,501,502,503,504,505,506,507,508,509,510,511,512,513,514,515,516,517,518,519,520,521,522,523,524,525,526,527,528,529,530,531,532,533,534,535,536,537,538,539,540,541,542,543,544,545,546,547,548,549,550,551,552,553,554,555,556,557,558,559,560,561,562,563,564,565,566,567,568,569,570,571,572,573,574,575,576,577,578,579,580,581,582,583,584,585,586,587,588,589,590,591,592,593,594,595,596,597,598,599,600,601,602,603,604,605,606,607,608,609,610,611,612,613,614,615,616,617,618,619,620,621,622,623,624,625,626,627,628,629,630,631,632,633,634,635,636,637,638,639,640,641,642,643,644,645,646,647,648,649,650,651,652,653,654,655,656,657,658,659,660,661,662,663,664,665,666,667,668,669,670,671,672,673,674,675,676,677,678,679,680,681,682,683,684,685,686,687,688,689,690,691,692,693,694,695,696,697,698,699,700,701,702,703,704,705,706,707,708,709,710,711,712,713,714,715,716,717,718,719,720,721,722,723,724,725,726,727,728,729,730,731,732,733,734,735,736,737,738,739,740,741,742,743,744,745,746,747,748,749,750,751,752,753,754,755,756,757,758,759,760,761,762,763,764,765,766,767,768,769,770,771,772,773,774,775,776,777,778,779,780,781,782,783,784,785,786,787,788,789,790,791,792,793,794,795,796,797,798,799,800,801,802,803,804,805,806,807,808,809,810,811,812,813,814,815,816,817,818,819,820,821,822,823,824,825,826,827,828,829,830,831,832,833,834,835,836,837,838,839,840,841,842,843,844,845,846,847,848,849,850,851,852,853,854,855,856,857,858,859,860,861,862,863,864,865,866,867,868,869,870,871,872,873,874,875,876,877,878,879,880,881,882,883,884,885,886,887,888,889,890,891,892,893,894,895,896,897,898,899,900,901,902,903,904,905,906,907,908,909,910,911,912,913,914,915,916,917,918,919,920,921,922,923,924,925,926,927,928,929,930,931,932,933,934,935,936,937,938,939,940,941,942,943,944,945,946,947,948,949,950,951,952,953,954,955,956,957,958,959,960,961,962,963,964,965,966,967,968,969,970,971,972,973,974,975,976,977,978,979,980,981,982,983,984,985,986,987,988,989,990,991,992,993,994,995,996,997,998,999],\"y\":[-13.51,-26.52,-41.61,-56.17,-72.21000000000001,-86.88000000000001,-104.93,-127.10000000000001,-143.70000000000002,-164.08,-187.5,-206.23,-228.38,-245.64,-263.46999999999997,-279.11999999999995,-297.28,-312.59,-332.98999999999995,-347.30999999999995,-364.88999999999993,-380.2899999999999,-402.4799999999999,-419.44999999999993,-445.0799999999999,-463.17999999999995,-483.78999999999996,-508.62999999999994,-524.64,-544.4,-558.4,-573.85,-591.58,-612.86,-628.86,-643.3000000000001,-664.1,-684.63,-702.86,-721.22,-738.27,-754.06,-771.42,-791.64,-808.43,-828.14,-843.8,-862.4799999999999,-879.9599999999999,-895.5799999999999,-914.9499999999999,-936.4499999999999,-959.64,-978.06,-993.3599999999999,-1013.4899999999999,-1034.6599999999999,-1051.1699999999998,-1070.8799999999999,-1092.2099999999998,-1106.4599999999998,-1121.9799999999998,-1141.9199999999998,-1164.8799999999999,-1178.05,-1195.0,-1211.94,-1231.26,-1250.6,-1270.2099999999998,-1289.4699999999998,-1308.4699999999998,-1328.12,-1346.81,-1365.26,-1383.71,-1402.21,-1416.94,-1431.3500000000001,-1445.93,-1463.8700000000001,-1481.16,-1497.95,-1510.95,-1541.32,-1559.4399999999998,-1582.7699999999998,-1603.4599999999998,-1621.0099999999998,-1636.6699999999998,-1653.36,-1670.04,-1688.6499999999999,-1706.55,-1725.44,-1745.94,-1761.98,-1779.59,-1795.54,-1815.44,-1830.39,-1849.1200000000001,-1864.8700000000001,-1883.43,-1902.92,-1920.9,-1939.8600000000001,-1957.6100000000001,-1975.23,-1990.23,-2009.67,-2029.49,-2042.83,-2057.4,-2074.07,-2088.4900000000002,-2106.3900000000003,-2123.1700000000005,-2141.6500000000005,-2164.7300000000005,-2180.0800000000004,-2198.76,-2215.1400000000003,-2233.53,-2251.0,-2266.87,-2286.5,-2307.74,-2328.2599999999998,-2346.95,-2370.6499999999996,-2390.0699999999997,-2405.9199999999996,-2422.3599999999997,-2443.0599999999995,-2457.0999999999995,-2473.3599999999997,-2491.9599999999996,-2510.1299999999997,-2526.5099999999998,-2541.1499999999996,-2558.8799999999997,-2575.5199999999995,-2590.0099999999993,-2607.5799999999995,-2625.4499999999994,-2639.2199999999993,-2656.2599999999993,-2674.2599999999993,-2699.629999999999,-2721.669999999999,-2742.099999999999,-2762.269999999999,-2784.829999999999,-2801.169999999999,-2819.4499999999994,-2833.9999999999995,-2855.1399999999994,-2875.8299999999995,-2894.1699999999996,-2912.47,-2929.1,-2949.13,-2968.78,-2982.6200000000003,-2996.6300000000006,-3010.8400000000006,-3025.2700000000004,-3044.51,-3063.7000000000003,-3082.4600000000005,-3096.6100000000006,-3113.5000000000005,-3127.4900000000002,-3146.92,-3171.59,-3193.07,-3210.8500000000004,-3229.0600000000004,-3245.4800000000005,-3268.0600000000004,-3289.6000000000004,-3306.59,-3324.42,-3340.4700000000003,-3361.53,-3377.9500000000003,-3394.69,-3408.21,-3423.36,-3440.03,-3457.3300000000004,-3472.6400000000003,-3488.4700000000003,-3503.65,-3523.7400000000002,-3540.84,-3558.1600000000003,-3585.03,-3601.51,-3615.82,-3636.6200000000003,-3654.7000000000003,-3672.65,-3692.73,-3708.36,-3730.44,-3743.79,-3762.95,-3777.02,-3802.31,-3821.93,-3838.2,-3857.18,-3881.83,-3896.85,-3912.83,-3933.35,-3948.79,-3968.48,-3984.2,-3998.43,-4017.45,-4030.89,-4049.5499999999997,-4064.9799999999996,-4081.5999999999995,-4097.61,-4117.07,-4135.73,-4154.79,-4173.3,-4198.22,-4219.87,-4235.57,-4254.69,-4274.599999999999,-4289.799999999999,-4311.429999999999,-4333.539999999999,-4354.539999999999,-4378.589999999999,-4410.659999999999,-4427.169999999999,-4451.759999999999,-4467.23,-4483.459999999999,-4499.949999999999,-4516.439999999999,-4533.399999999999,-4553.499999999999,-4573.379999999999,-4591.699999999999,-4609.379999999999,-4628.759999999999,-4646.449999999999,-4666.169999999999,-4688.619999999999,-4713.609999999999,-4730.899999999999,-4750.189999999999,-4765.229999999999,-4782.699999999999,-4799.309999999999,-4816.619999999999,-4833.3499999999985,-4857.1799999999985,-4875.159999999998,-4894.4299999999985,-4914.309999999999,-4933.949999999999,-4952.579999999999,-4972.719999999999,-4992.459999999999,-5008.169999999999,-5028.799999999999,-5049.619999999999,-5067.929999999999,-5082.259999999999,-5103.169999999999,-5125.44,-5148.129999999999,-5172.199999999999,-5194.279999999999,-5208.8499999999985,-5222.399999999999,-5242.069999999999,-5257.119999999999,-5274.789999999999,-5293.669999999999,-5315.139999999999,-5332.48,-5349.44,-5371.169999999999,-5386.339999999999,-5401.089999999999,-5418.509999999999,-5437.039999999999,-5455.529999999999,-5476.939999999999,-5490.709999999999,-5506.989999999999,-5520.8499999999985,-5541.4299999999985,-5557.259999999998,-5575.3499999999985,-5591.229999999999,-5607.589999999998,-5627.239999999998,-5645.189999999998,-5660.939999999998,-5678.829999999998,-5696.169999999998,-5715.519999999999,-5730.879999999998,-5747.779999999998,-5770.589999999998,-5789.319999999998,-5806.839999999998,-5821.989999999998,-5836.579999999998,-5852.709999999998,-5869.859999999998,-5887.699999999998,-5908.219999999998,-5926.949999999998,-5945.379999999998,-5965.9299999999985,-5981.769999999999,-6000.479999999999,-6019.589999999998,-6041.269999999999,-6069.359999999999,-6087.319999999999,-6101.569999999999,-6118.5999999999985,-6134.939999999999,-6152.779999999999,-6171.9299999999985,-6190.169999999998,-6208.579999999998,-6226.249999999998,-6242.199999999998,-6261.079999999998,-6278.6799999999985,-6291.829999999998,-6310.769999999998,-6325.249999999997,-6344.939999999997,-6359.749999999997,-6381.899999999997,-6398.669999999997,-6415.499999999997,-6432.169999999997,-6451.229999999998,-6468.7199999999975,-6489.569999999998,-6512.0099999999975,-6531.369999999997,-6554.9699999999975,-6572.959999999997,-6592.899999999997,-6612.079999999997,-6627.7199999999975,-6647.099999999998,-6665.319999999998,-6681.649999999998,-6698.369999999998,-6718.819999999998,-6733.679999999998,-6752.689999999998,-6770.869999999998,-6787.959999999998,-6803.479999999999,-6819.279999999999,-6838.999999999999,-6855.299999999999,-6874.829999999999,-6890.259999999999,-6909.719999999999,-6924.5599999999995,-6940.57,-6955.3099999999995,-6974.48,-6990.259999999999,-7004.889999999999,-7021.299999999999,-7040.549999999999,-7057.379999999999,-7073.449999999999,-7092.989999999999,-7114.159999999999,-7128.369999999999,-7149.939999999999,-7167.189999999999,-7184.029999999999,-7201.8499999999985,-7218.789999999998,-7235.989999999998,-7252.809999999998,-7268.049999999997,-7283.329999999997,-7301.329999999997,-7323.099999999998,-7340.649999999998,-7357.569999999998,-7375.5099999999975,-7392.099999999998,-7413.709999999997,-7431.799999999997,-7449.979999999998,-7469.339999999997,-7486.479999999998,-7503.099999999998,-7515.539999999997,-7531.589999999997,-7552.709999999997,-7577.059999999998,-7596.919999999997,-7613.2599999999975,-7626.579999999997,-7641.489999999997,-7660.199999999997,-7680.2599999999975,-7697.209999999997,-7718.399999999997,-7738.169999999997,-7755.899999999997,-7772.709999999997,-7789.039999999997,-7805.039999999997,-7821.019999999997,-7837.159999999997,-7856.359999999997,-7871.509999999997,-7886.0499999999965,-7902.659999999996,-7919.689999999996,-7934.1699999999955,-7952.229999999996,-7972.309999999996,-7991.4599999999955,-8009.219999999996,-8022.7099999999955,-8039.529999999995,-8055.759999999995,-8069.989999999994,-8087.919999999995,-8103.099999999995,-8121.0399999999945,-8141.639999999995,-8159.859999999995,-8178.689999999995,-8200.149999999994,-8219.429999999995,-8235.269999999995,-8257.239999999994,-8274.809999999994,-8290.159999999994,-8308.069999999994,-8328.739999999994,-8345.799999999994,-8361.319999999994,-8376.129999999994,-8394.159999999994,-8413.119999999994,-8434.869999999994,-8457.289999999994,-8472.939999999993,-8489.249999999993,-8509.569999999992,-8530.699999999992,-8548.419999999991,-8568.039999999992,-8586.729999999992,-8605.829999999993,-8621.719999999992,-8639.669999999993,-8658.389999999992,-8677.149999999992,-8698.459999999992,-8717.919999999991,-8739.289999999992,-8756.549999999992,-8774.029999999992,-8790.449999999992,-8806.65999999999,-8822.509999999991,-8842.259999999991,-8860.379999999992,-8874.439999999991,-8893.799999999992,-8911.249999999993,-8927.879999999992,-8947.319999999992,-8962.119999999992,-8978.429999999991,-9002.31999999999,-9022.29999999999,-9039.42999999999,-9058.77999999999,-9083.28999999999,-9109.82999999999,-9128.20999999999,-9144.48999999999,-9163.44999999999,-9188.11999999999,-9206.85999999999,-9228.77999999999,-9249.749999999989,-9269.26999999999,-9289.53999999999,-9303.69999999999,-9322.19999999999,-9340.98999999999,-9360.759999999991,-9379.13999999999,-9403.29999999999,-9422.60999999999,-9439.069999999989,-9455.60999999999,-9470.62999999999,-9488.25999999999,-9506.33999999999,-9523.149999999989,-9541.449999999988,-9563.299999999988,-9577.409999999989,-9595.149999999989,-9611.18999999999,-9628.94999999999,-9645.48999999999,-9664.169999999991,-9680.12999999999,-9696.919999999991,-9714.699999999992,-9736.339999999991,-9754.14999999999,-9770.49999999999,-9788.24999999999,-9806.80999999999,-9833.01999999999,-9845.58999999999,-9860.479999999989,-9882.869999999988,-9901.529999999988,-9919.689999999988,-9932.479999999989,-9952.879999999988,-9967.469999999988,-9988.319999999989,-10007.949999999988,-10025.809999999989,-10043.879999999988,-10061.839999999987,-10081.669999999987,-10106.199999999988,-10126.659999999987,-10142.339999999987,-10162.839999999987,-10183.919999999987,-10198.739999999987,-10219.029999999988,-10238.359999999988,-10253.959999999988,-10269.479999999989,-10287.569999999989,-10303.279999999988,-10320.649999999989,-10339.049999999988,-10357.609999999988,-10375.269999999988,-10391.149999999987,-10411.469999999987,-10435.149999999987,-10456.529999999986,-10471.619999999986,-10487.439999999986,-10508.389999999987,-10525.649999999987,-10541.269999999988,-10559.579999999987,-10574.409999999987,-10591.489999999987,-10616.669999999987,-10633.569999999987,-10653.469999999987,-10674.009999999987,-10692.449999999988,-10709.309999999989,-10725.239999999989,-10747.60999999999,-10767.38999999999,-10786.07999999999,-10802.529999999992,-10820.429999999991,-10843.82999999999,-10861.619999999992,-10876.969999999992,-10894.939999999991,-10913.459999999992,-10931.799999999992,-10949.939999999991,-10963.609999999991,-10980.779999999992,-11000.139999999992,-11015.099999999991,-11030.40999999999,-11049.20999999999,-11065.67999999999,-11084.639999999989,-11104.459999999988,-11123.739999999989,-11143.369999999988,-11159.709999999988,-11178.229999999989,-11194.499999999989,-11212.579999999989,-11227.11999999999,-11243.35999999999,-11262.37999999999,-11278.08999999999,-11295.559999999989,-11309.109999999988,-11323.999999999987,-11340.029999999988,-11355.419999999987,-11373.119999999988,-11391.059999999989,-11408.379999999988,-11424.489999999989,-11440.01999999999,-11458.36999999999,-11477.18999999999,-11494.25999999999,-11509.979999999989,-11527.999999999989,-11544.69999999999,-11566.78999999999,-11594.44999999999,-11616.21999999999,-11633.19999999999,-11653.10999999999,-11675.85999999999,-11692.76999999999,-11708.79999999999,-11723.01999999999,-11738.83999999999,-11753.16999999999,-11773.18999999999,-11787.70999999999,-11802.27999999999,-11817.86999999999,-11836.749999999989,-11853.059999999989,-11868.939999999988,-11886.859999999988,-11901.569999999987,-11920.409999999987,-11941.729999999987,-11962.049999999987,-11977.529999999986,-11999.979999999987,-12016.089999999987,-12032.139999999987,-12061.889999999987,-12081.769999999986,-12101.179999999986,-12118.199999999986,-12137.749999999985,-12164.619999999986,-12183.069999999987,-12202.319999999987,-12217.809999999987,-12236.309999999987,-12251.279999999986,-12270.859999999986,-12291.929999999986,-12305.429999999986,-12324.509999999986,-12340.859999999986,-12356.989999999985,-12373.489999999985,-12395.229999999985,-12419.219999999985,-12446.599999999984,-12466.669999999984,-12483.069999999983,-12495.499999999984,-12511.799999999983,-12527.179999999982,-12542.619999999983,-12558.579999999982,-12580.989999999982,-12596.979999999981,-12613.11999999998,-12632.069999999982,-12651.759999999982,-12666.439999999982,-12683.509999999982,-12698.519999999982,-12717.499999999982,-12735.529999999982,-12754.259999999982,-12772.729999999981,-12787.769999999982,-12803.269999999982,-12826.489999999982,-12851.78999999998,-12875.51999999998,-12900.22999999998,-12918.39999999998,-12939.67999999998,-12961.25999999998,-12976.30999999998,-13002.67999999998,-13023.24999999998,-13038.36999999998,-13055.24999999998,-13078.32999999998,-13097.13999999998,-13114.67999999998,-13133.049999999981,-13148.43999999998,-13163.98999999998,-13187.12999999998,-13207.31999999998,-13222.98999999998,-13245.16999999998,-13263.93999999998,-13281.78999999998,-13305.10999999998,-13325.629999999981,-13341.809999999981,-13359.36999999998,-13378.33999999998,-13395.35999999998,-13413.56999999998,-13430.369999999979,-13450.039999999979,-13470.89999999998,-13491.47999999998,-13507.939999999979,-13525.47999999998,-13542.98999999998,-13559.46999999998,-13576.56999999998,-13599.16999999998,-13616.87999999998,-13634.79999999998,-13654.46999999998,-13672.00999999998,-13692.18999999998,-13707.50999999998,-13724.18999999998,-13741.14999999998,-13758.97999999998,-13778.22999999998,-13790.869999999979,-13806.089999999978,-13823.439999999979,-13840.96999999998,-13861.929999999978,-13878.809999999978,-13895.029999999977,-13910.409999999976,-13927.959999999975,-13944.629999999976,-13960.789999999975,-13976.399999999976,-13990.889999999976,-14018.429999999977,-14035.399999999976,-14050.709999999975,-14067.599999999975,-14087.149999999974,-14106.889999999974,-14127.819999999974,-14144.649999999974,-14160.479999999974,-14176.199999999973,-14192.699999999973,-14207.309999999974,-14224.479999999974,-14240.669999999975,-14257.869999999975,-14276.159999999976,-14291.719999999976,-14307.209999999975,-14323.759999999975,-14340.069999999974,-14355.759999999975,-14371.709999999975,-14391.009999999975,-14406.779999999975,-14427.359999999975,-14443.559999999976,-14458.769999999975,-14475.129999999976,-14493.969999999976,-14511.379999999976,-14525.419999999976,-14545.139999999976,-14565.679999999977,-14581.269999999977,-14598.709999999977,-14614.969999999978,-14633.869999999977,-14650.869999999977,-14669.739999999978,-14688.149999999978,-14705.729999999978,-14721.069999999978,-14739.459999999977,-14755.549999999977,-14772.409999999978,-14787.449999999979,-14805.87999999998,-14821.779999999979,-14836.419999999978,-14851.039999999979,-14866.87999999998,-14886.20999999998,-14901.199999999979,-14916.359999999979,-14934.609999999979,-14954.449999999979,-14970.079999999978,-14988.819999999978,-15010.469999999978,-15025.539999999977,-15042.549999999977,-15060.369999999977,-15076.499999999976,-15089.839999999976,-15103.359999999977,-15121.629999999977,-15139.159999999978,-15159.829999999978,-15173.319999999978,-15189.859999999979,-15207.749999999978,-15224.629999999977,-15239.169999999978,-15260.589999999978,-15276.569999999978,-15294.919999999978,-15313.219999999978,-15330.979999999978,-15355.919999999978,-15374.399999999978,-15395.949999999977,-15414.709999999977,-15433.729999999978,-15456.219999999978,-15473.439999999977,-15492.839999999976,-15510.509999999977,-15527.669999999976,-15543.099999999977,-15558.209999999977,-15576.689999999977,-15595.459999999977,-15610.319999999978,-15627.809999999978,-15644.579999999978,-15661.749999999978,-15676.309999999978,-15690.129999999977,-15712.389999999978,-15730.339999999978,-15747.339999999978,-15769.599999999979,-15794.019999999979,-15813.169999999978,-15828.679999999978,-15844.509999999978,-15865.009999999978,-15885.279999999979,-15900.519999999979,-15916.769999999979,-15935.729999999978,-15953.359999999977,-15969.779999999977,-15984.409999999976,-16001.449999999977,-16020.409999999976,-16039.009999999977,-16053.289999999977,-16077.599999999977,-16098.119999999977,-16118.299999999977,-16139.699999999977,-16160.339999999976,-16174.079999999976,-16194.019999999977,-16211.439999999977,-16231.369999999977,-16252.189999999977,-16264.869999999977,-16286.429999999977,-16305.219999999978,-16320.569999999978,-16338.749999999978,-16354.039999999979,-16371.79999999998,-16394.50999999998,-16415.28999999998,-16434.139999999978,-16447.249999999978,-16467.439999999977,-16482.459999999977,-16500.10999999998,-16517.409999999978,-16533.21999999998,-16555.48999999998,-16571.70999999998,-16593.68999999998,-16615.05999999998,-16639.91999999998,-16664.00999999998,-16681.72999999998,-16697.13999999998,-16713.56999999998,-16734.719999999983,-16753.719999999983,-16773.269999999982,-16791.95999999998,-16807.46999999998,-16826.03999999998,-16843.94999999998,-16866.17999999998,-16888.159999999978,-16906.69999999998,-16924.68999999998,-16943.47999999998,-16964.559999999983,-16987.169999999984,-17007.919999999984,-17025.239999999983,-17043.429999999982,-17058.019999999982,-17077.809999999983,-17094.449999999983,-17110.929999999982,-17125.399999999983,-17144.289999999983,-17165.40999999998,-17185.989999999983,-17203.529999999984,-17226.249999999985,-17241.189999999984,-17261.329999999984,-17278.799999999985,-17296.759999999984,-17317.779999999984,-17343.119999999984,-17362.809999999983,-17378.549999999985,-17394.849999999984,-17415.189999999984,-17435.219999999983,-17453.709999999985,-17482.539999999986,-17500.649999999987,-17518.909999999985,-17535.039999999986,-17558.069999999985,-17576.689999999984,-17594.999999999985,-17612.929999999986,-17632.869999999984,-17647.269999999986,-17665.279999999984,-17681.479999999985,-17696.779999999984,-17717.959999999985,-17742.159999999985,-17759.279999999984,-17777.979999999985,-17792.639999999985,-17813.869999999984,-17829.369999999984,-17848.899999999983,-17866.389999999985,-17883.029999999984,-17897.489999999983,-17916.959999999985,-17931.439999999984,-17949.279999999984,-17972.669999999984,-17990.449999999983,-18006.63999999998,-18031.82999999998,-18049.11999999998,-18067.95999999998,-18087.00999999998,-18102.17999999998,-18123.53999999998,-18137.69999999998],\"type\":\"scatter\"},{\"mode\":\"lines+markers\",\"name\":\"Q-Learning\",\"x\":[0,1,2,3,4,5,6,7,8,9,10,11,12,13,14,15,16,17,18,19,20,21,22,23,24,25,26,27,28,29,30,31,32,33,34,35,36,37,38,39,40,41,42,43,44,45,46,47,48,49,50,51,52,53,54,55,56,57,58,59,60,61,62,63,64,65,66,67,68,69,70,71,72,73,74,75,76,77,78,79,80,81,82,83,84,85,86,87,88,89,90,91,92,93,94,95,96,97,98,99,100,101,102,103,104,105,106,107,108,109,110,111,112,113,114,115,116,117,118,119,120,121,122,123,124,125,126,127,128,129,130,131,132,133,134,135,136,137,138,139,140,141,142,143,144,145,146,147,148,149,150,151,152,153,154,155,156,157,158,159,160,161,162,163,164,165,166,167,168,169,170,171,172,173,174,175,176,177,178,179,180,181,182,183,184,185,186,187,188,189,190,191,192,193,194,195,196,197,198,199,200,201,202,203,204,205,206,207,208,209,210,211,212,213,214,215,216,217,218,219,220,221,222,223,224,225,226,227,228,229,230,231,232,233,234,235,236,237,238,239,240,241,242,243,244,245,246,247,248,249,250,251,252,253,254,255,256,257,258,259,260,261,262,263,264,265,266,267,268,269,270,271,272,273,274,275,276,277,278,279,280,281,282,283,284,285,286,287,288,289,290,291,292,293,294,295,296,297,298,299,300,301,302,303,304,305,306,307,308,309,310,311,312,313,314,315,316,317,318,319,320,321,322,323,324,325,326,327,328,329,330,331,332,333,334,335,336,337,338,339,340,341,342,343,344,345,346,347,348,349,350,351,352,353,354,355,356,357,358,359,360,361,362,363,364,365,366,367,368,369,370,371,372,373,374,375,376,377,378,379,380,381,382,383,384,385,386,387,388,389,390,391,392,393,394,395,396,397,398,399,400,401,402,403,404,405,406,407,408,409,410,411,412,413,414,415,416,417,418,419,420,421,422,423,424,425,426,427,428,429,430,431,432,433,434,435,436,437,438,439,440,441,442,443,444,445,446,447,448,449,450,451,452,453,454,455,456,457,458,459,460,461,462,463,464,465,466,467,468,469,470,471,472,473,474,475,476,477,478,479,480,481,482,483,484,485,486,487,488,489,490,491,492,493,494,495,496,497,498,499,500,501,502,503,504,505,506,507,508,509,510,511,512,513,514,515,516,517,518,519,520,521,522,523,524,525,526,527,528,529,530,531,532,533,534,535,536,537,538,539,540,541,542,543,544,545,546,547,548,549,550,551,552,553,554,555,556,557,558,559,560,561,562,563,564,565,566,567,568,569,570,571,572,573,574,575,576,577,578,579,580,581,582,583,584,585,586,587,588,589,590,591,592,593,594,595,596,597,598,599,600,601,602,603,604,605,606,607,608,609,610,611,612,613,614,615,616,617,618,619,620,621,622,623,624,625,626,627,628,629,630,631,632,633,634,635,636,637,638,639,640,641,642,643,644,645,646,647,648,649,650,651,652,653,654,655,656,657,658,659,660,661,662,663,664,665,666,667,668,669,670,671,672,673,674,675,676,677,678,679,680,681,682,683,684,685,686,687,688,689,690,691,692,693,694,695,696,697,698,699,700,701,702,703,704,705,706,707,708,709,710,711,712,713,714,715,716,717,718,719,720,721,722,723,724,725,726,727,728,729,730,731,732,733,734,735,736,737,738,739,740,741,742,743,744,745,746,747,748,749,750,751,752,753,754,755,756,757,758,759,760,761,762,763,764,765,766,767,768,769,770,771,772,773,774,775,776,777,778,779,780,781,782,783,784,785,786,787,788,789,790,791,792,793,794,795,796,797,798,799,800,801,802,803,804,805,806,807,808,809,810,811,812,813,814,815,816,817,818,819,820,821,822,823,824,825,826,827,828,829,830,831,832,833,834,835,836,837,838,839,840,841,842,843,844,845,846,847,848,849,850,851,852,853,854,855,856,857,858,859,860,861,862,863,864,865,866,867,868,869,870,871,872,873,874,875,876,877,878,879,880,881,882,883,884,885,886,887,888,889,890,891,892,893,894,895,896,897,898,899,900,901,902,903,904,905,906,907,908,909,910,911,912,913,914,915,916,917,918,919,920,921,922,923,924,925,926,927,928,929,930,931,932,933,934,935,936,937,938,939,940,941,942,943,944,945,946,947,948,949,950,951,952,953,954,955,956,957,958,959,960,961,962,963,964,965,966,967,968,969,970,971,972,973,974,975,976,977,978,979,980,981,982,983,984,985,986,987,988,989,990,991,992,993,994,995,996,997,998,999],\"y\":[-1.351,-2.652,-4.161,-5.616999999999999,-7.220999999999999,-8.687999999999999,-10.492999999999999,-12.709999999999997,-14.369999999999997,-16.407999999999998,-18.749999999999996,-20.622999999999998,-22.837999999999997,-24.563999999999997,-26.346999999999998,-27.912,-29.727999999999998,-31.258999999999997,-33.299,-34.731,-36.489000000000004,-38.029,-40.248000000000005,-41.94500000000001,-44.50800000000001,-46.31800000000001,-48.37900000000001,-50.863000000000014,-52.46400000000001,-54.44000000000001,-55.84000000000001,-57.38500000000001,-59.158000000000015,-61.286000000000016,-62.88600000000002,-64.33000000000001,-66.41000000000001,-68.46300000000001,-70.286,-72.122,-73.827,-75.40599999999999,-77.142,-79.164,-80.843,-82.81400000000001,-84.38000000000001,-86.248,-87.99600000000001,-89.558,-91.495,-93.64500000000001,-95.96400000000001,-97.80600000000001,-99.33600000000001,-101.34900000000002,-103.46600000000002,-105.11700000000002,-107.08800000000002,-109.22100000000002,-110.64600000000002,-112.19800000000002,-114.19200000000002,-116.48800000000003,-117.80500000000002,-119.50000000000001,-121.19400000000002,-123.12600000000002,-125.06000000000002,-127.02100000000002,-128.947,-130.847,-132.812,-134.681,-136.526,-138.371,-140.221,-141.69400000000002,-143.13500000000002,-144.59300000000002,-146.38700000000003,-148.11600000000004,-149.79500000000004,-151.09500000000006,-154.13200000000006,-155.94400000000007,-158.27700000000007,-160.34600000000006,-162.10100000000006,-163.66700000000006,-165.33600000000007,-167.00400000000008,-168.86500000000007,-170.65500000000006,-172.54400000000007,-174.59400000000008,-176.1980000000001,-177.9590000000001,-179.5540000000001,-181.5440000000001,-183.0390000000001,-184.9120000000001,-186.48700000000008,-188.34300000000007,-190.2920000000001,-192.0900000000001,-193.98600000000008,-195.76100000000008,-197.52300000000008,-199.02300000000008,-200.96700000000007,-202.94900000000007,-204.28300000000007,-205.74000000000007,-207.40700000000007,-208.84900000000007,-210.63900000000007,-212.31700000000006,-214.16500000000008,-216.47300000000007,-218.00800000000007,-219.87600000000006,-221.51400000000007,-223.35300000000007,-225.10000000000008,-226.68700000000007,-228.65000000000006,-230.77400000000006,-232.82600000000005,-234.69500000000005,-237.06500000000005,-239.00700000000006,-240.59200000000007,-242.23600000000008,-244.30600000000007,-245.71000000000006,-247.33600000000007,-249.19600000000008,-251.0130000000001,-252.6510000000001,-254.1150000000001,-255.8880000000001,-257.5520000000001,-259.0010000000001,-260.7580000000001,-262.5450000000001,-263.9220000000001,-265.6260000000001,-267.4260000000001,-269.9630000000001,-272.1670000000001,-274.2100000000001,-276.2270000000001,-278.48300000000006,-280.1170000000001,-281.94500000000005,-283.40000000000003,-285.514,-287.583,-289.41700000000003,-291.247,-292.91,-294.913,-296.878,-298.262,-299.663,-301.084,-302.527,-304.45099999999996,-306.36999999999995,-308.2459999999999,-309.66099999999994,-311.34999999999997,-312.74899999999997,-314.69199999999995,-317.15899999999993,-319.30699999999996,-321.085,-322.906,-324.548,-326.806,-328.96,-330.659,-332.442,-334.047,-336.153,-337.795,-339.469,-340.82099999999997,-342.33599999999996,-344.00299999999993,-345.73299999999995,-347.26399999999995,-348.847,-350.36499999999995,-352.37399999999997,-354.08399999999995,-355.816,-358.503,-360.151,-361.582,-363.662,-365.46999999999997,-367.265,-369.27299999999997,-370.83599999999996,-373.044,-374.37899999999996,-376.29499999999996,-377.70199999999994,-380.23099999999994,-382.1929999999999,-383.81999999999994,-385.71799999999996,-388.18299999999994,-389.68499999999995,-391.28299999999996,-393.335,-394.87899999999996,-396.84799999999996,-398.41999999999996,-399.84299999999996,-401.74499999999995,-403.08899999999994,-404.9549999999999,-406.49799999999993,-408.1599999999999,-409.7609999999999,-411.70699999999994,-413.5729999999999,-415.4789999999999,-417.3299999999999,-419.82199999999995,-421.98699999999997,-423.55699999999996,-425.46899999999994,-427.4599999999999,-428.9799999999999,-431.1429999999999,-433.3539999999999,-435.45399999999995,-437.8589999999999,-441.0659999999999,-442.7169999999999,-445.17599999999993,-446.72299999999996,-448.34599999999995,-449.99499999999995,-451.64399999999995,-453.34,-455.34999999999997,-457.33799999999997,-459.16999999999996,-460.93799999999993,-462.8759999999999,-464.6449999999999,-466.6169999999999,-468.8619999999999,-471.36099999999993,-473.0899999999999,-475.0189999999999,-476.5229999999999,-478.2699999999999,-479.9309999999999,-481.6619999999999,-483.3349999999999,-485.7179999999999,-487.5159999999999,-489.4429999999999,-491.4309999999999,-493.3949999999999,-495.2579999999999,-497.27199999999993,-499.2459999999999,-500.81699999999995,-502.87999999999994,-504.96199999999993,-506.79299999999995,-508.22599999999994,-510.31699999999995,-512.544,-514.813,-517.22,-519.428,-520.885,-522.24,-524.207,-525.712,-527.479,-529.3670000000001,-531.5140000000001,-533.2480000000002,-534.9440000000002,-537.1170000000002,-538.6340000000002,-540.1090000000003,-541.8510000000002,-543.7040000000002,-545.5530000000002,-547.6940000000002,-549.0710000000001,-550.6990000000002,-552.0850000000002,-554.1430000000001,-555.7260000000001,-557.5350000000001,-559.123,-560.759,-562.724,-564.519,-566.094,-567.883,-569.6170000000001,-571.552,-573.088,-574.778,-577.059,-578.932,-580.684,-582.199,-583.6579999999999,-585.271,-586.986,-588.77,-590.822,-592.695,-594.538,-596.593,-598.1769999999999,-600.0479999999999,-601.9589999999998,-604.1269999999998,-606.9359999999998,-608.7319999999999,-610.1569999999998,-611.8599999999998,-613.4939999999998,-615.2779999999998,-617.1929999999998,-619.0169999999997,-620.8579999999997,-622.6249999999998,-624.2199999999998,-626.1079999999998,-627.8679999999998,-629.1829999999999,-631.0769999999999,-632.5249999999999,-634.4939999999999,-635.9749999999999,-638.1899999999999,-639.867,-641.55,-643.217,-645.1229999999999,-646.872,-648.957,-651.201,-653.1370000000001,-655.4970000000001,-657.296,-659.2900000000001,-661.2080000000001,-662.772,-664.71,-666.532,-668.1650000000001,-669.8370000000001,-671.8820000000001,-673.368,-675.269,-677.087,-678.7959999999999,-680.348,-681.928,-683.9,-685.53,-687.483,-689.026,-690.972,-692.456,-694.057,-695.5310000000001,-697.4480000000001,-699.0260000000001,-700.489,-702.13,-704.055,-705.7379999999999,-707.3449999999999,-709.2989999999999,-711.4159999999998,-712.8369999999999,-714.9939999999999,-716.7189999999999,-718.4029999999999,-720.185,-721.8789999999999,-723.5989999999999,-725.281,-726.805,-728.333,-730.1329999999999,-732.31,-734.0649999999999,-735.757,-737.5509999999999,-739.2099999999999,-741.3709999999999,-743.1799999999998,-744.9979999999998,-746.9339999999999,-748.6479999999999,-750.31,-751.554,-753.159,-755.271,-757.7059999999999,-759.6919999999999,-761.3259999999999,-762.6579999999999,-764.1489999999999,-766.0199999999999,-768.0259999999998,-769.7209999999999,-771.8399999999999,-773.8169999999999,-775.5899999999999,-777.271,-778.904,-780.504,-782.102,-783.716,-785.636,-787.151,-788.6049999999999,-790.2659999999998,-791.9689999999998,-793.4169999999998,-795.2229999999998,-797.2309999999999,-799.1459999999998,-800.9219999999998,-802.2709999999998,-803.9529999999999,-805.5759999999999,-806.9989999999999,-808.7919999999999,-810.31,-812.1039999999999,-814.1639999999999,-815.9859999999999,-817.8689999999999,-820.0149999999999,-821.9429999999999,-823.5269999999998,-825.7239999999998,-827.4809999999998,-829.0159999999997,-830.8069999999998,-832.8739999999998,-834.5799999999998,-836.1319999999998,-837.6129999999998,-839.4159999999998,-841.3119999999998,-843.4869999999997,-845.7289999999997,-847.2939999999998,-848.9249999999997,-850.9569999999998,-853.0699999999998,-854.8419999999999,-856.8039999999999,-858.6729999999999,-860.5829999999999,-862.1719999999999,-863.9669999999999,-865.8389999999998,-867.7149999999998,-869.8459999999998,-871.7919999999998,-873.9289999999997,-875.6549999999997,-877.4029999999998,-879.0449999999998,-880.6659999999998,-882.2509999999999,-884.2259999999999,-886.0379999999999,-887.4439999999998,-889.3799999999999,-891.1249999999999,-892.7879999999999,-894.7319999999999,-896.2119999999999,-897.8429999999998,-900.2319999999999,-902.2299999999999,-903.9429999999999,-905.8779999999998,-908.3289999999998,-910.9829999999998,-912.8209999999998,-914.4489999999998,-916.3449999999998,-918.8119999999998,-920.6859999999998,-922.8779999999998,-924.9749999999998,-926.9269999999998,-928.9539999999998,-930.3699999999999,-932.2199999999999,-934.0989999999999,-936.0759999999999,-937.9139999999999,-940.3299999999999,-942.261,-943.9069999999999,-945.5609999999999,-947.0629999999999,-948.8259999999999,-950.6339999999999,-952.3149999999999,-954.145,-956.3299999999999,-957.7409999999999,-959.5149999999999,-961.1189999999999,-962.8949999999999,-964.5489999999999,-966.4169999999999,-968.0129999999999,-969.6919999999999,-971.4699999999999,-973.6339999999999,-975.4149999999998,-977.0499999999998,-978.8249999999998,-980.6809999999998,-983.3019999999998,-984.5589999999997,-986.0479999999998,-988.2869999999998,-990.1529999999998,-991.9689999999998,-993.2479999999998,-995.2879999999998,-996.7469999999997,-998.8319999999998,-1000.7949999999997,-1002.5809999999997,-1004.3879999999997,-1006.1839999999997,-1008.1669999999997,-1010.6199999999997,-1012.6659999999997,-1014.2339999999997,-1016.2839999999997,-1018.3919999999996,-1019.8739999999996,-1021.9029999999996,-1023.8359999999996,-1025.3959999999995,-1026.9479999999994,-1028.7569999999994,-1030.3279999999993,-1032.0649999999994,-1033.9049999999993,-1035.7609999999993,-1037.5269999999994,-1039.1149999999993,-1041.1469999999993,-1043.5149999999992,-1045.652999999999,-1047.1619999999991,-1048.7439999999992,-1050.8389999999993,-1052.5649999999994,-1054.1269999999993,-1055.9579999999992,-1057.4409999999991,-1059.1489999999992,-1061.6669999999992,-1063.3569999999993,-1065.3469999999993,-1067.4009999999994,-1069.2449999999994,-1070.9309999999994,-1072.5239999999994,-1074.7609999999995,-1076.7389999999996,-1078.6079999999995,-1080.2529999999995,-1082.0429999999994,-1084.3829999999994,-1086.1619999999994,-1087.6969999999994,-1089.4939999999995,-1091.3459999999995,-1093.1799999999996,-1094.9939999999997,-1096.3609999999996,-1098.0779999999997,-1100.0139999999997,-1101.5099999999998,-1103.0409999999997,-1104.9209999999998,-1106.5679999999998,-1108.4639999999997,-1110.4459999999997,-1112.3739999999998,-1114.3369999999998,-1115.9709999999998,-1117.8229999999999,-1119.4499999999998,-1121.2579999999998,-1122.7119999999998,-1124.3359999999998,-1126.2379999999998,-1127.8089999999997,-1129.5559999999998,-1130.9109999999998,-1132.3999999999999,-1134.003,-1135.542,-1137.312,-1139.106,-1140.838,-1142.449,-1144.0020000000002,-1145.8370000000002,-1147.7190000000003,-1149.4260000000004,-1150.9980000000003,-1152.8000000000002,-1154.4700000000003,-1156.6790000000003,-1159.4450000000004,-1161.6220000000003,-1163.3200000000004,-1165.3110000000004,-1167.5860000000005,-1169.2770000000005,-1170.8800000000006,-1172.3020000000006,-1173.8840000000007,-1175.3170000000007,-1177.3190000000006,-1178.7710000000006,-1180.2280000000007,-1181.7870000000007,-1183.6750000000006,-1185.3060000000007,-1186.8940000000007,-1188.6860000000006,-1190.1570000000006,-1192.0410000000006,-1194.1730000000007,-1196.2050000000006,-1197.7530000000006,-1199.9980000000005,-1201.6090000000006,-1203.2140000000006,-1206.1890000000005,-1208.1770000000006,-1210.1180000000006,-1211.8200000000006,-1213.7750000000005,-1216.4620000000004,-1218.3070000000005,-1220.2320000000004,-1221.7810000000004,-1223.6310000000003,-1225.1280000000004,-1227.0860000000005,-1229.1930000000004,-1230.5430000000003,-1232.4510000000002,-1234.0860000000002,-1235.6990000000003,-1237.3490000000004,-1239.5230000000004,-1241.9220000000003,-1244.6600000000003,-1246.6670000000004,-1248.3070000000005,-1249.5500000000004,-1251.1800000000005,-1252.7180000000005,-1254.2620000000006,-1255.8580000000006,-1258.0990000000006,-1259.6980000000005,-1261.3120000000006,-1263.2070000000006,-1265.1760000000006,-1266.6440000000007,-1268.3510000000008,-1269.8520000000008,-1271.7500000000007,-1273.5530000000008,-1275.4260000000008,-1277.2730000000008,-1278.7770000000007,-1280.3270000000007,-1282.6490000000006,-1285.1790000000005,-1287.5520000000006,-1290.0230000000006,-1291.8400000000006,-1293.9680000000005,-1296.1260000000004,-1297.6310000000005,-1300.2680000000005,-1302.3250000000005,-1303.8370000000004,-1305.5250000000005,-1307.8330000000005,-1309.7140000000006,-1311.4680000000005,-1313.3050000000005,-1314.8440000000005,-1316.3990000000006,-1318.7130000000006,-1320.7320000000007,-1322.2990000000007,-1324.5170000000007,-1326.3940000000007,-1328.1790000000008,-1330.5110000000009,-1332.5630000000008,-1334.1810000000007,-1335.9370000000008,-1337.8340000000007,-1339.5360000000007,-1341.3570000000007,-1343.0370000000007,-1345.0040000000008,-1347.0900000000008,-1349.1480000000008,-1350.7940000000008,-1352.5480000000007,-1354.2990000000007,-1355.9470000000006,-1357.6570000000006,-1359.9170000000006,-1361.6880000000006,-1363.4800000000005,-1365.4470000000006,-1367.2010000000005,-1369.2190000000005,-1370.7510000000004,-1372.4190000000003,-1374.1150000000002,-1375.8980000000001,-1377.823,-1379.087,-1380.609,-1382.3439999999998,-1384.0969999999998,-1386.1929999999998,-1387.8809999999999,-1389.503,-1391.041,-1392.796,-1394.463,-1396.079,-1397.6399999999999,-1399.089,-1401.8429999999998,-1403.5399999999997,-1405.0709999999997,-1406.7599999999998,-1408.7149999999997,-1410.6889999999996,-1412.7819999999997,-1414.4649999999997,-1416.0479999999998,-1417.6199999999997,-1419.2699999999998,-1420.7309999999998,-1422.4479999999999,-1424.0669999999998,-1425.7869999999998,-1427.6159999999998,-1429.1719999999998,-1430.7209999999998,-1432.3759999999997,-1434.0069999999998,-1435.5759999999998,-1437.1709999999998,-1439.1009999999999,-1440.6779999999999,-1442.7359999999999,-1444.3559999999998,-1445.8769999999997,-1447.5129999999997,-1449.3969999999997,-1451.1379999999997,-1452.5419999999997,-1454.5139999999997,-1456.5679999999998,-1458.1269999999997,-1459.8709999999996,-1461.4969999999996,-1463.3869999999997,-1465.0869999999998,-1466.9739999999997,-1468.8149999999996,-1470.5729999999996,-1472.1069999999997,-1473.9459999999997,-1475.5549999999996,-1477.2409999999995,-1478.7449999999994,-1480.5879999999995,-1482.1779999999994,-1483.6419999999994,-1485.1039999999994,-1486.6879999999994,-1488.6209999999994,-1490.1199999999994,-1491.6359999999995,-1493.4609999999996,-1495.4449999999995,-1497.0079999999996,-1498.8819999999996,-1501.0469999999996,-1502.5539999999996,-1504.2549999999997,-1506.0369999999996,-1507.6499999999996,-1508.9839999999997,-1510.3359999999998,-1512.1629999999998,-1513.9159999999997,-1515.9829999999997,-1517.3319999999997,-1518.9859999999996,-1520.7749999999996,-1522.4629999999997,-1523.9169999999997,-1526.0589999999997,-1527.6569999999997,-1529.4919999999997,-1531.3219999999997,-1533.0979999999997,-1535.5919999999996,-1537.4399999999996,-1539.5949999999996,-1541.4709999999995,-1543.3729999999996,-1545.6219999999996,-1547.3439999999996,-1549.2839999999997,-1551.0509999999997,-1552.7669999999996,-1554.3099999999995,-1555.8209999999995,-1557.6689999999994,-1559.5459999999994,-1561.0319999999995,-1562.7809999999995,-1564.4579999999994,-1566.1749999999995,-1567.6309999999994,-1569.0129999999995,-1571.2389999999996,-1573.0339999999997,-1574.7339999999997,-1576.9599999999998,-1579.4019999999998,-1581.3169999999998,-1582.8679999999997,-1584.4509999999998,-1586.5009999999997,-1588.5279999999998,-1590.0519999999997,-1591.6769999999997,-1593.5729999999996,-1595.3359999999996,-1596.9779999999996,-1598.4409999999996,-1600.1449999999995,-1602.0409999999995,-1603.9009999999994,-1605.3289999999995,-1607.7599999999995,-1609.8119999999994,-1611.8299999999995,-1613.9699999999996,-1616.0339999999997,-1617.4079999999997,-1619.4019999999996,-1621.1439999999996,-1623.1369999999995,-1625.2189999999996,-1626.4869999999996,-1628.6429999999996,-1630.5219999999995,-1632.0569999999996,-1633.8749999999995,-1635.4039999999995,-1637.1799999999996,-1639.4509999999996,-1641.5289999999995,-1643.4139999999995,-1644.7249999999995,-1646.7439999999995,-1648.2459999999994,-1650.0109999999995,-1651.7409999999995,-1653.3219999999994,-1655.5489999999995,-1657.1709999999996,-1659.3689999999997,-1661.5059999999996,-1663.9919999999997,-1666.4009999999998,-1668.1729999999998,-1669.7139999999997,-1671.3569999999997,-1673.4719999999998,-1675.3719999999998,-1677.3269999999998,-1679.1959999999997,-1680.7469999999996,-1682.6039999999996,-1684.3949999999995,-1686.6179999999995,-1688.8159999999996,-1690.6699999999996,-1692.4689999999996,-1694.3479999999995,-1696.4559999999994,-1698.7169999999994,-1700.7919999999995,-1702.5239999999994,-1704.3429999999994,-1705.8019999999995,-1707.7809999999995,-1709.4449999999995,-1711.0929999999994,-1712.5399999999993,-1714.4289999999992,-1716.5409999999993,-1718.5989999999993,-1720.3529999999992,-1722.624999999999,-1724.118999999999,-1726.132999999999,-1727.879999999999,-1729.675999999999,-1731.777999999999,-1734.3119999999992,-1736.2809999999993,-1737.8549999999993,-1739.4849999999994,-1741.5189999999996,-1743.5219999999995,-1745.3709999999994,-1748.2539999999995,-1750.0649999999994,-1751.8909999999994,-1753.5039999999995,-1755.8069999999996,-1757.6689999999996,-1759.4999999999995,-1761.2929999999994,-1763.2869999999994,-1764.7269999999994,-1766.5279999999993,-1768.1479999999992,-1769.6779999999992,-1771.7959999999991,-1774.2159999999992,-1775.9279999999992,-1777.797999999999,-1779.263999999999,-1781.386999999999,-1782.936999999999,-1784.889999999999,-1786.638999999999,-1788.302999999999,-1789.748999999999,-1791.6959999999988,-1793.1439999999989,-1794.927999999999,-1797.266999999999,-1799.044999999999,-1800.6639999999989,-1803.1829999999989,-1804.911999999999,-1806.795999999999,-1808.7009999999989,-1810.217999999999,-1812.353999999999,-1813.7699999999988],\"type\":\"scatter\"}],                        {\"template\":{\"data\":{\"bar\":[{\"error_x\":{\"color\":\"#2a3f5f\"},\"error_y\":{\"color\":\"#2a3f5f\"},\"marker\":{\"line\":{\"color\":\"#E5ECF6\",\"width\":0.5},\"pattern\":{\"fillmode\":\"overlay\",\"size\":10,\"solidity\":0.2}},\"type\":\"bar\"}],\"barpolar\":[{\"marker\":{\"line\":{\"color\":\"#E5ECF6\",\"width\":0.5},\"pattern\":{\"fillmode\":\"overlay\",\"size\":10,\"solidity\":0.2}},\"type\":\"barpolar\"}],\"carpet\":[{\"aaxis\":{\"endlinecolor\":\"#2a3f5f\",\"gridcolor\":\"white\",\"linecolor\":\"white\",\"minorgridcolor\":\"white\",\"startlinecolor\":\"#2a3f5f\"},\"baxis\":{\"endlinecolor\":\"#2a3f5f\",\"gridcolor\":\"white\",\"linecolor\":\"white\",\"minorgridcolor\":\"white\",\"startlinecolor\":\"#2a3f5f\"},\"type\":\"carpet\"}],\"choropleth\":[{\"colorbar\":{\"outlinewidth\":0,\"ticks\":\"\"},\"type\":\"choropleth\"}],\"contour\":[{\"colorbar\":{\"outlinewidth\":0,\"ticks\":\"\"},\"colorscale\":[[0.0,\"#0d0887\"],[0.1111111111111111,\"#46039f\"],[0.2222222222222222,\"#7201a8\"],[0.3333333333333333,\"#9c179e\"],[0.4444444444444444,\"#bd3786\"],[0.5555555555555556,\"#d8576b\"],[0.6666666666666666,\"#ed7953\"],[0.7777777777777778,\"#fb9f3a\"],[0.8888888888888888,\"#fdca26\"],[1.0,\"#f0f921\"]],\"type\":\"contour\"}],\"contourcarpet\":[{\"colorbar\":{\"outlinewidth\":0,\"ticks\":\"\"},\"type\":\"contourcarpet\"}],\"heatmap\":[{\"colorbar\":{\"outlinewidth\":0,\"ticks\":\"\"},\"colorscale\":[[0.0,\"#0d0887\"],[0.1111111111111111,\"#46039f\"],[0.2222222222222222,\"#7201a8\"],[0.3333333333333333,\"#9c179e\"],[0.4444444444444444,\"#bd3786\"],[0.5555555555555556,\"#d8576b\"],[0.6666666666666666,\"#ed7953\"],[0.7777777777777778,\"#fb9f3a\"],[0.8888888888888888,\"#fdca26\"],[1.0,\"#f0f921\"]],\"type\":\"heatmap\"}],\"heatmapgl\":[{\"colorbar\":{\"outlinewidth\":0,\"ticks\":\"\"},\"colorscale\":[[0.0,\"#0d0887\"],[0.1111111111111111,\"#46039f\"],[0.2222222222222222,\"#7201a8\"],[0.3333333333333333,\"#9c179e\"],[0.4444444444444444,\"#bd3786\"],[0.5555555555555556,\"#d8576b\"],[0.6666666666666666,\"#ed7953\"],[0.7777777777777778,\"#fb9f3a\"],[0.8888888888888888,\"#fdca26\"],[1.0,\"#f0f921\"]],\"type\":\"heatmapgl\"}],\"histogram\":[{\"marker\":{\"pattern\":{\"fillmode\":\"overlay\",\"size\":10,\"solidity\":0.2}},\"type\":\"histogram\"}],\"histogram2d\":[{\"colorbar\":{\"outlinewidth\":0,\"ticks\":\"\"},\"colorscale\":[[0.0,\"#0d0887\"],[0.1111111111111111,\"#46039f\"],[0.2222222222222222,\"#7201a8\"],[0.3333333333333333,\"#9c179e\"],[0.4444444444444444,\"#bd3786\"],[0.5555555555555556,\"#d8576b\"],[0.6666666666666666,\"#ed7953\"],[0.7777777777777778,\"#fb9f3a\"],[0.8888888888888888,\"#fdca26\"],[1.0,\"#f0f921\"]],\"type\":\"histogram2d\"}],\"histogram2dcontour\":[{\"colorbar\":{\"outlinewidth\":0,\"ticks\":\"\"},\"colorscale\":[[0.0,\"#0d0887\"],[0.1111111111111111,\"#46039f\"],[0.2222222222222222,\"#7201a8\"],[0.3333333333333333,\"#9c179e\"],[0.4444444444444444,\"#bd3786\"],[0.5555555555555556,\"#d8576b\"],[0.6666666666666666,\"#ed7953\"],[0.7777777777777778,\"#fb9f3a\"],[0.8888888888888888,\"#fdca26\"],[1.0,\"#f0f921\"]],\"type\":\"histogram2dcontour\"}],\"mesh3d\":[{\"colorbar\":{\"outlinewidth\":0,\"ticks\":\"\"},\"type\":\"mesh3d\"}],\"parcoords\":[{\"line\":{\"colorbar\":{\"outlinewidth\":0,\"ticks\":\"\"}},\"type\":\"parcoords\"}],\"pie\":[{\"automargin\":true,\"type\":\"pie\"}],\"scatter\":[{\"marker\":{\"colorbar\":{\"outlinewidth\":0,\"ticks\":\"\"}},\"type\":\"scatter\"}],\"scatter3d\":[{\"line\":{\"colorbar\":{\"outlinewidth\":0,\"ticks\":\"\"}},\"marker\":{\"colorbar\":{\"outlinewidth\":0,\"ticks\":\"\"}},\"type\":\"scatter3d\"}],\"scattercarpet\":[{\"marker\":{\"colorbar\":{\"outlinewidth\":0,\"ticks\":\"\"}},\"type\":\"scattercarpet\"}],\"scattergeo\":[{\"marker\":{\"colorbar\":{\"outlinewidth\":0,\"ticks\":\"\"}},\"type\":\"scattergeo\"}],\"scattergl\":[{\"marker\":{\"colorbar\":{\"outlinewidth\":0,\"ticks\":\"\"}},\"type\":\"scattergl\"}],\"scattermapbox\":[{\"marker\":{\"colorbar\":{\"outlinewidth\":0,\"ticks\":\"\"}},\"type\":\"scattermapbox\"}],\"scatterpolar\":[{\"marker\":{\"colorbar\":{\"outlinewidth\":0,\"ticks\":\"\"}},\"type\":\"scatterpolar\"}],\"scatterpolargl\":[{\"marker\":{\"colorbar\":{\"outlinewidth\":0,\"ticks\":\"\"}},\"type\":\"scatterpolargl\"}],\"scatterternary\":[{\"marker\":{\"colorbar\":{\"outlinewidth\":0,\"ticks\":\"\"}},\"type\":\"scatterternary\"}],\"surface\":[{\"colorbar\":{\"outlinewidth\":0,\"ticks\":\"\"},\"colorscale\":[[0.0,\"#0d0887\"],[0.1111111111111111,\"#46039f\"],[0.2222222222222222,\"#7201a8\"],[0.3333333333333333,\"#9c179e\"],[0.4444444444444444,\"#bd3786\"],[0.5555555555555556,\"#d8576b\"],[0.6666666666666666,\"#ed7953\"],[0.7777777777777778,\"#fb9f3a\"],[0.8888888888888888,\"#fdca26\"],[1.0,\"#f0f921\"]],\"type\":\"surface\"}],\"table\":[{\"cells\":{\"fill\":{\"color\":\"#EBF0F8\"},\"line\":{\"color\":\"white\"}},\"header\":{\"fill\":{\"color\":\"#C8D4E3\"},\"line\":{\"color\":\"white\"}},\"type\":\"table\"}]},\"layout\":{\"annotationdefaults\":{\"arrowcolor\":\"#2a3f5f\",\"arrowhead\":0,\"arrowwidth\":1},\"autotypenumbers\":\"strict\",\"coloraxis\":{\"colorbar\":{\"outlinewidth\":0,\"ticks\":\"\"}},\"colorscale\":{\"diverging\":[[0,\"#8e0152\"],[0.1,\"#c51b7d\"],[0.2,\"#de77ae\"],[0.3,\"#f1b6da\"],[0.4,\"#fde0ef\"],[0.5,\"#f7f7f7\"],[0.6,\"#e6f5d0\"],[0.7,\"#b8e186\"],[0.8,\"#7fbc41\"],[0.9,\"#4d9221\"],[1,\"#276419\"]],\"sequential\":[[0.0,\"#0d0887\"],[0.1111111111111111,\"#46039f\"],[0.2222222222222222,\"#7201a8\"],[0.3333333333333333,\"#9c179e\"],[0.4444444444444444,\"#bd3786\"],[0.5555555555555556,\"#d8576b\"],[0.6666666666666666,\"#ed7953\"],[0.7777777777777778,\"#fb9f3a\"],[0.8888888888888888,\"#fdca26\"],[1.0,\"#f0f921\"]],\"sequentialminus\":[[0.0,\"#0d0887\"],[0.1111111111111111,\"#46039f\"],[0.2222222222222222,\"#7201a8\"],[0.3333333333333333,\"#9c179e\"],[0.4444444444444444,\"#bd3786\"],[0.5555555555555556,\"#d8576b\"],[0.6666666666666666,\"#ed7953\"],[0.7777777777777778,\"#fb9f3a\"],[0.8888888888888888,\"#fdca26\"],[1.0,\"#f0f921\"]]},\"colorway\":[\"#636efa\",\"#EF553B\",\"#00cc96\",\"#ab63fa\",\"#FFA15A\",\"#19d3f3\",\"#FF6692\",\"#B6E880\",\"#FF97FF\",\"#FECB52\"],\"font\":{\"color\":\"#2a3f5f\"},\"geo\":{\"bgcolor\":\"white\",\"lakecolor\":\"white\",\"landcolor\":\"#E5ECF6\",\"showlakes\":true,\"showland\":true,\"subunitcolor\":\"white\"},\"hoverlabel\":{\"align\":\"left\"},\"hovermode\":\"closest\",\"mapbox\":{\"style\":\"light\"},\"paper_bgcolor\":\"white\",\"plot_bgcolor\":\"#E5ECF6\",\"polar\":{\"angularaxis\":{\"gridcolor\":\"white\",\"linecolor\":\"white\",\"ticks\":\"\"},\"bgcolor\":\"#E5ECF6\",\"radialaxis\":{\"gridcolor\":\"white\",\"linecolor\":\"white\",\"ticks\":\"\"}},\"scene\":{\"xaxis\":{\"backgroundcolor\":\"#E5ECF6\",\"gridcolor\":\"white\",\"gridwidth\":2,\"linecolor\":\"white\",\"showbackground\":true,\"ticks\":\"\",\"zerolinecolor\":\"white\"},\"yaxis\":{\"backgroundcolor\":\"#E5ECF6\",\"gridcolor\":\"white\",\"gridwidth\":2,\"linecolor\":\"white\",\"showbackground\":true,\"ticks\":\"\",\"zerolinecolor\":\"white\"},\"zaxis\":{\"backgroundcolor\":\"#E5ECF6\",\"gridcolor\":\"white\",\"gridwidth\":2,\"linecolor\":\"white\",\"showbackground\":true,\"ticks\":\"\",\"zerolinecolor\":\"white\"}},\"shapedefaults\":{\"line\":{\"color\":\"#2a3f5f\"}},\"ternary\":{\"aaxis\":{\"gridcolor\":\"white\",\"linecolor\":\"white\",\"ticks\":\"\"},\"baxis\":{\"gridcolor\":\"white\",\"linecolor\":\"white\",\"ticks\":\"\"},\"bgcolor\":\"#E5ECF6\",\"caxis\":{\"gridcolor\":\"white\",\"linecolor\":\"white\",\"ticks\":\"\"}},\"title\":{\"x\":0.05},\"xaxis\":{\"automargin\":true,\"gridcolor\":\"white\",\"linecolor\":\"white\",\"ticks\":\"\",\"title\":{\"standoff\":15},\"zerolinecolor\":\"white\",\"zerolinewidth\":2},\"yaxis\":{\"automargin\":true,\"gridcolor\":\"white\",\"linecolor\":\"white\",\"ticks\":\"\",\"title\":{\"standoff\":15},\"zerolinecolor\":\"white\",\"zerolinewidth\":2}}},\"font\":{\"family\":\"Courier New, monospace\",\"color\":\"RebeccaPurple\"},\"title\":{\"text\":\"Sum of reward for each episode(averaged with each 10 episodes) ACUMULATED\"},\"xaxis\":{\"title\":{\"text\":\"Number of episodes(averaged with each 10 episodes)\"}},\"yaxis\":{\"title\":{\"text\":\"Sum of rewards during episode\"}},\"legend\":{\"title\":{\"text\":\"Legend Title\"}}},                        {\"responsive\": true}                    ).then(function(){\n",
              "                            \n",
              "var gd = document.getElementById('82a2f416-7592-480f-a1e2-17c29d8cab8f');\n",
              "var x = new MutationObserver(function (mutations, observer) {{\n",
              "        var display = window.getComputedStyle(gd).display;\n",
              "        if (!display || display === 'none') {{\n",
              "            console.log([gd, 'removed!']);\n",
              "            Plotly.purge(gd);\n",
              "            observer.disconnect();\n",
              "        }}\n",
              "}});\n",
              "\n",
              "// Listen for the removal of the full notebook cells\n",
              "var notebookContainer = gd.closest('#notebook-container');\n",
              "if (notebookContainer) {{\n",
              "    x.observe(notebookContainer, {childList: true});\n",
              "}}\n",
              "\n",
              "// Listen for the clearing of the current output cell\n",
              "var outputEl = gd.closest('.output');\n",
              "if (outputEl) {{\n",
              "    x.observe(outputEl, {childList: true});\n",
              "}}\n",
              "\n",
              "                        })                };                            </script>        </div>\n",
              "</body>\n",
              "</html>"
            ]
          },
          "metadata": {}
        }
      ]
    },
    {
      "cell_type": "markdown",
      "source": [
        "### World2m"
      ],
      "metadata": {
        "id": "cLI7kwmFQJRa"
      }
    },
    {
      "cell_type": "code",
      "source": [
        "printMap(w2m)"
      ],
      "metadata": {
        "colab": {
          "base_uri": "https://localhost:8080/"
        },
        "id": "jYT9QmSuPVoO",
        "outputId": "25af10da-9f66-4e25-fdf8-40641ca19342"
      },
      "execution_count": 41,
      "outputs": [
        {
          "output_type": "stream",
          "name": "stdout",
          "text": [
            "[ O  O  O  O  O  O  O  O  O  O \n",
            " O  O  O  O  O  O  O  O  O  O \n",
            " O  O  X  O  O  O  O  O  O  O \n",
            " O  T  X  O  O  O  O  O  O  O \n",
            " O  O  O  O  O  O  X  O  O  O \n",
            " O  X  X  O  O  O  O  O  O  O \n",
            " O  O  O  O  O  O  X  O  O  O \n",
            " O  O  O  O  O  X  O  X  O  O \n",
            " O  O  O  O  O  O  T  O  X  O \n",
            " O  O  O  O  O  O  O  O  O  F ]\n",
            "\n"
          ]
        }
      ]
    },
    {
      "cell_type": "markdown",
      "source": [
        "#### SARSA"
      ],
      "metadata": {
        "id": "qb5EgqDDQlh1"
      }
    },
    {
      "cell_type": "code",
      "source": [
        "agent_w2m_sarsa = Agent(w2m, (0, 0))\n",
        "Q_w2m_sarsa, rewards_w2m_sarsa = sarsa(agent_w2m_sarsa,init_state = (0,0), alpha = 0.5,gamma = 0.9 , epsilon = 0.1 , max_iterations =10000,debug = False)\n",
        "move_with_value_function(agent_w2m_sarsa,Q_w2m_sarsa, max_steps = 100)"
      ],
      "metadata": {
        "colab": {
          "base_uri": "https://localhost:8080/"
        },
        "id": "lVThmpxc9LHB",
        "outputId": "cd5bf96e-f93c-4c6f-80c0-62adfbf14aef"
      },
      "execution_count": 42,
      "outputs": [
        {
          "output_type": "stream",
          "name": "stdout",
          "text": [
            "Initial S: (0, 0) --(A: (1, 0) Abajo ) -->\n",
            "Now in S: (1, 0) --(A: (1, 0) Abajo ) -->\n",
            "Now in S: (2, 0) --(A: (0, 1) Derecha ) -->\n",
            "Now in S: (2, 1) --(A: (1, 0) Abajo ) -->\n",
            "Now in S: (8, 6) --(A: (1, 0) Abajo ) -->\n",
            "Now in S: (9, 6) --(A: (0, 1) Derecha ) -->\n",
            "Now in S: (9, 7) --(A: (0, 1) Derecha ) -->\n",
            "Now in S: (9, 8) --(A: (0, 1) Derecha ) -->\n",
            "Now in S: (9, 9) --(A: (1, 0) Abajo ) -->\n",
            "END:  8 steps.\n"
          ]
        },
        {
          "output_type": "execute_result",
          "data": {
            "text/plain": [
              "8"
            ]
          },
          "metadata": {},
          "execution_count": 42
        }
      ]
    },
    {
      "cell_type": "markdown",
      "source": [
        "#### Q-Learning"
      ],
      "metadata": {
        "id": "LvrFUTzlQi7p"
      }
    },
    {
      "cell_type": "code",
      "source": [
        "agent_w2m_ql = Agent(w2m, (0, 0))\n",
        "Q_w2m_ql, rewards_w2m_ql = qlearning(agent_w2m_ql,init_state = (0,0), alpha = 0.5,gamma = 0.9 ,  max_iterations =10000,debug = False)\n",
        "move_with_value_function(agent_w2m_ql,Q_w2m_ql, max_steps = 100)"
      ],
      "metadata": {
        "colab": {
          "base_uri": "https://localhost:8080/"
        },
        "id": "ms73_wQYOG7f",
        "outputId": "46aabf03-f54f-438d-8257-a2b18daa88a2"
      },
      "execution_count": 43,
      "outputs": [
        {
          "output_type": "stream",
          "name": "stdout",
          "text": [
            "Initial S: (0, 0) --(A: (0, 1) Derecha ) -->\n",
            "Now in S: (0, 1) --(A: (1, 0) Abajo ) -->\n",
            "Now in S: (1, 1) --(A: (1, 0) Abajo ) -->\n",
            "Now in S: (2, 1) --(A: (1, 0) Abajo ) -->\n",
            "Now in S: (8, 6) --(A: (1, 0) Abajo ) -->\n",
            "Now in S: (9, 6) --(A: (0, 1) Derecha ) -->\n",
            "Now in S: (9, 7) --(A: (0, 1) Derecha ) -->\n",
            "Now in S: (9, 8) --(A: (0, 1) Derecha ) -->\n",
            "Now in S: (9, 9) --(A: (-1, 0) Arriba ) -->\n",
            "END:  8 steps.\n"
          ]
        },
        {
          "output_type": "execute_result",
          "data": {
            "text/plain": [
              "8"
            ]
          },
          "metadata": {},
          "execution_count": 43
        }
      ]
    },
    {
      "cell_type": "markdown",
      "source": [
        "#### **Rendimiento**"
      ],
      "metadata": {
        "id": "UMuILq0FpinJ"
      }
    },
    {
      "cell_type": "code",
      "source": [
        "plot_performance(rewards_w2m_sarsa, rewards_w2m_ql, size = 10000,mean_each_n = 10)"
      ],
      "metadata": {
        "colab": {
          "base_uri": "https://localhost:8080/",
          "height": 542
        },
        "id": "QaTUpAkroa2R",
        "outputId": "b6a0a00b-8c6b-4a5d-c23f-d188d011fb1f"
      },
      "execution_count": 44,
      "outputs": [
        {
          "output_type": "display_data",
          "data": {
            "text/html": [
              "<html>\n",
              "<head><meta charset=\"utf-8\" /></head>\n",
              "<body>\n",
              "    <div>            <script src=\"https://cdnjs.cloudflare.com/ajax/libs/mathjax/2.7.5/MathJax.js?config=TeX-AMS-MML_SVG\"></script><script type=\"text/javascript\">if (window.MathJax) {MathJax.Hub.Config({SVG: {font: \"STIX-Web\"}});}</script>                <script type=\"text/javascript\">window.PlotlyConfig = {MathJaxConfig: 'local'};</script>\n",
              "        <script src=\"https://cdn.plot.ly/plotly-2.8.3.min.js\"></script>                <div id=\"e73fa0ed-66c0-4752-b547-e874bda0dd2f\" class=\"plotly-graph-div\" style=\"height:525px; width:100%;\"></div>            <script type=\"text/javascript\">                                    window.PLOTLYENV=window.PLOTLYENV || {};                                    if (document.getElementById(\"e73fa0ed-66c0-4752-b547-e874bda0dd2f\")) {                    Plotly.newPlot(                        \"e73fa0ed-66c0-4752-b547-e874bda0dd2f\",                        [{\"mode\":\"lines+markers\",\"name\":\"SARSA\",\"x\":[0,1,2,3,4,5,6,7,8,9,10,11,12,13,14,15,16,17,18,19,20,21,22,23,24,25,26,27,28,29,30,31,32,33,34,35,36,37,38,39,40,41,42,43,44,45,46,47,48,49,50,51,52,53,54,55,56,57,58,59,60,61,62,63,64,65,66,67,68,69,70,71,72,73,74,75,76,77,78,79,80,81,82,83,84,85,86,87,88,89,90,91,92,93,94,95,96,97,98,99,100,101,102,103,104,105,106,107,108,109,110,111,112,113,114,115,116,117,118,119,120,121,122,123,124,125,126,127,128,129,130,131,132,133,134,135,136,137,138,139,140,141,142,143,144,145,146,147,148,149,150,151,152,153,154,155,156,157,158,159,160,161,162,163,164,165,166,167,168,169,170,171,172,173,174,175,176,177,178,179,180,181,182,183,184,185,186,187,188,189,190,191,192,193,194,195,196,197,198,199,200,201,202,203,204,205,206,207,208,209,210,211,212,213,214,215,216,217,218,219,220,221,222,223,224,225,226,227,228,229,230,231,232,233,234,235,236,237,238,239,240,241,242,243,244,245,246,247,248,249,250,251,252,253,254,255,256,257,258,259,260,261,262,263,264,265,266,267,268,269,270,271,272,273,274,275,276,277,278,279,280,281,282,283,284,285,286,287,288,289,290,291,292,293,294,295,296,297,298,299,300,301,302,303,304,305,306,307,308,309,310,311,312,313,314,315,316,317,318,319,320,321,322,323,324,325,326,327,328,329,330,331,332,333,334,335,336,337,338,339,340,341,342,343,344,345,346,347,348,349,350,351,352,353,354,355,356,357,358,359,360,361,362,363,364,365,366,367,368,369,370,371,372,373,374,375,376,377,378,379,380,381,382,383,384,385,386,387,388,389,390,391,392,393,394,395,396,397,398,399,400,401,402,403,404,405,406,407,408,409,410,411,412,413,414,415,416,417,418,419,420,421,422,423,424,425,426,427,428,429,430,431,432,433,434,435,436,437,438,439,440,441,442,443,444,445,446,447,448,449,450,451,452,453,454,455,456,457,458,459,460,461,462,463,464,465,466,467,468,469,470,471,472,473,474,475,476,477,478,479,480,481,482,483,484,485,486,487,488,489,490,491,492,493,494,495,496,497,498,499,500,501,502,503,504,505,506,507,508,509,510,511,512,513,514,515,516,517,518,519,520,521,522,523,524,525,526,527,528,529,530,531,532,533,534,535,536,537,538,539,540,541,542,543,544,545,546,547,548,549,550,551,552,553,554,555,556,557,558,559,560,561,562,563,564,565,566,567,568,569,570,571,572,573,574,575,576,577,578,579,580,581,582,583,584,585,586,587,588,589,590,591,592,593,594,595,596,597,598,599,600,601,602,603,604,605,606,607,608,609,610,611,612,613,614,615,616,617,618,619,620,621,622,623,624,625,626,627,628,629,630,631,632,633,634,635,636,637,638,639,640,641,642,643,644,645,646,647,648,649,650,651,652,653,654,655,656,657,658,659,660,661,662,663,664,665,666,667,668,669,670,671,672,673,674,675,676,677,678,679,680,681,682,683,684,685,686,687,688,689,690,691,692,693,694,695,696,697,698,699,700,701,702,703,704,705,706,707,708,709,710,711,712,713,714,715,716,717,718,719,720,721,722,723,724,725,726,727,728,729,730,731,732,733,734,735,736,737,738,739,740,741,742,743,744,745,746,747,748,749,750,751,752,753,754,755,756,757,758,759,760,761,762,763,764,765,766,767,768,769,770,771,772,773,774,775,776,777,778,779,780,781,782,783,784,785,786,787,788,789,790,791,792,793,794,795,796,797,798,799,800,801,802,803,804,805,806,807,808,809,810,811,812,813,814,815,816,817,818,819,820,821,822,823,824,825,826,827,828,829,830,831,832,833,834,835,836,837,838,839,840,841,842,843,844,845,846,847,848,849,850,851,852,853,854,855,856,857,858,859,860,861,862,863,864,865,866,867,868,869,870,871,872,873,874,875,876,877,878,879,880,881,882,883,884,885,886,887,888,889,890,891,892,893,894,895,896,897,898,899,900,901,902,903,904,905,906,907,908,909,910,911,912,913,914,915,916,917,918,919,920,921,922,923,924,925,926,927,928,929,930,931,932,933,934,935,936,937,938,939,940,941,942,943,944,945,946,947,948,949,950,951,952,953,954,955,956,957,958,959,960,961,962,963,964,965,966,967,968,969,970,971,972,973,974,975,976,977,978,979,980,981,982,983,984,985,986,987,988,989,990,991,992,993,994,995,996,997,998,999],\"y\":[-14.88,9.223372036854774e+16,3.6893488147419104e+17,5.534023222112865e+17,9.223372036854776e+17,9.223372036854776e+17,9.223372036854776e+17,9.223372036854776e+17,8.301034833169298e+17,7.378697629483821e+17,8.301034833169298e+17,8.301034833169298e+17,7.378697629483821e+17,9.223372036854776e+17,9.223372036854776e+17,9.223372036854776e+17,8.301034833169298e+17,8.301034833169298e+17,8.301034833169298e+17,9.223372036854776e+17,8.301034833169298e+17,9.223372036854776e+17,8.301034833169298e+17,8.301034833169298e+17,7.378697629483821e+17,9.223372036854776e+17,8.301034833169298e+17,8.301034833169298e+17,7.378697629483821e+17,8.301034833169298e+17,7.378697629483821e+17,7.378697629483821e+17,9.223372036854776e+17,8.301034833169298e+17,9.223372036854776e+17,9.223372036854776e+17,8.301034833169298e+17,9.223372036854776e+17,9.223372036854776e+17,8.301034833169298e+17,8.301034833169298e+17,8.301034833169298e+17,9.223372036854776e+17,8.301034833169298e+17,9.223372036854776e+17,9.223372036854776e+17,9.223372036854776e+17,9.223372036854776e+17,7.378697629483821e+17,9.223372036854776e+17,8.301034833169298e+17,8.301034833169298e+17,9.223372036854776e+17,8.301034833169298e+17,8.301034833169298e+17,8.301034833169298e+17,9.223372036854776e+17,9.223372036854776e+17,9.223372036854776e+17,9.223372036854776e+17,8.301034833169298e+17,8.301034833169298e+17,9.223372036854776e+17,7.378697629483821e+17,8.301034833169298e+17,8.301034833169298e+17,9.223372036854776e+17,9.223372036854776e+17,8.301034833169298e+17,9.223372036854776e+17,9.223372036854776e+17,8.301034833169298e+17,9.223372036854776e+17,9.223372036854776e+17,9.223372036854776e+17,9.223372036854776e+17,9.223372036854776e+17,9.223372036854776e+17,9.223372036854776e+17,9.223372036854776e+17,9.223372036854776e+17,5.534023222112865e+17,9.223372036854776e+17,9.223372036854776e+17,9.223372036854776e+17,9.223372036854776e+17,9.223372036854776e+17,7.378697629483821e+17,8.301034833169298e+17,8.301034833169298e+17,9.223372036854776e+17,9.223372036854776e+17,9.223372036854776e+17,8.301034833169298e+17,8.301034833169298e+17,9.223372036854776e+17,9.223372036854776e+17,8.301034833169298e+17,7.378697629483821e+17,8.301034833169298e+17,8.301034833169298e+17,8.301034833169298e+17,9.223372036854776e+17,9.223372036854776e+17,8.301034833169298e+17,9.223372036854776e+17,9.223372036854776e+17,9.223372036854776e+17,9.223372036854776e+17,7.378697629483821e+17,8.301034833169298e+17,8.301034833169298e+17,7.378697629483821e+17,9.223372036854776e+17,9.223372036854776e+17,9.223372036854776e+17,8.301034833169298e+17,9.223372036854776e+17,8.301034833169298e+17,9.223372036854776e+17,8.301034833169298e+17,8.301034833169298e+17,8.301034833169298e+17,7.378697629483821e+17,9.223372036854776e+17,9.223372036854776e+17,9.223372036854776e+17,9.223372036854776e+17,9.223372036854776e+17,9.223372036854776e+17,9.223372036854776e+17,7.378697629483821e+17,9.223372036854776e+17,9.223372036854776e+17,9.223372036854776e+17,8.301034833169298e+17,9.223372036854776e+17,7.378697629483821e+17,8.301034833169298e+17,9.223372036854776e+17,9.223372036854776e+17,8.301034833169298e+17,9.223372036854776e+17,5.534023222112865e+17,9.223372036854776e+17,9.223372036854776e+17,7.378697629483821e+17,9.223372036854776e+17,9.223372036854776e+17,9.223372036854776e+17,9.223372036854776e+17,9.223372036854776e+17,8.301034833169298e+17,9.223372036854776e+17,9.223372036854776e+17,8.301034833169298e+17,9.223372036854776e+17,9.223372036854776e+17,9.223372036854776e+17,9.223372036854776e+17,8.301034833169298e+17,9.223372036854776e+17,9.223372036854776e+17,9.223372036854776e+17,9.223372036854776e+17,9.223372036854776e+17,9.223372036854776e+17,8.301034833169298e+17,8.301034833169298e+17,9.223372036854776e+17,9.223372036854776e+17,9.223372036854776e+17,9.223372036854776e+17,6.456360425798342e+17,5.534023222112865e+17,9.223372036854776e+17,8.301034833169298e+17,8.301034833169298e+17,9.223372036854776e+17,9.223372036854776e+17,8.301034833169298e+17,8.301034833169298e+17,5.534023222112865e+17,7.378697629483821e+17,8.301034833169298e+17,9.223372036854776e+17,6.456360425798342e+17,8.301034833169298e+17,7.378697629483821e+17,9.223372036854776e+17,9.223372036854776e+17,9.223372036854776e+17,9.223372036854776e+17,8.301034833169298e+17,9.223372036854776e+17,9.223372036854776e+17,9.223372036854776e+17,9.223372036854776e+17,6.456360425798342e+17,9.223372036854776e+17,9.223372036854776e+17,8.301034833169298e+17,8.301034833169298e+17,8.301034833169298e+17,8.301034833169298e+17,9.223372036854776e+17,6.456360425798342e+17,7.378697629483821e+17,9.223372036854776e+17,9.223372036854776e+17,9.223372036854776e+17,9.223372036854776e+17,7.378697629483821e+17,9.223372036854776e+17,5.534023222112865e+17,8.301034833169298e+17,8.301034833169298e+17,9.223372036854776e+17,9.223372036854776e+17,8.301034833169298e+17,9.223372036854776e+17,9.223372036854776e+17,9.223372036854776e+17,9.223372036854776e+17,9.223372036854776e+17,9.223372036854776e+17,9.223372036854776e+17,9.223372036854776e+17,9.223372036854776e+17,9.223372036854776e+17,9.223372036854776e+17,9.223372036854776e+17,8.301034833169298e+17,7.378697629483821e+17,9.223372036854776e+17,9.223372036854776e+17,7.378697629483821e+17,9.223372036854776e+17,8.301034833169298e+17,9.223372036854776e+17,8.301034833169298e+17,9.223372036854776e+17,9.223372036854776e+17,8.301034833169298e+17,7.378697629483821e+17,9.223372036854776e+17,8.301034833169298e+17,8.301034833169298e+17,8.301034833169298e+17,9.223372036854776e+17,9.223372036854776e+17,9.223372036854776e+17,7.378697629483821e+17,9.223372036854776e+17,8.301034833169298e+17,9.223372036854776e+17,9.223372036854776e+17,9.223372036854776e+17,9.223372036854776e+17,8.301034833169298e+17,9.223372036854776e+17,9.223372036854776e+17,8.301034833169298e+17,8.301034833169298e+17,9.223372036854776e+17,9.223372036854776e+17,8.301034833169298e+17,9.223372036854776e+17,9.223372036854776e+17,8.301034833169298e+17,8.301034833169298e+17,9.223372036854776e+17,9.223372036854776e+17,9.223372036854776e+17,9.223372036854776e+17,9.223372036854776e+17,9.223372036854776e+17,8.301034833169298e+17,9.223372036854776e+17,9.223372036854776e+17,9.223372036854776e+17,8.301034833169298e+17,9.223372036854776e+17,9.223372036854776e+17,9.223372036854776e+17,9.223372036854776e+17,9.223372036854776e+17,9.223372036854776e+17,8.301034833169298e+17,9.223372036854776e+17,8.301034833169298e+17,9.223372036854776e+17,9.223372036854776e+17,9.223372036854776e+17,9.223372036854776e+17,8.301034833169298e+17,9.223372036854776e+17,7.378697629483821e+17,8.301034833169298e+17,9.223372036854776e+17,7.378697629483821e+17,9.223372036854776e+17,8.301034833169298e+17,8.301034833169298e+17,9.223372036854776e+17,9.223372036854776e+17,9.223372036854776e+17,9.223372036854776e+17,9.223372036854776e+17,9.223372036854776e+17,8.301034833169298e+17,9.223372036854776e+17,9.223372036854776e+17,9.223372036854776e+17,9.223372036854776e+17,9.223372036854776e+17,9.223372036854776e+17,9.223372036854776e+17,9.223372036854776e+17,9.223372036854776e+17,9.223372036854776e+17,7.378697629483821e+17,8.301034833169298e+17,8.301034833169298e+17,8.301034833169298e+17,8.301034833169298e+17,9.223372036854776e+17,7.378697629483821e+17,6.456360425798342e+17,8.301034833169298e+17,9.223372036854776e+17,9.223372036854776e+17,9.223372036854776e+17,9.223372036854776e+17,9.223372036854776e+17,9.223372036854776e+17,9.223372036854776e+17,9.223372036854776e+17,7.378697629483821e+17,7.378697629483821e+17,9.223372036854776e+17,9.223372036854776e+17,9.223372036854776e+17,9.223372036854776e+17,9.223372036854776e+17,9.223372036854776e+17,9.223372036854776e+17,9.223372036854776e+17,9.223372036854776e+17,9.223372036854776e+17,8.301034833169298e+17,9.223372036854776e+17,9.223372036854776e+17,9.223372036854776e+17,7.378697629483821e+17,8.301034833169298e+17,9.223372036854776e+17,9.223372036854776e+17,8.301034833169298e+17,9.223372036854776e+17,9.223372036854776e+17,9.223372036854776e+17,9.223372036854776e+17,8.301034833169298e+17,9.223372036854776e+17,7.378697629483821e+17,8.301034833169298e+17,8.301034833169298e+17,7.378697629483821e+17,9.223372036854776e+17,9.223372036854776e+17,8.301034833169298e+17,8.301034833169298e+17,9.223372036854776e+17,8.301034833169298e+17,8.301034833169298e+17,8.301034833169298e+17,9.223372036854776e+17,9.223372036854776e+17,9.223372036854776e+17,7.378697629483821e+17,8.301034833169298e+17,9.223372036854776e+17,9.223372036854776e+17,9.223372036854776e+17,8.301034833169298e+17,8.301034833169298e+17,8.301034833169298e+17,8.301034833169298e+17,9.223372036854776e+17,9.223372036854776e+17,8.301034833169298e+17,9.223372036854776e+17,9.223372036854776e+17,9.223372036854776e+17,9.223372036854776e+17,9.223372036854776e+17,8.301034833169298e+17,9.223372036854776e+17,7.378697629483821e+17,8.301034833169298e+17,9.223372036854776e+17,9.223372036854776e+17,9.223372036854776e+17,9.223372036854776e+17,9.223372036854776e+17,9.223372036854776e+17,8.301034833169298e+17,9.223372036854776e+17,9.223372036854776e+17,9.223372036854776e+17,8.301034833169298e+17,8.301034833169298e+17,8.301034833169298e+17,9.223372036854776e+17,9.223372036854776e+17,9.223372036854776e+17,9.223372036854776e+17,9.223372036854776e+17,9.223372036854776e+17,9.223372036854776e+17,9.223372036854776e+17,9.223372036854776e+17,8.301034833169298e+17,9.223372036854776e+17,9.223372036854776e+17,8.301034833169298e+17,9.223372036854776e+17,9.223372036854776e+17,9.223372036854776e+17,9.223372036854776e+17,9.223372036854776e+17,8.301034833169298e+17,9.223372036854776e+17,9.223372036854776e+17,8.301034833169298e+17,9.223372036854776e+17,9.223372036854776e+17,9.223372036854776e+17,9.223372036854776e+17,8.301034833169298e+17,8.301034833169298e+17,9.223372036854776e+17,8.301034833169298e+17,9.223372036854776e+17,9.223372036854776e+17,9.223372036854776e+17,9.223372036854776e+17,8.301034833169298e+17,9.223372036854776e+17,9.223372036854776e+17,9.223372036854776e+17,9.223372036854776e+17,9.223372036854776e+17,9.223372036854776e+17,9.223372036854776e+17,9.223372036854776e+17,9.223372036854776e+17,9.223372036854776e+17,9.223372036854776e+17,9.223372036854776e+17,9.223372036854776e+17,9.223372036854776e+17,9.223372036854776e+17,7.378697629483821e+17,9.223372036854776e+17,8.301034833169298e+17,7.378697629483821e+17,7.378697629483821e+17,8.301034833169298e+17,9.223372036854776e+17,9.223372036854776e+17,9.223372036854776e+17,9.223372036854776e+17,7.378697629483821e+17,9.223372036854776e+17,9.223372036854776e+17,9.223372036854776e+17,9.223372036854776e+17,8.301034833169298e+17,7.378697629483821e+17,9.223372036854776e+17,8.301034833169298e+17,8.301034833169298e+17,7.378697629483821e+17,7.378697629483821e+17,7.378697629483821e+17,8.301034833169298e+17,9.223372036854776e+17,8.301034833169298e+17,8.301034833169298e+17,7.378697629483821e+17,8.301034833169298e+17,9.223372036854776e+17,7.378697629483821e+17,9.223372036854776e+17,9.223372036854776e+17,9.223372036854776e+17,9.223372036854776e+17,9.223372036854776e+17,9.223372036854776e+17,8.301034833169298e+17,8.301034833169298e+17,8.301034833169298e+17,9.223372036854776e+17,8.301034833169298e+17,9.223372036854776e+17,8.301034833169298e+17,9.223372036854776e+17,9.223372036854776e+17,8.301034833169298e+17,9.223372036854776e+17,9.223372036854776e+17,9.223372036854776e+17,8.301034833169298e+17,7.378697629483821e+17,9.223372036854776e+17,9.223372036854776e+17,9.223372036854776e+17,8.301034833169298e+17,9.223372036854776e+17,9.223372036854776e+17,9.223372036854776e+17,9.223372036854776e+17,9.223372036854776e+17,9.223372036854776e+17,9.223372036854776e+17,8.301034833169298e+17,8.301034833169298e+17,7.378697629483821e+17,8.301034833169298e+17,5.534023222112865e+17,7.378697629483821e+17,8.301034833169298e+17,9.223372036854776e+17,7.378697629483821e+17,9.223372036854776e+17,8.301034833169298e+17,9.223372036854776e+17,9.223372036854776e+17,9.223372036854776e+17,9.223372036854776e+17,7.378697629483821e+17,6.456360425798342e+17,9.223372036854776e+17,7.378697629483821e+17,8.301034833169298e+17,8.301034833169298e+17,9.223372036854776e+17,9.223372036854776e+17,8.301034833169298e+17,9.223372036854776e+17,9.223372036854776e+17,9.223372036854776e+17,9.223372036854776e+17,6.456360425798342e+17,9.223372036854776e+17,9.223372036854776e+17,8.301034833169298e+17,9.223372036854776e+17,9.223372036854776e+17,9.223372036854776e+17,9.223372036854776e+17,9.223372036854776e+17,7.378697629483821e+17,9.223372036854776e+17,8.301034833169298e+17,9.223372036854776e+17,8.301034833169298e+17,8.301034833169298e+17,9.223372036854776e+17,8.301034833169298e+17,9.223372036854776e+17,9.223372036854776e+17,7.378697629483821e+17,9.223372036854776e+17,9.223372036854776e+17,9.223372036854776e+17,9.223372036854776e+17,9.223372036854776e+17,9.223372036854776e+17,9.223372036854776e+17,9.223372036854776e+17,9.223372036854776e+17,9.223372036854776e+17,7.378697629483821e+17,9.223372036854776e+17,9.223372036854776e+17,9.223372036854776e+17,8.301034833169298e+17,9.223372036854776e+17,8.301034833169298e+17,9.223372036854776e+17,9.223372036854776e+17,9.223372036854776e+17,9.223372036854776e+17,9.223372036854776e+17,9.223372036854776e+17,9.223372036854776e+17,9.223372036854776e+17,9.223372036854776e+17,8.301034833169298e+17,9.223372036854776e+17,9.223372036854776e+17,8.301034833169298e+17,8.301034833169298e+17,8.301034833169298e+17,8.301034833169298e+17,9.223372036854776e+17,9.223372036854776e+17,9.223372036854776e+17,8.301034833169298e+17,8.301034833169298e+17,9.223372036854776e+17,9.223372036854776e+17,7.378697629483821e+17,8.301034833169298e+17,9.223372036854776e+17,9.223372036854776e+17,9.223372036854776e+17,9.223372036854776e+17,9.223372036854776e+17,7.378697629483821e+17,7.378697629483821e+17,9.223372036854776e+17,7.378697629483821e+17,8.301034833169298e+17,9.223372036854776e+17,9.223372036854776e+17,9.223372036854776e+17,8.301034833169298e+17,9.223372036854776e+17,9.223372036854776e+17,8.301034833169298e+17,8.301034833169298e+17,8.301034833169298e+17,9.223372036854776e+17,9.223372036854776e+17,8.301034833169298e+17,7.378697629483821e+17,8.301034833169298e+17,8.301034833169298e+17,9.223372036854776e+17,9.223372036854776e+17,9.223372036854776e+17,9.223372036854776e+17,7.378697629483821e+17,8.301034833169298e+17,7.378697629483821e+17,9.223372036854776e+17,8.301034833169298e+17,9.223372036854776e+17,9.223372036854776e+17,9.223372036854776e+17,8.301034833169298e+17,8.301034833169298e+17,9.223372036854776e+17,8.301034833169298e+17,9.223372036854776e+17,9.223372036854776e+17,7.378697629483821e+17,9.223372036854776e+17,9.223372036854776e+17,9.223372036854776e+17,9.223372036854776e+17,8.301034833169298e+17,9.223372036854776e+17,6.456360425798342e+17,7.378697629483821e+17,8.301034833169298e+17,8.301034833169298e+17,9.223372036854776e+17,9.223372036854776e+17,9.223372036854776e+17,9.223372036854776e+17,9.223372036854776e+17,9.223372036854776e+17,9.223372036854776e+17,8.301034833169298e+17,8.301034833169298e+17,8.301034833169298e+17,9.223372036854776e+17,8.301034833169298e+17,7.378697629483821e+17,9.223372036854776e+17,9.223372036854776e+17,9.223372036854776e+17,8.301034833169298e+17,4.611686018427388e+17,9.223372036854776e+17,9.223372036854776e+17,9.223372036854776e+17,8.301034833169298e+17,9.223372036854776e+17,9.223372036854776e+17,9.223372036854776e+17,9.223372036854776e+17,8.301034833169298e+17,9.223372036854776e+17,9.223372036854776e+17,9.223372036854776e+17,8.301034833169298e+17,9.223372036854776e+17,6.456360425798342e+17,9.223372036854776e+17,9.223372036854776e+17,9.223372036854776e+17,9.223372036854776e+17,9.223372036854776e+17,9.223372036854776e+17,8.301034833169298e+17,9.223372036854776e+17,8.301034833169298e+17,8.301034833169298e+17,9.223372036854776e+17,9.223372036854776e+17,9.223372036854776e+17,9.223372036854776e+17,8.301034833169298e+17,8.301034833169298e+17,9.223372036854776e+17,9.223372036854776e+17,9.223372036854776e+17,9.223372036854776e+17,7.378697629483821e+17,8.301034833169298e+17,8.301034833169298e+17,8.301034833169298e+17,8.301034833169298e+17,8.301034833169298e+17,9.223372036854776e+17,9.223372036854776e+17,9.223372036854776e+17,9.223372036854776e+17,8.301034833169298e+17,9.223372036854776e+17,6.456360425798342e+17,8.301034833169298e+17,8.301034833169298e+17,8.301034833169298e+17,7.378697629483821e+17,9.223372036854776e+17,8.301034833169298e+17,8.301034833169298e+17,7.378697629483821e+17,8.301034833169298e+17,8.301034833169298e+17,6.456360425798342e+17,9.223372036854776e+17,9.223372036854776e+17,9.223372036854776e+17,7.378697629483821e+17,9.223372036854776e+17,6.456360425798342e+17,9.223372036854776e+17,9.223372036854776e+17,8.301034833169298e+17,9.223372036854776e+17,8.301034833169298e+17,9.223372036854776e+17,8.301034833169298e+17,9.223372036854776e+17,9.223372036854776e+17,8.301034833169298e+17,9.223372036854776e+17,8.301034833169298e+17,8.301034833169298e+17,9.223372036854776e+17,9.223372036854776e+17,9.223372036854776e+17,9.223372036854776e+17,8.301034833169298e+17,8.301034833169298e+17,8.301034833169298e+17,9.223372036854776e+17,6.456360425798342e+17,9.223372036854776e+17,9.223372036854776e+17,8.301034833169298e+17,9.223372036854776e+17,9.223372036854776e+17,6.456360425798342e+17,8.301034833169298e+17,8.301034833169298e+17,8.301034833169298e+17,9.223372036854776e+17,9.223372036854776e+17,6.456360425798342e+17,8.301034833169298e+17,9.223372036854776e+17,9.223372036854776e+17,9.223372036854776e+17,9.223372036854776e+17,9.223372036854776e+17,9.223372036854776e+17,9.223372036854776e+17,8.301034833169298e+17,8.301034833169298e+17,9.223372036854776e+17,9.223372036854776e+17,9.223372036854776e+17,9.223372036854776e+17,7.378697629483821e+17,9.223372036854776e+17,8.301034833169298e+17,8.301034833169298e+17,8.301034833169298e+17,9.223372036854776e+17,9.223372036854776e+17,7.378697629483821e+17,9.223372036854776e+17,9.223372036854776e+17,8.301034833169298e+17,7.378697629483821e+17,7.378697629483821e+17,8.301034833169298e+17,9.223372036854776e+17,9.223372036854776e+17,9.223372036854776e+17,9.223372036854776e+17,9.223372036854776e+17,8.301034833169298e+17,9.223372036854776e+17,8.301034833169298e+17,9.223372036854776e+17,9.223372036854776e+17,9.223372036854776e+17,8.301034833169298e+17,7.378697629483821e+17,8.301034833169298e+17,8.301034833169298e+17,9.223372036854776e+17,8.301034833169298e+17,9.223372036854776e+17,7.378697629483821e+17,8.301034833169298e+17,7.378697629483821e+17,8.301034833169298e+17,9.223372036854776e+17,9.223372036854776e+17,9.223372036854776e+17,9.223372036854776e+17,8.301034833169298e+17,8.301034833169298e+17,9.223372036854776e+17,9.223372036854776e+17,8.301034833169298e+17,7.378697629483821e+17,9.223372036854776e+17,9.223372036854776e+17,9.223372036854776e+17,9.223372036854776e+17,8.301034833169298e+17,9.223372036854776e+17,9.223372036854776e+17,9.223372036854776e+17,8.301034833169298e+17,9.223372036854776e+17,9.223372036854776e+17,8.301034833169298e+17,9.223372036854776e+17,8.301034833169298e+17,9.223372036854776e+17,8.301034833169298e+17,9.223372036854776e+17,9.223372036854776e+17,8.301034833169298e+17,7.378697629483821e+17,9.223372036854776e+17,9.223372036854776e+17,9.223372036854776e+17,9.223372036854776e+17,9.223372036854776e+17,9.223372036854776e+17,8.301034833169298e+17,7.378697629483821e+17,8.301034833169298e+17,9.223372036854776e+17,8.301034833169298e+17,9.223372036854776e+17,8.301034833169298e+17,9.223372036854776e+17,9.223372036854776e+17,9.223372036854776e+17,9.223372036854776e+17,9.223372036854776e+17,9.223372036854776e+17,8.301034833169298e+17,9.223372036854776e+17,8.301034833169298e+17,9.223372036854776e+17,9.223372036854776e+17,7.378697629483821e+17,9.223372036854776e+17,7.378697629483821e+17,8.301034833169298e+17,9.223372036854776e+17,8.301034833169298e+17,8.301034833169298e+17,7.378697629483821e+17,8.301034833169298e+17,9.223372036854776e+17,8.301034833169298e+17,7.378697629483821e+17,9.223372036854776e+17,9.223372036854776e+17,9.223372036854776e+17,9.223372036854776e+17,8.301034833169298e+17,9.223372036854776e+17,7.378697629483821e+17,9.223372036854776e+17,9.223372036854776e+17,9.223372036854776e+17,8.301034833169298e+17,8.301034833169298e+17,6.456360425798342e+17,8.301034833169298e+17,8.301034833169298e+17,8.301034833169298e+17,9.223372036854776e+17,9.223372036854776e+17,9.223372036854776e+17,8.301034833169298e+17,9.223372036854776e+17,8.301034833169298e+17,9.223372036854776e+17,8.301034833169298e+17,9.223372036854776e+17,8.301034833169298e+17,9.223372036854776e+17,9.223372036854776e+17,8.301034833169298e+17,9.223372036854776e+17,9.223372036854776e+17,9.223372036854776e+17,9.223372036854776e+17,9.223372036854776e+17,7.378697629483821e+17,8.301034833169298e+17,8.301034833169298e+17,7.378697629483821e+17,9.223372036854776e+17,8.301034833169298e+17,8.301034833169298e+17,9.223372036854776e+17,8.301034833169298e+17,9.223372036854776e+17,8.301034833169298e+17,7.378697629483821e+17,8.301034833169298e+17,9.223372036854776e+17,8.301034833169298e+17,9.223372036854776e+17,8.301034833169298e+17,9.223372036854776e+17,9.223372036854776e+17,7.378697629483821e+17,9.223372036854776e+17,8.301034833169298e+17,9.223372036854776e+17,9.223372036854776e+17,8.301034833169298e+17,9.223372036854776e+17,9.223372036854776e+17,9.223372036854776e+17,9.223372036854776e+17,9.223372036854776e+17,9.223372036854776e+17,8.301034833169298e+17,9.223372036854776e+17,7.378697629483821e+17,9.223372036854776e+17,8.301034833169298e+17,9.223372036854776e+17,8.301034833169298e+17,8.301034833169298e+17,9.223372036854776e+17,7.378697629483821e+17,8.301034833169298e+17,9.223372036854776e+17,8.301034833169298e+17,9.223372036854776e+17,9.223372036854776e+17,9.223372036854776e+17,8.301034833169298e+17,9.223372036854776e+17,8.301034833169298e+17,9.223372036854776e+17,9.223372036854776e+17,9.223372036854776e+17,9.223372036854776e+17,9.223372036854776e+17,8.301034833169298e+17,9.223372036854776e+17,8.301034833169298e+17,9.223372036854776e+17,9.223372036854776e+17,9.223372036854776e+17,8.301034833169298e+17],\"type\":\"scatter\"},{\"mode\":\"lines+markers\",\"name\":\"Q-Learning\",\"x\":[0,1,2,3,4,5,6,7,8,9,10,11,12,13,14,15,16,17,18,19,20,21,22,23,24,25,26,27,28,29,30,31,32,33,34,35,36,37,38,39,40,41,42,43,44,45,46,47,48,49,50,51,52,53,54,55,56,57,58,59,60,61,62,63,64,65,66,67,68,69,70,71,72,73,74,75,76,77,78,79,80,81,82,83,84,85,86,87,88,89,90,91,92,93,94,95,96,97,98,99,100,101,102,103,104,105,106,107,108,109,110,111,112,113,114,115,116,117,118,119,120,121,122,123,124,125,126,127,128,129,130,131,132,133,134,135,136,137,138,139,140,141,142,143,144,145,146,147,148,149,150,151,152,153,154,155,156,157,158,159,160,161,162,163,164,165,166,167,168,169,170,171,172,173,174,175,176,177,178,179,180,181,182,183,184,185,186,187,188,189,190,191,192,193,194,195,196,197,198,199,200,201,202,203,204,205,206,207,208,209,210,211,212,213,214,215,216,217,218,219,220,221,222,223,224,225,226,227,228,229,230,231,232,233,234,235,236,237,238,239,240,241,242,243,244,245,246,247,248,249,250,251,252,253,254,255,256,257,258,259,260,261,262,263,264,265,266,267,268,269,270,271,272,273,274,275,276,277,278,279,280,281,282,283,284,285,286,287,288,289,290,291,292,293,294,295,296,297,298,299,300,301,302,303,304,305,306,307,308,309,310,311,312,313,314,315,316,317,318,319,320,321,322,323,324,325,326,327,328,329,330,331,332,333,334,335,336,337,338,339,340,341,342,343,344,345,346,347,348,349,350,351,352,353,354,355,356,357,358,359,360,361,362,363,364,365,366,367,368,369,370,371,372,373,374,375,376,377,378,379,380,381,382,383,384,385,386,387,388,389,390,391,392,393,394,395,396,397,398,399,400,401,402,403,404,405,406,407,408,409,410,411,412,413,414,415,416,417,418,419,420,421,422,423,424,425,426,427,428,429,430,431,432,433,434,435,436,437,438,439,440,441,442,443,444,445,446,447,448,449,450,451,452,453,454,455,456,457,458,459,460,461,462,463,464,465,466,467,468,469,470,471,472,473,474,475,476,477,478,479,480,481,482,483,484,485,486,487,488,489,490,491,492,493,494,495,496,497,498,499,500,501,502,503,504,505,506,507,508,509,510,511,512,513,514,515,516,517,518,519,520,521,522,523,524,525,526,527,528,529,530,531,532,533,534,535,536,537,538,539,540,541,542,543,544,545,546,547,548,549,550,551,552,553,554,555,556,557,558,559,560,561,562,563,564,565,566,567,568,569,570,571,572,573,574,575,576,577,578,579,580,581,582,583,584,585,586,587,588,589,590,591,592,593,594,595,596,597,598,599,600,601,602,603,604,605,606,607,608,609,610,611,612,613,614,615,616,617,618,619,620,621,622,623,624,625,626,627,628,629,630,631,632,633,634,635,636,637,638,639,640,641,642,643,644,645,646,647,648,649,650,651,652,653,654,655,656,657,658,659,660,661,662,663,664,665,666,667,668,669,670,671,672,673,674,675,676,677,678,679,680,681,682,683,684,685,686,687,688,689,690,691,692,693,694,695,696,697,698,699,700,701,702,703,704,705,706,707,708,709,710,711,712,713,714,715,716,717,718,719,720,721,722,723,724,725,726,727,728,729,730,731,732,733,734,735,736,737,738,739,740,741,742,743,744,745,746,747,748,749,750,751,752,753,754,755,756,757,758,759,760,761,762,763,764,765,766,767,768,769,770,771,772,773,774,775,776,777,778,779,780,781,782,783,784,785,786,787,788,789,790,791,792,793,794,795,796,797,798,799,800,801,802,803,804,805,806,807,808,809,810,811,812,813,814,815,816,817,818,819,820,821,822,823,824,825,826,827,828,829,830,831,832,833,834,835,836,837,838,839,840,841,842,843,844,845,846,847,848,849,850,851,852,853,854,855,856,857,858,859,860,861,862,863,864,865,866,867,868,869,870,871,872,873,874,875,876,877,878,879,880,881,882,883,884,885,886,887,888,889,890,891,892,893,894,895,896,897,898,899,900,901,902,903,904,905,906,907,908,909,910,911,912,913,914,915,916,917,918,919,920,921,922,923,924,925,926,927,928,929,930,931,932,933,934,935,936,937,938,939,940,941,942,943,944,945,946,947,948,949,950,951,952,953,954,955,956,957,958,959,960,961,962,963,964,965,966,967,968,969,970,971,972,973,974,975,976,977,978,979,980,981,982,983,984,985,986,987,988,989,990,991,992,993,994,995,996,997,998,999],\"y\":[-1.488,9223372036854774.0,3.68934881474191e+16,5.534023222112866e+16,9.223372036854776e+16,9.223372036854776e+16,9.223372036854776e+16,9.223372036854776e+16,8.301034833169298e+16,7.37869762948382e+16,8.301034833169298e+16,8.301034833169298e+16,7.37869762948382e+16,9.223372036854776e+16,9.223372036854776e+16,9.223372036854776e+16,8.301034833169298e+16,8.301034833169298e+16,8.301034833169298e+16,9.223372036854776e+16,8.301034833169298e+16,9.223372036854776e+16,8.301034833169298e+16,8.301034833169298e+16,7.37869762948382e+16,9.223372036854776e+16,8.301034833169298e+16,8.301034833169298e+16,7.37869762948382e+16,8.301034833169298e+16,7.37869762948382e+16,7.37869762948382e+16,9.223372036854776e+16,8.301034833169298e+16,9.223372036854776e+16,9.223372036854776e+16,8.301034833169298e+16,9.223372036854776e+16,9.223372036854776e+16,8.301034833169298e+16,8.301034833169298e+16,8.301034833169298e+16,9.223372036854776e+16,8.301034833169298e+16,9.223372036854776e+16,9.223372036854776e+16,9.223372036854776e+16,9.223372036854776e+16,7.37869762948382e+16,9.223372036854776e+16,8.301034833169298e+16,8.301034833169298e+16,9.223372036854776e+16,8.301034833169298e+16,8.301034833169298e+16,8.301034833169298e+16,9.223372036854776e+16,9.223372036854776e+16,9.223372036854776e+16,9.223372036854776e+16,8.301034833169298e+16,8.301034833169298e+16,9.223372036854776e+16,7.37869762948382e+16,8.301034833169298e+16,8.301034833169298e+16,9.223372036854776e+16,9.223372036854776e+16,8.301034833169298e+16,9.223372036854776e+16,9.223372036854776e+16,8.301034833169298e+16,9.223372036854776e+16,9.223372036854776e+16,9.223372036854776e+16,9.223372036854776e+16,9.223372036854776e+16,9.223372036854776e+16,9.223372036854776e+16,9.223372036854776e+16,9.223372036854776e+16,5.534023222112866e+16,9.223372036854776e+16,9.223372036854776e+16,9.223372036854776e+16,9.223372036854776e+16,9.223372036854776e+16,7.37869762948382e+16,8.301034833169298e+16,8.301034833169298e+16,9.223372036854776e+16,9.223372036854776e+16,9.223372036854776e+16,8.301034833169298e+16,8.301034833169298e+16,9.223372036854776e+16,9.223372036854776e+16,8.301034833169298e+16,7.37869762948382e+16,8.301034833169298e+16,8.301034833169298e+16,8.301034833169298e+16,9.223372036854776e+16,9.223372036854776e+16,8.301034833169298e+16,9.223372036854776e+16,9.223372036854776e+16,9.223372036854776e+16,9.223372036854776e+16,7.37869762948382e+16,8.301034833169298e+16,8.301034833169298e+16,7.37869762948382e+16,9.223372036854776e+16,9.223372036854776e+16,9.223372036854776e+16,8.301034833169298e+16,9.223372036854776e+16,8.301034833169298e+16,9.223372036854776e+16,8.301034833169298e+16,8.301034833169298e+16,8.301034833169298e+16,7.37869762948382e+16,9.223372036854776e+16,9.223372036854776e+16,9.223372036854776e+16,9.223372036854776e+16,9.223372036854776e+16,9.223372036854776e+16,9.223372036854776e+16,7.37869762948382e+16,9.223372036854776e+16,9.223372036854776e+16,9.223372036854776e+16,8.301034833169298e+16,9.223372036854776e+16,7.37869762948382e+16,8.301034833169298e+16,9.223372036854776e+16,9.223372036854776e+16,8.301034833169298e+16,9.223372036854776e+16,5.534023222112866e+16,9.223372036854776e+16,9.223372036854776e+16,7.37869762948382e+16,9.223372036854776e+16,9.223372036854776e+16,9.223372036854776e+16,9.223372036854776e+16,9.223372036854776e+16,8.301034833169298e+16,9.223372036854776e+16,9.223372036854776e+16,8.301034833169298e+16,9.223372036854776e+16,9.223372036854776e+16,9.223372036854776e+16,9.223372036854776e+16,8.301034833169298e+16,9.223372036854776e+16,9.223372036854776e+16,9.223372036854776e+16,9.223372036854776e+16,9.223372036854776e+16,9.223372036854776e+16,8.301034833169298e+16,8.301034833169298e+16,9.223372036854776e+16,9.223372036854776e+16,9.223372036854776e+16,9.223372036854776e+16,6.456360425798342e+16,5.534023222112866e+16,9.223372036854776e+16,8.301034833169298e+16,8.301034833169298e+16,9.223372036854776e+16,9.223372036854776e+16,8.301034833169298e+16,8.301034833169298e+16,5.534023222112866e+16,7.37869762948382e+16,8.301034833169298e+16,9.223372036854776e+16,6.456360425798342e+16,8.301034833169298e+16,7.37869762948382e+16,9.223372036854776e+16,9.223372036854776e+16,9.223372036854776e+16,9.223372036854776e+16,8.301034833169298e+16,9.223372036854776e+16,9.223372036854776e+16,9.223372036854776e+16,9.223372036854776e+16,6.456360425798342e+16,9.223372036854776e+16,9.223372036854776e+16,8.301034833169298e+16,8.301034833169298e+16,8.301034833169298e+16,8.301034833169298e+16,9.223372036854776e+16,6.456360425798342e+16,7.37869762948382e+16,9.223372036854776e+16,9.223372036854776e+16,9.223372036854776e+16,9.223372036854776e+16,7.37869762948382e+16,9.223372036854776e+16,5.534023222112866e+16,8.301034833169298e+16,8.301034833169298e+16,9.223372036854776e+16,9.223372036854776e+16,8.301034833169298e+16,9.223372036854776e+16,9.223372036854776e+16,9.223372036854776e+16,9.223372036854776e+16,9.223372036854776e+16,9.223372036854776e+16,9.223372036854776e+16,9.223372036854776e+16,9.223372036854776e+16,9.223372036854776e+16,9.223372036854776e+16,9.223372036854776e+16,8.301034833169298e+16,7.37869762948382e+16,9.223372036854776e+16,9.223372036854776e+16,7.37869762948382e+16,9.223372036854776e+16,8.301034833169298e+16,9.223372036854776e+16,8.301034833169298e+16,9.223372036854776e+16,9.223372036854776e+16,8.301034833169298e+16,7.37869762948382e+16,9.223372036854776e+16,8.301034833169298e+16,8.301034833169298e+16,8.301034833169298e+16,9.223372036854776e+16,9.223372036854776e+16,9.223372036854776e+16,7.37869762948382e+16,9.223372036854776e+16,8.301034833169298e+16,9.223372036854776e+16,9.223372036854776e+16,9.223372036854776e+16,9.223372036854776e+16,8.301034833169298e+16,9.223372036854776e+16,9.223372036854776e+16,8.301034833169298e+16,8.301034833169298e+16,9.223372036854776e+16,9.223372036854776e+16,8.301034833169298e+16,9.223372036854776e+16,9.223372036854776e+16,8.301034833169298e+16,8.301034833169298e+16,9.223372036854776e+16,9.223372036854776e+16,9.223372036854776e+16,9.223372036854776e+16,9.223372036854776e+16,9.223372036854776e+16,8.301034833169298e+16,9.223372036854776e+16,9.223372036854776e+16,9.223372036854776e+16,8.301034833169298e+16,9.223372036854776e+16,9.223372036854776e+16,9.223372036854776e+16,9.223372036854776e+16,9.223372036854776e+16,9.223372036854776e+16,8.301034833169298e+16,9.223372036854776e+16,8.301034833169298e+16,9.223372036854776e+16,9.223372036854776e+16,9.223372036854776e+16,9.223372036854776e+16,8.301034833169298e+16,9.223372036854776e+16,7.37869762948382e+16,8.301034833169298e+16,9.223372036854776e+16,7.37869762948382e+16,9.223372036854776e+16,8.301034833169298e+16,8.301034833169298e+16,9.223372036854776e+16,9.223372036854776e+16,9.223372036854776e+16,9.223372036854776e+16,9.223372036854776e+16,9.223372036854776e+16,8.301034833169298e+16,9.223372036854776e+16,9.223372036854776e+16,9.223372036854776e+16,9.223372036854776e+16,9.223372036854776e+16,9.223372036854776e+16,9.223372036854776e+16,9.223372036854776e+16,9.223372036854776e+16,9.223372036854776e+16,7.37869762948382e+16,8.301034833169298e+16,8.301034833169298e+16,8.301034833169298e+16,8.301034833169298e+16,9.223372036854776e+16,7.37869762948382e+16,6.456360425798342e+16,8.301034833169298e+16,9.223372036854776e+16,9.223372036854776e+16,9.223372036854776e+16,9.223372036854776e+16,9.223372036854776e+16,9.223372036854776e+16,9.223372036854776e+16,9.223372036854776e+16,7.37869762948382e+16,7.37869762948382e+16,9.223372036854776e+16,9.223372036854776e+16,9.223372036854776e+16,9.223372036854776e+16,9.223372036854776e+16,9.223372036854776e+16,9.223372036854776e+16,9.223372036854776e+16,9.223372036854776e+16,9.223372036854776e+16,8.301034833169298e+16,9.223372036854776e+16,9.223372036854776e+16,9.223372036854776e+16,7.37869762948382e+16,8.301034833169298e+16,9.223372036854776e+16,9.223372036854776e+16,8.301034833169298e+16,9.223372036854776e+16,9.223372036854776e+16,9.223372036854776e+16,9.223372036854776e+16,8.301034833169298e+16,9.223372036854776e+16,7.37869762948382e+16,8.301034833169298e+16,8.301034833169298e+16,7.37869762948382e+16,9.223372036854776e+16,9.223372036854776e+16,8.301034833169298e+16,8.301034833169298e+16,9.223372036854776e+16,8.301034833169298e+16,8.301034833169298e+16,8.301034833169298e+16,9.223372036854776e+16,9.223372036854776e+16,9.223372036854776e+16,7.37869762948382e+16,8.301034833169298e+16,9.223372036854776e+16,9.223372036854776e+16,9.223372036854776e+16,8.301034833169298e+16,8.301034833169298e+16,8.301034833169298e+16,8.301034833169298e+16,9.223372036854776e+16,9.223372036854776e+16,8.301034833169298e+16,9.223372036854776e+16,9.223372036854776e+16,9.223372036854776e+16,9.223372036854776e+16,9.223372036854776e+16,8.301034833169298e+16,9.223372036854776e+16,7.37869762948382e+16,8.301034833169298e+16,9.223372036854776e+16,9.223372036854776e+16,9.223372036854776e+16,9.223372036854776e+16,9.223372036854776e+16,9.223372036854776e+16,8.301034833169298e+16,9.223372036854776e+16,9.223372036854776e+16,9.223372036854776e+16,8.301034833169298e+16,8.301034833169298e+16,8.301034833169298e+16,9.223372036854776e+16,9.223372036854776e+16,9.223372036854776e+16,9.223372036854776e+16,9.223372036854776e+16,9.223372036854776e+16,9.223372036854776e+16,9.223372036854776e+16,9.223372036854776e+16,8.301034833169298e+16,9.223372036854776e+16,9.223372036854776e+16,8.301034833169298e+16,9.223372036854776e+16,9.223372036854776e+16,9.223372036854776e+16,9.223372036854776e+16,9.223372036854776e+16,8.301034833169298e+16,9.223372036854776e+16,9.223372036854776e+16,8.301034833169298e+16,9.223372036854776e+16,9.223372036854776e+16,9.223372036854776e+16,9.223372036854776e+16,8.301034833169298e+16,8.301034833169298e+16,9.223372036854776e+16,8.301034833169298e+16,9.223372036854776e+16,9.223372036854776e+16,9.223372036854776e+16,9.223372036854776e+16,8.301034833169298e+16,9.223372036854776e+16,9.223372036854776e+16,9.223372036854776e+16,9.223372036854776e+16,9.223372036854776e+16,9.223372036854776e+16,9.223372036854776e+16,9.223372036854776e+16,9.223372036854776e+16,9.223372036854776e+16,9.223372036854776e+16,9.223372036854776e+16,9.223372036854776e+16,9.223372036854776e+16,9.223372036854776e+16,7.37869762948382e+16,9.223372036854776e+16,8.301034833169298e+16,7.37869762948382e+16,7.37869762948382e+16,8.301034833169298e+16,9.223372036854776e+16,9.223372036854776e+16,9.223372036854776e+16,9.223372036854776e+16,7.37869762948382e+16,9.223372036854776e+16,9.223372036854776e+16,9.223372036854776e+16,9.223372036854776e+16,8.301034833169298e+16,7.37869762948382e+16,9.223372036854776e+16,8.301034833169298e+16,8.301034833169298e+16,7.37869762948382e+16,7.37869762948382e+16,7.37869762948382e+16,8.301034833169298e+16,9.223372036854776e+16,8.301034833169298e+16,8.301034833169298e+16,7.37869762948382e+16,8.301034833169298e+16,9.223372036854776e+16,7.37869762948382e+16,9.223372036854776e+16,9.223372036854776e+16,9.223372036854776e+16,9.223372036854776e+16,9.223372036854776e+16,9.223372036854776e+16,8.301034833169298e+16,8.301034833169298e+16,8.301034833169298e+16,9.223372036854776e+16,8.301034833169298e+16,9.223372036854776e+16,8.301034833169298e+16,9.223372036854776e+16,9.223372036854776e+16,8.301034833169298e+16,9.223372036854776e+16,9.223372036854776e+16,9.223372036854776e+16,8.301034833169298e+16,7.37869762948382e+16,9.223372036854776e+16,9.223372036854776e+16,9.223372036854776e+16,8.301034833169298e+16,9.223372036854776e+16,9.223372036854776e+16,9.223372036854776e+16,9.223372036854776e+16,9.223372036854776e+16,9.223372036854776e+16,9.223372036854776e+16,8.301034833169298e+16,8.301034833169298e+16,7.37869762948382e+16,8.301034833169298e+16,5.534023222112866e+16,7.37869762948382e+16,8.301034833169298e+16,9.223372036854776e+16,7.37869762948382e+16,9.223372036854776e+16,8.301034833169298e+16,9.223372036854776e+16,9.223372036854776e+16,9.223372036854776e+16,9.223372036854776e+16,7.37869762948382e+16,6.456360425798342e+16,9.223372036854776e+16,7.37869762948382e+16,8.301034833169298e+16,8.301034833169298e+16,9.223372036854776e+16,9.223372036854776e+16,8.301034833169298e+16,9.223372036854776e+16,9.223372036854776e+16,9.223372036854776e+16,9.223372036854776e+16,6.456360425798342e+16,9.223372036854776e+16,9.223372036854776e+16,8.301034833169298e+16,9.223372036854776e+16,9.223372036854776e+16,9.223372036854776e+16,9.223372036854776e+16,9.223372036854776e+16,7.37869762948382e+16,9.223372036854776e+16,8.301034833169298e+16,9.223372036854776e+16,8.301034833169298e+16,8.301034833169298e+16,9.223372036854776e+16,8.301034833169298e+16,9.223372036854776e+16,9.223372036854776e+16,7.37869762948382e+16,9.223372036854776e+16,9.223372036854776e+16,9.223372036854776e+16,9.223372036854776e+16,9.223372036854776e+16,9.223372036854776e+16,9.223372036854776e+16,9.223372036854776e+16,9.223372036854776e+16,9.223372036854776e+16,7.37869762948382e+16,9.223372036854776e+16,9.223372036854776e+16,9.223372036854776e+16,8.301034833169298e+16,9.223372036854776e+16,8.301034833169298e+16,9.223372036854776e+16,9.223372036854776e+16,9.223372036854776e+16,9.223372036854776e+16,9.223372036854776e+16,9.223372036854776e+16,9.223372036854776e+16,9.223372036854776e+16,9.223372036854776e+16,8.301034833169298e+16,9.223372036854776e+16,9.223372036854776e+16,8.301034833169298e+16,8.301034833169298e+16,8.301034833169298e+16,8.301034833169298e+16,9.223372036854776e+16,9.223372036854776e+16,9.223372036854776e+16,8.301034833169298e+16,8.301034833169298e+16,9.223372036854776e+16,9.223372036854776e+16,7.37869762948382e+16,8.301034833169298e+16,9.223372036854776e+16,9.223372036854776e+16,9.223372036854776e+16,9.223372036854776e+16,9.223372036854776e+16,7.37869762948382e+16,7.37869762948382e+16,9.223372036854776e+16,7.37869762948382e+16,8.301034833169298e+16,9.223372036854776e+16,9.223372036854776e+16,9.223372036854776e+16,8.301034833169298e+16,9.223372036854776e+16,9.223372036854776e+16,8.301034833169298e+16,8.301034833169298e+16,8.301034833169298e+16,9.223372036854776e+16,9.223372036854776e+16,8.301034833169298e+16,7.37869762948382e+16,8.301034833169298e+16,8.301034833169298e+16,9.223372036854776e+16,9.223372036854776e+16,9.223372036854776e+16,9.223372036854776e+16,7.37869762948382e+16,8.301034833169298e+16,7.37869762948382e+16,9.223372036854776e+16,8.301034833169298e+16,9.223372036854776e+16,9.223372036854776e+16,9.223372036854776e+16,8.301034833169298e+16,8.301034833169298e+16,9.223372036854776e+16,8.301034833169298e+16,9.223372036854776e+16,9.223372036854776e+16,7.37869762948382e+16,9.223372036854776e+16,9.223372036854776e+16,9.223372036854776e+16,9.223372036854776e+16,8.301034833169298e+16,9.223372036854776e+16,6.456360425798342e+16,7.37869762948382e+16,8.301034833169298e+16,8.301034833169298e+16,9.223372036854776e+16,9.223372036854776e+16,9.223372036854776e+16,9.223372036854776e+16,9.223372036854776e+16,9.223372036854776e+16,9.223372036854776e+16,8.301034833169298e+16,8.301034833169298e+16,8.301034833169298e+16,9.223372036854776e+16,8.301034833169298e+16,7.37869762948382e+16,9.223372036854776e+16,9.223372036854776e+16,9.223372036854776e+16,8.301034833169298e+16,4.611686018427388e+16,9.223372036854776e+16,9.223372036854776e+16,9.223372036854776e+16,8.301034833169298e+16,9.223372036854776e+16,9.223372036854776e+16,9.223372036854776e+16,9.223372036854776e+16,8.301034833169298e+16,9.223372036854776e+16,9.223372036854776e+16,9.223372036854776e+16,8.301034833169298e+16,9.223372036854776e+16,6.456360425798342e+16,9.223372036854776e+16,9.223372036854776e+16,9.223372036854776e+16,9.223372036854776e+16,9.223372036854776e+16,9.223372036854776e+16,8.301034833169298e+16,9.223372036854776e+16,8.301034833169298e+16,8.301034833169298e+16,9.223372036854776e+16,9.223372036854776e+16,9.223372036854776e+16,9.223372036854776e+16,8.301034833169298e+16,8.301034833169298e+16,9.223372036854776e+16,9.223372036854776e+16,9.223372036854776e+16,9.223372036854776e+16,7.37869762948382e+16,8.301034833169298e+16,8.301034833169298e+16,8.301034833169298e+16,8.301034833169298e+16,8.301034833169298e+16,9.223372036854776e+16,9.223372036854776e+16,9.223372036854776e+16,9.223372036854776e+16,8.301034833169298e+16,9.223372036854776e+16,6.456360425798342e+16,8.301034833169298e+16,8.301034833169298e+16,8.301034833169298e+16,7.37869762948382e+16,9.223372036854776e+16,8.301034833169298e+16,8.301034833169298e+16,7.37869762948382e+16,8.301034833169298e+16,8.301034833169298e+16,6.456360425798342e+16,9.223372036854776e+16,9.223372036854776e+16,9.223372036854776e+16,7.37869762948382e+16,9.223372036854776e+16,6.456360425798342e+16,9.223372036854776e+16,9.223372036854776e+16,8.301034833169298e+16,9.223372036854776e+16,8.301034833169298e+16,9.223372036854776e+16,8.301034833169298e+16,9.223372036854776e+16,9.223372036854776e+16,8.301034833169298e+16,9.223372036854776e+16,8.301034833169298e+16,8.301034833169298e+16,9.223372036854776e+16,9.223372036854776e+16,9.223372036854776e+16,9.223372036854776e+16,8.301034833169298e+16,8.301034833169298e+16,8.301034833169298e+16,9.223372036854776e+16,6.456360425798342e+16,9.223372036854776e+16,9.223372036854776e+16,8.301034833169298e+16,9.223372036854776e+16,9.223372036854776e+16,6.456360425798342e+16,8.301034833169298e+16,8.301034833169298e+16,8.301034833169298e+16,9.223372036854776e+16,9.223372036854776e+16,6.456360425798342e+16,8.301034833169298e+16,9.223372036854776e+16,9.223372036854776e+16,9.223372036854776e+16,9.223372036854776e+16,9.223372036854776e+16,9.223372036854776e+16,9.223372036854776e+16,8.301034833169298e+16,8.301034833169298e+16,9.223372036854776e+16,9.223372036854776e+16,9.223372036854776e+16,9.223372036854776e+16,7.37869762948382e+16,9.223372036854776e+16,8.301034833169298e+16,8.301034833169298e+16,8.301034833169298e+16,9.223372036854776e+16,9.223372036854776e+16,7.37869762948382e+16,9.223372036854776e+16,9.223372036854776e+16,8.301034833169298e+16,7.37869762948382e+16,7.37869762948382e+16,8.301034833169298e+16,9.223372036854776e+16,9.223372036854776e+16,9.223372036854776e+16,9.223372036854776e+16,9.223372036854776e+16,8.301034833169298e+16,9.223372036854776e+16,8.301034833169298e+16,9.223372036854776e+16,9.223372036854776e+16,9.223372036854776e+16,8.301034833169298e+16,7.37869762948382e+16,8.301034833169298e+16,8.301034833169298e+16,9.223372036854776e+16,8.301034833169298e+16,9.223372036854776e+16,7.37869762948382e+16,8.301034833169298e+16,7.37869762948382e+16,8.301034833169298e+16,9.223372036854776e+16,9.223372036854776e+16,9.223372036854776e+16,9.223372036854776e+16,8.301034833169298e+16,8.301034833169298e+16,9.223372036854776e+16,9.223372036854776e+16,8.301034833169298e+16,7.37869762948382e+16,9.223372036854776e+16,9.223372036854776e+16,9.223372036854776e+16,9.223372036854776e+16,8.301034833169298e+16,9.223372036854776e+16,9.223372036854776e+16,9.223372036854776e+16,8.301034833169298e+16,9.223372036854776e+16,9.223372036854776e+16,8.301034833169298e+16,9.223372036854776e+16,8.301034833169298e+16,9.223372036854776e+16,8.301034833169298e+16,9.223372036854776e+16,9.223372036854776e+16,8.301034833169298e+16,7.37869762948382e+16,9.223372036854776e+16,9.223372036854776e+16,9.223372036854776e+16,9.223372036854776e+16,9.223372036854776e+16,9.223372036854776e+16,8.301034833169298e+16,7.37869762948382e+16,8.301034833169298e+16,9.223372036854776e+16,8.301034833169298e+16,9.223372036854776e+16,8.301034833169298e+16,9.223372036854776e+16,9.223372036854776e+16,9.223372036854776e+16,9.223372036854776e+16,9.223372036854776e+16,9.223372036854776e+16,8.301034833169298e+16,9.223372036854776e+16,8.301034833169298e+16,9.223372036854776e+16,9.223372036854776e+16,7.37869762948382e+16,9.223372036854776e+16,7.37869762948382e+16,8.301034833169298e+16,9.223372036854776e+16,8.301034833169298e+16,8.301034833169298e+16,7.37869762948382e+16,8.301034833169298e+16,9.223372036854776e+16,8.301034833169298e+16,7.37869762948382e+16,9.223372036854776e+16,9.223372036854776e+16,9.223372036854776e+16,9.223372036854776e+16,8.301034833169298e+16,9.223372036854776e+16,7.37869762948382e+16,9.223372036854776e+16,9.223372036854776e+16,9.223372036854776e+16,8.301034833169298e+16,8.301034833169298e+16,6.456360425798342e+16,8.301034833169298e+16,8.301034833169298e+16,8.301034833169298e+16,9.223372036854776e+16,9.223372036854776e+16,9.223372036854776e+16,8.301034833169298e+16,9.223372036854776e+16,8.301034833169298e+16,9.223372036854776e+16,8.301034833169298e+16,9.223372036854776e+16,8.301034833169298e+16,9.223372036854776e+16,9.223372036854776e+16,8.301034833169298e+16,9.223372036854776e+16,9.223372036854776e+16,9.223372036854776e+16,9.223372036854776e+16,9.223372036854776e+16,7.37869762948382e+16,8.301034833169298e+16,8.301034833169298e+16,7.37869762948382e+16,9.223372036854776e+16,8.301034833169298e+16,8.301034833169298e+16,9.223372036854776e+16,8.301034833169298e+16,9.223372036854776e+16,8.301034833169298e+16,7.37869762948382e+16,8.301034833169298e+16,9.223372036854776e+16,8.301034833169298e+16,9.223372036854776e+16,8.301034833169298e+16,9.223372036854776e+16,9.223372036854776e+16,7.37869762948382e+16,9.223372036854776e+16,8.301034833169298e+16,9.223372036854776e+16,9.223372036854776e+16,8.301034833169298e+16,9.223372036854776e+16,9.223372036854776e+16,9.223372036854776e+16,9.223372036854776e+16,9.223372036854776e+16,9.223372036854776e+16,8.301034833169298e+16,9.223372036854776e+16,7.37869762948382e+16,9.223372036854776e+16,8.301034833169298e+16,9.223372036854776e+16,8.301034833169298e+16,8.301034833169298e+16,9.223372036854776e+16,7.37869762948382e+16,8.301034833169298e+16,9.223372036854776e+16,8.301034833169298e+16,9.223372036854776e+16,9.223372036854776e+16,9.223372036854776e+16,8.301034833169298e+16,9.223372036854776e+16,8.301034833169298e+16,9.223372036854776e+16,9.223372036854776e+16,9.223372036854776e+16,9.223372036854776e+16,9.223372036854776e+16,8.301034833169298e+16,9.223372036854776e+16,8.301034833169298e+16,9.223372036854776e+16,9.223372036854776e+16,9.223372036854776e+16,8.301034833169298e+16],\"type\":\"scatter\"}],                        {\"template\":{\"data\":{\"bar\":[{\"error_x\":{\"color\":\"#2a3f5f\"},\"error_y\":{\"color\":\"#2a3f5f\"},\"marker\":{\"line\":{\"color\":\"#E5ECF6\",\"width\":0.5},\"pattern\":{\"fillmode\":\"overlay\",\"size\":10,\"solidity\":0.2}},\"type\":\"bar\"}],\"barpolar\":[{\"marker\":{\"line\":{\"color\":\"#E5ECF6\",\"width\":0.5},\"pattern\":{\"fillmode\":\"overlay\",\"size\":10,\"solidity\":0.2}},\"type\":\"barpolar\"}],\"carpet\":[{\"aaxis\":{\"endlinecolor\":\"#2a3f5f\",\"gridcolor\":\"white\",\"linecolor\":\"white\",\"minorgridcolor\":\"white\",\"startlinecolor\":\"#2a3f5f\"},\"baxis\":{\"endlinecolor\":\"#2a3f5f\",\"gridcolor\":\"white\",\"linecolor\":\"white\",\"minorgridcolor\":\"white\",\"startlinecolor\":\"#2a3f5f\"},\"type\":\"carpet\"}],\"choropleth\":[{\"colorbar\":{\"outlinewidth\":0,\"ticks\":\"\"},\"type\":\"choropleth\"}],\"contour\":[{\"colorbar\":{\"outlinewidth\":0,\"ticks\":\"\"},\"colorscale\":[[0.0,\"#0d0887\"],[0.1111111111111111,\"#46039f\"],[0.2222222222222222,\"#7201a8\"],[0.3333333333333333,\"#9c179e\"],[0.4444444444444444,\"#bd3786\"],[0.5555555555555556,\"#d8576b\"],[0.6666666666666666,\"#ed7953\"],[0.7777777777777778,\"#fb9f3a\"],[0.8888888888888888,\"#fdca26\"],[1.0,\"#f0f921\"]],\"type\":\"contour\"}],\"contourcarpet\":[{\"colorbar\":{\"outlinewidth\":0,\"ticks\":\"\"},\"type\":\"contourcarpet\"}],\"heatmap\":[{\"colorbar\":{\"outlinewidth\":0,\"ticks\":\"\"},\"colorscale\":[[0.0,\"#0d0887\"],[0.1111111111111111,\"#46039f\"],[0.2222222222222222,\"#7201a8\"],[0.3333333333333333,\"#9c179e\"],[0.4444444444444444,\"#bd3786\"],[0.5555555555555556,\"#d8576b\"],[0.6666666666666666,\"#ed7953\"],[0.7777777777777778,\"#fb9f3a\"],[0.8888888888888888,\"#fdca26\"],[1.0,\"#f0f921\"]],\"type\":\"heatmap\"}],\"heatmapgl\":[{\"colorbar\":{\"outlinewidth\":0,\"ticks\":\"\"},\"colorscale\":[[0.0,\"#0d0887\"],[0.1111111111111111,\"#46039f\"],[0.2222222222222222,\"#7201a8\"],[0.3333333333333333,\"#9c179e\"],[0.4444444444444444,\"#bd3786\"],[0.5555555555555556,\"#d8576b\"],[0.6666666666666666,\"#ed7953\"],[0.7777777777777778,\"#fb9f3a\"],[0.8888888888888888,\"#fdca26\"],[1.0,\"#f0f921\"]],\"type\":\"heatmapgl\"}],\"histogram\":[{\"marker\":{\"pattern\":{\"fillmode\":\"overlay\",\"size\":10,\"solidity\":0.2}},\"type\":\"histogram\"}],\"histogram2d\":[{\"colorbar\":{\"outlinewidth\":0,\"ticks\":\"\"},\"colorscale\":[[0.0,\"#0d0887\"],[0.1111111111111111,\"#46039f\"],[0.2222222222222222,\"#7201a8\"],[0.3333333333333333,\"#9c179e\"],[0.4444444444444444,\"#bd3786\"],[0.5555555555555556,\"#d8576b\"],[0.6666666666666666,\"#ed7953\"],[0.7777777777777778,\"#fb9f3a\"],[0.8888888888888888,\"#fdca26\"],[1.0,\"#f0f921\"]],\"type\":\"histogram2d\"}],\"histogram2dcontour\":[{\"colorbar\":{\"outlinewidth\":0,\"ticks\":\"\"},\"colorscale\":[[0.0,\"#0d0887\"],[0.1111111111111111,\"#46039f\"],[0.2222222222222222,\"#7201a8\"],[0.3333333333333333,\"#9c179e\"],[0.4444444444444444,\"#bd3786\"],[0.5555555555555556,\"#d8576b\"],[0.6666666666666666,\"#ed7953\"],[0.7777777777777778,\"#fb9f3a\"],[0.8888888888888888,\"#fdca26\"],[1.0,\"#f0f921\"]],\"type\":\"histogram2dcontour\"}],\"mesh3d\":[{\"colorbar\":{\"outlinewidth\":0,\"ticks\":\"\"},\"type\":\"mesh3d\"}],\"parcoords\":[{\"line\":{\"colorbar\":{\"outlinewidth\":0,\"ticks\":\"\"}},\"type\":\"parcoords\"}],\"pie\":[{\"automargin\":true,\"type\":\"pie\"}],\"scatter\":[{\"marker\":{\"colorbar\":{\"outlinewidth\":0,\"ticks\":\"\"}},\"type\":\"scatter\"}],\"scatter3d\":[{\"line\":{\"colorbar\":{\"outlinewidth\":0,\"ticks\":\"\"}},\"marker\":{\"colorbar\":{\"outlinewidth\":0,\"ticks\":\"\"}},\"type\":\"scatter3d\"}],\"scattercarpet\":[{\"marker\":{\"colorbar\":{\"outlinewidth\":0,\"ticks\":\"\"}},\"type\":\"scattercarpet\"}],\"scattergeo\":[{\"marker\":{\"colorbar\":{\"outlinewidth\":0,\"ticks\":\"\"}},\"type\":\"scattergeo\"}],\"scattergl\":[{\"marker\":{\"colorbar\":{\"outlinewidth\":0,\"ticks\":\"\"}},\"type\":\"scattergl\"}],\"scattermapbox\":[{\"marker\":{\"colorbar\":{\"outlinewidth\":0,\"ticks\":\"\"}},\"type\":\"scattermapbox\"}],\"scatterpolar\":[{\"marker\":{\"colorbar\":{\"outlinewidth\":0,\"ticks\":\"\"}},\"type\":\"scatterpolar\"}],\"scatterpolargl\":[{\"marker\":{\"colorbar\":{\"outlinewidth\":0,\"ticks\":\"\"}},\"type\":\"scatterpolargl\"}],\"scatterternary\":[{\"marker\":{\"colorbar\":{\"outlinewidth\":0,\"ticks\":\"\"}},\"type\":\"scatterternary\"}],\"surface\":[{\"colorbar\":{\"outlinewidth\":0,\"ticks\":\"\"},\"colorscale\":[[0.0,\"#0d0887\"],[0.1111111111111111,\"#46039f\"],[0.2222222222222222,\"#7201a8\"],[0.3333333333333333,\"#9c179e\"],[0.4444444444444444,\"#bd3786\"],[0.5555555555555556,\"#d8576b\"],[0.6666666666666666,\"#ed7953\"],[0.7777777777777778,\"#fb9f3a\"],[0.8888888888888888,\"#fdca26\"],[1.0,\"#f0f921\"]],\"type\":\"surface\"}],\"table\":[{\"cells\":{\"fill\":{\"color\":\"#EBF0F8\"},\"line\":{\"color\":\"white\"}},\"header\":{\"fill\":{\"color\":\"#C8D4E3\"},\"line\":{\"color\":\"white\"}},\"type\":\"table\"}]},\"layout\":{\"annotationdefaults\":{\"arrowcolor\":\"#2a3f5f\",\"arrowhead\":0,\"arrowwidth\":1},\"autotypenumbers\":\"strict\",\"coloraxis\":{\"colorbar\":{\"outlinewidth\":0,\"ticks\":\"\"}},\"colorscale\":{\"diverging\":[[0,\"#8e0152\"],[0.1,\"#c51b7d\"],[0.2,\"#de77ae\"],[0.3,\"#f1b6da\"],[0.4,\"#fde0ef\"],[0.5,\"#f7f7f7\"],[0.6,\"#e6f5d0\"],[0.7,\"#b8e186\"],[0.8,\"#7fbc41\"],[0.9,\"#4d9221\"],[1,\"#276419\"]],\"sequential\":[[0.0,\"#0d0887\"],[0.1111111111111111,\"#46039f\"],[0.2222222222222222,\"#7201a8\"],[0.3333333333333333,\"#9c179e\"],[0.4444444444444444,\"#bd3786\"],[0.5555555555555556,\"#d8576b\"],[0.6666666666666666,\"#ed7953\"],[0.7777777777777778,\"#fb9f3a\"],[0.8888888888888888,\"#fdca26\"],[1.0,\"#f0f921\"]],\"sequentialminus\":[[0.0,\"#0d0887\"],[0.1111111111111111,\"#46039f\"],[0.2222222222222222,\"#7201a8\"],[0.3333333333333333,\"#9c179e\"],[0.4444444444444444,\"#bd3786\"],[0.5555555555555556,\"#d8576b\"],[0.6666666666666666,\"#ed7953\"],[0.7777777777777778,\"#fb9f3a\"],[0.8888888888888888,\"#fdca26\"],[1.0,\"#f0f921\"]]},\"colorway\":[\"#636efa\",\"#EF553B\",\"#00cc96\",\"#ab63fa\",\"#FFA15A\",\"#19d3f3\",\"#FF6692\",\"#B6E880\",\"#FF97FF\",\"#FECB52\"],\"font\":{\"color\":\"#2a3f5f\"},\"geo\":{\"bgcolor\":\"white\",\"lakecolor\":\"white\",\"landcolor\":\"#E5ECF6\",\"showlakes\":true,\"showland\":true,\"subunitcolor\":\"white\"},\"hoverlabel\":{\"align\":\"left\"},\"hovermode\":\"closest\",\"mapbox\":{\"style\":\"light\"},\"paper_bgcolor\":\"white\",\"plot_bgcolor\":\"#E5ECF6\",\"polar\":{\"angularaxis\":{\"gridcolor\":\"white\",\"linecolor\":\"white\",\"ticks\":\"\"},\"bgcolor\":\"#E5ECF6\",\"radialaxis\":{\"gridcolor\":\"white\",\"linecolor\":\"white\",\"ticks\":\"\"}},\"scene\":{\"xaxis\":{\"backgroundcolor\":\"#E5ECF6\",\"gridcolor\":\"white\",\"gridwidth\":2,\"linecolor\":\"white\",\"showbackground\":true,\"ticks\":\"\",\"zerolinecolor\":\"white\"},\"yaxis\":{\"backgroundcolor\":\"#E5ECF6\",\"gridcolor\":\"white\",\"gridwidth\":2,\"linecolor\":\"white\",\"showbackground\":true,\"ticks\":\"\",\"zerolinecolor\":\"white\"},\"zaxis\":{\"backgroundcolor\":\"#E5ECF6\",\"gridcolor\":\"white\",\"gridwidth\":2,\"linecolor\":\"white\",\"showbackground\":true,\"ticks\":\"\",\"zerolinecolor\":\"white\"}},\"shapedefaults\":{\"line\":{\"color\":\"#2a3f5f\"}},\"ternary\":{\"aaxis\":{\"gridcolor\":\"white\",\"linecolor\":\"white\",\"ticks\":\"\"},\"baxis\":{\"gridcolor\":\"white\",\"linecolor\":\"white\",\"ticks\":\"\"},\"bgcolor\":\"#E5ECF6\",\"caxis\":{\"gridcolor\":\"white\",\"linecolor\":\"white\",\"ticks\":\"\"}},\"title\":{\"x\":0.05},\"xaxis\":{\"automargin\":true,\"gridcolor\":\"white\",\"linecolor\":\"white\",\"ticks\":\"\",\"title\":{\"standoff\":15},\"zerolinecolor\":\"white\",\"zerolinewidth\":2},\"yaxis\":{\"automargin\":true,\"gridcolor\":\"white\",\"linecolor\":\"white\",\"ticks\":\"\",\"title\":{\"standoff\":15},\"zerolinecolor\":\"white\",\"zerolinewidth\":2}}},\"font\":{\"family\":\"Courier New, monospace\",\"color\":\"RebeccaPurple\"},\"title\":{\"text\":\"Sum of reward for each episode(averaged with each 10 episodes)\"},\"xaxis\":{\"title\":{\"text\":\"Number of episodes(averaged with each 10 episodes)\"}},\"yaxis\":{\"title\":{\"text\":\"Sum of rewards during episode\"}},\"legend\":{\"title\":{\"text\":\"Legend Title\"}}},                        {\"responsive\": true}                    ).then(function(){\n",
              "                            \n",
              "var gd = document.getElementById('e73fa0ed-66c0-4752-b547-e874bda0dd2f');\n",
              "var x = new MutationObserver(function (mutations, observer) {{\n",
              "        var display = window.getComputedStyle(gd).display;\n",
              "        if (!display || display === 'none') {{\n",
              "            console.log([gd, 'removed!']);\n",
              "            Plotly.purge(gd);\n",
              "            observer.disconnect();\n",
              "        }}\n",
              "}});\n",
              "\n",
              "// Listen for the removal of the full notebook cells\n",
              "var notebookContainer = gd.closest('#notebook-container');\n",
              "if (notebookContainer) {{\n",
              "    x.observe(notebookContainer, {childList: true});\n",
              "}}\n",
              "\n",
              "// Listen for the clearing of the current output cell\n",
              "var outputEl = gd.closest('.output');\n",
              "if (outputEl) {{\n",
              "    x.observe(outputEl, {childList: true});\n",
              "}}\n",
              "\n",
              "                        })                };                            </script>        </div>\n",
              "</body>\n",
              "</html>"
            ]
          },
          "metadata": {}
        }
      ]
    },
    {
      "cell_type": "code",
      "source": [
        "plot_performance(rewards_w2m_sarsa, rewards_w2m_ql, size = 10000,mean_each_n = 10,acumulated = True)"
      ],
      "metadata": {
        "colab": {
          "base_uri": "https://localhost:8080/",
          "height": 542
        },
        "id": "0MXjeNfiRlEV",
        "outputId": "ecbbdf06-cd7d-467e-d4c3-bdfc9959cece"
      },
      "execution_count": 45,
      "outputs": [
        {
          "output_type": "display_data",
          "data": {
            "text/html": [
              "<html>\n",
              "<head><meta charset=\"utf-8\" /></head>\n",
              "<body>\n",
              "    <div>            <script src=\"https://cdnjs.cloudflare.com/ajax/libs/mathjax/2.7.5/MathJax.js?config=TeX-AMS-MML_SVG\"></script><script type=\"text/javascript\">if (window.MathJax) {MathJax.Hub.Config({SVG: {font: \"STIX-Web\"}});}</script>                <script type=\"text/javascript\">window.PlotlyConfig = {MathJaxConfig: 'local'};</script>\n",
              "        <script src=\"https://cdn.plot.ly/plotly-2.8.3.min.js\"></script>                <div id=\"7f8dbe7b-f3c3-4c1c-a39a-a830383b7feb\" class=\"plotly-graph-div\" style=\"height:525px; width:100%;\"></div>            <script type=\"text/javascript\">                                    window.PLOTLYENV=window.PLOTLYENV || {};                                    if (document.getElementById(\"7f8dbe7b-f3c3-4c1c-a39a-a830383b7feb\")) {                    Plotly.newPlot(                        \"7f8dbe7b-f3c3-4c1c-a39a-a830383b7feb\",                        [{\"mode\":\"lines+markers\",\"name\":\"SARSA\",\"x\":[0,1,2,3,4,5,6,7,8,9,10,11,12,13,14,15,16,17,18,19,20,21,22,23,24,25,26,27,28,29,30,31,32,33,34,35,36,37,38,39,40,41,42,43,44,45,46,47,48,49,50,51,52,53,54,55,56,57,58,59,60,61,62,63,64,65,66,67,68,69,70,71,72,73,74,75,76,77,78,79,80,81,82,83,84,85,86,87,88,89,90,91,92,93,94,95,96,97,98,99,100,101,102,103,104,105,106,107,108,109,110,111,112,113,114,115,116,117,118,119,120,121,122,123,124,125,126,127,128,129,130,131,132,133,134,135,136,137,138,139,140,141,142,143,144,145,146,147,148,149,150,151,152,153,154,155,156,157,158,159,160,161,162,163,164,165,166,167,168,169,170,171,172,173,174,175,176,177,178,179,180,181,182,183,184,185,186,187,188,189,190,191,192,193,194,195,196,197,198,199,200,201,202,203,204,205,206,207,208,209,210,211,212,213,214,215,216,217,218,219,220,221,222,223,224,225,226,227,228,229,230,231,232,233,234,235,236,237,238,239,240,241,242,243,244,245,246,247,248,249,250,251,252,253,254,255,256,257,258,259,260,261,262,263,264,265,266,267,268,269,270,271,272,273,274,275,276,277,278,279,280,281,282,283,284,285,286,287,288,289,290,291,292,293,294,295,296,297,298,299,300,301,302,303,304,305,306,307,308,309,310,311,312,313,314,315,316,317,318,319,320,321,322,323,324,325,326,327,328,329,330,331,332,333,334,335,336,337,338,339,340,341,342,343,344,345,346,347,348,349,350,351,352,353,354,355,356,357,358,359,360,361,362,363,364,365,366,367,368,369,370,371,372,373,374,375,376,377,378,379,380,381,382,383,384,385,386,387,388,389,390,391,392,393,394,395,396,397,398,399,400,401,402,403,404,405,406,407,408,409,410,411,412,413,414,415,416,417,418,419,420,421,422,423,424,425,426,427,428,429,430,431,432,433,434,435,436,437,438,439,440,441,442,443,444,445,446,447,448,449,450,451,452,453,454,455,456,457,458,459,460,461,462,463,464,465,466,467,468,469,470,471,472,473,474,475,476,477,478,479,480,481,482,483,484,485,486,487,488,489,490,491,492,493,494,495,496,497,498,499,500,501,502,503,504,505,506,507,508,509,510,511,512,513,514,515,516,517,518,519,520,521,522,523,524,525,526,527,528,529,530,531,532,533,534,535,536,537,538,539,540,541,542,543,544,545,546,547,548,549,550,551,552,553,554,555,556,557,558,559,560,561,562,563,564,565,566,567,568,569,570,571,572,573,574,575,576,577,578,579,580,581,582,583,584,585,586,587,588,589,590,591,592,593,594,595,596,597,598,599,600,601,602,603,604,605,606,607,608,609,610,611,612,613,614,615,616,617,618,619,620,621,622,623,624,625,626,627,628,629,630,631,632,633,634,635,636,637,638,639,640,641,642,643,644,645,646,647,648,649,650,651,652,653,654,655,656,657,658,659,660,661,662,663,664,665,666,667,668,669,670,671,672,673,674,675,676,677,678,679,680,681,682,683,684,685,686,687,688,689,690,691,692,693,694,695,696,697,698,699,700,701,702,703,704,705,706,707,708,709,710,711,712,713,714,715,716,717,718,719,720,721,722,723,724,725,726,727,728,729,730,731,732,733,734,735,736,737,738,739,740,741,742,743,744,745,746,747,748,749,750,751,752,753,754,755,756,757,758,759,760,761,762,763,764,765,766,767,768,769,770,771,772,773,774,775,776,777,778,779,780,781,782,783,784,785,786,787,788,789,790,791,792,793,794,795,796,797,798,799,800,801,802,803,804,805,806,807,808,809,810,811,812,813,814,815,816,817,818,819,820,821,822,823,824,825,826,827,828,829,830,831,832,833,834,835,836,837,838,839,840,841,842,843,844,845,846,847,848,849,850,851,852,853,854,855,856,857,858,859,860,861,862,863,864,865,866,867,868,869,870,871,872,873,874,875,876,877,878,879,880,881,882,883,884,885,886,887,888,889,890,891,892,893,894,895,896,897,898,899,900,901,902,903,904,905,906,907,908,909,910,911,912,913,914,915,916,917,918,919,920,921,922,923,924,925,926,927,928,929,930,931,932,933,934,935,936,937,938,939,940,941,942,943,944,945,946,947,948,949,950,951,952,953,954,955,956,957,958,959,960,961,962,963,964,965,966,967,968,969,970,971,972,973,974,975,976,977,978,979,980,981,982,983,984,985,986,987,988,989,990,991,992,993,994,995,996,997,998,999],\"y\":[-14.88,9.223372036854773e+16,4.6116860184273875e+17,1.0145709240540252e+18,1.9369081277395028e+18,2.8592453314249805e+18,3.7815825351104584e+18,4.703919738795936e+18,5.534023222112865e+18,6.271892985061247e+18,7.101996468378177e+18,7.932099951695106e+18,8.669969714643488e+18,9.592306918328965e+18,1.0514644122014444e+19,1.1436981325699922e+19,1.2267084809016852e+19,1.3097188292333783e+19,1.3927291775650714e+19,1.4849628979336192e+19,1.5679732462653123e+19,1.66020696663386e+19,1.7432173149655532e+19,1.8262276632972462e+19,1.9000146395920843e+19,1.992248359960632e+19,2.075258708292325e+19,2.158269056624018e+19,2.232056032918856e+19,2.315066381250549e+19,2.3888533575453872e+19,2.4626403338402255e+19,2.5548740542087733e+19,2.637884402540466e+19,2.730118122909014e+19,2.822351843277562e+19,2.9053621916092547e+19,2.9975959119778025e+19,3.0898296323463504e+19,3.1728399806780432e+19,3.255850329009736e+19,3.338860677341429e+19,3.4310943977099768e+19,3.5141047460416696e+19,3.6063384664102175e+19,3.698572186778765e+19,3.790805907147312e+19,3.88303962751586e+19,3.956826603810698e+19,4.0490603241792455e+19,4.132070672510938e+19,4.215081020842631e+19,4.307314741211179e+19,4.3903250895428714e+19,4.473335437874564e+19,4.556345786206257e+19,4.6485795065748046e+19,4.740813226943352e+19,4.8330469473118994e+19,4.925280667680447e+19,5.00829101601214e+19,5.0913013643438326e+19,5.18353508471238e+19,5.257322061007218e+19,5.340332409338911e+19,5.423342757670604e+19,5.5155764780391514e+19,5.607810198407699e+19,5.690820546739392e+19,5.783054267107939e+19,5.8752879874764866e+19,5.958298335808179e+19,6.050532056176727e+19,6.142765776545274e+19,6.234999496913822e+19,6.327233217282369e+19,6.4194669376509166e+19,6.511700658019464e+19,6.6039343783880114e+19,6.696168098756559e+19,6.788401819125106e+19,6.8437420513462346e+19,6.935975771714782e+19,7.0282094920833294e+19,7.120443212451877e+19,7.212676932820424e+19,7.304910653188972e+19,7.37869762948381e+19,7.461707977815504e+19,7.544718326147197e+19,7.636952046515744e+19,7.729185766884291e+19,7.821419487252839e+19,7.904429835584532e+19,7.987440183916225e+19,8.079673904284772e+19,8.17190762465332e+19,8.254917972985012e+19,8.32870494927985e+19,8.411715297611543e+19,8.494725645943236e+19,8.577735994274929e+19,8.669969714643476e+19,8.762203435012024e+19,8.845213783343717e+19,8.937447503712264e+19,9.029681224080812e+19,9.121914944449359e+19,9.214148664817906e+19,9.287935641112745e+19,9.370945989444438e+19,9.45395633777613e+19,9.527743314070969e+19,9.619977034439516e+19,9.712210754808064e+19,9.804444475176611e+19,9.887454823508304e+19,9.979688543876851e+19,1.0062698892208544e+20,1.0154932612577092e+20,1.0237942960908784e+20,1.0320953309240477e+20,1.040396365757217e+20,1.0477750633867008e+20,1.0569984354235556e+20,1.0662218074604103e+20,1.075445179497265e+20,1.0846685515341198e+20,1.0938919235709746e+20,1.1031152956078293e+20,1.112338667644684e+20,1.1197173652741679e+20,1.1289407373110226e+20,1.1381641093478774e+20,1.1473874813847321e+20,1.1556885162179014e+20,1.1649118882547561e+20,1.17229058588424e+20,1.1805916207174092e+20,1.189814992754264e+20,1.1990383647911187e+20,1.207339399624288e+20,1.2165627716611428e+20,1.2220967948832557e+20,1.2313201669201104e+20,1.2405435389569652e+20,1.247922236586449e+20,1.2571456086233037e+20,1.2663689806601585e+20,1.2755923526970132e+20,1.284815724733868e+20,1.2940390967707227e+20,1.302340131603892e+20,1.3115635036407467e+20,1.3207868756776015e+20,1.3290879105107707e+20,1.3383112825476255e+20,1.3475346545844802e+20,1.356758026621335e+20,1.3659813986581897e+20,1.374282433491359e+20,1.3835058055282137e+20,1.3927291775650685e+20,1.4019525496019232e+20,1.411175921638778e+20,1.4203992936756327e+20,1.4296226657124875e+20,1.4379237005456568e+20,1.446224735378826e+20,1.4554481074156808e+20,1.4646714794525355e+20,1.4738948514893903e+20,1.4831182235262452e+20,1.4895745839520435e+20,1.4951086071741563e+20,1.5043319792110112e+20,1.5126330140441805e+20,1.5209340488773498e+20,1.5301574209142047e+20,1.5393807929510596e+20,1.547681827784229e+20,1.555982862617398e+20,1.561516885839511e+20,1.5688955834689946e+20,1.577196618302164e+20,1.5864199903390188e+20,1.592876350764817e+20,1.6011773855979864e+20,1.60855608322747e+20,1.617779455264325e+20,1.62700282730118e+20,1.6362261993380348e+20,1.6454495713748897e+20,1.653750606208059e+20,1.662973978244914e+20,1.6721973502817688e+20,1.6814207223186237e+20,1.6906440943554786e+20,1.697100454781277e+20,1.706323826818132e+20,1.7155471988549868e+20,1.723848233688156e+20,1.7321492685213254e+20,1.7404503033544946e+20,1.748751338187664e+20,1.757974710224519e+20,1.7644310706503172e+20,1.771809768279801e+20,1.7810331403166558e+20,1.7902565123535107e+20,1.7994798843903656e+20,1.8087032564272205e+20,1.8160819540567042e+20,1.825305326093559e+20,1.8308393493156718e+20,1.839140384148841e+20,1.8474414189820104e+20,1.8566647910188653e+20,1.8658881630557202e+20,1.8741891978888895e+20,1.8834125699257444e+20,1.8926359419625993e+20,1.9018593139994542e+20,1.911082686036309e+20,1.920306058073164e+20,1.929529430110019e+20,1.9387528021468738e+20,1.9479761741837287e+20,1.9571995462205836e+20,1.9664229182574386e+20,1.9756462902942935e+20,1.9848696623311484e+20,1.9931706971643177e+20,2.0005493947938013e+20,2.0097727668306562e+20,2.018996138867511e+20,2.0263748364969948e+20,2.0355982085338497e+20,2.043899243367019e+20,2.053122615403874e+20,2.0614236502370432e+20,2.070647022273898e+20,2.079870394310753e+20,2.0881714291439223e+20,2.095550126773406e+20,2.104773498810261e+20,2.11307453364343e+20,2.1213755684765994e+20,2.1296766033097687e+20,2.1388999753466236e+20,2.1481233473834785e+20,2.1573467194203334e+20,2.164725417049817e+20,2.173948789086672e+20,2.1822498239198413e+20,2.1914731959566962e+20,2.200696567993551e+20,2.209919940030406e+20,2.219143312067261e+20,2.2274443469004302e+20,2.236667718937285e+20,2.24589109097414e+20,2.2541921258073093e+20,2.2624931606404786e+20,2.2717165326773335e+20,2.2809399047141884e+20,2.2892409395473577e+20,2.2984643115842126e+20,2.3076876836210675e+20,2.3159887184542368e+20,2.324289753287406e+20,2.333513125324261e+20,2.342736497361116e+20,2.3519598693979708e+20,2.3611832414348257e+20,2.3704066134716806e+20,2.3796299855085355e+20,2.3879310203417048e+20,2.3971543923785597e+20,2.4063777644154146e+20,2.4156011364522695e+20,2.4239021712854388e+20,2.4331255433222937e+20,2.4423489153591486e+20,2.4515722873960035e+20,2.4607956594328584e+20,2.4700190314697133e+20,2.4792424035065682e+20,2.4875434383397375e+20,2.4967668103765924e+20,2.5050678452097617e+20,2.5142912172466166e+20,2.5235145892834715e+20,2.5327379613203264e+20,2.5419613333571813e+20,2.5502623681903506e+20,2.5594857402272055e+20,2.5668644378566892e+20,2.5751654726898585e+20,2.5843888447267134e+20,2.591767542356197e+20,2.600990914393052e+20,2.6092919492262212e+20,2.6175929840593905e+20,2.6268163560962454e+20,2.6360397281331003e+20,2.6452631001699552e+20,2.65448647220681e+20,2.663709844243665e+20,2.67293321628052e+20,2.6812342511136893e+20,2.690457623150544e+20,2.699680995187399e+20,2.708904367224254e+20,2.718127739261109e+20,2.7273511112979638e+20,2.7365744833348187e+20,2.7457978553716736e+20,2.7550212274085285e+20,2.7642445994453834e+20,2.7734679714822383e+20,2.780846669111722e+20,2.7891477039448913e+20,2.7974487387780606e+20,2.80574977361123e+20,2.814050808444399e+20,2.823274180481254e+20,2.8306528781107377e+20,2.837109238536536e+20,2.8454102733697053e+20,2.8546336454065603e+20,2.863857017443415e+20,2.87308038948027e+20,2.882303761517125e+20,2.89152713355398e+20,2.9007505055908348e+20,2.9099738776276897e+20,2.9191972496645446e+20,2.9265759472940283e+20,2.933954644923512e+20,2.943178016960367e+20,2.9524013889972214e+20,2.961624761034076e+20,2.970848133070931e+20,2.980071505107786e+20,2.989294877144641e+20,2.998518249181496e+20,3.007741621218351e+20,3.016964993255206e+20,3.0261883652920607e+20,3.03448940012523e+20,3.043712772162085e+20,3.05293614419894e+20,3.062159516235795e+20,3.0695382138652787e+20,3.077839248698448e+20,3.087062620735303e+20,3.096285992772158e+20,3.104587027605328e+20,3.1138103996421826e+20,3.1230337716790375e+20,3.1322571437158924e+20,3.1414805157527473e+20,3.149781550585917e+20,3.159004922622772e+20,3.1663836202522555e+20,3.174684655085425e+20,3.182985689918595e+20,3.1903643875480784e+20,3.199587759584933e+20,3.208811131621788e+20,3.217112166454958e+20,3.2254132012881274e+20,3.2346365733249824e+20,3.242937608158152e+20,3.2512386429913216e+20,3.259539677824491e+20,3.268763049861346e+20,3.277986421898201e+20,3.287209793935056e+20,3.2945884915645396e+20,3.302889526397709e+20,3.312112898434564e+20,3.321336270471419e+20,3.330559642508274e+20,3.3388606773414435e+20,3.347161712174613e+20,3.355462747007783e+20,3.3637637818409524e+20,3.372987153877807e+20,3.382210525914662e+20,3.390511560747832e+20,3.399734932784687e+20,3.4089583048215416e+20,3.4181816768583965e+20,3.4274050488952514e+20,3.436628420932106e+20,3.444929455765276e+20,3.454152827802131e+20,3.4615315254316145e+20,3.469832560264784e+20,3.479055932301639e+20,3.488279304338494e+20,3.497502676375349e+20,3.506726048412204e+20,3.5159494204490587e+20,3.5251727924859136e+20,3.533473827319083e+20,3.542697199355938e+20,3.551920571392793e+20,3.561143943429648e+20,3.5694449782628175e+20,3.577746013095987e+20,3.586047047929157e+20,3.5952704199660116e+20,3.6044937920028665e+20,3.6137171640397215e+20,3.6229405360765764e+20,3.632163908113431e+20,3.641387280150286e+20,3.650610652187141e+20,3.659834024223996e+20,3.669057396260851e+20,3.6773584310940205e+20,3.6865818031308754e+20,3.69580517516773e+20,3.7041062100009e+20,3.713329582037755e+20,3.72255295407461e+20,3.7317763261114647e+20,3.7409996981483196e+20,3.7502230701851745e+20,3.758524105018344e+20,3.767747477055199e+20,3.776970849092054e+20,3.7852718839252235e+20,3.7944952559620784e+20,3.803718627998933e+20,3.812942000035788e+20,3.822165372072643e+20,3.830466406905813e+20,3.8387674417389824e+20,3.847990813775837e+20,3.856291848609007e+20,3.865515220645862e+20,3.874738592682717e+20,3.8839619647195716e+20,3.8931853367564265e+20,3.901486371589596e+20,3.910709743626451e+20,3.919933115663306e+20,3.929156487700161e+20,3.938379859737016e+20,3.9476032317738707e+20,3.9568266038107256e+20,3.9660499758475805e+20,3.9752733478844354e+20,3.98449671992129e+20,3.993720091958145e+20,4.002943463995e+20,4.012166836031855e+20,4.02139020806871e+20,4.030613580105565e+20,4.03983695214242e+20,4.0472156497719034e+20,4.056439021808758e+20,4.064740056641928e+20,4.0721187542714116e+20,4.079497451900895e+20,4.087798486734065e+20,4.09702185877092e+20,4.1062452308077747e+20,4.1154686028446296e+20,4.1246919748814845e+20,4.132070672510968e+20,4.141294044547823e+20,4.150517416584678e+20,4.159740788621533e+20,4.168964160658388e+20,4.1772651954915574e+20,4.184643893121041e+20,4.193867265157896e+20,4.2021682999910656e+20,4.210469334824235e+20,4.217848032453719e+20,4.2252267300832025e+20,4.232605427712686e+20,4.240906462545856e+20,4.250129834582711e+20,4.25843086941588e+20,4.26673190424905e+20,4.2741106018785336e+20,4.282411636711703e+20,4.291635008748558e+20,4.299013706378042e+20,4.3082370784148967e+20,4.3174604504517516e+20,4.3266838224886065e+20,4.3359071945254614e+20,4.345130566562316e+20,4.354353938599171e+20,4.362654973432341e+20,4.3709560082655104e+20,4.37925704309868e+20,4.388480415135535e+20,4.3967814499687046e+20,4.4060048220055595e+20,4.414305856838729e+20,4.423529228875584e+20,4.432752600912439e+20,4.4410536357456085e+20,4.4502770077824634e+20,4.459500379819318e+20,4.468723751856173e+20,4.477024786689343e+20,4.4844034843188265e+20,4.4936268563556814e+20,4.502850228392536e+20,4.512073600429391e+20,4.520374635262561e+20,4.529598007299416e+20,4.5388213793362706e+20,4.5480447513731256e+20,4.5572681234099805e+20,4.5664914954468354e+20,4.57571486748369e+20,4.584938239520545e+20,4.593239274353715e+20,4.6015403091868844e+20,4.608919006816368e+20,4.617220041649538e+20,4.622754064871651e+20,4.6301327625011344e+20,4.638433797334304e+20,4.647657169371159e+20,4.6550358670006426e+20,4.6642592390374975e+20,4.672560273870667e+20,4.681783645907522e+20,4.691007017944377e+20,4.700230389981232e+20,4.709453762018087e+20,4.7168324596475704e+20,4.723288820073369e+20,4.732512192110224e+20,4.7398908897397074e+20,4.748191924572877e+20,4.7564929594060466e+20,4.7657163314429015e+20,4.7749397034797564e+20,4.783240738312926e+20,4.792464110349781e+20,4.801687482386636e+20,4.810910854423491e+20,4.8201342264603456e+20,4.826590586886144e+20,4.835813958922999e+20,4.845037330959854e+20,4.8533383657930234e+20,4.8625617378298783e+20,4.871785109866733e+20,4.881008481903588e+20,4.890231853940443e+20,4.899455225977298e+20,4.9068339236067816e+20,4.9160572956436365e+20,4.924358330476806e+20,4.933581702513661e+20,4.9418827373468307e+20,4.95018377218e+20,4.959407144216855e+20,4.967708179050025e+20,4.97693155108688e+20,4.9861549231237346e+20,4.993533620753218e+20,5.002756992790073e+20,5.011980364826928e+20,5.021203736863783e+20,5.030427108900638e+20,5.039650480937493e+20,5.048873852974348e+20,5.0580972250112026e+20,5.0673205970480575e+20,5.0765439690849124e+20,5.0857673411217673e+20,5.093146038751251e+20,5.102369410788106e+20,5.111592782824961e+20,5.120816154861816e+20,5.1291171896949853e+20,5.13834056173184e+20,5.14664159656501e+20,5.155864968601865e+20,5.1650883406387197e+20,5.1743117126755746e+20,5.1835350847124295e+20,5.1927584567492844e+20,5.201981828786139e+20,5.211205200822994e+20,5.220428572859849e+20,5.229651944896704e+20,5.2379529797298736e+20,5.2471763517667285e+20,5.2563997238035834e+20,5.264700758636753e+20,5.273001793469923e+20,5.281302828303092e+20,5.289603863136262e+20,5.298827235173117e+20,5.308050607209972e+20,5.3172739792468266e+20,5.325575014079996e+20,5.333876048913166e+20,5.343099420950021e+20,5.3523227929868757e+20,5.359701490616359e+20,5.368002525449529e+20,5.377225897486384e+20,5.386449269523239e+20,5.3956726415600937e+20,5.4048960135969486e+20,5.4141193856338035e+20,5.421498083263287e+20,5.428876780892771e+20,5.438100152929626e+20,5.4454788505591094e+20,5.453779885392279e+20,5.463003257429134e+20,5.472226629465989e+20,5.481450001502844e+20,5.489751036336013e+20,5.498974408372868e+20,5.508197780409723e+20,5.516498815242893e+20,5.5247998500760624e+20,5.533100884909232e+20,5.542324256946087e+20,5.551547628982942e+20,5.5598486638161114e+20,5.567227361445595e+20,5.5755283962787647e+20,5.583829431111934e+20,5.593052803148789e+20,5.602276175185644e+20,5.611499547222499e+20,5.620722919259354e+20,5.6281016168888376e+20,5.636402651722007e+20,5.643781349351491e+20,5.653004721388346e+20,5.6613057562215154e+20,5.67052912825837e+20,5.679752500295225e+20,5.68897587233208e+20,5.69727690716525e+20,5.705577941998419e+20,5.714801314035274e+20,5.723102348868444e+20,5.732325720905299e+20,5.7415490929421536e+20,5.748927790571637e+20,5.758151162608492e+20,5.767374534645347e+20,5.776597906682202e+20,5.785821278719057e+20,5.7941223135522265e+20,5.8033456855890815e+20,5.80980204601488e+20,5.8171807436443635e+20,5.825481778477533e+20,5.833782813310703e+20,5.8430061853475576e+20,5.8522295573844125e+20,5.8614529294212674e+20,5.8706763014581223e+20,5.879899673494977e+20,5.889123045531832e+20,5.898346417568687e+20,5.906647452401857e+20,5.914948487235026e+20,5.923249522068196e+20,5.93247289410505e+20,5.94077392893822e+20,5.948152626567703e+20,5.957375998604558e+20,5.966599370641412e+20,5.975822742678266e+20,5.984123777511436e+20,5.988735463529863e+20,5.997958835566717e+20,6.007182207603571e+20,6.016405579640426e+20,6.024706614473595e+20,6.03392998651045e+20,6.043153358547304e+20,6.052376730584158e+20,6.061600102621012e+20,6.069901137454182e+20,6.079124509491036e+20,6.08834788152789e+20,6.097571253564745e+20,6.105872288397914e+20,6.115095660434769e+20,6.121552020860566e+20,6.13077539289742e+20,6.139998764934275e+20,6.149222136971129e+20,6.158445509007983e+20,6.167668881044837e+20,6.176892253081692e+20,6.185193287914861e+20,6.194416659951716e+20,6.202717694784885e+20,6.211018729618055e+20,6.220242101654909e+20,6.229465473691763e+20,6.238688845728618e+20,6.247912217765472e+20,6.256213252598641e+20,6.264514287431811e+20,6.273737659468665e+20,6.28296103150552e+20,6.292184403542374e+20,6.301407775579228e+20,6.308786473208712e+20,6.317087508041881e+20,6.325388542875051e+20,6.33368957770822e+20,6.34199061254139e+20,6.35029164737456e+20,6.359515019411414e+20,6.368738391448268e+20,6.377961763485123e+20,6.387185135521977e+20,6.395486170355146e+20,6.404709542392001e+20,6.411165902817798e+20,6.419466937650968e+20,6.427767972484138e+20,6.436069007317307e+20,6.443447704946791e+20,6.452671076983645e+20,6.460972111816815e+20,6.469273146649984e+20,6.476651844279468e+20,6.484952879112638e+20,6.493253913945807e+20,6.499710274371605e+20,6.508933646408459e+20,6.518157018445313e+20,6.527380390482168e+20,6.534759088111651e+20,6.543982460148506e+20,6.550438820574303e+20,6.559662192611158e+20,6.568885564648012e+20,6.577186599481181e+20,6.586409971518036e+20,6.594711006351205e+20,6.60393437838806e+20,6.612235413221229e+20,6.621458785258083e+20,6.630682157294938e+20,6.638983192128107e+20,6.648206564164962e+20,6.656507598998131e+20,6.664808633831301e+20,6.674032005868155e+20,6.683255377905009e+20,6.692478749941864e+20,6.701702121978718e+20,6.710003156811887e+20,6.718304191645057e+20,6.726605226478227e+20,6.735828598515081e+20,6.742284958940879e+20,6.751508330977733e+20,6.760731703014587e+20,6.769032737847757e+20,6.778256109884611e+20,6.787479481921465e+20,6.793935842347263e+20,6.802236877180433e+20,6.810537912013602e+20,6.818838946846772e+20,6.828062318883626e+20,6.83728569092048e+20,6.843742051346278e+20,6.852043086179448e+20,6.861266458216302e+20,6.870489830253156e+20,6.87971320229001e+20,6.888936574326865e+20,6.898159946363719e+20,6.907383318400573e+20,6.916606690437427e+20,6.924907725270597e+20,6.933208760103767e+20,6.942432132140621e+20,6.951655504177475e+20,6.960878876214329e+20,6.970102248251184e+20,6.977480945880667e+20,6.986704317917522e+20,6.995005352750691e+20,7.003306387583861e+20,7.01160742241703e+20,7.020830794453885e+20,7.030054166490739e+20,7.037432864120223e+20,7.046656236157077e+20,7.055879608193931e+20,7.0641806430271e+20,7.071559340656584e+20,7.078938038286068e+20,7.087239073119238e+20,7.096462445156092e+20,7.105685817192946e+20,7.1149091892298e+20,7.124132561266655e+20,7.133355933303509e+20,7.141656968136678e+20,7.150880340173533e+20,7.159181375006702e+20,7.168404747043557e+20,7.177628119080411e+20,7.186851491117265e+20,7.195152525950435e+20,7.202531223579918e+20,7.210832258413088e+20,7.219133293246258e+20,7.228356665283112e+20,7.236657700116281e+20,7.245881072153136e+20,7.253259769782619e+20,7.261560804615789e+20,7.268939502245273e+20,7.277240537078442e+20,7.286463909115296e+20,7.295687281152151e+20,7.304910653189005e+20,7.314134025225859e+20,7.322435060059029e+20,7.330736094892198e+20,7.339959466929053e+20,7.349182838965907e+20,7.357483873799077e+20,7.36486257142856e+20,7.374085943465414e+20,7.383309315502269e+20,7.392532687539123e+20,7.401756059575977e+20,7.410057094409147e+20,7.419280466446001e+20,7.428503838482855e+20,7.43772721051971e+20,7.446028245352879e+20,7.455251617389733e+20,7.464474989426588e+20,7.472776024259757e+20,7.481999396296612e+20,7.490300431129781e+20,7.499523803166635e+20,7.507824837999805e+20,7.517048210036659e+20,7.526271582073514e+20,7.534572616906683e+20,7.541951314536167e+20,7.551174686573021e+20,7.560398058609875e+20,7.56962143064673e+20,7.578844802683584e+20,7.588068174720438e+20,7.597291546757292e+20,7.605592581590462e+20,7.612971279219946e+20,7.621272314053115e+20,7.63049568608997e+20,7.638796720923139e+20,7.648020092959993e+20,7.656321127793163e+20,7.665544499830017e+20,7.674767871866871e+20,7.683991243903726e+20,7.69321461594058e+20,7.702437987977434e+20,7.711661360014288e+20,7.719962394847458e+20,7.729185766884312e+20,7.737486801717482e+20,7.746710173754336e+20,7.75593354579119e+20,7.763312243420674e+20,7.772535615457528e+20,7.779914313087012e+20,7.788215347920182e+20,7.797438719957036e+20,7.805739754790206e+20,7.814040789623375e+20,7.821419487252859e+20,7.829720522086028e+20,7.838943894122883e+20,7.847244928956052e+20,7.854623626585536e+20,7.86384699862239e+20,7.873070370659244e+20,7.882293742696099e+20,7.891517114732953e+20,7.899818149566123e+20,7.909041521602977e+20,7.91642021923246e+20,7.925643591269315e+20,7.934866963306169e+20,7.944090335343023e+20,7.952391370176193e+20,7.960692405009362e+20,7.96714876543516e+20,7.97544980026833e+20,7.9837508351015e+20,7.992051869934669e+20,8.001275241971523e+20,8.010498614008378e+20,8.019721986045232e+20,8.028023020878401e+20,8.037246392915256e+20,8.045547427748425e+20,8.05477079978528e+20,8.063071834618449e+20,8.072295206655303e+20,8.080596241488473e+20,8.089819613525327e+20,8.099042985562181e+20,8.107344020395351e+20,8.116567392432205e+20,8.12579076446906e+20,8.135014136505914e+20,8.144237508542768e+20,8.153460880579622e+20,8.160839578209106e+20,8.169140613042276e+20,8.177441647875445e+20,8.184820345504929e+20,8.194043717541783e+20,8.202344752374953e+20,8.210645787208122e+20,8.219869159244977e+20,8.228170194078146e+20,8.237393566115e+20,8.24569460094817e+20,8.253073298577654e+20,8.261374333410823e+20,8.270597705447678e+20,8.278898740280847e+20,8.288122112317701e+20,8.296423147150871e+20,8.305646519187725e+20,8.31486989122458e+20,8.322248588854063e+20,8.331471960890918e+20,8.339772995724087e+20,8.348996367760941e+20,8.358219739797796e+20,8.366520774630965e+20,8.37574414666782e+20,8.384967518704674e+20,8.394190890741528e+20,8.403414262778382e+20,8.412637634815237e+20,8.421861006852091e+20,8.43016204168526e+20,8.439385413722115e+20,8.446764111351598e+20,8.455987483388453e+20,8.464288518221622e+20,8.473511890258476e+20,8.481812925091646e+20,8.490113959924816e+20,8.49933733196167e+20,8.506716029591154e+20,8.515017064424323e+20,8.524240436461177e+20,8.532541471294347e+20,8.541764843331201e+20,8.550988215368056e+20,8.56021158740491e+20,8.56851262223808e+20,8.577735994274934e+20,8.586037029108103e+20,8.595260401144958e+20,8.604483773181812e+20,8.613707145218666e+20,8.62293051725552e+20,8.632153889292375e+20,8.640454924125544e+20,8.649678296162398e+20,8.657979330995568e+20,8.667202703032422e+20,8.676426075069276e+20,8.685649447106131e+20,8.6939504819393e+20],\"type\":\"scatter\"},{\"mode\":\"lines+markers\",\"name\":\"Q-Learning\",\"x\":[0,1,2,3,4,5,6,7,8,9,10,11,12,13,14,15,16,17,18,19,20,21,22,23,24,25,26,27,28,29,30,31,32,33,34,35,36,37,38,39,40,41,42,43,44,45,46,47,48,49,50,51,52,53,54,55,56,57,58,59,60,61,62,63,64,65,66,67,68,69,70,71,72,73,74,75,76,77,78,79,80,81,82,83,84,85,86,87,88,89,90,91,92,93,94,95,96,97,98,99,100,101,102,103,104,105,106,107,108,109,110,111,112,113,114,115,116,117,118,119,120,121,122,123,124,125,126,127,128,129,130,131,132,133,134,135,136,137,138,139,140,141,142,143,144,145,146,147,148,149,150,151,152,153,154,155,156,157,158,159,160,161,162,163,164,165,166,167,168,169,170,171,172,173,174,175,176,177,178,179,180,181,182,183,184,185,186,187,188,189,190,191,192,193,194,195,196,197,198,199,200,201,202,203,204,205,206,207,208,209,210,211,212,213,214,215,216,217,218,219,220,221,222,223,224,225,226,227,228,229,230,231,232,233,234,235,236,237,238,239,240,241,242,243,244,245,246,247,248,249,250,251,252,253,254,255,256,257,258,259,260,261,262,263,264,265,266,267,268,269,270,271,272,273,274,275,276,277,278,279,280,281,282,283,284,285,286,287,288,289,290,291,292,293,294,295,296,297,298,299,300,301,302,303,304,305,306,307,308,309,310,311,312,313,314,315,316,317,318,319,320,321,322,323,324,325,326,327,328,329,330,331,332,333,334,335,336,337,338,339,340,341,342,343,344,345,346,347,348,349,350,351,352,353,354,355,356,357,358,359,360,361,362,363,364,365,366,367,368,369,370,371,372,373,374,375,376,377,378,379,380,381,382,383,384,385,386,387,388,389,390,391,392,393,394,395,396,397,398,399,400,401,402,403,404,405,406,407,408,409,410,411,412,413,414,415,416,417,418,419,420,421,422,423,424,425,426,427,428,429,430,431,432,433,434,435,436,437,438,439,440,441,442,443,444,445,446,447,448,449,450,451,452,453,454,455,456,457,458,459,460,461,462,463,464,465,466,467,468,469,470,471,472,473,474,475,476,477,478,479,480,481,482,483,484,485,486,487,488,489,490,491,492,493,494,495,496,497,498,499,500,501,502,503,504,505,506,507,508,509,510,511,512,513,514,515,516,517,518,519,520,521,522,523,524,525,526,527,528,529,530,531,532,533,534,535,536,537,538,539,540,541,542,543,544,545,546,547,548,549,550,551,552,553,554,555,556,557,558,559,560,561,562,563,564,565,566,567,568,569,570,571,572,573,574,575,576,577,578,579,580,581,582,583,584,585,586,587,588,589,590,591,592,593,594,595,596,597,598,599,600,601,602,603,604,605,606,607,608,609,610,611,612,613,614,615,616,617,618,619,620,621,622,623,624,625,626,627,628,629,630,631,632,633,634,635,636,637,638,639,640,641,642,643,644,645,646,647,648,649,650,651,652,653,654,655,656,657,658,659,660,661,662,663,664,665,666,667,668,669,670,671,672,673,674,675,676,677,678,679,680,681,682,683,684,685,686,687,688,689,690,691,692,693,694,695,696,697,698,699,700,701,702,703,704,705,706,707,708,709,710,711,712,713,714,715,716,717,718,719,720,721,722,723,724,725,726,727,728,729,730,731,732,733,734,735,736,737,738,739,740,741,742,743,744,745,746,747,748,749,750,751,752,753,754,755,756,757,758,759,760,761,762,763,764,765,766,767,768,769,770,771,772,773,774,775,776,777,778,779,780,781,782,783,784,785,786,787,788,789,790,791,792,793,794,795,796,797,798,799,800,801,802,803,804,805,806,807,808,809,810,811,812,813,814,815,816,817,818,819,820,821,822,823,824,825,826,827,828,829,830,831,832,833,834,835,836,837,838,839,840,841,842,843,844,845,846,847,848,849,850,851,852,853,854,855,856,857,858,859,860,861,862,863,864,865,866,867,868,869,870,871,872,873,874,875,876,877,878,879,880,881,882,883,884,885,886,887,888,889,890,891,892,893,894,895,896,897,898,899,900,901,902,903,904,905,906,907,908,909,910,911,912,913,914,915,916,917,918,919,920,921,922,923,924,925,926,927,928,929,930,931,932,933,934,935,936,937,938,939,940,941,942,943,944,945,946,947,948,949,950,951,952,953,954,955,956,957,958,959,960,961,962,963,964,965,966,967,968,969,970,971,972,973,974,975,976,977,978,979,980,981,982,983,984,985,986,987,988,989,990,991,992,993,994,995,996,997,998,999],\"y\":[-1.488,9223372036854772.0,4.611686018427387e+16,1.0145709240540253e+17,1.9369081277395027e+17,2.8592453314249805e+17,3.781582535110458e+17,4.703919738795936e+17,5.534023222112866e+17,6.271892985061248e+17,7.101996468378177e+17,7.932099951695107e+17,8.669969714643489e+17,9.592306918328966e+17,1.0514644122014444e+18,1.1436981325699921e+18,1.226708480901685e+18,1.309718829233378e+18,1.392729177565071e+18,1.484962897933619e+18,1.567973246265312e+18,1.6602069666338598e+18,1.743217314965553e+18,1.826227663297246e+18,1.9000146395920842e+18,1.992248359960632e+18,2.075258708292325e+18,2.1582690566240182e+18,2.2320560329188564e+18,2.315066381250549e+18,2.3888533575453875e+18,2.462640333840226e+18,2.5548740542087736e+18,2.6378844025404667e+18,2.7301181229090145e+18,2.8223518432775624e+18,2.9053621916092554e+18,2.9975959119778033e+18,3.089829632346351e+18,3.172839980678044e+18,3.255850329009737e+18,3.3388606773414303e+18,3.431094397709978e+18,3.514104746041671e+18,3.606338466410219e+18,3.698572186778767e+18,3.7908059071473147e+18,3.8830396275158625e+18,3.956826603810701e+18,4.0490603241792486e+18,4.1320706725109417e+18,4.215081020842635e+18,4.3073147412111826e+18,4.3903250895428756e+18,4.4733354378745687e+18,4.556345786206262e+18,4.648579506574809e+18,4.740813226943357e+18,4.833046947311905e+18,4.925280667680453e+18,5.008291016012146e+18,5.091301364343839e+18,5.183535084712387e+18,5.257322061007225e+18,5.340332409338918e+18,5.423342757670611e+18,5.515576478039159e+18,5.607810198407707e+18,5.6908205467394e+18,5.783054267107948e+18,5.875287987476495e+18,5.958298335808188e+18,6.050532056176736e+18,6.142765776545284e+18,6.234999496913832e+18,6.32723321728238e+18,6.419466937650928e+18,6.511700658019475e+18,6.603934378388023e+18,6.696168098756571e+18,6.788401819125119e+18,6.843742051346248e+18,6.935975771714796e+18,7.028209492083343e+18,7.120443212451891e+18,7.212676932820439e+18,7.304910653188987e+18,7.378697629483825e+18,7.461707977815518e+18,7.544718326147211e+18,7.636952046515759e+18,7.729185766884307e+18,7.821419487252855e+18,7.904429835584548e+18,7.987440183916241e+18,8.079673904284789e+18,8.171907624653337e+18,8.25491797298503e+18,8.328704949279868e+18,8.411715297611561e+18,8.494725645943254e+18,8.577735994274947e+18,8.669969714643495e+18,8.762203435012043e+18,8.845213783343736e+18,8.937447503712284e+18,9.029681224080831e+18,9.121914944449379e+18,9.214148664817927e+18,9.287935641112764e+18,9.370945989444456e+18,9.453956337776148e+18,9.527743314070987e+18,9.619977034439535e+18,9.712210754808082e+18,9.80444447517663e+18,9.887454823508322e+18,9.97968854387687e+18,1.0062698892208562e+19,1.015493261257711e+19,1.0237942960908802e+19,1.0320953309240494e+19,1.0403963657572186e+19,1.0477750633867024e+19,1.0569984354235572e+19,1.066221807460412e+19,1.0754451794972668e+19,1.0846685515341216e+19,1.0938919235709764e+19,1.1031152956078311e+19,1.112338667644686e+19,1.1197173652741698e+19,1.1289407373110245e+19,1.1381641093478793e+19,1.1473874813847341e+19,1.1556885162179033e+19,1.164911888254758e+19,1.172290585884242e+19,1.1805916207174111e+19,1.189814992754266e+19,1.1990383647911207e+19,1.2073393996242899e+19,1.2165627716611447e+19,1.2220967948832575e+19,1.2313201669201123e+19,1.2405435389569671e+19,1.247922236586451e+19,1.2571456086233057e+19,1.2663689806601605e+19,1.2755923526970153e+19,1.28481572473387e+19,1.2940390967707249e+19,1.302340131603894e+19,1.3115635036407489e+19,1.3207868756776036e+19,1.3290879105107728e+19,1.3383112825476276e+19,1.3475346545844824e+19,1.3567580266213372e+19,1.365981398658192e+19,1.3742824334913612e+19,1.383505805528216e+19,1.3927291775650707e+19,1.4019525496019255e+19,1.4111759216387803e+19,1.420399293675635e+19,1.4296226657124899e+19,1.437923700545659e+19,1.4462247353788283e+19,1.455448107415683e+19,1.4646714794525379e+19,1.4738948514893926e+19,1.4831182235262474e+19,1.4895745839520457e+19,1.4951086071741585e+19,1.5043319792110133e+19,1.5126330140441825e+19,1.5209340488773517e+19,1.5301574209142065e+19,1.5393807929510613e+19,1.5476818277842305e+19,1.5559828626173997e+19,1.5615168858395126e+19,1.5688955834689964e+19,1.5771966183021656e+19,1.5864199903390204e+19,1.5928763507648186e+19,1.6011773855979878e+19,1.6085560832274717e+19,1.6177794552643265e+19,1.6270028273011812e+19,1.636226199338036e+19,1.6454495713748908e+19,1.65375060620806e+19,1.6629739782449148e+19,1.6721973502817696e+19,1.6814207223186244e+19,1.6906440943554791e+19,1.6971004547812774e+19,1.7063238268181322e+19,1.715547198854987e+19,1.7238482336881562e+19,1.7321492685213254e+19,1.7404503033544946e+19,1.7487513381876638e+19,1.7579747102245186e+19,1.7644310706503168e+19,1.7718097682798006e+19,1.7810331403166554e+19,1.7902565123535102e+19,1.799479884390365e+19,1.8087032564272198e+19,1.8160819540567036e+19,1.8253053260935584e+19,1.8308393493156712e+19,1.8391403841488404e+19,1.8474414189820097e+19,1.8566647910188642e+19,1.865888163055719e+19,1.874189197888888e+19,1.8834125699257426e+19,1.892635941962597e+19,1.9018593139994518e+19,1.9110826860363063e+19,1.920306058073161e+19,1.9295294301100155e+19,1.93875280214687e+19,1.9479761741837246e+19,1.9571995462205792e+19,1.966422918257434e+19,1.9756462902942884e+19,1.984869662331143e+19,1.993170697164312e+19,2.000549394793796e+19,2.0097727668306506e+19,2.018996138867505e+19,2.026374836496989e+19,2.0355982085338436e+19,2.0438992433670128e+19,2.0531226154038673e+19,2.0614236502370365e+19,2.070647022273891e+19,2.0798703943107457e+19,2.088171429143915e+19,2.0955501267733987e+19,2.1047734988102533e+19,2.1130745336434225e+19,2.1213755684765917e+19,2.129676603309761e+19,2.1388999753466155e+19,2.14812334738347e+19,2.1573467194203247e+19,2.1647254170498085e+19,2.173948789086663e+19,2.1822498239198323e+19,2.191473195956687e+19,2.2006965679935414e+19,2.209919940030396e+19,2.2191433120672506e+19,2.2274443469004198e+19,2.2366677189372744e+19,2.245891090974129e+19,2.254192125807298e+19,2.2624931606404674e+19,2.271716532677322e+19,2.2809399047141765e+19,2.2892409395473457e+19,2.2984643115842003e+19,2.307687683621055e+19,2.315988718454224e+19,2.3242897532873933e+19,2.333513125324248e+19,2.3427364973611024e+19,2.351959869397957e+19,2.3611832414348116e+19,2.370406613471666e+19,2.3796299855085208e+19,2.38793102034169e+19,2.3971543923785445e+19,2.406377764415399e+19,2.4156011364522537e+19,2.423902171285423e+19,2.4331255433222775e+19,2.442348915359132e+19,2.4515722873959866e+19,2.4607956594328412e+19,2.470019031469696e+19,2.4792424035065504e+19,2.4875434383397196e+19,2.496766810376574e+19,2.5050678452097434e+19,2.514291217246598e+19,2.5235145892834525e+19,2.532737961320307e+19,2.5419613333571617e+19,2.550262368190331e+19,2.5594857402271855e+19,2.5668644378566693e+19,2.5751654726898385e+19,2.584388844726693e+19,2.591767542356177e+19,2.6009909143930315e+19,2.6092919492262007e+19,2.61759298405937e+19,2.6268163560962245e+19,2.636039728133079e+19,2.6452631001699336e+19,2.654486472206788e+19,2.6637098442436428e+19,2.6729332162804974e+19,2.6812342511136666e+19,2.690457623150521e+19,2.6996809951873757e+19,2.7089043672242303e+19,2.718127739261085e+19,2.7273511112979395e+19,2.736574483334794e+19,2.7457978553716486e+19,2.755021227408503e+19,2.7642445994453578e+19,2.7734679714822124e+19,2.780846669111696e+19,2.7891477039448654e+19,2.7974487387780346e+19,2.8057497736112038e+19,2.814050808444373e+19,2.8232741804812276e+19,2.8306528781107114e+19,2.83710923853651e+19,2.845410273369679e+19,2.8546336454065336e+19,2.8638570174433882e+19,2.8730803894802428e+19,2.8823037615170974e+19,2.891527133553952e+19,2.9007505055908065e+19,2.909973877627661e+19,2.9191972496645157e+19,2.9265759472939995e+19,2.9339546449234833e+19,2.943178016960338e+19,2.9524013889971925e+19,2.961624761034047e+19,2.9708481330709017e+19,2.9800715051077562e+19,2.989294877144611e+19,2.9985182491814654e+19,3.00774162121832e+19,3.0169649932551746e+19,3.026188365292029e+19,3.0344894001251983e+19,3.043712772162053e+19,3.0529361441989075e+19,3.062159516235762e+19,3.069538213865246e+19,3.077839248698415e+19,3.0870626207352697e+19,3.0962859927721243e+19,3.1045870276052935e+19,3.113810399642148e+19,3.1230337716790026e+19,3.132257143715857e+19,3.1414805157527118e+19,3.149781550585881e+19,3.1590049226227356e+19,3.1663836202522194e+19,3.1746846550853886e+19,3.182985689918558e+19,3.1903643875480416e+19,3.1995877595848962e+19,3.2088111316217508e+19,3.21711216645492e+19,3.225413201288089e+19,3.2346365733249438e+19,3.242937608158113e+19,3.251238642991282e+19,3.2595396778244514e+19,3.268763049861306e+19,3.2779864218981605e+19,3.287209793935015e+19,3.294588491564499e+19,3.302889526397668e+19,3.3121128984345227e+19,3.3213362704713773e+19,3.330559642508232e+19,3.338860677341401e+19,3.3471617121745703e+19,3.3554627470077395e+19,3.3637637818409087e+19,3.3729871538777633e+19,3.382210525914618e+19,3.390511560747787e+19,3.3997349327846416e+19,3.4089583048214962e+19,3.418181676858351e+19,3.4274050488952054e+19,3.43662842093206e+19,3.444929455765229e+19,3.4541528278020837e+19,3.4615315254315676e+19,3.4698325602647368e+19,3.4790559323015913e+19,3.488279304338446e+19,3.4975026763753005e+19,3.506726048412155e+19,3.5159494204490097e+19,3.5251727924858642e+19,3.5334738273190334e+19,3.542697199355888e+19,3.5519205713927426e+19,3.561143943429597e+19,3.5694449782627664e+19,3.5777460130959356e+19,3.5860470479291048e+19,3.5952704199659594e+19,3.604493792002814e+19,3.6137171640396685e+19,3.622940536076523e+19,3.6321639081133777e+19,3.6413872801502323e+19,3.650610652187087e+19,3.6598340242239414e+19,3.669057396260796e+19,3.6773584310939652e+19,3.6865818031308198e+19,3.695805175167675e+19,3.704106210000844e+19,3.713329582037699e+19,3.7225529540745535e+19,3.731776326111408e+19,3.740999698148263e+19,3.750223070185117e+19,3.758524105018287e+19,3.7677474770551415e+19,3.776970849091996e+19,3.785271883925166e+19,3.79449525596202e+19,3.803718627998875e+19,3.812942000035729e+19,3.822165372072584e+19,3.830466406905754e+19,3.838767441738923e+19,3.847990813775778e+19,3.856291848608947e+19,3.865515220645802e+19,3.8747385926826566e+19,3.883961964719511e+19,3.893185336756366e+19,3.901486371589535e+19,3.91070974362639e+19,3.9199331156632445e+19,3.929156487700099e+19,3.938379859736954e+19,3.947603231773808e+19,3.956826603810663e+19,3.966049975847517e+19,3.975273347884372e+19,3.9844967199212265e+19,3.993720091958081e+19,4.002943463994936e+19,4.01216683603179e+19,4.021390208068645e+19,4.0306135801054994e+19,4.039836952142354e+19,4.047215649771838e+19,4.0564390218086924e+19,4.064740056641862e+19,4.072118754271346e+19,4.07949745190083e+19,4.087798486733999e+19,4.097021858770854e+19,4.1062452308077085e+19,4.115468602844563e+19,4.124691974881418e+19,4.1320706725109015e+19,4.141294044547756e+19,4.150517416584611e+19,4.159740788621465e+19,4.16896416065832e+19,4.177265195491489e+19,4.184643893120973e+19,4.193867265157828e+19,4.202168299990997e+19,4.210469334824167e+19,4.217848032453651e+19,4.225226730083135e+19,4.2326054277126185e+19,4.240906462545788e+19,4.250129834582643e+19,4.258430869415812e+19,4.266731904248982e+19,4.274110601878466e+19,4.282411636711635e+19,4.29163500874849e+19,4.299013706377974e+19,4.308237078414828e+19,4.317460450451683e+19,4.3266838224885375e+19,4.335907194525392e+19,4.345130566562247e+19,4.354353938599101e+19,4.362654973432271e+19,4.3709560082654405e+19,4.37925704309861e+19,4.388480415135465e+19,4.396781449968634e+19,4.406004822005489e+19,4.4143058568386585e+19,4.423529228875513e+19,4.432752600912368e+19,4.441053635745537e+19,4.450277007782392e+19,4.459500379819246e+19,4.468723751856101e+19,4.4770247866892706e+19,4.484403484318754e+19,4.493626856355609e+19,4.5028502283924636e+19,4.512073600429318e+19,4.520374635262488e+19,4.529598007299342e+19,4.538821379336197e+19,4.5480447513730515e+19,4.557268123409906e+19,4.566491495446761e+19,4.575714867483615e+19,4.58493823952047e+19,4.5932392743536394e+19,4.601540309186809e+19,4.608919006816293e+19,4.6172200416494625e+19,4.6227540648715756e+19,4.630132762501059e+19,4.638433797334229e+19,4.6476571693710836e+19,4.655035867000567e+19,4.664259239037422e+19,4.6725602738705916e+19,4.681783645907446e+19,4.691007017944301e+19,4.700230389981155e+19,4.70945376201801e+19,4.716832459647494e+19,4.723288820073292e+19,4.732512192110146e+19,4.73989088973963e+19,4.7481919245728e+19,4.756492959405969e+19,4.765716331442824e+19,4.7749397034796786e+19,4.783240738312848e+19,4.792464110349703e+19,4.801687482386557e+19,4.810910854423412e+19,4.8201342264602665e+19,4.8265905868860645e+19,4.835813958922919e+19,4.845037330959774e+19,4.853338365792943e+19,4.862561737829798e+19,4.8717851098666525e+19,4.881008481903507e+19,4.890231853940362e+19,4.899455225977216e+19,4.9068339236067e+19,4.916057295643555e+19,4.924358330476724e+19,4.933581702513579e+19,4.9418827373467484e+19,4.950183772179918e+19,4.959407144216773e+19,4.967708179049942e+19,4.976931551086797e+19,4.986154923123651e+19,4.993533620753135e+19,5.00275699278999e+19,5.011980364826844e+19,5.021203736863699e+19,5.0304271089005535e+19,5.039650480937408e+19,5.048873852974263e+19,5.058097225011117e+19,5.067320597047972e+19,5.0765439690848264e+19,5.085767341121681e+19,5.093146038751165e+19,5.102369410788019e+19,5.111592782824874e+19,5.1208161548617286e+19,5.129117189694898e+19,5.138340561731753e+19,5.146641596564922e+19,5.155864968601777e+19,5.1650883406386315e+19,5.174311712675486e+19,5.183535084712341e+19,5.192758456749195e+19,5.20198182878605e+19,5.2112052008229044e+19,5.220428572859759e+19,5.2296519448966136e+19,5.237952979729783e+19,5.247176351766638e+19,5.256399723803492e+19,5.264700758636662e+19,5.2730017934698316e+19,5.281302828303001e+19,5.289603863136171e+19,5.298827235173025e+19,5.30805060720988e+19,5.3172739792467345e+19,5.325575014079904e+19,5.333876048913074e+19,5.343099420949928e+19,5.352322792986783e+19,5.359701490616267e+19,5.368002525449436e+19,5.377225897486291e+19,5.3864492695231455e+19,5.39567264156e+19,5.404896013596855e+19,5.414119385633709e+19,5.421498083263193e+19,5.428876780892677e+19,5.4381001529295315e+19,5.445478850559015e+19,5.453779885392185e+19,5.4630032574290395e+19,5.472226629465894e+19,5.481450001502749e+19,5.489751036335918e+19,5.498974408372773e+19,5.5081977804096274e+19,5.516498815242797e+19,5.524799850075967e+19,5.533100884909136e+19,5.542324256945991e+19,5.5515476289828454e+19,5.559848663816015e+19,5.567227361445499e+19,5.5755283962786685e+19,5.583829431111838e+19,5.593052803148693e+19,5.602276175185547e+19,5.611499547222402e+19,5.6207229192592564e+19,5.62810161688874e+19,5.63640265172191e+19,5.643781349351394e+19,5.653004721388248e+19,5.661305756221418e+19,5.6705291282582725e+19,5.679752500295127e+19,5.688975872331982e+19,5.697276907165151e+19,5.705577941998321e+19,5.7148013140351754e+19,5.723102348868345e+19,5.7323257209052e+19,5.741549092942054e+19,5.748927790571538e+19,5.758151162608393e+19,5.767374534645247e+19,5.776597906682102e+19,5.785821278718956e+19,5.794122313552126e+19,5.8033456855889805e+19,5.8098020460147786e+19,5.817180743644262e+19,5.825481778477432e+19,5.833782813310602e+19,5.843006185347456e+19,5.852229557384311e+19,5.861452929421165e+19,5.87067630145802e+19,5.8798996734948745e+19,5.889123045531729e+19,5.898346417568584e+19,5.906647452401753e+19,5.914948487234923e+19,5.9232495220680925e+19,5.932472894104947e+19,5.940773928938117e+19,5.9481526265676005e+19,5.957375998604455e+19,5.96659937064131e+19,5.975822742678164e+19,5.984123777511334e+19,5.988735463529761e+19,5.997958835566616e+19,6.00718220760347e+19,6.016405579640325e+19,6.0247066144734945e+19,6.033929986510349e+19,6.043153358547204e+19,6.052376730584058e+19,6.061600102620913e+19,6.0699011374540825e+19,6.079124509490937e+19,6.088347881527792e+19,6.097571253564646e+19,6.105872288397816e+19,6.11509566043467e+19,6.1215520208604684e+19,6.130775392897323e+19,6.1399987649341776e+19,6.149222136971032e+19,6.158445509007887e+19,6.167668881044741e+19,6.176892253081596e+19,6.1851932879147655e+19,6.19441665995162e+19,6.20271769478479e+19,6.211018729617959e+19,6.220242101654814e+19,6.2294654736916685e+19,6.238688845728523e+19,6.247912217765378e+19,6.256213252598547e+19,6.264514287431717e+19,6.2737376594685714e+19,6.282961031505426e+19,6.292184403542281e+19,6.301407775579135e+19,6.308786473208619e+19,6.317087508041789e+19,6.325388542874958e+19,6.333689577708128e+19,6.3419906125412975e+19,6.350291647374467e+19,6.359515019411322e+19,6.368738391448176e+19,6.377961763485031e+19,6.387185135521885e+19,6.395486170355055e+19,6.4047095423919096e+19,6.411165902817708e+19,6.419466937650877e+19,6.427767972484047e+19,6.4360690073172165e+19,6.4434477049467e+19,6.452671076983555e+19,6.4609721118167245e+19,6.469273146649894e+19,6.476651844279378e+19,6.4849528791125475e+19,6.493253913945717e+19,6.499710274371515e+19,6.50893364640837e+19,6.518157018445224e+19,6.527380390482079e+19,6.534759088111563e+19,6.543982460148417e+19,6.550438820574215e+19,6.55966219261107e+19,6.5688855646479245e+19,6.577186599481094e+19,6.586409971517949e+19,6.594711006351118e+19,6.603934378387973e+19,6.6122354132211425e+19,6.621458785257997e+19,6.630682157294852e+19,6.638983192128021e+19,6.648206564164876e+19,6.6565075989980455e+19,6.664808633831215e+19,6.67403200586807e+19,6.683255377904924e+19,6.692478749941779e+19,6.7017021219786334e+19,6.710003156811803e+19,6.718304191644973e+19,6.726605226478142e+19,6.735828598514997e+19,6.742284958940795e+19,6.7515083309776495e+19,6.760731703014504e+19,6.769032737847674e+19,6.778256109884528e+19,6.787479481921383e+19,6.793935842347181e+19,6.8022368771803505e+19,6.81053791201352e+19,6.81883894684669e+19,6.828062318883544e+19,6.837285690920399e+19,6.843742051346197e+19,6.8520430861793665e+19,6.861266458216221e+19,6.870489830253076e+19,6.87971320228993e+19,6.888936574326785e+19,6.898159946363639e+19,6.907383318400494e+19,6.9166066904373486e+19,6.924907725270518e+19,6.933208760103688e+19,6.942432132140542e+19,6.951655504177397e+19,6.9608788762142515e+19,6.970102248251106e+19,6.97748094588059e+19,6.9867043179174445e+19,6.995005352750614e+19,7.003306387583784e+19,7.011607422416953e+19,7.020830794453808e+19,7.0300541664906625e+19,7.037432864120146e+19,7.046656236157001e+19,7.0558796081938555e+19,7.064180643027025e+19,7.071559340656509e+19,7.078938038285993e+19,7.087239073119162e+19,7.096462445156017e+19,7.1056858171928715e+19,7.114909189229726e+19,7.124132561266581e+19,7.133355933303435e+19,7.141656968136605e+19,7.1508803401734595e+19,7.159181375006629e+19,7.168404747043484e+19,7.177628119080338e+19,7.186851491117193e+19,7.1951525259503624e+19,7.202531223579846e+19,7.210832258413016e+19,7.2191332932461855e+19,7.22835666528304e+19,7.23665770011621e+19,7.245881072153064e+19,7.253259769782548e+19,7.261560804615718e+19,7.2689395022452015e+19,7.277240537078371e+19,7.286463909115226e+19,7.29568728115208e+19,7.304910653188935e+19,7.3141340252257894e+19,7.322435060058959e+19,7.330736094892129e+19,7.339959466928983e+19,7.349182838965838e+19,7.3574838737990074e+19,7.364862571428491e+19,7.374085943465346e+19,7.383309315502201e+19,7.392532687539056e+19,7.40175605957591e+19,7.41005709440908e+19,7.419280466445935e+19,7.428503838482789e+19,7.437727210519644e+19,7.446028245352813e+19,7.455251617389668e+19,7.464474989426523e+19,7.472776024259692e+19,7.481999396296547e+19,7.490300431129716e+19,7.499523803166571e+19,7.50782483799974e+19,7.517048210036595e+19,7.52627158207345e+19,7.53457261690662e+19,7.541951314536102e+19,7.551174686572957e+19,7.560398058609811e+19,7.569621430646666e+19,7.57884480268352e+19,7.588068174720375e+19,7.59729154675723e+19,7.6055925815904e+19,7.612971279219882e+19,7.621272314053052e+19,7.630495686089907e+19,7.638796720923076e+19,7.64802009295993e+19,7.6563211277931e+19,7.665544499829955e+19,7.67476787186681e+19,7.683991243903664e+19,7.693214615940519e+19,7.702437987977373e+19,7.711661360014228e+19,7.719962394847397e+19,7.729185766884252e+19,7.737486801717422e+19,7.746710173754276e+19,7.755933545791131e+19,7.763312243420614e+19,7.772535615457468e+19,7.779914313086951e+19,7.788215347920121e+19,7.797438719956976e+19,7.805739754790145e+19,7.814040789623315e+19,7.821419487252798e+19,7.829720522085967e+19,7.838943894122822e+19,7.847244928955992e+19,7.854623626585475e+19,7.86384699862233e+19,7.873070370659184e+19,7.882293742696038e+19,7.891517114732893e+19,7.899818149566063e+19,7.909041521602917e+19,7.9164202192324e+19,7.925643591269255e+19,7.93486696330611e+19,7.944090335342964e+19,7.952391370176134e+19,7.960692405009303e+19,7.967148765435101e+19,7.97544980026827e+19,7.98375083510144e+19,7.99205186993461e+19,8.001275241971465e+19,8.01049861400832e+19,8.019721986045174e+19,8.028023020878343e+19,8.037246392915198e+19,8.045547427748368e+19,8.054770799785222e+19,8.063071834618392e+19,8.072295206655246e+19,8.080596241488416e+19,8.08981961352527e+19,8.099042985562125e+19,8.107344020395295e+19,8.11656739243215e+19,8.125790764469004e+19,8.135014136505858e+19,8.144237508542713e+19,8.153460880579568e+19,8.16083957820905e+19,8.16914061304222e+19,8.17744164787539e+19,8.184820345504873e+19,8.194043717541727e+19,8.202344752374897e+19,8.210645787208067e+19,8.219869159244921e+19,8.228170194078091e+19,8.237393566114945e+19,8.245694600948115e+19,8.253073298577598e+19,8.261374333410768e+19,8.270597705447622e+19,8.278898740280792e+19,8.288122112317646e+19,8.296423147150816e+19,8.30564651918767e+19,8.314869891224525e+19,8.322248588854008e+19,8.331471960890863e+19,8.339772995724032e+19,8.348996367760887e+19,8.358219739797742e+19,8.366520774630911e+19,8.375744146667766e+19,8.38496751870462e+19,8.394190890741475e+19,8.40341426277833e+19,8.412637634815184e+19,8.421861006852039e+19,8.430162041685208e+19,8.439385413722063e+19,8.446764111351546e+19,8.4559874833884e+19,8.46428851822157e+19,8.473511890258425e+19,8.481812925091594e+19,8.490113959924764e+19,8.499337331961618e+19,8.506716029591101e+19,8.515017064424271e+19,8.524240436461126e+19,8.532541471294295e+19,8.54176484333115e+19,8.550988215368004e+19,8.560211587404859e+19,8.568512622238029e+19,8.577735994274883e+19,8.586037029108053e+19,8.595260401144907e+19,8.604483773181762e+19,8.613707145218617e+19,8.622930517255471e+19,8.632153889292326e+19,8.640454924125495e+19,8.64967829616235e+19,8.65797933099552e+19,8.667202703032374e+19,8.676426075069229e+19,8.685649447106083e+19,8.693950481939253e+19],\"type\":\"scatter\"}],                        {\"template\":{\"data\":{\"bar\":[{\"error_x\":{\"color\":\"#2a3f5f\"},\"error_y\":{\"color\":\"#2a3f5f\"},\"marker\":{\"line\":{\"color\":\"#E5ECF6\",\"width\":0.5},\"pattern\":{\"fillmode\":\"overlay\",\"size\":10,\"solidity\":0.2}},\"type\":\"bar\"}],\"barpolar\":[{\"marker\":{\"line\":{\"color\":\"#E5ECF6\",\"width\":0.5},\"pattern\":{\"fillmode\":\"overlay\",\"size\":10,\"solidity\":0.2}},\"type\":\"barpolar\"}],\"carpet\":[{\"aaxis\":{\"endlinecolor\":\"#2a3f5f\",\"gridcolor\":\"white\",\"linecolor\":\"white\",\"minorgridcolor\":\"white\",\"startlinecolor\":\"#2a3f5f\"},\"baxis\":{\"endlinecolor\":\"#2a3f5f\",\"gridcolor\":\"white\",\"linecolor\":\"white\",\"minorgridcolor\":\"white\",\"startlinecolor\":\"#2a3f5f\"},\"type\":\"carpet\"}],\"choropleth\":[{\"colorbar\":{\"outlinewidth\":0,\"ticks\":\"\"},\"type\":\"choropleth\"}],\"contour\":[{\"colorbar\":{\"outlinewidth\":0,\"ticks\":\"\"},\"colorscale\":[[0.0,\"#0d0887\"],[0.1111111111111111,\"#46039f\"],[0.2222222222222222,\"#7201a8\"],[0.3333333333333333,\"#9c179e\"],[0.4444444444444444,\"#bd3786\"],[0.5555555555555556,\"#d8576b\"],[0.6666666666666666,\"#ed7953\"],[0.7777777777777778,\"#fb9f3a\"],[0.8888888888888888,\"#fdca26\"],[1.0,\"#f0f921\"]],\"type\":\"contour\"}],\"contourcarpet\":[{\"colorbar\":{\"outlinewidth\":0,\"ticks\":\"\"},\"type\":\"contourcarpet\"}],\"heatmap\":[{\"colorbar\":{\"outlinewidth\":0,\"ticks\":\"\"},\"colorscale\":[[0.0,\"#0d0887\"],[0.1111111111111111,\"#46039f\"],[0.2222222222222222,\"#7201a8\"],[0.3333333333333333,\"#9c179e\"],[0.4444444444444444,\"#bd3786\"],[0.5555555555555556,\"#d8576b\"],[0.6666666666666666,\"#ed7953\"],[0.7777777777777778,\"#fb9f3a\"],[0.8888888888888888,\"#fdca26\"],[1.0,\"#f0f921\"]],\"type\":\"heatmap\"}],\"heatmapgl\":[{\"colorbar\":{\"outlinewidth\":0,\"ticks\":\"\"},\"colorscale\":[[0.0,\"#0d0887\"],[0.1111111111111111,\"#46039f\"],[0.2222222222222222,\"#7201a8\"],[0.3333333333333333,\"#9c179e\"],[0.4444444444444444,\"#bd3786\"],[0.5555555555555556,\"#d8576b\"],[0.6666666666666666,\"#ed7953\"],[0.7777777777777778,\"#fb9f3a\"],[0.8888888888888888,\"#fdca26\"],[1.0,\"#f0f921\"]],\"type\":\"heatmapgl\"}],\"histogram\":[{\"marker\":{\"pattern\":{\"fillmode\":\"overlay\",\"size\":10,\"solidity\":0.2}},\"type\":\"histogram\"}],\"histogram2d\":[{\"colorbar\":{\"outlinewidth\":0,\"ticks\":\"\"},\"colorscale\":[[0.0,\"#0d0887\"],[0.1111111111111111,\"#46039f\"],[0.2222222222222222,\"#7201a8\"],[0.3333333333333333,\"#9c179e\"],[0.4444444444444444,\"#bd3786\"],[0.5555555555555556,\"#d8576b\"],[0.6666666666666666,\"#ed7953\"],[0.7777777777777778,\"#fb9f3a\"],[0.8888888888888888,\"#fdca26\"],[1.0,\"#f0f921\"]],\"type\":\"histogram2d\"}],\"histogram2dcontour\":[{\"colorbar\":{\"outlinewidth\":0,\"ticks\":\"\"},\"colorscale\":[[0.0,\"#0d0887\"],[0.1111111111111111,\"#46039f\"],[0.2222222222222222,\"#7201a8\"],[0.3333333333333333,\"#9c179e\"],[0.4444444444444444,\"#bd3786\"],[0.5555555555555556,\"#d8576b\"],[0.6666666666666666,\"#ed7953\"],[0.7777777777777778,\"#fb9f3a\"],[0.8888888888888888,\"#fdca26\"],[1.0,\"#f0f921\"]],\"type\":\"histogram2dcontour\"}],\"mesh3d\":[{\"colorbar\":{\"outlinewidth\":0,\"ticks\":\"\"},\"type\":\"mesh3d\"}],\"parcoords\":[{\"line\":{\"colorbar\":{\"outlinewidth\":0,\"ticks\":\"\"}},\"type\":\"parcoords\"}],\"pie\":[{\"automargin\":true,\"type\":\"pie\"}],\"scatter\":[{\"marker\":{\"colorbar\":{\"outlinewidth\":0,\"ticks\":\"\"}},\"type\":\"scatter\"}],\"scatter3d\":[{\"line\":{\"colorbar\":{\"outlinewidth\":0,\"ticks\":\"\"}},\"marker\":{\"colorbar\":{\"outlinewidth\":0,\"ticks\":\"\"}},\"type\":\"scatter3d\"}],\"scattercarpet\":[{\"marker\":{\"colorbar\":{\"outlinewidth\":0,\"ticks\":\"\"}},\"type\":\"scattercarpet\"}],\"scattergeo\":[{\"marker\":{\"colorbar\":{\"outlinewidth\":0,\"ticks\":\"\"}},\"type\":\"scattergeo\"}],\"scattergl\":[{\"marker\":{\"colorbar\":{\"outlinewidth\":0,\"ticks\":\"\"}},\"type\":\"scattergl\"}],\"scattermapbox\":[{\"marker\":{\"colorbar\":{\"outlinewidth\":0,\"ticks\":\"\"}},\"type\":\"scattermapbox\"}],\"scatterpolar\":[{\"marker\":{\"colorbar\":{\"outlinewidth\":0,\"ticks\":\"\"}},\"type\":\"scatterpolar\"}],\"scatterpolargl\":[{\"marker\":{\"colorbar\":{\"outlinewidth\":0,\"ticks\":\"\"}},\"type\":\"scatterpolargl\"}],\"scatterternary\":[{\"marker\":{\"colorbar\":{\"outlinewidth\":0,\"ticks\":\"\"}},\"type\":\"scatterternary\"}],\"surface\":[{\"colorbar\":{\"outlinewidth\":0,\"ticks\":\"\"},\"colorscale\":[[0.0,\"#0d0887\"],[0.1111111111111111,\"#46039f\"],[0.2222222222222222,\"#7201a8\"],[0.3333333333333333,\"#9c179e\"],[0.4444444444444444,\"#bd3786\"],[0.5555555555555556,\"#d8576b\"],[0.6666666666666666,\"#ed7953\"],[0.7777777777777778,\"#fb9f3a\"],[0.8888888888888888,\"#fdca26\"],[1.0,\"#f0f921\"]],\"type\":\"surface\"}],\"table\":[{\"cells\":{\"fill\":{\"color\":\"#EBF0F8\"},\"line\":{\"color\":\"white\"}},\"header\":{\"fill\":{\"color\":\"#C8D4E3\"},\"line\":{\"color\":\"white\"}},\"type\":\"table\"}]},\"layout\":{\"annotationdefaults\":{\"arrowcolor\":\"#2a3f5f\",\"arrowhead\":0,\"arrowwidth\":1},\"autotypenumbers\":\"strict\",\"coloraxis\":{\"colorbar\":{\"outlinewidth\":0,\"ticks\":\"\"}},\"colorscale\":{\"diverging\":[[0,\"#8e0152\"],[0.1,\"#c51b7d\"],[0.2,\"#de77ae\"],[0.3,\"#f1b6da\"],[0.4,\"#fde0ef\"],[0.5,\"#f7f7f7\"],[0.6,\"#e6f5d0\"],[0.7,\"#b8e186\"],[0.8,\"#7fbc41\"],[0.9,\"#4d9221\"],[1,\"#276419\"]],\"sequential\":[[0.0,\"#0d0887\"],[0.1111111111111111,\"#46039f\"],[0.2222222222222222,\"#7201a8\"],[0.3333333333333333,\"#9c179e\"],[0.4444444444444444,\"#bd3786\"],[0.5555555555555556,\"#d8576b\"],[0.6666666666666666,\"#ed7953\"],[0.7777777777777778,\"#fb9f3a\"],[0.8888888888888888,\"#fdca26\"],[1.0,\"#f0f921\"]],\"sequentialminus\":[[0.0,\"#0d0887\"],[0.1111111111111111,\"#46039f\"],[0.2222222222222222,\"#7201a8\"],[0.3333333333333333,\"#9c179e\"],[0.4444444444444444,\"#bd3786\"],[0.5555555555555556,\"#d8576b\"],[0.6666666666666666,\"#ed7953\"],[0.7777777777777778,\"#fb9f3a\"],[0.8888888888888888,\"#fdca26\"],[1.0,\"#f0f921\"]]},\"colorway\":[\"#636efa\",\"#EF553B\",\"#00cc96\",\"#ab63fa\",\"#FFA15A\",\"#19d3f3\",\"#FF6692\",\"#B6E880\",\"#FF97FF\",\"#FECB52\"],\"font\":{\"color\":\"#2a3f5f\"},\"geo\":{\"bgcolor\":\"white\",\"lakecolor\":\"white\",\"landcolor\":\"#E5ECF6\",\"showlakes\":true,\"showland\":true,\"subunitcolor\":\"white\"},\"hoverlabel\":{\"align\":\"left\"},\"hovermode\":\"closest\",\"mapbox\":{\"style\":\"light\"},\"paper_bgcolor\":\"white\",\"plot_bgcolor\":\"#E5ECF6\",\"polar\":{\"angularaxis\":{\"gridcolor\":\"white\",\"linecolor\":\"white\",\"ticks\":\"\"},\"bgcolor\":\"#E5ECF6\",\"radialaxis\":{\"gridcolor\":\"white\",\"linecolor\":\"white\",\"ticks\":\"\"}},\"scene\":{\"xaxis\":{\"backgroundcolor\":\"#E5ECF6\",\"gridcolor\":\"white\",\"gridwidth\":2,\"linecolor\":\"white\",\"showbackground\":true,\"ticks\":\"\",\"zerolinecolor\":\"white\"},\"yaxis\":{\"backgroundcolor\":\"#E5ECF6\",\"gridcolor\":\"white\",\"gridwidth\":2,\"linecolor\":\"white\",\"showbackground\":true,\"ticks\":\"\",\"zerolinecolor\":\"white\"},\"zaxis\":{\"backgroundcolor\":\"#E5ECF6\",\"gridcolor\":\"white\",\"gridwidth\":2,\"linecolor\":\"white\",\"showbackground\":true,\"ticks\":\"\",\"zerolinecolor\":\"white\"}},\"shapedefaults\":{\"line\":{\"color\":\"#2a3f5f\"}},\"ternary\":{\"aaxis\":{\"gridcolor\":\"white\",\"linecolor\":\"white\",\"ticks\":\"\"},\"baxis\":{\"gridcolor\":\"white\",\"linecolor\":\"white\",\"ticks\":\"\"},\"bgcolor\":\"#E5ECF6\",\"caxis\":{\"gridcolor\":\"white\",\"linecolor\":\"white\",\"ticks\":\"\"}},\"title\":{\"x\":0.05},\"xaxis\":{\"automargin\":true,\"gridcolor\":\"white\",\"linecolor\":\"white\",\"ticks\":\"\",\"title\":{\"standoff\":15},\"zerolinecolor\":\"white\",\"zerolinewidth\":2},\"yaxis\":{\"automargin\":true,\"gridcolor\":\"white\",\"linecolor\":\"white\",\"ticks\":\"\",\"title\":{\"standoff\":15},\"zerolinecolor\":\"white\",\"zerolinewidth\":2}}},\"font\":{\"family\":\"Courier New, monospace\",\"color\":\"RebeccaPurple\"},\"title\":{\"text\":\"Sum of reward for each episode(averaged with each 10 episodes) ACUMULATED\"},\"xaxis\":{\"title\":{\"text\":\"Number of episodes(averaged with each 10 episodes)\"}},\"yaxis\":{\"title\":{\"text\":\"Sum of rewards during episode\"}},\"legend\":{\"title\":{\"text\":\"Legend Title\"}}},                        {\"responsive\": true}                    ).then(function(){\n",
              "                            \n",
              "var gd = document.getElementById('7f8dbe7b-f3c3-4c1c-a39a-a830383b7feb');\n",
              "var x = new MutationObserver(function (mutations, observer) {{\n",
              "        var display = window.getComputedStyle(gd).display;\n",
              "        if (!display || display === 'none') {{\n",
              "            console.log([gd, 'removed!']);\n",
              "            Plotly.purge(gd);\n",
              "            observer.disconnect();\n",
              "        }}\n",
              "}});\n",
              "\n",
              "// Listen for the removal of the full notebook cells\n",
              "var notebookContainer = gd.closest('#notebook-container');\n",
              "if (notebookContainer) {{\n",
              "    x.observe(notebookContainer, {childList: true});\n",
              "}}\n",
              "\n",
              "// Listen for the clearing of the current output cell\n",
              "var outputEl = gd.closest('.output');\n",
              "if (outputEl) {{\n",
              "    x.observe(outputEl, {childList: true});\n",
              "}}\n",
              "\n",
              "                        })                };                            </script>        </div>\n",
              "</body>\n",
              "</html>"
            ]
          },
          "metadata": {}
        }
      ]
    },
    {
      "cell_type": "markdown",
      "source": [
        "###World3m"
      ],
      "metadata": {
        "id": "3JJV9z4URp5F"
      }
    },
    {
      "cell_type": "code",
      "source": [
        "printMap(w3m)"
      ],
      "metadata": {
        "colab": {
          "base_uri": "https://localhost:8080/"
        },
        "id": "DovquWTqRnzq",
        "outputId": "64b71320-8af5-447f-b275-d1058c8e7106"
      },
      "execution_count": 46,
      "outputs": [
        {
          "output_type": "stream",
          "name": "stdout",
          "text": [
            "[ O  O  O  O  O  O  O  O  O  O \n",
            " O  O  O  X  O  O  O  O  T  O \n",
            " O  X  O  O  O  O  O  O  O  O \n",
            " O  O  O  O  O  X  O  O  X  O \n",
            " O  O  O  X  O  O  O  O  O  O \n",
            " O  O  O  O  O  O  O  O  O  O \n",
            " O  X  O  O  O  O  O  O  O  O \n",
            " O  O  O  O  X  O  O  O  O  O \n",
            " O  T  O  O  X  O  X  O  X  O \n",
            " O  O  O  O  O  O  O  O  O  F ]\n",
            "\n"
          ]
        }
      ]
    },
    {
      "cell_type": "markdown",
      "source": [
        "#### SARSA"
      ],
      "metadata": {
        "id": "Bv6DfF60Rttf"
      }
    },
    {
      "cell_type": "code",
      "source": [
        "agent_w3m_sarsa = Agent(w3m, (0, 0))\n",
        "Q_w3m_sarsa, rewards_w3m_sarsa = sarsa(agent_w3m_sarsa,init_state = (0,0), alpha = 0.5,gamma = 0.9 , epsilon = 0.1 , max_iterations =10000,debug = False)\n",
        "move_with_value_function(agent_w3m_sarsa,Q_w3m_sarsa, max_steps = 100)"
      ],
      "metadata": {
        "colab": {
          "base_uri": "https://localhost:8080/"
        },
        "id": "NcVov37zRwDK",
        "outputId": "36c1fd4d-7645-4b40-8c0d-9a51cc1f1520"
      },
      "execution_count": 47,
      "outputs": [
        {
          "output_type": "stream",
          "name": "stdout",
          "text": [
            "Initial S: (0, 0) --(A: (1, 0) Abajo ) -->\n",
            "Now in S: (1, 0) --(A: (1, 0) Abajo ) -->\n",
            "Now in S: (2, 0) --(A: (1, 0) Abajo ) -->\n",
            "Now in S: (3, 0) --(A: (1, 0) Abajo ) -->\n",
            "Now in S: (4, 0) --(A: (1, 0) Abajo ) -->\n",
            "Now in S: (5, 0) --(A: (0, 1) Derecha ) -->\n",
            "Now in S: (5, 1) --(A: (0, 1) Derecha ) -->\n",
            "Now in S: (5, 2) --(A: (0, 1) Derecha ) -->\n",
            "Now in S: (5, 3) --(A: (0, 1) Derecha ) -->\n",
            "Now in S: (5, 4) --(A: (0, 1) Derecha ) -->\n",
            "Now in S: (5, 5) --(A: (0, 1) Derecha ) -->\n",
            "Now in S: (5, 6) --(A: (1, 0) Abajo ) -->\n",
            "Now in S: (6, 6) --(A: (0, 1) Derecha ) -->\n",
            "Now in S: (6, 7) --(A: (0, 1) Derecha ) -->\n",
            "Now in S: (6, 8) --(A: (0, 1) Derecha ) -->\n",
            "Now in S: (6, 9) --(A: (1, 0) Abajo ) -->\n",
            "Now in S: (7, 9) --(A: (1, 0) Abajo ) -->\n",
            "Now in S: (8, 9) --(A: (1, 0) Abajo ) -->\n",
            "Now in S: (9, 9) --(A: (0, 1) Derecha ) -->\n",
            "END:  18 steps.\n"
          ]
        },
        {
          "output_type": "execute_result",
          "data": {
            "text/plain": [
              "18"
            ]
          },
          "metadata": {},
          "execution_count": 47
        }
      ]
    },
    {
      "cell_type": "markdown",
      "source": [
        "#### Q-Learning"
      ],
      "metadata": {
        "id": "rpnpY-BBRwOa"
      }
    },
    {
      "cell_type": "code",
      "source": [
        "agent_w3m_ql = Agent(w3m, (0, 0))\n",
        "Q_w3m_ql, rewards_w3m_ql = qlearning(agent_w3m_ql,init_state = (0,0), alpha = 0.5,gamma = 0.9 ,  max_iterations =10000,debug = False)\n",
        "move_with_value_function(agent_w3m_ql,Q_w3m_ql, max_steps = 100)"
      ],
      "metadata": {
        "colab": {
          "base_uri": "https://localhost:8080/"
        },
        "id": "2pILz0PYRn2J",
        "outputId": "a2135cd9-2ca0-4e21-f63e-8305a5f34f33"
      },
      "execution_count": 48,
      "outputs": [
        {
          "output_type": "stream",
          "name": "stdout",
          "text": [
            "Initial S: (0, 0) --(A: (0, 1) Derecha ) -->\n",
            "Now in S: (0, 1) --(A: (1, 0) Abajo ) -->\n",
            "Now in S: (1, 1) --(A: (0, 1) Derecha ) -->\n",
            "Now in S: (1, 2) --(A: (1, 0) Abajo ) -->\n",
            "Now in S: (2, 2) --(A: (1, 0) Abajo ) -->\n",
            "Now in S: (3, 2) --(A: (0, 1) Derecha ) -->\n",
            "Now in S: (3, 3) --(A: (0, 1) Derecha ) -->\n",
            "Now in S: (3, 4) --(A: (1, 0) Abajo ) -->\n",
            "Now in S: (4, 4) --(A: (1, 0) Abajo ) -->\n",
            "Now in S: (5, 4) --(A: (0, 1) Derecha ) -->\n",
            "Now in S: (5, 5) --(A: (1, 0) Abajo ) -->\n",
            "Now in S: (6, 5) --(A: (0, 1) Derecha ) -->\n",
            "Now in S: (6, 6) --(A: (1, 0) Abajo ) -->\n",
            "Now in S: (7, 6) --(A: (0, 1) Derecha ) -->\n",
            "Now in S: (7, 7) --(A: (0, 1) Derecha ) -->\n",
            "Now in S: (7, 8) --(A: (0, 1) Derecha ) -->\n",
            "Now in S: (7, 9) --(A: (1, 0) Abajo ) -->\n",
            "Now in S: (8, 9) --(A: (1, 0) Abajo ) -->\n",
            "Now in S: (9, 9) --(A: (-1, 0) Arriba ) -->\n",
            "END:  18 steps.\n"
          ]
        },
        {
          "output_type": "execute_result",
          "data": {
            "text/plain": [
              "18"
            ]
          },
          "metadata": {},
          "execution_count": 48
        }
      ]
    },
    {
      "cell_type": "markdown",
      "source": [
        "#### **Rendimiento**"
      ],
      "metadata": {
        "id": "1Y3ZndZtpkoe"
      }
    },
    {
      "cell_type": "code",
      "source": [
        "plot_performance(rewards_w3m_sarsa, rewards_w3m_ql,size = 10000,mean_each_n = 10)"
      ],
      "metadata": {
        "colab": {
          "base_uri": "https://localhost:8080/",
          "height": 542
        },
        "id": "aVmffYW8oFFS",
        "outputId": "8b88759d-1386-4e1e-f56e-cd124442b40f"
      },
      "execution_count": 49,
      "outputs": [
        {
          "output_type": "display_data",
          "data": {
            "text/html": [
              "<html>\n",
              "<head><meta charset=\"utf-8\" /></head>\n",
              "<body>\n",
              "    <div>            <script src=\"https://cdnjs.cloudflare.com/ajax/libs/mathjax/2.7.5/MathJax.js?config=TeX-AMS-MML_SVG\"></script><script type=\"text/javascript\">if (window.MathJax) {MathJax.Hub.Config({SVG: {font: \"STIX-Web\"}});}</script>                <script type=\"text/javascript\">window.PlotlyConfig = {MathJaxConfig: 'local'};</script>\n",
              "        <script src=\"https://cdn.plot.ly/plotly-2.8.3.min.js\"></script>                <div id=\"d1cbcb05-bf1b-43d7-bf5c-3d412d118811\" class=\"plotly-graph-div\" style=\"height:525px; width:100%;\"></div>            <script type=\"text/javascript\">                                    window.PLOTLYENV=window.PLOTLYENV || {};                                    if (document.getElementById(\"d1cbcb05-bf1b-43d7-bf5c-3d412d118811\")) {                    Plotly.newPlot(                        \"d1cbcb05-bf1b-43d7-bf5c-3d412d118811\",                        [{\"mode\":\"lines+markers\",\"name\":\"SARSA\",\"x\":[0,1,2,3,4,5,6,7,8,9,10,11,12,13,14,15,16,17,18,19,20,21,22,23,24,25,26,27,28,29,30,31,32,33,34,35,36,37,38,39,40,41,42,43,44,45,46,47,48,49,50,51,52,53,54,55,56,57,58,59,60,61,62,63,64,65,66,67,68,69,70,71,72,73,74,75,76,77,78,79,80,81,82,83,84,85,86,87,88,89,90,91,92,93,94,95,96,97,98,99,100,101,102,103,104,105,106,107,108,109,110,111,112,113,114,115,116,117,118,119,120,121,122,123,124,125,126,127,128,129,130,131,132,133,134,135,136,137,138,139,140,141,142,143,144,145,146,147,148,149,150,151,152,153,154,155,156,157,158,159,160,161,162,163,164,165,166,167,168,169,170,171,172,173,174,175,176,177,178,179,180,181,182,183,184,185,186,187,188,189,190,191,192,193,194,195,196,197,198,199,200,201,202,203,204,205,206,207,208,209,210,211,212,213,214,215,216,217,218,219,220,221,222,223,224,225,226,227,228,229,230,231,232,233,234,235,236,237,238,239,240,241,242,243,244,245,246,247,248,249,250,251,252,253,254,255,256,257,258,259,260,261,262,263,264,265,266,267,268,269,270,271,272,273,274,275,276,277,278,279,280,281,282,283,284,285,286,287,288,289,290,291,292,293,294,295,296,297,298,299,300,301,302,303,304,305,306,307,308,309,310,311,312,313,314,315,316,317,318,319,320,321,322,323,324,325,326,327,328,329,330,331,332,333,334,335,336,337,338,339,340,341,342,343,344,345,346,347,348,349,350,351,352,353,354,355,356,357,358,359,360,361,362,363,364,365,366,367,368,369,370,371,372,373,374,375,376,377,378,379,380,381,382,383,384,385,386,387,388,389,390,391,392,393,394,395,396,397,398,399,400,401,402,403,404,405,406,407,408,409,410,411,412,413,414,415,416,417,418,419,420,421,422,423,424,425,426,427,428,429,430,431,432,433,434,435,436,437,438,439,440,441,442,443,444,445,446,447,448,449,450,451,452,453,454,455,456,457,458,459,460,461,462,463,464,465,466,467,468,469,470,471,472,473,474,475,476,477,478,479,480,481,482,483,484,485,486,487,488,489,490,491,492,493,494,495,496,497,498,499,500,501,502,503,504,505,506,507,508,509,510,511,512,513,514,515,516,517,518,519,520,521,522,523,524,525,526,527,528,529,530,531,532,533,534,535,536,537,538,539,540,541,542,543,544,545,546,547,548,549,550,551,552,553,554,555,556,557,558,559,560,561,562,563,564,565,566,567,568,569,570,571,572,573,574,575,576,577,578,579,580,581,582,583,584,585,586,587,588,589,590,591,592,593,594,595,596,597,598,599,600,601,602,603,604,605,606,607,608,609,610,611,612,613,614,615,616,617,618,619,620,621,622,623,624,625,626,627,628,629,630,631,632,633,634,635,636,637,638,639,640,641,642,643,644,645,646,647,648,649,650,651,652,653,654,655,656,657,658,659,660,661,662,663,664,665,666,667,668,669,670,671,672,673,674,675,676,677,678,679,680,681,682,683,684,685,686,687,688,689,690,691,692,693,694,695,696,697,698,699,700,701,702,703,704,705,706,707,708,709,710,711,712,713,714,715,716,717,718,719,720,721,722,723,724,725,726,727,728,729,730,731,732,733,734,735,736,737,738,739,740,741,742,743,744,745,746,747,748,749,750,751,752,753,754,755,756,757,758,759,760,761,762,763,764,765,766,767,768,769,770,771,772,773,774,775,776,777,778,779,780,781,782,783,784,785,786,787,788,789,790,791,792,793,794,795,796,797,798,799,800,801,802,803,804,805,806,807,808,809,810,811,812,813,814,815,816,817,818,819,820,821,822,823,824,825,826,827,828,829,830,831,832,833,834,835,836,837,838,839,840,841,842,843,844,845,846,847,848,849,850,851,852,853,854,855,856,857,858,859,860,861,862,863,864,865,866,867,868,869,870,871,872,873,874,875,876,877,878,879,880,881,882,883,884,885,886,887,888,889,890,891,892,893,894,895,896,897,898,899,900,901,902,903,904,905,906,907,908,909,910,911,912,913,914,915,916,917,918,919,920,921,922,923,924,925,926,927,928,929,930,931,932,933,934,935,936,937,938,939,940,941,942,943,944,945,946,947,948,949,950,951,952,953,954,955,956,957,958,959,960,961,962,963,964,965,966,967,968,969,970,971,972,973,974,975,976,977,978,979,980,981,982,983,984,985,986,987,988,989,990,991,992,993,994,995,996,997,998,999],\"y\":[-14.430000000000001,-15.030000000000001,-13.809999999999999,-16.02,1.8446744073709552e+17,5.534023222112865e+17,6.456360425798342e+17,7.378697629483821e+17,7.378697629483821e+17,8.301034833169298e+17,8.301034833169298e+17,6.456360425798342e+17,8.301034833169298e+17,6.456360425798342e+17,8.301034833169298e+17,8.301034833169298e+17,6.456360425798342e+17,9.223372036854776e+17,8.301034833169298e+17,6.456360425798342e+17,9.223372036854776e+17,5.534023222112865e+17,6.456360425798342e+17,8.301034833169298e+17,7.378697629483821e+17,8.301034833169298e+17,7.378697629483821e+17,7.378697629483821e+17,9.223372036854776e+17,9.223372036854776e+17,7.378697629483821e+17,6.456360425798342e+17,9.223372036854776e+17,8.301034833169298e+17,8.301034833169298e+17,7.378697629483821e+17,8.301034833169298e+17,5.534023222112865e+17,8.301034833169298e+17,4.611686018427388e+17,8.301034833169298e+17,7.378697629483821e+17,8.301034833169298e+17,8.301034833169298e+17,8.301034833169298e+17,7.378697629483821e+17,7.378697629483821e+17,7.378697629483821e+17,6.456360425798342e+17,6.456360425798342e+17,8.301034833169298e+17,9.223372036854776e+17,8.301034833169298e+17,4.611686018427388e+17,5.534023222112865e+17,5.534023222112865e+17,8.301034833169298e+17,7.378697629483821e+17,8.301034833169298e+17,9.223372036854776e+17,6.456360425798342e+17,7.378697629483821e+17,7.378697629483821e+17,8.301034833169298e+17,8.301034833169298e+17,8.301034833169298e+17,7.378697629483821e+17,8.301034833169298e+17,6.456360425798342e+17,5.534023222112865e+17,7.378697629483821e+17,7.378697629483821e+17,7.378697629483821e+17,7.378697629483821e+17,8.301034833169298e+17,9.223372036854776e+17,8.301034833169298e+17,7.378697629483821e+17,8.301034833169298e+17,8.301034833169298e+17,8.301034833169298e+17,7.378697629483821e+17,9.223372036854776e+17,9.223372036854776e+17,8.301034833169298e+17,6.456360425798342e+17,8.301034833169298e+17,9.223372036854776e+17,8.301034833169298e+17,8.301034833169298e+17,8.301034833169298e+17,6.456360425798342e+17,7.378697629483821e+17,7.378697629483821e+17,6.456360425798342e+17,8.301034833169298e+17,8.301034833169298e+17,9.223372036854776e+17,8.301034833169298e+17,8.301034833169298e+17,9.223372036854776e+17,7.378697629483821e+17,6.456360425798342e+17,6.456360425798342e+17,8.301034833169298e+17,7.378697629483821e+17,8.301034833169298e+17,7.378697629483821e+17,8.301034833169298e+17,9.223372036854776e+17,7.378697629483821e+17,6.456360425798342e+17,6.456360425798342e+17,6.456360425798342e+17,6.456360425798342e+17,8.301034833169298e+17,8.301034833169298e+17,7.378697629483821e+17,6.456360425798342e+17,9.223372036854776e+17,8.301034833169298e+17,8.301034833169298e+17,8.301034833169298e+17,7.378697629483821e+17,8.301034833169298e+17,8.301034833169298e+17,8.301034833169298e+17,9.223372036854776e+17,8.301034833169298e+17,6.456360425798342e+17,7.378697629483821e+17,8.301034833169298e+17,4.611686018427388e+17,9.223372036854776e+17,8.301034833169298e+17,9.223372036854776e+17,8.301034833169298e+17,8.301034833169298e+17,8.301034833169298e+17,9.223372036854776e+17,8.301034833169298e+17,4.611686018427388e+17,8.301034833169298e+17,7.378697629483821e+17,8.301034833169298e+17,8.301034833169298e+17,9.223372036854776e+17,7.378697629483821e+17,6.456360425798342e+17,9.223372036854776e+17,8.301034833169298e+17,9.223372036854776e+17,7.378697629483821e+17,9.223372036854776e+17,9.223372036854776e+17,8.301034833169298e+17,8.301034833169298e+17,6.456360425798342e+17,7.378697629483821e+17,8.301034833169298e+17,8.301034833169298e+17,8.301034833169298e+17,9.223372036854776e+17,9.223372036854776e+17,7.378697629483821e+17,6.456360425798342e+17,8.301034833169298e+17,7.378697629483821e+17,9.223372036854776e+17,8.301034833169298e+17,9.223372036854776e+17,6.456360425798342e+17,7.378697629483821e+17,9.223372036854776e+17,8.301034833169298e+17,7.378697629483821e+17,8.301034833169298e+17,8.301034833169298e+17,6.456360425798342e+17,7.378697629483821e+17,8.301034833169298e+17,3.6893488147419104e+17,5.534023222112865e+17,6.456360425798342e+17,7.378697629483821e+17,4.611686018427388e+17,7.378697629483821e+17,6.456360425798342e+17,8.301034833169298e+17,8.301034833169298e+17,8.301034833169298e+17,7.378697629483821e+17,8.301034833169298e+17,6.456360425798342e+17,6.456360425798342e+17,9.223372036854776e+17,7.378697629483821e+17,7.378697629483821e+17,6.456360425798342e+17,8.301034833169298e+17,8.301034833169298e+17,9.223372036854776e+17,8.301034833169298e+17,7.378697629483821e+17,8.301034833169298e+17,8.301034833169298e+17,8.301034833169298e+17,7.378697629483821e+17,8.301034833169298e+17,7.378697629483821e+17,9.223372036854776e+17,7.378697629483821e+17,7.378697629483821e+17,7.378697629483821e+17,8.301034833169298e+17,7.378697629483821e+17,8.301034833169298e+17,8.301034833169298e+17,9.223372036854776e+17,7.378697629483821e+17,8.301034833169298e+17,7.378697629483821e+17,9.223372036854776e+17,7.378697629483821e+17,8.301034833169298e+17,8.301034833169298e+17,8.301034833169298e+17,7.378697629483821e+17,8.301034833169298e+17,8.301034833169298e+17,9.223372036854776e+17,7.378697629483821e+17,8.301034833169298e+17,7.378697629483821e+17,9.223372036854776e+17,8.301034833169298e+17,5.534023222112865e+17,6.456360425798342e+17,8.301034833169298e+17,8.301034833169298e+17,9.223372036854776e+17,8.301034833169298e+17,7.378697629483821e+17,4.611686018427388e+17,8.301034833169298e+17,7.378697629483821e+17,9.223372036854776e+17,9.223372036854776e+17,8.301034833169298e+17,7.378697629483821e+17,8.301034833169298e+17,9.223372036854776e+17,8.301034833169298e+17,9.223372036854776e+17,8.301034833169298e+17,6.456360425798342e+17,8.301034833169298e+17,7.378697629483821e+17,8.301034833169298e+17,8.301034833169298e+17,8.301034833169298e+17,8.301034833169298e+17,7.378697629483821e+17,7.378697629483821e+17,8.301034833169298e+17,8.301034833169298e+17,4.611686018427388e+17,7.378697629483821e+17,7.378697629483821e+17,9.223372036854776e+17,4.611686018427388e+17,7.378697629483821e+17,7.378697629483821e+17,6.456360425798342e+17,8.301034833169298e+17,7.378697629483821e+17,5.534023222112865e+17,4.611686018427388e+17,6.456360425798342e+17,6.456360425798342e+17,9.223372036854776e+17,7.378697629483821e+17,9.223372036854776e+17,6.456360425798342e+17,7.378697629483821e+17,6.456360425798342e+17,7.378697629483821e+17,9.223372036854776e+17,6.456360425798342e+17,8.301034833169298e+17,7.378697629483821e+17,7.378697629483821e+17,8.301034833169298e+17,8.301034833169298e+17,8.301034833169298e+17,7.378697629483821e+17,8.301034833169298e+17,9.223372036854776e+17,8.301034833169298e+17,9.223372036854776e+17,9.223372036854776e+17,9.223372036854776e+17,8.301034833169298e+17,8.301034833169298e+17,8.301034833169298e+17,8.301034833169298e+17,9.223372036854776e+17,8.301034833169298e+17,9.223372036854776e+17,7.378697629483821e+17,7.378697629483821e+17,7.378697629483821e+17,4.611686018427388e+17,9.223372036854776e+17,8.301034833169298e+17,7.378697629483821e+17,4.611686018427388e+17,9.223372036854776e+17,5.534023222112865e+17,9.223372036854776e+17,5.534023222112865e+17,8.301034833169298e+17,7.378697629483821e+17,7.378697629483821e+17,8.301034833169298e+17,9.223372036854776e+17,7.378697629483821e+17,8.301034833169298e+17,5.534023222112865e+17,5.534023222112865e+17,7.378697629483821e+17,9.223372036854776e+17,6.456360425798342e+17,6.456360425798342e+17,6.456360425798342e+17,4.611686018427388e+17,7.378697629483821e+17,6.456360425798342e+17,8.301034833169298e+17,7.378697629483821e+17,7.378697629483821e+17,6.456360425798342e+17,9.223372036854776e+17,9.223372036854776e+17,9.223372036854776e+17,8.301034833169298e+17,6.456360425798342e+17,7.378697629483821e+17,8.301034833169298e+17,8.301034833169298e+17,8.301034833169298e+17,8.301034833169298e+17,6.456360425798342e+17,9.223372036854776e+17,8.301034833169298e+17,7.378697629483821e+17,7.378697629483821e+17,7.378697629483821e+17,9.223372036854776e+17,9.223372036854776e+17,8.301034833169298e+17,7.378697629483821e+17,8.301034833169298e+17,8.301034833169298e+17,8.301034833169298e+17,8.301034833169298e+17,8.301034833169298e+17,8.301034833169298e+17,3.6893488147419104e+17,6.456360425798342e+17,7.378697629483821e+17,7.378697629483821e+17,6.456360425798342e+17,6.456360425798342e+17,8.301034833169298e+17,8.301034833169298e+17,9.223372036854776e+17,9.223372036854776e+17,5.534023222112865e+17,9.223372036854776e+17,7.378697629483821e+17,6.456360425798342e+17,6.456360425798342e+17,8.301034833169298e+17,5.534023222112865e+17,9.223372036854776e+17,9.223372036854776e+17,8.301034833169298e+17,8.301034833169298e+17,9.223372036854776e+17,7.378697629483821e+17,8.301034833169298e+17,9.223372036854776e+17,9.223372036854776e+17,6.456360425798342e+17,8.301034833169298e+17,7.378697629483821e+17,8.301034833169298e+17,6.456360425798342e+17,7.378697629483821e+17,7.378697629483821e+17,9.223372036854776e+17,9.223372036854776e+17,6.456360425798342e+17,7.378697629483821e+17,9.223372036854776e+17,7.378697629483821e+17,9.223372036854776e+17,8.301034833169298e+17,8.301034833169298e+17,7.378697629483821e+17,9.223372036854776e+17,7.378697629483821e+17,8.301034833169298e+17,8.301034833169298e+17,8.301034833169298e+17,7.378697629483821e+17,9.223372036854776e+17,6.456360425798342e+17,6.456360425798342e+17,5.534023222112865e+17,7.378697629483821e+17,8.301034833169298e+17,9.223372036854776e+17,8.301034833169298e+17,9.223372036854776e+17,5.534023222112865e+17,8.301034833169298e+17,7.378697629483821e+17,8.301034833169298e+17,8.301034833169298e+17,9.223372036854776e+17,8.301034833169298e+17,9.223372036854776e+17,7.378697629483821e+17,8.301034833169298e+17,9.223372036854776e+17,8.301034833169298e+17,7.378697629483821e+17,5.534023222112865e+17,9.223372036854776e+17,8.301034833169298e+17,8.301034833169298e+17,7.378697629483821e+17,8.301034833169298e+17,9.223372036854776e+17,7.378697629483821e+17,8.301034833169298e+17,6.456360425798342e+17,4.611686018427388e+17,7.378697629483821e+17,7.378697629483821e+17,7.378697629483821e+17,7.378697629483821e+17,8.301034833169298e+17,7.378697629483821e+17,9.223372036854776e+17,8.301034833169298e+17,7.378697629483821e+17,9.223372036854776e+17,8.301034833169298e+17,7.378697629483821e+17,7.378697629483821e+17,7.378697629483821e+17,6.456360425798342e+17,8.301034833169298e+17,9.223372036854776e+17,9.223372036854776e+17,9.223372036854776e+17,9.223372036854776e+17,6.456360425798342e+17,8.301034833169298e+17,2.7670116110564326e+17,4.611686018427388e+17,5.534023222112865e+17,9.223372036854776e+17,9.223372036854776e+17,6.456360425798342e+17,9.223372036854776e+17,7.378697629483821e+17,6.456360425798342e+17,6.456360425798342e+17,7.378697629483821e+17,8.301034833169298e+17,6.456360425798342e+17,6.456360425798342e+17,9.223372036854776e+17,7.378697629483821e+17,8.301034833169298e+17,6.456360425798342e+17,7.378697629483821e+17,6.456360425798342e+17,7.378697629483821e+17,9.223372036854776e+17,9.223372036854776e+17,6.456360425798342e+17,7.378697629483821e+17,8.301034833169298e+17,9.223372036854776e+17,9.223372036854776e+17,8.301034833169298e+17,7.378697629483821e+17,9.223372036854776e+17,7.378697629483821e+17,8.301034833169298e+17,8.301034833169298e+17,8.301034833169298e+17,7.378697629483821e+17,9.223372036854776e+17,9.223372036854776e+17,7.378697629483821e+17,9.223372036854776e+17,9.223372036854776e+17,7.378697629483821e+17,9.223372036854776e+17,7.378697629483821e+17,6.456360425798342e+17,8.301034833169298e+17,9.223372036854776e+17,8.301034833169298e+17,7.378697629483821e+17,8.301034833169298e+17,9.223372036854776e+17,9.223372036854776e+17,9.223372036854776e+17,6.456360425798342e+17,8.301034833169298e+17,6.456360425798342e+17,7.378697629483821e+17,7.378697629483821e+17,8.301034833169298e+17,9.223372036854776e+17,6.456360425798342e+17,8.301034833169298e+17,9.223372036854776e+17,6.456360425798342e+17,6.456360425798342e+17,7.378697629483821e+17,7.378697629483821e+17,7.378697629483821e+17,7.378697629483821e+17,4.611686018427388e+17,8.301034833169298e+17,9.223372036854776e+17,5.534023222112865e+17,9.223372036854776e+17,8.301034833169298e+17,7.378697629483821e+17,6.456360425798342e+17,8.301034833169298e+17,6.456360425798342e+17,7.378697629483821e+17,8.301034833169298e+17,7.378697629483821e+17,8.301034833169298e+17,7.378697629483821e+17,8.301034833169298e+17,7.378697629483821e+17,8.301034833169298e+17,7.378697629483821e+17,8.301034833169298e+17,7.378697629483821e+17,8.301034833169298e+17,6.456360425798342e+17,8.301034833169298e+17,8.301034833169298e+17,6.456360425798342e+17,8.301034833169298e+17,7.378697629483821e+17,7.378697629483821e+17,8.301034833169298e+17,9.223372036854776e+17,7.378697629483821e+17,8.301034833169298e+17,6.456360425798342e+17,5.534023222112865e+17,5.534023222112865e+17,8.301034833169298e+17,6.456360425798342e+17,9.223372036854776e+17,9.223372036854776e+17,9.223372036854776e+17,8.301034833169298e+17,8.301034833169298e+17,9.223372036854776e+17,6.456360425798342e+17,7.378697629483821e+17,6.456360425798342e+17,6.456360425798342e+17,8.301034833169298e+17,7.378697629483821e+17,8.301034833169298e+17,6.456360425798342e+17,9.223372036854776e+17,9.223372036854776e+17,6.456360425798342e+17,6.456360425798342e+17,5.534023222112865e+17,8.301034833169298e+17,7.378697629483821e+17,8.301034833169298e+17,7.378697629483821e+17,8.301034833169298e+17,9.223372036854776e+17,6.456360425798342e+17,5.534023222112865e+17,8.301034833169298e+17,8.301034833169298e+17,7.378697629483821e+17,6.456360425798342e+17,9.223372036854776e+17,9.223372036854776e+17,8.301034833169298e+17,6.456360425798342e+17,7.378697629483821e+17,7.378697629483821e+17,8.301034833169298e+17,8.301034833169298e+17,9.223372036854776e+17,8.301034833169298e+17,5.534023222112865e+17,9.223372036854776e+17,6.456360425798342e+17,8.301034833169298e+17,7.378697629483821e+17,8.301034833169298e+17,8.301034833169298e+17,7.378697629483821e+17,8.301034833169298e+17,6.456360425798342e+17,5.534023222112865e+17,9.223372036854776e+17,7.378697629483821e+17,6.456360425798342e+17,6.456360425798342e+17,7.378697629483821e+17,6.456360425798342e+17,8.301034833169298e+17,7.378697629483821e+17,8.301034833169298e+17,9.223372036854776e+17,9.223372036854776e+17,8.301034833169298e+17,7.378697629483821e+17,6.456360425798342e+17,8.301034833169298e+17,8.301034833169298e+17,8.301034833169298e+17,9.223372036854776e+17,8.301034833169298e+17,9.223372036854776e+17,7.378697629483821e+17,6.456360425798342e+17,9.223372036854776e+17,8.301034833169298e+17,6.456360425798342e+17,6.456360425798342e+17,9.223372036854776e+17,6.456360425798342e+17,6.456360425798342e+17,7.378697629483821e+17,7.378697629483821e+17,7.378697629483821e+17,5.534023222112865e+17,9.223372036854776e+17,7.378697629483821e+17,6.456360425798342e+17,5.534023222112865e+17,6.456360425798342e+17,3.6893488147419104e+17,9.223372036854776e+17,8.301034833169298e+17,8.301034833169298e+17,7.378697629483821e+17,8.301034833169298e+17,5.534023222112865e+17,7.378697629483821e+17,9.223372036854776e+17,8.301034833169298e+17,8.301034833169298e+17,8.301034833169298e+17,7.378697629483821e+17,9.223372036854776e+17,5.534023222112865e+17,9.223372036854776e+17,7.378697629483821e+17,5.534023222112865e+17,7.378697629483821e+17,5.534023222112865e+17,7.378697629483821e+17,9.223372036854776e+17,6.456360425798342e+17,7.378697629483821e+17,8.301034833169298e+17,7.378697629483821e+17,9.223372036854776e+17,6.456360425798342e+17,6.456360425798342e+17,9.223372036854776e+17,7.378697629483821e+17,8.301034833169298e+17,9.223372036854776e+17,8.301034833169298e+17,7.378697629483821e+17,9.223372036854776e+17,6.456360425798342e+17,6.456360425798342e+17,7.378697629483821e+17,7.378697629483821e+17,9.223372036854776e+17,7.378697629483821e+17,7.378697629483821e+17,5.534023222112865e+17,9.223372036854776e+17,8.301034833169298e+17,8.301034833169298e+17,8.301034833169298e+17,7.378697629483821e+17,7.378697629483821e+17,7.378697629483821e+17,8.301034833169298e+17,9.223372036854776e+17,8.301034833169298e+17,7.378697629483821e+17,8.301034833169298e+17,5.534023222112865e+17,7.378697629483821e+17,5.534023222112865e+17,7.378697629483821e+17,8.301034833169298e+17,7.378697629483821e+17,7.378697629483821e+17,7.378697629483821e+17,9.223372036854776e+17,8.301034833169298e+17,7.378697629483821e+17,7.378697629483821e+17,6.456360425798342e+17,7.378697629483821e+17,7.378697629483821e+17,8.301034833169298e+17,9.223372036854776e+17,9.223372036854776e+17,8.301034833169298e+17,9.223372036854776e+17,8.301034833169298e+17,8.301034833169298e+17,7.378697629483821e+17,7.378697629483821e+17,7.378697629483821e+17,8.301034833169298e+17,8.301034833169298e+17,7.378697629483821e+17,8.301034833169298e+17,8.301034833169298e+17,6.456360425798342e+17,8.301034833169298e+17,7.378697629483821e+17,7.378697629483821e+17,7.378697629483821e+17,4.611686018427388e+17,7.378697629483821e+17,8.301034833169298e+17,8.301034833169298e+17,8.301034833169298e+17,8.301034833169298e+17,9.223372036854776e+17,7.378697629483821e+17,7.378697629483821e+17,9.223372036854776e+17,7.378697629483821e+17,5.534023222112865e+17,6.456360425798342e+17,8.301034833169298e+17,6.456360425798342e+17,7.378697629483821e+17,8.301034833169298e+17,9.223372036854776e+17,4.611686018427388e+17,9.223372036854776e+17,6.456360425798342e+17,9.223372036854776e+17,7.378697629483821e+17,6.456360425798342e+17,9.223372036854776e+17,7.378697629483821e+17,8.301034833169298e+17,7.378697629483821e+17,8.301034833169298e+17,8.301034833169298e+17,9.223372036854776e+17,7.378697629483821e+17,8.301034833169298e+17,7.378697629483821e+17,8.301034833169298e+17,9.223372036854776e+17,9.223372036854776e+17,9.223372036854776e+17,5.534023222112865e+17,6.456360425798342e+17,8.301034833169298e+17,9.223372036854776e+17,8.301034833169298e+17,8.301034833169298e+17,6.456360425798342e+17,5.534023222112865e+17,9.223372036854776e+17,8.301034833169298e+17,6.456360425798342e+17,6.456360425798342e+17,7.378697629483821e+17,6.456360425798342e+17,6.456360425798342e+17,7.378697629483821e+17,8.301034833169298e+17,7.378697629483821e+17,7.378697629483821e+17,9.223372036854776e+17,7.378697629483821e+17,7.378697629483821e+17,7.378697629483821e+17,8.301034833169298e+17,6.456360425798342e+17,8.301034833169298e+17,6.456360425798342e+17,5.534023222112865e+17,7.378697629483821e+17,6.456360425798342e+17,6.456360425798342e+17,7.378697629483821e+17,8.301034833169298e+17,7.378697629483821e+17,6.456360425798342e+17,5.534023222112865e+17,6.456360425798342e+17,7.378697629483821e+17,7.378697629483821e+17,9.223372036854776e+17,6.456360425798342e+17,8.301034833169298e+17,6.456360425798342e+17,7.378697629483821e+17,8.301034833169298e+17,8.301034833169298e+17,9.223372036854776e+17,7.378697629483821e+17,6.456360425798342e+17,8.301034833169298e+17,7.378697629483821e+17,9.223372036854776e+17,8.301034833169298e+17,9.223372036854776e+17,7.378697629483821e+17,8.301034833169298e+17,7.378697629483821e+17,7.378697629483821e+17,8.301034833169298e+17,8.301034833169298e+17,8.301034833169298e+17,7.378697629483821e+17,6.456360425798342e+17,5.534023222112865e+17,7.378697629483821e+17,8.301034833169298e+17,9.223372036854776e+17,8.301034833169298e+17,6.456360425798342e+17,8.301034833169298e+17,9.223372036854776e+17,5.534023222112865e+17,7.378697629483821e+17,8.301034833169298e+17,9.223372036854776e+17,8.301034833169298e+17,8.301034833169298e+17,5.534023222112865e+17,8.301034833169298e+17,8.301034833169298e+17,8.301034833169298e+17,8.301034833169298e+17,7.378697629483821e+17,8.301034833169298e+17,9.223372036854776e+17,8.301034833169298e+17,8.301034833169298e+17,7.378697629483821e+17,9.223372036854776e+17,8.301034833169298e+17,8.301034833169298e+17,7.378697629483821e+17,9.223372036854776e+17,7.378697629483821e+17,9.223372036854776e+17,8.301034833169298e+17,9.223372036854776e+17,8.301034833169298e+17,8.301034833169298e+17,9.223372036854776e+17,6.456360425798342e+17,7.378697629483821e+17,6.456360425798342e+17,8.301034833169298e+17,8.301034833169298e+17,9.223372036854776e+17,9.223372036854776e+17,6.456360425798342e+17,9.223372036854776e+17,7.378697629483821e+17,9.223372036854776e+17,8.301034833169298e+17,9.223372036854776e+17,7.378697629483821e+17,9.223372036854776e+17,6.456360425798342e+17,7.378697629483821e+17,9.223372036854776e+17,8.301034833169298e+17,8.301034833169298e+17,8.301034833169298e+17,8.301034833169298e+17,7.378697629483821e+17,7.378697629483821e+17,9.223372036854776e+17,9.223372036854776e+17,7.378697629483821e+17,8.301034833169298e+17,8.301034833169298e+17,6.456360425798342e+17,6.456360425798342e+17,7.378697629483821e+17,6.456360425798342e+17,7.378697629483821e+17,8.301034833169298e+17,8.301034833169298e+17,4.611686018427388e+17,5.534023222112865e+17,6.456360425798342e+17,8.301034833169298e+17,6.456360425798342e+17,7.378697629483821e+17,5.534023222112865e+17,8.301034833169298e+17,7.378697629483821e+17,8.301034833169298e+17,6.456360425798342e+17,8.301034833169298e+17,7.378697629483821e+17,6.456360425798342e+17,9.223372036854776e+17,8.301034833169298e+17,9.223372036854776e+17,6.456360425798342e+17,9.223372036854776e+17,7.378697629483821e+17,9.223372036854776e+17,8.301034833169298e+17,7.378697629483821e+17,8.301034833169298e+17,9.223372036854776e+17,7.378697629483821e+17,8.301034833169298e+17,5.534023222112865e+17,8.301034833169298e+17,6.456360425798342e+17,8.301034833169298e+17,8.301034833169298e+17,6.456360425798342e+17,6.456360425798342e+17,7.378697629483821e+17,8.301034833169298e+17,8.301034833169298e+17,8.301034833169298e+17,8.301034833169298e+17,5.534023222112865e+17,9.223372036854776e+17,7.378697629483821e+17,3.6893488147419104e+17,6.456360425798342e+17,8.301034833169298e+17,8.301034833169298e+17,8.301034833169298e+17,7.378697629483821e+17,8.301034833169298e+17,7.378697629483821e+17,6.456360425798342e+17,5.534023222112865e+17,8.301034833169298e+17,6.456360425798342e+17,7.378697629483821e+17,9.223372036854776e+17,8.301034833169298e+17,8.301034833169298e+17,5.534023222112865e+17,5.534023222112865e+17,8.301034833169298e+17,6.456360425798342e+17,8.301034833169298e+17,8.301034833169298e+17,7.378697629483821e+17,9.223372036854776e+17],\"type\":\"scatter\"},{\"mode\":\"lines+markers\",\"name\":\"Q-Learning\",\"x\":[0,1,2,3,4,5,6,7,8,9,10,11,12,13,14,15,16,17,18,19,20,21,22,23,24,25,26,27,28,29,30,31,32,33,34,35,36,37,38,39,40,41,42,43,44,45,46,47,48,49,50,51,52,53,54,55,56,57,58,59,60,61,62,63,64,65,66,67,68,69,70,71,72,73,74,75,76,77,78,79,80,81,82,83,84,85,86,87,88,89,90,91,92,93,94,95,96,97,98,99,100,101,102,103,104,105,106,107,108,109,110,111,112,113,114,115,116,117,118,119,120,121,122,123,124,125,126,127,128,129,130,131,132,133,134,135,136,137,138,139,140,141,142,143,144,145,146,147,148,149,150,151,152,153,154,155,156,157,158,159,160,161,162,163,164,165,166,167,168,169,170,171,172,173,174,175,176,177,178,179,180,181,182,183,184,185,186,187,188,189,190,191,192,193,194,195,196,197,198,199,200,201,202,203,204,205,206,207,208,209,210,211,212,213,214,215,216,217,218,219,220,221,222,223,224,225,226,227,228,229,230,231,232,233,234,235,236,237,238,239,240,241,242,243,244,245,246,247,248,249,250,251,252,253,254,255,256,257,258,259,260,261,262,263,264,265,266,267,268,269,270,271,272,273,274,275,276,277,278,279,280,281,282,283,284,285,286,287,288,289,290,291,292,293,294,295,296,297,298,299,300,301,302,303,304,305,306,307,308,309,310,311,312,313,314,315,316,317,318,319,320,321,322,323,324,325,326,327,328,329,330,331,332,333,334,335,336,337,338,339,340,341,342,343,344,345,346,347,348,349,350,351,352,353,354,355,356,357,358,359,360,361,362,363,364,365,366,367,368,369,370,371,372,373,374,375,376,377,378,379,380,381,382,383,384,385,386,387,388,389,390,391,392,393,394,395,396,397,398,399,400,401,402,403,404,405,406,407,408,409,410,411,412,413,414,415,416,417,418,419,420,421,422,423,424,425,426,427,428,429,430,431,432,433,434,435,436,437,438,439,440,441,442,443,444,445,446,447,448,449,450,451,452,453,454,455,456,457,458,459,460,461,462,463,464,465,466,467,468,469,470,471,472,473,474,475,476,477,478,479,480,481,482,483,484,485,486,487,488,489,490,491,492,493,494,495,496,497,498,499,500,501,502,503,504,505,506,507,508,509,510,511,512,513,514,515,516,517,518,519,520,521,522,523,524,525,526,527,528,529,530,531,532,533,534,535,536,537,538,539,540,541,542,543,544,545,546,547,548,549,550,551,552,553,554,555,556,557,558,559,560,561,562,563,564,565,566,567,568,569,570,571,572,573,574,575,576,577,578,579,580,581,582,583,584,585,586,587,588,589,590,591,592,593,594,595,596,597,598,599,600,601,602,603,604,605,606,607,608,609,610,611,612,613,614,615,616,617,618,619,620,621,622,623,624,625,626,627,628,629,630,631,632,633,634,635,636,637,638,639,640,641,642,643,644,645,646,647,648,649,650,651,652,653,654,655,656,657,658,659,660,661,662,663,664,665,666,667,668,669,670,671,672,673,674,675,676,677,678,679,680,681,682,683,684,685,686,687,688,689,690,691,692,693,694,695,696,697,698,699,700,701,702,703,704,705,706,707,708,709,710,711,712,713,714,715,716,717,718,719,720,721,722,723,724,725,726,727,728,729,730,731,732,733,734,735,736,737,738,739,740,741,742,743,744,745,746,747,748,749,750,751,752,753,754,755,756,757,758,759,760,761,762,763,764,765,766,767,768,769,770,771,772,773,774,775,776,777,778,779,780,781,782,783,784,785,786,787,788,789,790,791,792,793,794,795,796,797,798,799,800,801,802,803,804,805,806,807,808,809,810,811,812,813,814,815,816,817,818,819,820,821,822,823,824,825,826,827,828,829,830,831,832,833,834,835,836,837,838,839,840,841,842,843,844,845,846,847,848,849,850,851,852,853,854,855,856,857,858,859,860,861,862,863,864,865,866,867,868,869,870,871,872,873,874,875,876,877,878,879,880,881,882,883,884,885,886,887,888,889,890,891,892,893,894,895,896,897,898,899,900,901,902,903,904,905,906,907,908,909,910,911,912,913,914,915,916,917,918,919,920,921,922,923,924,925,926,927,928,929,930,931,932,933,934,935,936,937,938,939,940,941,942,943,944,945,946,947,948,949,950,951,952,953,954,955,956,957,958,959,960,961,962,963,964,965,966,967,968,969,970,971,972,973,974,975,976,977,978,979,980,981,982,983,984,985,986,987,988,989,990,991,992,993,994,995,996,997,998,999],\"y\":[-1.443,-1.5030000000000001,-1.3809999999999998,-1.6019999999999999,1.844674407370955e+16,5.534023222112866e+16,6.456360425798342e+16,7.37869762948382e+16,7.37869762948382e+16,8.301034833169298e+16,8.301034833169298e+16,6.456360425798342e+16,8.301034833169298e+16,6.456360425798342e+16,8.301034833169298e+16,8.301034833169298e+16,6.456360425798342e+16,9.223372036854776e+16,8.301034833169298e+16,6.456360425798342e+16,9.223372036854776e+16,5.534023222112866e+16,6.456360425798342e+16,8.301034833169298e+16,7.37869762948382e+16,8.301034833169298e+16,7.37869762948382e+16,7.37869762948382e+16,9.223372036854776e+16,9.223372036854776e+16,7.37869762948382e+16,6.456360425798342e+16,9.223372036854776e+16,8.301034833169298e+16,8.301034833169298e+16,7.37869762948382e+16,8.301034833169298e+16,5.534023222112866e+16,8.301034833169298e+16,4.611686018427388e+16,8.301034833169298e+16,7.37869762948382e+16,8.301034833169298e+16,8.301034833169298e+16,8.301034833169298e+16,7.37869762948382e+16,7.37869762948382e+16,7.37869762948382e+16,6.456360425798342e+16,6.456360425798342e+16,8.301034833169298e+16,9.223372036854776e+16,8.301034833169298e+16,4.611686018427388e+16,5.534023222112866e+16,5.534023222112866e+16,8.301034833169298e+16,7.37869762948382e+16,8.301034833169298e+16,9.223372036854776e+16,6.456360425798342e+16,7.37869762948382e+16,7.37869762948382e+16,8.301034833169298e+16,8.301034833169298e+16,8.301034833169298e+16,7.37869762948382e+16,8.301034833169298e+16,6.456360425798342e+16,5.534023222112866e+16,7.37869762948382e+16,7.37869762948382e+16,7.37869762948382e+16,7.37869762948382e+16,8.301034833169298e+16,9.223372036854776e+16,8.301034833169298e+16,7.37869762948382e+16,8.301034833169298e+16,8.301034833169298e+16,8.301034833169298e+16,7.37869762948382e+16,9.223372036854776e+16,9.223372036854776e+16,8.301034833169298e+16,6.456360425798342e+16,8.301034833169298e+16,9.223372036854776e+16,8.301034833169298e+16,8.301034833169298e+16,8.301034833169298e+16,6.456360425798342e+16,7.37869762948382e+16,7.37869762948382e+16,6.456360425798342e+16,8.301034833169298e+16,8.301034833169298e+16,9.223372036854776e+16,8.301034833169298e+16,8.301034833169298e+16,9.223372036854776e+16,7.37869762948382e+16,6.456360425798342e+16,6.456360425798342e+16,8.301034833169298e+16,7.37869762948382e+16,8.301034833169298e+16,7.37869762948382e+16,8.301034833169298e+16,9.223372036854776e+16,7.37869762948382e+16,6.456360425798342e+16,6.456360425798342e+16,6.456360425798342e+16,6.456360425798342e+16,8.301034833169298e+16,8.301034833169298e+16,7.37869762948382e+16,6.456360425798342e+16,9.223372036854776e+16,8.301034833169298e+16,8.301034833169298e+16,8.301034833169298e+16,7.37869762948382e+16,8.301034833169298e+16,8.301034833169298e+16,8.301034833169298e+16,9.223372036854776e+16,8.301034833169298e+16,6.456360425798342e+16,7.37869762948382e+16,8.301034833169298e+16,4.611686018427388e+16,9.223372036854776e+16,8.301034833169298e+16,9.223372036854776e+16,8.301034833169298e+16,8.301034833169298e+16,8.301034833169298e+16,9.223372036854776e+16,8.301034833169298e+16,4.611686018427388e+16,8.301034833169298e+16,7.37869762948382e+16,8.301034833169298e+16,8.301034833169298e+16,9.223372036854776e+16,7.37869762948382e+16,6.456360425798342e+16,9.223372036854776e+16,8.301034833169298e+16,9.223372036854776e+16,7.37869762948382e+16,9.223372036854776e+16,9.223372036854776e+16,8.301034833169298e+16,8.301034833169298e+16,6.456360425798342e+16,7.37869762948382e+16,8.301034833169298e+16,8.301034833169298e+16,8.301034833169298e+16,9.223372036854776e+16,9.223372036854776e+16,7.37869762948382e+16,6.456360425798342e+16,8.301034833169298e+16,7.37869762948382e+16,9.223372036854776e+16,8.301034833169298e+16,9.223372036854776e+16,6.456360425798342e+16,7.37869762948382e+16,9.223372036854776e+16,8.301034833169298e+16,7.37869762948382e+16,8.301034833169298e+16,8.301034833169298e+16,6.456360425798342e+16,7.37869762948382e+16,8.301034833169298e+16,3.68934881474191e+16,5.534023222112866e+16,6.456360425798342e+16,7.37869762948382e+16,4.611686018427388e+16,7.37869762948382e+16,6.456360425798342e+16,8.301034833169298e+16,8.301034833169298e+16,8.301034833169298e+16,7.37869762948382e+16,8.301034833169298e+16,6.456360425798342e+16,6.456360425798342e+16,9.223372036854776e+16,7.37869762948382e+16,7.37869762948382e+16,6.456360425798342e+16,8.301034833169298e+16,8.301034833169298e+16,9.223372036854776e+16,8.301034833169298e+16,7.37869762948382e+16,8.301034833169298e+16,8.301034833169298e+16,8.301034833169298e+16,7.37869762948382e+16,8.301034833169298e+16,7.37869762948382e+16,9.223372036854776e+16,7.37869762948382e+16,7.37869762948382e+16,7.37869762948382e+16,8.301034833169298e+16,7.37869762948382e+16,8.301034833169298e+16,8.301034833169298e+16,9.223372036854776e+16,7.37869762948382e+16,8.301034833169298e+16,7.37869762948382e+16,9.223372036854776e+16,7.37869762948382e+16,8.301034833169298e+16,8.301034833169298e+16,8.301034833169298e+16,7.37869762948382e+16,8.301034833169298e+16,8.301034833169298e+16,9.223372036854776e+16,7.37869762948382e+16,8.301034833169298e+16,7.37869762948382e+16,9.223372036854776e+16,8.301034833169298e+16,5.534023222112866e+16,6.456360425798342e+16,8.301034833169298e+16,8.301034833169298e+16,9.223372036854776e+16,8.301034833169298e+16,7.37869762948382e+16,4.611686018427388e+16,8.301034833169298e+16,7.37869762948382e+16,9.223372036854776e+16,9.223372036854776e+16,8.301034833169298e+16,7.37869762948382e+16,8.301034833169298e+16,9.223372036854776e+16,8.301034833169298e+16,9.223372036854776e+16,8.301034833169298e+16,6.456360425798342e+16,8.301034833169298e+16,7.37869762948382e+16,8.301034833169298e+16,8.301034833169298e+16,8.301034833169298e+16,8.301034833169298e+16,7.37869762948382e+16,7.37869762948382e+16,8.301034833169298e+16,8.301034833169298e+16,4.611686018427388e+16,7.37869762948382e+16,7.37869762948382e+16,9.223372036854776e+16,4.611686018427388e+16,7.37869762948382e+16,7.37869762948382e+16,6.456360425798342e+16,8.301034833169298e+16,7.37869762948382e+16,5.534023222112866e+16,4.611686018427388e+16,6.456360425798342e+16,6.456360425798342e+16,9.223372036854776e+16,7.37869762948382e+16,9.223372036854776e+16,6.456360425798342e+16,7.37869762948382e+16,6.456360425798342e+16,7.37869762948382e+16,9.223372036854776e+16,6.456360425798342e+16,8.301034833169298e+16,7.37869762948382e+16,7.37869762948382e+16,8.301034833169298e+16,8.301034833169298e+16,8.301034833169298e+16,7.37869762948382e+16,8.301034833169298e+16,9.223372036854776e+16,8.301034833169298e+16,9.223372036854776e+16,9.223372036854776e+16,9.223372036854776e+16,8.301034833169298e+16,8.301034833169298e+16,8.301034833169298e+16,8.301034833169298e+16,9.223372036854776e+16,8.301034833169298e+16,9.223372036854776e+16,7.37869762948382e+16,7.37869762948382e+16,7.37869762948382e+16,4.611686018427388e+16,9.223372036854776e+16,8.301034833169298e+16,7.37869762948382e+16,4.611686018427388e+16,9.223372036854776e+16,5.534023222112866e+16,9.223372036854776e+16,5.534023222112866e+16,8.301034833169298e+16,7.37869762948382e+16,7.37869762948382e+16,8.301034833169298e+16,9.223372036854776e+16,7.37869762948382e+16,8.301034833169298e+16,5.534023222112866e+16,5.534023222112866e+16,7.37869762948382e+16,9.223372036854776e+16,6.456360425798342e+16,6.456360425798342e+16,6.456360425798342e+16,4.611686018427388e+16,7.37869762948382e+16,6.456360425798342e+16,8.301034833169298e+16,7.37869762948382e+16,7.37869762948382e+16,6.456360425798342e+16,9.223372036854776e+16,9.223372036854776e+16,9.223372036854776e+16,8.301034833169298e+16,6.456360425798342e+16,7.37869762948382e+16,8.301034833169298e+16,8.301034833169298e+16,8.301034833169298e+16,8.301034833169298e+16,6.456360425798342e+16,9.223372036854776e+16,8.301034833169298e+16,7.37869762948382e+16,7.37869762948382e+16,7.37869762948382e+16,9.223372036854776e+16,9.223372036854776e+16,8.301034833169298e+16,7.37869762948382e+16,8.301034833169298e+16,8.301034833169298e+16,8.301034833169298e+16,8.301034833169298e+16,8.301034833169298e+16,8.301034833169298e+16,3.68934881474191e+16,6.456360425798342e+16,7.37869762948382e+16,7.37869762948382e+16,6.456360425798342e+16,6.456360425798342e+16,8.301034833169298e+16,8.301034833169298e+16,9.223372036854776e+16,9.223372036854776e+16,5.534023222112866e+16,9.223372036854776e+16,7.37869762948382e+16,6.456360425798342e+16,6.456360425798342e+16,8.301034833169298e+16,5.534023222112866e+16,9.223372036854776e+16,9.223372036854776e+16,8.301034833169298e+16,8.301034833169298e+16,9.223372036854776e+16,7.37869762948382e+16,8.301034833169298e+16,9.223372036854776e+16,9.223372036854776e+16,6.456360425798342e+16,8.301034833169298e+16,7.37869762948382e+16,8.301034833169298e+16,6.456360425798342e+16,7.37869762948382e+16,7.37869762948382e+16,9.223372036854776e+16,9.223372036854776e+16,6.456360425798342e+16,7.37869762948382e+16,9.223372036854776e+16,7.37869762948382e+16,9.223372036854776e+16,8.301034833169298e+16,8.301034833169298e+16,7.37869762948382e+16,9.223372036854776e+16,7.37869762948382e+16,8.301034833169298e+16,8.301034833169298e+16,8.301034833169298e+16,7.37869762948382e+16,9.223372036854776e+16,6.456360425798342e+16,6.456360425798342e+16,5.534023222112866e+16,7.37869762948382e+16,8.301034833169298e+16,9.223372036854776e+16,8.301034833169298e+16,9.223372036854776e+16,5.534023222112866e+16,8.301034833169298e+16,7.37869762948382e+16,8.301034833169298e+16,8.301034833169298e+16,9.223372036854776e+16,8.301034833169298e+16,9.223372036854776e+16,7.37869762948382e+16,8.301034833169298e+16,9.223372036854776e+16,8.301034833169298e+16,7.37869762948382e+16,5.534023222112866e+16,9.223372036854776e+16,8.301034833169298e+16,8.301034833169298e+16,7.37869762948382e+16,8.301034833169298e+16,9.223372036854776e+16,7.37869762948382e+16,8.301034833169298e+16,6.456360425798342e+16,4.611686018427388e+16,7.37869762948382e+16,7.37869762948382e+16,7.37869762948382e+16,7.37869762948382e+16,8.301034833169298e+16,7.37869762948382e+16,9.223372036854776e+16,8.301034833169298e+16,7.37869762948382e+16,9.223372036854776e+16,8.301034833169298e+16,7.37869762948382e+16,7.37869762948382e+16,7.37869762948382e+16,6.456360425798342e+16,8.301034833169298e+16,9.223372036854776e+16,9.223372036854776e+16,9.223372036854776e+16,9.223372036854776e+16,6.456360425798342e+16,8.301034833169298e+16,2.767011611056433e+16,4.611686018427388e+16,5.534023222112866e+16,9.223372036854776e+16,9.223372036854776e+16,6.456360425798342e+16,9.223372036854776e+16,7.37869762948382e+16,6.456360425798342e+16,6.456360425798342e+16,7.37869762948382e+16,8.301034833169298e+16,6.456360425798342e+16,6.456360425798342e+16,9.223372036854776e+16,7.37869762948382e+16,8.301034833169298e+16,6.456360425798342e+16,7.37869762948382e+16,6.456360425798342e+16,7.37869762948382e+16,9.223372036854776e+16,9.223372036854776e+16,6.456360425798342e+16,7.37869762948382e+16,8.301034833169298e+16,9.223372036854776e+16,9.223372036854776e+16,8.301034833169298e+16,7.37869762948382e+16,9.223372036854776e+16,7.37869762948382e+16,8.301034833169298e+16,8.301034833169298e+16,8.301034833169298e+16,7.37869762948382e+16,9.223372036854776e+16,9.223372036854776e+16,7.37869762948382e+16,9.223372036854776e+16,9.223372036854776e+16,7.37869762948382e+16,9.223372036854776e+16,7.37869762948382e+16,6.456360425798342e+16,8.301034833169298e+16,9.223372036854776e+16,8.301034833169298e+16,7.37869762948382e+16,8.301034833169298e+16,9.223372036854776e+16,9.223372036854776e+16,9.223372036854776e+16,6.456360425798342e+16,8.301034833169298e+16,6.456360425798342e+16,7.37869762948382e+16,7.37869762948382e+16,8.301034833169298e+16,9.223372036854776e+16,6.456360425798342e+16,8.301034833169298e+16,9.223372036854776e+16,6.456360425798342e+16,6.456360425798342e+16,7.37869762948382e+16,7.37869762948382e+16,7.37869762948382e+16,7.37869762948382e+16,4.611686018427388e+16,8.301034833169298e+16,9.223372036854776e+16,5.534023222112866e+16,9.223372036854776e+16,8.301034833169298e+16,7.37869762948382e+16,6.456360425798342e+16,8.301034833169298e+16,6.456360425798342e+16,7.37869762948382e+16,8.301034833169298e+16,7.37869762948382e+16,8.301034833169298e+16,7.37869762948382e+16,8.301034833169298e+16,7.37869762948382e+16,8.301034833169298e+16,7.37869762948382e+16,8.301034833169298e+16,7.37869762948382e+16,8.301034833169298e+16,6.456360425798342e+16,8.301034833169298e+16,8.301034833169298e+16,6.456360425798342e+16,8.301034833169298e+16,7.37869762948382e+16,7.37869762948382e+16,8.301034833169298e+16,9.223372036854776e+16,7.37869762948382e+16,8.301034833169298e+16,6.456360425798342e+16,5.534023222112866e+16,5.534023222112866e+16,8.301034833169298e+16,6.456360425798342e+16,9.223372036854776e+16,9.223372036854776e+16,9.223372036854776e+16,8.301034833169298e+16,8.301034833169298e+16,9.223372036854776e+16,6.456360425798342e+16,7.37869762948382e+16,6.456360425798342e+16,6.456360425798342e+16,8.301034833169298e+16,7.37869762948382e+16,8.301034833169298e+16,6.456360425798342e+16,9.223372036854776e+16,9.223372036854776e+16,6.456360425798342e+16,6.456360425798342e+16,5.534023222112866e+16,8.301034833169298e+16,7.37869762948382e+16,8.301034833169298e+16,7.37869762948382e+16,8.301034833169298e+16,9.223372036854776e+16,6.456360425798342e+16,5.534023222112866e+16,8.301034833169298e+16,8.301034833169298e+16,7.37869762948382e+16,6.456360425798342e+16,9.223372036854776e+16,9.223372036854776e+16,8.301034833169298e+16,6.456360425798342e+16,7.37869762948382e+16,7.37869762948382e+16,8.301034833169298e+16,8.301034833169298e+16,9.223372036854776e+16,8.301034833169298e+16,5.534023222112866e+16,9.223372036854776e+16,6.456360425798342e+16,8.301034833169298e+16,7.37869762948382e+16,8.301034833169298e+16,8.301034833169298e+16,7.37869762948382e+16,8.301034833169298e+16,6.456360425798342e+16,5.534023222112866e+16,9.223372036854776e+16,7.37869762948382e+16,6.456360425798342e+16,6.456360425798342e+16,7.37869762948382e+16,6.456360425798342e+16,8.301034833169298e+16,7.37869762948382e+16,8.301034833169298e+16,9.223372036854776e+16,9.223372036854776e+16,8.301034833169298e+16,7.37869762948382e+16,6.456360425798342e+16,8.301034833169298e+16,8.301034833169298e+16,8.301034833169298e+16,9.223372036854776e+16,8.301034833169298e+16,9.223372036854776e+16,7.37869762948382e+16,6.456360425798342e+16,9.223372036854776e+16,8.301034833169298e+16,6.456360425798342e+16,6.456360425798342e+16,9.223372036854776e+16,6.456360425798342e+16,6.456360425798342e+16,7.37869762948382e+16,7.37869762948382e+16,7.37869762948382e+16,5.534023222112866e+16,9.223372036854776e+16,7.37869762948382e+16,6.456360425798342e+16,5.534023222112866e+16,6.456360425798342e+16,3.68934881474191e+16,9.223372036854776e+16,8.301034833169298e+16,8.301034833169298e+16,7.37869762948382e+16,8.301034833169298e+16,5.534023222112866e+16,7.37869762948382e+16,9.223372036854776e+16,8.301034833169298e+16,8.301034833169298e+16,8.301034833169298e+16,7.37869762948382e+16,9.223372036854776e+16,5.534023222112866e+16,9.223372036854776e+16,7.37869762948382e+16,5.534023222112866e+16,7.37869762948382e+16,5.534023222112866e+16,7.37869762948382e+16,9.223372036854776e+16,6.456360425798342e+16,7.37869762948382e+16,8.301034833169298e+16,7.37869762948382e+16,9.223372036854776e+16,6.456360425798342e+16,6.456360425798342e+16,9.223372036854776e+16,7.37869762948382e+16,8.301034833169298e+16,9.223372036854776e+16,8.301034833169298e+16,7.37869762948382e+16,9.223372036854776e+16,6.456360425798342e+16,6.456360425798342e+16,7.37869762948382e+16,7.37869762948382e+16,9.223372036854776e+16,7.37869762948382e+16,7.37869762948382e+16,5.534023222112866e+16,9.223372036854776e+16,8.301034833169298e+16,8.301034833169298e+16,8.301034833169298e+16,7.37869762948382e+16,7.37869762948382e+16,7.37869762948382e+16,8.301034833169298e+16,9.223372036854776e+16,8.301034833169298e+16,7.37869762948382e+16,8.301034833169298e+16,5.534023222112866e+16,7.37869762948382e+16,5.534023222112866e+16,7.37869762948382e+16,8.301034833169298e+16,7.37869762948382e+16,7.37869762948382e+16,7.37869762948382e+16,9.223372036854776e+16,8.301034833169298e+16,7.37869762948382e+16,7.37869762948382e+16,6.456360425798342e+16,7.37869762948382e+16,7.37869762948382e+16,8.301034833169298e+16,9.223372036854776e+16,9.223372036854776e+16,8.301034833169298e+16,9.223372036854776e+16,8.301034833169298e+16,8.301034833169298e+16,7.37869762948382e+16,7.37869762948382e+16,7.37869762948382e+16,8.301034833169298e+16,8.301034833169298e+16,7.37869762948382e+16,8.301034833169298e+16,8.301034833169298e+16,6.456360425798342e+16,8.301034833169298e+16,7.37869762948382e+16,7.37869762948382e+16,7.37869762948382e+16,4.611686018427388e+16,7.37869762948382e+16,8.301034833169298e+16,8.301034833169298e+16,8.301034833169298e+16,8.301034833169298e+16,9.223372036854776e+16,7.37869762948382e+16,7.37869762948382e+16,9.223372036854776e+16,7.37869762948382e+16,5.534023222112866e+16,6.456360425798342e+16,8.301034833169298e+16,6.456360425798342e+16,7.37869762948382e+16,8.301034833169298e+16,9.223372036854776e+16,4.611686018427388e+16,9.223372036854776e+16,6.456360425798342e+16,9.223372036854776e+16,7.37869762948382e+16,6.456360425798342e+16,9.223372036854776e+16,7.37869762948382e+16,8.301034833169298e+16,7.37869762948382e+16,8.301034833169298e+16,8.301034833169298e+16,9.223372036854776e+16,7.37869762948382e+16,8.301034833169298e+16,7.37869762948382e+16,8.301034833169298e+16,9.223372036854776e+16,9.223372036854776e+16,9.223372036854776e+16,5.534023222112866e+16,6.456360425798342e+16,8.301034833169298e+16,9.223372036854776e+16,8.301034833169298e+16,8.301034833169298e+16,6.456360425798342e+16,5.534023222112866e+16,9.223372036854776e+16,8.301034833169298e+16,6.456360425798342e+16,6.456360425798342e+16,7.37869762948382e+16,6.456360425798342e+16,6.456360425798342e+16,7.37869762948382e+16,8.301034833169298e+16,7.37869762948382e+16,7.37869762948382e+16,9.223372036854776e+16,7.37869762948382e+16,7.37869762948382e+16,7.37869762948382e+16,8.301034833169298e+16,6.456360425798342e+16,8.301034833169298e+16,6.456360425798342e+16,5.534023222112866e+16,7.37869762948382e+16,6.456360425798342e+16,6.456360425798342e+16,7.37869762948382e+16,8.301034833169298e+16,7.37869762948382e+16,6.456360425798342e+16,5.534023222112866e+16,6.456360425798342e+16,7.37869762948382e+16,7.37869762948382e+16,9.223372036854776e+16,6.456360425798342e+16,8.301034833169298e+16,6.456360425798342e+16,7.37869762948382e+16,8.301034833169298e+16,8.301034833169298e+16,9.223372036854776e+16,7.37869762948382e+16,6.456360425798342e+16,8.301034833169298e+16,7.37869762948382e+16,9.223372036854776e+16,8.301034833169298e+16,9.223372036854776e+16,7.37869762948382e+16,8.301034833169298e+16,7.37869762948382e+16,7.37869762948382e+16,8.301034833169298e+16,8.301034833169298e+16,8.301034833169298e+16,7.37869762948382e+16,6.456360425798342e+16,5.534023222112866e+16,7.37869762948382e+16,8.301034833169298e+16,9.223372036854776e+16,8.301034833169298e+16,6.456360425798342e+16,8.301034833169298e+16,9.223372036854776e+16,5.534023222112866e+16,7.37869762948382e+16,8.301034833169298e+16,9.223372036854776e+16,8.301034833169298e+16,8.301034833169298e+16,5.534023222112866e+16,8.301034833169298e+16,8.301034833169298e+16,8.301034833169298e+16,8.301034833169298e+16,7.37869762948382e+16,8.301034833169298e+16,9.223372036854776e+16,8.301034833169298e+16,8.301034833169298e+16,7.37869762948382e+16,9.223372036854776e+16,8.301034833169298e+16,8.301034833169298e+16,7.37869762948382e+16,9.223372036854776e+16,7.37869762948382e+16,9.223372036854776e+16,8.301034833169298e+16,9.223372036854776e+16,8.301034833169298e+16,8.301034833169298e+16,9.223372036854776e+16,6.456360425798342e+16,7.37869762948382e+16,6.456360425798342e+16,8.301034833169298e+16,8.301034833169298e+16,9.223372036854776e+16,9.223372036854776e+16,6.456360425798342e+16,9.223372036854776e+16,7.37869762948382e+16,9.223372036854776e+16,8.301034833169298e+16,9.223372036854776e+16,7.37869762948382e+16,9.223372036854776e+16,6.456360425798342e+16,7.37869762948382e+16,9.223372036854776e+16,8.301034833169298e+16,8.301034833169298e+16,8.301034833169298e+16,8.301034833169298e+16,7.37869762948382e+16,7.37869762948382e+16,9.223372036854776e+16,9.223372036854776e+16,7.37869762948382e+16,8.301034833169298e+16,8.301034833169298e+16,6.456360425798342e+16,6.456360425798342e+16,7.37869762948382e+16,6.456360425798342e+16,7.37869762948382e+16,8.301034833169298e+16,8.301034833169298e+16,4.611686018427388e+16,5.534023222112866e+16,6.456360425798342e+16,8.301034833169298e+16,6.456360425798342e+16,7.37869762948382e+16,5.534023222112866e+16,8.301034833169298e+16,7.37869762948382e+16,8.301034833169298e+16,6.456360425798342e+16,8.301034833169298e+16,7.37869762948382e+16,6.456360425798342e+16,9.223372036854776e+16,8.301034833169298e+16,9.223372036854776e+16,6.456360425798342e+16,9.223372036854776e+16,7.37869762948382e+16,9.223372036854776e+16,8.301034833169298e+16,7.37869762948382e+16,8.301034833169298e+16,9.223372036854776e+16,7.37869762948382e+16,8.301034833169298e+16,5.534023222112866e+16,8.301034833169298e+16,6.456360425798342e+16,8.301034833169298e+16,8.301034833169298e+16,6.456360425798342e+16,6.456360425798342e+16,7.37869762948382e+16,8.301034833169298e+16,8.301034833169298e+16,8.301034833169298e+16,8.301034833169298e+16,5.534023222112866e+16,9.223372036854776e+16,7.37869762948382e+16,3.68934881474191e+16,6.456360425798342e+16,8.301034833169298e+16,8.301034833169298e+16,8.301034833169298e+16,7.37869762948382e+16,8.301034833169298e+16,7.37869762948382e+16,6.456360425798342e+16,5.534023222112866e+16,8.301034833169298e+16,6.456360425798342e+16,7.37869762948382e+16,9.223372036854776e+16,8.301034833169298e+16,8.301034833169298e+16,5.534023222112866e+16,5.534023222112866e+16,8.301034833169298e+16,6.456360425798342e+16,8.301034833169298e+16,8.301034833169298e+16,7.37869762948382e+16,9.223372036854776e+16],\"type\":\"scatter\"}],                        {\"template\":{\"data\":{\"bar\":[{\"error_x\":{\"color\":\"#2a3f5f\"},\"error_y\":{\"color\":\"#2a3f5f\"},\"marker\":{\"line\":{\"color\":\"#E5ECF6\",\"width\":0.5},\"pattern\":{\"fillmode\":\"overlay\",\"size\":10,\"solidity\":0.2}},\"type\":\"bar\"}],\"barpolar\":[{\"marker\":{\"line\":{\"color\":\"#E5ECF6\",\"width\":0.5},\"pattern\":{\"fillmode\":\"overlay\",\"size\":10,\"solidity\":0.2}},\"type\":\"barpolar\"}],\"carpet\":[{\"aaxis\":{\"endlinecolor\":\"#2a3f5f\",\"gridcolor\":\"white\",\"linecolor\":\"white\",\"minorgridcolor\":\"white\",\"startlinecolor\":\"#2a3f5f\"},\"baxis\":{\"endlinecolor\":\"#2a3f5f\",\"gridcolor\":\"white\",\"linecolor\":\"white\",\"minorgridcolor\":\"white\",\"startlinecolor\":\"#2a3f5f\"},\"type\":\"carpet\"}],\"choropleth\":[{\"colorbar\":{\"outlinewidth\":0,\"ticks\":\"\"},\"type\":\"choropleth\"}],\"contour\":[{\"colorbar\":{\"outlinewidth\":0,\"ticks\":\"\"},\"colorscale\":[[0.0,\"#0d0887\"],[0.1111111111111111,\"#46039f\"],[0.2222222222222222,\"#7201a8\"],[0.3333333333333333,\"#9c179e\"],[0.4444444444444444,\"#bd3786\"],[0.5555555555555556,\"#d8576b\"],[0.6666666666666666,\"#ed7953\"],[0.7777777777777778,\"#fb9f3a\"],[0.8888888888888888,\"#fdca26\"],[1.0,\"#f0f921\"]],\"type\":\"contour\"}],\"contourcarpet\":[{\"colorbar\":{\"outlinewidth\":0,\"ticks\":\"\"},\"type\":\"contourcarpet\"}],\"heatmap\":[{\"colorbar\":{\"outlinewidth\":0,\"ticks\":\"\"},\"colorscale\":[[0.0,\"#0d0887\"],[0.1111111111111111,\"#46039f\"],[0.2222222222222222,\"#7201a8\"],[0.3333333333333333,\"#9c179e\"],[0.4444444444444444,\"#bd3786\"],[0.5555555555555556,\"#d8576b\"],[0.6666666666666666,\"#ed7953\"],[0.7777777777777778,\"#fb9f3a\"],[0.8888888888888888,\"#fdca26\"],[1.0,\"#f0f921\"]],\"type\":\"heatmap\"}],\"heatmapgl\":[{\"colorbar\":{\"outlinewidth\":0,\"ticks\":\"\"},\"colorscale\":[[0.0,\"#0d0887\"],[0.1111111111111111,\"#46039f\"],[0.2222222222222222,\"#7201a8\"],[0.3333333333333333,\"#9c179e\"],[0.4444444444444444,\"#bd3786\"],[0.5555555555555556,\"#d8576b\"],[0.6666666666666666,\"#ed7953\"],[0.7777777777777778,\"#fb9f3a\"],[0.8888888888888888,\"#fdca26\"],[1.0,\"#f0f921\"]],\"type\":\"heatmapgl\"}],\"histogram\":[{\"marker\":{\"pattern\":{\"fillmode\":\"overlay\",\"size\":10,\"solidity\":0.2}},\"type\":\"histogram\"}],\"histogram2d\":[{\"colorbar\":{\"outlinewidth\":0,\"ticks\":\"\"},\"colorscale\":[[0.0,\"#0d0887\"],[0.1111111111111111,\"#46039f\"],[0.2222222222222222,\"#7201a8\"],[0.3333333333333333,\"#9c179e\"],[0.4444444444444444,\"#bd3786\"],[0.5555555555555556,\"#d8576b\"],[0.6666666666666666,\"#ed7953\"],[0.7777777777777778,\"#fb9f3a\"],[0.8888888888888888,\"#fdca26\"],[1.0,\"#f0f921\"]],\"type\":\"histogram2d\"}],\"histogram2dcontour\":[{\"colorbar\":{\"outlinewidth\":0,\"ticks\":\"\"},\"colorscale\":[[0.0,\"#0d0887\"],[0.1111111111111111,\"#46039f\"],[0.2222222222222222,\"#7201a8\"],[0.3333333333333333,\"#9c179e\"],[0.4444444444444444,\"#bd3786\"],[0.5555555555555556,\"#d8576b\"],[0.6666666666666666,\"#ed7953\"],[0.7777777777777778,\"#fb9f3a\"],[0.8888888888888888,\"#fdca26\"],[1.0,\"#f0f921\"]],\"type\":\"histogram2dcontour\"}],\"mesh3d\":[{\"colorbar\":{\"outlinewidth\":0,\"ticks\":\"\"},\"type\":\"mesh3d\"}],\"parcoords\":[{\"line\":{\"colorbar\":{\"outlinewidth\":0,\"ticks\":\"\"}},\"type\":\"parcoords\"}],\"pie\":[{\"automargin\":true,\"type\":\"pie\"}],\"scatter\":[{\"marker\":{\"colorbar\":{\"outlinewidth\":0,\"ticks\":\"\"}},\"type\":\"scatter\"}],\"scatter3d\":[{\"line\":{\"colorbar\":{\"outlinewidth\":0,\"ticks\":\"\"}},\"marker\":{\"colorbar\":{\"outlinewidth\":0,\"ticks\":\"\"}},\"type\":\"scatter3d\"}],\"scattercarpet\":[{\"marker\":{\"colorbar\":{\"outlinewidth\":0,\"ticks\":\"\"}},\"type\":\"scattercarpet\"}],\"scattergeo\":[{\"marker\":{\"colorbar\":{\"outlinewidth\":0,\"ticks\":\"\"}},\"type\":\"scattergeo\"}],\"scattergl\":[{\"marker\":{\"colorbar\":{\"outlinewidth\":0,\"ticks\":\"\"}},\"type\":\"scattergl\"}],\"scattermapbox\":[{\"marker\":{\"colorbar\":{\"outlinewidth\":0,\"ticks\":\"\"}},\"type\":\"scattermapbox\"}],\"scatterpolar\":[{\"marker\":{\"colorbar\":{\"outlinewidth\":0,\"ticks\":\"\"}},\"type\":\"scatterpolar\"}],\"scatterpolargl\":[{\"marker\":{\"colorbar\":{\"outlinewidth\":0,\"ticks\":\"\"}},\"type\":\"scatterpolargl\"}],\"scatterternary\":[{\"marker\":{\"colorbar\":{\"outlinewidth\":0,\"ticks\":\"\"}},\"type\":\"scatterternary\"}],\"surface\":[{\"colorbar\":{\"outlinewidth\":0,\"ticks\":\"\"},\"colorscale\":[[0.0,\"#0d0887\"],[0.1111111111111111,\"#46039f\"],[0.2222222222222222,\"#7201a8\"],[0.3333333333333333,\"#9c179e\"],[0.4444444444444444,\"#bd3786\"],[0.5555555555555556,\"#d8576b\"],[0.6666666666666666,\"#ed7953\"],[0.7777777777777778,\"#fb9f3a\"],[0.8888888888888888,\"#fdca26\"],[1.0,\"#f0f921\"]],\"type\":\"surface\"}],\"table\":[{\"cells\":{\"fill\":{\"color\":\"#EBF0F8\"},\"line\":{\"color\":\"white\"}},\"header\":{\"fill\":{\"color\":\"#C8D4E3\"},\"line\":{\"color\":\"white\"}},\"type\":\"table\"}]},\"layout\":{\"annotationdefaults\":{\"arrowcolor\":\"#2a3f5f\",\"arrowhead\":0,\"arrowwidth\":1},\"autotypenumbers\":\"strict\",\"coloraxis\":{\"colorbar\":{\"outlinewidth\":0,\"ticks\":\"\"}},\"colorscale\":{\"diverging\":[[0,\"#8e0152\"],[0.1,\"#c51b7d\"],[0.2,\"#de77ae\"],[0.3,\"#f1b6da\"],[0.4,\"#fde0ef\"],[0.5,\"#f7f7f7\"],[0.6,\"#e6f5d0\"],[0.7,\"#b8e186\"],[0.8,\"#7fbc41\"],[0.9,\"#4d9221\"],[1,\"#276419\"]],\"sequential\":[[0.0,\"#0d0887\"],[0.1111111111111111,\"#46039f\"],[0.2222222222222222,\"#7201a8\"],[0.3333333333333333,\"#9c179e\"],[0.4444444444444444,\"#bd3786\"],[0.5555555555555556,\"#d8576b\"],[0.6666666666666666,\"#ed7953\"],[0.7777777777777778,\"#fb9f3a\"],[0.8888888888888888,\"#fdca26\"],[1.0,\"#f0f921\"]],\"sequentialminus\":[[0.0,\"#0d0887\"],[0.1111111111111111,\"#46039f\"],[0.2222222222222222,\"#7201a8\"],[0.3333333333333333,\"#9c179e\"],[0.4444444444444444,\"#bd3786\"],[0.5555555555555556,\"#d8576b\"],[0.6666666666666666,\"#ed7953\"],[0.7777777777777778,\"#fb9f3a\"],[0.8888888888888888,\"#fdca26\"],[1.0,\"#f0f921\"]]},\"colorway\":[\"#636efa\",\"#EF553B\",\"#00cc96\",\"#ab63fa\",\"#FFA15A\",\"#19d3f3\",\"#FF6692\",\"#B6E880\",\"#FF97FF\",\"#FECB52\"],\"font\":{\"color\":\"#2a3f5f\"},\"geo\":{\"bgcolor\":\"white\",\"lakecolor\":\"white\",\"landcolor\":\"#E5ECF6\",\"showlakes\":true,\"showland\":true,\"subunitcolor\":\"white\"},\"hoverlabel\":{\"align\":\"left\"},\"hovermode\":\"closest\",\"mapbox\":{\"style\":\"light\"},\"paper_bgcolor\":\"white\",\"plot_bgcolor\":\"#E5ECF6\",\"polar\":{\"angularaxis\":{\"gridcolor\":\"white\",\"linecolor\":\"white\",\"ticks\":\"\"},\"bgcolor\":\"#E5ECF6\",\"radialaxis\":{\"gridcolor\":\"white\",\"linecolor\":\"white\",\"ticks\":\"\"}},\"scene\":{\"xaxis\":{\"backgroundcolor\":\"#E5ECF6\",\"gridcolor\":\"white\",\"gridwidth\":2,\"linecolor\":\"white\",\"showbackground\":true,\"ticks\":\"\",\"zerolinecolor\":\"white\"},\"yaxis\":{\"backgroundcolor\":\"#E5ECF6\",\"gridcolor\":\"white\",\"gridwidth\":2,\"linecolor\":\"white\",\"showbackground\":true,\"ticks\":\"\",\"zerolinecolor\":\"white\"},\"zaxis\":{\"backgroundcolor\":\"#E5ECF6\",\"gridcolor\":\"white\",\"gridwidth\":2,\"linecolor\":\"white\",\"showbackground\":true,\"ticks\":\"\",\"zerolinecolor\":\"white\"}},\"shapedefaults\":{\"line\":{\"color\":\"#2a3f5f\"}},\"ternary\":{\"aaxis\":{\"gridcolor\":\"white\",\"linecolor\":\"white\",\"ticks\":\"\"},\"baxis\":{\"gridcolor\":\"white\",\"linecolor\":\"white\",\"ticks\":\"\"},\"bgcolor\":\"#E5ECF6\",\"caxis\":{\"gridcolor\":\"white\",\"linecolor\":\"white\",\"ticks\":\"\"}},\"title\":{\"x\":0.05},\"xaxis\":{\"automargin\":true,\"gridcolor\":\"white\",\"linecolor\":\"white\",\"ticks\":\"\",\"title\":{\"standoff\":15},\"zerolinecolor\":\"white\",\"zerolinewidth\":2},\"yaxis\":{\"automargin\":true,\"gridcolor\":\"white\",\"linecolor\":\"white\",\"ticks\":\"\",\"title\":{\"standoff\":15},\"zerolinecolor\":\"white\",\"zerolinewidth\":2}}},\"font\":{\"family\":\"Courier New, monospace\",\"color\":\"RebeccaPurple\"},\"title\":{\"text\":\"Sum of reward for each episode(averaged with each 10 episodes)\"},\"xaxis\":{\"title\":{\"text\":\"Number of episodes(averaged with each 10 episodes)\"}},\"yaxis\":{\"title\":{\"text\":\"Sum of rewards during episode\"}},\"legend\":{\"title\":{\"text\":\"Legend Title\"}}},                        {\"responsive\": true}                    ).then(function(){\n",
              "                            \n",
              "var gd = document.getElementById('d1cbcb05-bf1b-43d7-bf5c-3d412d118811');\n",
              "var x = new MutationObserver(function (mutations, observer) {{\n",
              "        var display = window.getComputedStyle(gd).display;\n",
              "        if (!display || display === 'none') {{\n",
              "            console.log([gd, 'removed!']);\n",
              "            Plotly.purge(gd);\n",
              "            observer.disconnect();\n",
              "        }}\n",
              "}});\n",
              "\n",
              "// Listen for the removal of the full notebook cells\n",
              "var notebookContainer = gd.closest('#notebook-container');\n",
              "if (notebookContainer) {{\n",
              "    x.observe(notebookContainer, {childList: true});\n",
              "}}\n",
              "\n",
              "// Listen for the clearing of the current output cell\n",
              "var outputEl = gd.closest('.output');\n",
              "if (outputEl) {{\n",
              "    x.observe(outputEl, {childList: true});\n",
              "}}\n",
              "\n",
              "                        })                };                            </script>        </div>\n",
              "</body>\n",
              "</html>"
            ]
          },
          "metadata": {}
        }
      ]
    },
    {
      "cell_type": "code",
      "source": [
        "plot_performance(rewards_w3m_sarsa, rewards_w3m_ql,size = 10000,mean_each_n = 10,acumulated = True)"
      ],
      "metadata": {
        "colab": {
          "base_uri": "https://localhost:8080/",
          "height": 542
        },
        "id": "p4TQMJIfRvHF",
        "outputId": "6127b624-ee23-4db2-c177-8bc340a53e34"
      },
      "execution_count": 50,
      "outputs": [
        {
          "output_type": "display_data",
          "data": {
            "text/html": [
              "<html>\n",
              "<head><meta charset=\"utf-8\" /></head>\n",
              "<body>\n",
              "    <div>            <script src=\"https://cdnjs.cloudflare.com/ajax/libs/mathjax/2.7.5/MathJax.js?config=TeX-AMS-MML_SVG\"></script><script type=\"text/javascript\">if (window.MathJax) {MathJax.Hub.Config({SVG: {font: \"STIX-Web\"}});}</script>                <script type=\"text/javascript\">window.PlotlyConfig = {MathJaxConfig: 'local'};</script>\n",
              "        <script src=\"https://cdn.plot.ly/plotly-2.8.3.min.js\"></script>                <div id=\"ab803c63-92ee-4de8-8668-a2dd6c1e75f4\" class=\"plotly-graph-div\" style=\"height:525px; width:100%;\"></div>            <script type=\"text/javascript\">                                    window.PLOTLYENV=window.PLOTLYENV || {};                                    if (document.getElementById(\"ab803c63-92ee-4de8-8668-a2dd6c1e75f4\")) {                    Plotly.newPlot(                        \"ab803c63-92ee-4de8-8668-a2dd6c1e75f4\",                        [{\"mode\":\"lines+markers\",\"name\":\"SARSA\",\"x\":[0,1,2,3,4,5,6,7,8,9,10,11,12,13,14,15,16,17,18,19,20,21,22,23,24,25,26,27,28,29,30,31,32,33,34,35,36,37,38,39,40,41,42,43,44,45,46,47,48,49,50,51,52,53,54,55,56,57,58,59,60,61,62,63,64,65,66,67,68,69,70,71,72,73,74,75,76,77,78,79,80,81,82,83,84,85,86,87,88,89,90,91,92,93,94,95,96,97,98,99,100,101,102,103,104,105,106,107,108,109,110,111,112,113,114,115,116,117,118,119,120,121,122,123,124,125,126,127,128,129,130,131,132,133,134,135,136,137,138,139,140,141,142,143,144,145,146,147,148,149,150,151,152,153,154,155,156,157,158,159,160,161,162,163,164,165,166,167,168,169,170,171,172,173,174,175,176,177,178,179,180,181,182,183,184,185,186,187,188,189,190,191,192,193,194,195,196,197,198,199,200,201,202,203,204,205,206,207,208,209,210,211,212,213,214,215,216,217,218,219,220,221,222,223,224,225,226,227,228,229,230,231,232,233,234,235,236,237,238,239,240,241,242,243,244,245,246,247,248,249,250,251,252,253,254,255,256,257,258,259,260,261,262,263,264,265,266,267,268,269,270,271,272,273,274,275,276,277,278,279,280,281,282,283,284,285,286,287,288,289,290,291,292,293,294,295,296,297,298,299,300,301,302,303,304,305,306,307,308,309,310,311,312,313,314,315,316,317,318,319,320,321,322,323,324,325,326,327,328,329,330,331,332,333,334,335,336,337,338,339,340,341,342,343,344,345,346,347,348,349,350,351,352,353,354,355,356,357,358,359,360,361,362,363,364,365,366,367,368,369,370,371,372,373,374,375,376,377,378,379,380,381,382,383,384,385,386,387,388,389,390,391,392,393,394,395,396,397,398,399,400,401,402,403,404,405,406,407,408,409,410,411,412,413,414,415,416,417,418,419,420,421,422,423,424,425,426,427,428,429,430,431,432,433,434,435,436,437,438,439,440,441,442,443,444,445,446,447,448,449,450,451,452,453,454,455,456,457,458,459,460,461,462,463,464,465,466,467,468,469,470,471,472,473,474,475,476,477,478,479,480,481,482,483,484,485,486,487,488,489,490,491,492,493,494,495,496,497,498,499,500,501,502,503,504,505,506,507,508,509,510,511,512,513,514,515,516,517,518,519,520,521,522,523,524,525,526,527,528,529,530,531,532,533,534,535,536,537,538,539,540,541,542,543,544,545,546,547,548,549,550,551,552,553,554,555,556,557,558,559,560,561,562,563,564,565,566,567,568,569,570,571,572,573,574,575,576,577,578,579,580,581,582,583,584,585,586,587,588,589,590,591,592,593,594,595,596,597,598,599,600,601,602,603,604,605,606,607,608,609,610,611,612,613,614,615,616,617,618,619,620,621,622,623,624,625,626,627,628,629,630,631,632,633,634,635,636,637,638,639,640,641,642,643,644,645,646,647,648,649,650,651,652,653,654,655,656,657,658,659,660,661,662,663,664,665,666,667,668,669,670,671,672,673,674,675,676,677,678,679,680,681,682,683,684,685,686,687,688,689,690,691,692,693,694,695,696,697,698,699,700,701,702,703,704,705,706,707,708,709,710,711,712,713,714,715,716,717,718,719,720,721,722,723,724,725,726,727,728,729,730,731,732,733,734,735,736,737,738,739,740,741,742,743,744,745,746,747,748,749,750,751,752,753,754,755,756,757,758,759,760,761,762,763,764,765,766,767,768,769,770,771,772,773,774,775,776,777,778,779,780,781,782,783,784,785,786,787,788,789,790,791,792,793,794,795,796,797,798,799,800,801,802,803,804,805,806,807,808,809,810,811,812,813,814,815,816,817,818,819,820,821,822,823,824,825,826,827,828,829,830,831,832,833,834,835,836,837,838,839,840,841,842,843,844,845,846,847,848,849,850,851,852,853,854,855,856,857,858,859,860,861,862,863,864,865,866,867,868,869,870,871,872,873,874,875,876,877,878,879,880,881,882,883,884,885,886,887,888,889,890,891,892,893,894,895,896,897,898,899,900,901,902,903,904,905,906,907,908,909,910,911,912,913,914,915,916,917,918,919,920,921,922,923,924,925,926,927,928,929,930,931,932,933,934,935,936,937,938,939,940,941,942,943,944,945,946,947,948,949,950,951,952,953,954,955,956,957,958,959,960,961,962,963,964,965,966,967,968,969,970,971,972,973,974,975,976,977,978,979,980,981,982,983,984,985,986,987,988,989,990,991,992,993,994,995,996,997,998,999],\"y\":[-14.430000000000001,-29.46,-43.269999999999996,-59.28999999999999,1.8446744073709546e+17,7.37869762948382e+17,1.383505805528216e+18,2.1213755684765983e+18,2.8592453314249805e+18,3.6893488147419105e+18,4.51945229805884e+18,5.165088340638674e+18,5.995191823955603e+18,6.640827866535437e+18,7.470931349852367e+18,8.301034833169296e+18,8.94667087574913e+18,9.869008079434609e+18,1.069911156275154e+19,1.1344747605331374e+19,1.2267084809016852e+19,1.282048713122814e+19,1.3466123173807974e+19,1.4296226657124905e+19,1.5034096420073288e+19,1.5864199903390218e+19,1.66020696663386e+19,1.7339939429286984e+19,1.8262276632972462e+19,1.918461383665794e+19,1.992248359960632e+19,2.0568119642186154e+19,2.1490456845871632e+19,2.232056032918856e+19,2.315066381250549e+19,2.3888533575453872e+19,2.47186370587708e+19,2.5272039380982088e+19,2.6102142864299016e+19,2.6563311466141753e+19,2.739341494945868e+19,2.8131284712407065e+19,2.8961388195723993e+19,2.979149167904092e+19,3.062159516235785e+19,3.1359464925306233e+19,3.2097334688254616e+19,3.2835204451203e+19,3.348084049378283e+19,3.4126476536362664e+19,3.4956580019679592e+19,3.587891722336507e+19,3.6709020706682e+19,3.717018930852474e+19,3.772359163073602e+19,3.827699395294731e+19,3.9107097436264235e+19,3.984496719921262e+19,4.067507068252955e+19,4.159740788621502e+19,4.224304392879486e+19,4.298091369174324e+19,4.371878345469162e+19,4.454888693800855e+19,4.537899042132548e+19,4.620909390464241e+19,4.694696366759079e+19,4.777706715090772e+19,4.842270319348756e+19,4.897610551569884e+19,4.971397527864722e+19,5.0451845041595605e+19,5.118971480454399e+19,5.192758456749237e+19,5.27576880508093e+19,5.368002525449477e+19,5.45101287378117e+19,5.5247998500760084e+19,5.607810198407701e+19,5.690820546739394e+19,5.773830895071087e+19,5.847617871365925e+19,5.939851591734473e+19,6.03208531210302e+19,6.115095660434713e+19,6.179659264692697e+19,6.2626696130243895e+19,6.354903333392937e+19,6.43791368172463e+19,6.520924030056323e+19,6.6039343783880155e+19,6.668497982645999e+19,6.7422849589408375e+19,6.816071935235676e+19,6.8806355394936594e+19,6.963645887825352e+19,7.046656236157045e+19,7.1388899565255926e+19,7.2219003048572854e+19,7.304910653188978e+19,7.397144373557527e+19,7.470931349852365e+19,7.535494954110348e+19,7.600058558368332e+19,7.683068906700025e+19,7.756855882994863e+19,7.839866231326556e+19,7.913653207621394e+19,7.996663555953087e+19,8.088897276321635e+19,8.162684252616473e+19,8.227247856874457e+19,8.29181146113244e+19,8.356375065390424e+19,8.420938669648408e+19,8.5039490179801e+19,8.586959366311793e+19,8.660746342606632e+19,8.725309946864615e+19,8.817543667233163e+19,8.900554015564856e+19,8.983564363896549e+19,9.066574712228241e+19,9.14036168852308e+19,9.223372036854773e+19,9.306382385186465e+19,9.389392733518158e+19,9.481626453886706e+19,9.564636802218399e+19,9.629200406476382e+19,9.70298738277122e+19,9.785997731102913e+19,9.832114591287188e+19,9.924348311655735e+19,1.0007358659987428e+20,1.0099592380355976e+20,1.0182602728687668e+20,1.0265613077019361e+20,1.0348623425351054e+20,1.0440857145719602e+20,1.0523867494051294e+20,1.0569984354235569e+20,1.0652994702567262e+20,1.07267816788621e+20,1.0809792027193793e+20,1.0892802375525486e+20,1.0985036095894033e+20,1.1058823072188871e+20,1.1123386676446855e+20,1.1215620396815403e+20,1.1298630745147095e+20,1.1390864465515643e+20,1.1464651441810481e+20,1.1556885162179029e+20,1.1649118882547576e+20,1.1732129230879269e+20,1.1815139579210962e+20,1.1879703183468945e+20,1.1953490159763784e+20,1.2036500508095477e+20,1.211951085642717e+20,1.2202521204758862e+20,1.229475492512741e+20,1.2386988645495957e+20,1.2460775621790795e+20,1.2525339226048779e+20,1.2608349574380472e+20,1.268213655067531e+20,1.2774370271043858e+20,1.285738061937555e+20,1.2949614339744098e+20,1.3014177944002082e+20,1.308796492029692e+20,1.3180198640665467e+20,1.326320898899716e+20,1.3336995965291998e+20,1.3420006313623691e+20,1.3503016661955384e+20,1.3567580266213368e+20,1.3641367242508206e+20,1.3724377590839899e+20,1.3761271078987317e+20,1.3816611311208446e+20,1.388117491546643e+20,1.3954961891761268e+20,1.4001078751945543e+20,1.4074865728240381e+20,1.4139429332498365e+20,1.4222439680830058e+20,1.430545002916175e+20,1.4388460377493443e+20,1.4462247353788282e+20,1.4545257702119975e+20,1.4609821306377958e+20,1.4674384910635942e+20,1.476661863100449e+20,1.4840405607299328e+20,1.4914192583594164e+20,1.4978756187852148e+20,1.506176653618384e+20,1.5144776884515534e+20,1.5237010604884083e+20,1.5320020953215776e+20,1.5393807929510612e+20,1.5476818277842305e+20,1.5559828626173998e+20,1.564283897450569e+20,1.5716625950800527e+20,1.579963629913222e+20,1.5873423275427057e+20,1.5965656995795606e+20,1.6039443972090443e+20,1.611323094838528e+20,1.6187017924680116e+20,1.627002827301181e+20,1.6343815249306645e+20,1.6426825597638338e+20,1.650983594597003e+20,1.660206966633858e+20,1.6675856642633417e+20,1.675886699096511e+20,1.6832653967259946e+20,1.6924887687628495e+20,1.6998674663923332e+20,1.7081685012255025e+20,1.7164695360586718e+20,1.724770570891841e+20,1.7321492685213247e+20,1.740450303354494e+20,1.7487513381876633e+20,1.7579747102245182e+20,1.765353407854002e+20,1.773654442687171e+20,1.7810331403166548e+20,1.7902565123535097e+20,1.798557547186679e+20,1.8040915704087917e+20,1.81054793083459e+20,1.8188489656677594e+20,1.8271500005009287e+20,1.8363733725377836e+20,1.844674407370953e+20,1.8520531050004365e+20,1.856664791018864e+20,1.8649658258520333e+20,1.872344523481517e+20,1.881567895518372e+20,1.8907912675552267e+20,1.899092302388396e+20,1.9064710000178797e+20,1.914772034851049e+20,1.923995406887904e+20,1.9322964417210732e+20,1.941519813757928e+20,1.9498208485910974e+20,1.9562772090168957e+20,1.964578243850065e+20,1.9719569414795487e+20,1.980257976312718e+20,1.9885590111458873e+20,1.9968600459790565e+20,2.0051610808122258e+20,2.0125397784417095e+20,2.019918476071193e+20,2.0282195109043624e+20,2.0365205457375317e+20,2.0411322317559592e+20,2.048510929385443e+20,2.0558896270149265e+20,2.0651129990517814e+20,2.069724685070209e+20,2.0771033826996925e+20,2.0844820803291762e+20,2.0909384407549746e+20,2.099239475588144e+20,2.1066181732176275e+20,2.1121521964397403e+20,2.1167638824581677e+20,2.123220242883966e+20,2.1296766033097644e+20,2.1388999753466194e+20,2.146278672976103e+20,2.155502045012958e+20,2.1619584054387563e+20,2.16933710306824e+20,2.1757934634940383e+20,2.183172161123522e+20,2.192395533160377e+20,2.1988518935861753e+20,2.2071529284193445e+20,2.2145316260488282e+20,2.221910323678312e+20,2.230211358511481e+20,2.2385123933446504e+20,2.2468134281778197e+20,2.2541921258073034e+20,2.2624931606404727e+20,2.2717165326773276e+20,2.280017567510497e+20,2.2892409395473518e+20,2.2984643115842067e+20,2.3076876836210616e+20,2.315988718454231e+20,2.3242897532874e+20,2.3325907881205694e+20,2.3408918229537387e+20,2.3501151949905936e+20,2.358416229823763e+20,2.3676396018606178e+20,2.3750182994901015e+20,2.382396997119585e+20,2.3897756947490688e+20,2.3943873807674963e+20,2.4036107528043512e+20,2.4119117876375205e+20,2.419290485267004e+20,2.4239021712854316e+20,2.4331255433222865e+20,2.4386595665443992e+20,2.447882938581254e+20,2.453416961803367e+20,2.4617179966365362e+20,2.46909669426602e+20,2.4764753918955035e+20,2.4847764267286728e+20,2.4939997987655277e+20,2.5013784963950114e+20,2.5096795312281806e+20,2.5152135544502934e+20,2.520747577672406e+20,2.5281262753018898e+20,2.5373496473387447e+20,2.543806007764543e+20,2.5502623681903414e+20,2.5567187286161398e+20,2.5613304146345673e+20,2.568709112264051e+20,2.5751654726898493e+20,2.5834665075230186e+20,2.5908452051525023e+20,2.598223902781986e+20,2.6046802632077843e+20,2.6139036352446392e+20,2.623127007281494e+20,2.632350379318349e+20,2.6406514141515183e+20,2.6471077745773167e+20,2.6544864722068003e+20,2.6627875070399696e+20,2.671088541873139e+20,2.6793895767063082e+20,2.6876906115394775e+20,2.6941469719652758e+20,2.7033703440021307e+20,2.7116713788353e+20,2.7190500764647837e+20,2.7264287740942674e+20,2.733807471723751e+20,2.743030843760606e+20,2.7522542157974608e+20,2.76055525063063e+20,2.7679339482601138e+20,2.776234983093283e+20,2.7845360179264523e+20,2.7928370527596216e+20,2.801138087592791e+20,2.8094391224259602e+20,2.8177401572591295e+20,2.8214295060738713e+20,2.8278858664996697e+20,2.8352645641291534e+20,2.842643261758637e+20,2.8490996221844354e+20,2.8555559826102338e+20,2.863857017443403e+20,2.8721580522765723e+20,2.8813814243134272e+20,2.890604796350282e+20,2.896138819572395e+20,2.9053621916092498e+20,2.9127408892387335e+20,2.9191972496645318e+20,2.9256536100903302e+20,2.9339546449234995e+20,2.9394886681456122e+20,2.948712040182467e+20,2.957935412219322e+20,2.9662364470524917e+20,2.974537481885661e+20,2.983760853922516e+20,2.991139551552e+20,2.9994405863851694e+20,3.0086639584220244e+20,3.017887330458879e+20,3.0243436908846776e+20,3.032644725717847e+20,3.040023423347331e+20,3.0483244581805005e+20,3.054780818606299e+20,3.0621595162357826e+20,3.069538213865266e+20,3.078761585902121e+20,3.087984957938976e+20,3.0944413183647744e+20,3.101820015994258e+20,3.111043388031113e+20,3.1184220856605966e+20,3.1276454576974515e+20,3.135946492530621e+20,3.144247527363791e+20,3.1516262249932744e+20,3.1608495970301293e+20,3.168228294659613e+20,3.1765293294927826e+20,3.184830364325952e+20,3.193131399159122e+20,3.2005100967886055e+20,3.2097334688254604e+20,3.216189829251259e+20,3.222646189677057e+20,3.22818021289917e+20,3.235558910528654e+20,3.2438599453618235e+20,3.2530833173986784e+20,3.261384352231848e+20,3.270607724268703e+20,3.276141747490816e+20,3.2844427823239856e+20,3.291821479953469e+20,3.300122514786639e+20,3.3084235496198085e+20,3.3176469216566634e+20,3.325947956489833e+20,3.335171328526688e+20,3.3425500261561716e+20,3.350851060989341e+20,3.360074433026196e+20,3.368375467859366e+20,3.3757541654888494e+20,3.3812881887109625e+20,3.3905115607478174e+20,3.398812595580987e+20,3.4071136304141566e+20,3.41449232804364e+20,3.42279336287681e+20,3.432016734913665e+20,3.4393954325431484e+20,3.447696467376318e+20,3.4541528278021164e+20,3.4587645138205435e+20,3.466143211450027e+20,3.473521909079511e+20,3.4809006067089945e+20,3.488279304338478e+20,3.496580339171648e+20,3.5039590368011315e+20,3.5131824088379864e+20,3.521483443671156e+20,3.5288621413006397e+20,3.5380855133374946e+20,3.546386548170664e+20,3.553765245800148e+20,3.5611439434296315e+20,3.568522641059115e+20,3.5749790014849135e+20,3.583280036318083e+20,3.592503408354938e+20,3.601726780391793e+20,3.610950152428648e+20,3.620173524465503e+20,3.626629884891301e+20,3.634930919724471e+20,3.637697931335527e+20,3.6423096173539544e+20,3.6478436405760675e+20,3.6570670126129224e+20,3.666290384649777e+20,3.672746745075576e+20,3.6819701171124306e+20,3.689348814741914e+20,3.6958051751677126e+20,3.702261535593511e+20,3.7096402332229947e+20,3.717941268056164e+20,3.7243976284819626e+20,3.730853988907761e+20,3.740077360944616e+20,3.7474560585740996e+20,3.755757093407269e+20,3.7622134538330676e+20,3.769592151462551e+20,3.7760485118883496e+20,3.783427209517833e+20,3.792650581554688e+20,3.801873953591543e+20,3.8083303140173414e+20,3.815709011646825e+20,3.824010046479995e+20,3.8332334185168496e+20,3.8424567905537045e+20,3.850757825386874e+20,3.858136523016358e+20,3.867359895053213e+20,3.8747385926826964e+20,3.883039627515866e+20,3.8913406623490356e+20,3.899641697182205e+20,3.907020394811689e+20,3.916243766848544e+20,3.925467138885399e+20,3.9328458365148824e+20,3.942069208551737e+20,3.951292580588592e+20,3.958671278218076e+20,3.967894650254931e+20,3.9752733478844144e+20,3.981729708310213e+20,3.9900307431433824e+20,3.999254115180237e+20,4.007555150013407e+20,4.0149338476428906e+20,4.02323488247606e+20,4.032458254512915e+20,4.04168162654977e+20,4.050904998586625e+20,4.057361359012423e+20,4.065662393845593e+20,4.072118754271391e+20,4.079497451900875e+20,4.0868761495303586e+20,4.095177184363528e+20,4.104400556400383e+20,4.1108569168261815e+20,4.119157951659351e+20,4.128381323696206e+20,4.1348376841220044e+20,4.141294044547803e+20,4.1486727421772864e+20,4.15605143980677e+20,4.163430137436254e+20,4.1708088350657374e+20,4.1754205210841645e+20,4.183721555917334e+20,4.192944927954189e+20,4.198478951176302e+20,4.207702323213157e+20,4.2160033580463266e+20,4.22338205567581e+20,4.2298384161016087e+20,4.238139450934778e+20,4.2445958113605766e+20,4.25197450899006e+20,4.26027554382323e+20,4.2676542414527136e+20,4.275955276285883e+20,4.283333973915367e+20,4.2916350087485365e+20,4.29901370637802e+20,4.30731474121119e+20,4.3146934388406734e+20,4.322994473673843e+20,4.330373171303327e+20,4.338674206136496e+20,4.3451305665622947e+20,4.353431601395464e+20,4.361732636228634e+20,4.368188996654432e+20,4.376490031487602e+20,4.3838687291170855e+20,4.391247426746569e+20,4.399548461579739e+20,4.408771833616594e+20,4.4161505312460774e+20,4.424451566079247e+20,4.4309079265050454e+20,4.4364419497271584e+20,4.4419759729492715e+20,4.450277007782441e+20,4.4567333682082395e+20,4.4659567402450944e+20,4.475180112281949e+20,4.484403484318804e+20,4.492704519151974e+20,4.5010055539851434e+20,4.5102289260219983e+20,4.516685286447797e+20,4.5240639840772804e+20,4.530520344503079e+20,4.536976704928877e+20,4.545277739762047e+20,4.5526564373915304e+20,4.5609574722247e+20,4.5674138326504984e+20,4.576637204687353e+20,4.585860576724208e+20,4.5923169371500066e+20,4.598773297575805e+20,4.604307320797918e+20,4.6126083556310876e+20,4.619987053260571e+20,4.628288088093741e+20,4.6356667857232246e+20,4.643967820556394e+20,4.653191192593249e+20,4.6596475530190474e+20,4.6651815762411605e+20,4.67348261107433e+20,4.6817836459075e+20,4.6891623435369834e+20,4.695618703962782e+20,4.704842075999637e+20,4.7140654480364916e+20,4.722366482869661e+20,4.7288228432954596e+20,4.736201540924943e+20,4.743580238554427e+20,4.7518812733875965e+20,4.760182308220766e+20,4.769405680257621e+20,4.7777067150907906e+20,4.783240738312904e+20,4.7924641103497586e+20,4.798920470775557e+20,4.8072215056087266e+20,4.81460020323821e+20,4.82290123807138e+20,4.8312022729045495e+20,4.838580970534033e+20,4.846882005367203e+20,4.853338365793001e+20,4.858872389015114e+20,4.868095761051969e+20,4.875474458681453e+20,4.881930819107251e+20,4.8883871795330495e+20,4.895765877162533e+20,4.9022222375883316e+20,4.910523272421501e+20,4.917901970050985e+20,4.9262030048841544e+20,4.9354263769210094e+20,4.944649748957864e+20,4.952950783791034e+20,4.9603294814205175e+20,4.966785841846316e+20,4.9750868766794855e+20,4.983387911512655e+20,4.991688946345825e+20,5.0009123183826797e+20,5.009213353215849e+20,5.018436725252704e+20,5.025815422882188e+20,5.032271783307986e+20,5.041495155344841e+20,5.049796190178011e+20,5.056252550603809e+20,5.0627089110296075e+20,5.0719322830664624e+20,5.078388643492261e+20,5.084845003918059e+20,5.092223701547543e+20,5.0996023991770264e+20,5.10698109680651e+20,5.112515120028623e+20,5.121738492065478e+20,5.129117189694962e+20,5.13557355012076e+20,5.141107573342873e+20,5.1475639337686716e+20,5.1512532825834134e+20,5.160476654620268e+20,5.168777689453438e+20,5.1770787242866075e+20,5.184457421916091e+20,5.192758456749261e+20,5.198292479971374e+20,5.2056711776008575e+20,5.2148945496377124e+20,5.223195584470882e+20,5.2314966193040517e+20,5.239797654137221e+20,5.247176351766705e+20,5.25639972380356e+20,5.261933747025673e+20,5.271157119062528e+20,5.2785358166920115e+20,5.2840698399141246e+20,5.291448537543608e+20,5.296982560765721e+20,5.304361258395205e+20,5.31358463043206e+20,5.320040990857858e+20,5.327419688487342e+20,5.3357207233205115e+20,5.343099420949995e+20,5.35232279298685e+20,5.3587791534126485e+20,5.365235513838447e+20,5.374458885875302e+20,5.3818375835047854e+20,5.390138618337955e+20,5.39936199037481e+20,5.4076630252079795e+20,5.415041722837463e+20,5.424265094874318e+20,5.4307214553001165e+20,5.437177815725915e+20,5.4445565133553985e+20,5.451935210984882e+20,5.461158583021737e+20,5.468537280651221e+20,5.4759159782807044e+20,5.4814500015028175e+20,5.4906733735396724e+20,5.498974408372842e+20,5.5072754432060116e+20,5.515576478039181e+20,5.522955175668665e+20,5.5303338732981486e+20,5.537712570927632e+20,5.546013605760802e+20,5.555236977797657e+20,5.5635380126308264e+20,5.57091671026031e+20,5.5792177450934796e+20,5.584751768315593e+20,5.5921304659450764e+20,5.5976644891671894e+20,5.605043186796673e+20,5.613344221629843e+20,5.6207229192593264e+20,5.62810161688881e+20,5.635480314518294e+20,5.6447036865551486e+20,5.653004721388318e+20,5.660383419017802e+20,5.6677621166472856e+20,5.674218477073084e+20,5.6815971747025676e+20,5.688975872332051e+20,5.697276907165221e+20,5.706500279202076e+20,5.715723651238931e+20,5.7240246860721e+20,5.733248058108955e+20,5.741549092942125e+20,5.7498501277752944e+20,5.757228825404778e+20,5.764607523034262e+20,5.7719862206637454e+20,5.780287255496915e+20,5.7885882903300846e+20,5.795966987959568e+20,5.804268022792738e+20,5.8125690576259075e+20,5.819025418051706e+20,5.8273264528848755e+20,5.834705150514359e+20,5.842083848143843e+20,5.8494625457733265e+20,5.8540742317917536e+20,5.861452929421237e+20,5.869753964254407e+20,5.8780549990875765e+20,5.886356033920746e+20,5.894657068753916e+20,5.90388044079077e+20,5.911259138420254e+20,5.918637836049737e+20,5.927861208086592e+20,5.935239905716075e+20,5.940773928938188e+20,5.947230289363986e+20,5.955531324197156e+20,5.961987684622953e+20,5.969366382252437e+20,5.977667417085607e+20,5.986890789122461e+20,5.991502475140888e+20,6.000725847177742e+20,6.00718220760354e+20,6.016405579640394e+20,6.023784277269878e+20,6.030240637695676e+20,6.03946400973253e+20,6.046842707362014e+20,6.055143742195183e+20,6.062522439824667e+20,6.070823474657836e+20,6.079124509491006e+20,6.08834788152786e+20,6.095726579157344e+20,6.104027613990514e+20,6.111406311619997e+20,6.119707346453167e+20,6.128930718490021e+20,6.138154090526875e+20,6.14737746256373e+20,6.152911485785843e+20,6.15936784621164e+20,6.16766888104481e+20,6.176892253081664e+20,6.185193287914834e+20,6.193494322748003e+20,6.199950683173801e+20,6.205484706395914e+20,6.214708078432768e+20,6.223009113265938e+20,6.229465473691736e+20,6.235921834117534e+20,6.243300531747017e+20,6.249756892172815e+20,6.256213252598613e+20,6.263591950228096e+20,6.271892985061266e+20,6.27927168269075e+20,6.286650380320233e+20,6.295873752357087e+20,6.303252449986571e+20,6.310631147616055e+20,6.318009845245538e+20,6.326310880078708e+20,6.332767240504506e+20,6.341068275337675e+20,6.347524635763473e+20,6.353058658985586e+20,6.36043735661507e+20,6.366893717040868e+20,6.373350077466665e+20,6.380728775096149e+20,6.389029809929319e+20,6.396408507558802e+20,6.4028648679846e+20,6.408398891206713e+20,6.414855251632511e+20,6.422233949261994e+20,6.429612646891478e+20,6.438836018928332e+20,6.44529237935413e+20,6.4535934141873e+20,6.460049774613097e+20,6.467428472242581e+20,6.47572950707575e+20,6.48403054190892e+20,6.493253913945774e+20,6.500632611575258e+20,6.507088972001056e+20,6.515390006834225e+20,6.522768704463709e+20,6.531992076500563e+20,6.540293111333733e+20,6.549516483370587e+20,6.556895181000071e+20,6.56519621583324e+20,6.572574913462724e+20,6.579953611092208e+20,6.588254645925377e+20,6.596555680758547e+20,6.604856715591717e+20,6.6122354132212e+20,6.618691773646998e+20,6.624225796869111e+20,6.631604494498595e+20,6.639905529331764e+20,6.649128901368619e+20,6.657429936201788e+20,6.663886296627586e+20,6.672187331460756e+20,6.68141070349761e+20,6.686944726719723e+20,6.694323424349207e+20,6.702624459182376e+20,6.71184783121923e+20,6.7201488660524e+20,6.72844990088557e+20,6.733983924107683e+20,6.742284958940852e+20,6.750585993774022e+20,6.758887028607192e+20,6.767188063440361e+20,6.774566761069845e+20,6.782867795903015e+20,6.792091167939869e+20,6.800392202773038e+20,6.808693237606208e+20,6.816071935235692e+20,6.825295307272546e+20,6.833596342105716e+20,6.841897376938885e+20,6.849276074568369e+20,6.858499446605223e+20,6.865878144234707e+20,6.875101516271561e+20,6.88340255110473e+20,6.892625923141585e+20,6.900926957974754e+20,6.909227992807924e+20,6.918451364844778e+20,6.924907725270576e+20,6.93228642290006e+20,6.938742783325857e+20,6.947043818159027e+20,6.955344852992197e+20,6.964568225029051e+20,6.973791597065905e+20,6.980247957491703e+20,6.989471329528557e+20,6.996850027158041e+20,7.006073399194895e+20,7.014374434028065e+20,7.023597806064919e+20,7.030976503694403e+20,7.040199875731257e+20,7.046656236157054e+20,7.054034933786538e+20,7.063258305823392e+20,7.071559340656562e+20,7.079860375489732e+20,7.088161410322901e+20,7.096462445156071e+20,7.103841142785555e+20,7.111219840415038e+20,7.120443212451892e+20,7.129666584488747e+20,7.13704528211823e+20,7.1453463169514e+20,7.15364735178457e+20,7.160103712210367e+20,7.166560072636165e+20,7.173938770265649e+20,7.180395130691446e+20,7.18777382832093e+20,7.1960748631541e+20,7.204375897987269e+20,7.208987584005696e+20,7.21452160722781e+20,7.220977967653607e+20,7.229279002486777e+20,7.235735362912575e+20,7.243114060542058e+20,7.248648083764171e+20,7.256949118597341e+20,7.264327816226825e+20,7.272628851059994e+20,7.279085211485792e+20,7.287386246318961e+20,7.294764943948445e+20,7.301221304374243e+20,7.310444676411097e+20,7.318745711244267e+20,7.327969083281121e+20,7.334425443706919e+20,7.343648815743773e+20,7.351027513373257e+20,7.360250885410111e+20,7.36855192024328e+20,7.375930617872764e+20,7.384231652705934e+20,7.393455024742788e+20,7.400833722372272e+20,7.409134757205441e+20,7.414668780427554e+20,7.422969815260724e+20,7.429426175686522e+20,7.437727210519691e+20,7.446028245352861e+20,7.452484605778659e+20,7.458940966204456e+20,7.46631966383394e+20,7.47462069866711e+20,7.482921733500279e+20,7.491222768333449e+20,7.499523803166618e+20,7.505057826388731e+20,7.514281198425586e+20,7.52165989605507e+20,7.525349244869812e+20,7.53180560529561e+20,7.540106640128779e+20,7.548407674961949e+20,7.556708709795118e+20,7.564087407424602e+20,7.572388442257772e+20,7.579767139887255e+20,7.586223500313053e+20,7.591757523535166e+20,7.600058558368336e+20,7.606514918794134e+20,7.613893616423617e+20,7.623116988460471e+20,7.631418023293641e+20,7.63971905812681e+20,7.645253081348924e+20,7.650787104571037e+20,7.659088139404206e+20,7.665544499830004e+20,7.673845534663174e+20,7.682146569496343e+20,7.689525267125827e+20,7.698748639162681e+20],\"type\":\"scatter\"},{\"mode\":\"lines+markers\",\"name\":\"Q-Learning\",\"x\":[0,1,2,3,4,5,6,7,8,9,10,11,12,13,14,15,16,17,18,19,20,21,22,23,24,25,26,27,28,29,30,31,32,33,34,35,36,37,38,39,40,41,42,43,44,45,46,47,48,49,50,51,52,53,54,55,56,57,58,59,60,61,62,63,64,65,66,67,68,69,70,71,72,73,74,75,76,77,78,79,80,81,82,83,84,85,86,87,88,89,90,91,92,93,94,95,96,97,98,99,100,101,102,103,104,105,106,107,108,109,110,111,112,113,114,115,116,117,118,119,120,121,122,123,124,125,126,127,128,129,130,131,132,133,134,135,136,137,138,139,140,141,142,143,144,145,146,147,148,149,150,151,152,153,154,155,156,157,158,159,160,161,162,163,164,165,166,167,168,169,170,171,172,173,174,175,176,177,178,179,180,181,182,183,184,185,186,187,188,189,190,191,192,193,194,195,196,197,198,199,200,201,202,203,204,205,206,207,208,209,210,211,212,213,214,215,216,217,218,219,220,221,222,223,224,225,226,227,228,229,230,231,232,233,234,235,236,237,238,239,240,241,242,243,244,245,246,247,248,249,250,251,252,253,254,255,256,257,258,259,260,261,262,263,264,265,266,267,268,269,270,271,272,273,274,275,276,277,278,279,280,281,282,283,284,285,286,287,288,289,290,291,292,293,294,295,296,297,298,299,300,301,302,303,304,305,306,307,308,309,310,311,312,313,314,315,316,317,318,319,320,321,322,323,324,325,326,327,328,329,330,331,332,333,334,335,336,337,338,339,340,341,342,343,344,345,346,347,348,349,350,351,352,353,354,355,356,357,358,359,360,361,362,363,364,365,366,367,368,369,370,371,372,373,374,375,376,377,378,379,380,381,382,383,384,385,386,387,388,389,390,391,392,393,394,395,396,397,398,399,400,401,402,403,404,405,406,407,408,409,410,411,412,413,414,415,416,417,418,419,420,421,422,423,424,425,426,427,428,429,430,431,432,433,434,435,436,437,438,439,440,441,442,443,444,445,446,447,448,449,450,451,452,453,454,455,456,457,458,459,460,461,462,463,464,465,466,467,468,469,470,471,472,473,474,475,476,477,478,479,480,481,482,483,484,485,486,487,488,489,490,491,492,493,494,495,496,497,498,499,500,501,502,503,504,505,506,507,508,509,510,511,512,513,514,515,516,517,518,519,520,521,522,523,524,525,526,527,528,529,530,531,532,533,534,535,536,537,538,539,540,541,542,543,544,545,546,547,548,549,550,551,552,553,554,555,556,557,558,559,560,561,562,563,564,565,566,567,568,569,570,571,572,573,574,575,576,577,578,579,580,581,582,583,584,585,586,587,588,589,590,591,592,593,594,595,596,597,598,599,600,601,602,603,604,605,606,607,608,609,610,611,612,613,614,615,616,617,618,619,620,621,622,623,624,625,626,627,628,629,630,631,632,633,634,635,636,637,638,639,640,641,642,643,644,645,646,647,648,649,650,651,652,653,654,655,656,657,658,659,660,661,662,663,664,665,666,667,668,669,670,671,672,673,674,675,676,677,678,679,680,681,682,683,684,685,686,687,688,689,690,691,692,693,694,695,696,697,698,699,700,701,702,703,704,705,706,707,708,709,710,711,712,713,714,715,716,717,718,719,720,721,722,723,724,725,726,727,728,729,730,731,732,733,734,735,736,737,738,739,740,741,742,743,744,745,746,747,748,749,750,751,752,753,754,755,756,757,758,759,760,761,762,763,764,765,766,767,768,769,770,771,772,773,774,775,776,777,778,779,780,781,782,783,784,785,786,787,788,789,790,791,792,793,794,795,796,797,798,799,800,801,802,803,804,805,806,807,808,809,810,811,812,813,814,815,816,817,818,819,820,821,822,823,824,825,826,827,828,829,830,831,832,833,834,835,836,837,838,839,840,841,842,843,844,845,846,847,848,849,850,851,852,853,854,855,856,857,858,859,860,861,862,863,864,865,866,867,868,869,870,871,872,873,874,875,876,877,878,879,880,881,882,883,884,885,886,887,888,889,890,891,892,893,894,895,896,897,898,899,900,901,902,903,904,905,906,907,908,909,910,911,912,913,914,915,916,917,918,919,920,921,922,923,924,925,926,927,928,929,930,931,932,933,934,935,936,937,938,939,940,941,942,943,944,945,946,947,948,949,950,951,952,953,954,955,956,957,958,959,960,961,962,963,964,965,966,967,968,969,970,971,972,973,974,975,976,977,978,979,980,981,982,983,984,985,986,987,988,989,990,991,992,993,994,995,996,997,998,999],\"y\":[-1.443,-2.946,-4.327,-5.929,1.8446744073709548e+16,7.37869762948382e+16,1.3835058055282163e+17,2.1213755684765984e+17,2.8592453314249805e+17,3.6893488147419104e+17,4.51945229805884e+17,5.1650883406386746e+17,5.995191823955604e+17,6.64082786653544e+17,7.470931349852369e+17,8.301034833169298e+17,8.946670875749133e+17,9.86900807943461e+17,1.0699111562751539e+18,1.1344747605331374e+18,1.2267084809016852e+18,1.282048713122814e+18,1.3466123173807974e+18,1.4296226657124905e+18,1.5034096420073288e+18,1.5864199903390218e+18,1.66020696663386e+18,1.7339939429286984e+18,1.8262276632972462e+18,1.918461383665794e+18,1.9922483599606323e+18,2.0568119642186158e+18,2.1490456845871636e+18,2.2320560329188567e+18,2.31506638125055e+18,2.388853357545388e+18,2.471863705877081e+18,2.52720393809821e+18,2.610214286429903e+18,2.656331146614177e+18,2.73934149494587e+18,2.813128471240708e+18,2.896138819572401e+18,2.979149167904094e+18,3.0621595162357873e+18,3.1359464925306255e+18,3.209733468825464e+18,3.283520445120302e+18,3.3480840493782856e+18,3.412647653636269e+18,3.495658001967962e+18,3.58789172233651e+18,3.670902070668203e+18,3.717018930852477e+18,3.7723591630736056e+18,3.8276993952947343e+18,3.9107097436264274e+18,3.9844967199212657e+18,4.0675070682529587e+18,4.1597407886215066e+18,4.22430439287949e+18,4.2980913691743283e+18,4.3718783454691666e+18,4.4548886938008596e+18,4.5378990421325527e+18,4.620909390464246e+18,4.694696366759084e+18,4.777706715090777e+18,4.842270319348761e+18,4.897610551569889e+18,4.971397527864728e+18,5.045184504159566e+18,5.118971480454404e+18,5.192758456749242e+18,5.275768805080935e+18,5.368002525449483e+18,5.451012873781176e+18,5.524799850076015e+18,5.607810198407708e+18,5.690820546739401e+18,5.773830895071094e+18,5.847617871365932e+18,5.93985159173448e+18,6.032085312103028e+18,6.115095660434721e+18,6.179659264692704e+18,6.262669613024397e+18,6.354903333392945e+18,6.437913681724638e+18,6.520924030056331e+18,6.603934378388024e+18,6.668497982646008e+18,6.742284958940846e+18,6.816071935235684e+18,6.880635539493668e+18,6.963645887825361e+18,7.046656236157054e+18,7.138889956525602e+18,7.221900304857295e+18,7.304910653188988e+18,7.397144373557536e+18,7.470931349852374e+18,7.535494954110358e+18,7.600058558368341e+18,7.683068906700034e+18,7.756855882994872e+18,7.839866231326565e+18,7.913653207621404e+18,7.996663555953097e+18,8.088897276321645e+18,8.162684252616483e+18,8.227247856874466e+18,8.29181146113245e+18,8.356375065390433e+18,8.420938669648417e+18,8.50394901798011e+18,8.586959366311803e+18,8.660746342606641e+18,8.725309946864625e+18,8.817543667233172e+18,8.900554015564866e+18,8.983564363896559e+18,9.066574712228252e+18,9.14036168852309e+18,9.223372036854782e+18,9.306382385186474e+18,9.389392733518166e+18,9.481626453886714e+18,9.564636802218406e+18,9.629200406476388e+18,9.702987382771227e+18,9.785997731102919e+18,9.832114591287192e+18,9.92434831165574e+18,1.0007358659987431e+19,1.009959238035598e+19,1.0182602728687671e+19,1.0265613077019363e+19,1.0348623425351055e+19,1.0440857145719603e+19,1.0523867494051295e+19,1.0569984354235568e+19,1.065299470256726e+19,1.0726781678862098e+19,1.080979202719379e+19,1.0892802375525482e+19,1.098503609589403e+19,1.1058823072188869e+19,1.1123386676446851e+19,1.1215620396815399e+19,1.129863074514709e+19,1.1390864465515639e+19,1.1464651441810477e+19,1.1556885162179025e+19,1.1649118882547573e+19,1.1732129230879265e+19,1.1815139579210957e+19,1.187970318346894e+19,1.1953490159763778e+19,1.203650050809547e+19,1.2119510856427162e+19,1.2202521204758854e+19,1.2294754925127401e+19,1.238698864549595e+19,1.2460775621790788e+19,1.252533922604877e+19,1.2608349574380462e+19,1.26821365506753e+19,1.2774370271043848e+19,1.285738061937554e+19,1.2949614339744088e+19,1.301417794400207e+19,1.3087964920296909e+19,1.3180198640665457e+19,1.3263208988997149e+19,1.3336995965291987e+19,1.342000631362368e+19,1.350301666195537e+19,1.3567580266213353e+19,1.3641367242508192e+19,1.3724377590839884e+19,1.3761271078987303e+19,1.3816611311208432e+19,1.3881174915466414e+19,1.3954961891761252e+19,1.4001078751945525e+19,1.4074865728240364e+19,1.4139429332498346e+19,1.4222439680830038e+19,1.430545002916173e+19,1.4388460377493422e+19,1.446224735378826e+19,1.4545257702119952e+19,1.4609821306377935e+19,1.4674384910635917e+19,1.4766618631004465e+19,1.4840405607299303e+19,1.4914192583594142e+19,1.4978756187852124e+19,1.5061766536183816e+19,1.5144776884515508e+19,1.5237010604884056e+19,1.5320020953215748e+19,1.5393807929510586e+19,1.5476818277842278e+19,1.555982862617397e+19,1.5642838974505662e+19,1.57166259508005e+19,1.5799636299132193e+19,1.5873423275427031e+19,1.5965656995795579e+19,1.6039443972090417e+19,1.6113230948385255e+19,1.6187017924680094e+19,1.6270028273011786e+19,1.6343815249306624e+19,1.6426825597638316e+19,1.6509835945970008e+19,1.6602069666338556e+19,1.6675856642633394e+19,1.6758866990965086e+19,1.6832653967259924e+19,1.6924887687628472e+19,1.699867466392331e+19,1.7081685012255003e+19,1.7164695360586695e+19,1.7247705708918387e+19,1.7321492685213225e+19,1.7404503033544917e+19,1.748751338187661e+19,1.7579747102245157e+19,1.7653534078539995e+19,1.7736544426871687e+19,1.7810331403166525e+19,1.7902565123535073e+19,1.7985575471866765e+19,1.8040915704087894e+19,1.8105479308345876e+19,1.8188489656677569e+19,1.827150000500926e+19,1.8363733725377808e+19,1.84467440737095e+19,1.8520531050004337e+19,1.856664791018861e+19,1.86496582585203e+19,1.872344523481514e+19,1.8815678955183686e+19,1.890791267555223e+19,1.8990923023883923e+19,1.906471000017876e+19,1.9147720348510454e+19,1.9239954068879e+19,1.932296441721069e+19,1.9415198137579237e+19,1.949820848591093e+19,1.9562772090168914e+19,1.9645782438500606e+19,1.9719569414795444e+19,1.9802579763127136e+19,1.988559011145883e+19,1.996860045979052e+19,2.0051610808122212e+19,2.012539778441705e+19,2.019918476071189e+19,2.028219510904358e+19,2.0365205457375273e+19,2.0411322317559546e+19,2.0485109293854384e+19,2.0558896270149222e+19,2.065112999051777e+19,2.069724685070204e+19,2.077103382699688e+19,2.0844820803291718e+19,2.0909384407549702e+19,2.0992394755881394e+19,2.1066181732176232e+19,2.112152196439736e+19,2.116763882458163e+19,2.1232202428839617e+19,2.12967660330976e+19,2.1388999753466147e+19,2.1462786729760985e+19,2.155502045012953e+19,2.1619584054387515e+19,2.1693371030682354e+19,2.175793463494034e+19,2.1831721611235176e+19,2.1923955331603722e+19,2.1988518935861707e+19,2.20715292841934e+19,2.2145316260488237e+19,2.2219103236783075e+19,2.2302113585114767e+19,2.238512393344646e+19,2.246813428177815e+19,2.254192125807299e+19,2.262493160640468e+19,2.2717165326773228e+19,2.280017567510492e+19,2.2892409395473465e+19,2.298464311584201e+19,2.3076876836210557e+19,2.315988718454225e+19,2.324289753287394e+19,2.3325907881205633e+19,2.3408918229537325e+19,2.350115194990587e+19,2.3584162298237563e+19,2.367639601860611e+19,2.3750182994900947e+19,2.3823969971195785e+19,2.3897756947490623e+19,2.3943873807674896e+19,2.4036107528043442e+19,2.4119117876375134e+19,2.4192904852669972e+19,2.4239021712854245e+19,2.433125543322279e+19,2.4386595665443918e+19,2.4478829385812464e+19,2.453416961803359e+19,2.4617179966365282e+19,2.469096694266012e+19,2.476475391895496e+19,2.484776426728665e+19,2.4939997987655197e+19,2.5013784963950035e+19,2.5096795312281727e+19,2.5152135544502854e+19,2.520747577672398e+19,2.528126275301882e+19,2.5373496473387364e+19,2.543806007764535e+19,2.5502623681903333e+19,2.5567187286161318e+19,2.561330414634559e+19,2.568709112264043e+19,2.5751654726898414e+19,2.5834665075230106e+19,2.5908452051524944e+19,2.5982239027819782e+19,2.6046802632077767e+19,2.6139036352446312e+19,2.623127007281486e+19,2.6323503793183404e+19,2.6406514141515096e+19,2.647107774577308e+19,2.654486472206792e+19,2.662787507039961e+19,2.6710885418731303e+19,2.6793895767062995e+19,2.6876906115394687e+19,2.694146971965267e+19,2.7033703440021217e+19,2.711671378835291e+19,2.7190500764647748e+19,2.7264287740942586e+19,2.7338074717237424e+19,2.743030843760597e+19,2.7522542157974516e+19,2.7605552506306208e+19,2.7679339482601046e+19,2.776234983093274e+19,2.784536017926443e+19,2.7928370527596122e+19,2.8011380875927814e+19,2.8094391224259506e+19,2.81774015725912e+19,2.8214295060738617e+19,2.82788586649966e+19,2.835264564129144e+19,2.842643261758628e+19,2.8490996221844263e+19,2.8555559826102247e+19,2.863857017443394e+19,2.872158052276563e+19,2.8813814243134177e+19,2.8906047963502723e+19,2.896138819572385e+19,2.9053621916092396e+19,2.9127408892387234e+19,2.919197249664522e+19,2.9256536100903203e+19,2.9339546449234895e+19,2.939488668145602e+19,2.9487120401824567e+19,2.9579354122193113e+19,2.9662364470524805e+19,2.9745374818856497e+19,2.9837608539225043e+19,2.991139551551988e+19,2.9994405863851573e+19,3.008663958422012e+19,3.0178873304588665e+19,3.024343690884665e+19,3.032644725717834e+19,3.040023423347318e+19,3.048324458180487e+19,3.0547808186062856e+19,3.0621595162357694e+19,3.0695382138652533e+19,3.078761585902108e+19,3.0879849579389624e+19,3.094441318364761e+19,3.1018200159942447e+19,3.1110433880310993e+19,3.118422085660583e+19,3.1276454576974377e+19,3.135946492530607e+19,3.144247527363776e+19,3.15162622499326e+19,3.1608495970301145e+19,3.1682282946595983e+19,3.1765293294927675e+19,3.1848303643259367e+19,3.193131399159106e+19,3.2005100967885898e+19,3.2097334688254444e+19,3.216189829251243e+19,3.2226461896770413e+19,3.228180212899154e+19,3.2355589105286377e+19,3.243859945361807e+19,3.2530833173986615e+19,3.2613843522318307e+19,3.2706077242686853e+19,3.276141747490798e+19,3.284442782323967e+19,3.291821479953451e+19,3.3001225147866202e+19,3.3084235496197894e+19,3.317646921656644e+19,3.325947956489813e+19,3.3351713285266678e+19,3.3425500261561516e+19,3.350851060989321e+19,3.3600744330261754e+19,3.3683754678593446e+19,3.3757541654888284e+19,3.381288188710941e+19,3.3905115607477957e+19,3.398812595580965e+19,3.407113630414134e+19,3.414492328043618e+19,3.422793362876787e+19,3.4320167349136417e+19,3.4393954325431255e+19,3.4476964673762947e+19,3.454152827802093e+19,3.4587645138205204e+19,3.4661432114500043e+19,3.473521909079488e+19,3.480900606708972e+19,3.4882793043384558e+19,3.496580339171625e+19,3.5039590368011088e+19,3.5131824088379634e+19,3.5214834436711326e+19,3.5288621413006164e+19,3.538085513337471e+19,3.54638654817064e+19,3.553765245800124e+19,3.561143943429608e+19,3.5685226410590917e+19,3.57497900148489e+19,3.5832800363180593e+19,3.592503408354914e+19,3.6017267803917685e+19,3.610950152428623e+19,3.6201735244654776e+19,3.626629884891276e+19,3.6349309197244453e+19,3.637697931335502e+19,3.642309617353929e+19,3.6478436405760418e+19,3.6570670126128964e+19,3.666290384649751e+19,3.6727467450755494e+19,3.681970117112404e+19,3.6893488147418878e+19,3.695805175167686e+19,3.702261535593484e+19,3.709640233222968e+19,3.717941268056138e+19,3.724397628481936e+19,3.730853988907734e+19,3.740077360944588e+19,3.747456058574072e+19,3.755757093407242e+19,3.76221345383304e+19,3.769592151462524e+19,3.776048511888322e+19,3.7834272095178056e+19,3.79265058155466e+19,3.801873953591515e+19,3.808330314017313e+19,3.815709011646797e+19,3.824010046479966e+19,3.833233418516821e+19,3.842456790553675e+19,3.850757825386845e+19,3.858136523016329e+19,3.867359895053183e+19,3.874738592682667e+19,3.883039627515837e+19,3.8913406623490064e+19,3.899641697182176e+19,3.90702039481166e+19,3.9162437668485145e+19,3.925467138885369e+19,3.932845836514853e+19,3.9420692085517074e+19,3.951292580588562e+19,3.958671278218046e+19,3.9678946502549004e+19,3.975273347884384e+19,3.981729708310182e+19,3.990030743143352e+19,3.9992541151802065e+19,4.007555150013376e+19,4.01493384764286e+19,4.0232348824760295e+19,4.032458254512884e+19,4.041681626549739e+19,4.050904998586593e+19,4.057361359012391e+19,4.065662393845561e+19,4.072118754271359e+19,4.079497451900843e+19,4.086876149530327e+19,4.095177184363496e+19,4.104400556400351e+19,4.110856916826149e+19,4.1191579516593185e+19,4.128381323696173e+19,4.134837684121971e+19,4.141294044547769e+19,4.148672742177253e+19,4.156051439806737e+19,4.163430137436221e+19,4.1708088350657044e+19,4.175420521084132e+19,4.183721555917301e+19,4.192944927954156e+19,4.198478951176269e+19,4.2077023232131236e+19,4.216003358046293e+19,4.223382055675777e+19,4.229838416101575e+19,4.238139450934745e+19,4.244595811360543e+19,4.2519745089900265e+19,4.260275543823196e+19,4.26765424145268e+19,4.27595527628585e+19,4.2833339739153334e+19,4.291635008748503e+19,4.299013706377987e+19,4.3073147412111565e+19,4.31469343884064e+19,4.32299447367381e+19,4.330373171303294e+19,4.338674206136463e+19,4.345130566562261e+19,4.353431601395431e+19,4.361732636228601e+19,4.368188996654399e+19,4.376490031487568e+19,4.383868729117052e+19,4.391247426746536e+19,4.3995484615797055e+19,4.40877183361656e+19,4.416150531246044e+19,4.4244515660792136e+19,4.430907926505012e+19,4.436441949727125e+19,4.441975972949238e+19,4.450277007782407e+19,4.4567333682082054e+19,4.46595674024506e+19,4.4751801122819146e+19,4.484403484318769e+19,4.492704519151939e+19,4.501005553985108e+19,4.510228926021963e+19,4.516685286447761e+19,4.524063984077245e+19,4.530520344503043e+19,4.536976704928841e+19,4.5452777397620105e+19,4.552656437391494e+19,4.560957472224664e+19,4.567413832650462e+19,4.5766372046873166e+19,4.585860576724171e+19,4.592316937149969e+19,4.598773297575767e+19,4.60430732079788e+19,4.61260835563105e+19,4.619987053260534e+19,4.628288088093703e+19,4.635666785723187e+19,4.643967820556357e+19,4.653191192593211e+19,4.6596475530190094e+19,4.6651815762411225e+19,4.673482611074292e+19,4.681783645907462e+19,4.6891623435369456e+19,4.695618703962744e+19,4.704842075999598e+19,4.714065448036453e+19,4.722366482869622e+19,4.7288228432954204e+19,4.736201540924904e+19,4.743580238554388e+19,4.751881273387558e+19,4.760182308220727e+19,4.769405680257582e+19,4.7777067150907515e+19,4.7832407383128646e+19,4.792464110349719e+19,4.798920470775517e+19,4.807221505608687e+19,4.814600203238171e+19,4.82290123807134e+19,4.83120227290451e+19,4.838580970533994e+19,4.846882005367163e+19,4.853338365792961e+19,4.858872389015074e+19,4.868095761051929e+19,4.875474458681413e+19,4.881930819107211e+19,4.888387179533009e+19,4.895765877162493e+19,4.902222237588291e+19,4.91052327242146e+19,4.917901970050944e+19,4.926203004884114e+19,4.935426376920968e+19,4.944649748957823e+19,4.9529507837909926e+19,4.9603294814204764e+19,4.9667858418462745e+19,4.975086876679444e+19,4.983387911512614e+19,4.991688946345783e+19,5.000912318382638e+19,5.0092133532158075e+19,5.018436725252662e+19,5.025815422882146e+19,5.032271783307944e+19,5.0414951553447985e+19,5.049796190177968e+19,5.056252550603766e+19,5.062708911029564e+19,5.071932283066419e+19,5.078388643492217e+19,5.084845003918015e+19,5.092223701547499e+19,5.0996023991769825e+19,5.106981096806466e+19,5.1125151200285794e+19,5.121738492065434e+19,5.129117189694918e+19,5.135573550120716e+19,5.141107573342829e+19,5.147563933768627e+19,5.1512532825833685e+19,5.160476654620223e+19,5.168777689453393e+19,5.177078724286562e+19,5.184457421916046e+19,5.192758456749216e+19,5.198292479971329e+19,5.205671177600813e+19,5.214894549637667e+19,5.223195584470837e+19,5.2314966193040065e+19,5.239797654137176e+19,5.24717635176666e+19,5.2563997238035145e+19,5.2619337470256275e+19,5.271157119062482e+19,5.278535816691966e+19,5.284069839914079e+19,5.291448537543563e+19,5.296982560765676e+19,5.30436125839516e+19,5.313584630432014e+19,5.320040990857812e+19,5.327419688487296e+19,5.335720723320466e+19,5.34309942094995e+19,5.352322792986804e+19,5.358779153412602e+19,5.3652355138384e+19,5.374458885875255e+19,5.381837583504739e+19,5.390138618337908e+19,5.399361990374763e+19,5.4076630252079325e+19,5.415041722837416e+19,5.424265094874271e+19,5.430721455300069e+19,5.437177815725867e+19,5.444556513355351e+19,5.451935210984835e+19,5.461158583021689e+19,5.468537280651173e+19,5.475915978280657e+19,5.48145000150277e+19,5.4906733735396246e+19,5.498974408372794e+19,5.507275443205964e+19,5.515576478039133e+19,5.522955175668617e+19,5.530333873298101e+19,5.537712570927585e+19,5.5460136057607545e+19,5.555236977797609e+19,5.563538012630779e+19,5.5709167102602625e+19,5.579217745093432e+19,5.584751768315545e+19,5.592130465945029e+19,5.597664489167142e+19,5.605043186796626e+19,5.6133442216297955e+19,5.620722919259279e+19,5.628101616888763e+19,5.635480314518247e+19,5.644703686555102e+19,5.653004721388271e+19,5.660383419017755e+19,5.667762116647239e+19,5.674218477073037e+19,5.681597174702521e+19,5.6889758723320046e+19,5.697276907165174e+19,5.706500279202029e+19,5.715723651238883e+19,5.724024686072053e+19,5.7332480581089075e+19,5.741549092942077e+19,5.749850127775247e+19,5.7572288254047306e+19,5.764607523034214e+19,5.771986220663698e+19,5.780287255496868e+19,5.7885882903300375e+19,5.795966987959521e+19,5.804268022792691e+19,5.8125690576258605e+19,5.8190254180516585e+19,5.827326452884828e+19,5.834705150514312e+19,5.842083848143796e+19,5.84946254577328e+19,5.854074231791707e+19,5.861452929421191e+19,5.86975396425436e+19,5.87805499908753e+19,5.8863560339207e+19,5.894657068753869e+19,5.903880440790724e+19,5.911259138420208e+19,5.9186378360496914e+19,5.927861208086546e+19,5.93523990571603e+19,5.940773928938143e+19,5.947230289363941e+19,5.9555313241971106e+19,5.961987684622909e+19,5.9693663822523924e+19,5.977667417085562e+19,5.986890789122417e+19,5.991502475140844e+19,6.0007258471776985e+19,6.0071822076034966e+19,6.016405579640351e+19,6.023784277269835e+19,6.030240637695633e+19,6.0394640097324876e+19,6.046842707361971e+19,6.055143742195141e+19,6.062522439824625e+19,6.0708234746577945e+19,6.079124509490964e+19,6.088347881527819e+19,6.0957265791573025e+19,6.104027613990472e+19,6.111406311619956e+19,6.1197073464531255e+19,6.12893071848998e+19,6.138154090526835e+19,6.147377462563689e+19,6.152911485785802e+19,6.1593678462116e+19,6.16766888104477e+19,6.1768922530816246e+19,6.185193287914794e+19,6.193494322747964e+19,6.199950683173762e+19,6.205484706395875e+19,6.2147080784327295e+19,6.223009113265899e+19,6.229465473691697e+19,6.235921834117495e+19,6.243300531746979e+19,6.249756892172777e+19,6.256213252598575e+19,6.263591950228059e+19,6.2718929850612285e+19,6.279271682690712e+19,6.286650380320196e+19,6.295873752357051e+19,6.303252449986535e+19,6.3106311476160184e+19,6.318009845245502e+19,6.326310880078672e+19,6.33276724050447e+19,6.3410682753376395e+19,6.3475246357634376e+19,6.353058658985551e+19,6.3604373566150345e+19,6.3668937170408325e+19,6.3733500774666306e+19,6.380728775096114e+19,6.389029809929284e+19,6.396408507558768e+19,6.402864867984566e+19,6.408398891206679e+19,6.414855251632477e+19,6.422233949261961e+19,6.429612646891445e+19,6.438836018928299e+19,6.445292379354097e+19,6.453593414187267e+19,6.460049774613065e+19,6.467428472242549e+19,6.475729507075718e+19,6.484030541908888e+19,6.4932539139457425e+19,6.500632611575226e+19,6.507088972001024e+19,6.515390006834194e+19,6.522768704463678e+19,6.5319920765005324e+19,6.540293111333702e+19,6.549516483370557e+19,6.5568951810000404e+19,6.56519621583321e+19,6.572574913462694e+19,6.579953611092178e+19,6.588254645925347e+19,6.596555680758517e+19,6.6048567155916866e+19,6.61223541322117e+19,6.6186917736469684e+19,6.6242257968690815e+19,6.631604494498565e+19,6.639905529331735e+19,6.6491289013685895e+19,6.657429936201759e+19,6.663886296627557e+19,6.672187331460727e+19,6.681410703497581e+19,6.6869447267196944e+19,6.694323424349178e+19,6.702624459182348e+19,6.7118478312192025e+19,6.720148866052372e+19,6.728449900885542e+19,6.733983924107655e+19,6.742284958940824e+19,6.750585993773994e+19,6.758887028607164e+19,6.767188063440333e+19,6.774566761069817e+19,6.782867795902987e+19,6.792091167939841e+19,6.800392202773011e+19,6.8086932376061805e+19,6.816071935235664e+19,6.825295307272519e+19,6.8335963421056885e+19,6.841897376938858e+19,6.849276074568342e+19,6.8584994466051965e+19,6.86587814423468e+19,6.875101516271535e+19,6.8834025511047045e+19,6.892625923141559e+19,6.900926957974729e+19,6.909227992807898e+19,6.918451364844753e+19,6.924907725270551e+19,6.932286422900035e+19,6.938742783325833e+19,6.9470438181590024e+19,6.955344852992172e+19,6.964568225029027e+19,6.973791597065881e+19,6.980247957491679e+19,6.989471329528534e+19,6.996850027158018e+19,7.006073399194872e+19,7.014374434028042e+19,7.0235978060648964e+19,7.03097650369438e+19,7.040199875731235e+19,7.046656236157033e+19,7.054034933786517e+19,7.063258305823371e+19,7.071559340656541e+19,7.0798603754897105e+19,7.08816141032288e+19,7.09646244515605e+19,7.1038411427855335e+19,7.111219840415017e+19,7.120443212451872e+19,7.1296665844887265e+19,7.13704528211821e+19,7.14534631695138e+19,7.1536473517845496e+19,7.160103712210348e+19,7.166560072636146e+19,7.1739387702656295e+19,7.1803951306914275e+19,7.187773828320911e+19,7.196074863154081e+19,7.2043758979872506e+19,7.208987584005678e+19,7.214521607227791e+19,7.220977967653589e+19,7.229279002486759e+19,7.235735362912557e+19,7.2431140605420405e+19,7.2486480837641535e+19,7.256949118597323e+19,7.264327816226807e+19,7.272628851059977e+19,7.279085211485775e+19,7.287386246318944e+19,7.294764943948428e+19,7.301221304374226e+19,7.310444676411081e+19,7.31874571124425e+19,7.327969083281105e+19,7.334425443706903e+19,7.3436488157437575e+19,7.351027513373241e+19,7.360250885410096e+19,7.3685519202432655e+19,7.375930617872749e+19,7.384231652705919e+19,7.393455024742774e+19,7.400833722372257e+19,7.409134757205426e+19,7.41466878042754e+19,7.422969815260709e+19,7.429426175686507e+19,7.437727210519677e+19,7.446028245352846e+19,7.452484605778644e+19,7.458940966204442e+19,7.466319663833925e+19,7.474620698667095e+19,7.482921733500264e+19,7.491222768333434e+19,7.499523803166604e+19,7.505057826388717e+19,7.514281198425571e+19,7.521659896055054e+19,7.525349244869796e+19,7.531805605295594e+19,7.540106640128763e+19,7.548407674961933e+19,7.556708709795103e+19,7.564087407424586e+19,7.572388442257755e+19,7.579767139887238e+19,7.586223500313036e+19,7.59175752353515e+19,7.600058558368319e+19,7.606514918794117e+19,7.6138936164236e+19,7.623116988460455e+19,7.631418023293624e+19,7.639719058126794e+19,7.645253081348907e+19,7.65078710457102e+19,7.65908813940419e+19,7.665544499829988e+19,7.673845534663157e+19,7.682146569496327e+19,7.68952526712581e+19,7.698748639162665e+19],\"type\":\"scatter\"}],                        {\"template\":{\"data\":{\"bar\":[{\"error_x\":{\"color\":\"#2a3f5f\"},\"error_y\":{\"color\":\"#2a3f5f\"},\"marker\":{\"line\":{\"color\":\"#E5ECF6\",\"width\":0.5},\"pattern\":{\"fillmode\":\"overlay\",\"size\":10,\"solidity\":0.2}},\"type\":\"bar\"}],\"barpolar\":[{\"marker\":{\"line\":{\"color\":\"#E5ECF6\",\"width\":0.5},\"pattern\":{\"fillmode\":\"overlay\",\"size\":10,\"solidity\":0.2}},\"type\":\"barpolar\"}],\"carpet\":[{\"aaxis\":{\"endlinecolor\":\"#2a3f5f\",\"gridcolor\":\"white\",\"linecolor\":\"white\",\"minorgridcolor\":\"white\",\"startlinecolor\":\"#2a3f5f\"},\"baxis\":{\"endlinecolor\":\"#2a3f5f\",\"gridcolor\":\"white\",\"linecolor\":\"white\",\"minorgridcolor\":\"white\",\"startlinecolor\":\"#2a3f5f\"},\"type\":\"carpet\"}],\"choropleth\":[{\"colorbar\":{\"outlinewidth\":0,\"ticks\":\"\"},\"type\":\"choropleth\"}],\"contour\":[{\"colorbar\":{\"outlinewidth\":0,\"ticks\":\"\"},\"colorscale\":[[0.0,\"#0d0887\"],[0.1111111111111111,\"#46039f\"],[0.2222222222222222,\"#7201a8\"],[0.3333333333333333,\"#9c179e\"],[0.4444444444444444,\"#bd3786\"],[0.5555555555555556,\"#d8576b\"],[0.6666666666666666,\"#ed7953\"],[0.7777777777777778,\"#fb9f3a\"],[0.8888888888888888,\"#fdca26\"],[1.0,\"#f0f921\"]],\"type\":\"contour\"}],\"contourcarpet\":[{\"colorbar\":{\"outlinewidth\":0,\"ticks\":\"\"},\"type\":\"contourcarpet\"}],\"heatmap\":[{\"colorbar\":{\"outlinewidth\":0,\"ticks\":\"\"},\"colorscale\":[[0.0,\"#0d0887\"],[0.1111111111111111,\"#46039f\"],[0.2222222222222222,\"#7201a8\"],[0.3333333333333333,\"#9c179e\"],[0.4444444444444444,\"#bd3786\"],[0.5555555555555556,\"#d8576b\"],[0.6666666666666666,\"#ed7953\"],[0.7777777777777778,\"#fb9f3a\"],[0.8888888888888888,\"#fdca26\"],[1.0,\"#f0f921\"]],\"type\":\"heatmap\"}],\"heatmapgl\":[{\"colorbar\":{\"outlinewidth\":0,\"ticks\":\"\"},\"colorscale\":[[0.0,\"#0d0887\"],[0.1111111111111111,\"#46039f\"],[0.2222222222222222,\"#7201a8\"],[0.3333333333333333,\"#9c179e\"],[0.4444444444444444,\"#bd3786\"],[0.5555555555555556,\"#d8576b\"],[0.6666666666666666,\"#ed7953\"],[0.7777777777777778,\"#fb9f3a\"],[0.8888888888888888,\"#fdca26\"],[1.0,\"#f0f921\"]],\"type\":\"heatmapgl\"}],\"histogram\":[{\"marker\":{\"pattern\":{\"fillmode\":\"overlay\",\"size\":10,\"solidity\":0.2}},\"type\":\"histogram\"}],\"histogram2d\":[{\"colorbar\":{\"outlinewidth\":0,\"ticks\":\"\"},\"colorscale\":[[0.0,\"#0d0887\"],[0.1111111111111111,\"#46039f\"],[0.2222222222222222,\"#7201a8\"],[0.3333333333333333,\"#9c179e\"],[0.4444444444444444,\"#bd3786\"],[0.5555555555555556,\"#d8576b\"],[0.6666666666666666,\"#ed7953\"],[0.7777777777777778,\"#fb9f3a\"],[0.8888888888888888,\"#fdca26\"],[1.0,\"#f0f921\"]],\"type\":\"histogram2d\"}],\"histogram2dcontour\":[{\"colorbar\":{\"outlinewidth\":0,\"ticks\":\"\"},\"colorscale\":[[0.0,\"#0d0887\"],[0.1111111111111111,\"#46039f\"],[0.2222222222222222,\"#7201a8\"],[0.3333333333333333,\"#9c179e\"],[0.4444444444444444,\"#bd3786\"],[0.5555555555555556,\"#d8576b\"],[0.6666666666666666,\"#ed7953\"],[0.7777777777777778,\"#fb9f3a\"],[0.8888888888888888,\"#fdca26\"],[1.0,\"#f0f921\"]],\"type\":\"histogram2dcontour\"}],\"mesh3d\":[{\"colorbar\":{\"outlinewidth\":0,\"ticks\":\"\"},\"type\":\"mesh3d\"}],\"parcoords\":[{\"line\":{\"colorbar\":{\"outlinewidth\":0,\"ticks\":\"\"}},\"type\":\"parcoords\"}],\"pie\":[{\"automargin\":true,\"type\":\"pie\"}],\"scatter\":[{\"marker\":{\"colorbar\":{\"outlinewidth\":0,\"ticks\":\"\"}},\"type\":\"scatter\"}],\"scatter3d\":[{\"line\":{\"colorbar\":{\"outlinewidth\":0,\"ticks\":\"\"}},\"marker\":{\"colorbar\":{\"outlinewidth\":0,\"ticks\":\"\"}},\"type\":\"scatter3d\"}],\"scattercarpet\":[{\"marker\":{\"colorbar\":{\"outlinewidth\":0,\"ticks\":\"\"}},\"type\":\"scattercarpet\"}],\"scattergeo\":[{\"marker\":{\"colorbar\":{\"outlinewidth\":0,\"ticks\":\"\"}},\"type\":\"scattergeo\"}],\"scattergl\":[{\"marker\":{\"colorbar\":{\"outlinewidth\":0,\"ticks\":\"\"}},\"type\":\"scattergl\"}],\"scattermapbox\":[{\"marker\":{\"colorbar\":{\"outlinewidth\":0,\"ticks\":\"\"}},\"type\":\"scattermapbox\"}],\"scatterpolar\":[{\"marker\":{\"colorbar\":{\"outlinewidth\":0,\"ticks\":\"\"}},\"type\":\"scatterpolar\"}],\"scatterpolargl\":[{\"marker\":{\"colorbar\":{\"outlinewidth\":0,\"ticks\":\"\"}},\"type\":\"scatterpolargl\"}],\"scatterternary\":[{\"marker\":{\"colorbar\":{\"outlinewidth\":0,\"ticks\":\"\"}},\"type\":\"scatterternary\"}],\"surface\":[{\"colorbar\":{\"outlinewidth\":0,\"ticks\":\"\"},\"colorscale\":[[0.0,\"#0d0887\"],[0.1111111111111111,\"#46039f\"],[0.2222222222222222,\"#7201a8\"],[0.3333333333333333,\"#9c179e\"],[0.4444444444444444,\"#bd3786\"],[0.5555555555555556,\"#d8576b\"],[0.6666666666666666,\"#ed7953\"],[0.7777777777777778,\"#fb9f3a\"],[0.8888888888888888,\"#fdca26\"],[1.0,\"#f0f921\"]],\"type\":\"surface\"}],\"table\":[{\"cells\":{\"fill\":{\"color\":\"#EBF0F8\"},\"line\":{\"color\":\"white\"}},\"header\":{\"fill\":{\"color\":\"#C8D4E3\"},\"line\":{\"color\":\"white\"}},\"type\":\"table\"}]},\"layout\":{\"annotationdefaults\":{\"arrowcolor\":\"#2a3f5f\",\"arrowhead\":0,\"arrowwidth\":1},\"autotypenumbers\":\"strict\",\"coloraxis\":{\"colorbar\":{\"outlinewidth\":0,\"ticks\":\"\"}},\"colorscale\":{\"diverging\":[[0,\"#8e0152\"],[0.1,\"#c51b7d\"],[0.2,\"#de77ae\"],[0.3,\"#f1b6da\"],[0.4,\"#fde0ef\"],[0.5,\"#f7f7f7\"],[0.6,\"#e6f5d0\"],[0.7,\"#b8e186\"],[0.8,\"#7fbc41\"],[0.9,\"#4d9221\"],[1,\"#276419\"]],\"sequential\":[[0.0,\"#0d0887\"],[0.1111111111111111,\"#46039f\"],[0.2222222222222222,\"#7201a8\"],[0.3333333333333333,\"#9c179e\"],[0.4444444444444444,\"#bd3786\"],[0.5555555555555556,\"#d8576b\"],[0.6666666666666666,\"#ed7953\"],[0.7777777777777778,\"#fb9f3a\"],[0.8888888888888888,\"#fdca26\"],[1.0,\"#f0f921\"]],\"sequentialminus\":[[0.0,\"#0d0887\"],[0.1111111111111111,\"#46039f\"],[0.2222222222222222,\"#7201a8\"],[0.3333333333333333,\"#9c179e\"],[0.4444444444444444,\"#bd3786\"],[0.5555555555555556,\"#d8576b\"],[0.6666666666666666,\"#ed7953\"],[0.7777777777777778,\"#fb9f3a\"],[0.8888888888888888,\"#fdca26\"],[1.0,\"#f0f921\"]]},\"colorway\":[\"#636efa\",\"#EF553B\",\"#00cc96\",\"#ab63fa\",\"#FFA15A\",\"#19d3f3\",\"#FF6692\",\"#B6E880\",\"#FF97FF\",\"#FECB52\"],\"font\":{\"color\":\"#2a3f5f\"},\"geo\":{\"bgcolor\":\"white\",\"lakecolor\":\"white\",\"landcolor\":\"#E5ECF6\",\"showlakes\":true,\"showland\":true,\"subunitcolor\":\"white\"},\"hoverlabel\":{\"align\":\"left\"},\"hovermode\":\"closest\",\"mapbox\":{\"style\":\"light\"},\"paper_bgcolor\":\"white\",\"plot_bgcolor\":\"#E5ECF6\",\"polar\":{\"angularaxis\":{\"gridcolor\":\"white\",\"linecolor\":\"white\",\"ticks\":\"\"},\"bgcolor\":\"#E5ECF6\",\"radialaxis\":{\"gridcolor\":\"white\",\"linecolor\":\"white\",\"ticks\":\"\"}},\"scene\":{\"xaxis\":{\"backgroundcolor\":\"#E5ECF6\",\"gridcolor\":\"white\",\"gridwidth\":2,\"linecolor\":\"white\",\"showbackground\":true,\"ticks\":\"\",\"zerolinecolor\":\"white\"},\"yaxis\":{\"backgroundcolor\":\"#E5ECF6\",\"gridcolor\":\"white\",\"gridwidth\":2,\"linecolor\":\"white\",\"showbackground\":true,\"ticks\":\"\",\"zerolinecolor\":\"white\"},\"zaxis\":{\"backgroundcolor\":\"#E5ECF6\",\"gridcolor\":\"white\",\"gridwidth\":2,\"linecolor\":\"white\",\"showbackground\":true,\"ticks\":\"\",\"zerolinecolor\":\"white\"}},\"shapedefaults\":{\"line\":{\"color\":\"#2a3f5f\"}},\"ternary\":{\"aaxis\":{\"gridcolor\":\"white\",\"linecolor\":\"white\",\"ticks\":\"\"},\"baxis\":{\"gridcolor\":\"white\",\"linecolor\":\"white\",\"ticks\":\"\"},\"bgcolor\":\"#E5ECF6\",\"caxis\":{\"gridcolor\":\"white\",\"linecolor\":\"white\",\"ticks\":\"\"}},\"title\":{\"x\":0.05},\"xaxis\":{\"automargin\":true,\"gridcolor\":\"white\",\"linecolor\":\"white\",\"ticks\":\"\",\"title\":{\"standoff\":15},\"zerolinecolor\":\"white\",\"zerolinewidth\":2},\"yaxis\":{\"automargin\":true,\"gridcolor\":\"white\",\"linecolor\":\"white\",\"ticks\":\"\",\"title\":{\"standoff\":15},\"zerolinecolor\":\"white\",\"zerolinewidth\":2}}},\"font\":{\"family\":\"Courier New, monospace\",\"color\":\"RebeccaPurple\"},\"title\":{\"text\":\"Sum of reward for each episode(averaged with each 10 episodes) ACUMULATED\"},\"xaxis\":{\"title\":{\"text\":\"Number of episodes(averaged with each 10 episodes)\"}},\"yaxis\":{\"title\":{\"text\":\"Sum of rewards during episode\"}},\"legend\":{\"title\":{\"text\":\"Legend Title\"}}},                        {\"responsive\": true}                    ).then(function(){\n",
              "                            \n",
              "var gd = document.getElementById('ab803c63-92ee-4de8-8668-a2dd6c1e75f4');\n",
              "var x = new MutationObserver(function (mutations, observer) {{\n",
              "        var display = window.getComputedStyle(gd).display;\n",
              "        if (!display || display === 'none') {{\n",
              "            console.log([gd, 'removed!']);\n",
              "            Plotly.purge(gd);\n",
              "            observer.disconnect();\n",
              "        }}\n",
              "}});\n",
              "\n",
              "// Listen for the removal of the full notebook cells\n",
              "var notebookContainer = gd.closest('#notebook-container');\n",
              "if (notebookContainer) {{\n",
              "    x.observe(notebookContainer, {childList: true});\n",
              "}}\n",
              "\n",
              "// Listen for the clearing of the current output cell\n",
              "var outputEl = gd.closest('.output');\n",
              "if (outputEl) {{\n",
              "    x.observe(outputEl, {childList: true});\n",
              "}}\n",
              "\n",
              "                        })                };                            </script>        </div>\n",
              "</body>\n",
              "</html>"
            ]
          },
          "metadata": {}
        }
      ]
    },
    {
      "cell_type": "markdown",
      "source": [
        "###World4"
      ],
      "metadata": {
        "id": "RA4Ou5p5S7AN"
      }
    },
    {
      "cell_type": "code",
      "source": [
        "printMap(w4)"
      ],
      "metadata": {
        "colab": {
          "base_uri": "https://localhost:8080/"
        },
        "id": "GvwCO8AuJyFB",
        "outputId": "f4f05d25-824a-49dd-8545-47ccb32874cb"
      },
      "execution_count": 51,
      "outputs": [
        {
          "output_type": "stream",
          "name": "stdout",
          "text": [
            "[ O  X  O  X  O  O  O  O  O  X  O  O  O  O  O  X  X  X  O  X  O \n",
            " O  X  O  X  X  X  X  X  O  X  X  X  X  X  O  O  O  X  O  X  O \n",
            " O  X  O  O  O  O  O  O  O  X  O  O  O  X  O  X  X  X  O  X  O \n",
            " O  X  O  X  O  X  O  X  O  X  O  X  O  O  O  O  X  O  O  X  O \n",
            " O  O  O  X  O  X  O  X  X  X  X  X  X  X  X  O  X  O  X  X  O \n",
            " X  X  X  X  O  X  O  O  O  X  O  O  O  O  O  O  X  O  O  O  O \n",
            " O  O  O  O  O  X  X  X  O  X  X  X  X  X  X  O  X  X  O  X  O \n",
            " X  X  X  X  O  X  O  X  O  X  O  O  O  O  O  O  O  O  O  X  O \n",
            " O  O  O  X  O  O  O  X  X  X  O  O  X  X  X  X  X  X  X  X  O \n",
            " O  X  O  X  O  X  O  X  O  O  O  X  X  O  O  O  O  O  O  X  X \n",
            " O  X  O  X  O  X  X  X  O  X  O  X  O  O  X  X  X  X  O  O  O \n",
            " O  X  O  X  O  X  O  O  O  X  O  X  O  X  X  O  O  X  X  X  O \n",
            " O  X  O  O  O  X  X  O  X  X  O  X  O  X  O  O  O  O  O  X  O \n",
            " O  X  X  X  X  X  O  O  X  O  O  O  O  O  O  X  X  X  O  X  O \n",
            " O  O  O  O  X  O  O  X  X  O  X  O  X  X  O  X  O  O  O  X  O \n",
            " X  X  X  O  O  O  X  X  O  O  X  O  O  X  X  X  O  X  X  X  X \n",
            " O  O  X  X  O  X  X  X  X  X  X  X  O  O  O  X  O  X  O  O  O \n",
            " X  O  O  X  O  X  O  O  O  X  O  O  O  X  X  X  O  X  O  X  O \n",
            " X  X  O  O  O  X  X  X  O  X  X  X  O  O  O  X  O  O  O  X  O \n",
            " O  X  X  O  X  X  O  O  O  O  O  X  O  X  X  X  X  X  X  X  O \n",
            " O  O  O  O  O  O  O  X  X  X  O  X  O  O  O  O  O  O  O  X  F ]\n",
            "\n"
          ]
        }
      ]
    },
    {
      "cell_type": "markdown",
      "source": [
        "#### SARSA"
      ],
      "metadata": {
        "id": "Msw_xoqyS-yp"
      }
    },
    {
      "cell_type": "code",
      "source": [
        "agent_w4_sarsa = Agent(w4, (0, 0))\n",
        "Q_w4_sarsa, rewards_w4_sarsa = sarsa(agent_w4_sarsa,init_state = (0,0), alpha = 0.5,gamma = 0.9 , epsilon = 0.1 , max_iterations =100000,debug = False)\n",
        "move_with_value_function(agent_w4_sarsa,Q_w4_sarsa, max_steps = 1000)"
      ],
      "metadata": {
        "colab": {
          "base_uri": "https://localhost:8080/"
        },
        "id": "ilRgB5g8S_Ca",
        "outputId": "ecd1a0b4-fb64-4b64-8bff-d22aff5becd7"
      },
      "execution_count": 52,
      "outputs": [
        {
          "output_type": "stream",
          "name": "stdout",
          "text": [
            "Initial S: (0, 0) --(A: (1, 0) Abajo ) -->\n",
            "Now in S: (1, 0) --(A: (1, 0) Abajo ) -->\n",
            "Now in S: (2, 0) --(A: (1, 0) Abajo ) -->\n",
            "Now in S: (3, 0) --(A: (1, 0) Abajo ) -->\n",
            "Now in S: (4, 0) --(A: (0, -1) Izquierda ) -->\n",
            "Now in S: (4, 0) --(A: (0, -1) Izquierda ) -->\n",
            "Now in S: (4, 0) --(A: (0, -1) Izquierda ) -->\n",
            "Now in S: (4, 0) --(A: (0, -1) Izquierda ) -->\n",
            "Now in S: (4, 0) --(A: (0, -1) Izquierda ) -->\n",
            "Now in S: (4, 0) --(A: (0, -1) Izquierda ) -->\n",
            "Now in S: (4, 0) --(A: (0, -1) Izquierda ) -->\n",
            "Now in S: (4, 0) --(A: (0, -1) Izquierda ) -->\n",
            "Now in S: (4, 0) --(A: (0, -1) Izquierda ) -->\n",
            "Now in S: (4, 0) --(A: (0, -1) Izquierda ) -->\n",
            "Now in S: (4, 0) --(A: (0, -1) Izquierda ) -->\n",
            "Now in S: (4, 0) --(A: (0, -1) Izquierda ) -->\n",
            "Now in S: (4, 0) --(A: (0, -1) Izquierda ) -->\n",
            "Now in S: (4, 0) --(A: (0, -1) Izquierda ) -->\n",
            "Now in S: (4, 0) --(A: (0, -1) Izquierda ) -->\n",
            "Now in S: (4, 0) --(A: (0, -1) Izquierda ) -->\n",
            "Now in S: (4, 0) --(A: (0, -1) Izquierda ) -->\n",
            "Now in S: (4, 0) --(A: (0, -1) Izquierda ) -->\n",
            "Now in S: (4, 0) --(A: (0, -1) Izquierda ) -->\n",
            "Now in S: (4, 0) --(A: (0, -1) Izquierda ) -->\n",
            "Now in S: (4, 0) --(A: (0, -1) Izquierda ) -->\n",
            "Now in S: (4, 0) --(A: (0, -1) Izquierda ) -->\n",
            "Now in S: (4, 0) --(A: (0, -1) Izquierda ) -->\n",
            "Now in S: (4, 0) --(A: (0, -1) Izquierda ) -->\n",
            "Now in S: (4, 0) --(A: (0, -1) Izquierda ) -->\n",
            "Now in S: (4, 0) --(A: (0, -1) Izquierda ) -->\n",
            "Now in S: (4, 0) --(A: (0, -1) Izquierda ) -->\n",
            "Now in S: (4, 0) --(A: (0, -1) Izquierda ) -->\n",
            "Now in S: (4, 0) --(A: (0, -1) Izquierda ) -->\n",
            "Now in S: (4, 0) --(A: (0, -1) Izquierda ) -->\n",
            "Now in S: (4, 0) --(A: (0, -1) Izquierda ) -->\n",
            "Now in S: (4, 0) --(A: (0, -1) Izquierda ) -->\n",
            "Now in S: (4, 0) --(A: (0, -1) Izquierda ) -->\n",
            "Now in S: (4, 0) --(A: (0, -1) Izquierda ) -->\n",
            "Now in S: (4, 0) --(A: (0, -1) Izquierda ) -->\n",
            "Now in S: (4, 0) --(A: (0, -1) Izquierda ) -->\n",
            "Now in S: (4, 0) --(A: (0, -1) Izquierda ) -->\n",
            "Now in S: (4, 0) --(A: (0, -1) Izquierda ) -->\n",
            "Now in S: (4, 0) --(A: (0, -1) Izquierda ) -->\n",
            "Now in S: (4, 0) --(A: (0, -1) Izquierda ) -->\n",
            "Now in S: (4, 0) --(A: (0, -1) Izquierda ) -->\n",
            "Now in S: (4, 0) --(A: (0, -1) Izquierda ) -->\n",
            "Now in S: (4, 0) --(A: (0, -1) Izquierda ) -->\n",
            "Now in S: (4, 0) --(A: (0, -1) Izquierda ) -->\n",
            "Now in S: (4, 0) --(A: (0, -1) Izquierda ) -->\n",
            "Now in S: (4, 0) --(A: (0, -1) Izquierda ) -->\n",
            "Now in S: (4, 0) --(A: (0, -1) Izquierda ) -->\n",
            "Now in S: (4, 0) --(A: (0, -1) Izquierda ) -->\n",
            "Now in S: (4, 0) --(A: (0, -1) Izquierda ) -->\n",
            "Now in S: (4, 0) --(A: (0, -1) Izquierda ) -->\n",
            "Now in S: (4, 0) --(A: (0, -1) Izquierda ) -->\n",
            "Now in S: (4, 0) --(A: (0, -1) Izquierda ) -->\n",
            "Now in S: (4, 0) --(A: (0, -1) Izquierda ) -->\n",
            "Now in S: (4, 0) --(A: (0, -1) Izquierda ) -->\n",
            "Now in S: (4, 0) --(A: (0, -1) Izquierda ) -->\n",
            "Now in S: (4, 0) --(A: (0, -1) Izquierda ) -->\n",
            "Now in S: (4, 0) --(A: (0, -1) Izquierda ) -->\n",
            "Now in S: (4, 0) --(A: (0, -1) Izquierda ) -->\n",
            "Now in S: (4, 0) --(A: (0, -1) Izquierda ) -->\n",
            "Now in S: (4, 0) --(A: (0, -1) Izquierda ) -->\n",
            "Now in S: (4, 0) --(A: (0, -1) Izquierda ) -->\n",
            "Now in S: (4, 0) --(A: (0, -1) Izquierda ) -->\n",
            "Now in S: (4, 0) --(A: (0, -1) Izquierda ) -->\n",
            "Now in S: (4, 0) --(A: (0, -1) Izquierda ) -->\n",
            "Now in S: (4, 0) --(A: (0, -1) Izquierda ) -->\n",
            "Now in S: (4, 0) --(A: (0, -1) Izquierda ) -->\n",
            "Now in S: (4, 0) --(A: (0, -1) Izquierda ) -->\n",
            "Now in S: (4, 0) --(A: (0, -1) Izquierda ) -->\n",
            "Now in S: (4, 0) --(A: (0, -1) Izquierda ) -->\n",
            "Now in S: (4, 0) --(A: (0, -1) Izquierda ) -->\n",
            "Now in S: (4, 0) --(A: (0, -1) Izquierda ) -->\n",
            "Now in S: (4, 0) --(A: (0, -1) Izquierda ) -->\n",
            "Now in S: (4, 0) --(A: (0, -1) Izquierda ) -->\n",
            "Now in S: (4, 0) --(A: (0, -1) Izquierda ) -->\n",
            "Now in S: (4, 0) --(A: (0, -1) Izquierda ) -->\n",
            "Now in S: (4, 0) --(A: (0, -1) Izquierda ) -->\n",
            "Now in S: (4, 0) --(A: (0, -1) Izquierda ) -->\n",
            "Now in S: (4, 0) --(A: (0, -1) Izquierda ) -->\n",
            "Now in S: (4, 0) --(A: (0, -1) Izquierda ) -->\n",
            "Now in S: (4, 0) --(A: (0, -1) Izquierda ) -->\n",
            "Now in S: (4, 0) --(A: (0, -1) Izquierda ) -->\n",
            "Now in S: (4, 0) --(A: (0, -1) Izquierda ) -->\n",
            "Now in S: (4, 0) --(A: (0, -1) Izquierda ) -->\n",
            "Now in S: (4, 0) --(A: (0, -1) Izquierda ) -->\n",
            "Now in S: (4, 0) --(A: (0, -1) Izquierda ) -->\n",
            "Now in S: (4, 0) --(A: (0, -1) Izquierda ) -->\n",
            "Now in S: (4, 0) --(A: (0, -1) Izquierda ) -->\n",
            "Now in S: (4, 0) --(A: (0, -1) Izquierda ) -->\n",
            "Now in S: (4, 0) --(A: (0, -1) Izquierda ) -->\n",
            "Now in S: (4, 0) --(A: (0, -1) Izquierda ) -->\n",
            "Now in S: (4, 0) --(A: (0, -1) Izquierda ) -->\n",
            "Now in S: (4, 0) --(A: (0, -1) Izquierda ) -->\n",
            "Now in S: (4, 0) --(A: (0, -1) Izquierda ) -->\n",
            "Now in S: (4, 0) --(A: (0, -1) Izquierda ) -->\n",
            "Now in S: (4, 0) --(A: (0, -1) Izquierda ) -->\n",
            "Now in S: (4, 0) --(A: (0, -1) Izquierda ) -->\n",
            "Now in S: (4, 0) --(A: (0, -1) Izquierda ) -->\n",
            "Now in S: (4, 0) --(A: (0, -1) Izquierda ) -->\n",
            "Now in S: (4, 0) --(A: (0, -1) Izquierda ) -->\n",
            "Now in S: (4, 0) --(A: (0, -1) Izquierda ) -->\n",
            "Now in S: (4, 0) --(A: (0, -1) Izquierda ) -->\n",
            "Now in S: (4, 0) --(A: (0, -1) Izquierda ) -->\n",
            "Now in S: (4, 0) --(A: (0, -1) Izquierda ) -->\n",
            "Now in S: (4, 0) --(A: (0, -1) Izquierda ) -->\n",
            "Now in S: (4, 0) --(A: (0, -1) Izquierda ) -->\n",
            "Now in S: (4, 0) --(A: (0, -1) Izquierda ) -->\n",
            "Now in S: (4, 0) --(A: (0, -1) Izquierda ) -->\n",
            "Now in S: (4, 0) --(A: (0, -1) Izquierda ) -->\n",
            "Now in S: (4, 0) --(A: (0, -1) Izquierda ) -->\n",
            "Now in S: (4, 0) --(A: (0, -1) Izquierda ) -->\n",
            "Now in S: (4, 0) --(A: (0, -1) Izquierda ) -->\n",
            "Now in S: (4, 0) --(A: (0, -1) Izquierda ) -->\n",
            "Now in S: (4, 0) --(A: (0, -1) Izquierda ) -->\n",
            "Now in S: (4, 0) --(A: (0, -1) Izquierda ) -->\n",
            "Now in S: (4, 0) --(A: (0, -1) Izquierda ) -->\n",
            "Now in S: (4, 0) --(A: (0, -1) Izquierda ) -->\n",
            "Now in S: (4, 0) --(A: (0, -1) Izquierda ) -->\n",
            "Now in S: (4, 0) --(A: (0, -1) Izquierda ) -->\n",
            "Now in S: (4, 0) --(A: (0, -1) Izquierda ) -->\n",
            "Now in S: (4, 0) --(A: (0, -1) Izquierda ) -->\n",
            "Now in S: (4, 0) --(A: (0, -1) Izquierda ) -->\n",
            "Now in S: (4, 0) --(A: (0, -1) Izquierda ) -->\n",
            "Now in S: (4, 0) --(A: (0, -1) Izquierda ) -->\n",
            "Now in S: (4, 0) --(A: (0, -1) Izquierda ) -->\n",
            "Now in S: (4, 0) --(A: (0, -1) Izquierda ) -->\n",
            "Now in S: (4, 0) --(A: (0, -1) Izquierda ) -->\n",
            "Now in S: (4, 0) --(A: (0, -1) Izquierda ) -->\n",
            "Now in S: (4, 0) --(A: (0, -1) Izquierda ) -->\n",
            "Now in S: (4, 0) --(A: (0, -1) Izquierda ) -->\n",
            "Now in S: (4, 0) --(A: (0, -1) Izquierda ) -->\n",
            "Now in S: (4, 0) --(A: (0, -1) Izquierda ) -->\n",
            "Now in S: (4, 0) --(A: (0, -1) Izquierda ) -->\n",
            "Now in S: (4, 0) --(A: (0, -1) Izquierda ) -->\n",
            "Now in S: (4, 0) --(A: (0, -1) Izquierda ) -->\n",
            "Now in S: (4, 0) --(A: (0, -1) Izquierda ) -->\n",
            "Now in S: (4, 0) --(A: (0, -1) Izquierda ) -->\n",
            "Now in S: (4, 0) --(A: (0, -1) Izquierda ) -->\n",
            "Now in S: (4, 0) --(A: (0, -1) Izquierda ) -->\n",
            "Now in S: (4, 0) --(A: (0, -1) Izquierda ) -->\n",
            "Now in S: (4, 0) --(A: (0, -1) Izquierda ) -->\n",
            "Now in S: (4, 0) --(A: (0, -1) Izquierda ) -->\n",
            "Now in S: (4, 0) --(A: (0, -1) Izquierda ) -->\n",
            "Now in S: (4, 0) --(A: (0, -1) Izquierda ) -->\n",
            "Now in S: (4, 0) --(A: (0, -1) Izquierda ) -->\n",
            "Now in S: (4, 0) --(A: (0, -1) Izquierda ) -->\n",
            "Now in S: (4, 0) --(A: (0, -1) Izquierda ) -->\n",
            "Now in S: (4, 0) --(A: (0, -1) Izquierda ) -->\n",
            "Now in S: (4, 0) --(A: (0, -1) Izquierda ) -->\n",
            "Now in S: (4, 0) --(A: (0, -1) Izquierda ) -->\n",
            "Now in S: (4, 0) --(A: (0, -1) Izquierda ) -->\n",
            "Now in S: (4, 0) --(A: (0, -1) Izquierda ) -->\n",
            "Now in S: (4, 0) --(A: (0, -1) Izquierda ) -->\n",
            "Now in S: (4, 0) --(A: (0, -1) Izquierda ) -->\n",
            "Now in S: (4, 0) --(A: (0, -1) Izquierda ) -->\n",
            "Now in S: (4, 0) --(A: (0, -1) Izquierda ) -->\n",
            "Now in S: (4, 0) --(A: (0, -1) Izquierda ) -->\n",
            "Now in S: (4, 0) --(A: (0, -1) Izquierda ) -->\n",
            "Now in S: (4, 0) --(A: (0, -1) Izquierda ) -->\n",
            "Now in S: (4, 0) --(A: (0, -1) Izquierda ) -->\n",
            "Now in S: (4, 0) --(A: (0, -1) Izquierda ) -->\n",
            "Now in S: (4, 0) --(A: (0, -1) Izquierda ) -->\n",
            "Now in S: (4, 0) --(A: (0, -1) Izquierda ) -->\n",
            "Now in S: (4, 0) --(A: (0, -1) Izquierda ) -->\n",
            "Now in S: (4, 0) --(A: (0, -1) Izquierda ) -->\n",
            "Now in S: (4, 0) --(A: (0, -1) Izquierda ) -->\n",
            "Now in S: (4, 0) --(A: (0, -1) Izquierda ) -->\n",
            "Now in S: (4, 0) --(A: (0, -1) Izquierda ) -->\n",
            "Now in S: (4, 0) --(A: (0, -1) Izquierda ) -->\n",
            "Now in S: (4, 0) --(A: (0, -1) Izquierda ) -->\n",
            "Now in S: (4, 0) --(A: (0, -1) Izquierda ) -->\n",
            "Now in S: (4, 0) --(A: (0, -1) Izquierda ) -->\n",
            "Now in S: (4, 0) --(A: (0, -1) Izquierda ) -->\n",
            "Now in S: (4, 0) --(A: (0, -1) Izquierda ) -->\n",
            "Now in S: (4, 0) --(A: (0, -1) Izquierda ) -->\n",
            "Now in S: (4, 0) --(A: (0, -1) Izquierda ) -->\n",
            "Now in S: (4, 0) --(A: (0, -1) Izquierda ) -->\n",
            "Now in S: (4, 0) --(A: (0, -1) Izquierda ) -->\n",
            "Now in S: (4, 0) --(A: (0, -1) Izquierda ) -->\n",
            "Now in S: (4, 0) --(A: (0, -1) Izquierda ) -->\n",
            "Now in S: (4, 0) --(A: (0, -1) Izquierda ) -->\n",
            "Now in S: (4, 0) --(A: (0, -1) Izquierda ) -->\n",
            "Now in S: (4, 0) --(A: (0, -1) Izquierda ) -->\n",
            "Now in S: (4, 0) --(A: (0, -1) Izquierda ) -->\n",
            "Now in S: (4, 0) --(A: (0, -1) Izquierda ) -->\n",
            "Now in S: (4, 0) --(A: (0, -1) Izquierda ) -->\n",
            "Now in S: (4, 0) --(A: (0, -1) Izquierda ) -->\n",
            "Now in S: (4, 0) --(A: (0, -1) Izquierda ) -->\n",
            "Now in S: (4, 0) --(A: (0, -1) Izquierda ) -->\n",
            "Now in S: (4, 0) --(A: (0, -1) Izquierda ) -->\n",
            "Now in S: (4, 0) --(A: (0, -1) Izquierda ) -->\n",
            "Now in S: (4, 0) --(A: (0, -1) Izquierda ) -->\n",
            "Now in S: (4, 0) --(A: (0, -1) Izquierda ) -->\n",
            "Now in S: (4, 0) --(A: (0, -1) Izquierda ) -->\n",
            "Now in S: (4, 0) --(A: (0, -1) Izquierda ) -->\n",
            "Now in S: (4, 0) --(A: (0, -1) Izquierda ) -->\n",
            "Now in S: (4, 0) --(A: (0, -1) Izquierda ) -->\n",
            "Now in S: (4, 0) --(A: (0, -1) Izquierda ) -->\n",
            "Now in S: (4, 0) --(A: (0, -1) Izquierda ) -->\n",
            "Now in S: (4, 0) --(A: (0, -1) Izquierda ) -->\n",
            "Now in S: (4, 0) --(A: (0, -1) Izquierda ) -->\n",
            "Now in S: (4, 0) --(A: (0, -1) Izquierda ) -->\n",
            "Now in S: (4, 0) --(A: (0, -1) Izquierda ) -->\n",
            "Now in S: (4, 0) --(A: (0, -1) Izquierda ) -->\n",
            "Now in S: (4, 0) --(A: (0, -1) Izquierda ) -->\n",
            "Now in S: (4, 0) --(A: (0, -1) Izquierda ) -->\n",
            "Now in S: (4, 0) --(A: (0, -1) Izquierda ) -->\n",
            "Now in S: (4, 0) --(A: (0, -1) Izquierda ) -->\n",
            "Now in S: (4, 0) --(A: (0, -1) Izquierda ) -->\n",
            "Now in S: (4, 0) --(A: (0, -1) Izquierda ) -->\n",
            "Now in S: (4, 0) --(A: (0, -1) Izquierda ) -->\n",
            "Now in S: (4, 0) --(A: (0, -1) Izquierda ) -->\n",
            "Now in S: (4, 0) --(A: (0, -1) Izquierda ) -->\n",
            "Now in S: (4, 0) --(A: (0, -1) Izquierda ) -->\n",
            "Now in S: (4, 0) --(A: (0, -1) Izquierda ) -->\n",
            "Now in S: (4, 0) --(A: (0, -1) Izquierda ) -->\n",
            "Now in S: (4, 0) --(A: (0, -1) Izquierda ) -->\n",
            "Now in S: (4, 0) --(A: (0, -1) Izquierda ) -->\n",
            "Now in S: (4, 0) --(A: (0, -1) Izquierda ) -->\n",
            "Now in S: (4, 0) --(A: (0, -1) Izquierda ) -->\n",
            "Now in S: (4, 0) --(A: (0, -1) Izquierda ) -->\n",
            "Now in S: (4, 0) --(A: (0, -1) Izquierda ) -->\n",
            "Now in S: (4, 0) --(A: (0, -1) Izquierda ) -->\n",
            "Now in S: (4, 0) --(A: (0, -1) Izquierda ) -->\n",
            "Now in S: (4, 0) --(A: (0, -1) Izquierda ) -->\n",
            "Now in S: (4, 0) --(A: (0, -1) Izquierda ) -->\n",
            "Now in S: (4, 0) --(A: (0, -1) Izquierda ) -->\n",
            "Now in S: (4, 0) --(A: (0, -1) Izquierda ) -->\n",
            "Now in S: (4, 0) --(A: (0, -1) Izquierda ) -->\n",
            "Now in S: (4, 0) --(A: (0, -1) Izquierda ) -->\n",
            "Now in S: (4, 0) --(A: (0, -1) Izquierda ) -->\n",
            "Now in S: (4, 0) --(A: (0, -1) Izquierda ) -->\n",
            "Now in S: (4, 0) --(A: (0, -1) Izquierda ) -->\n",
            "Now in S: (4, 0) --(A: (0, -1) Izquierda ) -->\n",
            "Now in S: (4, 0) --(A: (0, -1) Izquierda ) -->\n",
            "Now in S: (4, 0) --(A: (0, -1) Izquierda ) -->\n",
            "Now in S: (4, 0) --(A: (0, -1) Izquierda ) -->\n",
            "Now in S: (4, 0) --(A: (0, -1) Izquierda ) -->\n",
            "Now in S: (4, 0) --(A: (0, -1) Izquierda ) -->\n",
            "Now in S: (4, 0) --(A: (0, -1) Izquierda ) -->\n",
            "Now in S: (4, 0) --(A: (0, -1) Izquierda ) -->\n",
            "Now in S: (4, 0) --(A: (0, -1) Izquierda ) -->\n",
            "Now in S: (4, 0) --(A: (0, -1) Izquierda ) -->\n",
            "Now in S: (4, 0) --(A: (0, -1) Izquierda ) -->\n",
            "Now in S: (4, 0) --(A: (0, -1) Izquierda ) -->\n",
            "Now in S: (4, 0) --(A: (0, -1) Izquierda ) -->\n",
            "Now in S: (4, 0) --(A: (0, -1) Izquierda ) -->\n",
            "Now in S: (4, 0) --(A: (0, -1) Izquierda ) -->\n",
            "Now in S: (4, 0) --(A: (0, -1) Izquierda ) -->\n",
            "Now in S: (4, 0) --(A: (0, -1) Izquierda ) -->\n",
            "Now in S: (4, 0) --(A: (0, -1) Izquierda ) -->\n",
            "Now in S: (4, 0) --(A: (0, -1) Izquierda ) -->\n",
            "Now in S: (4, 0) --(A: (0, -1) Izquierda ) -->\n",
            "Now in S: (4, 0) --(A: (0, -1) Izquierda ) -->\n",
            "Now in S: (4, 0) --(A: (0, -1) Izquierda ) -->\n",
            "Now in S: (4, 0) --(A: (0, -1) Izquierda ) -->\n",
            "Now in S: (4, 0) --(A: (0, -1) Izquierda ) -->\n",
            "Now in S: (4, 0) --(A: (0, -1) Izquierda ) -->\n",
            "Now in S: (4, 0) --(A: (0, -1) Izquierda ) -->\n",
            "Now in S: (4, 0) --(A: (0, -1) Izquierda ) -->\n",
            "Now in S: (4, 0) --(A: (0, -1) Izquierda ) -->\n",
            "Now in S: (4, 0) --(A: (0, -1) Izquierda ) -->\n",
            "Now in S: (4, 0) --(A: (0, -1) Izquierda ) -->\n",
            "Now in S: (4, 0) --(A: (0, -1) Izquierda ) -->\n",
            "Now in S: (4, 0) --(A: (0, -1) Izquierda ) -->\n",
            "Now in S: (4, 0) --(A: (0, -1) Izquierda ) -->\n",
            "Now in S: (4, 0) --(A: (0, -1) Izquierda ) -->\n",
            "Now in S: (4, 0) --(A: (0, -1) Izquierda ) -->\n",
            "Now in S: (4, 0) --(A: (0, -1) Izquierda ) -->\n",
            "Now in S: (4, 0) --(A: (0, -1) Izquierda ) -->\n",
            "Now in S: (4, 0) --(A: (0, -1) Izquierda ) -->\n",
            "Now in S: (4, 0) --(A: (0, -1) Izquierda ) -->\n",
            "Now in S: (4, 0) --(A: (0, -1) Izquierda ) -->\n",
            "Now in S: (4, 0) --(A: (0, -1) Izquierda ) -->\n",
            "Now in S: (4, 0) --(A: (0, -1) Izquierda ) -->\n",
            "Now in S: (4, 0) --(A: (0, -1) Izquierda ) -->\n",
            "Now in S: (4, 0) --(A: (0, -1) Izquierda ) -->\n",
            "Now in S: (4, 0) --(A: (0, -1) Izquierda ) -->\n",
            "Now in S: (4, 0) --(A: (0, -1) Izquierda ) -->\n",
            "Now in S: (4, 0) --(A: (0, -1) Izquierda ) -->\n",
            "Now in S: (4, 0) --(A: (0, -1) Izquierda ) -->\n",
            "Now in S: (4, 0) --(A: (0, -1) Izquierda ) -->\n",
            "Now in S: (4, 0) --(A: (0, -1) Izquierda ) -->\n",
            "Now in S: (4, 0) --(A: (0, -1) Izquierda ) -->\n",
            "Now in S: (4, 0) --(A: (0, -1) Izquierda ) -->\n",
            "Now in S: (4, 0) --(A: (0, -1) Izquierda ) -->\n",
            "Now in S: (4, 0) --(A: (0, -1) Izquierda ) -->\n",
            "Now in S: (4, 0) --(A: (0, -1) Izquierda ) -->\n",
            "Now in S: (4, 0) --(A: (0, -1) Izquierda ) -->\n",
            "Now in S: (4, 0) --(A: (0, -1) Izquierda ) -->\n",
            "Now in S: (4, 0) --(A: (0, -1) Izquierda ) -->\n",
            "Now in S: (4, 0) --(A: (0, -1) Izquierda ) -->\n",
            "Now in S: (4, 0) --(A: (0, -1) Izquierda ) -->\n",
            "Now in S: (4, 0) --(A: (0, -1) Izquierda ) -->\n",
            "Now in S: (4, 0) --(A: (0, -1) Izquierda ) -->\n",
            "Now in S: (4, 0) --(A: (0, -1) Izquierda ) -->\n",
            "Now in S: (4, 0) --(A: (0, -1) Izquierda ) -->\n",
            "Now in S: (4, 0) --(A: (0, -1) Izquierda ) -->\n",
            "Now in S: (4, 0) --(A: (0, -1) Izquierda ) -->\n",
            "Now in S: (4, 0) --(A: (0, -1) Izquierda ) -->\n",
            "Now in S: (4, 0) --(A: (0, -1) Izquierda ) -->\n",
            "Now in S: (4, 0) --(A: (0, -1) Izquierda ) -->\n",
            "Now in S: (4, 0) --(A: (0, -1) Izquierda ) -->\n",
            "Now in S: (4, 0) --(A: (0, -1) Izquierda ) -->\n",
            "Now in S: (4, 0) --(A: (0, -1) Izquierda ) -->\n",
            "Now in S: (4, 0) --(A: (0, -1) Izquierda ) -->\n",
            "Now in S: (4, 0) --(A: (0, -1) Izquierda ) -->\n",
            "Now in S: (4, 0) --(A: (0, -1) Izquierda ) -->\n",
            "Now in S: (4, 0) --(A: (0, -1) Izquierda ) -->\n",
            "Now in S: (4, 0) --(A: (0, -1) Izquierda ) -->\n",
            "Now in S: (4, 0) --(A: (0, -1) Izquierda ) -->\n",
            "Now in S: (4, 0) --(A: (0, -1) Izquierda ) -->\n",
            "Now in S: (4, 0) --(A: (0, -1) Izquierda ) -->\n",
            "Now in S: (4, 0) --(A: (0, -1) Izquierda ) -->\n",
            "Now in S: (4, 0) --(A: (0, -1) Izquierda ) -->\n",
            "Now in S: (4, 0) --(A: (0, -1) Izquierda ) -->\n",
            "Now in S: (4, 0) --(A: (0, -1) Izquierda ) -->\n",
            "Now in S: (4, 0) --(A: (0, -1) Izquierda ) -->\n",
            "Now in S: (4, 0) --(A: (0, -1) Izquierda ) -->\n",
            "Now in S: (4, 0) --(A: (0, -1) Izquierda ) -->\n",
            "Now in S: (4, 0) --(A: (0, -1) Izquierda ) -->\n",
            "Now in S: (4, 0) --(A: (0, -1) Izquierda ) -->\n",
            "Now in S: (4, 0) --(A: (0, -1) Izquierda ) -->\n",
            "Now in S: (4, 0) --(A: (0, -1) Izquierda ) -->\n",
            "Now in S: (4, 0) --(A: (0, -1) Izquierda ) -->\n",
            "Now in S: (4, 0) --(A: (0, -1) Izquierda ) -->\n",
            "Now in S: (4, 0) --(A: (0, -1) Izquierda ) -->\n",
            "Now in S: (4, 0) --(A: (0, -1) Izquierda ) -->\n",
            "Now in S: (4, 0) --(A: (0, -1) Izquierda ) -->\n",
            "Now in S: (4, 0) --(A: (0, -1) Izquierda ) -->\n",
            "Now in S: (4, 0) --(A: (0, -1) Izquierda ) -->\n",
            "Now in S: (4, 0) --(A: (0, -1) Izquierda ) -->\n",
            "Now in S: (4, 0) --(A: (0, -1) Izquierda ) -->\n",
            "Now in S: (4, 0) --(A: (0, -1) Izquierda ) -->\n",
            "Now in S: (4, 0) --(A: (0, -1) Izquierda ) -->\n",
            "Now in S: (4, 0) --(A: (0, -1) Izquierda ) -->\n",
            "Now in S: (4, 0) --(A: (0, -1) Izquierda ) -->\n",
            "Now in S: (4, 0) --(A: (0, -1) Izquierda ) -->\n",
            "Now in S: (4, 0) --(A: (0, -1) Izquierda ) -->\n",
            "Now in S: (4, 0) --(A: (0, -1) Izquierda ) -->\n",
            "Now in S: (4, 0) --(A: (0, -1) Izquierda ) -->\n",
            "Now in S: (4, 0) --(A: (0, -1) Izquierda ) -->\n",
            "Now in S: (4, 0) --(A: (0, -1) Izquierda ) -->\n",
            "Now in S: (4, 0) --(A: (0, -1) Izquierda ) -->\n",
            "Now in S: (4, 0) --(A: (0, -1) Izquierda ) -->\n",
            "Now in S: (4, 0) --(A: (0, -1) Izquierda ) -->\n",
            "Now in S: (4, 0) --(A: (0, -1) Izquierda ) -->\n",
            "Now in S: (4, 0) --(A: (0, -1) Izquierda ) -->\n",
            "Now in S: (4, 0) --(A: (0, -1) Izquierda ) -->\n",
            "Now in S: (4, 0) --(A: (0, -1) Izquierda ) -->\n",
            "Now in S: (4, 0) --(A: (0, -1) Izquierda ) -->\n",
            "Now in S: (4, 0) --(A: (0, -1) Izquierda ) -->\n",
            "Now in S: (4, 0) --(A: (0, -1) Izquierda ) -->\n",
            "Now in S: (4, 0) --(A: (0, -1) Izquierda ) -->\n",
            "Now in S: (4, 0) --(A: (0, -1) Izquierda ) -->\n",
            "Now in S: (4, 0) --(A: (0, -1) Izquierda ) -->\n",
            "Now in S: (4, 0) --(A: (0, -1) Izquierda ) -->\n",
            "Now in S: (4, 0) --(A: (0, -1) Izquierda ) -->\n",
            "Now in S: (4, 0) --(A: (0, -1) Izquierda ) -->\n",
            "Now in S: (4, 0) --(A: (0, -1) Izquierda ) -->\n",
            "Now in S: (4, 0) --(A: (0, -1) Izquierda ) -->\n",
            "Now in S: (4, 0) --(A: (0, -1) Izquierda ) -->\n",
            "Now in S: (4, 0) --(A: (0, -1) Izquierda ) -->\n",
            "Now in S: (4, 0) --(A: (0, -1) Izquierda ) -->\n",
            "Now in S: (4, 0) --(A: (0, -1) Izquierda ) -->\n",
            "Now in S: (4, 0) --(A: (0, -1) Izquierda ) -->\n",
            "Now in S: (4, 0) --(A: (0, -1) Izquierda ) -->\n",
            "Now in S: (4, 0) --(A: (0, -1) Izquierda ) -->\n",
            "Now in S: (4, 0) --(A: (0, -1) Izquierda ) -->\n",
            "Now in S: (4, 0) --(A: (0, -1) Izquierda ) -->\n",
            "Now in S: (4, 0) --(A: (0, -1) Izquierda ) -->\n",
            "Now in S: (4, 0) --(A: (0, -1) Izquierda ) -->\n",
            "Now in S: (4, 0) --(A: (0, -1) Izquierda ) -->\n",
            "Now in S: (4, 0) --(A: (0, -1) Izquierda ) -->\n",
            "Now in S: (4, 0) --(A: (0, -1) Izquierda ) -->\n",
            "Now in S: (4, 0) --(A: (0, -1) Izquierda ) -->\n",
            "Now in S: (4, 0) --(A: (0, -1) Izquierda ) -->\n",
            "Now in S: (4, 0) --(A: (0, -1) Izquierda ) -->\n",
            "Now in S: (4, 0) --(A: (0, -1) Izquierda ) -->\n",
            "Now in S: (4, 0) --(A: (0, -1) Izquierda ) -->\n",
            "Now in S: (4, 0) --(A: (0, -1) Izquierda ) -->\n",
            "Now in S: (4, 0) --(A: (0, -1) Izquierda ) -->\n",
            "Now in S: (4, 0) --(A: (0, -1) Izquierda ) -->\n",
            "Now in S: (4, 0) --(A: (0, -1) Izquierda ) -->\n",
            "Now in S: (4, 0) --(A: (0, -1) Izquierda ) -->\n",
            "Now in S: (4, 0) --(A: (0, -1) Izquierda ) -->\n",
            "Now in S: (4, 0) --(A: (0, -1) Izquierda ) -->\n",
            "Now in S: (4, 0) --(A: (0, -1) Izquierda ) -->\n",
            "Now in S: (4, 0) --(A: (0, -1) Izquierda ) -->\n",
            "Now in S: (4, 0) --(A: (0, -1) Izquierda ) -->\n",
            "Now in S: (4, 0) --(A: (0, -1) Izquierda ) -->\n",
            "Now in S: (4, 0) --(A: (0, -1) Izquierda ) -->\n",
            "Now in S: (4, 0) --(A: (0, -1) Izquierda ) -->\n",
            "Now in S: (4, 0) --(A: (0, -1) Izquierda ) -->\n",
            "Now in S: (4, 0) --(A: (0, -1) Izquierda ) -->\n",
            "Now in S: (4, 0) --(A: (0, -1) Izquierda ) -->\n",
            "Now in S: (4, 0) --(A: (0, -1) Izquierda ) -->\n",
            "Now in S: (4, 0) --(A: (0, -1) Izquierda ) -->\n",
            "Now in S: (4, 0) --(A: (0, -1) Izquierda ) -->\n",
            "Now in S: (4, 0) --(A: (0, -1) Izquierda ) -->\n",
            "Now in S: (4, 0) --(A: (0, -1) Izquierda ) -->\n",
            "Now in S: (4, 0) --(A: (0, -1) Izquierda ) -->\n",
            "Now in S: (4, 0) --(A: (0, -1) Izquierda ) -->\n",
            "Now in S: (4, 0) --(A: (0, -1) Izquierda ) -->\n",
            "Now in S: (4, 0) --(A: (0, -1) Izquierda ) -->\n",
            "Now in S: (4, 0) --(A: (0, -1) Izquierda ) -->\n",
            "Now in S: (4, 0) --(A: (0, -1) Izquierda ) -->\n",
            "Now in S: (4, 0) --(A: (0, -1) Izquierda ) -->\n",
            "Now in S: (4, 0) --(A: (0, -1) Izquierda ) -->\n",
            "Now in S: (4, 0) --(A: (0, -1) Izquierda ) -->\n",
            "Now in S: (4, 0) --(A: (0, -1) Izquierda ) -->\n",
            "Now in S: (4, 0) --(A: (0, -1) Izquierda ) -->\n",
            "Now in S: (4, 0) --(A: (0, -1) Izquierda ) -->\n",
            "Now in S: (4, 0) --(A: (0, -1) Izquierda ) -->\n",
            "Now in S: (4, 0) --(A: (0, -1) Izquierda ) -->\n",
            "Now in S: (4, 0) --(A: (0, -1) Izquierda ) -->\n",
            "Now in S: (4, 0) --(A: (0, -1) Izquierda ) -->\n",
            "Now in S: (4, 0) --(A: (0, -1) Izquierda ) -->\n",
            "Now in S: (4, 0) --(A: (0, -1) Izquierda ) -->\n",
            "Now in S: (4, 0) --(A: (0, -1) Izquierda ) -->\n",
            "Now in S: (4, 0) --(A: (0, -1) Izquierda ) -->\n",
            "Now in S: (4, 0) --(A: (0, -1) Izquierda ) -->\n",
            "Now in S: (4, 0) --(A: (0, -1) Izquierda ) -->\n",
            "Now in S: (4, 0) --(A: (0, -1) Izquierda ) -->\n",
            "Now in S: (4, 0) --(A: (0, -1) Izquierda ) -->\n",
            "Now in S: (4, 0) --(A: (0, -1) Izquierda ) -->\n",
            "Now in S: (4, 0) --(A: (0, -1) Izquierda ) -->\n",
            "Now in S: (4, 0) --(A: (0, -1) Izquierda ) -->\n",
            "Now in S: (4, 0) --(A: (0, -1) Izquierda ) -->\n",
            "Now in S: (4, 0) --(A: (0, -1) Izquierda ) -->\n",
            "Now in S: (4, 0) --(A: (0, -1) Izquierda ) -->\n",
            "Now in S: (4, 0) --(A: (0, -1) Izquierda ) -->\n",
            "Now in S: (4, 0) --(A: (0, -1) Izquierda ) -->\n",
            "Now in S: (4, 0) --(A: (0, -1) Izquierda ) -->\n",
            "Now in S: (4, 0) --(A: (0, -1) Izquierda ) -->\n",
            "Now in S: (4, 0) --(A: (0, -1) Izquierda ) -->\n",
            "Now in S: (4, 0) --(A: (0, -1) Izquierda ) -->\n",
            "Now in S: (4, 0) --(A: (0, -1) Izquierda ) -->\n",
            "Now in S: (4, 0) --(A: (0, -1) Izquierda ) -->\n",
            "Now in S: (4, 0) --(A: (0, -1) Izquierda ) -->\n",
            "Now in S: (4, 0) --(A: (0, -1) Izquierda ) -->\n",
            "Now in S: (4, 0) --(A: (0, -1) Izquierda ) -->\n",
            "Now in S: (4, 0) --(A: (0, -1) Izquierda ) -->\n",
            "Now in S: (4, 0) --(A: (0, -1) Izquierda ) -->\n",
            "Now in S: (4, 0) --(A: (0, -1) Izquierda ) -->\n",
            "Now in S: (4, 0) --(A: (0, -1) Izquierda ) -->\n",
            "Now in S: (4, 0) --(A: (0, -1) Izquierda ) -->\n",
            "Now in S: (4, 0) --(A: (0, -1) Izquierda ) -->\n",
            "Now in S: (4, 0) --(A: (0, -1) Izquierda ) -->\n",
            "Now in S: (4, 0) --(A: (0, -1) Izquierda ) -->\n",
            "Now in S: (4, 0) --(A: (0, -1) Izquierda ) -->\n",
            "Now in S: (4, 0) --(A: (0, -1) Izquierda ) -->\n",
            "Now in S: (4, 0) --(A: (0, -1) Izquierda ) -->\n",
            "Now in S: (4, 0) --(A: (0, -1) Izquierda ) -->\n",
            "Now in S: (4, 0) --(A: (0, -1) Izquierda ) -->\n",
            "Now in S: (4, 0) --(A: (0, -1) Izquierda ) -->\n",
            "Now in S: (4, 0) --(A: (0, -1) Izquierda ) -->\n",
            "Now in S: (4, 0) --(A: (0, -1) Izquierda ) -->\n",
            "Now in S: (4, 0) --(A: (0, -1) Izquierda ) -->\n",
            "Now in S: (4, 0) --(A: (0, -1) Izquierda ) -->\n",
            "Now in S: (4, 0) --(A: (0, -1) Izquierda ) -->\n",
            "Now in S: (4, 0) --(A: (0, -1) Izquierda ) -->\n",
            "Now in S: (4, 0) --(A: (0, -1) Izquierda ) -->\n",
            "Now in S: (4, 0) --(A: (0, -1) Izquierda ) -->\n",
            "Now in S: (4, 0) --(A: (0, -1) Izquierda ) -->\n",
            "Now in S: (4, 0) --(A: (0, -1) Izquierda ) -->\n",
            "Now in S: (4, 0) --(A: (0, -1) Izquierda ) -->\n",
            "Now in S: (4, 0) --(A: (0, -1) Izquierda ) -->\n",
            "Now in S: (4, 0) --(A: (0, -1) Izquierda ) -->\n",
            "Now in S: (4, 0) --(A: (0, -1) Izquierda ) -->\n",
            "Now in S: (4, 0) --(A: (0, -1) Izquierda ) -->\n",
            "Now in S: (4, 0) --(A: (0, -1) Izquierda ) -->\n",
            "Now in S: (4, 0) --(A: (0, -1) Izquierda ) -->\n",
            "Now in S: (4, 0) --(A: (0, -1) Izquierda ) -->\n",
            "Now in S: (4, 0) --(A: (0, -1) Izquierda ) -->\n",
            "Now in S: (4, 0) --(A: (0, -1) Izquierda ) -->\n",
            "Now in S: (4, 0) --(A: (0, -1) Izquierda ) -->\n",
            "Now in S: (4, 0) --(A: (0, -1) Izquierda ) -->\n",
            "Now in S: (4, 0) --(A: (0, -1) Izquierda ) -->\n",
            "Now in S: (4, 0) --(A: (0, -1) Izquierda ) -->\n",
            "Now in S: (4, 0) --(A: (0, -1) Izquierda ) -->\n",
            "Now in S: (4, 0) --(A: (0, -1) Izquierda ) -->\n",
            "Now in S: (4, 0) --(A: (0, -1) Izquierda ) -->\n",
            "Now in S: (4, 0) --(A: (0, -1) Izquierda ) -->\n",
            "Now in S: (4, 0) --(A: (0, -1) Izquierda ) -->\n",
            "Now in S: (4, 0) --(A: (0, -1) Izquierda ) -->\n",
            "Now in S: (4, 0) --(A: (0, -1) Izquierda ) -->\n",
            "Now in S: (4, 0) --(A: (0, -1) Izquierda ) -->\n",
            "Now in S: (4, 0) --(A: (0, -1) Izquierda ) -->\n",
            "Now in S: (4, 0) --(A: (0, -1) Izquierda ) -->\n",
            "Now in S: (4, 0) --(A: (0, -1) Izquierda ) -->\n",
            "Now in S: (4, 0) --(A: (0, -1) Izquierda ) -->\n",
            "Now in S: (4, 0) --(A: (0, -1) Izquierda ) -->\n",
            "Now in S: (4, 0) --(A: (0, -1) Izquierda ) -->\n",
            "Now in S: (4, 0) --(A: (0, -1) Izquierda ) -->\n",
            "Now in S: (4, 0) --(A: (0, -1) Izquierda ) -->\n",
            "Now in S: (4, 0) --(A: (0, -1) Izquierda ) -->\n",
            "Now in S: (4, 0) --(A: (0, -1) Izquierda ) -->\n",
            "Now in S: (4, 0) --(A: (0, -1) Izquierda ) -->\n",
            "Now in S: (4, 0) --(A: (0, -1) Izquierda ) -->\n",
            "Now in S: (4, 0) --(A: (0, -1) Izquierda ) -->\n",
            "Now in S: (4, 0) --(A: (0, -1) Izquierda ) -->\n",
            "Now in S: (4, 0) --(A: (0, -1) Izquierda ) -->\n",
            "Now in S: (4, 0) --(A: (0, -1) Izquierda ) -->\n",
            "Now in S: (4, 0) --(A: (0, -1) Izquierda ) -->\n",
            "Now in S: (4, 0) --(A: (0, -1) Izquierda ) -->\n",
            "Now in S: (4, 0) --(A: (0, -1) Izquierda ) -->\n",
            "Now in S: (4, 0) --(A: (0, -1) Izquierda ) -->\n",
            "Now in S: (4, 0) --(A: (0, -1) Izquierda ) -->\n",
            "Now in S: (4, 0) --(A: (0, -1) Izquierda ) -->\n",
            "Now in S: (4, 0) --(A: (0, -1) Izquierda ) -->\n",
            "Now in S: (4, 0) --(A: (0, -1) Izquierda ) -->\n",
            "Now in S: (4, 0) --(A: (0, -1) Izquierda ) -->\n",
            "Now in S: (4, 0) --(A: (0, -1) Izquierda ) -->\n",
            "Now in S: (4, 0) --(A: (0, -1) Izquierda ) -->\n",
            "Now in S: (4, 0) --(A: (0, -1) Izquierda ) -->\n",
            "Now in S: (4, 0) --(A: (0, -1) Izquierda ) -->\n",
            "Now in S: (4, 0) --(A: (0, -1) Izquierda ) -->\n",
            "Now in S: (4, 0) --(A: (0, -1) Izquierda ) -->\n",
            "Now in S: (4, 0) --(A: (0, -1) Izquierda ) -->\n",
            "Now in S: (4, 0) --(A: (0, -1) Izquierda ) -->\n",
            "Now in S: (4, 0) --(A: (0, -1) Izquierda ) -->\n",
            "Now in S: (4, 0) --(A: (0, -1) Izquierda ) -->\n",
            "Now in S: (4, 0) --(A: (0, -1) Izquierda ) -->\n",
            "Now in S: (4, 0) --(A: (0, -1) Izquierda ) -->\n",
            "Now in S: (4, 0) --(A: (0, -1) Izquierda ) -->\n",
            "Now in S: (4, 0) --(A: (0, -1) Izquierda ) -->\n",
            "Now in S: (4, 0) --(A: (0, -1) Izquierda ) -->\n",
            "Now in S: (4, 0) --(A: (0, -1) Izquierda ) -->\n",
            "Now in S: (4, 0) --(A: (0, -1) Izquierda ) -->\n",
            "Now in S: (4, 0) --(A: (0, -1) Izquierda ) -->\n",
            "Now in S: (4, 0) --(A: (0, -1) Izquierda ) -->\n",
            "Now in S: (4, 0) --(A: (0, -1) Izquierda ) -->\n",
            "Now in S: (4, 0) --(A: (0, -1) Izquierda ) -->\n",
            "Now in S: (4, 0) --(A: (0, -1) Izquierda ) -->\n",
            "Now in S: (4, 0) --(A: (0, -1) Izquierda ) -->\n",
            "Now in S: (4, 0) --(A: (0, -1) Izquierda ) -->\n",
            "Now in S: (4, 0) --(A: (0, -1) Izquierda ) -->\n",
            "Now in S: (4, 0) --(A: (0, -1) Izquierda ) -->\n",
            "Now in S: (4, 0) --(A: (0, -1) Izquierda ) -->\n",
            "Now in S: (4, 0) --(A: (0, -1) Izquierda ) -->\n",
            "Now in S: (4, 0) --(A: (0, -1) Izquierda ) -->\n",
            "Now in S: (4, 0) --(A: (0, -1) Izquierda ) -->\n",
            "Now in S: (4, 0) --(A: (0, -1) Izquierda ) -->\n",
            "Now in S: (4, 0) --(A: (0, -1) Izquierda ) -->\n",
            "Now in S: (4, 0) --(A: (0, -1) Izquierda ) -->\n",
            "Now in S: (4, 0) --(A: (0, -1) Izquierda ) -->\n",
            "Now in S: (4, 0) --(A: (0, -1) Izquierda ) -->\n",
            "Now in S: (4, 0) --(A: (0, -1) Izquierda ) -->\n",
            "Now in S: (4, 0) --(A: (0, -1) Izquierda ) -->\n",
            "Now in S: (4, 0) --(A: (0, -1) Izquierda ) -->\n",
            "Now in S: (4, 0) --(A: (0, -1) Izquierda ) -->\n",
            "Now in S: (4, 0) --(A: (0, -1) Izquierda ) -->\n",
            "Now in S: (4, 0) --(A: (0, -1) Izquierda ) -->\n",
            "Now in S: (4, 0) --(A: (0, -1) Izquierda ) -->\n",
            "Now in S: (4, 0) --(A: (0, -1) Izquierda ) -->\n",
            "Now in S: (4, 0) --(A: (0, -1) Izquierda ) -->\n",
            "Now in S: (4, 0) --(A: (0, -1) Izquierda ) -->\n",
            "Now in S: (4, 0) --(A: (0, -1) Izquierda ) -->\n",
            "Now in S: (4, 0) --(A: (0, -1) Izquierda ) -->\n",
            "Now in S: (4, 0) --(A: (0, -1) Izquierda ) -->\n",
            "Now in S: (4, 0) --(A: (0, -1) Izquierda ) -->\n",
            "Now in S: (4, 0) --(A: (0, -1) Izquierda ) -->\n",
            "Now in S: (4, 0) --(A: (0, -1) Izquierda ) -->\n",
            "Now in S: (4, 0) --(A: (0, -1) Izquierda ) -->\n",
            "Now in S: (4, 0) --(A: (0, -1) Izquierda ) -->\n",
            "Now in S: (4, 0) --(A: (0, -1) Izquierda ) -->\n",
            "Now in S: (4, 0) --(A: (0, -1) Izquierda ) -->\n",
            "Now in S: (4, 0) --(A: (0, -1) Izquierda ) -->\n",
            "Now in S: (4, 0) --(A: (0, -1) Izquierda ) -->\n",
            "Now in S: (4, 0) --(A: (0, -1) Izquierda ) -->\n",
            "Now in S: (4, 0) --(A: (0, -1) Izquierda ) -->\n",
            "Now in S: (4, 0) --(A: (0, -1) Izquierda ) -->\n",
            "Now in S: (4, 0) --(A: (0, -1) Izquierda ) -->\n",
            "Now in S: (4, 0) --(A: (0, -1) Izquierda ) -->\n",
            "Now in S: (4, 0) --(A: (0, -1) Izquierda ) -->\n",
            "Now in S: (4, 0) --(A: (0, -1) Izquierda ) -->\n",
            "Now in S: (4, 0) --(A: (0, -1) Izquierda ) -->\n",
            "Now in S: (4, 0) --(A: (0, -1) Izquierda ) -->\n",
            "Now in S: (4, 0) --(A: (0, -1) Izquierda ) -->\n",
            "Now in S: (4, 0) --(A: (0, -1) Izquierda ) -->\n",
            "Now in S: (4, 0) --(A: (0, -1) Izquierda ) -->\n",
            "Now in S: (4, 0) --(A: (0, -1) Izquierda ) -->\n",
            "Now in S: (4, 0) --(A: (0, -1) Izquierda ) -->\n",
            "Now in S: (4, 0) --(A: (0, -1) Izquierda ) -->\n",
            "Now in S: (4, 0) --(A: (0, -1) Izquierda ) -->\n",
            "Now in S: (4, 0) --(A: (0, -1) Izquierda ) -->\n",
            "Now in S: (4, 0) --(A: (0, -1) Izquierda ) -->\n",
            "Now in S: (4, 0) --(A: (0, -1) Izquierda ) -->\n",
            "Now in S: (4, 0) --(A: (0, -1) Izquierda ) -->\n",
            "Now in S: (4, 0) --(A: (0, -1) Izquierda ) -->\n",
            "Now in S: (4, 0) --(A: (0, -1) Izquierda ) -->\n",
            "Now in S: (4, 0) --(A: (0, -1) Izquierda ) -->\n",
            "Now in S: (4, 0) --(A: (0, -1) Izquierda ) -->\n",
            "Now in S: (4, 0) --(A: (0, -1) Izquierda ) -->\n",
            "Now in S: (4, 0) --(A: (0, -1) Izquierda ) -->\n",
            "Now in S: (4, 0) --(A: (0, -1) Izquierda ) -->\n",
            "Now in S: (4, 0) --(A: (0, -1) Izquierda ) -->\n",
            "Now in S: (4, 0) --(A: (0, -1) Izquierda ) -->\n",
            "Now in S: (4, 0) --(A: (0, -1) Izquierda ) -->\n",
            "Now in S: (4, 0) --(A: (0, -1) Izquierda ) -->\n",
            "Now in S: (4, 0) --(A: (0, -1) Izquierda ) -->\n",
            "Now in S: (4, 0) --(A: (0, -1) Izquierda ) -->\n",
            "Now in S: (4, 0) --(A: (0, -1) Izquierda ) -->\n",
            "Now in S: (4, 0) --(A: (0, -1) Izquierda ) -->\n",
            "Now in S: (4, 0) --(A: (0, -1) Izquierda ) -->\n",
            "Now in S: (4, 0) --(A: (0, -1) Izquierda ) -->\n",
            "Now in S: (4, 0) --(A: (0, -1) Izquierda ) -->\n",
            "Now in S: (4, 0) --(A: (0, -1) Izquierda ) -->\n",
            "Now in S: (4, 0) --(A: (0, -1) Izquierda ) -->\n",
            "Now in S: (4, 0) --(A: (0, -1) Izquierda ) -->\n",
            "Now in S: (4, 0) --(A: (0, -1) Izquierda ) -->\n",
            "Now in S: (4, 0) --(A: (0, -1) Izquierda ) -->\n",
            "Now in S: (4, 0) --(A: (0, -1) Izquierda ) -->\n",
            "Now in S: (4, 0) --(A: (0, -1) Izquierda ) -->\n",
            "Now in S: (4, 0) --(A: (0, -1) Izquierda ) -->\n",
            "Now in S: (4, 0) --(A: (0, -1) Izquierda ) -->\n",
            "Now in S: (4, 0) --(A: (0, -1) Izquierda ) -->\n",
            "Now in S: (4, 0) --(A: (0, -1) Izquierda ) -->\n",
            "Now in S: (4, 0) --(A: (0, -1) Izquierda ) -->\n",
            "Now in S: (4, 0) --(A: (0, -1) Izquierda ) -->\n",
            "Now in S: (4, 0) --(A: (0, -1) Izquierda ) -->\n",
            "Now in S: (4, 0) --(A: (0, -1) Izquierda ) -->\n",
            "Now in S: (4, 0) --(A: (0, -1) Izquierda ) -->\n",
            "Now in S: (4, 0) --(A: (0, -1) Izquierda ) -->\n",
            "Now in S: (4, 0) --(A: (0, -1) Izquierda ) -->\n",
            "Now in S: (4, 0) --(A: (0, -1) Izquierda ) -->\n",
            "Now in S: (4, 0) --(A: (0, -1) Izquierda ) -->\n",
            "Now in S: (4, 0) --(A: (0, -1) Izquierda ) -->\n",
            "Now in S: (4, 0) --(A: (0, -1) Izquierda ) -->\n",
            "Now in S: (4, 0) --(A: (0, -1) Izquierda ) -->\n",
            "Now in S: (4, 0) --(A: (0, -1) Izquierda ) -->\n",
            "Now in S: (4, 0) --(A: (0, -1) Izquierda ) -->\n",
            "Now in S: (4, 0) --(A: (0, -1) Izquierda ) -->\n",
            "Now in S: (4, 0) --(A: (0, -1) Izquierda ) -->\n",
            "Now in S: (4, 0) --(A: (0, -1) Izquierda ) -->\n",
            "Now in S: (4, 0) --(A: (0, -1) Izquierda ) -->\n",
            "Now in S: (4, 0) --(A: (0, -1) Izquierda ) -->\n",
            "Now in S: (4, 0) --(A: (0, -1) Izquierda ) -->\n",
            "Now in S: (4, 0) --(A: (0, -1) Izquierda ) -->\n",
            "Now in S: (4, 0) --(A: (0, -1) Izquierda ) -->\n",
            "Now in S: (4, 0) --(A: (0, -1) Izquierda ) -->\n",
            "Now in S: (4, 0) --(A: (0, -1) Izquierda ) -->\n",
            "Now in S: (4, 0) --(A: (0, -1) Izquierda ) -->\n",
            "Now in S: (4, 0) --(A: (0, -1) Izquierda ) -->\n",
            "Now in S: (4, 0) --(A: (0, -1) Izquierda ) -->\n",
            "Now in S: (4, 0) --(A: (0, -1) Izquierda ) -->\n",
            "Now in S: (4, 0) --(A: (0, -1) Izquierda ) -->\n",
            "Now in S: (4, 0) --(A: (0, -1) Izquierda ) -->\n",
            "Now in S: (4, 0) --(A: (0, -1) Izquierda ) -->\n",
            "Now in S: (4, 0) --(A: (0, -1) Izquierda ) -->\n",
            "Now in S: (4, 0) --(A: (0, -1) Izquierda ) -->\n",
            "Now in S: (4, 0) --(A: (0, -1) Izquierda ) -->\n",
            "Now in S: (4, 0) --(A: (0, -1) Izquierda ) -->\n",
            "Now in S: (4, 0) --(A: (0, -1) Izquierda ) -->\n",
            "Now in S: (4, 0) --(A: (0, -1) Izquierda ) -->\n",
            "Now in S: (4, 0) --(A: (0, -1) Izquierda ) -->\n",
            "Now in S: (4, 0) --(A: (0, -1) Izquierda ) -->\n",
            "Now in S: (4, 0) --(A: (0, -1) Izquierda ) -->\n",
            "Now in S: (4, 0) --(A: (0, -1) Izquierda ) -->\n",
            "Now in S: (4, 0) --(A: (0, -1) Izquierda ) -->\n",
            "Now in S: (4, 0) --(A: (0, -1) Izquierda ) -->\n",
            "Now in S: (4, 0) --(A: (0, -1) Izquierda ) -->\n",
            "Now in S: (4, 0) --(A: (0, -1) Izquierda ) -->\n",
            "Now in S: (4, 0) --(A: (0, -1) Izquierda ) -->\n",
            "Now in S: (4, 0) --(A: (0, -1) Izquierda ) -->\n",
            "Now in S: (4, 0) --(A: (0, -1) Izquierda ) -->\n",
            "Now in S: (4, 0) --(A: (0, -1) Izquierda ) -->\n",
            "Now in S: (4, 0) --(A: (0, -1) Izquierda ) -->\n",
            "Now in S: (4, 0) --(A: (0, -1) Izquierda ) -->\n",
            "Now in S: (4, 0) --(A: (0, -1) Izquierda ) -->\n",
            "Now in S: (4, 0) --(A: (0, -1) Izquierda ) -->\n",
            "Now in S: (4, 0) --(A: (0, -1) Izquierda ) -->\n",
            "Now in S: (4, 0) --(A: (0, -1) Izquierda ) -->\n",
            "Now in S: (4, 0) --(A: (0, -1) Izquierda ) -->\n",
            "Now in S: (4, 0) --(A: (0, -1) Izquierda ) -->\n",
            "Now in S: (4, 0) --(A: (0, -1) Izquierda ) -->\n",
            "Now in S: (4, 0) --(A: (0, -1) Izquierda ) -->\n",
            "Now in S: (4, 0) --(A: (0, -1) Izquierda ) -->\n",
            "Now in S: (4, 0) --(A: (0, -1) Izquierda ) -->\n",
            "Now in S: (4, 0) --(A: (0, -1) Izquierda ) -->\n",
            "Now in S: (4, 0) --(A: (0, -1) Izquierda ) -->\n",
            "Now in S: (4, 0) --(A: (0, -1) Izquierda ) -->\n",
            "Now in S: (4, 0) --(A: (0, -1) Izquierda ) -->\n",
            "Now in S: (4, 0) --(A: (0, -1) Izquierda ) -->\n",
            "Now in S: (4, 0) --(A: (0, -1) Izquierda ) -->\n",
            "Now in S: (4, 0) --(A: (0, -1) Izquierda ) -->\n",
            "Now in S: (4, 0) --(A: (0, -1) Izquierda ) -->\n",
            "Now in S: (4, 0) --(A: (0, -1) Izquierda ) -->\n",
            "Now in S: (4, 0) --(A: (0, -1) Izquierda ) -->\n",
            "Now in S: (4, 0) --(A: (0, -1) Izquierda ) -->\n",
            "Now in S: (4, 0) --(A: (0, -1) Izquierda ) -->\n",
            "Now in S: (4, 0) --(A: (0, -1) Izquierda ) -->\n",
            "Now in S: (4, 0) --(A: (0, -1) Izquierda ) -->\n",
            "Now in S: (4, 0) --(A: (0, -1) Izquierda ) -->\n",
            "Now in S: (4, 0) --(A: (0, -1) Izquierda ) -->\n",
            "Now in S: (4, 0) --(A: (0, -1) Izquierda ) -->\n",
            "Now in S: (4, 0) --(A: (0, -1) Izquierda ) -->\n",
            "Now in S: (4, 0) --(A: (0, -1) Izquierda ) -->\n",
            "Now in S: (4, 0) --(A: (0, -1) Izquierda ) -->\n",
            "Now in S: (4, 0) --(A: (0, -1) Izquierda ) -->\n",
            "Now in S: (4, 0) --(A: (0, -1) Izquierda ) -->\n",
            "Now in S: (4, 0) --(A: (0, -1) Izquierda ) -->\n",
            "Now in S: (4, 0) --(A: (0, -1) Izquierda ) -->\n",
            "Now in S: (4, 0) --(A: (0, -1) Izquierda ) -->\n",
            "Now in S: (4, 0) --(A: (0, -1) Izquierda ) -->\n",
            "Now in S: (4, 0) --(A: (0, -1) Izquierda ) -->\n",
            "Now in S: (4, 0) --(A: (0, -1) Izquierda ) -->\n",
            "Now in S: (4, 0) --(A: (0, -1) Izquierda ) -->\n",
            "Now in S: (4, 0) --(A: (0, -1) Izquierda ) -->\n",
            "Now in S: (4, 0) --(A: (0, -1) Izquierda ) -->\n",
            "Now in S: (4, 0) --(A: (0, -1) Izquierda ) -->\n",
            "Now in S: (4, 0) --(A: (0, -1) Izquierda ) -->\n",
            "Now in S: (4, 0) --(A: (0, -1) Izquierda ) -->\n",
            "Now in S: (4, 0) --(A: (0, -1) Izquierda ) -->\n",
            "Now in S: (4, 0) --(A: (0, -1) Izquierda ) -->\n",
            "Now in S: (4, 0) --(A: (0, -1) Izquierda ) -->\n",
            "Now in S: (4, 0) --(A: (0, -1) Izquierda ) -->\n",
            "Now in S: (4, 0) --(A: (0, -1) Izquierda ) -->\n",
            "Now in S: (4, 0) --(A: (0, -1) Izquierda ) -->\n",
            "Now in S: (4, 0) --(A: (0, -1) Izquierda ) -->\n",
            "Now in S: (4, 0) --(A: (0, -1) Izquierda ) -->\n",
            "Now in S: (4, 0) --(A: (0, -1) Izquierda ) -->\n",
            "Now in S: (4, 0) --(A: (0, -1) Izquierda ) -->\n",
            "Now in S: (4, 0) --(A: (0, -1) Izquierda ) -->\n",
            "Now in S: (4, 0) --(A: (0, -1) Izquierda ) -->\n",
            "Now in S: (4, 0) --(A: (0, -1) Izquierda ) -->\n",
            "Now in S: (4, 0) --(A: (0, -1) Izquierda ) -->\n",
            "Now in S: (4, 0) --(A: (0, -1) Izquierda ) -->\n",
            "Now in S: (4, 0) --(A: (0, -1) Izquierda ) -->\n",
            "Now in S: (4, 0) --(A: (0, -1) Izquierda ) -->\n",
            "Now in S: (4, 0) --(A: (0, -1) Izquierda ) -->\n",
            "Now in S: (4, 0) --(A: (0, -1) Izquierda ) -->\n",
            "Now in S: (4, 0) --(A: (0, -1) Izquierda ) -->\n",
            "Now in S: (4, 0) --(A: (0, -1) Izquierda ) -->\n",
            "Now in S: (4, 0) --(A: (0, -1) Izquierda ) -->\n",
            "Now in S: (4, 0) --(A: (0, -1) Izquierda ) -->\n",
            "Now in S: (4, 0) --(A: (0, -1) Izquierda ) -->\n",
            "Now in S: (4, 0) --(A: (0, -1) Izquierda ) -->\n",
            "Now in S: (4, 0) --(A: (0, -1) Izquierda ) -->\n",
            "Now in S: (4, 0) --(A: (0, -1) Izquierda ) -->\n",
            "Now in S: (4, 0) --(A: (0, -1) Izquierda ) -->\n",
            "Now in S: (4, 0) --(A: (0, -1) Izquierda ) -->\n",
            "Now in S: (4, 0) --(A: (0, -1) Izquierda ) -->\n",
            "Now in S: (4, 0) --(A: (0, -1) Izquierda ) -->\n",
            "Now in S: (4, 0) --(A: (0, -1) Izquierda ) -->\n",
            "Now in S: (4, 0) --(A: (0, -1) Izquierda ) -->\n",
            "Now in S: (4, 0) --(A: (0, -1) Izquierda ) -->\n",
            "Now in S: (4, 0) --(A: (0, -1) Izquierda ) -->\n",
            "Now in S: (4, 0) --(A: (0, -1) Izquierda ) -->\n",
            "Now in S: (4, 0) --(A: (0, -1) Izquierda ) -->\n",
            "Now in S: (4, 0) --(A: (0, -1) Izquierda ) -->\n",
            "Now in S: (4, 0) --(A: (0, -1) Izquierda ) -->\n",
            "Now in S: (4, 0) --(A: (0, -1) Izquierda ) -->\n",
            "Now in S: (4, 0) --(A: (0, -1) Izquierda ) -->\n",
            "Now in S: (4, 0) --(A: (0, -1) Izquierda ) -->\n",
            "Now in S: (4, 0) --(A: (0, -1) Izquierda ) -->\n",
            "Now in S: (4, 0) --(A: (0, -1) Izquierda ) -->\n",
            "Now in S: (4, 0) --(A: (0, -1) Izquierda ) -->\n",
            "Now in S: (4, 0) --(A: (0, -1) Izquierda ) -->\n",
            "Now in S: (4, 0) --(A: (0, -1) Izquierda ) -->\n",
            "Now in S: (4, 0) --(A: (0, -1) Izquierda ) -->\n",
            "Now in S: (4, 0) --(A: (0, -1) Izquierda ) -->\n",
            "Now in S: (4, 0) --(A: (0, -1) Izquierda ) -->\n",
            "Now in S: (4, 0) --(A: (0, -1) Izquierda ) -->\n",
            "Now in S: (4, 0) --(A: (0, -1) Izquierda ) -->\n",
            "Now in S: (4, 0) --(A: (0, -1) Izquierda ) -->\n",
            "Now in S: (4, 0) --(A: (0, -1) Izquierda ) -->\n",
            "Now in S: (4, 0) --(A: (0, -1) Izquierda ) -->\n",
            "Now in S: (4, 0) --(A: (0, -1) Izquierda ) -->\n",
            "Now in S: (4, 0) --(A: (0, -1) Izquierda ) -->\n",
            "Now in S: (4, 0) --(A: (0, -1) Izquierda ) -->\n",
            "Now in S: (4, 0) --(A: (0, -1) Izquierda ) -->\n",
            "Now in S: (4, 0) --(A: (0, -1) Izquierda ) -->\n",
            "Now in S: (4, 0) --(A: (0, -1) Izquierda ) -->\n",
            "Now in S: (4, 0) --(A: (0, -1) Izquierda ) -->\n",
            "Now in S: (4, 0) --(A: (0, -1) Izquierda ) -->\n",
            "Now in S: (4, 0) --(A: (0, -1) Izquierda ) -->\n",
            "Now in S: (4, 0) --(A: (0, -1) Izquierda ) -->\n",
            "Now in S: (4, 0) --(A: (0, -1) Izquierda ) -->\n",
            "Now in S: (4, 0) --(A: (0, -1) Izquierda ) -->\n",
            "Now in S: (4, 0) --(A: (0, -1) Izquierda ) -->\n",
            "Now in S: (4, 0) --(A: (0, -1) Izquierda ) -->\n",
            "Now in S: (4, 0) --(A: (0, -1) Izquierda ) -->\n",
            "Now in S: (4, 0) --(A: (0, -1) Izquierda ) -->\n",
            "Now in S: (4, 0) --(A: (0, -1) Izquierda ) -->\n",
            "Now in S: (4, 0) --(A: (0, -1) Izquierda ) -->\n",
            "Now in S: (4, 0) --(A: (0, -1) Izquierda ) -->\n",
            "Now in S: (4, 0) --(A: (0, -1) Izquierda ) -->\n",
            "Now in S: (4, 0) --(A: (0, -1) Izquierda ) -->\n",
            "Now in S: (4, 0) --(A: (0, -1) Izquierda ) -->\n",
            "Now in S: (4, 0) --(A: (0, -1) Izquierda ) -->\n",
            "Now in S: (4, 0) --(A: (0, -1) Izquierda ) -->\n",
            "Now in S: (4, 0) --(A: (0, -1) Izquierda ) -->\n",
            "Now in S: (4, 0) --(A: (0, -1) Izquierda ) -->\n",
            "Now in S: (4, 0) --(A: (0, -1) Izquierda ) -->\n",
            "Now in S: (4, 0) --(A: (0, -1) Izquierda ) -->\n",
            "Now in S: (4, 0) --(A: (0, -1) Izquierda ) -->\n",
            "Now in S: (4, 0) --(A: (0, -1) Izquierda ) -->\n",
            "Now in S: (4, 0) --(A: (0, -1) Izquierda ) -->\n",
            "Now in S: (4, 0) --(A: (0, -1) Izquierda ) -->\n",
            "Now in S: (4, 0) --(A: (0, -1) Izquierda ) -->\n",
            "Now in S: (4, 0) --(A: (0, -1) Izquierda ) -->\n",
            "Now in S: (4, 0) --(A: (0, -1) Izquierda ) -->\n",
            "Now in S: (4, 0) --(A: (0, -1) Izquierda ) -->\n",
            "Now in S: (4, 0) --(A: (0, -1) Izquierda ) -->\n",
            "Now in S: (4, 0) --(A: (0, -1) Izquierda ) -->\n",
            "Now in S: (4, 0) --(A: (0, -1) Izquierda ) -->\n",
            "Now in S: (4, 0) --(A: (0, -1) Izquierda ) -->\n",
            "Now in S: (4, 0) --(A: (0, -1) Izquierda ) -->\n",
            "Now in S: (4, 0) --(A: (0, -1) Izquierda ) -->\n",
            "Now in S: (4, 0) --(A: (0, -1) Izquierda ) -->\n",
            "Now in S: (4, 0) --(A: (0, -1) Izquierda ) -->\n",
            "Now in S: (4, 0) --(A: (0, -1) Izquierda ) -->\n",
            "Now in S: (4, 0) --(A: (0, -1) Izquierda ) -->\n",
            "Now in S: (4, 0) --(A: (0, -1) Izquierda ) -->\n",
            "Now in S: (4, 0) --(A: (0, -1) Izquierda ) -->\n",
            "Now in S: (4, 0) --(A: (0, -1) Izquierda ) -->\n",
            "Now in S: (4, 0) --(A: (0, -1) Izquierda ) -->\n",
            "Now in S: (4, 0) --(A: (0, -1) Izquierda ) -->\n",
            "Now in S: (4, 0) --(A: (0, -1) Izquierda ) -->\n",
            "Now in S: (4, 0) --(A: (0, -1) Izquierda ) -->\n",
            "Now in S: (4, 0) --(A: (0, -1) Izquierda ) -->\n",
            "Now in S: (4, 0) --(A: (0, -1) Izquierda ) -->\n",
            "Now in S: (4, 0) --(A: (0, -1) Izquierda ) -->\n",
            "Now in S: (4, 0) --(A: (0, -1) Izquierda ) -->\n",
            "Now in S: (4, 0) --(A: (0, -1) Izquierda ) -->\n",
            "Now in S: (4, 0) --(A: (0, -1) Izquierda ) -->\n",
            "Now in S: (4, 0) --(A: (0, -1) Izquierda ) -->\n",
            "Now in S: (4, 0) --(A: (0, -1) Izquierda ) -->\n",
            "Now in S: (4, 0) --(A: (0, -1) Izquierda ) -->\n",
            "Now in S: (4, 0) --(A: (0, -1) Izquierda ) -->\n",
            "Now in S: (4, 0) --(A: (0, -1) Izquierda ) -->\n",
            "Now in S: (4, 0) --(A: (0, -1) Izquierda ) -->\n",
            "Now in S: (4, 0) --(A: (0, -1) Izquierda ) -->\n",
            "Now in S: (4, 0) --(A: (0, -1) Izquierda ) -->\n",
            "Now in S: (4, 0) --(A: (0, -1) Izquierda ) -->\n",
            "Now in S: (4, 0) --(A: (0, -1) Izquierda ) -->\n",
            "Now in S: (4, 0) --(A: (0, -1) Izquierda ) -->\n",
            "Now in S: (4, 0) --(A: (0, -1) Izquierda ) -->\n",
            "Now in S: (4, 0) --(A: (0, -1) Izquierda ) -->\n",
            "Now in S: (4, 0) --(A: (0, -1) Izquierda ) -->\n",
            "Now in S: (4, 0) --(A: (0, -1) Izquierda ) -->\n",
            "Now in S: (4, 0) --(A: (0, -1) Izquierda ) -->\n",
            "Now in S: (4, 0) --(A: (0, -1) Izquierda ) -->\n",
            "Now in S: (4, 0) --(A: (0, -1) Izquierda ) -->\n",
            "Now in S: (4, 0) --(A: (0, -1) Izquierda ) -->\n",
            "Now in S: (4, 0) --(A: (0, -1) Izquierda ) -->\n",
            "Now in S: (4, 0) --(A: (0, -1) Izquierda ) -->\n",
            "Now in S: (4, 0) --(A: (0, -1) Izquierda ) -->\n",
            "Now in S: (4, 0) --(A: (0, -1) Izquierda ) -->\n",
            "Now in S: (4, 0) --(A: (0, -1) Izquierda ) -->\n",
            "Now in S: (4, 0) --(A: (0, -1) Izquierda ) -->\n",
            "Now in S: (4, 0) --(A: (0, -1) Izquierda ) -->\n",
            "Now in S: (4, 0) --(A: (0, -1) Izquierda ) -->\n",
            "Now in S: (4, 0) --(A: (0, -1) Izquierda ) -->\n",
            "Now in S: (4, 0) --(A: (0, -1) Izquierda ) -->\n",
            "Now in S: (4, 0) --(A: (0, -1) Izquierda ) -->\n",
            "Now in S: (4, 0) --(A: (0, -1) Izquierda ) -->\n",
            "Now in S: (4, 0) --(A: (0, -1) Izquierda ) -->\n",
            "Now in S: (4, 0) --(A: (0, -1) Izquierda ) -->\n",
            "Now in S: (4, 0) --(A: (0, -1) Izquierda ) -->\n",
            "Now in S: (4, 0) --(A: (0, -1) Izquierda ) -->\n",
            "Now in S: (4, 0) --(A: (0, -1) Izquierda ) -->\n",
            "Now in S: (4, 0) --(A: (0, -1) Izquierda ) -->\n",
            "Now in S: (4, 0) --(A: (0, -1) Izquierda ) -->\n",
            "Now in S: (4, 0) --(A: (0, -1) Izquierda ) -->\n",
            "Now in S: (4, 0) --(A: (0, -1) Izquierda ) -->\n",
            "Now in S: (4, 0) --(A: (0, -1) Izquierda ) -->\n",
            "Now in S: (4, 0) --(A: (0, -1) Izquierda ) -->\n",
            "Now in S: (4, 0) --(A: (0, -1) Izquierda ) -->\n",
            "Now in S: (4, 0) --(A: (0, -1) Izquierda ) -->\n",
            "Now in S: (4, 0) --(A: (0, -1) Izquierda ) -->\n",
            "Now in S: (4, 0) --(A: (0, -1) Izquierda ) -->\n",
            "Now in S: (4, 0) --(A: (0, -1) Izquierda ) -->\n",
            "Now in S: (4, 0) --(A: (0, -1) Izquierda ) -->\n",
            "Now in S: (4, 0) --(A: (0, -1) Izquierda ) -->\n",
            "Now in S: (4, 0) --(A: (0, -1) Izquierda ) -->\n",
            "Now in S: (4, 0) --(A: (0, -1) Izquierda ) -->\n",
            "Now in S: (4, 0) --(A: (0, -1) Izquierda ) -->\n",
            "Now in S: (4, 0) --(A: (0, -1) Izquierda ) -->\n",
            "Now in S: (4, 0) --(A: (0, -1) Izquierda ) -->\n",
            "Now in S: (4, 0) --(A: (0, -1) Izquierda ) -->\n",
            "Now in S: (4, 0) --(A: (0, -1) Izquierda ) -->\n",
            "Now in S: (4, 0) --(A: (0, -1) Izquierda ) -->\n",
            "Now in S: (4, 0) --(A: (0, -1) Izquierda ) -->\n",
            "Now in S: (4, 0) --(A: (0, -1) Izquierda ) -->\n",
            "Now in S: (4, 0) --(A: (0, -1) Izquierda ) -->\n",
            "Now in S: (4, 0) --(A: (0, -1) Izquierda ) -->\n",
            "Now in S: (4, 0) --(A: (0, -1) Izquierda ) -->\n",
            "Now in S: (4, 0) --(A: (0, -1) Izquierda ) -->\n",
            "Now in S: (4, 0) --(A: (0, -1) Izquierda ) -->\n",
            "Now in S: (4, 0) --(A: (0, -1) Izquierda ) -->\n",
            "Now in S: (4, 0) --(A: (0, -1) Izquierda ) -->\n",
            "Now in S: (4, 0) --(A: (0, -1) Izquierda ) -->\n",
            "Now in S: (4, 0) --(A: (0, -1) Izquierda ) -->\n",
            "Now in S: (4, 0) --(A: (0, -1) Izquierda ) -->\n",
            "Now in S: (4, 0) --(A: (0, -1) Izquierda ) -->\n",
            "Now in S: (4, 0) --(A: (0, -1) Izquierda ) -->\n",
            "Now in S: (4, 0) --(A: (0, -1) Izquierda ) -->\n",
            "Now in S: (4, 0) --(A: (0, -1) Izquierda ) -->\n",
            "Now in S: (4, 0) --(A: (0, -1) Izquierda ) -->\n",
            "Now in S: (4, 0) --(A: (0, -1) Izquierda ) -->\n",
            "Now in S: (4, 0) --(A: (0, -1) Izquierda ) -->\n",
            "Now in S: (4, 0) --(A: (0, -1) Izquierda ) -->\n",
            "Now in S: (4, 0) --(A: (0, -1) Izquierda ) -->\n",
            "Now in S: (4, 0) --(A: (0, -1) Izquierda ) -->\n",
            "Now in S: (4, 0) --(A: (0, -1) Izquierda ) -->\n",
            "Now in S: (4, 0) --(A: (0, -1) Izquierda ) -->\n",
            "Now in S: (4, 0) --(A: (0, -1) Izquierda ) -->\n",
            "Now in S: (4, 0) --(A: (0, -1) Izquierda ) -->\n",
            "Now in S: (4, 0) --(A: (0, -1) Izquierda ) -->\n",
            "Now in S: (4, 0) --(A: (0, -1) Izquierda ) -->\n",
            "Now in S: (4, 0) --(A: (0, -1) Izquierda ) -->\n",
            "Now in S: (4, 0) --(A: (0, -1) Izquierda ) -->\n",
            "Now in S: (4, 0) --(A: (0, -1) Izquierda ) -->\n",
            "Now in S: (4, 0) --(A: (0, -1) Izquierda ) -->\n",
            "Now in S: (4, 0) --(A: (0, -1) Izquierda ) -->\n",
            "Now in S: (4, 0) --(A: (0, -1) Izquierda ) -->\n",
            "Now in S: (4, 0) --(A: (0, -1) Izquierda ) -->\n",
            "Now in S: (4, 0) --(A: (0, -1) Izquierda ) -->\n",
            "Now in S: (4, 0) --(A: (0, -1) Izquierda ) -->\n",
            "Now in S: (4, 0) --(A: (0, -1) Izquierda ) -->\n",
            "Now in S: (4, 0) --(A: (0, -1) Izquierda ) -->\n",
            "Now in S: (4, 0) --(A: (0, -1) Izquierda ) -->\n",
            "Now in S: (4, 0) --(A: (0, -1) Izquierda ) -->\n",
            "Now in S: (4, 0) --(A: (0, -1) Izquierda ) -->\n",
            "Now in S: (4, 0) --(A: (0, -1) Izquierda ) -->\n",
            "Now in S: (4, 0) --(A: (0, -1) Izquierda ) -->\n",
            "Now in S: (4, 0) --(A: (0, -1) Izquierda ) -->\n",
            "Now in S: (4, 0) --(A: (0, -1) Izquierda ) -->\n",
            "Now in S: (4, 0) --(A: (0, -1) Izquierda ) -->\n",
            "Now in S: (4, 0) --(A: (0, -1) Izquierda ) -->\n",
            "Now in S: (4, 0) --(A: (0, -1) Izquierda ) -->\n",
            "Now in S: (4, 0) --(A: (0, -1) Izquierda ) -->\n",
            "Now in S: (4, 0) --(A: (0, -1) Izquierda ) -->\n",
            "Now in S: (4, 0) --(A: (0, -1) Izquierda ) -->\n",
            "Now in S: (4, 0) --(A: (0, -1) Izquierda ) -->\n",
            "Now in S: (4, 0) --(A: (0, -1) Izquierda ) -->\n",
            "Now in S: (4, 0) --(A: (0, -1) Izquierda ) -->\n",
            "Now in S: (4, 0) --(A: (0, -1) Izquierda ) -->\n",
            "Now in S: (4, 0) --(A: (0, -1) Izquierda ) -->\n",
            "Now in S: (4, 0) --(A: (0, -1) Izquierda ) -->\n",
            "Now in S: (4, 0) --(A: (0, -1) Izquierda ) -->\n",
            "Now in S: (4, 0) --(A: (0, -1) Izquierda ) -->\n",
            "Now in S: (4, 0) --(A: (0, -1) Izquierda ) -->\n",
            "Now in S: (4, 0) --(A: (0, -1) Izquierda ) -->\n",
            "Now in S: (4, 0) --(A: (0, -1) Izquierda ) -->\n",
            "Now in S: (4, 0) --(A: (0, -1) Izquierda ) -->\n",
            "Now in S: (4, 0) --(A: (0, -1) Izquierda ) -->\n",
            "Now in S: (4, 0) --(A: (0, -1) Izquierda ) -->\n",
            "Now in S: (4, 0) --(A: (0, -1) Izquierda ) -->\n",
            "Now in S: (4, 0) --(A: (0, -1) Izquierda ) -->\n",
            "Now in S: (4, 0) --(A: (0, -1) Izquierda ) -->\n",
            "Now in S: (4, 0) --(A: (0, -1) Izquierda ) -->\n",
            "Now in S: (4, 0) --(A: (0, -1) Izquierda ) -->\n",
            "Now in S: (4, 0) --(A: (0, -1) Izquierda ) -->\n",
            "Now in S: (4, 0) --(A: (0, -1) Izquierda ) -->\n",
            "Now in S: (4, 0) --(A: (0, -1) Izquierda ) -->\n",
            "Now in S: (4, 0) --(A: (0, -1) Izquierda ) -->\n",
            "Now in S: (4, 0) --(A: (0, -1) Izquierda ) -->\n",
            "Now in S: (4, 0) --(A: (0, -1) Izquierda ) -->\n",
            "Now in S: (4, 0) --(A: (0, -1) Izquierda ) -->\n",
            "Now in S: (4, 0) --(A: (0, -1) Izquierda ) -->\n",
            "Now in S: (4, 0) --(A: (0, -1) Izquierda ) -->\n",
            "Now in S: (4, 0) --(A: (0, -1) Izquierda ) -->\n",
            "Now in S: (4, 0) --(A: (0, -1) Izquierda ) -->\n",
            "Now in S: (4, 0) --(A: (0, -1) Izquierda ) -->\n",
            "Now in S: (4, 0) --(A: (0, -1) Izquierda ) -->\n",
            "Now in S: (4, 0) --(A: (0, -1) Izquierda ) -->\n",
            "Now in S: (4, 0) --(A: (0, -1) Izquierda ) -->\n",
            "Now in S: (4, 0) --(A: (0, -1) Izquierda ) -->\n",
            "Now in S: (4, 0) --(A: (0, -1) Izquierda ) -->\n",
            "Now in S: (4, 0) --(A: (0, -1) Izquierda ) -->\n",
            "Now in S: (4, 0) --(A: (0, -1) Izquierda ) -->\n",
            "Now in S: (4, 0) --(A: (0, -1) Izquierda ) -->\n",
            "Now in S: (4, 0) --(A: (0, -1) Izquierda ) -->\n",
            "Now in S: (4, 0) --(A: (0, -1) Izquierda ) -->\n",
            "Now in S: (4, 0) --(A: (0, -1) Izquierda ) -->\n",
            "Now in S: (4, 0) --(A: (0, -1) Izquierda ) -->\n",
            "Now in S: (4, 0) --(A: (0, -1) Izquierda ) -->\n",
            "Now in S: (4, 0) --(A: (0, -1) Izquierda ) -->\n",
            "Now in S: (4, 0) --(A: (0, -1) Izquierda ) -->\n",
            "Now in S: (4, 0) --(A: (0, -1) Izquierda ) -->\n",
            "Now in S: (4, 0) --(A: (0, -1) Izquierda ) -->\n",
            "Now in S: (4, 0) --(A: (0, -1) Izquierda ) -->\n",
            "Now in S: (4, 0) --(A: (0, -1) Izquierda ) -->\n",
            "Now in S: (4, 0) --(A: (0, -1) Izquierda ) -->\n",
            "Now in S: (4, 0) --(A: (0, -1) Izquierda ) -->\n",
            "Now in S: (4, 0) --(A: (0, -1) Izquierda ) -->\n",
            "Now in S: (4, 0) --(A: (0, -1) Izquierda ) -->\n",
            "Now in S: (4, 0) --(A: (0, -1) Izquierda ) -->\n",
            "Now in S: (4, 0) --(A: (0, -1) Izquierda ) -->\n",
            "Now in S: (4, 0) --(A: (0, -1) Izquierda ) -->\n",
            "Now in S: (4, 0) --(A: (0, -1) Izquierda ) -->\n",
            "Now in S: (4, 0) --(A: (0, -1) Izquierda ) -->\n",
            "Now in S: (4, 0) --(A: (0, -1) Izquierda ) -->\n",
            "Now in S: (4, 0) --(A: (0, -1) Izquierda ) -->\n",
            "Now in S: (4, 0) --(A: (0, -1) Izquierda ) -->\n",
            "END:  1001 steps.\n"
          ]
        },
        {
          "output_type": "execute_result",
          "data": {
            "text/plain": [
              "1001"
            ]
          },
          "metadata": {},
          "execution_count": 52
        }
      ]
    },
    {
      "cell_type": "markdown",
      "source": [
        "Vemos como SARSA se queda atascado y **no consigue resolver este laberinto**"
      ],
      "metadata": {
        "id": "LeljddhZSSZc"
      }
    },
    {
      "cell_type": "markdown",
      "source": [
        "#### Q-Learning"
      ],
      "metadata": {
        "id": "yF6smJ7KS_I6"
      }
    },
    {
      "cell_type": "code",
      "source": [
        "agent_w4_ql = Agent(w4, (0, 0))\n",
        "Q_w4_ql, rewards_w4_ql = qlearning(agent_w4_ql,init_state = (0,0), alpha = 0.5,gamma = 0.9 ,  max_iterations =100000,debug = False)\n",
        "move_with_value_function(agent_w4_ql,Q_w4_ql, max_steps = 1000)"
      ],
      "metadata": {
        "colab": {
          "base_uri": "https://localhost:8080/"
        },
        "id": "_VN0IZv1S6iq",
        "outputId": "7cc61c1e-1e14-45b7-b5fd-0f9ab0c4d203"
      },
      "execution_count": 53,
      "outputs": [
        {
          "output_type": "stream",
          "name": "stdout",
          "text": [
            "Initial S: (0, 0) --(A: (1, 0) Abajo ) -->\n",
            "Now in S: (1, 0) --(A: (1, 0) Abajo ) -->\n",
            "Now in S: (2, 0) --(A: (1, 0) Abajo ) -->\n",
            "Now in S: (3, 0) --(A: (1, 0) Abajo ) -->\n",
            "Now in S: (4, 0) --(A: (0, 1) Derecha ) -->\n",
            "Now in S: (4, 1) --(A: (0, 1) Derecha ) -->\n",
            "Now in S: (4, 2) --(A: (-1, 0) Arriba ) -->\n",
            "Now in S: (3, 2) --(A: (-1, 0) Arriba ) -->\n",
            "Now in S: (2, 2) --(A: (0, 1) Derecha ) -->\n",
            "Now in S: (2, 3) --(A: (0, 1) Derecha ) -->\n",
            "Now in S: (2, 4) --(A: (1, 0) Abajo ) -->\n",
            "Now in S: (3, 4) --(A: (1, 0) Abajo ) -->\n",
            "Now in S: (4, 4) --(A: (1, 0) Abajo ) -->\n",
            "Now in S: (5, 4) --(A: (1, 0) Abajo ) -->\n",
            "Now in S: (6, 4) --(A: (1, 0) Abajo ) -->\n",
            "Now in S: (7, 4) --(A: (1, 0) Abajo ) -->\n",
            "Now in S: (8, 4) --(A: (1, 0) Abajo ) -->\n",
            "Now in S: (9, 4) --(A: (1, 0) Abajo ) -->\n",
            "Now in S: (10, 4) --(A: (1, 0) Abajo ) -->\n",
            "Now in S: (11, 4) --(A: (1, 0) Abajo ) -->\n",
            "Now in S: (12, 4) --(A: (0, -1) Izquierda ) -->\n",
            "Now in S: (12, 3) --(A: (0, -1) Izquierda ) -->\n",
            "Now in S: (12, 2) --(A: (-1, 0) Arriba ) -->\n",
            "Now in S: (11, 2) --(A: (-1, 0) Arriba ) -->\n",
            "Now in S: (10, 2) --(A: (-1, 0) Arriba ) -->\n",
            "Now in S: (9, 2) --(A: (-1, 0) Arriba ) -->\n",
            "Now in S: (8, 2) --(A: (0, -1) Izquierda ) -->\n",
            "Now in S: (8, 1) --(A: (0, -1) Izquierda ) -->\n",
            "Now in S: (8, 0) --(A: (1, 0) Abajo ) -->\n",
            "Now in S: (9, 0) --(A: (1, 0) Abajo ) -->\n",
            "Now in S: (10, 0) --(A: (1, 0) Abajo ) -->\n",
            "Now in S: (11, 0) --(A: (1, 0) Abajo ) -->\n",
            "Now in S: (12, 0) --(A: (1, 0) Abajo ) -->\n",
            "Now in S: (13, 0) --(A: (1, 0) Abajo ) -->\n",
            "Now in S: (14, 0) --(A: (0, 1) Derecha ) -->\n",
            "Now in S: (14, 1) --(A: (0, 1) Derecha ) -->\n",
            "Now in S: (14, 2) --(A: (0, 1) Derecha ) -->\n",
            "Now in S: (14, 3) --(A: (1, 0) Abajo ) -->\n",
            "Now in S: (15, 3) --(A: (0, 1) Derecha ) -->\n",
            "Now in S: (15, 4) --(A: (0, 1) Derecha ) -->\n",
            "Now in S: (15, 5) --(A: (-1, 0) Arriba ) -->\n",
            "Now in S: (14, 5) --(A: (0, 1) Derecha ) -->\n",
            "Now in S: (14, 6) --(A: (-1, 0) Arriba ) -->\n",
            "Now in S: (13, 6) --(A: (0, 1) Derecha ) -->\n",
            "Now in S: (13, 7) --(A: (-1, 0) Arriba ) -->\n",
            "Now in S: (12, 7) --(A: (-1, 0) Arriba ) -->\n",
            "Now in S: (11, 7) --(A: (0, 1) Derecha ) -->\n",
            "Now in S: (11, 8) --(A: (-1, 0) Arriba ) -->\n",
            "Now in S: (10, 8) --(A: (-1, 0) Arriba ) -->\n",
            "Now in S: (9, 8) --(A: (0, 1) Derecha ) -->\n",
            "Now in S: (9, 9) --(A: (0, 1) Derecha ) -->\n",
            "Now in S: (9, 10) --(A: (1, 0) Abajo ) -->\n",
            "Now in S: (10, 10) --(A: (1, 0) Abajo ) -->\n",
            "Now in S: (11, 10) --(A: (1, 0) Abajo ) -->\n",
            "Now in S: (12, 10) --(A: (1, 0) Abajo ) -->\n",
            "Now in S: (13, 10) --(A: (0, 1) Derecha ) -->\n",
            "Now in S: (13, 11) --(A: (0, 1) Derecha ) -->\n",
            "Now in S: (13, 12) --(A: (0, 1) Derecha ) -->\n",
            "Now in S: (13, 13) --(A: (0, 1) Derecha ) -->\n",
            "Now in S: (13, 14) --(A: (-1, 0) Arriba ) -->\n",
            "Now in S: (12, 14) --(A: (0, 1) Derecha ) -->\n",
            "Now in S: (12, 15) --(A: (0, 1) Derecha ) -->\n",
            "Now in S: (12, 16) --(A: (0, 1) Derecha ) -->\n",
            "Now in S: (12, 17) --(A: (0, 1) Derecha ) -->\n",
            "Now in S: (12, 18) --(A: (1, 0) Abajo ) -->\n",
            "Now in S: (13, 18) --(A: (1, 0) Abajo ) -->\n",
            "Now in S: (14, 18) --(A: (0, -1) Izquierda ) -->\n",
            "Now in S: (14, 17) --(A: (0, -1) Izquierda ) -->\n",
            "Now in S: (14, 16) --(A: (1, 0) Abajo ) -->\n",
            "Now in S: (15, 16) --(A: (1, 0) Abajo ) -->\n",
            "Now in S: (16, 16) --(A: (1, 0) Abajo ) -->\n",
            "Now in S: (17, 16) --(A: (1, 0) Abajo ) -->\n",
            "Now in S: (18, 16) --(A: (0, 1) Derecha ) -->\n",
            "Now in S: (18, 17) --(A: (0, 1) Derecha ) -->\n",
            "Now in S: (18, 18) --(A: (-1, 0) Arriba ) -->\n",
            "Now in S: (17, 18) --(A: (-1, 0) Arriba ) -->\n",
            "Now in S: (16, 18) --(A: (0, 1) Derecha ) -->\n",
            "Now in S: (16, 19) --(A: (0, 1) Derecha ) -->\n",
            "Now in S: (16, 20) --(A: (1, 0) Abajo ) -->\n",
            "Now in S: (17, 20) --(A: (1, 0) Abajo ) -->\n",
            "Now in S: (18, 20) --(A: (1, 0) Abajo ) -->\n",
            "Now in S: (19, 20) --(A: (1, 0) Abajo ) -->\n",
            "Now in S: (20, 20) --(A: (0, -1) Izquierda ) -->\n",
            "END:  82 steps.\n"
          ]
        },
        {
          "output_type": "execute_result",
          "data": {
            "text/plain": [
              "82"
            ]
          },
          "metadata": {},
          "execution_count": 53
        }
      ]
    },
    {
      "cell_type": "markdown",
      "source": [
        "#### **Rendimiento**\n",
        "\n"
      ],
      "metadata": {
        "id": "ll0tav-VpqMJ"
      }
    },
    {
      "cell_type": "markdown",
      "source": [
        "Vemos como este último laberinto Q-Learning sí ha sido capaz de resolverlo, pero SARSA no."
      ],
      "metadata": {
        "id": "ruxV42W3TbA0"
      }
    },
    {
      "cell_type": "code",
      "source": [
        "plot_performance(rewards_w4_sarsa, rewards_w4_ql,size = 10000,mean_each_n = 10)"
      ],
      "metadata": {
        "colab": {
          "base_uri": "https://localhost:8080/",
          "height": 542
        },
        "id": "e9w_SHmJnYEV",
        "outputId": "428be78c-4d7f-48cd-d673-7730014a4d93"
      },
      "execution_count": 54,
      "outputs": [
        {
          "output_type": "display_data",
          "data": {
            "text/html": [
              "<html>\n",
              "<head><meta charset=\"utf-8\" /></head>\n",
              "<body>\n",
              "    <div>            <script src=\"https://cdnjs.cloudflare.com/ajax/libs/mathjax/2.7.5/MathJax.js?config=TeX-AMS-MML_SVG\"></script><script type=\"text/javascript\">if (window.MathJax) {MathJax.Hub.Config({SVG: {font: \"STIX-Web\"}});}</script>                <script type=\"text/javascript\">window.PlotlyConfig = {MathJaxConfig: 'local'};</script>\n",
              "        <script src=\"https://cdn.plot.ly/plotly-2.8.3.min.js\"></script>                <div id=\"8d7bea30-a270-4c11-afb7-8883220624b0\" class=\"plotly-graph-div\" style=\"height:525px; width:100%;\"></div>            <script type=\"text/javascript\">                                    window.PLOTLYENV=window.PLOTLYENV || {};                                    if (document.getElementById(\"8d7bea30-a270-4c11-afb7-8883220624b0\")) {                    Plotly.newPlot(                        \"8d7bea30-a270-4c11-afb7-8883220624b0\",                        [{\"mode\":\"lines+markers\",\"name\":\"SARSA\",\"x\":[0,1,2,3,4,5,6,7,8,9,10,11,12,13,14,15,16,17,18,19,20,21,22,23,24,25,26,27,28,29,30,31,32,33,34,35,36,37,38,39,40,41,42,43,44,45,46,47,48,49,50,51,52,53,54,55,56,57,58,59,60,61,62,63,64,65,66,67,68,69,70,71,72,73,74,75,76,77,78,79,80,81,82,83,84,85,86,87,88,89,90,91,92,93,94,95,96,97,98,99,100,101,102,103,104,105,106,107,108,109,110,111,112,113,114,115,116,117,118,119,120,121,122,123,124,125,126,127,128,129,130,131,132,133,134,135,136,137,138,139,140,141,142,143,144,145,146,147,148,149,150,151,152,153,154,155,156,157,158,159,160,161,162,163,164,165,166,167,168,169,170,171,172,173,174,175,176,177,178,179,180,181,182,183,184,185,186,187,188,189,190,191,192,193,194,195,196,197,198,199,200,201,202,203,204,205,206,207,208,209,210,211,212,213,214,215,216,217,218,219,220,221,222,223,224,225,226,227,228,229,230,231,232,233,234,235,236,237,238,239,240,241,242,243,244,245,246,247,248,249,250,251,252,253,254,255,256,257,258,259,260,261,262,263,264,265,266,267,268,269,270,271,272,273,274,275,276,277,278,279,280,281,282,283,284,285,286,287,288,289,290,291,292,293,294,295,296,297,298,299,300,301,302,303,304,305,306,307,308,309,310,311,312,313,314,315,316,317,318,319,320,321,322,323,324,325,326,327,328,329,330,331,332,333,334,335,336,337,338,339,340,341,342,343,344,345,346,347,348,349,350,351,352,353,354,355,356,357,358,359,360,361,362,363,364,365,366,367,368,369,370,371,372,373,374,375,376,377,378,379,380,381,382,383,384,385,386,387,388,389,390,391,392,393,394,395,396,397,398,399,400,401,402,403,404,405,406,407,408,409,410,411,412,413,414,415,416,417,418,419,420,421,422,423,424,425,426,427,428,429,430,431,432,433,434,435,436,437,438,439,440,441,442,443,444,445,446,447,448,449,450,451,452,453,454,455,456,457,458,459,460,461,462,463,464,465,466,467,468,469,470,471,472,473,474,475,476,477,478,479,480,481,482,483,484,485,486,487,488,489,490,491,492,493,494,495,496,497,498,499,500,501,502,503,504,505,506,507,508,509,510,511,512,513,514,515,516,517,518,519,520,521,522,523,524,525,526,527,528,529,530,531,532,533,534,535,536,537,538,539,540,541,542,543,544,545,546,547,548,549,550,551,552,553,554,555,556,557,558,559,560,561,562,563,564,565,566,567,568,569,570,571,572,573,574,575,576,577,578,579,580,581,582,583,584,585,586,587,588,589,590,591,592,593,594,595,596,597,598,599,600,601,602,603,604,605,606,607,608,609,610,611,612,613,614,615,616,617,618,619,620,621,622,623,624,625,626,627,628,629,630,631,632,633,634,635,636,637,638,639,640,641,642,643,644,645,646,647,648,649,650,651,652,653,654,655,656,657,658,659,660,661,662,663,664,665,666,667,668,669,670,671,672,673,674,675,676,677,678,679,680,681,682,683,684,685,686,687,688,689,690,691,692,693,694,695,696,697,698,699,700,701,702,703,704,705,706,707,708,709,710,711,712,713,714,715,716,717,718,719,720,721,722,723,724,725,726,727,728,729,730,731,732,733,734,735,736,737,738,739,740,741,742,743,744,745,746,747,748,749,750,751,752,753,754,755,756,757,758,759,760,761,762,763,764,765,766,767,768,769,770,771,772,773,774,775,776,777,778,779,780,781,782,783,784,785,786,787,788,789,790,791,792,793,794,795,796,797,798,799,800,801,802,803,804,805,806,807,808,809,810,811,812,813,814,815,816,817,818,819,820,821,822,823,824,825,826,827,828,829,830,831,832,833,834,835,836,837,838,839,840,841,842,843,844,845,846,847,848,849,850,851,852,853,854,855,856,857,858,859,860,861,862,863,864,865,866,867,868,869,870,871,872,873,874,875,876,877,878,879,880,881,882,883,884,885,886,887,888,889,890,891,892,893,894,895,896,897,898,899,900,901,902,903,904,905,906,907,908,909,910,911,912,913,914,915,916,917,918,919,920,921,922,923,924,925,926,927,928,929,930,931,932,933,934,935,936,937,938,939,940,941,942,943,944,945,946,947,948,949,950,951,952,953,954,955,956,957,958,959,960,961,962,963,964,965,966,967,968,969,970,971,972,973,974,975,976,977,978,979,980,981,982,983,984,985,986,987,988,989,990,991,992,993,994,995,996,997,998,999],\"y\":[-13.669999999999998,-12.02,-11.870000000000001,-11.66,-13.05,-14.55,-17.61,-16.080000000000002,-17.8,-15.6,-12.47,-16.630000000000003,-14.75,-17.79,-15.55,-17.740000000000002,-17.75,-16.4,-16.65,-20.31,-18.740000000000002,-18.25,-17.369999999999997,-17.52,-12.65,-13.13,-16.61,-16.2,-16.19,-16.419999999999998,-18.330000000000002,-19.36,-16.2,-20.02,-17.66,-19.96,-15.48,-14.690000000000001,-14.330000000000002,-15.830000000000002,-13.940000000000001,-13.469999999999999,-11.379999999999999,-13.309999999999999,-11.83,-11.940000000000001,-14.419999999999998,-16.919999999999998,-22.06,-15.5,-13.41,-19.330000000000002,-16.95,-16.41,-14.86,-13.790000000000001,-15.13,-21.080000000000002,-17.32,-18.490000000000002,-16.14,-19.32,-17.080000000000002,-16.36,-20.759999999999998,-12.4,-13.6,-14.709999999999999,-12.48,-16.5,-12.129999999999999,-14.24,-13.41,-13.059999999999999,-12.91,-14.580000000000002,-15.809999999999999,-18.18,-18.07,-17.55,-22.259999999999998,-18.580000000000002,-13.05,-17.619999999999997,-16.330000000000002,-16.22,-14.959999999999999,-14.84,-13.66,-13.64,-16.7,-13.330000000000002,-17.330000000000002,-18.080000000000002,-20.02,-15.74,-15.76,-21.16,-14.669999999999998,-18.06,-12.16,-13.969999999999999,-13.530000000000001,-14.719999999999999,-15.23,-15.64,-14.27,-12.790000000000001,-16.85,-21.22,-17.86,-16.41,-14.330000000000002,-16.169999999999998,-14.559999999999999,-12.959999999999999,-12.22,-12.690000000000001,-14.290000000000001,-12.969999999999999,-20.2,-19.78,-13.75,-19.419999999999998,-17.619999999999997,-14.16,-14.6,-12.830000000000002,-12.290000000000001,-13.809999999999999,-15.719999999999999,-13.969999999999999,-15.99,-14.819999999999999,-15.87,-19.380000000000003,-15.59,-14.919999999999998,-18.169999999999998,-13.48,-17.73,-15.98,-18.869999999999997,-15.209999999999999,-15.219999999999999,-13.11,-14.1,-13.49,-13.26,-14.219999999999999,-19.04,-15.930000000000001,-16.41,-17.65,-17.39,-15.89,-13.9,-12.47,-18.09,-13.15,-17.29,-17.44,-18.130000000000003,-19.19,-16.5,-14.440000000000001,-14.969999999999999,-15.41,-16.080000000000002,-15.180000000000001,-14.9,-13.069999999999999,-14.280000000000001,-13.26,-15.27,-17.3,-15.569999999999999,-14.66,-20.669999999999998,-17.05,-19.52,-16.0,-20.69,-16.31,-17.57,-12.33,-13.819999999999999,-18.31,-16.95,-14.790000000000001,-15.440000000000001,-13.36,-15.59,-18.169999999999998,-14.6,-12.5,-15.84,-19.73,-19.119999999999997,-17.64,-17.330000000000002,-20.84,-17.14,-18.23,-22.61,-18.119999999999997,-17.259999999999998,-14.49,-19.52,-17.169999999999998,-24.240000000000002,-16.52,-16.9,-14.39,-22.57,-15.23,-17.02,-18.36,-12.16,-21.240000000000002,-20.009999999999998,-18.06,-18.259999999999998,-14.23,-19.240000000000002,-14.280000000000001,-14.469999999999999,-21.56,-18.36,-16.32,-13.88,-13.05,-20.7,-18.669999999999998,-15.6,-15.290000000000001,-15.319999999999999,-19.130000000000003,-21.11,-14.95,-15.469999999999999,-17.02,-16.54,-17.71,-17.009999999999998,-19.47,-15.4,-18.6,-20.05,-14.05,-19.080000000000002,-14.41,-13.95,-22.47,-16.68,-16.48,-15.219999999999999,-17.990000000000002,-15.02,-17.630000000000003,-16.29,-14.88,-17.06,-14.35,-19.32,-14.55,-21.880000000000003,-15.16,-16.419999999999998,-19.990000000000002,-17.07,-17.0,-13.319999999999999,-14.430000000000001,-20.41,-16.98,-14.48,-14.65,-11.57,-15.319999999999999,-23.369999999999997,-17.94,-16.06,-21.94,-16.080000000000002,-21.68,-18.880000000000003,-19.79,-15.86,-13.690000000000001,-14.430000000000001,-16.96,-15.180000000000001,-16.43,-15.25,-14.98,-19.330000000000002,-19.990000000000002,-20.82,-17.89,-18.81,-13.180000000000001,-17.48,-24.29,-17.47,-13.780000000000001,-17.84,-14.99,-16.669999999999998,-12.65,-13.13,-15.12,-14.430000000000001,-14.55,-15.27,-16.35,-16.6,-15.2,-17.47,-17.990000000000002,-18.18,-14.62,-20.54,-20.64,-19.75,-22.05,-17.080000000000002,-13.65,-14.559999999999999,-17.130000000000003,-13.84,-17.15,-17.18,-17.57,-13.209999999999999,-15.51,-19.75,-15.830000000000002,-16.8,-15.34,-14.74,-12.309999999999999,-13.459999999999999,-19.46,-15.16,-14.069999999999999,-17.09,-12.08,-14.819999999999999,-18.46,-16.43,-15.98,-16.14,-14.6,-13.180000000000001,-12.459999999999999,-14.41,-14.059999999999999,-16.4,-16.72,-15.99,-14.7,-15.309999999999999,-18.36,-14.95,-13.069999999999999,-13.540000000000001,-12.540000000000001,-14.8,-16.66,-13.75,-15.86,-14.76,-16.03,-17.119999999999997,-13.819999999999999,-14.37,-13.05,-12.75,-17.380000000000003,-23.29,-16.380000000000003,-13.52,-15.930000000000001,-22.36,-18.94,-16.66,-16.21,-14.02,-19.130000000000003,-17.07,-16.72,-17.1,-17.05,-14.27,-18.419999999999998,-13.319999999999999,-17.52,-14.809999999999999,-14.09,-15.35,-16.47,-18.07,-17.9,-16.830000000000002,-17.23,-15.52,-15.89,-15.11,-15.26,-12.540000000000001,-14.459999999999999,-16.490000000000002,-17.39,-14.530000000000001,-15.180000000000001,-19.05,-14.819999999999999,-14.61,-13.069999999999999,-16.04,-18.6,-17.43,-15.73,-16.73,-14.99,-13.059999999999999,-12.790000000000001,-12.61,-12.830000000000002,-15.13,-13.1,-14.75,-14.11,-12.42,-15.09,-19.0,-14.319999999999999,-15.61,-16.31,-14.51,-15.780000000000001,-16.2,-16.66,-17.3,-15.209999999999999,-16.05,-18.14,-18.21,-14.95,-15.309999999999999,-12.72,-12.72,-15.2,-14.419999999999998,-15.540000000000001,-15.080000000000002,-18.119999999999997,-12.35,-14.319999999999999,-15.690000000000001,-14.219999999999999,-14.74,-16.669999999999998,-19.21,-17.91,-16.82,-15.27,-18.78,-14.680000000000001,-13.540000000000001,-13.959999999999999,-12.26,-14.65,-14.34,-14.52,-16.1,-15.84,-14.89,-14.959999999999999,-14.87,-16.61,-15.080000000000002,-14.919999999999998,-14.12,-12.43,-14.12,-14.580000000000002,-16.330000000000002,-16.369999999999997,-18.57,-18.5,-17.240000000000002,-21.669999999999998,-16.97,-18.71,-14.6,-16.69,-14.469999999999999,-13.959999999999999,-13.0,-14.1,-13.25,-18.89,-18.580000000000002,-18.91,-15.180000000000001,-18.95,-19.43,-16.97,-22.52,-15.790000000000001,-17.09,-15.41,-14.669999999999998,-19.509999999999998,-21.630000000000003,-16.59,-15.9,-19.59,-15.309999999999999,-19.15,-15.49,-14.64,-14.99,-18.79,-17.130000000000003,-15.4,-14.940000000000001,-19.41,-13.459999999999999,-14.540000000000001,-21.31,-17.06,-18.19,-18.81,-15.969999999999999,-18.830000000000002,-17.240000000000002,-14.76,-13.190000000000001,-15.790000000000001,-16.869999999999997,-17.259999999999998,-21.2,-14.919999999999998,-14.809999999999999,-13.95,-17.16,-15.540000000000001,-19.81,-16.04,-17.580000000000002,-19.66,-15.74,-17.759999999999998,-17.169999999999998,-15.25,-15.719999999999999,-17.240000000000002,-16.45,-15.66,-13.01,-13.690000000000001,-13.919999999999998,-14.319999999999999,-13.38,-16.130000000000003,-15.6,-20.990000000000002,-19.369999999999997,-15.059999999999999,-17.47,-20.2,-21.759999999999998,-16.130000000000003,-19.91,-19.36,-18.64,-12.58,-13.819999999999999,-17.43,-19.990000000000002,-19.080000000000002,-15.680000000000001,-15.719999999999999,-14.5,-15.13,-13.66,-16.78,-12.290000000000001,-17.82,-15.95,-17.16,-18.330000000000002,-16.39,-17.39,-14.16,-13.87,-16.259999999999998,-12.95,-15.62,-16.93,-15.059999999999999,-15.24,-19.419999999999998,-14.530000000000001,-15.63,-15.290000000000001,-12.57,-17.3,-16.16,-22.93,-19.97,-14.95,-17.11,-14.1,-12.87,-15.41,-13.540000000000001,-13.05,-17.32,-14.7,-13.49,-12.74,-13.62,-16.71,-14.430000000000001,-14.190000000000001,-16.259999999999998,-17.91,-18.85,-15.27,-20.54,-12.58,-17.91,-14.7,-16.990000000000002,-14.45,-23.740000000000002,-12.49,-15.98,-14.969999999999999,-16.490000000000002,-16.97,-14.63,-14.77,-12.26,-15.059999999999999,-14.84,-15.34,-20.21,-16.64,-20.07,-18.27,-19.36,-19.05,-15.34,-17.19,-18.84,-14.99,-14.5,-13.8,-14.64,-17.94,-14.0,-15.73,-14.45,-16.18,-12.51,-17.18,-15.34,-18.1,-16.98,-18.919999999999998,-13.61,-16.96,-17.580000000000002,-17.009999999999998,-20.97,-19.259999999999998,-21.61,-18.75,-14.09,-23.119999999999997,-15.84,-13.13,-13.64,-13.11,-14.99,-15.690000000000001,-14.02,-17.85,-16.46,-15.16,-15.059999999999999,-18.130000000000003,-14.169999999999998,-12.91,-19.740000000000002,-16.22,-18.630000000000003,-12.61,-14.1,-15.02,-14.16,-14.690000000000001,-12.51,-13.41,-12.57,-14.84,-16.169999999999998,-14.95,-12.629999999999999,-12.35,-15.87,-13.09,-13.830000000000002,-14.209999999999999,-14.569999999999999,-12.790000000000001,-18.98,-18.69,-19.119999999999997,-18.39,-15.559999999999999,-18.91,-14.95,-14.91,-14.680000000000001,-13.98,-18.6,-22.28,-12.940000000000001,-14.86,-16.0,-16.04,-14.540000000000001,-13.190000000000001,-13.330000000000002,-16.81,-17.0,-16.1,-15.91,-19.869999999999997,-19.44,-16.57,-21.65,-13.3,-17.23,-15.89,-17.25,-16.59,-13.66,-19.9,-19.06,-15.440000000000001,-17.0,-19.8,-17.86,-16.380000000000003,-20.16,-16.0,-17.1,-14.65,-16.25,-16.85,-18.2,-15.430000000000001,-16.8,-17.19,-17.15,-16.419999999999998,-15.35,-18.44,-13.01,-17.009999999999998,-17.44,-15.14,-18.419999999999998,-16.32,-13.75,-15.16,-16.59,-14.23,-14.61,-17.39,-19.02,-18.06,-19.43,-14.89,-18.35,-17.77,-19.93,-17.259999999999998,-14.059999999999999,-18.73,-17.9,-16.46,-15.330000000000002,-16.330000000000002,-16.03,-19.06,-18.630000000000003,-17.669999999999998,-13.87,-13.76,-13.66,-14.12,-14.09,-15.930000000000001,-16.3,-14.76,-15.540000000000001,-14.77,-16.369999999999997,-13.77,-16.830000000000002,-15.64,-13.030000000000001,-17.71,-17.5,-19.54,-17.53,-14.169999999999998,-13.23,-19.57,-16.619999999999997,-12.309999999999999,-15.469999999999999,-12.26,-17.7,-14.819999999999999,-15.7,-12.99,-13.86,-13.3,-14.49,-14.24,-13.530000000000001,-16.69,-16.740000000000002,-15.819999999999999,-18.96,-16.41,-13.26,-16.6,-13.069999999999999,-14.01,-17.53,-18.94,-13.459999999999999,-18.14,-17.72,-17.48,-13.73,-19.82,-17.0,-19.31,-15.180000000000001,-14.209999999999999,-13.88,-16.380000000000003,-16.48,-19.05,-15.059999999999999,-16.28,-14.86,-15.76,-15.16,-13.290000000000001,-12.459999999999999,-13.830000000000002,-13.190000000000001,-13.059999999999999,-12.51,-13.59,-13.02,-12.819999999999999,-12.940000000000001,-17.31,-20.14,-16.98,-13.48,-13.26,-15.059999999999999,-14.069999999999999,-12.15,-16.72,-16.95,-16.44,-18.8,-17.64,-14.219999999999999,-16.759999999999998,-15.559999999999999,-16.580000000000002,-13.040000000000001,-13.319999999999999,-16.84,-19.6,-15.790000000000001,-16.53,-18.44,-15.37,-14.05,-14.419999999999998,-18.98,-15.11,-15.719999999999999,-13.13,-16.07,-19.35,-18.080000000000002,-14.969999999999999,-18.03,-16.39,-21.05,-18.630000000000003,-16.419999999999998,-17.03,-15.080000000000002,-14.790000000000001,-16.630000000000003,-15.540000000000001,-16.759999999999998,-16.46,-13.65,-14.7,-17.96,-16.32,-16.52,-15.569999999999999,-13.88,-14.5,-13.77,-14.86,-13.6,-16.990000000000002,-14.63,-12.440000000000001,-14.51,-12.78,-15.559999999999999,-11.57,-17.28,-12.690000000000001,-18.259999999999998,-17.830000000000002,-15.34,-18.05,-15.669999999999998,-16.57,-14.4,-16.72,-15.74,-16.72,-13.9,-16.48,-17.990000000000002,-18.59,-17.36,-13.080000000000002,-15.559999999999999,-19.61,-13.790000000000001,-20.9,-17.44,-16.89,-17.46,-18.580000000000002,-14.91,-13.069999999999999,-13.41,-15.76,-16.580000000000002,-15.86,-12.959999999999999,-16.4,-12.11,-15.38,-15.530000000000001,-15.61,-17.96,-14.169999999999998,-15.559999999999999,-14.559999999999999,-18.759999999999998,-12.620000000000001,-15.430000000000001,-17.509999999999998,-19.080000000000002,-16.869999999999997,-13.51,-12.91,-16.23,-16.27,-15.16,-17.04,-19.82],\"type\":\"scatter\"},{\"mode\":\"lines+markers\",\"name\":\"Q-Learning\",\"x\":[0,1,2,3,4,5,6,7,8,9,10,11,12,13,14,15,16,17,18,19,20,21,22,23,24,25,26,27,28,29,30,31,32,33,34,35,36,37,38,39,40,41,42,43,44,45,46,47,48,49,50,51,52,53,54,55,56,57,58,59,60,61,62,63,64,65,66,67,68,69,70,71,72,73,74,75,76,77,78,79,80,81,82,83,84,85,86,87,88,89,90,91,92,93,94,95,96,97,98,99,100,101,102,103,104,105,106,107,108,109,110,111,112,113,114,115,116,117,118,119,120,121,122,123,124,125,126,127,128,129,130,131,132,133,134,135,136,137,138,139,140,141,142,143,144,145,146,147,148,149,150,151,152,153,154,155,156,157,158,159,160,161,162,163,164,165,166,167,168,169,170,171,172,173,174,175,176,177,178,179,180,181,182,183,184,185,186,187,188,189,190,191,192,193,194,195,196,197,198,199,200,201,202,203,204,205,206,207,208,209,210,211,212,213,214,215,216,217,218,219,220,221,222,223,224,225,226,227,228,229,230,231,232,233,234,235,236,237,238,239,240,241,242,243,244,245,246,247,248,249,250,251,252,253,254,255,256,257,258,259,260,261,262,263,264,265,266,267,268,269,270,271,272,273,274,275,276,277,278,279,280,281,282,283,284,285,286,287,288,289,290,291,292,293,294,295,296,297,298,299,300,301,302,303,304,305,306,307,308,309,310,311,312,313,314,315,316,317,318,319,320,321,322,323,324,325,326,327,328,329,330,331,332,333,334,335,336,337,338,339,340,341,342,343,344,345,346,347,348,349,350,351,352,353,354,355,356,357,358,359,360,361,362,363,364,365,366,367,368,369,370,371,372,373,374,375,376,377,378,379,380,381,382,383,384,385,386,387,388,389,390,391,392,393,394,395,396,397,398,399,400,401,402,403,404,405,406,407,408,409,410,411,412,413,414,415,416,417,418,419,420,421,422,423,424,425,426,427,428,429,430,431,432,433,434,435,436,437,438,439,440,441,442,443,444,445,446,447,448,449,450,451,452,453,454,455,456,457,458,459,460,461,462,463,464,465,466,467,468,469,470,471,472,473,474,475,476,477,478,479,480,481,482,483,484,485,486,487,488,489,490,491,492,493,494,495,496,497,498,499,500,501,502,503,504,505,506,507,508,509,510,511,512,513,514,515,516,517,518,519,520,521,522,523,524,525,526,527,528,529,530,531,532,533,534,535,536,537,538,539,540,541,542,543,544,545,546,547,548,549,550,551,552,553,554,555,556,557,558,559,560,561,562,563,564,565,566,567,568,569,570,571,572,573,574,575,576,577,578,579,580,581,582,583,584,585,586,587,588,589,590,591,592,593,594,595,596,597,598,599,600,601,602,603,604,605,606,607,608,609,610,611,612,613,614,615,616,617,618,619,620,621,622,623,624,625,626,627,628,629,630,631,632,633,634,635,636,637,638,639,640,641,642,643,644,645,646,647,648,649,650,651,652,653,654,655,656,657,658,659,660,661,662,663,664,665,666,667,668,669,670,671,672,673,674,675,676,677,678,679,680,681,682,683,684,685,686,687,688,689,690,691,692,693,694,695,696,697,698,699,700,701,702,703,704,705,706,707,708,709,710,711,712,713,714,715,716,717,718,719,720,721,722,723,724,725,726,727,728,729,730,731,732,733,734,735,736,737,738,739,740,741,742,743,744,745,746,747,748,749,750,751,752,753,754,755,756,757,758,759,760,761,762,763,764,765,766,767,768,769,770,771,772,773,774,775,776,777,778,779,780,781,782,783,784,785,786,787,788,789,790,791,792,793,794,795,796,797,798,799,800,801,802,803,804,805,806,807,808,809,810,811,812,813,814,815,816,817,818,819,820,821,822,823,824,825,826,827,828,829,830,831,832,833,834,835,836,837,838,839,840,841,842,843,844,845,846,847,848,849,850,851,852,853,854,855,856,857,858,859,860,861,862,863,864,865,866,867,868,869,870,871,872,873,874,875,876,877,878,879,880,881,882,883,884,885,886,887,888,889,890,891,892,893,894,895,896,897,898,899,900,901,902,903,904,905,906,907,908,909,910,911,912,913,914,915,916,917,918,919,920,921,922,923,924,925,926,927,928,929,930,931,932,933,934,935,936,937,938,939,940,941,942,943,944,945,946,947,948,949,950,951,952,953,954,955,956,957,958,959,960,961,962,963,964,965,966,967,968,969,970,971,972,973,974,975,976,977,978,979,980,981,982,983,984,985,986,987,988,989,990,991,992,993,994,995,996,997,998,999],\"y\":[-1.3669999999999998,-1.202,-1.187,-1.166,-1.3050000000000002,-1.455,-1.761,-1.608,-1.78,-1.56,-1.247,-1.6630000000000003,-1.475,-1.779,-1.5550000000000002,-1.7740000000000002,-1.775,-1.64,-1.6649999999999998,-2.0309999999999997,-1.874,-1.825,-1.7369999999999997,-1.752,-1.2650000000000001,-1.3130000000000002,-1.661,-1.6199999999999999,-1.6190000000000002,-1.642,-1.8330000000000002,-1.936,-1.6199999999999999,-2.002,-1.766,-1.996,-1.548,-1.469,-1.4330000000000003,-1.5830000000000002,-1.3940000000000001,-1.347,-1.138,-1.331,-1.183,-1.1940000000000002,-1.4419999999999997,-1.6919999999999997,-2.206,-1.55,-1.341,-1.9330000000000003,-1.6949999999999998,-1.641,-1.486,-1.379,-1.5130000000000001,-2.108,-1.732,-1.8490000000000002,-1.614,-1.932,-1.7080000000000002,-1.636,-2.0759999999999996,-1.24,-1.3599999999999999,-1.4709999999999999,-1.248,-1.65,-1.2129999999999999,-1.424,-1.341,-1.3059999999999998,-1.291,-1.4580000000000002,-1.581,-1.818,-1.807,-1.7550000000000001,-2.226,-1.858,-1.3050000000000002,-1.7619999999999998,-1.6330000000000002,-1.6219999999999999,-1.496,-1.484,-1.366,-1.364,-1.67,-1.3330000000000002,-1.733,-1.8080000000000003,-2.002,-1.574,-1.576,-2.116,-1.4669999999999999,-1.8059999999999998,-1.216,-1.3969999999999998,-1.3530000000000002,-1.472,-1.5230000000000001,-1.564,-1.427,-1.2790000000000001,-1.685,-2.122,-1.786,-1.641,-1.4330000000000003,-1.6169999999999998,-1.456,-1.2959999999999998,-1.222,-1.2690000000000001,-1.429,-1.297,-2.02,-1.9780000000000002,-1.375,-1.9419999999999997,-1.7619999999999998,-1.416,-1.46,-1.2830000000000001,-1.229,-1.3809999999999998,-1.5719999999999998,-1.3969999999999998,-1.599,-1.4819999999999998,-1.587,-1.9380000000000002,-1.559,-1.4919999999999998,-1.8169999999999997,-1.348,-1.7730000000000001,-1.598,-1.8869999999999998,-1.521,-1.5219999999999998,-1.311,-1.41,-1.349,-1.326,-1.422,-1.904,-1.5930000000000002,-1.641,-1.765,-1.739,-1.589,-1.3900000000000001,-1.247,-1.809,-1.315,-1.7289999999999999,-1.7440000000000002,-1.8130000000000002,-1.919,-1.65,-1.4440000000000002,-1.4969999999999999,-1.541,-1.608,-1.5180000000000002,-1.49,-1.307,-1.4280000000000002,-1.326,-1.527,-1.73,-1.557,-1.466,-2.0669999999999997,-1.705,-1.952,-1.6,-2.069,-1.6309999999999998,-1.7570000000000001,-1.233,-1.382,-1.831,-1.6949999999999998,-1.479,-1.544,-1.3359999999999999,-1.559,-1.8169999999999997,-1.46,-1.25,-1.584,-1.973,-1.9119999999999997,-1.764,-1.733,-2.084,-1.714,-1.823,-2.261,-1.8119999999999998,-1.7259999999999998,-1.449,-1.952,-1.7169999999999999,-2.4240000000000004,-1.652,-1.69,-1.439,-2.257,-1.5230000000000001,-1.702,-1.8359999999999999,-1.216,-2.124,-2.001,-1.8059999999999998,-1.8259999999999998,-1.423,-1.9240000000000002,-1.4280000000000002,-1.4469999999999998,-2.1559999999999997,-1.8359999999999999,-1.6320000000000001,-1.3880000000000001,-1.3050000000000002,-2.07,-1.8669999999999998,-1.56,-1.5290000000000001,-1.5319999999999998,-1.9130000000000003,-2.1109999999999998,-1.4949999999999999,-1.547,-1.702,-1.654,-1.7710000000000001,-1.7009999999999998,-1.9469999999999998,-1.54,-1.86,-2.005,-1.405,-1.9080000000000001,-1.441,-1.395,-2.247,-1.668,-1.6480000000000001,-1.5219999999999998,-1.7990000000000002,-1.502,-1.7630000000000003,-1.629,-1.488,-1.706,-1.435,-1.932,-1.455,-2.188,-1.516,-1.642,-1.999,-1.707,-1.7,-1.3319999999999999,-1.443,-2.041,-1.698,-1.448,-1.465,-1.157,-1.5319999999999998,-2.3369999999999997,-1.794,-1.6059999999999999,-2.194,-1.608,-2.168,-1.8880000000000003,-1.9789999999999999,-1.5859999999999999,-1.3690000000000002,-1.443,-1.6960000000000002,-1.5180000000000002,-1.643,-1.525,-1.498,-1.9330000000000003,-1.999,-2.082,-1.7890000000000001,-1.8809999999999998,-1.318,-1.748,-2.429,-1.7469999999999999,-1.3780000000000001,-1.784,-1.499,-1.6669999999999998,-1.2650000000000001,-1.3130000000000002,-1.512,-1.443,-1.455,-1.527,-1.6350000000000002,-1.6600000000000001,-1.52,-1.7469999999999999,-1.7990000000000002,-1.818,-1.462,-2.054,-2.064,-1.975,-2.205,-1.7080000000000002,-1.365,-1.456,-1.7130000000000003,-1.384,-1.7149999999999999,-1.718,-1.7570000000000001,-1.321,-1.551,-1.975,-1.5830000000000002,-1.6800000000000002,-1.534,-1.474,-1.2309999999999999,-1.3459999999999999,-1.9460000000000002,-1.516,-1.4069999999999998,-1.709,-1.208,-1.4819999999999998,-1.846,-1.643,-1.598,-1.614,-1.46,-1.318,-1.246,-1.441,-1.406,-1.64,-1.672,-1.599,-1.47,-1.531,-1.8359999999999999,-1.4949999999999999,-1.307,-1.354,-1.254,-1.48,-1.666,-1.375,-1.5859999999999999,-1.476,-1.6030000000000002,-1.7119999999999997,-1.382,-1.4369999999999998,-1.3050000000000002,-1.275,-1.7380000000000002,-2.3289999999999997,-1.6380000000000003,-1.3519999999999999,-1.5930000000000002,-2.2359999999999998,-1.8940000000000001,-1.666,-1.621,-1.402,-1.9130000000000003,-1.707,-1.672,-1.7100000000000002,-1.705,-1.427,-1.8419999999999999,-1.3319999999999999,-1.752,-1.4809999999999999,-1.409,-1.535,-1.6469999999999998,-1.807,-1.7899999999999998,-1.6830000000000003,-1.723,-1.552,-1.589,-1.511,-1.526,-1.254,-1.446,-1.6490000000000002,-1.739,-1.453,-1.5180000000000002,-1.905,-1.4819999999999998,-1.4609999999999999,-1.307,-1.6039999999999999,-1.86,-1.7429999999999999,-1.573,-1.673,-1.499,-1.3059999999999998,-1.2790000000000001,-1.261,-1.2830000000000001,-1.5130000000000001,-1.31,-1.475,-1.411,-1.242,-1.509,-1.9,-1.432,-1.561,-1.6309999999999998,-1.451,-1.578,-1.6199999999999999,-1.666,-1.73,-1.521,-1.605,-1.814,-1.8210000000000002,-1.4949999999999999,-1.531,-1.272,-1.272,-1.52,-1.4419999999999997,-1.554,-1.5080000000000002,-1.8119999999999998,-1.2349999999999999,-1.432,-1.5690000000000002,-1.422,-1.474,-1.6669999999999998,-1.921,-1.791,-1.682,-1.527,-1.8780000000000001,-1.4680000000000002,-1.354,-1.396,-1.226,-1.465,-1.434,-1.452,-1.61,-1.584,-1.489,-1.496,-1.4869999999999999,-1.661,-1.5080000000000002,-1.4919999999999998,-1.412,-1.2429999999999999,-1.412,-1.4580000000000002,-1.6330000000000002,-1.6369999999999998,-1.857,-1.85,-1.7240000000000002,-2.167,-1.6969999999999998,-1.871,-1.46,-1.669,-1.4469999999999998,-1.396,-1.3,-1.41,-1.325,-1.889,-1.858,-1.891,-1.5180000000000002,-1.895,-1.943,-1.6969999999999998,-2.252,-1.5790000000000002,-1.709,-1.541,-1.4669999999999999,-1.9509999999999998,-2.1630000000000003,-1.659,-1.59,-1.959,-1.531,-1.9149999999999998,-1.549,-1.464,-1.499,-1.879,-1.7130000000000003,-1.54,-1.4940000000000002,-1.941,-1.3459999999999999,-1.4540000000000002,-2.131,-1.706,-1.8190000000000002,-1.8809999999999998,-1.597,-1.8830000000000002,-1.7240000000000002,-1.476,-1.3190000000000002,-1.5790000000000002,-1.6869999999999998,-1.7259999999999998,-2.12,-1.4919999999999998,-1.4809999999999999,-1.395,-1.716,-1.554,-1.9809999999999999,-1.6039999999999999,-1.7580000000000002,-1.966,-1.574,-1.7759999999999998,-1.7169999999999999,-1.525,-1.5719999999999998,-1.7240000000000002,-1.645,-1.566,-1.301,-1.3690000000000002,-1.392,-1.432,-1.338,-1.6130000000000002,-1.56,-2.099,-1.9369999999999998,-1.5059999999999998,-1.7469999999999999,-2.02,-2.1759999999999997,-1.6130000000000002,-1.991,-1.936,-1.864,-1.258,-1.382,-1.7429999999999999,-1.999,-1.9080000000000001,-1.568,-1.5719999999999998,-1.45,-1.5130000000000001,-1.366,-1.6780000000000002,-1.229,-1.782,-1.595,-1.716,-1.8330000000000002,-1.639,-1.739,-1.416,-1.387,-1.626,-1.295,-1.5619999999999998,-1.693,-1.5059999999999998,-1.524,-1.9419999999999997,-1.453,-1.5630000000000002,-1.5290000000000001,-1.2570000000000001,-1.73,-1.616,-2.293,-1.9969999999999999,-1.4949999999999999,-1.7109999999999999,-1.41,-1.287,-1.541,-1.354,-1.3050000000000002,-1.732,-1.47,-1.349,-1.274,-1.3619999999999999,-1.671,-1.443,-1.419,-1.626,-1.791,-1.8850000000000002,-1.527,-2.054,-1.258,-1.791,-1.47,-1.6990000000000003,-1.4449999999999998,-2.374,-1.249,-1.598,-1.4969999999999999,-1.6490000000000002,-1.6969999999999998,-1.463,-1.4769999999999999,-1.226,-1.5059999999999998,-1.484,-1.534,-2.021,-1.6640000000000001,-2.007,-1.827,-1.936,-1.905,-1.534,-1.719,-1.884,-1.499,-1.45,-1.3800000000000001,-1.464,-1.794,-1.4,-1.573,-1.4449999999999998,-1.6179999999999999,-1.251,-1.718,-1.534,-1.81,-1.698,-1.892,-1.361,-1.6960000000000002,-1.7580000000000002,-1.7009999999999998,-2.097,-1.9259999999999997,-2.161,-1.875,-1.409,-2.312,-1.584,-1.3130000000000002,-1.364,-1.311,-1.499,-1.5690000000000002,-1.402,-1.7850000000000001,-1.6460000000000001,-1.516,-1.5059999999999998,-1.8130000000000002,-1.4169999999999998,-1.291,-1.9740000000000002,-1.6219999999999999,-1.8630000000000002,-1.261,-1.41,-1.502,-1.416,-1.469,-1.251,-1.341,-1.2570000000000001,-1.484,-1.6169999999999998,-1.4949999999999999,-1.263,-1.2349999999999999,-1.587,-1.309,-1.3830000000000002,-1.4209999999999998,-1.4569999999999999,-1.2790000000000001,-1.8980000000000001,-1.8690000000000002,-1.9119999999999997,-1.839,-1.5559999999999998,-1.891,-1.4949999999999999,-1.491,-1.4680000000000002,-1.3980000000000001,-1.86,-2.228,-1.294,-1.486,-1.6,-1.6039999999999999,-1.4540000000000002,-1.3190000000000002,-1.3330000000000002,-1.6809999999999998,-1.7,-1.61,-1.591,-1.9869999999999997,-1.9440000000000002,-1.657,-2.165,-1.33,-1.723,-1.589,-1.725,-1.659,-1.366,-1.9899999999999998,-1.906,-1.544,-1.7,-1.98,-1.786,-1.6380000000000003,-2.016,-1.6,-1.7100000000000002,-1.465,-1.625,-1.685,-1.8199999999999998,-1.5430000000000001,-1.6800000000000002,-1.719,-1.7149999999999999,-1.642,-1.535,-1.844,-1.301,-1.7009999999999998,-1.7440000000000002,-1.514,-1.8419999999999999,-1.6320000000000001,-1.375,-1.516,-1.659,-1.423,-1.4609999999999999,-1.739,-1.902,-1.8059999999999998,-1.943,-1.489,-1.8350000000000002,-1.777,-1.9929999999999999,-1.7259999999999998,-1.406,-1.873,-1.7899999999999998,-1.6460000000000001,-1.5330000000000001,-1.6330000000000002,-1.6030000000000002,-1.906,-1.8630000000000002,-1.767,-1.387,-1.376,-1.366,-1.412,-1.409,-1.5930000000000002,-1.6300000000000001,-1.476,-1.554,-1.4769999999999999,-1.6369999999999998,-1.377,-1.6830000000000003,-1.564,-1.3030000000000002,-1.7710000000000001,-1.75,-1.954,-1.7530000000000001,-1.4169999999999998,-1.323,-1.957,-1.6619999999999997,-1.2309999999999999,-1.547,-1.226,-1.77,-1.4819999999999998,-1.5699999999999998,-1.299,-1.386,-1.33,-1.449,-1.424,-1.3530000000000002,-1.669,-1.6740000000000002,-1.5819999999999999,-1.8960000000000001,-1.641,-1.326,-1.6600000000000001,-1.307,-1.401,-1.7530000000000001,-1.8940000000000001,-1.3459999999999999,-1.814,-1.7719999999999998,-1.748,-1.373,-1.982,-1.7,-1.9309999999999998,-1.5180000000000002,-1.4209999999999998,-1.3880000000000001,-1.6380000000000003,-1.6480000000000001,-1.905,-1.5059999999999998,-1.6280000000000001,-1.486,-1.576,-1.516,-1.3290000000000002,-1.246,-1.3830000000000002,-1.3190000000000002,-1.3059999999999998,-1.251,-1.359,-1.302,-1.2819999999999998,-1.294,-1.7309999999999999,-2.0140000000000002,-1.698,-1.348,-1.326,-1.5059999999999998,-1.4069999999999998,-1.215,-1.672,-1.6949999999999998,-1.6440000000000001,-1.8800000000000001,-1.764,-1.422,-1.6759999999999997,-1.5559999999999998,-1.6580000000000001,-1.304,-1.3319999999999999,-1.684,-1.9600000000000002,-1.5790000000000002,-1.653,-1.844,-1.537,-1.405,-1.4419999999999997,-1.8980000000000001,-1.511,-1.5719999999999998,-1.3130000000000002,-1.607,-1.935,-1.8080000000000003,-1.4969999999999999,-1.8030000000000002,-1.639,-2.105,-1.8630000000000002,-1.642,-1.703,-1.5080000000000002,-1.479,-1.6630000000000003,-1.554,-1.6759999999999997,-1.6460000000000001,-1.365,-1.47,-1.796,-1.6320000000000001,-1.652,-1.557,-1.3880000000000001,-1.45,-1.377,-1.486,-1.3599999999999999,-1.6990000000000003,-1.463,-1.2440000000000002,-1.451,-1.278,-1.5559999999999998,-1.157,-1.7280000000000002,-1.2690000000000001,-1.8259999999999998,-1.7830000000000001,-1.534,-1.8050000000000002,-1.5669999999999997,-1.657,-1.44,-1.672,-1.574,-1.672,-1.3900000000000001,-1.6480000000000001,-1.7990000000000002,-1.859,-1.736,-1.3080000000000003,-1.5559999999999998,-1.9609999999999999,-1.379,-2.09,-1.7440000000000002,-1.689,-1.746,-1.858,-1.491,-1.307,-1.341,-1.576,-1.6580000000000001,-1.5859999999999999,-1.2959999999999998,-1.64,-1.2109999999999999,-1.538,-1.5530000000000002,-1.561,-1.796,-1.4169999999999998,-1.5559999999999998,-1.456,-1.876,-1.262,-1.5430000000000001,-1.751,-1.9080000000000001,-1.6869999999999998,-1.351,-1.291,-1.623,-1.627,-1.516,-1.704,-1.982],\"type\":\"scatter\"}],                        {\"template\":{\"data\":{\"bar\":[{\"error_x\":{\"color\":\"#2a3f5f\"},\"error_y\":{\"color\":\"#2a3f5f\"},\"marker\":{\"line\":{\"color\":\"#E5ECF6\",\"width\":0.5},\"pattern\":{\"fillmode\":\"overlay\",\"size\":10,\"solidity\":0.2}},\"type\":\"bar\"}],\"barpolar\":[{\"marker\":{\"line\":{\"color\":\"#E5ECF6\",\"width\":0.5},\"pattern\":{\"fillmode\":\"overlay\",\"size\":10,\"solidity\":0.2}},\"type\":\"barpolar\"}],\"carpet\":[{\"aaxis\":{\"endlinecolor\":\"#2a3f5f\",\"gridcolor\":\"white\",\"linecolor\":\"white\",\"minorgridcolor\":\"white\",\"startlinecolor\":\"#2a3f5f\"},\"baxis\":{\"endlinecolor\":\"#2a3f5f\",\"gridcolor\":\"white\",\"linecolor\":\"white\",\"minorgridcolor\":\"white\",\"startlinecolor\":\"#2a3f5f\"},\"type\":\"carpet\"}],\"choropleth\":[{\"colorbar\":{\"outlinewidth\":0,\"ticks\":\"\"},\"type\":\"choropleth\"}],\"contour\":[{\"colorbar\":{\"outlinewidth\":0,\"ticks\":\"\"},\"colorscale\":[[0.0,\"#0d0887\"],[0.1111111111111111,\"#46039f\"],[0.2222222222222222,\"#7201a8\"],[0.3333333333333333,\"#9c179e\"],[0.4444444444444444,\"#bd3786\"],[0.5555555555555556,\"#d8576b\"],[0.6666666666666666,\"#ed7953\"],[0.7777777777777778,\"#fb9f3a\"],[0.8888888888888888,\"#fdca26\"],[1.0,\"#f0f921\"]],\"type\":\"contour\"}],\"contourcarpet\":[{\"colorbar\":{\"outlinewidth\":0,\"ticks\":\"\"},\"type\":\"contourcarpet\"}],\"heatmap\":[{\"colorbar\":{\"outlinewidth\":0,\"ticks\":\"\"},\"colorscale\":[[0.0,\"#0d0887\"],[0.1111111111111111,\"#46039f\"],[0.2222222222222222,\"#7201a8\"],[0.3333333333333333,\"#9c179e\"],[0.4444444444444444,\"#bd3786\"],[0.5555555555555556,\"#d8576b\"],[0.6666666666666666,\"#ed7953\"],[0.7777777777777778,\"#fb9f3a\"],[0.8888888888888888,\"#fdca26\"],[1.0,\"#f0f921\"]],\"type\":\"heatmap\"}],\"heatmapgl\":[{\"colorbar\":{\"outlinewidth\":0,\"ticks\":\"\"},\"colorscale\":[[0.0,\"#0d0887\"],[0.1111111111111111,\"#46039f\"],[0.2222222222222222,\"#7201a8\"],[0.3333333333333333,\"#9c179e\"],[0.4444444444444444,\"#bd3786\"],[0.5555555555555556,\"#d8576b\"],[0.6666666666666666,\"#ed7953\"],[0.7777777777777778,\"#fb9f3a\"],[0.8888888888888888,\"#fdca26\"],[1.0,\"#f0f921\"]],\"type\":\"heatmapgl\"}],\"histogram\":[{\"marker\":{\"pattern\":{\"fillmode\":\"overlay\",\"size\":10,\"solidity\":0.2}},\"type\":\"histogram\"}],\"histogram2d\":[{\"colorbar\":{\"outlinewidth\":0,\"ticks\":\"\"},\"colorscale\":[[0.0,\"#0d0887\"],[0.1111111111111111,\"#46039f\"],[0.2222222222222222,\"#7201a8\"],[0.3333333333333333,\"#9c179e\"],[0.4444444444444444,\"#bd3786\"],[0.5555555555555556,\"#d8576b\"],[0.6666666666666666,\"#ed7953\"],[0.7777777777777778,\"#fb9f3a\"],[0.8888888888888888,\"#fdca26\"],[1.0,\"#f0f921\"]],\"type\":\"histogram2d\"}],\"histogram2dcontour\":[{\"colorbar\":{\"outlinewidth\":0,\"ticks\":\"\"},\"colorscale\":[[0.0,\"#0d0887\"],[0.1111111111111111,\"#46039f\"],[0.2222222222222222,\"#7201a8\"],[0.3333333333333333,\"#9c179e\"],[0.4444444444444444,\"#bd3786\"],[0.5555555555555556,\"#d8576b\"],[0.6666666666666666,\"#ed7953\"],[0.7777777777777778,\"#fb9f3a\"],[0.8888888888888888,\"#fdca26\"],[1.0,\"#f0f921\"]],\"type\":\"histogram2dcontour\"}],\"mesh3d\":[{\"colorbar\":{\"outlinewidth\":0,\"ticks\":\"\"},\"type\":\"mesh3d\"}],\"parcoords\":[{\"line\":{\"colorbar\":{\"outlinewidth\":0,\"ticks\":\"\"}},\"type\":\"parcoords\"}],\"pie\":[{\"automargin\":true,\"type\":\"pie\"}],\"scatter\":[{\"marker\":{\"colorbar\":{\"outlinewidth\":0,\"ticks\":\"\"}},\"type\":\"scatter\"}],\"scatter3d\":[{\"line\":{\"colorbar\":{\"outlinewidth\":0,\"ticks\":\"\"}},\"marker\":{\"colorbar\":{\"outlinewidth\":0,\"ticks\":\"\"}},\"type\":\"scatter3d\"}],\"scattercarpet\":[{\"marker\":{\"colorbar\":{\"outlinewidth\":0,\"ticks\":\"\"}},\"type\":\"scattercarpet\"}],\"scattergeo\":[{\"marker\":{\"colorbar\":{\"outlinewidth\":0,\"ticks\":\"\"}},\"type\":\"scattergeo\"}],\"scattergl\":[{\"marker\":{\"colorbar\":{\"outlinewidth\":0,\"ticks\":\"\"}},\"type\":\"scattergl\"}],\"scattermapbox\":[{\"marker\":{\"colorbar\":{\"outlinewidth\":0,\"ticks\":\"\"}},\"type\":\"scattermapbox\"}],\"scatterpolar\":[{\"marker\":{\"colorbar\":{\"outlinewidth\":0,\"ticks\":\"\"}},\"type\":\"scatterpolar\"}],\"scatterpolargl\":[{\"marker\":{\"colorbar\":{\"outlinewidth\":0,\"ticks\":\"\"}},\"type\":\"scatterpolargl\"}],\"scatterternary\":[{\"marker\":{\"colorbar\":{\"outlinewidth\":0,\"ticks\":\"\"}},\"type\":\"scatterternary\"}],\"surface\":[{\"colorbar\":{\"outlinewidth\":0,\"ticks\":\"\"},\"colorscale\":[[0.0,\"#0d0887\"],[0.1111111111111111,\"#46039f\"],[0.2222222222222222,\"#7201a8\"],[0.3333333333333333,\"#9c179e\"],[0.4444444444444444,\"#bd3786\"],[0.5555555555555556,\"#d8576b\"],[0.6666666666666666,\"#ed7953\"],[0.7777777777777778,\"#fb9f3a\"],[0.8888888888888888,\"#fdca26\"],[1.0,\"#f0f921\"]],\"type\":\"surface\"}],\"table\":[{\"cells\":{\"fill\":{\"color\":\"#EBF0F8\"},\"line\":{\"color\":\"white\"}},\"header\":{\"fill\":{\"color\":\"#C8D4E3\"},\"line\":{\"color\":\"white\"}},\"type\":\"table\"}]},\"layout\":{\"annotationdefaults\":{\"arrowcolor\":\"#2a3f5f\",\"arrowhead\":0,\"arrowwidth\":1},\"autotypenumbers\":\"strict\",\"coloraxis\":{\"colorbar\":{\"outlinewidth\":0,\"ticks\":\"\"}},\"colorscale\":{\"diverging\":[[0,\"#8e0152\"],[0.1,\"#c51b7d\"],[0.2,\"#de77ae\"],[0.3,\"#f1b6da\"],[0.4,\"#fde0ef\"],[0.5,\"#f7f7f7\"],[0.6,\"#e6f5d0\"],[0.7,\"#b8e186\"],[0.8,\"#7fbc41\"],[0.9,\"#4d9221\"],[1,\"#276419\"]],\"sequential\":[[0.0,\"#0d0887\"],[0.1111111111111111,\"#46039f\"],[0.2222222222222222,\"#7201a8\"],[0.3333333333333333,\"#9c179e\"],[0.4444444444444444,\"#bd3786\"],[0.5555555555555556,\"#d8576b\"],[0.6666666666666666,\"#ed7953\"],[0.7777777777777778,\"#fb9f3a\"],[0.8888888888888888,\"#fdca26\"],[1.0,\"#f0f921\"]],\"sequentialminus\":[[0.0,\"#0d0887\"],[0.1111111111111111,\"#46039f\"],[0.2222222222222222,\"#7201a8\"],[0.3333333333333333,\"#9c179e\"],[0.4444444444444444,\"#bd3786\"],[0.5555555555555556,\"#d8576b\"],[0.6666666666666666,\"#ed7953\"],[0.7777777777777778,\"#fb9f3a\"],[0.8888888888888888,\"#fdca26\"],[1.0,\"#f0f921\"]]},\"colorway\":[\"#636efa\",\"#EF553B\",\"#00cc96\",\"#ab63fa\",\"#FFA15A\",\"#19d3f3\",\"#FF6692\",\"#B6E880\",\"#FF97FF\",\"#FECB52\"],\"font\":{\"color\":\"#2a3f5f\"},\"geo\":{\"bgcolor\":\"white\",\"lakecolor\":\"white\",\"landcolor\":\"#E5ECF6\",\"showlakes\":true,\"showland\":true,\"subunitcolor\":\"white\"},\"hoverlabel\":{\"align\":\"left\"},\"hovermode\":\"closest\",\"mapbox\":{\"style\":\"light\"},\"paper_bgcolor\":\"white\",\"plot_bgcolor\":\"#E5ECF6\",\"polar\":{\"angularaxis\":{\"gridcolor\":\"white\",\"linecolor\":\"white\",\"ticks\":\"\"},\"bgcolor\":\"#E5ECF6\",\"radialaxis\":{\"gridcolor\":\"white\",\"linecolor\":\"white\",\"ticks\":\"\"}},\"scene\":{\"xaxis\":{\"backgroundcolor\":\"#E5ECF6\",\"gridcolor\":\"white\",\"gridwidth\":2,\"linecolor\":\"white\",\"showbackground\":true,\"ticks\":\"\",\"zerolinecolor\":\"white\"},\"yaxis\":{\"backgroundcolor\":\"#E5ECF6\",\"gridcolor\":\"white\",\"gridwidth\":2,\"linecolor\":\"white\",\"showbackground\":true,\"ticks\":\"\",\"zerolinecolor\":\"white\"},\"zaxis\":{\"backgroundcolor\":\"#E5ECF6\",\"gridcolor\":\"white\",\"gridwidth\":2,\"linecolor\":\"white\",\"showbackground\":true,\"ticks\":\"\",\"zerolinecolor\":\"white\"}},\"shapedefaults\":{\"line\":{\"color\":\"#2a3f5f\"}},\"ternary\":{\"aaxis\":{\"gridcolor\":\"white\",\"linecolor\":\"white\",\"ticks\":\"\"},\"baxis\":{\"gridcolor\":\"white\",\"linecolor\":\"white\",\"ticks\":\"\"},\"bgcolor\":\"#E5ECF6\",\"caxis\":{\"gridcolor\":\"white\",\"linecolor\":\"white\",\"ticks\":\"\"}},\"title\":{\"x\":0.05},\"xaxis\":{\"automargin\":true,\"gridcolor\":\"white\",\"linecolor\":\"white\",\"ticks\":\"\",\"title\":{\"standoff\":15},\"zerolinecolor\":\"white\",\"zerolinewidth\":2},\"yaxis\":{\"automargin\":true,\"gridcolor\":\"white\",\"linecolor\":\"white\",\"ticks\":\"\",\"title\":{\"standoff\":15},\"zerolinecolor\":\"white\",\"zerolinewidth\":2}}},\"font\":{\"family\":\"Courier New, monospace\",\"color\":\"RebeccaPurple\"},\"title\":{\"text\":\"Sum of reward for each episode(averaged with each 10 episodes)\"},\"xaxis\":{\"title\":{\"text\":\"Number of episodes(averaged with each 10 episodes)\"}},\"yaxis\":{\"title\":{\"text\":\"Sum of rewards during episode\"}},\"legend\":{\"title\":{\"text\":\"Legend Title\"}}},                        {\"responsive\": true}                    ).then(function(){\n",
              "                            \n",
              "var gd = document.getElementById('8d7bea30-a270-4c11-afb7-8883220624b0');\n",
              "var x = new MutationObserver(function (mutations, observer) {{\n",
              "        var display = window.getComputedStyle(gd).display;\n",
              "        if (!display || display === 'none') {{\n",
              "            console.log([gd, 'removed!']);\n",
              "            Plotly.purge(gd);\n",
              "            observer.disconnect();\n",
              "        }}\n",
              "}});\n",
              "\n",
              "// Listen for the removal of the full notebook cells\n",
              "var notebookContainer = gd.closest('#notebook-container');\n",
              "if (notebookContainer) {{\n",
              "    x.observe(notebookContainer, {childList: true});\n",
              "}}\n",
              "\n",
              "// Listen for the clearing of the current output cell\n",
              "var outputEl = gd.closest('.output');\n",
              "if (outputEl) {{\n",
              "    x.observe(outputEl, {childList: true});\n",
              "}}\n",
              "\n",
              "                        })                };                            </script>        </div>\n",
              "</body>\n",
              "</html>"
            ]
          },
          "metadata": {}
        }
      ]
    },
    {
      "cell_type": "code",
      "source": [
        "plot_performance(rewards_w4_sarsa, rewards_w4_ql,size = 10000,mean_each_n = 10, acumulated = True)"
      ],
      "metadata": {
        "colab": {
          "base_uri": "https://localhost:8080/",
          "height": 542
        },
        "id": "8Z3hjkxxR6J1",
        "outputId": "63a397dc-c710-404c-c210-4ef16e7a2b42"
      },
      "execution_count": 55,
      "outputs": [
        {
          "output_type": "display_data",
          "data": {
            "text/html": [
              "<html>\n",
              "<head><meta charset=\"utf-8\" /></head>\n",
              "<body>\n",
              "    <div>            <script src=\"https://cdnjs.cloudflare.com/ajax/libs/mathjax/2.7.5/MathJax.js?config=TeX-AMS-MML_SVG\"></script><script type=\"text/javascript\">if (window.MathJax) {MathJax.Hub.Config({SVG: {font: \"STIX-Web\"}});}</script>                <script type=\"text/javascript\">window.PlotlyConfig = {MathJaxConfig: 'local'};</script>\n",
              "        <script src=\"https://cdn.plot.ly/plotly-2.8.3.min.js\"></script>                <div id=\"65bd42b0-3df0-4f62-bf93-fa16aa092314\" class=\"plotly-graph-div\" style=\"height:525px; width:100%;\"></div>            <script type=\"text/javascript\">                                    window.PLOTLYENV=window.PLOTLYENV || {};                                    if (document.getElementById(\"65bd42b0-3df0-4f62-bf93-fa16aa092314\")) {                    Plotly.newPlot(                        \"65bd42b0-3df0-4f62-bf93-fa16aa092314\",                        [{\"mode\":\"lines+markers\",\"name\":\"SARSA\",\"x\":[0,1,2,3,4,5,6,7,8,9,10,11,12,13,14,15,16,17,18,19,20,21,22,23,24,25,26,27,28,29,30,31,32,33,34,35,36,37,38,39,40,41,42,43,44,45,46,47,48,49,50,51,52,53,54,55,56,57,58,59,60,61,62,63,64,65,66,67,68,69,70,71,72,73,74,75,76,77,78,79,80,81,82,83,84,85,86,87,88,89,90,91,92,93,94,95,96,97,98,99,100,101,102,103,104,105,106,107,108,109,110,111,112,113,114,115,116,117,118,119,120,121,122,123,124,125,126,127,128,129,130,131,132,133,134,135,136,137,138,139,140,141,142,143,144,145,146,147,148,149,150,151,152,153,154,155,156,157,158,159,160,161,162,163,164,165,166,167,168,169,170,171,172,173,174,175,176,177,178,179,180,181,182,183,184,185,186,187,188,189,190,191,192,193,194,195,196,197,198,199,200,201,202,203,204,205,206,207,208,209,210,211,212,213,214,215,216,217,218,219,220,221,222,223,224,225,226,227,228,229,230,231,232,233,234,235,236,237,238,239,240,241,242,243,244,245,246,247,248,249,250,251,252,253,254,255,256,257,258,259,260,261,262,263,264,265,266,267,268,269,270,271,272,273,274,275,276,277,278,279,280,281,282,283,284,285,286,287,288,289,290,291,292,293,294,295,296,297,298,299,300,301,302,303,304,305,306,307,308,309,310,311,312,313,314,315,316,317,318,319,320,321,322,323,324,325,326,327,328,329,330,331,332,333,334,335,336,337,338,339,340,341,342,343,344,345,346,347,348,349,350,351,352,353,354,355,356,357,358,359,360,361,362,363,364,365,366,367,368,369,370,371,372,373,374,375,376,377,378,379,380,381,382,383,384,385,386,387,388,389,390,391,392,393,394,395,396,397,398,399,400,401,402,403,404,405,406,407,408,409,410,411,412,413,414,415,416,417,418,419,420,421,422,423,424,425,426,427,428,429,430,431,432,433,434,435,436,437,438,439,440,441,442,443,444,445,446,447,448,449,450,451,452,453,454,455,456,457,458,459,460,461,462,463,464,465,466,467,468,469,470,471,472,473,474,475,476,477,478,479,480,481,482,483,484,485,486,487,488,489,490,491,492,493,494,495,496,497,498,499,500,501,502,503,504,505,506,507,508,509,510,511,512,513,514,515,516,517,518,519,520,521,522,523,524,525,526,527,528,529,530,531,532,533,534,535,536,537,538,539,540,541,542,543,544,545,546,547,548,549,550,551,552,553,554,555,556,557,558,559,560,561,562,563,564,565,566,567,568,569,570,571,572,573,574,575,576,577,578,579,580,581,582,583,584,585,586,587,588,589,590,591,592,593,594,595,596,597,598,599,600,601,602,603,604,605,606,607,608,609,610,611,612,613,614,615,616,617,618,619,620,621,622,623,624,625,626,627,628,629,630,631,632,633,634,635,636,637,638,639,640,641,642,643,644,645,646,647,648,649,650,651,652,653,654,655,656,657,658,659,660,661,662,663,664,665,666,667,668,669,670,671,672,673,674,675,676,677,678,679,680,681,682,683,684,685,686,687,688,689,690,691,692,693,694,695,696,697,698,699,700,701,702,703,704,705,706,707,708,709,710,711,712,713,714,715,716,717,718,719,720,721,722,723,724,725,726,727,728,729,730,731,732,733,734,735,736,737,738,739,740,741,742,743,744,745,746,747,748,749,750,751,752,753,754,755,756,757,758,759,760,761,762,763,764,765,766,767,768,769,770,771,772,773,774,775,776,777,778,779,780,781,782,783,784,785,786,787,788,789,790,791,792,793,794,795,796,797,798,799,800,801,802,803,804,805,806,807,808,809,810,811,812,813,814,815,816,817,818,819,820,821,822,823,824,825,826,827,828,829,830,831,832,833,834,835,836,837,838,839,840,841,842,843,844,845,846,847,848,849,850,851,852,853,854,855,856,857,858,859,860,861,862,863,864,865,866,867,868,869,870,871,872,873,874,875,876,877,878,879,880,881,882,883,884,885,886,887,888,889,890,891,892,893,894,895,896,897,898,899,900,901,902,903,904,905,906,907,908,909,910,911,912,913,914,915,916,917,918,919,920,921,922,923,924,925,926,927,928,929,930,931,932,933,934,935,936,937,938,939,940,941,942,943,944,945,946,947,948,949,950,951,952,953,954,955,956,957,958,959,960,961,962,963,964,965,966,967,968,969,970,971,972,973,974,975,976,977,978,979,980,981,982,983,984,985,986,987,988,989,990,991,992,993,994,995,996,997,998,999],\"y\":[-13.669999999999998,-25.689999999999998,-37.56,-49.22,-62.269999999999996,-76.82,-94.42999999999999,-110.50999999999999,-128.31,-143.91,-156.38,-173.01,-187.76,-205.54999999999998,-221.1,-238.84,-256.59000000000003,-272.99,-289.64,-309.95,-328.69,-346.94,-364.31,-381.83,-394.47999999999996,-407.60999999999996,-424.21999999999997,-440.41999999999996,-456.60999999999996,-473.03,-491.35999999999996,-510.71999999999997,-526.92,-546.9399999999999,-564.5999999999999,-584.56,-600.04,-614.73,-629.0600000000001,-644.8900000000001,-658.8300000000002,-672.3000000000002,-683.6800000000002,-696.9900000000001,-708.8200000000002,-720.7600000000002,-735.1800000000002,-752.1000000000001,-774.1600000000001,-789.6600000000001,-803.07,-822.4000000000001,-839.3500000000001,-855.7600000000001,-870.6200000000001,-884.4100000000001,-899.5400000000001,-920.6200000000001,-937.9400000000002,-956.4300000000002,-972.5700000000002,-991.8900000000002,-1008.9700000000003,-1025.3300000000002,-1046.0900000000001,-1058.4900000000002,-1072.0900000000001,-1086.8000000000002,-1099.2800000000002,-1115.7800000000002,-1127.9100000000003,-1142.1500000000003,-1155.5600000000004,-1168.6200000000003,-1181.5300000000004,-1196.1100000000004,-1211.9200000000003,-1230.1000000000004,-1248.1700000000003,-1265.7200000000003,-1287.9800000000002,-1306.5600000000002,-1319.6100000000001,-1337.23,-1353.56,-1369.78,-1384.74,-1399.58,-1413.24,-1426.88,-1443.5800000000002,-1456.91,-1474.24,-1492.32,-1512.34,-1528.08,-1543.84,-1565.0,-1579.67,-1597.73,-1609.89,-1623.8600000000001,-1637.39,-1652.1100000000001,-1667.3400000000001,-1682.9800000000002,-1697.2500000000002,-1710.0400000000002,-1726.89,-1748.1100000000001,-1765.97,-1782.38,-1796.71,-1812.88,-1827.44,-1840.4,-1852.6200000000001,-1865.3100000000002,-1879.6000000000001,-1892.5700000000002,-1912.7700000000002,-1932.5500000000002,-1946.3000000000002,-1965.7200000000003,-1983.3400000000001,-1997.5000000000002,-2012.1000000000001,-2024.93,-2037.22,-2051.03,-2066.75,-2080.72,-2096.7099999999996,-2111.5299999999997,-2127.3999999999996,-2146.7799999999997,-2162.37,-2177.29,-2195.46,-2208.94,-2226.67,-2242.65,-2261.52,-2276.73,-2291.95,-2305.06,-2319.16,-2332.6499999999996,-2345.91,-2360.1299999999997,-2379.1699999999996,-2395.0999999999995,-2411.5099999999993,-2429.1599999999994,-2446.5499999999993,-2462.439999999999,-2476.3399999999992,-2488.809999999999,-2506.899999999999,-2520.0499999999993,-2537.3399999999992,-2554.7799999999993,-2572.9099999999994,-2592.0999999999995,-2608.5999999999995,-2623.0399999999995,-2638.0099999999993,-2653.419999999999,-2669.499999999999,-2684.679999999999,-2699.579999999999,-2712.649999999999,-2726.9299999999994,-2740.1899999999996,-2755.4599999999996,-2772.7599999999998,-2788.33,-2802.99,-2823.66,-2840.71,-2860.23,-2876.23,-2896.92,-2913.23,-2930.8,-2943.13,-2956.9500000000003,-2975.26,-2992.21,-3007.0,-3022.44,-3035.8,-3051.3900000000003,-3069.5600000000004,-3084.1600000000003,-3096.6600000000003,-3112.5000000000005,-3132.2300000000005,-3151.3500000000004,-3168.9900000000002,-3186.32,-3207.1600000000003,-3224.3,-3242.53,-3265.1400000000003,-3283.26,-3300.5200000000004,-3315.01,-3334.53,-3351.7000000000003,-3375.94,-3392.46,-3409.36,-3423.75,-3446.32,-3461.55,-3478.57,-3496.9300000000003,-3509.09,-3530.33,-3550.34,-3568.4,-3586.6600000000003,-3600.8900000000003,-3620.13,-3634.4100000000003,-3648.88,-3670.44,-3688.8,-3705.1200000000003,-3719.0000000000005,-3732.0500000000006,-3752.7500000000005,-3771.4200000000005,-3787.0200000000004,-3802.3100000000004,-3817.6300000000006,-3836.7600000000007,-3857.870000000001,-3872.8200000000006,-3888.2900000000004,-3905.3100000000004,-3921.8500000000004,-3939.5600000000004,-3956.5700000000006,-3976.0400000000004,-3991.4400000000005,-4010.0400000000004,-4030.0900000000006,-4044.140000000001,-4063.2200000000007,-4077.6300000000006,-4091.5800000000004,-4114.05,-4130.7300000000005,-4147.21,-4162.43,-4180.42,-4195.4400000000005,-4213.070000000001,-4229.360000000001,-4244.240000000001,-4261.300000000001,-4275.6500000000015,-4294.970000000001,-4309.520000000001,-4331.4000000000015,-4346.560000000001,-4362.980000000001,-4382.970000000001,-4400.040000000001,-4417.040000000001,-4430.360000000001,-4444.790000000001,-4465.200000000001,-4482.18,-4496.66,-4511.3099999999995,-4522.879999999999,-4538.199999999999,-4561.569999999999,-4579.509999999998,-4595.569999999999,-4617.509999999998,-4633.589999999998,-4655.269999999999,-4674.149999999999,-4693.939999999999,-4709.799999999998,-4723.489999999998,-4737.919999999998,-4754.879999999998,-4770.059999999999,-4786.489999999999,-4801.739999999999,-4816.719999999998,-4836.049999999998,-4856.039999999998,-4876.859999999998,-4894.749999999998,-4913.559999999999,-4926.739999999999,-4944.219999999998,-4968.509999999998,-4985.979999999999,-4999.759999999998,-5017.5999999999985,-5032.589999999998,-5049.259999999998,-5061.909999999998,-5075.039999999998,-5090.159999999998,-5104.589999999998,-5119.1399999999985,-5134.409999999999,-5150.759999999999,-5167.36,-5182.5599999999995,-5200.03,-5218.0199999999995,-5236.2,-5250.82,-5271.36,-5292.0,-5311.75,-5333.8,-5350.88,-5364.53,-5379.09,-5396.22,-5410.06,-5427.21,-5444.39,-5461.96,-5475.17,-5490.68,-5510.43,-5526.26,-5543.06,-5558.400000000001,-5573.14,-5585.450000000001,-5598.910000000001,-5618.370000000001,-5633.530000000001,-5647.6,-5664.6900000000005,-5676.77,-5691.59,-5710.05,-5726.4800000000005,-5742.46,-5758.6,-5773.200000000001,-5786.380000000001,-5798.840000000001,-5813.250000000001,-5827.310000000001,-5843.710000000001,-5860.430000000001,-5876.420000000001,-5891.120000000001,-5906.430000000001,-5924.790000000001,-5939.740000000001,-5952.81,-5966.35,-5978.89,-5993.6900000000005,-6010.35,-6024.1,-6039.96,-6054.72,-6070.75,-6087.87,-6101.69,-6116.0599999999995,-6129.11,-6141.86,-6159.24,-6182.53,-6198.91,-6212.43,-6228.360000000001,-6250.72,-6269.66,-6286.32,-6302.53,-6316.55,-6335.68,-6352.75,-6369.47,-6386.570000000001,-6403.620000000001,-6417.890000000001,-6436.310000000001,-6449.630000000001,-6467.1500000000015,-6481.960000000002,-6496.050000000002,-6511.400000000002,-6527.870000000003,-6545.940000000002,-6563.840000000002,-6580.670000000002,-6597.9000000000015,-6613.420000000002,-6629.310000000002,-6644.420000000002,-6659.680000000002,-6672.220000000002,-6686.680000000002,-6703.170000000002,-6720.560000000002,-6735.090000000002,-6750.270000000002,-6769.320000000002,-6784.140000000002,-6798.750000000002,-6811.8200000000015,-6827.8600000000015,-6846.460000000002,-6863.890000000002,-6879.620000000002,-6896.350000000001,-6911.340000000001,-6924.4000000000015,-6937.190000000001,-6949.800000000001,-6962.630000000001,-6977.760000000001,-6990.8600000000015,-7005.6100000000015,-7019.720000000001,-7032.140000000001,-7047.230000000001,-7066.230000000001,-7080.550000000001,-7096.160000000001,-7112.470000000001,-7126.980000000001,-7142.760000000001,-7158.960000000001,-7175.620000000001,-7192.920000000001,-7208.130000000001,-7224.180000000001,-7242.3200000000015,-7260.530000000002,-7275.480000000001,-7290.790000000002,-7303.510000000002,-7316.230000000002,-7331.430000000002,-7345.850000000002,-7361.390000000002,-7376.470000000002,-7394.590000000002,-7406.940000000002,-7421.260000000002,-7436.950000000002,-7451.170000000002,-7465.910000000002,-7482.580000000002,-7501.790000000002,-7519.700000000002,-7536.520000000001,-7551.790000000002,-7570.5700000000015,-7585.250000000002,-7598.790000000002,-7612.750000000002,-7625.010000000002,-7639.660000000002,-7654.000000000002,-7668.520000000002,-7684.620000000003,-7700.460000000003,-7715.350000000003,-7730.310000000003,-7745.180000000003,-7761.790000000003,-7776.870000000003,-7791.790000000003,-7805.910000000003,-7818.340000000003,-7832.460000000003,-7847.040000000003,-7863.370000000003,-7879.7400000000025,-7898.310000000002,-7916.810000000002,-7934.050000000002,-7955.720000000002,-7972.690000000002,-7991.400000000002,-8006.000000000003,-8022.690000000002,-8037.160000000003,-8051.120000000003,-8064.120000000003,-8078.220000000003,-8091.470000000003,-8110.360000000003,-8128.940000000003,-8147.850000000003,-8163.030000000003,-8181.980000000003,-8201.410000000003,-8218.380000000003,-8240.900000000003,-8256.690000000004,-8273.780000000004,-8289.190000000004,-8303.860000000004,-8323.370000000004,-8345.000000000004,-8361.590000000004,-8377.490000000003,-8397.080000000004,-8412.390000000003,-8431.540000000003,-8447.030000000002,-8461.670000000002,-8476.660000000002,-8495.450000000003,-8512.580000000002,-8527.980000000001,-8542.920000000002,-8562.330000000002,-8575.79,-8590.330000000002,-8611.640000000001,-8628.7,-8646.890000000001,-8665.7,-8681.67,-8700.5,-8717.74,-8732.5,-8745.69,-8761.480000000001,-8778.350000000002,-8795.610000000002,-8816.810000000003,-8831.730000000003,-8846.540000000003,-8860.490000000003,-8877.650000000003,-8893.190000000004,-8913.000000000004,-8929.040000000005,-8946.620000000004,-8966.280000000004,-8982.020000000004,-8999.780000000004,-9016.950000000004,-9032.200000000004,-9047.920000000004,-9065.160000000003,-9081.610000000004,-9097.270000000004,-9110.280000000004,-9123.970000000005,-9137.890000000005,-9152.210000000005,-9165.590000000004,-9181.720000000003,-9197.320000000003,-9218.310000000003,-9237.680000000004,-9252.740000000003,-9270.210000000003,-9290.410000000003,-9312.170000000004,-9328.300000000003,-9348.210000000003,-9367.570000000003,-9386.210000000003,-9398.790000000003,-9412.610000000002,-9430.040000000003,-9450.030000000002,-9469.110000000002,-9484.790000000003,-9500.510000000002,-9515.010000000002,-9530.140000000001,-9543.800000000001,-9560.580000000002,-9572.870000000003,-9590.690000000002,-9606.640000000003,-9623.800000000003,-9642.130000000003,-9658.520000000002,-9675.910000000002,-9690.070000000002,-9703.940000000002,-9720.200000000003,-9733.150000000003,-9748.770000000004,-9765.700000000004,-9780.760000000004,-9796.000000000004,-9815.420000000004,-9829.950000000004,-9845.580000000004,-9860.870000000004,-9873.440000000004,-9890.740000000003,-9906.900000000003,-9929.830000000004,-9949.800000000003,-9964.750000000004,-9981.860000000004,-9995.960000000005,-10008.830000000005,-10024.240000000005,-10037.780000000006,-10050.830000000005,-10068.150000000005,-10082.850000000006,-10096.340000000006,-10109.080000000005,-10122.700000000006,-10139.410000000005,-10153.840000000006,-10168.030000000006,-10184.290000000006,-10202.200000000006,-10221.050000000007,-10236.320000000007,-10256.860000000008,-10269.440000000008,-10287.350000000008,-10302.050000000008,-10319.040000000008,-10333.490000000009,-10357.230000000009,-10369.720000000008,-10385.700000000008,-10400.670000000007,-10417.160000000007,-10434.130000000006,-10448.760000000006,-10463.530000000006,-10475.790000000006,-10490.850000000006,-10505.690000000006,-10521.030000000006,-10541.240000000005,-10557.880000000005,-10577.950000000004,-10596.220000000005,-10615.580000000005,-10634.630000000005,-10649.970000000005,-10667.160000000005,-10686.000000000005,-10700.990000000005,-10715.490000000005,-10729.290000000005,-10743.930000000004,-10761.870000000004,-10775.870000000004,-10791.600000000004,-10806.050000000005,-10822.230000000005,-10834.740000000005,-10851.920000000006,-10867.260000000006,-10885.360000000006,-10902.340000000006,-10921.260000000006,-10934.870000000006,-10951.830000000005,-10969.410000000005,-10986.420000000006,-11007.390000000005,-11026.650000000005,-11048.260000000006,-11067.010000000006,-11081.100000000006,-11104.220000000007,-11120.060000000007,-11133.190000000006,-11146.830000000005,-11159.940000000006,-11174.930000000006,-11190.620000000006,-11204.640000000007,-11222.490000000007,-11238.950000000006,-11254.110000000006,-11269.170000000006,-11287.300000000005,-11301.470000000005,-11314.380000000005,-11334.120000000004,-11350.340000000004,-11368.970000000003,-11381.580000000004,-11395.680000000004,-11410.700000000004,-11424.860000000004,-11439.550000000005,-11452.060000000005,-11465.470000000005,-11478.040000000005,-11492.880000000005,-11509.050000000005,-11524.000000000005,-11536.630000000005,-11548.980000000005,-11564.850000000006,-11577.940000000006,-11591.770000000006,-11605.980000000005,-11620.550000000005,-11633.340000000006,-11652.320000000005,-11671.010000000006,-11690.130000000006,-11708.520000000006,-11724.080000000005,-11742.990000000005,-11757.940000000006,-11772.850000000006,-11787.530000000006,-11801.510000000006,-11820.110000000006,-11842.390000000007,-11855.330000000007,-11870.190000000008,-11886.190000000008,-11902.230000000009,-11916.77000000001,-11929.96000000001,-11943.29000000001,-11960.10000000001,-11977.10000000001,-11993.20000000001,-12009.11000000001,-12028.98000000001,-12048.420000000011,-12064.99000000001,-12086.64000000001,-12099.94000000001,-12117.17000000001,-12133.060000000009,-12150.310000000009,-12166.900000000009,-12180.560000000009,-12200.460000000008,-12219.520000000008,-12234.960000000008,-12251.960000000008,-12271.760000000007,-12289.620000000008,-12306.000000000007,-12326.160000000007,-12342.160000000007,-12359.260000000007,-12373.910000000007,-12390.160000000007,-12407.010000000007,-12425.210000000008,-12440.640000000009,-12457.440000000008,-12474.630000000008,-12491.780000000008,-12508.200000000008,-12523.550000000008,-12541.990000000009,-12555.00000000001,-12572.01000000001,-12589.45000000001,-12604.59000000001,-12623.01000000001,-12639.330000000009,-12653.080000000009,-12668.240000000009,-12684.830000000009,-12699.060000000009,-12713.67000000001,-12731.060000000009,-12750.080000000009,-12768.140000000009,-12787.570000000009,-12802.460000000008,-12820.810000000009,-12838.580000000009,-12858.51000000001,-12875.77000000001,-12889.830000000009,-12908.560000000009,-12926.460000000008,-12942.920000000007,-12958.250000000007,-12974.580000000007,-12990.610000000008,-13009.670000000007,-13028.300000000007,-13045.970000000007,-13059.840000000007,-13073.600000000008,-13087.260000000007,-13101.380000000008,-13115.470000000008,-13131.400000000009,-13147.700000000008,-13162.460000000008,-13178.00000000001,-13192.77000000001,-13209.14000000001,-13222.91000000001,-13239.74000000001,-13255.38000000001,-13268.41000000001,-13286.12000000001,-13303.62000000001,-13323.16000000001,-13340.690000000011,-13354.860000000011,-13368.090000000011,-13387.66000000001,-13404.280000000012,-13416.590000000011,-13432.06000000001,-13444.32000000001,-13462.020000000011,-13476.840000000011,-13492.540000000012,-13505.530000000012,-13519.390000000012,-13532.690000000011,-13547.180000000011,-13561.420000000011,-13574.950000000012,-13591.640000000012,-13608.380000000012,-13624.200000000012,-13643.16000000001,-13659.57000000001,-13672.83000000001,-13689.430000000011,-13702.500000000011,-13716.510000000011,-13734.040000000012,-13752.980000000012,-13766.440000000011,-13784.58000000001,-13802.30000000001,-13819.78000000001,-13833.51000000001,-13853.330000000009,-13870.330000000009,-13889.640000000009,-13904.820000000009,-13919.030000000008,-13932.910000000007,-13949.290000000006,-13965.770000000006,-13984.820000000005,-13999.880000000005,-14016.160000000005,-14031.020000000006,-14046.780000000006,-14061.940000000006,-14075.230000000007,-14087.690000000006,-14101.520000000006,-14114.710000000006,-14127.770000000006,-14140.280000000006,-14153.870000000006,-14166.890000000007,-14179.710000000006,-14192.650000000007,-14209.960000000006,-14230.100000000006,-14247.080000000005,-14260.560000000005,-14273.820000000005,-14288.880000000005,-14302.950000000004,-14315.100000000004,-14331.820000000003,-14348.770000000004,-14365.210000000005,-14384.010000000004,-14401.650000000003,-14415.870000000003,-14432.630000000003,-14448.190000000002,-14464.770000000002,-14477.810000000003,-14491.130000000003,-14507.970000000003,-14527.570000000003,-14543.360000000004,-14559.890000000005,-14578.330000000005,-14593.700000000006,-14607.750000000005,-14622.170000000006,-14641.150000000005,-14656.260000000006,-14671.980000000005,-14685.110000000004,-14701.180000000004,-14720.530000000004,-14738.610000000004,-14753.580000000004,-14771.610000000004,-14788.000000000004,-14809.050000000003,-14827.680000000002,-14844.100000000002,-14861.130000000003,-14876.210000000003,-14891.000000000004,-14907.630000000003,-14923.170000000004,-14939.930000000004,-14956.390000000003,-14970.040000000003,-14984.740000000003,-15002.700000000003,-15019.020000000002,-15035.540000000003,-15051.110000000002,-15064.990000000002,-15079.490000000002,-15093.260000000002,-15108.120000000003,-15121.720000000003,-15138.710000000003,-15153.340000000002,-15165.780000000002,-15180.290000000003,-15193.070000000003,-15208.630000000003,-15220.200000000003,-15237.480000000003,-15250.170000000004,-15268.430000000004,-15286.260000000004,-15301.600000000004,-15319.650000000003,-15335.320000000003,-15351.890000000003,-15366.290000000003,-15383.010000000002,-15398.750000000002,-15415.470000000001,-15429.37,-15445.85,-15463.84,-15482.43,-15499.79,-15512.87,-15528.43,-15548.04,-15561.830000000002,-15582.730000000001,-15600.170000000002,-15617.060000000001,-15634.52,-15653.1,-15668.01,-15681.08,-15694.49,-15710.25,-15726.83,-15742.69,-15755.65,-15772.05,-15784.16,-15799.539999999999,-15815.07,-15830.68,-15848.64,-15862.81,-15878.369999999999,-15892.929999999998,-15911.689999999999,-15924.31,-15939.74,-15957.25,-15976.33,-15993.2,-16006.710000000001,-16019.62,-16035.85,-16052.12,-16067.28,-16084.320000000002,-16104.140000000001],\"type\":\"scatter\"},{\"mode\":\"lines+markers\",\"name\":\"Q-Learning\",\"x\":[0,1,2,3,4,5,6,7,8,9,10,11,12,13,14,15,16,17,18,19,20,21,22,23,24,25,26,27,28,29,30,31,32,33,34,35,36,37,38,39,40,41,42,43,44,45,46,47,48,49,50,51,52,53,54,55,56,57,58,59,60,61,62,63,64,65,66,67,68,69,70,71,72,73,74,75,76,77,78,79,80,81,82,83,84,85,86,87,88,89,90,91,92,93,94,95,96,97,98,99,100,101,102,103,104,105,106,107,108,109,110,111,112,113,114,115,116,117,118,119,120,121,122,123,124,125,126,127,128,129,130,131,132,133,134,135,136,137,138,139,140,141,142,143,144,145,146,147,148,149,150,151,152,153,154,155,156,157,158,159,160,161,162,163,164,165,166,167,168,169,170,171,172,173,174,175,176,177,178,179,180,181,182,183,184,185,186,187,188,189,190,191,192,193,194,195,196,197,198,199,200,201,202,203,204,205,206,207,208,209,210,211,212,213,214,215,216,217,218,219,220,221,222,223,224,225,226,227,228,229,230,231,232,233,234,235,236,237,238,239,240,241,242,243,244,245,246,247,248,249,250,251,252,253,254,255,256,257,258,259,260,261,262,263,264,265,266,267,268,269,270,271,272,273,274,275,276,277,278,279,280,281,282,283,284,285,286,287,288,289,290,291,292,293,294,295,296,297,298,299,300,301,302,303,304,305,306,307,308,309,310,311,312,313,314,315,316,317,318,319,320,321,322,323,324,325,326,327,328,329,330,331,332,333,334,335,336,337,338,339,340,341,342,343,344,345,346,347,348,349,350,351,352,353,354,355,356,357,358,359,360,361,362,363,364,365,366,367,368,369,370,371,372,373,374,375,376,377,378,379,380,381,382,383,384,385,386,387,388,389,390,391,392,393,394,395,396,397,398,399,400,401,402,403,404,405,406,407,408,409,410,411,412,413,414,415,416,417,418,419,420,421,422,423,424,425,426,427,428,429,430,431,432,433,434,435,436,437,438,439,440,441,442,443,444,445,446,447,448,449,450,451,452,453,454,455,456,457,458,459,460,461,462,463,464,465,466,467,468,469,470,471,472,473,474,475,476,477,478,479,480,481,482,483,484,485,486,487,488,489,490,491,492,493,494,495,496,497,498,499,500,501,502,503,504,505,506,507,508,509,510,511,512,513,514,515,516,517,518,519,520,521,522,523,524,525,526,527,528,529,530,531,532,533,534,535,536,537,538,539,540,541,542,543,544,545,546,547,548,549,550,551,552,553,554,555,556,557,558,559,560,561,562,563,564,565,566,567,568,569,570,571,572,573,574,575,576,577,578,579,580,581,582,583,584,585,586,587,588,589,590,591,592,593,594,595,596,597,598,599,600,601,602,603,604,605,606,607,608,609,610,611,612,613,614,615,616,617,618,619,620,621,622,623,624,625,626,627,628,629,630,631,632,633,634,635,636,637,638,639,640,641,642,643,644,645,646,647,648,649,650,651,652,653,654,655,656,657,658,659,660,661,662,663,664,665,666,667,668,669,670,671,672,673,674,675,676,677,678,679,680,681,682,683,684,685,686,687,688,689,690,691,692,693,694,695,696,697,698,699,700,701,702,703,704,705,706,707,708,709,710,711,712,713,714,715,716,717,718,719,720,721,722,723,724,725,726,727,728,729,730,731,732,733,734,735,736,737,738,739,740,741,742,743,744,745,746,747,748,749,750,751,752,753,754,755,756,757,758,759,760,761,762,763,764,765,766,767,768,769,770,771,772,773,774,775,776,777,778,779,780,781,782,783,784,785,786,787,788,789,790,791,792,793,794,795,796,797,798,799,800,801,802,803,804,805,806,807,808,809,810,811,812,813,814,815,816,817,818,819,820,821,822,823,824,825,826,827,828,829,830,831,832,833,834,835,836,837,838,839,840,841,842,843,844,845,846,847,848,849,850,851,852,853,854,855,856,857,858,859,860,861,862,863,864,865,866,867,868,869,870,871,872,873,874,875,876,877,878,879,880,881,882,883,884,885,886,887,888,889,890,891,892,893,894,895,896,897,898,899,900,901,902,903,904,905,906,907,908,909,910,911,912,913,914,915,916,917,918,919,920,921,922,923,924,925,926,927,928,929,930,931,932,933,934,935,936,937,938,939,940,941,942,943,944,945,946,947,948,949,950,951,952,953,954,955,956,957,958,959,960,961,962,963,964,965,966,967,968,969,970,971,972,973,974,975,976,977,978,979,980,981,982,983,984,985,986,987,988,989,990,991,992,993,994,995,996,997,998,999],\"y\":[-1.3669999999999998,-2.569,-3.7560000000000002,-4.922000000000001,-6.227,-7.682,-9.443,-11.051,-12.831,-14.391,-15.638,-17.301000000000002,-18.776000000000003,-20.555000000000003,-22.110000000000003,-23.884000000000004,-25.659000000000002,-27.299000000000003,-28.964000000000002,-30.995,-32.869,-34.694,-36.431000000000004,-38.18300000000001,-39.44800000000001,-40.76100000000001,-42.42200000000001,-44.04200000000001,-45.66100000000001,-47.30300000000001,-49.13600000000001,-51.07200000000001,-52.69200000000001,-54.69400000000001,-56.46000000000001,-58.45600000000001,-60.00400000000001,-61.47300000000001,-62.90600000000001,-64.48900000000002,-65.88300000000002,-67.23000000000002,-68.36800000000002,-69.69900000000003,-70.88200000000003,-72.07600000000004,-73.51800000000003,-75.21000000000002,-77.41600000000003,-78.96600000000002,-80.30700000000002,-82.24000000000002,-83.93500000000002,-85.57600000000002,-87.06200000000003,-88.44100000000003,-89.95400000000004,-92.06200000000004,-93.79400000000004,-95.64300000000004,-97.25700000000005,-99.18900000000005,-100.89700000000005,-102.53300000000004,-104.60900000000004,-105.84900000000003,-107.20900000000003,-108.68000000000004,-109.92800000000004,-111.57800000000005,-112.79100000000004,-114.21500000000005,-115.55600000000004,-116.86200000000004,-118.15300000000003,-119.61100000000003,-121.19200000000004,-123.01000000000003,-124.81700000000004,-126.57200000000003,-128.79800000000003,-130.65600000000003,-131.96100000000004,-133.72300000000004,-135.35600000000005,-136.97800000000007,-138.47400000000007,-139.95800000000008,-141.3240000000001,-142.6880000000001,-144.3580000000001,-145.6910000000001,-147.4240000000001,-149.23200000000008,-151.2340000000001,-152.8080000000001,-154.3840000000001,-156.5000000000001,-157.96700000000013,-159.77300000000014,-160.98900000000015,-162.38600000000014,-163.73900000000015,-165.21100000000015,-166.73400000000015,-168.29800000000014,-169.72500000000014,-171.00400000000013,-172.68900000000014,-174.81100000000015,-176.59700000000015,-178.23800000000014,-179.67100000000013,-181.28800000000012,-182.7440000000001,-184.0400000000001,-185.2620000000001,-186.53100000000012,-187.96000000000012,-189.25700000000012,-191.27700000000013,-193.25500000000014,-194.63000000000014,-196.57200000000014,-198.33400000000015,-199.75000000000014,-201.21000000000015,-202.49300000000014,-203.72200000000015,-205.10300000000015,-206.67500000000015,-208.07200000000014,-209.67100000000013,-211.15300000000013,-212.74000000000012,-214.6780000000001,-216.2370000000001,-217.7290000000001,-219.5460000000001,-220.89400000000012,-222.66700000000012,-224.26500000000013,-226.15200000000013,-227.67300000000012,-229.1950000000001,-230.5060000000001,-231.9160000000001,-233.2650000000001,-234.5910000000001,-236.0130000000001,-237.9170000000001,-239.51000000000008,-241.15100000000007,-242.91600000000005,-244.65500000000006,-246.24400000000006,-247.63400000000004,-248.88100000000006,-250.69000000000005,-252.00500000000005,-253.73400000000007,-255.47800000000007,-257.29100000000005,-259.21000000000004,-260.86,-262.30400000000003,-263.80100000000004,-265.34200000000004,-266.95000000000005,-268.468,-269.958,-271.26500000000004,-272.69300000000004,-274.01900000000006,-275.54600000000005,-277.27600000000007,-278.8330000000001,-280.2990000000001,-282.3660000000001,-284.0710000000001,-286.0230000000001,-287.6230000000001,-289.6920000000001,-291.3230000000001,-293.0800000000001,-294.3130000000001,-295.6950000000001,-297.5260000000001,-299.2210000000001,-300.7000000000001,-302.2440000000001,-303.5800000000001,-305.1390000000001,-306.95600000000013,-308.4160000000001,-309.6660000000001,-311.2500000000001,-313.2230000000001,-315.1350000000001,-316.8990000000001,-318.6320000000001,-320.7160000000001,-322.4300000000001,-324.2530000000001,-326.5140000000001,-328.32600000000014,-330.05200000000013,-331.50100000000015,-333.45300000000015,-335.17000000000013,-337.5940000000001,-339.2460000000001,-340.9360000000001,-342.3750000000001,-344.6320000000001,-346.15500000000014,-347.85700000000014,-349.69300000000015,-350.90900000000016,-353.0330000000002,-355.03400000000016,-356.84000000000015,-358.66600000000017,-360.08900000000017,-362.01300000000015,-363.44100000000014,-364.88800000000015,-367.04400000000015,-368.88000000000017,-370.51200000000017,-371.90000000000015,-373.20500000000015,-375.27500000000015,-377.14200000000017,-378.70200000000017,-380.23100000000017,-381.76300000000015,-383.67600000000016,-385.78700000000015,-387.28200000000015,-388.8290000000002,-390.5310000000002,-392.1850000000002,-393.9560000000002,-395.6570000000002,-397.6040000000002,-399.14400000000023,-401.00400000000025,-403.00900000000024,-404.4140000000002,-406.32200000000023,-407.7630000000002,-409.1580000000002,-411.4050000000002,-413.0730000000002,-414.72100000000023,-416.2430000000002,-418.0420000000002,-419.5440000000002,-421.3070000000002,-422.9360000000002,-424.4240000000002,-426.1300000000002,-427.5650000000002,-429.49700000000024,-430.9520000000002,-433.1400000000002,-434.65600000000023,-436.29800000000023,-438.29700000000025,-440.00400000000025,-441.70400000000024,-443.03600000000023,-444.4790000000002,-446.5200000000002,-448.2180000000002,-449.66600000000017,-451.13100000000014,-452.2880000000001,-453.8200000000001,-456.1570000000001,-457.9510000000001,-459.5570000000001,-461.7510000000001,-463.3590000000001,-465.5270000000001,-467.4150000000001,-469.39400000000006,-470.9800000000001,-472.3490000000001,-473.7920000000001,-475.4880000000001,-477.0060000000001,-478.64900000000006,-480.17400000000004,-481.672,-483.605,-485.60400000000004,-487.68600000000004,-489.475,-491.356,-492.674,-494.42199999999997,-496.85099999999994,-498.59799999999996,-499.97599999999994,-501.75999999999993,-503.25899999999996,-504.92599999999993,-506.1909999999999,-507.5039999999999,-509.0159999999999,-510.4589999999999,-511.9139999999999,-513.4409999999999,-515.0759999999999,-516.7359999999999,-518.2559999999999,-520.0029999999998,-521.8019999999998,-523.6199999999998,-525.0819999999998,-527.1359999999997,-529.1999999999997,-531.1749999999997,-533.3799999999998,-535.0879999999997,-536.4529999999997,-537.9089999999998,-539.6219999999997,-541.0059999999997,-542.7209999999998,-544.4389999999997,-546.1959999999997,-547.5169999999997,-549.0679999999998,-551.0429999999998,-552.6259999999997,-554.3059999999997,-555.8399999999997,-557.3139999999997,-558.5449999999997,-559.8909999999997,-561.8369999999998,-563.3529999999997,-564.7599999999998,-566.4689999999997,-567.6769999999997,-569.1589999999997,-571.0049999999997,-572.6479999999997,-574.2459999999996,-575.8599999999997,-577.3199999999997,-578.6379999999997,-579.8839999999997,-581.3249999999997,-582.7309999999997,-584.3709999999996,-586.0429999999997,-587.6419999999997,-589.1119999999997,-590.6429999999997,-592.4789999999997,-593.9739999999997,-595.2809999999997,-596.6349999999998,-597.8889999999998,-599.3689999999998,-601.0349999999999,-602.4099999999999,-603.9959999999999,-605.4719999999999,-607.0749999999998,-608.7869999999998,-610.1689999999998,-611.6059999999998,-612.9109999999997,-614.1859999999997,-615.9239999999998,-618.2529999999997,-619.8909999999997,-621.2429999999997,-622.8359999999997,-625.0719999999997,-626.9659999999997,-628.6319999999997,-630.2529999999997,-631.6549999999997,-633.5679999999998,-635.2749999999997,-636.9469999999998,-638.6569999999998,-640.3619999999999,-641.7889999999999,-643.6309999999999,-644.9629999999999,-646.7149999999998,-648.1959999999998,-649.6049999999998,-651.1399999999998,-652.7869999999998,-654.5939999999998,-656.3839999999998,-658.0669999999998,-659.7899999999997,-661.3419999999998,-662.9309999999998,-664.4419999999998,-665.9679999999997,-667.2219999999998,-668.6679999999998,-670.3169999999998,-672.0559999999998,-673.5089999999998,-675.0269999999998,-676.9319999999998,-678.4139999999998,-679.8749999999998,-681.1819999999998,-682.7859999999998,-684.6459999999998,-686.3889999999999,-687.9619999999999,-689.6349999999999,-691.1339999999999,-692.4399999999999,-693.7189999999999,-694.9799999999999,-696.2629999999999,-697.776,-699.0859999999999,-700.5609999999999,-701.9719999999999,-703.2139999999998,-704.7229999999998,-706.6229999999998,-708.0549999999998,-709.6159999999999,-711.2469999999998,-712.6979999999999,-714.2759999999998,-715.8959999999998,-717.5619999999999,-719.2919999999999,-720.8129999999999,-722.4179999999999,-724.2319999999999,-726.0529999999999,-727.5479999999999,-729.0789999999998,-730.3509999999999,-731.6229999999999,-733.1429999999999,-734.5849999999999,-736.1389999999999,-737.6469999999999,-739.459,-740.694,-742.126,-743.6949999999999,-745.117,-746.591,-748.258,-750.1790000000001,-751.9700000000001,-753.6520000000002,-755.1790000000002,-757.0570000000002,-758.5250000000002,-759.8790000000002,-761.2750000000002,-762.5010000000002,-763.9660000000002,-765.4000000000002,-766.8520000000002,-768.4620000000002,-770.0460000000002,-771.5350000000002,-773.0310000000002,-774.5180000000001,-776.1790000000001,-777.6870000000001,-779.1790000000001,-780.5910000000001,-781.8340000000002,-783.2460000000002,-784.7040000000002,-786.3370000000002,-787.9740000000002,-789.8310000000001,-791.6810000000002,-793.4050000000002,-795.5720000000002,-797.2690000000002,-799.1400000000002,-800.6000000000003,-802.2690000000002,-803.7160000000002,-805.1120000000002,-806.4120000000001,-807.8220000000001,-809.1470000000002,-811.0360000000002,-812.8940000000001,-814.7850000000001,-816.3030000000001,-818.1980000000001,-820.1410000000001,-821.8380000000001,-824.09,-825.669,-827.3779999999999,-828.919,-830.386,-832.337,-834.5,-836.159,-837.749,-839.708,-841.2389999999999,-843.1539999999999,-844.7029999999999,-846.1669999999999,-847.6659999999999,-849.545,-851.2579999999999,-852.7979999999999,-854.2919999999999,-856.233,-857.579,-859.0329999999999,-861.1639999999999,-862.8699999999999,-864.6889999999999,-866.5699999999998,-868.1669999999998,-870.0499999999998,-871.7739999999999,-873.2499999999999,-874.5689999999998,-876.1479999999998,-877.8349999999998,-879.5609999999998,-881.6809999999998,-883.1729999999998,-884.6539999999998,-886.0489999999998,-887.7649999999998,-889.3189999999997,-891.2999999999997,-892.9039999999998,-894.6619999999998,-896.6279999999998,-898.2019999999998,-899.9779999999997,-901.6949999999997,-903.2199999999997,-904.7919999999997,-906.5159999999997,-908.1609999999997,-909.7269999999997,-911.0279999999998,-912.3969999999998,-913.7889999999999,-915.2209999999999,-916.5589999999999,-918.1719999999999,-919.7319999999999,-921.8309999999999,-923.7679999999999,-925.2739999999999,-927.0209999999998,-929.0409999999998,-931.2169999999999,-932.8299999999999,-934.8209999999999,-936.757,-938.621,-939.879,-941.261,-943.004,-945.003,-946.9110000000001,-948.479,-950.051,-951.5010000000001,-953.0140000000001,-954.3800000000001,-956.0580000000001,-957.2870000000001,-959.0690000000002,-960.6640000000002,-962.3800000000002,-964.2130000000002,-965.8520000000002,-967.5910000000002,-969.0070000000003,-970.3940000000002,-972.0200000000002,-973.3150000000002,-974.8770000000002,-976.5700000000002,-978.0760000000001,-979.6000000000001,-981.5420000000001,-982.9950000000001,-984.5580000000001,-986.0870000000001,-987.344,-989.0740000000001,-990.69,-992.9830000000001,-994.98,-996.475,-998.186,-999.596,-1000.883,-1002.4240000000001,-1003.7780000000001,-1005.0830000000001,-1006.815,-1008.2850000000001,-1009.6340000000001,-1010.9080000000001,-1012.2700000000001,-1013.9410000000001,-1015.3840000000001,-1016.8030000000001,-1018.4290000000001,-1020.2200000000001,-1022.1050000000001,-1023.6320000000002,-1025.6860000000001,-1026.9440000000002,-1028.7350000000001,-1030.2050000000002,-1031.9040000000002,-1033.3490000000002,-1035.7230000000002,-1036.9720000000002,-1038.5700000000002,-1040.0670000000002,-1041.7160000000001,-1043.413,-1044.876,-1046.353,-1047.5790000000002,-1049.0850000000003,-1050.5690000000002,-1052.1030000000003,-1054.1240000000003,-1055.7880000000002,-1057.7950000000003,-1059.6220000000003,-1061.5580000000002,-1063.4630000000002,-1064.9970000000003,-1066.7160000000003,-1068.6000000000004,-1070.0990000000004,-1071.5490000000004,-1072.9290000000005,-1074.3930000000005,-1076.1870000000006,-1077.5870000000007,-1079.1600000000008,-1080.6050000000007,-1082.2230000000006,-1083.4740000000006,-1085.1920000000007,-1086.7260000000008,-1088.5360000000007,-1090.2340000000008,-1092.1260000000009,-1093.487000000001,-1095.183000000001,-1096.941000000001,-1098.642000000001,-1100.739000000001,-1102.6650000000009,-1104.826000000001,-1106.701000000001,-1108.110000000001,-1110.422000000001,-1112.006000000001,-1113.319000000001,-1114.6830000000011,-1115.994000000001,-1117.493000000001,-1119.062000000001,-1120.464000000001,-1122.2490000000012,-1123.8950000000011,-1125.4110000000012,-1126.9170000000013,-1128.7300000000014,-1130.1470000000013,-1131.4380000000012,-1133.4120000000012,-1135.0340000000012,-1136.8970000000013,-1138.1580000000013,-1139.5680000000013,-1141.0700000000013,-1142.4860000000012,-1143.9550000000013,-1145.2060000000013,-1146.5470000000012,-1147.8040000000012,-1149.2880000000011,-1150.905000000001,-1152.400000000001,-1153.663000000001,-1154.8980000000008,-1156.4850000000008,-1157.7940000000008,-1159.1770000000008,-1160.5980000000009,-1162.055000000001,-1163.334000000001,-1165.2320000000009,-1167.1010000000008,-1169.0130000000008,-1170.8520000000008,-1172.4080000000008,-1174.299000000001,-1175.7940000000008,-1177.2850000000008,-1178.7530000000008,-1180.1510000000007,-1182.0110000000006,-1184.2390000000007,-1185.5330000000008,-1187.019000000001,-1188.6190000000008,-1190.2230000000009,-1191.6770000000008,-1192.9960000000008,-1194.3290000000009,-1196.010000000001,-1197.710000000001,-1199.3200000000008,-1200.9110000000007,-1202.8980000000008,-1204.8420000000008,-1206.4990000000007,-1208.6640000000007,-1209.9940000000006,-1211.7170000000006,-1213.3060000000005,-1215.0310000000004,-1216.6900000000005,-1218.0560000000005,-1220.0460000000005,-1221.9520000000005,-1223.4960000000005,-1225.1960000000006,-1227.1760000000006,-1228.9620000000007,-1230.6000000000006,-1232.6160000000007,-1234.2160000000006,-1235.9260000000006,-1237.3910000000005,-1239.0160000000005,-1240.7010000000005,-1242.5210000000004,-1244.0640000000003,-1245.7440000000004,-1247.4630000000004,-1249.1780000000003,-1250.8200000000004,-1252.3550000000005,-1254.1990000000005,-1255.5000000000005,-1257.2010000000005,-1258.9450000000004,-1260.4590000000003,-1262.3010000000004,-1263.9330000000004,-1265.3080000000004,-1266.8240000000005,-1268.4830000000006,-1269.9060000000006,-1271.3670000000006,-1273.1060000000007,-1275.0080000000007,-1276.8140000000008,-1278.7570000000007,-1280.2460000000008,-1282.0810000000008,-1283.8580000000009,-1285.8510000000008,-1287.577000000001,-1288.9830000000009,-1290.856000000001,-1292.6460000000009,-1294.2920000000008,-1295.8250000000007,-1297.4580000000008,-1299.0610000000008,-1300.9670000000008,-1302.8300000000008,-1304.597000000001,-1305.9840000000008,-1307.3600000000008,-1308.7260000000008,-1310.1380000000008,-1311.547000000001,-1313.140000000001,-1314.7700000000011,-1316.2460000000012,-1317.8000000000013,-1319.2770000000014,-1320.9140000000014,-1322.2910000000013,-1323.9740000000013,-1325.5380000000014,-1326.8410000000015,-1328.6120000000014,-1330.3620000000014,-1332.3160000000014,-1334.0690000000013,-1335.4860000000012,-1336.8090000000013,-1338.7660000000014,-1340.4280000000015,-1341.6590000000015,-1343.2060000000015,-1344.4320000000016,-1346.2020000000016,-1347.6840000000016,-1349.2540000000015,-1350.5530000000015,-1351.9390000000014,-1353.2690000000014,-1354.7180000000014,-1356.1420000000014,-1357.4950000000015,-1359.1640000000016,-1360.8380000000016,-1362.4200000000017,-1364.3160000000016,-1365.9570000000017,-1367.2830000000017,-1368.9430000000018,-1370.2500000000018,-1371.6510000000019,-1373.4040000000018,-1375.2980000000018,-1376.6440000000018,-1378.458000000002,-1380.2300000000018,-1381.9780000000019,-1383.351000000002,-1385.333000000002,-1387.033000000002,-1388.964000000002,-1390.482000000002,-1391.903000000002,-1393.291000000002,-1394.929000000002,-1396.5770000000018,-1398.4820000000018,-1399.9880000000019,-1401.6160000000018,-1403.102000000002,-1404.678000000002,-1406.194000000002,-1407.523000000002,-1408.769000000002,-1410.152000000002,-1411.471000000002,-1412.777000000002,-1414.028000000002,-1415.387000000002,-1416.689000000002,-1417.9710000000018,-1419.265000000002,-1420.996000000002,-1423.0100000000018,-1424.708000000002,-1426.0560000000019,-1427.3820000000019,-1428.888000000002,-1430.295000000002,-1431.5100000000018,-1433.1820000000018,-1434.8770000000018,-1436.5210000000018,-1438.4010000000019,-1440.1650000000018,-1441.5870000000018,-1443.2630000000017,-1444.8190000000018,-1446.4770000000017,-1447.7810000000018,-1449.1130000000019,-1450.7970000000018,-1452.7570000000019,-1454.3360000000018,-1455.9890000000019,-1457.833000000002,-1459.370000000002,-1460.775000000002,-1462.217000000002,-1464.1150000000018,-1465.6260000000018,-1467.1980000000017,-1468.5110000000018,-1470.1180000000018,-1472.0530000000017,-1473.8610000000017,-1475.3580000000018,-1477.1610000000019,-1478.8000000000018,-1480.9050000000018,-1482.7680000000018,-1484.410000000002,-1486.1130000000019,-1487.621000000002,-1489.100000000002,-1490.763000000002,-1492.317000000002,-1493.993000000002,-1495.639000000002,-1497.004000000002,-1498.474000000002,-1500.270000000002,-1501.902000000002,-1503.5540000000021,-1505.1110000000022,-1506.499000000002,-1507.9490000000021,-1509.326000000002,-1510.8120000000022,-1512.172000000002,-1513.8710000000021,-1515.334000000002,-1516.578000000002,-1518.029000000002,-1519.307000000002,-1520.863000000002,-1522.020000000002,-1523.748000000002,-1525.017000000002,-1526.8430000000021,-1528.626000000002,-1530.1600000000021,-1531.9650000000022,-1533.5320000000022,-1535.1890000000021,-1536.6290000000022,-1538.3010000000022,-1539.8750000000023,-1541.5470000000023,-1542.9370000000024,-1544.5850000000023,-1546.3840000000023,-1548.2430000000022,-1549.9790000000023,-1551.2870000000023,-1552.8430000000023,-1554.8040000000024,-1556.1830000000023,-1558.2730000000022,-1560.017000000002,-1561.7060000000022,-1563.4520000000023,-1565.3100000000022,-1566.8010000000022,-1568.1080000000022,-1569.4490000000021,-1571.0250000000021,-1572.683000000002,-1574.269000000002,-1575.565000000002,-1577.2050000000022,-1578.4160000000022,-1579.9540000000022,-1581.5070000000023,-1583.0680000000023,-1584.8640000000023,-1586.2810000000022,-1587.8370000000023,-1589.2930000000022,-1591.1690000000021,-1592.431000000002,-1593.974000000002,-1595.725000000002,-1597.6330000000019,-1599.3200000000018,-1600.6710000000019,-1601.9620000000018,-1603.5850000000019,-1605.2120000000018,-1606.7280000000019,-1608.4320000000018,-1610.4140000000018],\"type\":\"scatter\"}],                        {\"template\":{\"data\":{\"bar\":[{\"error_x\":{\"color\":\"#2a3f5f\"},\"error_y\":{\"color\":\"#2a3f5f\"},\"marker\":{\"line\":{\"color\":\"#E5ECF6\",\"width\":0.5},\"pattern\":{\"fillmode\":\"overlay\",\"size\":10,\"solidity\":0.2}},\"type\":\"bar\"}],\"barpolar\":[{\"marker\":{\"line\":{\"color\":\"#E5ECF6\",\"width\":0.5},\"pattern\":{\"fillmode\":\"overlay\",\"size\":10,\"solidity\":0.2}},\"type\":\"barpolar\"}],\"carpet\":[{\"aaxis\":{\"endlinecolor\":\"#2a3f5f\",\"gridcolor\":\"white\",\"linecolor\":\"white\",\"minorgridcolor\":\"white\",\"startlinecolor\":\"#2a3f5f\"},\"baxis\":{\"endlinecolor\":\"#2a3f5f\",\"gridcolor\":\"white\",\"linecolor\":\"white\",\"minorgridcolor\":\"white\",\"startlinecolor\":\"#2a3f5f\"},\"type\":\"carpet\"}],\"choropleth\":[{\"colorbar\":{\"outlinewidth\":0,\"ticks\":\"\"},\"type\":\"choropleth\"}],\"contour\":[{\"colorbar\":{\"outlinewidth\":0,\"ticks\":\"\"},\"colorscale\":[[0.0,\"#0d0887\"],[0.1111111111111111,\"#46039f\"],[0.2222222222222222,\"#7201a8\"],[0.3333333333333333,\"#9c179e\"],[0.4444444444444444,\"#bd3786\"],[0.5555555555555556,\"#d8576b\"],[0.6666666666666666,\"#ed7953\"],[0.7777777777777778,\"#fb9f3a\"],[0.8888888888888888,\"#fdca26\"],[1.0,\"#f0f921\"]],\"type\":\"contour\"}],\"contourcarpet\":[{\"colorbar\":{\"outlinewidth\":0,\"ticks\":\"\"},\"type\":\"contourcarpet\"}],\"heatmap\":[{\"colorbar\":{\"outlinewidth\":0,\"ticks\":\"\"},\"colorscale\":[[0.0,\"#0d0887\"],[0.1111111111111111,\"#46039f\"],[0.2222222222222222,\"#7201a8\"],[0.3333333333333333,\"#9c179e\"],[0.4444444444444444,\"#bd3786\"],[0.5555555555555556,\"#d8576b\"],[0.6666666666666666,\"#ed7953\"],[0.7777777777777778,\"#fb9f3a\"],[0.8888888888888888,\"#fdca26\"],[1.0,\"#f0f921\"]],\"type\":\"heatmap\"}],\"heatmapgl\":[{\"colorbar\":{\"outlinewidth\":0,\"ticks\":\"\"},\"colorscale\":[[0.0,\"#0d0887\"],[0.1111111111111111,\"#46039f\"],[0.2222222222222222,\"#7201a8\"],[0.3333333333333333,\"#9c179e\"],[0.4444444444444444,\"#bd3786\"],[0.5555555555555556,\"#d8576b\"],[0.6666666666666666,\"#ed7953\"],[0.7777777777777778,\"#fb9f3a\"],[0.8888888888888888,\"#fdca26\"],[1.0,\"#f0f921\"]],\"type\":\"heatmapgl\"}],\"histogram\":[{\"marker\":{\"pattern\":{\"fillmode\":\"overlay\",\"size\":10,\"solidity\":0.2}},\"type\":\"histogram\"}],\"histogram2d\":[{\"colorbar\":{\"outlinewidth\":0,\"ticks\":\"\"},\"colorscale\":[[0.0,\"#0d0887\"],[0.1111111111111111,\"#46039f\"],[0.2222222222222222,\"#7201a8\"],[0.3333333333333333,\"#9c179e\"],[0.4444444444444444,\"#bd3786\"],[0.5555555555555556,\"#d8576b\"],[0.6666666666666666,\"#ed7953\"],[0.7777777777777778,\"#fb9f3a\"],[0.8888888888888888,\"#fdca26\"],[1.0,\"#f0f921\"]],\"type\":\"histogram2d\"}],\"histogram2dcontour\":[{\"colorbar\":{\"outlinewidth\":0,\"ticks\":\"\"},\"colorscale\":[[0.0,\"#0d0887\"],[0.1111111111111111,\"#46039f\"],[0.2222222222222222,\"#7201a8\"],[0.3333333333333333,\"#9c179e\"],[0.4444444444444444,\"#bd3786\"],[0.5555555555555556,\"#d8576b\"],[0.6666666666666666,\"#ed7953\"],[0.7777777777777778,\"#fb9f3a\"],[0.8888888888888888,\"#fdca26\"],[1.0,\"#f0f921\"]],\"type\":\"histogram2dcontour\"}],\"mesh3d\":[{\"colorbar\":{\"outlinewidth\":0,\"ticks\":\"\"},\"type\":\"mesh3d\"}],\"parcoords\":[{\"line\":{\"colorbar\":{\"outlinewidth\":0,\"ticks\":\"\"}},\"type\":\"parcoords\"}],\"pie\":[{\"automargin\":true,\"type\":\"pie\"}],\"scatter\":[{\"marker\":{\"colorbar\":{\"outlinewidth\":0,\"ticks\":\"\"}},\"type\":\"scatter\"}],\"scatter3d\":[{\"line\":{\"colorbar\":{\"outlinewidth\":0,\"ticks\":\"\"}},\"marker\":{\"colorbar\":{\"outlinewidth\":0,\"ticks\":\"\"}},\"type\":\"scatter3d\"}],\"scattercarpet\":[{\"marker\":{\"colorbar\":{\"outlinewidth\":0,\"ticks\":\"\"}},\"type\":\"scattercarpet\"}],\"scattergeo\":[{\"marker\":{\"colorbar\":{\"outlinewidth\":0,\"ticks\":\"\"}},\"type\":\"scattergeo\"}],\"scattergl\":[{\"marker\":{\"colorbar\":{\"outlinewidth\":0,\"ticks\":\"\"}},\"type\":\"scattergl\"}],\"scattermapbox\":[{\"marker\":{\"colorbar\":{\"outlinewidth\":0,\"ticks\":\"\"}},\"type\":\"scattermapbox\"}],\"scatterpolar\":[{\"marker\":{\"colorbar\":{\"outlinewidth\":0,\"ticks\":\"\"}},\"type\":\"scatterpolar\"}],\"scatterpolargl\":[{\"marker\":{\"colorbar\":{\"outlinewidth\":0,\"ticks\":\"\"}},\"type\":\"scatterpolargl\"}],\"scatterternary\":[{\"marker\":{\"colorbar\":{\"outlinewidth\":0,\"ticks\":\"\"}},\"type\":\"scatterternary\"}],\"surface\":[{\"colorbar\":{\"outlinewidth\":0,\"ticks\":\"\"},\"colorscale\":[[0.0,\"#0d0887\"],[0.1111111111111111,\"#46039f\"],[0.2222222222222222,\"#7201a8\"],[0.3333333333333333,\"#9c179e\"],[0.4444444444444444,\"#bd3786\"],[0.5555555555555556,\"#d8576b\"],[0.6666666666666666,\"#ed7953\"],[0.7777777777777778,\"#fb9f3a\"],[0.8888888888888888,\"#fdca26\"],[1.0,\"#f0f921\"]],\"type\":\"surface\"}],\"table\":[{\"cells\":{\"fill\":{\"color\":\"#EBF0F8\"},\"line\":{\"color\":\"white\"}},\"header\":{\"fill\":{\"color\":\"#C8D4E3\"},\"line\":{\"color\":\"white\"}},\"type\":\"table\"}]},\"layout\":{\"annotationdefaults\":{\"arrowcolor\":\"#2a3f5f\",\"arrowhead\":0,\"arrowwidth\":1},\"autotypenumbers\":\"strict\",\"coloraxis\":{\"colorbar\":{\"outlinewidth\":0,\"ticks\":\"\"}},\"colorscale\":{\"diverging\":[[0,\"#8e0152\"],[0.1,\"#c51b7d\"],[0.2,\"#de77ae\"],[0.3,\"#f1b6da\"],[0.4,\"#fde0ef\"],[0.5,\"#f7f7f7\"],[0.6,\"#e6f5d0\"],[0.7,\"#b8e186\"],[0.8,\"#7fbc41\"],[0.9,\"#4d9221\"],[1,\"#276419\"]],\"sequential\":[[0.0,\"#0d0887\"],[0.1111111111111111,\"#46039f\"],[0.2222222222222222,\"#7201a8\"],[0.3333333333333333,\"#9c179e\"],[0.4444444444444444,\"#bd3786\"],[0.5555555555555556,\"#d8576b\"],[0.6666666666666666,\"#ed7953\"],[0.7777777777777778,\"#fb9f3a\"],[0.8888888888888888,\"#fdca26\"],[1.0,\"#f0f921\"]],\"sequentialminus\":[[0.0,\"#0d0887\"],[0.1111111111111111,\"#46039f\"],[0.2222222222222222,\"#7201a8\"],[0.3333333333333333,\"#9c179e\"],[0.4444444444444444,\"#bd3786\"],[0.5555555555555556,\"#d8576b\"],[0.6666666666666666,\"#ed7953\"],[0.7777777777777778,\"#fb9f3a\"],[0.8888888888888888,\"#fdca26\"],[1.0,\"#f0f921\"]]},\"colorway\":[\"#636efa\",\"#EF553B\",\"#00cc96\",\"#ab63fa\",\"#FFA15A\",\"#19d3f3\",\"#FF6692\",\"#B6E880\",\"#FF97FF\",\"#FECB52\"],\"font\":{\"color\":\"#2a3f5f\"},\"geo\":{\"bgcolor\":\"white\",\"lakecolor\":\"white\",\"landcolor\":\"#E5ECF6\",\"showlakes\":true,\"showland\":true,\"subunitcolor\":\"white\"},\"hoverlabel\":{\"align\":\"left\"},\"hovermode\":\"closest\",\"mapbox\":{\"style\":\"light\"},\"paper_bgcolor\":\"white\",\"plot_bgcolor\":\"#E5ECF6\",\"polar\":{\"angularaxis\":{\"gridcolor\":\"white\",\"linecolor\":\"white\",\"ticks\":\"\"},\"bgcolor\":\"#E5ECF6\",\"radialaxis\":{\"gridcolor\":\"white\",\"linecolor\":\"white\",\"ticks\":\"\"}},\"scene\":{\"xaxis\":{\"backgroundcolor\":\"#E5ECF6\",\"gridcolor\":\"white\",\"gridwidth\":2,\"linecolor\":\"white\",\"showbackground\":true,\"ticks\":\"\",\"zerolinecolor\":\"white\"},\"yaxis\":{\"backgroundcolor\":\"#E5ECF6\",\"gridcolor\":\"white\",\"gridwidth\":2,\"linecolor\":\"white\",\"showbackground\":true,\"ticks\":\"\",\"zerolinecolor\":\"white\"},\"zaxis\":{\"backgroundcolor\":\"#E5ECF6\",\"gridcolor\":\"white\",\"gridwidth\":2,\"linecolor\":\"white\",\"showbackground\":true,\"ticks\":\"\",\"zerolinecolor\":\"white\"}},\"shapedefaults\":{\"line\":{\"color\":\"#2a3f5f\"}},\"ternary\":{\"aaxis\":{\"gridcolor\":\"white\",\"linecolor\":\"white\",\"ticks\":\"\"},\"baxis\":{\"gridcolor\":\"white\",\"linecolor\":\"white\",\"ticks\":\"\"},\"bgcolor\":\"#E5ECF6\",\"caxis\":{\"gridcolor\":\"white\",\"linecolor\":\"white\",\"ticks\":\"\"}},\"title\":{\"x\":0.05},\"xaxis\":{\"automargin\":true,\"gridcolor\":\"white\",\"linecolor\":\"white\",\"ticks\":\"\",\"title\":{\"standoff\":15},\"zerolinecolor\":\"white\",\"zerolinewidth\":2},\"yaxis\":{\"automargin\":true,\"gridcolor\":\"white\",\"linecolor\":\"white\",\"ticks\":\"\",\"title\":{\"standoff\":15},\"zerolinecolor\":\"white\",\"zerolinewidth\":2}}},\"font\":{\"family\":\"Courier New, monospace\",\"color\":\"RebeccaPurple\"},\"title\":{\"text\":\"Sum of reward for each episode(averaged with each 10 episodes) ACUMULATED\"},\"xaxis\":{\"title\":{\"text\":\"Number of episodes(averaged with each 10 episodes)\"}},\"yaxis\":{\"title\":{\"text\":\"Sum of rewards during episode\"}},\"legend\":{\"title\":{\"text\":\"Legend Title\"}}},                        {\"responsive\": true}                    ).then(function(){\n",
              "                            \n",
              "var gd = document.getElementById('65bd42b0-3df0-4f62-bf93-fa16aa092314');\n",
              "var x = new MutationObserver(function (mutations, observer) {{\n",
              "        var display = window.getComputedStyle(gd).display;\n",
              "        if (!display || display === 'none') {{\n",
              "            console.log([gd, 'removed!']);\n",
              "            Plotly.purge(gd);\n",
              "            observer.disconnect();\n",
              "        }}\n",
              "}});\n",
              "\n",
              "// Listen for the removal of the full notebook cells\n",
              "var notebookContainer = gd.closest('#notebook-container');\n",
              "if (notebookContainer) {{\n",
              "    x.observe(notebookContainer, {childList: true});\n",
              "}}\n",
              "\n",
              "// Listen for the clearing of the current output cell\n",
              "var outputEl = gd.closest('.output');\n",
              "if (outputEl) {{\n",
              "    x.observe(outputEl, {childList: true});\n",
              "}}\n",
              "\n",
              "                        })                };                            </script>        </div>\n",
              "</body>\n",
              "</html>"
            ]
          },
          "metadata": {}
        }
      ]
    },
    {
      "cell_type": "markdown",
      "source": [
        "Promediamos ahora con 50 episodios, por ser un laberinto mucho más grande sobre el que hemos hecho 100k épocas:"
      ],
      "metadata": {
        "id": "fJYX7HM_Sd7A"
      }
    },
    {
      "cell_type": "code",
      "source": [
        "plot_performance(rewards_w4_sarsa, rewards_w4_ql,size = 10000,mean_each_n = 50)"
      ],
      "metadata": {
        "colab": {
          "base_uri": "https://localhost:8080/",
          "height": 542
        },
        "id": "GozNfD78LmUm",
        "outputId": "846fca4f-7aa3-4a5d-f4ed-ba9c25dbb0b8"
      },
      "execution_count": 56,
      "outputs": [
        {
          "output_type": "display_data",
          "data": {
            "text/html": [
              "<html>\n",
              "<head><meta charset=\"utf-8\" /></head>\n",
              "<body>\n",
              "    <div>            <script src=\"https://cdnjs.cloudflare.com/ajax/libs/mathjax/2.7.5/MathJax.js?config=TeX-AMS-MML_SVG\"></script><script type=\"text/javascript\">if (window.MathJax) {MathJax.Hub.Config({SVG: {font: \"STIX-Web\"}});}</script>                <script type=\"text/javascript\">window.PlotlyConfig = {MathJaxConfig: 'local'};</script>\n",
              "        <script src=\"https://cdn.plot.ly/plotly-2.8.3.min.js\"></script>                <div id=\"dc16fb2c-81b4-43e8-badf-a3ebf37cbd47\" class=\"plotly-graph-div\" style=\"height:525px; width:100%;\"></div>            <script type=\"text/javascript\">                                    window.PLOTLYENV=window.PLOTLYENV || {};                                    if (document.getElementById(\"dc16fb2c-81b4-43e8-badf-a3ebf37cbd47\")) {                    Plotly.newPlot(                        \"dc16fb2c-81b4-43e8-badf-a3ebf37cbd47\",                        [{\"mode\":\"lines+markers\",\"name\":\"SARSA\",\"x\":[0,1,2,3,4,5,6,7,8,9,10,11,12,13,14,15,16,17,18,19,20,21,22,23,24,25,26,27,28,29,30,31,32,33,34,35,36,37,38,39,40,41,42,43,44,45,46,47,48,49,50,51,52,53,54,55,56,57,58,59,60,61,62,63,64,65,66,67,68,69,70,71,72,73,74,75,76,77,78,79,80,81,82,83,84,85,86,87,88,89,90,91,92,93,94,95,96,97,98,99,100,101,102,103,104,105,106,107,108,109,110,111,112,113,114,115,116,117,118,119,120,121,122,123,124,125,126,127,128,129,130,131,132,133,134,135,136,137,138,139,140,141,142,143,144,145,146,147,148,149,150,151,152,153,154,155,156,157,158,159,160,161,162,163,164,165,166,167,168,169,170,171,172,173,174,175,176,177,178,179,180,181,182,183,184,185,186,187,188,189,190,191,192,193,194,195,196,197,198,199],\"y\":[-2.4908,-3.2656,-3.0876,-3.554,-3.3812,-3.142,-3.6628,-3.2116000000000002,-2.5572,-3.2336,-3.2384,-3.4324,-3.5864,-2.7876,-2.63,-3.3676,-3.5136000000000003,-2.9328,-3.4183999999999997,-3.4156,-2.7843999999999998,-3.2308,-3.1732,-2.6052,-3.6308,-2.7076,-3.0548,-3.2616,-3.3204000000000002,-2.7272000000000003,-3.4568,-2.94,-3.542,-3.0432,-2.8312,-3.41,-3.6036,-3.048,-3.0864,-3.3931999999999998,-3.846,-3.4624,-3.7848,-3.3604000000000003,-3.592,-3.3996,-3.2760000000000002,-3.432,-3.35,-3.5027999999999997,-3.4636,-3.2936,-3.2760000000000002,-3.52,-3.2892,-2.92,-3.8156,-3.596,-3.13,-3.7204,-3.6492,-3.0372000000000003,-2.9,-3.3444,-3.7492,-3.3788,-3.158,-3.3292,-3.0052,-3.0608,-3.0532,-2.9619999999999997,-3.1724,-2.8244,-3.1008,-2.8548,-3.6592000000000002,-3.3983999999999996,-3.2883999999999998,-3.1264,-3.3848000000000003,-3.1604,-3.0164,-3.0692000000000004,-3.3812,-2.6512000000000002,-2.7804,-3.2132,-3.218,-3.3024,-2.8148,-3.0164,-3.2212,-3.3383999999999996,-2.75,-3.0524,-3.0239999999999996,-2.9532,-3.718,-3.1372000000000004,-3.1127999999999996,-3.5776,-3.4192,-3.7288,-3.1832,-3.4268,-3.3824,-3.4244,-3.3724000000000003,-3.0551999999999997,-3.5532,-3.3256,-2.9092000000000002,-3.2168,-3.7544,-3.4648000000000003,-3.44,-3.0316,-3.262,-3.1228,-3.032,-3.0976,-3.6524,-2.9212000000000002,-2.852,-3.0084,-3.406,-3.5116,-3.076,-2.8624,-3.6212,-3.5912,-3.0348,-2.9148,-3.4608,-3.4452,-3.8731999999999998,-2.8284,-3.1672000000000002,-3.2004,-3.0632,-2.6936,-2.8376,-2.8627999999999996,-3.5188,-3.1604,-3.3064,-2.924,-3.4276,-3.5276,-3.3316000000000003,-3.5664,-3.3716000000000004,-3.3412,-3.3819999999999997,-3.2407999999999997,-3.042,-3.5404,-3.528,-3.2992000000000004,-3.5088,-2.78,-3.092,-3.0256,-3.458,-3.088,-2.9388,-2.7768,-3.3848000000000003,-2.9788,-3.4295999999999998,-3.4016,-3.2,-3.0848,-2.6332,-2.5951999999999997,-3.2468,-2.998,-3.3544,-3.0136000000000003,-3.4292000000000002,-3.1312,-3.264,-3.6208,-3.1628,-3.1812,-3.0716,-2.9539999999999997,-2.6744,-3.2560000000000002,-3.2563999999999997,-3.2332,-3.3680000000000003,-3.4592,-3.0292000000000003,-2.9564,-3.1460000000000004,-3.0772000000000004,-3.1952,-3.3808],\"type\":\"scatter\"},{\"mode\":\"lines+markers\",\"name\":\"Q-Learning\",\"x\":[0,1,2,3,4,5,6,7,8,9,10,11,12,13,14,15,16,17,18,19,20,21,22,23,24,25,26,27,28,29,30,31,32,33,34,35,36,37,38,39,40,41,42,43,44,45,46,47,48,49,50,51,52,53,54,55,56,57,58,59,60,61,62,63,64,65,66,67,68,69,70,71,72,73,74,75,76,77,78,79,80,81,82,83,84,85,86,87,88,89,90,91,92,93,94,95,96,97,98,99,100,101,102,103,104,105,106,107,108,109,110,111,112,113,114,115,116,117,118,119,120,121,122,123,124,125,126,127,128,129,130,131,132,133,134,135,136,137,138,139,140,141,142,143,144,145,146,147,148,149,150,151,152,153,154,155,156,157,158,159,160,161,162,163,164,165,166,167,168,169,170,171,172,173,174,175,176,177,178,179,180,181,182,183,184,185,186,187,188,189,190,191,192,193,194,195,196,197,198,199],\"y\":[-0.049816,-0.065312,-0.061752,-0.07107999999999999,-0.067624,-0.06284,-0.073256,-0.06423200000000001,-0.051143999999999995,-0.06467200000000001,-0.06476799999999999,-0.068648,-0.071728,-0.055751999999999996,-0.0526,-0.067352,-0.070272,-0.058656,-0.068368,-0.068312,-0.055687999999999994,-0.06461599999999999,-0.063464,-0.052104,-0.072616,-0.054152,-0.061096000000000004,-0.065232,-0.06640800000000001,-0.05454400000000001,-0.069136,-0.0588,-0.07084,-0.060864,-0.056624,-0.0682,-0.072072,-0.06096,-0.061728,-0.067864,-0.07692,-0.069248,-0.075696,-0.067208,-0.07184,-0.067992,-0.06552000000000001,-0.06863999999999999,-0.067,-0.070056,-0.069272,-0.065872,-0.06552000000000001,-0.0704,-0.06578400000000001,-0.0584,-0.07631199999999999,-0.07192,-0.0626,-0.074408,-0.072984,-0.060744000000000006,-0.057999999999999996,-0.066888,-0.074984,-0.067576,-0.06316,-0.066584,-0.060104,-0.061216,-0.061064,-0.059239999999999994,-0.063448,-0.056488,-0.062016,-0.057096,-0.073184,-0.06796799999999999,-0.065768,-0.062528,-0.067696,-0.063208,-0.060328,-0.06138400000000001,-0.067624,-0.053024,-0.055608000000000005,-0.064264,-0.06436,-0.066048,-0.056296,-0.060328,-0.064424,-0.066768,-0.055,-0.061048,-0.06047999999999999,-0.059064,-0.07436,-0.06274400000000001,-0.06225599999999999,-0.071552,-0.068384,-0.074576,-0.063664,-0.068536,-0.067648,-0.068488,-0.06744800000000001,-0.06110399999999999,-0.071064,-0.066512,-0.05818400000000001,-0.064336,-0.075088,-0.06929600000000001,-0.0688,-0.060632,-0.06524,-0.062456,-0.06064,-0.061952,-0.073048,-0.058424000000000004,-0.05704,-0.060168,-0.06812,-0.070232,-0.06152,-0.057248,-0.072424,-0.071824,-0.060696,-0.058296,-0.069216,-0.06890399999999999,-0.07746399999999999,-0.05656799999999999,-0.06334400000000001,-0.06400800000000001,-0.061264000000000006,-0.053872,-0.056752000000000004,-0.057255999999999994,-0.07037600000000001,-0.063208,-0.066128,-0.05848,-0.068552,-0.070552,-0.06663200000000001,-0.071328,-0.067432,-0.06682400000000001,-0.06763999999999999,-0.064816,-0.06084,-0.070808,-0.07056,-0.065984,-0.070176,-0.0556,-0.06184,-0.060511999999999996,-0.06916,-0.06176,-0.058776,-0.055536,-0.067696,-0.059576000000000004,-0.068592,-0.06803200000000001,-0.064,-0.061696,-0.052664,-0.05190399999999999,-0.064936,-0.059960000000000006,-0.067088,-0.060272000000000006,-0.068584,-0.062624,-0.06527999999999999,-0.072416,-0.06325599999999999,-0.063624,-0.061432,-0.059079999999999994,-0.053488,-0.06512000000000001,-0.06512799999999999,-0.064664,-0.06736,-0.069184,-0.060584000000000006,-0.059128,-0.06292,-0.06154400000000001,-0.063904,-0.067616],\"type\":\"scatter\"}],                        {\"template\":{\"data\":{\"bar\":[{\"error_x\":{\"color\":\"#2a3f5f\"},\"error_y\":{\"color\":\"#2a3f5f\"},\"marker\":{\"line\":{\"color\":\"#E5ECF6\",\"width\":0.5},\"pattern\":{\"fillmode\":\"overlay\",\"size\":10,\"solidity\":0.2}},\"type\":\"bar\"}],\"barpolar\":[{\"marker\":{\"line\":{\"color\":\"#E5ECF6\",\"width\":0.5},\"pattern\":{\"fillmode\":\"overlay\",\"size\":10,\"solidity\":0.2}},\"type\":\"barpolar\"}],\"carpet\":[{\"aaxis\":{\"endlinecolor\":\"#2a3f5f\",\"gridcolor\":\"white\",\"linecolor\":\"white\",\"minorgridcolor\":\"white\",\"startlinecolor\":\"#2a3f5f\"},\"baxis\":{\"endlinecolor\":\"#2a3f5f\",\"gridcolor\":\"white\",\"linecolor\":\"white\",\"minorgridcolor\":\"white\",\"startlinecolor\":\"#2a3f5f\"},\"type\":\"carpet\"}],\"choropleth\":[{\"colorbar\":{\"outlinewidth\":0,\"ticks\":\"\"},\"type\":\"choropleth\"}],\"contour\":[{\"colorbar\":{\"outlinewidth\":0,\"ticks\":\"\"},\"colorscale\":[[0.0,\"#0d0887\"],[0.1111111111111111,\"#46039f\"],[0.2222222222222222,\"#7201a8\"],[0.3333333333333333,\"#9c179e\"],[0.4444444444444444,\"#bd3786\"],[0.5555555555555556,\"#d8576b\"],[0.6666666666666666,\"#ed7953\"],[0.7777777777777778,\"#fb9f3a\"],[0.8888888888888888,\"#fdca26\"],[1.0,\"#f0f921\"]],\"type\":\"contour\"}],\"contourcarpet\":[{\"colorbar\":{\"outlinewidth\":0,\"ticks\":\"\"},\"type\":\"contourcarpet\"}],\"heatmap\":[{\"colorbar\":{\"outlinewidth\":0,\"ticks\":\"\"},\"colorscale\":[[0.0,\"#0d0887\"],[0.1111111111111111,\"#46039f\"],[0.2222222222222222,\"#7201a8\"],[0.3333333333333333,\"#9c179e\"],[0.4444444444444444,\"#bd3786\"],[0.5555555555555556,\"#d8576b\"],[0.6666666666666666,\"#ed7953\"],[0.7777777777777778,\"#fb9f3a\"],[0.8888888888888888,\"#fdca26\"],[1.0,\"#f0f921\"]],\"type\":\"heatmap\"}],\"heatmapgl\":[{\"colorbar\":{\"outlinewidth\":0,\"ticks\":\"\"},\"colorscale\":[[0.0,\"#0d0887\"],[0.1111111111111111,\"#46039f\"],[0.2222222222222222,\"#7201a8\"],[0.3333333333333333,\"#9c179e\"],[0.4444444444444444,\"#bd3786\"],[0.5555555555555556,\"#d8576b\"],[0.6666666666666666,\"#ed7953\"],[0.7777777777777778,\"#fb9f3a\"],[0.8888888888888888,\"#fdca26\"],[1.0,\"#f0f921\"]],\"type\":\"heatmapgl\"}],\"histogram\":[{\"marker\":{\"pattern\":{\"fillmode\":\"overlay\",\"size\":10,\"solidity\":0.2}},\"type\":\"histogram\"}],\"histogram2d\":[{\"colorbar\":{\"outlinewidth\":0,\"ticks\":\"\"},\"colorscale\":[[0.0,\"#0d0887\"],[0.1111111111111111,\"#46039f\"],[0.2222222222222222,\"#7201a8\"],[0.3333333333333333,\"#9c179e\"],[0.4444444444444444,\"#bd3786\"],[0.5555555555555556,\"#d8576b\"],[0.6666666666666666,\"#ed7953\"],[0.7777777777777778,\"#fb9f3a\"],[0.8888888888888888,\"#fdca26\"],[1.0,\"#f0f921\"]],\"type\":\"histogram2d\"}],\"histogram2dcontour\":[{\"colorbar\":{\"outlinewidth\":0,\"ticks\":\"\"},\"colorscale\":[[0.0,\"#0d0887\"],[0.1111111111111111,\"#46039f\"],[0.2222222222222222,\"#7201a8\"],[0.3333333333333333,\"#9c179e\"],[0.4444444444444444,\"#bd3786\"],[0.5555555555555556,\"#d8576b\"],[0.6666666666666666,\"#ed7953\"],[0.7777777777777778,\"#fb9f3a\"],[0.8888888888888888,\"#fdca26\"],[1.0,\"#f0f921\"]],\"type\":\"histogram2dcontour\"}],\"mesh3d\":[{\"colorbar\":{\"outlinewidth\":0,\"ticks\":\"\"},\"type\":\"mesh3d\"}],\"parcoords\":[{\"line\":{\"colorbar\":{\"outlinewidth\":0,\"ticks\":\"\"}},\"type\":\"parcoords\"}],\"pie\":[{\"automargin\":true,\"type\":\"pie\"}],\"scatter\":[{\"marker\":{\"colorbar\":{\"outlinewidth\":0,\"ticks\":\"\"}},\"type\":\"scatter\"}],\"scatter3d\":[{\"line\":{\"colorbar\":{\"outlinewidth\":0,\"ticks\":\"\"}},\"marker\":{\"colorbar\":{\"outlinewidth\":0,\"ticks\":\"\"}},\"type\":\"scatter3d\"}],\"scattercarpet\":[{\"marker\":{\"colorbar\":{\"outlinewidth\":0,\"ticks\":\"\"}},\"type\":\"scattercarpet\"}],\"scattergeo\":[{\"marker\":{\"colorbar\":{\"outlinewidth\":0,\"ticks\":\"\"}},\"type\":\"scattergeo\"}],\"scattergl\":[{\"marker\":{\"colorbar\":{\"outlinewidth\":0,\"ticks\":\"\"}},\"type\":\"scattergl\"}],\"scattermapbox\":[{\"marker\":{\"colorbar\":{\"outlinewidth\":0,\"ticks\":\"\"}},\"type\":\"scattermapbox\"}],\"scatterpolar\":[{\"marker\":{\"colorbar\":{\"outlinewidth\":0,\"ticks\":\"\"}},\"type\":\"scatterpolar\"}],\"scatterpolargl\":[{\"marker\":{\"colorbar\":{\"outlinewidth\":0,\"ticks\":\"\"}},\"type\":\"scatterpolargl\"}],\"scatterternary\":[{\"marker\":{\"colorbar\":{\"outlinewidth\":0,\"ticks\":\"\"}},\"type\":\"scatterternary\"}],\"surface\":[{\"colorbar\":{\"outlinewidth\":0,\"ticks\":\"\"},\"colorscale\":[[0.0,\"#0d0887\"],[0.1111111111111111,\"#46039f\"],[0.2222222222222222,\"#7201a8\"],[0.3333333333333333,\"#9c179e\"],[0.4444444444444444,\"#bd3786\"],[0.5555555555555556,\"#d8576b\"],[0.6666666666666666,\"#ed7953\"],[0.7777777777777778,\"#fb9f3a\"],[0.8888888888888888,\"#fdca26\"],[1.0,\"#f0f921\"]],\"type\":\"surface\"}],\"table\":[{\"cells\":{\"fill\":{\"color\":\"#EBF0F8\"},\"line\":{\"color\":\"white\"}},\"header\":{\"fill\":{\"color\":\"#C8D4E3\"},\"line\":{\"color\":\"white\"}},\"type\":\"table\"}]},\"layout\":{\"annotationdefaults\":{\"arrowcolor\":\"#2a3f5f\",\"arrowhead\":0,\"arrowwidth\":1},\"autotypenumbers\":\"strict\",\"coloraxis\":{\"colorbar\":{\"outlinewidth\":0,\"ticks\":\"\"}},\"colorscale\":{\"diverging\":[[0,\"#8e0152\"],[0.1,\"#c51b7d\"],[0.2,\"#de77ae\"],[0.3,\"#f1b6da\"],[0.4,\"#fde0ef\"],[0.5,\"#f7f7f7\"],[0.6,\"#e6f5d0\"],[0.7,\"#b8e186\"],[0.8,\"#7fbc41\"],[0.9,\"#4d9221\"],[1,\"#276419\"]],\"sequential\":[[0.0,\"#0d0887\"],[0.1111111111111111,\"#46039f\"],[0.2222222222222222,\"#7201a8\"],[0.3333333333333333,\"#9c179e\"],[0.4444444444444444,\"#bd3786\"],[0.5555555555555556,\"#d8576b\"],[0.6666666666666666,\"#ed7953\"],[0.7777777777777778,\"#fb9f3a\"],[0.8888888888888888,\"#fdca26\"],[1.0,\"#f0f921\"]],\"sequentialminus\":[[0.0,\"#0d0887\"],[0.1111111111111111,\"#46039f\"],[0.2222222222222222,\"#7201a8\"],[0.3333333333333333,\"#9c179e\"],[0.4444444444444444,\"#bd3786\"],[0.5555555555555556,\"#d8576b\"],[0.6666666666666666,\"#ed7953\"],[0.7777777777777778,\"#fb9f3a\"],[0.8888888888888888,\"#fdca26\"],[1.0,\"#f0f921\"]]},\"colorway\":[\"#636efa\",\"#EF553B\",\"#00cc96\",\"#ab63fa\",\"#FFA15A\",\"#19d3f3\",\"#FF6692\",\"#B6E880\",\"#FF97FF\",\"#FECB52\"],\"font\":{\"color\":\"#2a3f5f\"},\"geo\":{\"bgcolor\":\"white\",\"lakecolor\":\"white\",\"landcolor\":\"#E5ECF6\",\"showlakes\":true,\"showland\":true,\"subunitcolor\":\"white\"},\"hoverlabel\":{\"align\":\"left\"},\"hovermode\":\"closest\",\"mapbox\":{\"style\":\"light\"},\"paper_bgcolor\":\"white\",\"plot_bgcolor\":\"#E5ECF6\",\"polar\":{\"angularaxis\":{\"gridcolor\":\"white\",\"linecolor\":\"white\",\"ticks\":\"\"},\"bgcolor\":\"#E5ECF6\",\"radialaxis\":{\"gridcolor\":\"white\",\"linecolor\":\"white\",\"ticks\":\"\"}},\"scene\":{\"xaxis\":{\"backgroundcolor\":\"#E5ECF6\",\"gridcolor\":\"white\",\"gridwidth\":2,\"linecolor\":\"white\",\"showbackground\":true,\"ticks\":\"\",\"zerolinecolor\":\"white\"},\"yaxis\":{\"backgroundcolor\":\"#E5ECF6\",\"gridcolor\":\"white\",\"gridwidth\":2,\"linecolor\":\"white\",\"showbackground\":true,\"ticks\":\"\",\"zerolinecolor\":\"white\"},\"zaxis\":{\"backgroundcolor\":\"#E5ECF6\",\"gridcolor\":\"white\",\"gridwidth\":2,\"linecolor\":\"white\",\"showbackground\":true,\"ticks\":\"\",\"zerolinecolor\":\"white\"}},\"shapedefaults\":{\"line\":{\"color\":\"#2a3f5f\"}},\"ternary\":{\"aaxis\":{\"gridcolor\":\"white\",\"linecolor\":\"white\",\"ticks\":\"\"},\"baxis\":{\"gridcolor\":\"white\",\"linecolor\":\"white\",\"ticks\":\"\"},\"bgcolor\":\"#E5ECF6\",\"caxis\":{\"gridcolor\":\"white\",\"linecolor\":\"white\",\"ticks\":\"\"}},\"title\":{\"x\":0.05},\"xaxis\":{\"automargin\":true,\"gridcolor\":\"white\",\"linecolor\":\"white\",\"ticks\":\"\",\"title\":{\"standoff\":15},\"zerolinecolor\":\"white\",\"zerolinewidth\":2},\"yaxis\":{\"automargin\":true,\"gridcolor\":\"white\",\"linecolor\":\"white\",\"ticks\":\"\",\"title\":{\"standoff\":15},\"zerolinecolor\":\"white\",\"zerolinewidth\":2}}},\"font\":{\"family\":\"Courier New, monospace\",\"color\":\"RebeccaPurple\"},\"title\":{\"text\":\"Sum of reward for each episode(averaged with each 50 episodes)\"},\"xaxis\":{\"title\":{\"text\":\"Number of episodes(averaged with each 50 episodes)\"}},\"yaxis\":{\"title\":{\"text\":\"Sum of rewards during episode\"}},\"legend\":{\"title\":{\"text\":\"Legend Title\"}}},                        {\"responsive\": true}                    ).then(function(){\n",
              "                            \n",
              "var gd = document.getElementById('dc16fb2c-81b4-43e8-badf-a3ebf37cbd47');\n",
              "var x = new MutationObserver(function (mutations, observer) {{\n",
              "        var display = window.getComputedStyle(gd).display;\n",
              "        if (!display || display === 'none') {{\n",
              "            console.log([gd, 'removed!']);\n",
              "            Plotly.purge(gd);\n",
              "            observer.disconnect();\n",
              "        }}\n",
              "}});\n",
              "\n",
              "// Listen for the removal of the full notebook cells\n",
              "var notebookContainer = gd.closest('#notebook-container');\n",
              "if (notebookContainer) {{\n",
              "    x.observe(notebookContainer, {childList: true});\n",
              "}}\n",
              "\n",
              "// Listen for the clearing of the current output cell\n",
              "var outputEl = gd.closest('.output');\n",
              "if (outputEl) {{\n",
              "    x.observe(outputEl, {childList: true});\n",
              "}}\n",
              "\n",
              "                        })                };                            </script>        </div>\n",
              "</body>\n",
              "</html>"
            ]
          },
          "metadata": {}
        }
      ]
    },
    {
      "cell_type": "markdown",
      "source": [
        "## **Análisis:**\n",
        "\n",
        "*SARSA* y *Q-Learning* son dos algoritmos muy parecidos, que se pueden aplicar en los mismos problemas y suelen encontrar soluciones similares. No obstante, los resultados de ambos algoritmos pueden diferir en ciertos problemas: por ejemplo, hay un problema llamado Cliffworld en el que SARSA encuentra soluciones más seguras y con menos valor, mientras que Q-Learning asume más riesgos y consigue más valor ([artículo interesante](https://medium.com/gradientcrescent/fundamentals-of-reinforcement-learning-navigating-cliffworld-with-sarsa-and-q-learning-cc3c36eb5830)).\n"
      ],
      "metadata": {
        "id": "ae2X-UNWURO-"
      }
    },
    {
      "cell_type": "markdown",
      "metadata": {
        "id": "zD_2_U4PDvPG"
      },
      "source": [
        "\n",
        "## **Ejercicio 3:**\n",
        "\n",
        "Analizad los resultados obtenidos por ambos algoritmos en los escenarios de prueba.\n",
        "\n",
        "**1.   Comentad el rendimiento que observáis en ambos algoritmos. ¿Qué problemas son capaces de resolver? ¿En cuáles no encuentran la solución óptima? ¿A qué se puede deber este comportamiento?**\n",
        "\n"
      ]
    },
    {
      "cell_type": "markdown",
      "source": [
        "Para comparar los rendimientos, **podemos comparar la suma de las recompensas por cada episodio, frente al incremento de número de episodios para cada algoritmo.**\n",
        "\n",
        "\n",
        "Q-Learning es mejor para este tipo de problemas, ya que es el único que ha conseguido resolver todos los tipos de laberintos. En cambio SARSA los laberintos medianos/grandes en los que haya que hacer muchos giros debido a los obstáculos, observamos que no es capaz de resolverlo, y se acaba atascando en algún punto, haciendo movimientos repetitivos. Ambos consiguen resolver los laberintos de manera óptima(siempre que los resuelven para los ejemplos probados).\n",
        "\n",
        "\n",
        "Esto es debido a que Q-Learning tiene un aprendizaje fuera de política: por lo tanto se asume que su política ya es óptima, ya que siempre escoge la acción que mayor valor le aporta. En cambio SARSA  debe evaluar las acciones disponibles en cada paso bajo la restricción de su probabilidad en la política actual. Es decir, con SARSA un agente utilizará la política primero para observar la probabilidad de tomar una acción, evaluará la recompensa de esa acción, y luego se comprometerá  con otra acción siguiente para actualizar el valor Q de su par estado-acción actual en consecuencia.\n"
      ],
      "metadata": {
        "id": "HnW80Rn5e5gq"
      }
    },
    {
      "cell_type": "markdown",
      "source": [
        "**2.   Comentad las diferencias entre los algoritmos en los diferentes escenarios: ¿Cuál resuelve más escenarios? ¿Cuál converge más rápido? ¿Cuál genera más valor?**\n",
        "\n",
        "Nota: Las siguientes variables pueden ser interesantes para valorar los resultados: Diferencia entre la política resultante y la política óptima, número de iteraciones necesarias para converger, retorno total del problema y retorno obtenido en cada episodio.\n",
        "\n",
        "\n",
        "Para los escenarios más grandes vemos como necesitamos más epocas: para el escenario 4 hemos utilizado 100k, mientras que para el resto nos ha bastado con 10k para que los algoritmos convergieran.\n",
        "\n",
        "Cabe destacar que para los **ejemplos en los que ambos algorimtos han coseguido resovler los laberintos,** ambos lo hacen en el **mismo número de pasos** y de manera** óptima**. Además, en estos casos, si observamos las gráficas de **rendimiento**, es decir, la suma de recompensas por episodio, observamos que el rendimiento de **SARSA siempre es mayor.** Esto es debido, a que SARSA suele dedicar más tiempo a **explorar con pasos subóptimos**, y por tanto, las recompensas positivas acaban sumando más. Aunque también las negativas, de ahí que su gráfica tenga muchos más picos.\n",
        "\n",
        "\n",
        "En cambio, en los **casos en los que SARSA no consigue resolver los laberintos:** World4 y World1m, vemos como su rendimiento está como es de esperar por debajo del de Q-Learning. Este comportamiento se puede ver además en la gráfica de **\"suma acumulada de recompensas\":** Mientras que cuando los algoritmos son capaces de resolver los laberintos, esta gráfica es creciente, para SARSA en estos dos mundos, **su linea es decreciente, indicando que no ha sido capaz de converger el algoritmo.** Como Q-Learning consigue resolverlos todos, todas sus gráficas aquí son crecientes.\n",
        "\n",
        "Es decir, mientras que la gráfica de **suma de recompesas por episodios** tiene una interpretabilidad equiparable al **\"rendimiento de los algoritmos\"**, la gráfica **\"suma acumulada de recompensas\",** tiene una interpretabilidad de **convergencia o no** de los algorimtos."
      ],
      "metadata": {
        "id": "yJkprmtNUCGq"
      }
    },
    {
      "cell_type": "markdown",
      "source": [
        "**3.   Comentad las diferencias cuando se aplica una mayor exploración ($\\epsilon$ más alto) y una mayor explotación ($\\epsilon$ más bajo). ¿Cuál converge más rápido? ¿Cuál obtiene más valor? ¿Qué estrategia piensas que podría usarse para explorar y explotar de forma más inteligente?**\n",
        "\n"
      ],
      "metadata": {
        "id": "cDI2c85pT_6O"
      }
    },
    {
      "cell_type": "markdown",
      "source": [
        "Un ϵ muy alto,en el que el algoritmo se dedique en prioridad a explorar, probablemente no garantice la convergencia del mismo, ya que tardará en encontrar una solución optima.\n",
        "\n",
        "En cambio si escogemos un ϵ muy bajo, la prioridad del algoritmo será demasiado codiciosa y tampoco convergerá en laberintos medianamente complicados, ya que probablemente entre en bucles entre casillas, debido a que se dedica básicamente a maximizar valores, y se olvida de explorar.\n",
        "\n",
        "La estrategia más inteligente resulta de dedicar la mayor parte del exfuerzo a explotar, y una pequeña fracción a explorar. **Es decir, un valor de ϵ pequeño**. Por ejemplo una valor de epsilon que nos ha ofrecido buen rendimiento es del 0.1, es decir, que dedique un 10% de las veces que decide tomar una acción a explorar el mapa, y el 90% restante a explotar y optimizar los valores. "
      ],
      "metadata": {
        "id": "fgyWSYLlWHve"
      }
    },
    {
      "cell_type": "markdown",
      "source": [
        "**4.   Comentad las diferencias cuando se varían otros parámetros como el número de episodios, el ratio de aprendizaje ($\\alpha$) o el factor de descuento ($\\gamma$). ¿Qué valores dan mejores resultados?**"
      ],
      "metadata": {
        "id": "pIMu89yBUHCf"
      }
    },
    {
      "cell_type": "markdown",
      "source": [
        "Variar el valor de los refuerzos, es otro hiperparámetro que ya describimos más arriba.\n",
        "\n",
        "Para el número de episodios es un valor que depende de la complejidad de cada problema. En nuestro caso la convergencia la hemos hecho en base a un número máximo de episodios, lo cual no ha obligado a tener que prefijar y probar distintos números de episodos hasta ver si los algoritmos conseguían o no resolver los laberintos(aunque este no era el único factor del que dependía la convergencia como explicábamos antes, ya que un numero más alto de episodios no hacía que SARSA convergiera en algunos laberintos). Para laberintos pequeños y medianos nos han valido con 10k episodios, para el World4 eran ya insuficientes. Bien es cierto que también depende del algoritmo, podemos verlo en las gráficas de convergencia: Q-Learning lo hace a los pocos episodios y se estabiliza muy rápidamente, mientras que la convergencias en SARSA es mucho más gradual.\n",
        "\n",
        "Para el ratio de aprendizaje un valor en torno al 0.5 nos ha arrojado un buen rendimiento. Si lo tomamos muy alto, aprenderán demasiado rápido los algoritmos y serán demasiado sensibles a los cambios, provocando un comportamiento errático. Valores muy pequeños en cambio provocarán que no se actualicen apenas los valores, lo que disparará el número necesario de épocas para que los algoritmos aprendan a resolver los laberintos, lo cual no parace la mejor de las opciones, si queremos una convergencia.\n",
        "\n",
        "Para el factor de descuento un valor alto (0.9 - 1 ) nos arroja un mejor rendimiento que valores más pequeños. Esto es debido, a que si tomamos un valor muy bajo, los algoritmos no tendrán mucho en cuenta el valor de los estados contiguos según las acciones tomadas, y eso es precisamente el lo que se busca aprender con las políticas basadas en valor.\n",
        "\n"
      ],
      "metadata": {
        "id": "Oq4PLAy_Xpsu"
      }
    }
  ]
}